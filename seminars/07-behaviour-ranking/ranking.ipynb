{
 "cells": [
  {
   "cell_type": "code",
   "execution_count": null,
   "metadata": {},
   "outputs": [],
   "source": [
    "from pyclick.click_models.SDBN import SDBN\n",
    "from pyclick.click_models.CTR import GCTR\n",
    "\n",
    "from session_storage import SessionStorage"
   ]
  },
  {
   "cell_type": "markdown",
   "metadata": {},
   "source": [
    "То, чем мы тут будем заниматься, называется переранжирование -- у нас, фактически, уже есть каким-то образом отранжированная выдача (из серпов сессий), а мы хотим только переупорядочить документы и посмотреть что из этого получился.\n",
    "\n",
    "Формирование таблички инкапсулировано в SessionStorage, тут мы будем производить лишь качественные действия"
   ]
  },
  {
   "cell_type": "code",
   "execution_count": null,
   "metadata": {},
   "outputs": [],
   "source": [
    "ya_storage = SessionStorage(\"./data/YandexRelPredChallenge.txt\")\n",
    "vk_storage = SessionStorage(\"./data/VKVideoClickSessions.txt\")\n",
    "ya_test = ya_storage.get_test_dataset()\n",
    "vk_test = vk_storage.get_test_dataset()\n",
    "\n",
    "ya_test.head()\n"
   ]
  },
  {
   "cell_type": "markdown",
   "metadata": {},
   "source": [
    "Как будем это оценивать?\n",
    "\n",
    "Нам не важны сами значения вероятностей для этой задаче, нам важен только порядок -- чтобы документы с ground truth 1 оказались выше, чем документы с 0\n",
    "\n",
    "Это похоже на AUC. Но нам не подойдет обычный AUC, потому что порядок важен только внутри одной группы (одного запроса)\n",
    "\n",
    "Для этого воспользуемся [QueryAUC](https://catboost.ai/en/docs/concepts/loss-functions-ranking#QueryAUC) из CatBoost\n",
    "\n",
    "**Замечание 1:** переранжировать вручную не требуется, т.к. QueryAUC способен сам понять, как упорядочивать документы внутри группы по предсказанным вероятностям (Можно проверить, взяв в качестве метки (1 - click_prob), тогда значение AUC явно даст понять, что что-то не так)\n",
    "\n",
    "**Замечание 2:** На лекции данный подход рассматривался в контексте наличия асессорских оценок, т.е. была некоторая оценка релевантности $\\in \\{1, \\dots, 5\\}$, тут же мы можем не использовать асессорские оценки -- пользователи как бы сами оценивают релевантность документа, отдавая ему свои клики"
   ]
  },
  {
   "cell_type": "code",
   "execution_count": null,
   "metadata": {},
   "outputs": [],
   "source": [
    "from catboost.metrics import QueryAUC\n",
    "\n",
    "# Получение оценок модели\n",
    "def apply_model(df, model):\n",
    "    return df.apply(lambda x: model.predict_relevance(x.query, x.document), axis=1)\n",
    "\n",
    "# Вычисление метрики\n",
    "def eval_model(df, model):\n",
    "    return QueryAUC().eval(\n",
    "        df[\"clicked\"].values, # настоящие метки -- был ли хоть раз клик в этот документ  \n",
    "        apply_model(df, model).values, # предсказанная вероятность, мы упорядочивали по ней внутри каждой группы документы\n",
    "        group_id=df[\"query\"].values # в качестве групп возьмем сами запросы\n",
    "    )[0]\n"
   ]
  },
  {
   "cell_type": "markdown",
   "metadata": {},
   "source": [
    "Посмотрим, какие значения получаются для обученных нами ранее моделей"
   ]
  },
  {
   "cell_type": "code",
   "execution_count": null,
   "metadata": {},
   "outputs": [],
   "source": [
    "def compare_models(df_test, storage):\n",
    "    dbn_model = SDBN()\n",
    "    dbn_model.train(storage.get_train_sessions())\n",
    "\n",
    "    ctr_model = GCTR()\n",
    "    ctr_model.train(storage.get_train_sessions())\n",
    "\n",
    "    print(f\"DBN AUC\\t=\\t{eval_model(df_test, dbn_model)}\")\n",
    "    print(f\"CTR AUC\\t=\\t{eval_model(df_test, ctr_model)}\")\n",
    "    \n",
    "print(\"VK\")\n",
    "compare_models(vk_test, vk_storage)\n",
    "\n",
    "print(\"YA\")\n",
    "compare_models(ya_test, ya_storage)\n"
   ]
  },
  {
   "cell_type": "markdown",
   "metadata": {},
   "source": [
    "Не смотря на то, что ранжирование по одному признаку это крайне слабый алгоритм ранжирования, так можно быстро оценить и прикинуть какая из моделей и фичей потенциально способна показать себя лучше при дальнейшем использовании в поиске\n",
    "\n",
    "**Замечание:** Никто не ограничивает нас использовать только одну самую лучшую модель. Мы вполне себе можем использовать несколько моделей вместе, например те же DBN и CTR. Конечно, мы теряем в таком случае способность быстро прикидывать QueryAUC от ранжирования по одной фиче, однако, добавляя все их в большой датасет, ранжирующая модель может найти довольно интересные и полезные комбинации, которые в итоге повысят общее качество"
   ]
  },
  {
   "cell_type": "code",
   "execution_count": null,
   "metadata": {},
   "outputs": [],
   "source": []
  }
 ],
 "metadata": {
  "kernelspec": {
   "display_name": "Python 3 (ipykernel)",
   "language": "python",
   "name": "python3"
  },
  "language_info": {
   "codemirror_mode": {
    "name": "ipython",
    "version": 3
   },
   "file_extension": ".py",
   "mimetype": "text/x-python",
   "name": "python",
   "nbconvert_exporter": "python",
   "pygments_lexer": "ipython3",
   "version": "3.12.3"
  }
 },
 "nbformat": 4,
 "nbformat_minor": 4
}
