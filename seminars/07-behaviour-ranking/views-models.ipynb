{
 "cells": [
  {
   "cell_type": "code",
   "execution_count": null,
   "metadata": {},
   "outputs": [],
   "source": [
    "from pathlib import Path\n",
    "\n",
    "from session_storage import SessionStorage\n",
    "\n",
    "from convert_logs import convert_df"
   ]
  },
  {
   "cell_type": "markdown",
   "metadata": {},
   "source": [
    "Заменим целевое действие.\n",
    "\n",
    "Придумайте бинарный признак на основе колонки `total_view_time`"
   ]
  },
  {
   "cell_type": "code",
   "execution_count": null,
   "metadata": {},
   "outputs": [],
   "source": [
    "def view_target(row):\n",
    "    # здесь нужно задать условия для событий, которые будут приняты за \"клики\".\n",
    "    # см. аналогичную функцию click_target в convert_logs.py\n",
    "    \n",
    "    # Ваш код\n",
    "    \n",
    "    raise NotImplementedError()\n",
    "\n",
    "convert_df(\n",
    "    path_from=Path(\"./data/VKVideoSessions.tsv\"),\n",
    "    path_to=Path(\"./data/VKVideoViewsSessions.txt\"),\n",
    "    target=view_target\n",
    ")"
   ]
  },
  {
   "cell_type": "markdown",
   "metadata": {},
   "source": [
    "Теперь необходимо загрузить кликовые и просмотровые сессии из .txt файлов, созданных по сессиям VK"
   ]
  },
  {
   "cell_type": "code",
   "execution_count": null,
   "metadata": {},
   "outputs": [],
   "source": [
    "click_storage = SessionStorage(\"./data/VKVideoClickSessions.txt\")\n",
    "views_storage = None # Ваш код\n",
    "click_test = click_storage.get_test_dataset()\n",
    "views_test = views_storage.get_test_dataset()"
   ]
  },
  {
   "cell_type": "markdown",
   "metadata": {},
   "source": [
    "Мы ещё не оценивали просмотровые модели по перплексии, давайте попробуем это сделать"
   ]
  },
  {
   "cell_type": "code",
   "execution_count": null,
   "metadata": {},
   "outputs": [],
   "source": [
    "from pyclick.click_models.Evaluation import LogLikelihood, Perplexity\n",
    "\n",
    "from pyclick.click_models.SDBN import SDBN\n",
    "from pyclick.click_models.CTR import GCTR\n",
    "\n",
    "\n",
    "def eval_model(model, storage):\n",
    "    log_likelihood = LogLikelihood()\n",
    "    perplexity = Perplexity()\n",
    "\n",
    "    print(f\"LL\\t=\\t{log_likelihood.evaluate(model, storage.get_test_sessions())}\")\n",
    "    print(f\"PPL\\t=\\t{perplexity.evaluate(model, storage.get_test_sessions())[0]}\")\n",
    "\n",
    "\n",
    "# Ваш код\n",
    "views_dbn_model = None \n",
    "views_ctr_model = None"
   ]
  },
  {
   "cell_type": "code",
   "execution_count": null,
   "metadata": {},
   "outputs": [],
   "source": [
    "from catboost.metrics import QueryAUC\n",
    "\n",
    "def apply_model(df, model):\n",
    "    return df.apply(lambda x: model.predict_relevance(x.query, x.document), axis=1)\n",
    "\n",
    "def eval_model(df, model):\n",
    "    return QueryAUC().eval(\n",
    "        df[\"clicked\"].values,\n",
    "        apply_model(df, model).values,\n",
    "        group_id=df[\"query\"].values\n",
    "    )[0]"
   ]
  },
  {
   "cell_type": "markdown",
   "metadata": {},
   "source": [
    "Обучим и оценим DBN модели на каждом датасете по AUC (модель должна оцениваться на соответствующем ей датасете, т.е. просмотровая -- на просмотровом, кликовая -- на кликовом)"
   ]
  },
  {
   "cell_type": "code",
   "execution_count": null,
   "metadata": {},
   "outputs": [],
   "source": [
    "# Ваш код\n"
   ]
  },
  {
   "cell_type": "markdown",
   "metadata": {},
   "source": [
    "**Замечание:** При формировании ground_truth метод для каждого датасета учитывается \"клик\". После того как вы заменили целевой признак на, например, просмотр >= 60 секунд -- он стал \"кликом\". Т.е. AUC для просмотровой модели, который мы тут видим, говорит нам о том, насколько хорошо модель располагает документы в порядке убывания факта просмотра.\n",
    "\n",
    "Сами по себе Click AUC и Views AUC нельзя сравнивать между собой, однако мы пойдем на хитрость:\n",
    "\n",
    "Мы хотим посмотреть, что будет, если мы применим обе DBN модели, обученные на кликах и просмотрах соответственно, только к просмотровому, т.е. более узкому датасету?"
   ]
  },
  {
   "cell_type": "code",
   "execution_count": null,
   "metadata": {},
   "outputs": [],
   "source": [
    "# Ваш код\n"
   ]
  },
  {
   "cell_type": "markdown",
   "metadata": {},
   "source": [
    "Как можно интерпретировать полученный результат?"
   ]
  }
 ],
 "metadata": {
  "kernelspec": {
   "display_name": "Python 3 (ipykernel)",
   "language": "python",
   "name": "python3"
  },
  "language_info": {
   "codemirror_mode": {
    "name": "ipython",
    "version": 3
   },
   "file_extension": ".py",
   "mimetype": "text/x-python",
   "name": "python",
   "nbconvert_exporter": "python",
   "pygments_lexer": "ipython3",
   "version": "3.12.3"
  }
 },
 "nbformat": 4,
 "nbformat_minor": 4
}
