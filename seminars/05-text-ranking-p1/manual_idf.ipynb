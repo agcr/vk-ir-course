{
 "cells": [
  {
   "cell_type": "markdown",
   "id": "6ca17c29-7ea3-43cd-a63d-bfa28ffc9a59",
   "metadata": {},
   "source": [
    "# Считаем IDFы слов коллекции\n",
    "\n",
    "В этом тюториале мы научимся самостоятельно вычислять IDFы слов.\n",
    "\n",
    "На входе нам будет дана небольшая коллекция из нескольких текстовых документов.\n",
    "\n",
    "Нам будет нужно посчитать IDFы всех слов, которые содержатся в этой коллекции."
   ]
  },
  {
   "cell_type": "markdown",
   "id": "0f0a7027-7d31-480c-9e05-44b6ca966f68",
   "metadata": {},
   "source": [
    "Импортируем модули которые нам понадобятся впоследствии:"
   ]
  },
  {
   "cell_type": "code",
   "execution_count": 1,
   "id": "21fb783d-937e-40a6-88b5-3df49b614a80",
   "metadata": {},
   "outputs": [],
   "source": [
    "import math\n",
    "from collections import defaultdict\n",
    "from nltk import tokenize\n",
    "import numpy as np"
   ]
  },
  {
   "cell_type": "markdown",
   "id": "61bd5f69-0f93-4a21-8aa6-62744c5e6476",
   "metadata": {},
   "source": [
    "Список документов (названия институтов):"
   ]
  },
  {
   "cell_type": "code",
   "execution_count": 2,
   "id": "d84b812b-f9bd-41dd-96dc-3007b4efe5e1",
   "metadata": {},
   "outputs": [
    {
     "data": {
      "text/plain": [
       "['Московская государственная академия хореографии',\n",
       " 'Московский государственный университет им. М.В. Ломоносова (Университет МГУ)',\n",
       " 'Московский физико-технический институт (национальный исследовательский университет)',\n",
       " 'Национальный исследовательский университет «МИЭТ»',\n",
       " 'Национальный исследовательский университет ИТМО']"
      ]
     },
     "execution_count": 2,
     "metadata": {},
     "output_type": "execute_result"
    }
   ],
   "source": [
    "texts = [\n",
    "    \"Московская государственная академия хореографии\",\n",
    "    \"Московский государственный университет им. М.В. Ломоносова (Университет МГУ)\",\n",
    "    \"Московский физико-технический институт (национальный исследовательский университет)\",\n",
    "    \"Национальный исследовательский университет «МИЭТ»\",\n",
    "    \"Национальный исследовательский университет ИТМО\",\n",
    "]\n",
    "texts"
   ]
  },
  {
   "cell_type": "markdown",
   "id": "2d8eed21-bb25-436c-88f3-4c8008c553fc",
   "metadata": {},
   "source": [
    "Определим функцию, которую будем использовать для предобработки текста:"
   ]
  },
  {
   "cell_type": "code",
   "execution_count": 3,
   "id": "caf22b01-c63a-4bc4-936f-837471d14d53",
   "metadata": {},
   "outputs": [],
   "source": [
    "def preprocess(text):\n",
    "    # Tokenize\n",
    "    tokenizer = tokenize.RegexpTokenizer(r'\\w\\w+')\n",
    "    tokens = tokenizer.tokenize(text)\n",
    "\n",
    "    # Normalize\n",
    "    return [token.lower() for token in tokens]"
   ]
  },
  {
   "cell_type": "markdown",
   "id": "94b38390-ffa9-4e6d-af6b-3914bd5d3e72",
   "metadata": {},
   "source": [
    "Проверим, что она работает:"
   ]
  },
  {
   "cell_type": "code",
   "execution_count": 4,
   "id": "4ad29083-2810-4e52-9897-a2555d9ebf62",
   "metadata": {},
   "outputs": [
    {
     "data": {
      "text/plain": [
       "['московский',\n",
       " 'государственный',\n",
       " 'университет',\n",
       " 'им',\n",
       " 'ломоносова',\n",
       " 'университет',\n",
       " 'мгу']"
      ]
     },
     "execution_count": 4,
     "metadata": {},
     "output_type": "execute_result"
    }
   ],
   "source": [
    "preprocess(texts[1])"
   ]
  },
  {
   "cell_type": "markdown",
   "id": "c2faa762-0d02-4691-8a48-6e88dfd84f50",
   "metadata": {},
   "source": [
    "Видим, что эта функция удаляет пунктуацию и оставляет только слова длиной в 2 и более символов."
   ]
  },
  {
   "cell_type": "markdown",
   "id": "2bc379ea-0202-40f8-9b59-1b550967a3a7",
   "metadata": {},
   "source": [
    "Теперь объявим шаблон для нашего класса-векторизатора, который предстоит реализовать:"
   ]
  },
  {
   "cell_type": "code",
   "execution_count": 5,
   "id": "825b1ea6-72fe-419e-9a57-1ab99ae114b7",
   "metadata": {},
   "outputs": [],
   "source": [
    "class ManualTfidfVectorizer:\n",
    "    \"\"\"Replicates sklearn logic.\n",
    "\n",
    "    Uses IDF definition: IDF(t) = 1 + ln((N + 1) / (DF(t) + 1))\n",
    "    \"\"\"\n",
    "    def __init__(self):\n",
    "        pass\n",
    "\n",
    "    def fit(self, texts):\n",
    "        pass\n",
    "\n",
    "    def get_idf(self, word):\n",
    "        return 0"
   ]
  },
  {
   "cell_type": "markdown",
   "id": "5279b095-852f-40a7-b841-70613c19f147",
   "metadata": {},
   "source": [
    "Вам нужно реализовать функцию _fit()_, в которой вы должны рассчитать и запомнить IDFы всех слова коллекции.\n",
    "\n",
    "IDF определим по формуле, которая используется классом _TfidfVectorizer_ из библиотеки _scikit-learn_, а именно:\n",
    "\n",
    "**IDF(t) = 1 + ln((N + 1) / (DF(t) + 1))**\n",
    "\n",
    "тут:\n",
    "- **N** -- полное число документов в коллекции\n",
    "- **DF(t)** -- документная частота, т.е. число документов, в которых содержится слово **t**"
   ]
  },
  {
   "cell_type": "markdown",
   "id": "6ec0f354-bda6-4cd9-9ba5-b8e60e2d17d1",
   "metadata": {},
   "source": [
    "Создадим наш векторизатор и \"обучим\" его на нашей коллекции документов:"
   ]
  },
  {
   "cell_type": "code",
   "execution_count": 6,
   "id": "82ba1652-c678-4372-9aae-483d2caaf1b6",
   "metadata": {},
   "outputs": [],
   "source": [
    "vectorizer = ManualTfidfVectorizer()\n",
    "vectorizer.fit(texts)"
   ]
  },
  {
   "cell_type": "markdown",
   "id": "eba99449-e7f5-4f3d-8973-1c5ef5139040",
   "metadata": {},
   "source": [
    "Распечатаем IDFы отдельных слов:"
   ]
  },
  {
   "cell_type": "code",
   "execution_count": 7,
   "id": "fed457a7-8f07-4219-896c-2a9811744d55",
   "metadata": {},
   "outputs": [
    {
     "name": "stdout",
     "output_type": "stream",
     "text": [
      "0\n",
      "0\n"
     ]
    }
   ],
   "source": [
    "print(vectorizer.get_idf(\"академия\"))\n",
    "print(vectorizer.get_idf(\"университет\"))"
   ]
  },
  {
   "cell_type": "markdown",
   "id": "d91d282b-4d62-41cc-90eb-91fa7be8efbe",
   "metadata": {},
   "source": [
    "Проверим, что эти IDFы соответствуют тем, которые выдает библиотека _scikit-learn_:"
   ]
  },
  {
   "cell_type": "code",
   "execution_count": 8,
   "id": "e5d65edd-15db-45e0-a46a-eda874784efd",
   "metadata": {},
   "outputs": [
    {
     "ename": "AssertionError",
     "evalue": "\nNot equal to tolerance rtol=0.001, atol=0.001\n\nMismatched elements: 2 / 2 (100%)\nMax absolute difference among violations: 2.09861229\nMax relative difference among violations: inf\n ACTUAL: array([2.098612, 1.182322])\n DESIRED: array([0, 0])",
     "output_type": "error",
     "traceback": [
      "\u001b[31m---------------------------------------------------------------------------\u001b[39m",
      "\u001b[31mAssertionError\u001b[39m                            Traceback (most recent call last)",
      "\u001b[36mCell\u001b[39m\u001b[36m \u001b[39m\u001b[32mIn[8]\u001b[39m\u001b[32m, line 2\u001b[39m\n\u001b[32m      1\u001b[39m idfs = [vectorizer.get_idf(\u001b[33m\"\u001b[39m\u001b[33mакадемия\u001b[39m\u001b[33m\"\u001b[39m), vectorizer.get_idf(\u001b[33m\"\u001b[39m\u001b[33mуниверситет\u001b[39m\u001b[33m\"\u001b[39m)]\n\u001b[32m----> \u001b[39m\u001b[32m2\u001b[39m \u001b[43mnp\u001b[49m\u001b[43m.\u001b[49m\u001b[43mtesting\u001b[49m\u001b[43m.\u001b[49m\u001b[43massert_allclose\u001b[49m\u001b[43m(\u001b[49m\u001b[43m[\u001b[49m\u001b[32;43m2.09861229\u001b[39;49m\u001b[43m,\u001b[49m\u001b[43m \u001b[49m\u001b[32;43m1.18232156\u001b[39;49m\u001b[43m]\u001b[49m\u001b[43m,\u001b[49m\u001b[43m \u001b[49m\u001b[43midfs\u001b[49m\u001b[43m,\u001b[49m\u001b[43m \u001b[49m\u001b[43mrtol\u001b[49m\u001b[43m=\u001b[49m\u001b[32;43m1e-03\u001b[39;49m\u001b[43m,\u001b[49m\u001b[43m \u001b[49m\u001b[43matol\u001b[49m\u001b[43m=\u001b[49m\u001b[32;43m1e-03\u001b[39;49m\u001b[43m)\u001b[49m\n",
      "    \u001b[31m[... skipping hidden 1 frame]\u001b[39m\n",
      "\u001b[36mFile \u001b[39m\u001b[32m~/dev/courses/vk-ir-course/agcr/vk-ir-course/.venvs/seminar-05-text-ranking-p1/lib/python3.12/site-packages/numpy/testing/_private/utils.py:920\u001b[39m, in \u001b[36massert_array_compare\u001b[39m\u001b[34m(comparison, x, y, err_msg, verbose, header, precision, equal_nan, equal_inf, strict, names)\u001b[39m\n\u001b[32m    915\u001b[39m         err_msg += \u001b[33m'\u001b[39m\u001b[38;5;130;01m\\n\u001b[39;00m\u001b[33m'\u001b[39m + \u001b[33m'\u001b[39m\u001b[38;5;130;01m\\n\u001b[39;00m\u001b[33m'\u001b[39m.join(remarks)\n\u001b[32m    916\u001b[39m         msg = build_err_msg([ox, oy], err_msg,\n\u001b[32m    917\u001b[39m                             verbose=verbose, header=header,\n\u001b[32m    918\u001b[39m                             names=names,\n\u001b[32m    919\u001b[39m                             precision=precision)\n\u001b[32m--> \u001b[39m\u001b[32m920\u001b[39m         \u001b[38;5;28;01mraise\u001b[39;00m \u001b[38;5;167;01mAssertionError\u001b[39;00m(msg)\n\u001b[32m    921\u001b[39m \u001b[38;5;28;01mexcept\u001b[39;00m \u001b[38;5;167;01mValueError\u001b[39;00m:\n\u001b[32m    922\u001b[39m     \u001b[38;5;28;01mimport\u001b[39;00m\u001b[38;5;250m \u001b[39m\u001b[34;01mtraceback\u001b[39;00m\n",
      "\u001b[31mAssertionError\u001b[39m: \nNot equal to tolerance rtol=0.001, atol=0.001\n\nMismatched elements: 2 / 2 (100%)\nMax absolute difference among violations: 2.09861229\nMax relative difference among violations: inf\n ACTUAL: array([2.098612, 1.182322])\n DESIRED: array([0, 0])"
     ]
    }
   ],
   "source": [
    "idfs = [vectorizer.get_idf(\"академия\"), vectorizer.get_idf(\"университет\")]\n",
    "np.testing.assert_allclose([2.09861229, 1.18232156], idfs, rtol=1e-03, atol=1e-03)"
   ]
  },
  {
   "cell_type": "markdown",
   "id": "0e2ccaf6-5aba-484d-8bd2-e6eb085582cc",
   "metadata": {},
   "source": [
    "Ожидаем, что ваша реализация векторизатора выдаст IDFы аналогичные тем, которые выдает векторизатор из библиотеки _scikit-learn_!"
   ]
  }
 ],
 "metadata": {
  "kernelspec": {
   "display_name": "Python 3 (ipykernel)",
   "language": "python",
   "name": "python3"
  },
  "language_info": {
   "codemirror_mode": {
    "name": "ipython",
    "version": 3
   },
   "file_extension": ".py",
   "mimetype": "text/x-python",
   "name": "python",
   "nbconvert_exporter": "python",
   "pygments_lexer": "ipython3",
   "version": "3.12.9"
  }
 },
 "nbformat": 4,
 "nbformat_minor": 5
}
