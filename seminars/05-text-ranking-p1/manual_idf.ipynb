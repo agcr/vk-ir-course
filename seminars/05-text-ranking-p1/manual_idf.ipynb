{
 "cells": [
  {
   "cell_type": "markdown",
   "id": "6ca17c29-7ea3-43cd-a63d-bfa28ffc9a59",
   "metadata": {},
   "source": [
    "# Считаем IDFы слов коллекции\n",
    "\n",
    "В этом тюториале мы научимся самостоятельно вычислять IDFы слов.\n",
    "\n",
    "На входе нам будет дана небольшая коллекция из нескольких текстовых документов.\n",
    "\n",
    "Нам будет нужно посчитать IDFы всех слов, которые содержатся в этой коллекции."
   ]
  },
  {
   "cell_type": "markdown",
   "id": "0f0a7027-7d31-480c-9e05-44b6ca966f68",
   "metadata": {},
   "source": [
    "Импортируем модули которые нам понадобятся впоследствии:"
   ]
  },
  {
   "cell_type": "code",
   "execution_count": null,
   "id": "21fb783d-937e-40a6-88b5-3df49b614a80",
   "metadata": {},
   "outputs": [],
   "source": [
    "import math\n",
    "from collections import defaultdict\n",
    "from nltk import tokenize\n",
    "import numpy as np"
   ]
  },
  {
   "cell_type": "markdown",
   "id": "61bd5f69-0f93-4a21-8aa6-62744c5e6476",
   "metadata": {},
   "source": [
    "Список документов (названия институтов):"
   ]
  },
  {
   "cell_type": "code",
   "execution_count": null,
   "id": "d84b812b-f9bd-41dd-96dc-3007b4efe5e1",
   "metadata": {},
   "outputs": [],
   "source": [
    "texts = [\n",
    "    \"Московская государственная академия хореографии\",\n",
    "    \"Московский государственный университет им. М.В. Ломоносова (Университет МГУ)\",\n",
    "    \"Московский физико-технический институт (национальный исследовательский университет)\",\n",
    "    \"Национальный исследовательский университет «МИЭТ»\",\n",
    "    \"Национальный исследовательский университет ИТМО\",\n",
    "]\n",
    "texts"
   ]
  },
  {
   "cell_type": "markdown",
   "id": "2d8eed21-bb25-436c-88f3-4c8008c553fc",
   "metadata": {},
   "source": [
    "Определим функцию, которую будем использовать для предобработки текста:"
   ]
  },
  {
   "cell_type": "code",
   "execution_count": null,
   "id": "caf22b01-c63a-4bc4-936f-837471d14d53",
   "metadata": {},
   "outputs": [],
   "source": [
    "def preprocess(text):\n",
    "    # Tokenize\n",
    "    tokenizer = tokenize.RegexpTokenizer(r'\\w\\w+')\n",
    "    tokens = tokenizer.tokenize(text)\n",
    "\n",
    "    # Normalize\n",
    "    return [token.lower() for token in tokens]"
   ]
  },
  {
   "cell_type": "markdown",
   "id": "94b38390-ffa9-4e6d-af6b-3914bd5d3e72",
   "metadata": {},
   "source": [
    "Проверим, что она работает:"
   ]
  },
  {
   "cell_type": "code",
   "execution_count": null,
   "id": "4ad29083-2810-4e52-9897-a2555d9ebf62",
   "metadata": {},
   "outputs": [],
   "source": [
    "preprocess(texts[1])"
   ]
  },
  {
   "cell_type": "markdown",
   "id": "c2faa762-0d02-4691-8a48-6e88dfd84f50",
   "metadata": {},
   "source": [
    "Видим, что эта функция удаляет пунктуацию и оставляет только слова длиной в 2 и более символов."
   ]
  },
  {
   "cell_type": "markdown",
   "id": "2bc379ea-0202-40f8-9b59-1b550967a3a7",
   "metadata": {},
   "source": [
    "Теперь объявим шаблон для нашего класса-векторизатора, который предстоит реализовать:"
   ]
  },
  {
   "cell_type": "code",
   "execution_count": null,
   "id": "825b1ea6-72fe-419e-9a57-1ab99ae114b7",
   "metadata": {},
   "outputs": [],
   "source": [
    "class ManualTfidfVectorizer:\n",
    "    \"\"\"Replicates sklearn logic.\n",
    "\n",
    "    Uses IDF definition: IDF(t) = 1 + ln((N + 1) / (DF(t) + 1))\n",
    "    \"\"\"\n",
    "    def __init__(self):\n",
    "        pass\n",
    "\n",
    "    def fit(self, texts):\n",
    "        pass\n",
    "\n",
    "    def get_idf(self, word):\n",
    "        return 0"
   ]
  },
  {
   "cell_type": "markdown",
   "id": "5279b095-852f-40a7-b841-70613c19f147",
   "metadata": {},
   "source": [
    "Вам нужно реализовать функцию _fit()_, в которой вы должны рассчитать и запомнить IDFы всех слова коллекции.\n",
    "\n",
    "IDF определим по формуле, которая используется классом _TfidfVectorizer_ из библиотеки _scikit-learn_, а именно:\n",
    "\n",
    "**IDF(t) = 1 + ln((N + 1) / (DF(t) + 1))**\n",
    "\n",
    "тут:\n",
    "- **N** -- полное число документов в коллекции\n",
    "- **DF(t)** -- документная частота, т.е. число документов, в которых содержится слово **t**"
   ]
  },
  {
   "cell_type": "markdown",
   "id": "6ec0f354-bda6-4cd9-9ba5-b8e60e2d17d1",
   "metadata": {},
   "source": [
    "Создадим наш векторизатор и \"обучим\" его на нашей коллекции документов:"
   ]
  },
  {
   "cell_type": "code",
   "execution_count": null,
   "id": "82ba1652-c678-4372-9aae-483d2caaf1b6",
   "metadata": {},
   "outputs": [],
   "source": [
    "vectorizer = ManualTfidfVectorizer()\n",
    "vectorizer.fit(texts)"
   ]
  },
  {
   "cell_type": "markdown",
   "id": "eba99449-e7f5-4f3d-8973-1c5ef5139040",
   "metadata": {},
   "source": [
    "Распечатаем IDFы отдельных слов:"
   ]
  },
  {
   "cell_type": "code",
   "execution_count": null,
   "id": "fed457a7-8f07-4219-896c-2a9811744d55",
   "metadata": {},
   "outputs": [],
   "source": [
    "print(vectorizer.get_idf(\"академия\"))\n",
    "print(vectorizer.get_idf(\"университет\"))"
   ]
  },
  {
   "cell_type": "markdown",
   "id": "d91d282b-4d62-41cc-90eb-91fa7be8efbe",
   "metadata": {},
   "source": [
    "Проверим, что эти IDFы соответствуют тем, которые выдает библиотека _scikit-learn_:"
   ]
  },
  {
   "cell_type": "code",
   "execution_count": null,
   "id": "e5d65edd-15db-45e0-a46a-eda874784efd",
   "metadata": {},
   "outputs": [],
   "source": [
    "idfs = [vectorizer.get_idf(\"академия\"), vectorizer.get_idf(\"университет\")]\n",
    "np.testing.assert_allclose([2.09861229, 1.18232156], idfs, rtol=1e-03, atol=1e-03)"
   ]
  },
  {
   "cell_type": "markdown",
   "id": "0e2ccaf6-5aba-484d-8bd2-e6eb085582cc",
   "metadata": {},
   "source": [
    "Ожидаем, что ваша реализация векторизатора выдаст IDFы аналогичные тем, которые выдает векторизатор из библиотеки _scikit-learn_!"
   ]
  }
 ],
 "metadata": {
  "kernelspec": {
   "display_name": "Python 3 (ipykernel)",
   "language": "python",
   "name": "python3"
  },
  "language_info": {
   "codemirror_mode": {
    "name": "ipython",
    "version": 3
   },
   "file_extension": ".py",
   "mimetype": "text/x-python",
   "name": "python",
   "nbconvert_exporter": "python",
   "pygments_lexer": "ipython3",
   "version": "3.12.9"
  }
 },
 "nbformat": 4,
 "nbformat_minor": 5
}
