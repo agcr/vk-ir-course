{
 "cells": [
  {
   "cell_type": "markdown",
   "id": "c68b6411-668d-431f-9556-9a478597aa6c",
   "metadata": {},
   "source": [
    "# Улучшаем векторизаторы с помощью библиотек NLTK и pymorphy\n",
    "\n",
    "В этом тюториале мы научимся векторизовывать тексты с использованием стемминга и лемматизации."
   ]
  },
  {
   "cell_type": "markdown",
   "id": "0f0a7027-7d31-480c-9e05-44b6ca966f68",
   "metadata": {},
   "source": [
    "Импортируем модули которые нам понадобятся впоследствии:"
   ]
  },
  {
   "cell_type": "code",
   "execution_count": 23,
   "id": "21fb783d-937e-40a6-88b5-3df49b614a80",
   "metadata": {},
   "outputs": [],
   "source": [
    "import numpy as np\n",
    "from sklearn.feature_extraction.text import CountVectorizer, TfidfVectorizer\n",
    "import nltk\n",
    "from nltk import stem\n",
    "import pymorphy3 as pymorphy"
   ]
  },
  {
   "cell_type": "markdown",
   "id": "61bd5f69-0f93-4a21-8aa6-62744c5e6476",
   "metadata": {},
   "source": [
    "Предположим, что на входе нам дана коллекция из нескольких текстовых документов (названия институтов):"
   ]
  },
  {
   "cell_type": "code",
   "execution_count": 24,
   "id": "d84b812b-f9bd-41dd-96dc-3007b4efe5e1",
   "metadata": {},
   "outputs": [
    {
     "name": "stdout",
     "output_type": "stream",
     "text": [
      "['Московская государственная академия хореографии', 'Московский государственный университет им. М.В. Ломоносова (Университет МГУ)', 'Московский физико-технический институт (национальный исследовательский университет)', 'Национальный исследовательский университет «МИЭТ»', 'Национальный исследовательский университет ИТМО']\n"
     ]
    }
   ],
   "source": [
    "texts = [\n",
    "    \"Московская государственная академия хореографии\",\n",
    "    \"Московский государственный университет им. М.В. Ломоносова (Университет МГУ)\",\n",
    "    \"Московский физико-технический институт (национальный исследовательский университет)\",\n",
    "    \"Национальный исследовательский университет «МИЭТ»\",\n",
    "    \"Национальный исследовательский университет ИТМО\",\n",
    "]\n",
    "print(texts)"
   ]
  },
  {
   "cell_type": "markdown",
   "id": "a2d8801e-39dd-4844-9240-9a71c3625e83",
   "metadata": {},
   "source": [
    "## TF-IDF-векторизаторы с поддержкой стемминга"
   ]
  },
  {
   "cell_type": "markdown",
   "id": "63ef0386-af81-4cd3-821f-b2a28d839171",
   "metadata": {},
   "source": [
    "Создадим кастомный _TfidfVectorizer_ с поддержкой стемминга.\n",
    "\n",
    "Для этого нам потребуется унаследоваться от соответствующего векторизатора из библиотеки _scikit-learn_ и переопределить метод _build_analyzer_:"
   ]
  },
  {
   "cell_type": "code",
   "execution_count": 25,
   "id": "70f8c76e-e7f9-43f3-9c0d-d9076d242a12",
   "metadata": {},
   "outputs": [],
   "source": [
    "class StemTfidfVectorizer(TfidfVectorizer):\n",
    "    def __init__(self, lang='english', **kwargs):\n",
    "        super().__init__(**kwargs)\n",
    "        self.lang = lang\n",
    "\n",
    "    def build_analyzer(self):\n",
    "        \"\"\"Called only once so we don't need to cache stemmer\"\"\"\n",
    "        analyzer = super().build_analyzer()\n",
    "        stemmer = stem.SnowballStemmer(self.lang)\n",
    "        return lambda text: (stemmer.stem(word) for word in analyzer(text))"
   ]
  },
  {
   "cell_type": "markdown",
   "id": "457e6d90-1111-40cd-a2ce-f2a6a2bc580e",
   "metadata": {},
   "source": [
    "Обратите внимание, что:\n",
    "- мы передаем в конструктор в качестве параметра язык, для которого мы хотим создать стеммер\n",
    "- в качестве стеммера мы будем использовать _SnowballStemmer_ из библиотеки _NLTK_, однако с тем же успехом можно было бы использовать и любой другой стеммер\n",
    "- мы можем создавать объект стеммера непосредственно в методе _build_analyzer_ т.к. он вызывается ровно один раз во время создания объекта векторизатора, т.е. можно не опасаться что наш стеммер будет создаваться на каждый вызов _fit_ (а создание стеммера это потенциально медленная операция)\n",
    "\n",
    "Также заметим, что переопределение метода _build_analyzer_ -- это не единственный возможный способ научить векторизаторы стеммингу. Класс _TfidfVectorizer_ поддерживает альтернативный способ кастомизации через параметр конструктора _tokenizer=_, детали можно найти в документации: https://scikit-learn.org/stable/modules/generated/sklearn.feature_extraction.text.TfidfVectorizer.html\n",
    "\n",
    "Попробуем воспользоваться нашим векторизатором, и сравним результаты его работы с \"обычным\" векторизатором:"
   ]
  },
  {
   "cell_type": "code",
   "execution_count": 26,
   "id": "67fb4cd6-6a57-4f33-81c5-74bf492aef01",
   "metadata": {},
   "outputs": [
    {
     "name": "stdout",
     "output_type": "stream",
     "text": [
      "(5, 17)\n",
      "(5, 15)\n"
     ]
    }
   ],
   "source": [
    "# Create and fit vanilla vectorizer\n",
    "vectorizer = TfidfVectorizer(min_df=1)\n",
    "X = vectorizer.fit_transform(texts)\n",
    "\n",
    "# Create and fit custom vectorizer\n",
    "stem_vectorizer = StemTfidfVectorizer(lang='russian', min_df=1)\n",
    "X_stem = stem_vectorizer.fit_transform(texts)\n",
    "\n",
    "print(X.shape)\n",
    "print(X_stem.shape)"
   ]
  },
  {
   "cell_type": "markdown",
   "id": "1ab54e72-f327-4808-b41c-fa05514bf3ae",
   "metadata": {},
   "source": [
    "Сразу видно, что в результате применения векторизатора со стеммингом получилась матрица меньшего размера.\n",
    "\n",
    "Распечатаем теперь термины-фичи:"
   ]
  },
  {
   "cell_type": "code",
   "execution_count": 27,
   "id": "644721a6-82ff-4a06-89ab-db2a58f3b249",
   "metadata": {},
   "outputs": [
    {
     "name": "stdout",
     "output_type": "stream",
     "text": [
      "['академия' 'государственная' 'государственный' 'им' 'институт'\n",
      " 'исследовательский' 'итмо' 'ломоносова' 'мгу' 'миэт' 'московская'\n",
      " 'московский' 'национальный' 'технический' 'университет' 'физико'\n",
      " 'хореографии']\n",
      "['академ' 'государствен' 'им' 'институт' 'исследовательск' 'итм'\n",
      " 'ломоносов' 'мгу' 'миэт' 'московск' 'национальн' 'техническ'\n",
      " 'университет' 'физик' 'хореограф']\n"
     ]
    }
   ],
   "source": [
    "print(vectorizer.get_feature_names_out())\n",
    "print(stem_vectorizer.get_feature_names_out())"
   ]
  },
  {
   "cell_type": "markdown",
   "id": "697d0810-0356-47d3-84ff-91823c0700d6",
   "metadata": {},
   "source": [
    "Видим, что векторизатор с поддержкой стемминга действительно оперирует не словами, а основами слов (русскоязычный эквивалент английского _stem_), и наше снижение размерности было достигнуто за счет того, что:\n",
    "- слова 'государственная' и 'государственный' склеились в стем 'государствен'\n",
    "- слова 'московская' и 'московский' склеились в терм 'московск'\n",
    "\n",
    "Дальше мы можем использовать наш _StemTfidfVectorizer_ по полной аналогии с ванильным, в т.ч. для векторизации текстов и ранжирования по формуле TF-IDF."
   ]
  },
  {
   "cell_type": "markdown",
   "id": "1ff6c1b0-56ad-4e77-ad1b-4e996839b24c",
   "metadata": {},
   "source": [
    "## TF-IDF-векторизаторы с поддержкой лемматизации"
   ]
  },
  {
   "cell_type": "markdown",
   "id": "a5c657bd-3789-4433-87ac-85245880d5d9",
   "metadata": {},
   "source": [
    "По полной аналогии с предыдущим примером, создадим кастомный _TfidfVectorizer_ с поддержкой лемматизации.\n",
    "\n",
    "Саму лемматизацию будем производить с помощью библиотеки _pymorphy_:"
   ]
  },
  {
   "cell_type": "code",
   "execution_count": 28,
   "id": "942a4a47-3a85-4190-ad10-30d3b4c163f4",
   "metadata": {
    "scrolled": true
   },
   "outputs": [],
   "source": [
    "def get_best_normal_form(morph, word):\n",
    "    \"\"\"Helper function: applies analyzer to word and extracts best normal form\"\"\"\n",
    "    parsed = morph.parse(word)\n",
    "    if not parsed:\n",
    "        raise RuntimeError(f\"cant parse word '{word}'\")\n",
    "    best_form = parsed[0]\n",
    "    return best_form.normal_form\n",
    "\n",
    "class MorphTfidfVectorizer(TfidfVectorizer):\n",
    "    def __init__(self, lang='ru', **kwargs):\n",
    "        super().__init__(**kwargs)\n",
    "        self.lang = lang\n",
    "\n",
    "    def build_analyzer(self):\n",
    "        \"\"\"Called only once so we don't need to cache analyzer\"\"\"\n",
    "        analyzer = super().build_analyzer()\n",
    "        morph = pymorphy.MorphAnalyzer(lang=self.lang)\n",
    "        return lambda text: (get_best_normal_form(morph, word) for word in analyzer(text))"
   ]
  },
  {
   "cell_type": "markdown",
   "id": "1fdcf20e-17c7-452c-8ab5-e3e9c8ca91b8",
   "metadata": {},
   "source": [
    "И теперь применим _MorphTfidfVectorizer_ к нашей коллекции текстов:"
   ]
  },
  {
   "cell_type": "code",
   "execution_count": 29,
   "id": "af524e0d-a85a-4df9-95a3-b97745d0fd20",
   "metadata": {},
   "outputs": [
    {
     "name": "stdout",
     "output_type": "stream",
     "text": [
      "(5, 15)\n",
      "['академия' 'государственный' 'институт' 'исследовательский' 'итмый'\n",
      " 'ломоносов' 'мгу' 'миэта' 'московский' 'национальный' 'они' 'технический'\n",
      " 'университет' 'физико' 'хореография']\n"
     ]
    }
   ],
   "source": [
    "morph_vectorizer = MorphTfidfVectorizer(lang='ru', min_df=1)\n",
    "X_morph = morph_vectorizer.fit_transform(texts)\n",
    "print(X_morph.shape)\n",
    "print(morph_vectorizer.get_feature_names_out())"
   ]
  },
  {
   "cell_type": "markdown",
   "id": "3c522364-489c-487d-a696-32acd831f0ec",
   "metadata": {},
   "source": [
    "Видим, что новый векторизатор работает уже на уровне лемм, а не основ слов.\n",
    "\n",
    "Любопытно, что слова 'государственная' и 'государственный' опять склеились, но этот раз уже к правильной лемме 'государственный'. Аналогичная ситуация и со словами  'московская' и 'московский'.\n",
    "\n",
    "Также, бросаются слова несколько странностей лемматизации, например слово \"итмо\" было лемматизировано как \"итмый\", а \"миэт\" -- в лемму \"миэта\". Такие кейсы, к сожалению, являются типичными проблемами лемматизации, и с ними обычно борятся с помощью различных словарей слов-исключений, содержащих списки имен, географических названий и т.п.\n",
    "\n",
    "Тем не менее, в прикладных задачах лемматизация как правило работает гораздо лучше, чем стемминг. Это верно, в первую очередь, для языков с \"богатой\" морфологией, таких как русский.\n",
    "\n",
    "Дальше мы можем использовать наш _MorphTfidfVectorizer_ по полной аналогии с ванильным, в т.ч. для векторизации текстов и ранжирования по формуле TF-IDF."
   ]
  }
 ],
 "metadata": {
  "kernelspec": {
   "display_name": "Python 3 (ipykernel)",
   "language": "python",
   "name": "python3"
  },
  "language_info": {
   "codemirror_mode": {
    "name": "ipython",
    "version": 3
   },
   "file_extension": ".py",
   "mimetype": "text/x-python",
   "name": "python",
   "nbconvert_exporter": "python",
   "pygments_lexer": "ipython3",
   "version": "3.12.7"
  }
 },
 "nbformat": 4,
 "nbformat_minor": 5
}
