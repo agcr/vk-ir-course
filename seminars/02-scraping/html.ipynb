{
 "cells": [
  {
   "cell_type": "markdown",
   "metadata": {},
   "source": [
    "# Парсинг HTML"
   ]
  },
  {
   "cell_type": "code",
   "execution_count": 1,
   "metadata": {},
   "outputs": [
    {
     "name": "stdout",
     "output_type": "stream",
     "text": [
      "Requirement already satisfied: lxml in /home/sergey/stuff/edu_robot/vk-ir-course-fall-2024/venv/lib/python3.8/site-packages (5.1.0)\n",
      "Requirement already satisfied: bs4 in /home/sergey/stuff/edu_robot/vk-ir-course-fall-2024/venv/lib/python3.8/site-packages (0.0.2)\n",
      "Requirement already satisfied: ipython in /home/sergey/stuff/edu_robot/vk-ir-course-fall-2024/venv/lib/python3.8/site-packages (8.12.3)\n",
      "Requirement already satisfied: beautifulsoup4 in /home/sergey/stuff/edu_robot/vk-ir-course-fall-2024/venv/lib/python3.8/site-packages (from bs4) (4.12.3)\n",
      "Requirement already satisfied: backcall in /home/sergey/stuff/edu_robot/vk-ir-course-fall-2024/venv/lib/python3.8/site-packages (from ipython) (0.2.0)\n",
      "Requirement already satisfied: pexpect>4.3; sys_platform != \"win32\" in /home/sergey/stuff/edu_robot/vk-ir-course-fall-2024/venv/lib/python3.8/site-packages (from ipython) (4.9.0)\n",
      "Requirement already satisfied: pygments>=2.4.0 in /home/sergey/stuff/edu_robot/vk-ir-course-fall-2024/venv/lib/python3.8/site-packages (from ipython) (2.18.0)\n",
      "Requirement already satisfied: decorator in /home/sergey/stuff/edu_robot/vk-ir-course-fall-2024/venv/lib/python3.8/site-packages (from ipython) (5.1.1)\n",
      "Requirement already satisfied: typing-extensions; python_version < \"3.10\" in /home/sergey/stuff/edu_robot/vk-ir-course-fall-2024/venv/lib/python3.8/site-packages (from ipython) (4.12.2)\n",
      "Requirement already satisfied: traitlets>=5 in /home/sergey/stuff/edu_robot/vk-ir-course-fall-2024/venv/lib/python3.8/site-packages (from ipython) (5.14.3)\n",
      "Requirement already satisfied: prompt-toolkit!=3.0.37,<3.1.0,>=3.0.30 in /home/sergey/stuff/edu_robot/vk-ir-course-fall-2024/venv/lib/python3.8/site-packages (from ipython) (3.0.47)\n",
      "Requirement already satisfied: stack-data in /home/sergey/stuff/edu_robot/vk-ir-course-fall-2024/venv/lib/python3.8/site-packages (from ipython) (0.6.3)\n",
      "Requirement already satisfied: pickleshare in /home/sergey/stuff/edu_robot/vk-ir-course-fall-2024/venv/lib/python3.8/site-packages (from ipython) (0.7.5)\n",
      "Requirement already satisfied: matplotlib-inline in /home/sergey/stuff/edu_robot/vk-ir-course-fall-2024/venv/lib/python3.8/site-packages (from ipython) (0.1.7)\n",
      "Requirement already satisfied: jedi>=0.16 in /home/sergey/stuff/edu_robot/vk-ir-course-fall-2024/venv/lib/python3.8/site-packages (from ipython) (0.19.1)\n",
      "Requirement already satisfied: soupsieve>1.2 in /home/sergey/stuff/edu_robot/vk-ir-course-fall-2024/venv/lib/python3.8/site-packages (from beautifulsoup4->bs4) (2.5)\n",
      "Requirement already satisfied: ptyprocess>=0.5 in /home/sergey/stuff/edu_robot/vk-ir-course-fall-2024/venv/lib/python3.8/site-packages (from pexpect>4.3; sys_platform != \"win32\"->ipython) (0.7.0)\n",
      "Requirement already satisfied: wcwidth in /home/sergey/stuff/edu_robot/vk-ir-course-fall-2024/venv/lib/python3.8/site-packages (from prompt-toolkit!=3.0.37,<3.1.0,>=3.0.30->ipython) (0.2.13)\n",
      "Requirement already satisfied: pure-eval in /home/sergey/stuff/edu_robot/vk-ir-course-fall-2024/venv/lib/python3.8/site-packages (from stack-data->ipython) (0.2.3)\n",
      "Requirement already satisfied: asttokens>=2.1.0 in /home/sergey/stuff/edu_robot/vk-ir-course-fall-2024/venv/lib/python3.8/site-packages (from stack-data->ipython) (2.4.1)\n",
      "Requirement already satisfied: executing>=1.2.0 in /home/sergey/stuff/edu_robot/vk-ir-course-fall-2024/venv/lib/python3.8/site-packages (from stack-data->ipython) (2.0.1)\n",
      "Requirement already satisfied: parso<0.9.0,>=0.8.3 in /home/sergey/stuff/edu_robot/vk-ir-course-fall-2024/venv/lib/python3.8/site-packages (from jedi>=0.16->ipython) (0.8.4)\n",
      "Requirement already satisfied: six>=1.12.0 in /home/sergey/stuff/edu_robot/vk-ir-course-fall-2024/venv/lib/python3.8/site-packages (from asttokens>=2.1.0->stack-data->ipython) (1.16.0)\n",
      "Note: you may need to restart the kernel to use updated packages.\n"
     ]
    }
   ],
   "source": [
    "# Установим сразу зависимости, необходимые для примера\n",
    "%pip install lxml bs4 ipython"
   ]
  },
  {
   "cell_type": "markdown",
   "metadata": {},
   "source": [
    "## Страница для примера"
   ]
  },
  {
   "cell_type": "code",
   "execution_count": 2,
   "metadata": {},
   "outputs": [],
   "source": [
    "\n",
    "html_data = \"\"\"\n",
    "<html>\n",
    "<body>\n",
    "    <div id=\"note\">\n",
    "        <p class=\"abc\">Какая-то умная надпись</p>\n",
    "        <p> Номер телефона 8(906)123-45-32 </p>\n",
    "    </div>\n",
    "    <table id=\"my_cool_table\">\n",
    "        <thead>\n",
    "            <tr abc=\"def\">\n",
    "                <td>#</td>\n",
    "                <td>Имя</td>\n",
    "                <td>Фамилия</td>\n",
    "                <td>Возраст</td>\n",
    "            </tr>\n",
    "        </thead>\n",
    "        <tbody>\n",
    "            <tr>\n",
    "                <td class=\"id\">1</td>\n",
    "                <td class=\"name\">Иван</td>\n",
    "                <td class=\"surname\">Петров</td>\n",
    "                <td class=\"age\">27</td>\n",
    "            </tr>\n",
    "            <tr>\n",
    "                <td class=\"id\">2</td>\n",
    "                <td class=\"name\">Петр</td>\n",
    "                <td class=\"surname\">Иванов</td>\n",
    "                <td class=\"age\">31</td>\n",
    "            </tr>\n",
    "            <tr>\n",
    "                <td class=\"id\">3</td>\n",
    "                <td class=\"name\">Петр</td>\n",
    "                <td class=\"surname\">Сидоров</td>\n",
    "                <td class=\"age\">19</td>\n",
    "            </tr>\n",
    "        </tbody>\n",
    "    </table>\n",
    "</body>\n",
    "</html>\n",
    "\n",
    "\"\"\""
   ]
  },
  {
   "cell_type": "code",
   "execution_count": 3,
   "metadata": {},
   "outputs": [
    {
     "data": {
      "text/html": [
       "\n",
       "<html>\n",
       "<body>\n",
       "    <div id=\"note\">\n",
       "        <p class=\"abc\">Какая-то умная надпись</p>\n",
       "        <p> Номер телефона 8(906)123-45-32 </p>\n",
       "    </div>\n",
       "    <table id=\"my_cool_table\">\n",
       "        <thead>\n",
       "            <tr abc=\"def\">\n",
       "                <td>#</td>\n",
       "                <td>Имя</td>\n",
       "                <td>Фамилия</td>\n",
       "                <td>Возраст</td>\n",
       "            </tr>\n",
       "        </thead>\n",
       "        <tbody>\n",
       "            <tr>\n",
       "                <td class=\"id\">1</td>\n",
       "                <td class=\"name\">Иван</td>\n",
       "                <td class=\"surname\">Петров</td>\n",
       "                <td class=\"age\">27</td>\n",
       "            </tr>\n",
       "            <tr>\n",
       "                <td class=\"id\">2</td>\n",
       "                <td class=\"name\">Петр</td>\n",
       "                <td class=\"surname\">Иванов</td>\n",
       "                <td class=\"age\">31</td>\n",
       "            </tr>\n",
       "            <tr>\n",
       "                <td class=\"id\">3</td>\n",
       "                <td class=\"name\">Петр</td>\n",
       "                <td class=\"surname\">Сидоров</td>\n",
       "                <td class=\"age\">19</td>\n",
       "            </tr>\n",
       "        </tbody>\n",
       "    </table>\n",
       "</body>\n",
       "</html>\n",
       "\n"
      ],
      "text/plain": [
       "<IPython.core.display.HTML object>"
      ]
     },
     "metadata": {},
     "output_type": "display_data"
    }
   ],
   "source": [
    "from IPython.display import display, HTML\n",
    "display(HTML(html_data))\n"
   ]
  },
  {
   "cell_type": "markdown",
   "metadata": {},
   "source": [
    "## Способы достать информацию из HTML\n",
    "1. Без учета структры. Используем регулярные выражения.\n",
    "2. С учетом древовидной структуры. Обращаемся к узлам дерева при помощи селекторов."
   ]
  },
  {
   "cell_type": "markdown",
   "metadata": {},
   "source": [
    "<b>HTML - это дерево.</b>\n",
    "<img src=\"./html_tree.svg\">"
   ]
  },
  {
   "cell_type": "markdown",
   "metadata": {},
   "source": [
    "### Селекторы\n",
    "\n",
    "#### XPath\n",
    "XPath - XML Path Language. Подходит для работы с любыми XML документами, не только HTML.\n",
    "\n",
    "<b>Синтаксис</b>\n",
    "\n",
    "Можно посмотреть, например, в https://bugbug.io/blog/testing-frameworks/the-ultimate-xpath-cheat-sheet/ или в https://msiter.ru/tutorials/xpath/syntax.\n",
    "* / - задает абсолютный путь (надо указать полный путь в дереве от корня до отыскиваемого узла);\n",
    "* // - позволяет отыскать узлы во всем документе.\n",
    "* . - текущий узел;\n",
    "* .. - родительский узел;\n",
    "* element - выбирает все узлы с именем element;\n",
    "* * - любой узел;\n",
    "* @attribute - позволяет получить значение атрибута attribute;\n",
    "* text() - позволяет получить текст, который находится внутри узла;\n",
    "* [predicate] - позволяет получить узлы, которые удовлетворяют условию predicate. Примеры условий: [@class='some_сlass'] - отыскивает все узлы с классом some_class; [1] - первый узел.\n",
    "* ...\n",
    "\n",
    "<b>Примеры</b>\n",
    "* /html/body/div/p - полный путь к узлу p с текстом \"Какая-то умная надпись\";\n",
    "* //tbody//td - позволяет отыскать все элементы td, находящиеся в теле таблицы;\n",
    "* //*[@id=\"note\"] - позволяет отыскать элемент с id=\"note\".\n",
    "\n",
    "<b>Плюсы</b>\n",
    "* Полноценный язык для работы со всеми xml документами, не только html.\n",
    "* Позволяет перемещаться по дереву вверх и вниз.\n",
    "* Есть поиск по тексту в узле и другие удобные вспомогательные функции.\n",
    "\n",
    "<b>Минусы</b>\n",
    "* Громоздкий.\n",
    "* Сложный в освоении.\n",
    "\n",
    "<b>Проверка через devtools<b>\n",
    "\n",
    "В консоли браузера делаем\n",
    "```javascript\n",
    "document.evaluate(\"//div\", document, null, XPathResult.FIRST_UNORDERED_NODE_ITERATOR_TYPE, null).iterateNext()\n",
    "```\n",
    "Документация по функции - https://developer.mozilla.org/en-US/docs/Web/API/Document/evaluate.\n",
    "\n",
    "#### CSS селекторы\n",
    "CSS (cascading style sheets) - каскадные таблицы стилей. Позволяют применить стиль к задаваемым CSS селекторами узлам. Эти же селекторы можно использовать для отыскания узлов в других задачах (например, парсинге). Применим только к html-документам.\n",
    "\n",
    "<b>Синтаксис</b>\n",
    "\n",
    "Можно посмотреть в https://scrapfly.io/blog/css-selector-cheatsheet/, https://www.w3schools.com/cssref/css_selectors.php.\n",
    "\n",
    "* '#id' - позволяет получить узел с заданным идентификатором id;\n",
    "* .class - позволяет получить узлы с классом class;\n",
    "* [attribute=\"value\"] - позволяет получать узлы со значением value атрибута attribute;\n",
    "* '>' - позволяет получать дочерние узлы другого узла;\n",
    "* '+' - позволяет получать узлы, следующие за узлом;\n",
    "* ~ - позволяет получать узлы, предшествующие узлу.\n",
    "* ...\n",
    "\n",
    "<b>Примеры</b>\n",
    "\n",
    "* '#note > p'. Получаем узел p, который является дочерним узлу с id=note.\n",
    "* td.name. Получаем узлы td с классом name.\n",
    "* tr[abc=\"def\"]. Получаем узел tr со значением \"def\" аттрибута abc.\n",
    "\n",
    "<b>Плюсы</b>\n",
    "\n",
    "* Селекторы более лаконичны по сравнению с XPath.\n",
    "* Проще в освоении.\n",
    "\n",
    "<b>Минусы</b>\n",
    "\n",
    "* Работает только с HTML страницами.\n",
    "* Может переходить только от родительских узлов к дочерним, в обратную сторону нельзя.\n",
    "* Меньше по сравнению с XPath встроенных возможностей.\n",
    "\n",
    "<b>Проверка через devtools<b>\n",
    "\n",
    "В консоли браузера делаем\n",
    "```javascript\n",
    "document.querySelectorAll('p.abc');\n",
    "document.querySelector('p.abc');\n",
    "```\n",
    "Документация по функциям - https://developer.mozilla.org/en-US/docs/Web/API/Document/querySelector, https://developer.mozilla.org/en-US/docs/Web/API/Document/querySelectorAll."
   ]
  },
  {
   "cell_type": "markdown",
   "metadata": {},
   "source": [
    "### Использование из библиотек python"
   ]
  },
  {
   "cell_type": "code",
   "execution_count": 4,
   "metadata": {},
   "outputs": [],
   "source": [
    "# css селекторы, библиотека beatiful soup\n",
    "from bs4 import BeautifulSoup\n",
    "soup = BeautifulSoup(html_data, 'html.parser')"
   ]
  },
  {
   "cell_type": "code",
   "execution_count": 5,
   "metadata": {},
   "outputs": [
    {
     "data": {
      "text/plain": [
       "'Какая-то умная надпись'"
      ]
     },
     "execution_count": 5,
     "metadata": {},
     "output_type": "execute_result"
    }
   ],
   "source": [
    "# один подходящий узел\n",
    "node =  soup.select_one('#note > p')\n",
    "node and node.text"
   ]
  },
  {
   "cell_type": "code",
   "execution_count": 6,
   "metadata": {},
   "outputs": [
    {
     "data": {
      "text/plain": [
       "['Какая-то умная надпись']"
      ]
     },
     "execution_count": 6,
     "metadata": {},
     "output_type": "execute_result"
    }
   ],
   "source": [
    "# все подходящие узлы\n",
    "nodes =  soup.select('#note > p')\n",
    "[*map(lambda x: x.text, nodes)]"
   ]
  },
  {
   "cell_type": "code",
   "execution_count": 7,
   "metadata": {},
   "outputs": [
    {
     "data": {
      "text/plain": [
       "['Какая-то умная надпись']"
      ]
     },
     "execution_count": 7,
     "metadata": {},
     "output_type": "execute_result"
    }
   ],
   "source": [
    "# XPath, библиотека lxml\n",
    "import io\n",
    "from lxml import etree\n",
    "parser = etree.HTMLParser()\n",
    "tree = etree.parse(io.StringIO(html_data), parser)\n",
    "nodes = tree.xpath('//*[@id=\"note\"]/p')\n",
    "[*map(lambda x: x.text, nodes)]"
   ]
  },
  {
   "cell_type": "code",
   "execution_count": 9,
   "metadata": {},
   "outputs": [
    {
     "data": {
      "text/plain": [
       "<re.Match object; span=(112, 127), match='8(906)123-45-32'>"
      ]
     },
     "execution_count": 9,
     "metadata": {},
     "output_type": "execute_result"
    }
   ],
   "source": [
    "# Регулярные выражения\n",
    "import re\n",
    "re.search(r'8\\(\\d{3}\\)\\d{3}-\\d{2}-\\d{2}', html_data)"
   ]
  }
 ],
 "metadata": {
  "kernelspec": {
   "display_name": "Python 3 (ipykernel)",
   "language": "python",
   "name": "python3"
  },
  "language_info": {
   "codemirror_mode": {
    "name": "ipython",
    "version": 3
   },
   "file_extension": ".py",
   "mimetype": "text/x-python",
   "name": "python",
   "nbconvert_exporter": "python",
   "pygments_lexer": "ipython3",
   "version": "3.8.10"
  }
 },
 "nbformat": 4,
 "nbformat_minor": 4
}
