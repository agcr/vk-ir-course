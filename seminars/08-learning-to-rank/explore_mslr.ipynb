{
 "cells": [
  {
   "cell_type": "markdown",
   "id": "f02e2af1-998e-4b33-8220-62270916d947",
   "metadata": {},
   "source": [
    "# Датасет MSLR (Microsoft Learning to Rank)"
   ]
  },
  {
   "cell_type": "markdown",
   "id": "837d0fd7-e327-4713-847c-3dfe4b2dba1d",
   "metadata": {},
   "source": [
    "В этом примере мы:\n",
    "- увидим как выглядят датасеты для обучения ранжированию на примере стандартного датасета MSLR\n",
    "- получим несколько простых бейзлайнов качества ранжирования, которые потом будем пытаться побить"
   ]
  },
  {
   "cell_type": "markdown",
   "id": "9bd118ff-063c-42fd-8883-64ab2d738202",
   "metadata": {},
   "source": [
    "## Пререквизиты"
   ]
  },
  {
   "cell_type": "markdown",
   "id": "be5045e6-040a-4863-a095-46cf2cfc1813",
   "metadata": {},
   "source": [
    "Импортируем все что нам понадобится для дальнейшей работы:"
   ]
  },
  {
   "cell_type": "code",
   "execution_count": 1,
   "id": "e1626b56-ac20-486e-90dc-087240c96dc5",
   "metadata": {},
   "outputs": [],
   "source": [
    "from timeit import default_timer as timer\n",
    "\n",
    "import numpy as np\n",
    "from matplotlib import pyplot as plt\n",
    "from sklearn import linear_model\n",
    "\n",
    "import catboost\n",
    "from catboost import datasets, utils"
   ]
  },
  {
   "cell_type": "markdown",
   "id": "9b04c221-be63-40a8-9047-0739f16f6234",
   "metadata": {},
   "source": [
    "## Стандартные датасеты для машинного обучения ранжированию"
   ]
  },
  {
   "cell_type": "markdown",
   "id": "a6ad0b57-dc15-4ae1-8fec-b7e412a8095a",
   "metadata": {},
   "source": [
    "Существуют несколько стандартных датасетов, на которых рисерчеры сравнивают качество различных алгоритмов и моделей для решения задачи ранжирования.\n",
    "\n",
    "Самые известные из таких датасетов -- это датасеты от компании Microsoft:\n",
    "- LETOR (Learning to Rank for Information Retrieval): https://www.microsoft.com/en-us/research/project/letor-learning-rank-information-retrieval/\n",
    "- MSLR (Microsoft Learning to Rank): https://www.microsoft.com/en-us/research/project/mslr/\n",
    "\n",
    "Эти и им подобные датасеты выглядят примерно одинаково -- это просто большие таблицы, где каждая строка соответствуют объекту -- паре запрос-документ.\n",
    "\n",
    "Объекты представлены в виде признаков, обычно их бывает от нескольких десятков до нескольких тысяч.<br>\n",
    "Ответом (таргетом) может быть либо асессорская оценка, либо какая-то поведенческая статистика, например число кликов в данный документ по данному запросу.<br>\n",
    "И, самое главное, в таком датасете обязательно должно быть колонка с ID запроса, которая позволяет связать объекты, относящиеся к одному и тому же запросу, т.е. это именно те объекты, которые мы хотим ранжировать.\n",
    "\n",
    "Дальше в этом тюториале мы также будем использовать датасет MSLR:\n",
    "- сначала проведем на нем EDA\n",
    "- и потом попробуем получить несколько простых бейзлайнов, таких как случайное ранжирование, ранжирование по фиче и простая линейная модель\n",
    "\n",
    "А в дальнейших примерах будем пытаться побить эти бейзлайны с помощью библиотек *catboost*, *xgboost* и *lightgbm*."
   ]
  },
  {
   "cell_type": "markdown",
   "id": "c0470ece-0248-41bd-8ac9-971730df1a6d",
   "metadata": {},
   "source": [
    "## Знакомство с датасетом MSLR"
   ]
  },
  {
   "cell_type": "markdown",
   "id": "c393310a-8f54-4eb4-9fb5-ab2775f28799",
   "metadata": {},
   "source": [
    "Полный датасет MSLR можно скачать с официального сайта: https://www.microsoft.com/en-us/research/project/mslr/\n",
    "\n",
    "Этот датасет представлен в двух вариантах:\n",
    "- MSLR-WEB10K в котором содержатся данные для 10 тыс. поисковых запросов\n",
    "- MSLR-WEB30K еще больше и содержит 30 тыс. запросов\n",
    "\n",
    "10 тыс. запросов это довольно много, и модели на таком датасете будут учиться долго, поэтом дальше мы будем использовать маленький сэмпл из MSLR-WEB10K всего на 175 запросов. \n",
    "\n",
    "Этот сэмпл уже доступен в библиотеке *catboost*, что очень удобно.\n",
    "\n",
    "Загрузим его:"
   ]
  },
  {
   "cell_type": "code",
   "execution_count": 2,
   "id": "61225ba7-5615-4e17-93e3-cbf592d3e600",
   "metadata": {},
   "outputs": [],
   "source": [
    "df_train, df_test = datasets.msrank_10k()"
   ]
  },
  {
   "cell_type": "markdown",
   "id": "86994de0-9f4a-4582-91f4-8ae1813b0df3",
   "metadata": {},
   "source": [
    "Датасет представляет собой обычный табличный датасет из 130 колонок:\n",
    "- В первой колонке лежит таргет (оценка асессора), по 5-балльной шкале релевантности: от 0 до 4 (включительно)\n",
    "- Во второй колонке лежит ID запроса, по которому можно сгруппировать все оценки документов в рамках одного и того же запроса\n",
    "- Дальше идет вектор из 128 фичей (таких как значения BM25 и т.п.), их точная природа нам сейчас на важна\n",
    "\n",
    "Посмотрим на данные:"
   ]
  },
  {
   "cell_type": "code",
   "execution_count": 3,
   "id": "b053cf6f-71de-41a9-a255-6e6ce91ea0f0",
   "metadata": {},
   "outputs": [
    {
     "data": {
      "text/html": [
       "<div>\n",
       "<style scoped>\n",
       "    .dataframe tbody tr th:only-of-type {\n",
       "        vertical-align: middle;\n",
       "    }\n",
       "\n",
       "    .dataframe tbody tr th {\n",
       "        vertical-align: top;\n",
       "    }\n",
       "\n",
       "    .dataframe thead th {\n",
       "        text-align: right;\n",
       "    }\n",
       "</style>\n",
       "<table border=\"1\" class=\"dataframe\">\n",
       "  <thead>\n",
       "    <tr style=\"text-align: right;\">\n",
       "      <th></th>\n",
       "      <th>0</th>\n",
       "      <th>1</th>\n",
       "      <th>2</th>\n",
       "      <th>3</th>\n",
       "      <th>4</th>\n",
       "      <th>5</th>\n",
       "      <th>6</th>\n",
       "      <th>7</th>\n",
       "      <th>8</th>\n",
       "      <th>9</th>\n",
       "      <th>...</th>\n",
       "      <th>128</th>\n",
       "      <th>129</th>\n",
       "      <th>130</th>\n",
       "      <th>131</th>\n",
       "      <th>132</th>\n",
       "      <th>133</th>\n",
       "      <th>134</th>\n",
       "      <th>135</th>\n",
       "      <th>136</th>\n",
       "      <th>137</th>\n",
       "    </tr>\n",
       "  </thead>\n",
       "  <tbody>\n",
       "    <tr>\n",
       "      <th>0</th>\n",
       "      <td>2.0</td>\n",
       "      <td>1</td>\n",
       "      <td>3</td>\n",
       "      <td>3</td>\n",
       "      <td>0</td>\n",
       "      <td>0</td>\n",
       "      <td>3</td>\n",
       "      <td>1.0</td>\n",
       "      <td>1.0</td>\n",
       "      <td>0.000000</td>\n",
       "      <td>...</td>\n",
       "      <td>62</td>\n",
       "      <td>11089534</td>\n",
       "      <td>2</td>\n",
       "      <td>116</td>\n",
       "      <td>64034</td>\n",
       "      <td>13</td>\n",
       "      <td>3</td>\n",
       "      <td>0</td>\n",
       "      <td>0</td>\n",
       "      <td>0.0</td>\n",
       "    </tr>\n",
       "    <tr>\n",
       "      <th>1</th>\n",
       "      <td>2.0</td>\n",
       "      <td>1</td>\n",
       "      <td>3</td>\n",
       "      <td>0</td>\n",
       "      <td>3</td>\n",
       "      <td>0</td>\n",
       "      <td>3</td>\n",
       "      <td>1.0</td>\n",
       "      <td>0.0</td>\n",
       "      <td>1.000000</td>\n",
       "      <td>...</td>\n",
       "      <td>54</td>\n",
       "      <td>11089534</td>\n",
       "      <td>2</td>\n",
       "      <td>124</td>\n",
       "      <td>64034</td>\n",
       "      <td>1</td>\n",
       "      <td>2</td>\n",
       "      <td>0</td>\n",
       "      <td>0</td>\n",
       "      <td>0.0</td>\n",
       "    </tr>\n",
       "    <tr>\n",
       "      <th>2</th>\n",
       "      <td>0.0</td>\n",
       "      <td>1</td>\n",
       "      <td>3</td>\n",
       "      <td>0</td>\n",
       "      <td>2</td>\n",
       "      <td>0</td>\n",
       "      <td>3</td>\n",
       "      <td>1.0</td>\n",
       "      <td>0.0</td>\n",
       "      <td>0.666667</td>\n",
       "      <td>...</td>\n",
       "      <td>45</td>\n",
       "      <td>3</td>\n",
       "      <td>1</td>\n",
       "      <td>124</td>\n",
       "      <td>3344</td>\n",
       "      <td>14</td>\n",
       "      <td>67</td>\n",
       "      <td>0</td>\n",
       "      <td>0</td>\n",
       "      <td>0.0</td>\n",
       "    </tr>\n",
       "    <tr>\n",
       "      <th>3</th>\n",
       "      <td>2.0</td>\n",
       "      <td>1</td>\n",
       "      <td>3</td>\n",
       "      <td>0</td>\n",
       "      <td>3</td>\n",
       "      <td>0</td>\n",
       "      <td>3</td>\n",
       "      <td>1.0</td>\n",
       "      <td>0.0</td>\n",
       "      <td>1.000000</td>\n",
       "      <td>...</td>\n",
       "      <td>56</td>\n",
       "      <td>11089534</td>\n",
       "      <td>13</td>\n",
       "      <td>123</td>\n",
       "      <td>63933</td>\n",
       "      <td>1</td>\n",
       "      <td>3</td>\n",
       "      <td>0</td>\n",
       "      <td>0</td>\n",
       "      <td>0.0</td>\n",
       "    </tr>\n",
       "    <tr>\n",
       "      <th>4</th>\n",
       "      <td>1.0</td>\n",
       "      <td>1</td>\n",
       "      <td>3</td>\n",
       "      <td>0</td>\n",
       "      <td>3</td>\n",
       "      <td>0</td>\n",
       "      <td>3</td>\n",
       "      <td>1.0</td>\n",
       "      <td>0.0</td>\n",
       "      <td>1.000000</td>\n",
       "      <td>...</td>\n",
       "      <td>64</td>\n",
       "      <td>5</td>\n",
       "      <td>7</td>\n",
       "      <td>256</td>\n",
       "      <td>49697</td>\n",
       "      <td>1</td>\n",
       "      <td>13</td>\n",
       "      <td>0</td>\n",
       "      <td>0</td>\n",
       "      <td>0.0</td>\n",
       "    </tr>\n",
       "  </tbody>\n",
       "</table>\n",
       "<p>5 rows × 138 columns</p>\n",
       "</div>"
      ],
      "text/plain": [
       "   0    1    2    3    4    5    6    7    8         9    ...  128       129  \\\n",
       "0  2.0    1    3    3    0    0    3  1.0  1.0  0.000000  ...   62  11089534   \n",
       "1  2.0    1    3    0    3    0    3  1.0  0.0  1.000000  ...   54  11089534   \n",
       "2  0.0    1    3    0    2    0    3  1.0  0.0  0.666667  ...   45         3   \n",
       "3  2.0    1    3    0    3    0    3  1.0  0.0  1.000000  ...   56  11089534   \n",
       "4  1.0    1    3    0    3    0    3  1.0  0.0  1.000000  ...   64         5   \n",
       "\n",
       "   130  131    132  133  134  135  136  137  \n",
       "0    2  116  64034   13    3    0    0  0.0  \n",
       "1    2  124  64034    1    2    0    0  0.0  \n",
       "2    1  124   3344   14   67    0    0  0.0  \n",
       "3   13  123  63933    1    3    0    0  0.0  \n",
       "4    7  256  49697    1   13    0    0  0.0  \n",
       "\n",
       "[5 rows x 138 columns]"
      ]
     },
     "execution_count": 3,
     "metadata": {},
     "output_type": "execute_result"
    }
   ],
   "source": [
    "df_train.head(5)"
   ]
  },
  {
   "cell_type": "markdown",
   "id": "fcef0d21-056f-42d8-a007-966444ab0996",
   "metadata": {},
   "source": [
    "Для удобства присвоим колонкам говорящие имена:"
   ]
  },
  {
   "cell_type": "code",
   "execution_count": 4,
   "id": "027e3c18-6103-4914-a872-cbc7879fce8e",
   "metadata": {},
   "outputs": [],
   "source": [
    "def generate_column_names(num_features):\n",
    "    \"\"\"Generates column names for LETOR-like datasets\"\"\"\n",
    "    columns = ['label', 'qid']\n",
    "    for i in range(num_features):\n",
    "        column = f\"feature_{i+1}\"\n",
    "        columns.append(column)\n",
    "    return columns\n",
    "\n",
    "# Assign column names\n",
    "columns = generate_column_names(num_features=136)\n",
    "df_train.columns = columns\n",
    "df_test.columns = columns"
   ]
  },
  {
   "cell_type": "markdown",
   "id": "02b7cb1b-4ad1-438f-b6d8-fd1676c34683",
   "metadata": {},
   "source": [
    "Теперь наши данные выглядят понятнее:"
   ]
  },
  {
   "cell_type": "code",
   "execution_count": 5,
   "id": "916f781c-8850-4dae-b619-cdc7ac0cc025",
   "metadata": {},
   "outputs": [
    {
     "data": {
      "text/html": [
       "<div>\n",
       "<style scoped>\n",
       "    .dataframe tbody tr th:only-of-type {\n",
       "        vertical-align: middle;\n",
       "    }\n",
       "\n",
       "    .dataframe tbody tr th {\n",
       "        vertical-align: top;\n",
       "    }\n",
       "\n",
       "    .dataframe thead th {\n",
       "        text-align: right;\n",
       "    }\n",
       "</style>\n",
       "<table border=\"1\" class=\"dataframe\">\n",
       "  <thead>\n",
       "    <tr style=\"text-align: right;\">\n",
       "      <th></th>\n",
       "      <th>label</th>\n",
       "      <th>qid</th>\n",
       "      <th>feature_1</th>\n",
       "      <th>feature_2</th>\n",
       "      <th>feature_3</th>\n",
       "      <th>feature_4</th>\n",
       "      <th>feature_5</th>\n",
       "      <th>feature_6</th>\n",
       "      <th>feature_7</th>\n",
       "      <th>feature_8</th>\n",
       "      <th>...</th>\n",
       "      <th>feature_127</th>\n",
       "      <th>feature_128</th>\n",
       "      <th>feature_129</th>\n",
       "      <th>feature_130</th>\n",
       "      <th>feature_131</th>\n",
       "      <th>feature_132</th>\n",
       "      <th>feature_133</th>\n",
       "      <th>feature_134</th>\n",
       "      <th>feature_135</th>\n",
       "      <th>feature_136</th>\n",
       "    </tr>\n",
       "  </thead>\n",
       "  <tbody>\n",
       "    <tr>\n",
       "      <th>0</th>\n",
       "      <td>2.0</td>\n",
       "      <td>1</td>\n",
       "      <td>3</td>\n",
       "      <td>3</td>\n",
       "      <td>0</td>\n",
       "      <td>0</td>\n",
       "      <td>3</td>\n",
       "      <td>1.0</td>\n",
       "      <td>1.0</td>\n",
       "      <td>0.000000</td>\n",
       "      <td>...</td>\n",
       "      <td>62</td>\n",
       "      <td>11089534</td>\n",
       "      <td>2</td>\n",
       "      <td>116</td>\n",
       "      <td>64034</td>\n",
       "      <td>13</td>\n",
       "      <td>3</td>\n",
       "      <td>0</td>\n",
       "      <td>0</td>\n",
       "      <td>0.0</td>\n",
       "    </tr>\n",
       "    <tr>\n",
       "      <th>1</th>\n",
       "      <td>2.0</td>\n",
       "      <td>1</td>\n",
       "      <td>3</td>\n",
       "      <td>0</td>\n",
       "      <td>3</td>\n",
       "      <td>0</td>\n",
       "      <td>3</td>\n",
       "      <td>1.0</td>\n",
       "      <td>0.0</td>\n",
       "      <td>1.000000</td>\n",
       "      <td>...</td>\n",
       "      <td>54</td>\n",
       "      <td>11089534</td>\n",
       "      <td>2</td>\n",
       "      <td>124</td>\n",
       "      <td>64034</td>\n",
       "      <td>1</td>\n",
       "      <td>2</td>\n",
       "      <td>0</td>\n",
       "      <td>0</td>\n",
       "      <td>0.0</td>\n",
       "    </tr>\n",
       "    <tr>\n",
       "      <th>2</th>\n",
       "      <td>0.0</td>\n",
       "      <td>1</td>\n",
       "      <td>3</td>\n",
       "      <td>0</td>\n",
       "      <td>2</td>\n",
       "      <td>0</td>\n",
       "      <td>3</td>\n",
       "      <td>1.0</td>\n",
       "      <td>0.0</td>\n",
       "      <td>0.666667</td>\n",
       "      <td>...</td>\n",
       "      <td>45</td>\n",
       "      <td>3</td>\n",
       "      <td>1</td>\n",
       "      <td>124</td>\n",
       "      <td>3344</td>\n",
       "      <td>14</td>\n",
       "      <td>67</td>\n",
       "      <td>0</td>\n",
       "      <td>0</td>\n",
       "      <td>0.0</td>\n",
       "    </tr>\n",
       "    <tr>\n",
       "      <th>3</th>\n",
       "      <td>2.0</td>\n",
       "      <td>1</td>\n",
       "      <td>3</td>\n",
       "      <td>0</td>\n",
       "      <td>3</td>\n",
       "      <td>0</td>\n",
       "      <td>3</td>\n",
       "      <td>1.0</td>\n",
       "      <td>0.0</td>\n",
       "      <td>1.000000</td>\n",
       "      <td>...</td>\n",
       "      <td>56</td>\n",
       "      <td>11089534</td>\n",
       "      <td>13</td>\n",
       "      <td>123</td>\n",
       "      <td>63933</td>\n",
       "      <td>1</td>\n",
       "      <td>3</td>\n",
       "      <td>0</td>\n",
       "      <td>0</td>\n",
       "      <td>0.0</td>\n",
       "    </tr>\n",
       "    <tr>\n",
       "      <th>4</th>\n",
       "      <td>1.0</td>\n",
       "      <td>1</td>\n",
       "      <td>3</td>\n",
       "      <td>0</td>\n",
       "      <td>3</td>\n",
       "      <td>0</td>\n",
       "      <td>3</td>\n",
       "      <td>1.0</td>\n",
       "      <td>0.0</td>\n",
       "      <td>1.000000</td>\n",
       "      <td>...</td>\n",
       "      <td>64</td>\n",
       "      <td>5</td>\n",
       "      <td>7</td>\n",
       "      <td>256</td>\n",
       "      <td>49697</td>\n",
       "      <td>1</td>\n",
       "      <td>13</td>\n",
       "      <td>0</td>\n",
       "      <td>0</td>\n",
       "      <td>0.0</td>\n",
       "    </tr>\n",
       "  </tbody>\n",
       "</table>\n",
       "<p>5 rows × 138 columns</p>\n",
       "</div>"
      ],
      "text/plain": [
       "   label  qid  feature_1  feature_2  feature_3  feature_4  feature_5  \\\n",
       "0    2.0    1          3          3          0          0          3   \n",
       "1    2.0    1          3          0          3          0          3   \n",
       "2    0.0    1          3          0          2          0          3   \n",
       "3    2.0    1          3          0          3          0          3   \n",
       "4    1.0    1          3          0          3          0          3   \n",
       "\n",
       "   feature_6  feature_7  feature_8  ...  feature_127  feature_128  \\\n",
       "0        1.0        1.0   0.000000  ...           62     11089534   \n",
       "1        1.0        0.0   1.000000  ...           54     11089534   \n",
       "2        1.0        0.0   0.666667  ...           45            3   \n",
       "3        1.0        0.0   1.000000  ...           56     11089534   \n",
       "4        1.0        0.0   1.000000  ...           64            5   \n",
       "\n",
       "   feature_129  feature_130  feature_131  feature_132  feature_133  \\\n",
       "0            2          116        64034           13            3   \n",
       "1            2          124        64034            1            2   \n",
       "2            1          124         3344           14           67   \n",
       "3           13          123        63933            1            3   \n",
       "4            7          256        49697            1           13   \n",
       "\n",
       "   feature_134  feature_135  feature_136  \n",
       "0            0            0          0.0  \n",
       "1            0            0          0.0  \n",
       "2            0            0          0.0  \n",
       "3            0            0          0.0  \n",
       "4            0            0          0.0  \n",
       "\n",
       "[5 rows x 138 columns]"
      ]
     },
     "execution_count": 5,
     "metadata": {},
     "output_type": "execute_result"
    }
   ],
   "source": [
    "df_train.head(5)"
   ]
  },
  {
   "cell_type": "markdown",
   "id": "d9f1545d-0999-4bb2-9d72-9cd9b10fb9fc",
   "metadata": {},
   "source": [
    "Проведем небольшой EDA.\n",
    "\n",
    "Всего у нас 10000 документов в трейне:"
   ]
  },
  {
   "cell_type": "code",
   "execution_count": 6,
   "id": "aa2ad7b6-a90a-4eda-a47f-ec9b407cd12f",
   "metadata": {},
   "outputs": [
    {
     "name": "stdout",
     "output_type": "stream",
     "text": [
      "<class 'pandas.core.frame.DataFrame'>\n",
      "RangeIndex: 10000 entries, 0 to 9999\n",
      "Columns: 138 entries, label to feature_136\n",
      "dtypes: float64(97), int64(41)\n",
      "memory usage: 10.5 MB\n"
     ]
    }
   ],
   "source": [
    "df_train.info()"
   ]
  },
  {
   "cell_type": "markdown",
   "id": "5e360312-89be-4d21-af28-7c24e7871e89",
   "metadata": {},
   "source": [
    "И 10000 документов в тесте:"
   ]
  },
  {
   "cell_type": "code",
   "execution_count": 7,
   "id": "d64e99fd-93a4-4a60-af94-7e81c7615504",
   "metadata": {},
   "outputs": [
    {
     "name": "stdout",
     "output_type": "stream",
     "text": [
      "<class 'pandas.core.frame.DataFrame'>\n",
      "RangeIndex: 10000 entries, 0 to 9999\n",
      "Columns: 138 entries, label to feature_136\n",
      "dtypes: float64(97), int64(41)\n",
      "memory usage: 10.5 MB\n"
     ]
    }
   ],
   "source": [
    "df_test.info()"
   ]
  },
  {
   "cell_type": "markdown",
   "id": "3be7932d-b65e-4b33-b468-c4ef727f4aa6",
   "metadata": {},
   "source": [
    "Сколько у нас запросов?"
   ]
  },
  {
   "cell_type": "code",
   "execution_count": 8,
   "id": "4c337181-5898-4889-8e4d-ccc872aea83d",
   "metadata": {},
   "outputs": [
    {
     "name": "stdout",
     "output_type": "stream",
     "text": [
      "Got 87 train and 88 test queries\n"
     ]
    }
   ],
   "source": [
    "num_queries_train = df_train['qid'].nunique()\n",
    "num_queries_test = df_test['qid'].nunique()\n",
    "print(f\"Got {num_queries_train} train and {num_queries_test} test queries\")"
   ]
  },
  {
   "cell_type": "markdown",
   "id": "7edd93a2-8714-473c-9a0a-259749f651a3",
   "metadata": {},
   "source": [
    "Получается, у нас примерно по 100 документов на запрос.\n",
    "\n",
    "Это типично, когда, например, для сбора датасета обкачивались и заливались на оценку топ-100 документов поисковой выдачи по случайным запросам.\n",
    "\n",
    "Посмотрим на это распределение более детально:"
   ]
  },
  {
   "cell_type": "code",
   "execution_count": 9,
   "id": "bc8d9b61-fa0e-4982-9976-4ab94f9cc91e",
   "metadata": {},
   "outputs": [
    {
     "data": {
      "image/png": "[encoded data removed]",
      "text/plain": [
       "<Figure size 640x480 with 1 Axes>"
      ]
     },
     "metadata": {},
     "output_type": "display_data"
    }
   ],
   "source": [
    "num_docs_by_qid = df_train.groupby('qid')['label'].agg('count')\n",
    "doc_counts = num_docs_by_qid.value_counts()\n",
    "x = doc_counts.index.to_numpy()\n",
    "y = doc_counts.to_numpy()\n",
    "plt.bar(x, y)\n",
    "plt.show()"
   ]
  },
  {
   "cell_type": "markdown",
   "id": "8fa8ba6b-aef3-4a13-884e-65da7f014abd",
   "metadata": {},
   "source": [
    "Теперь посмотрим на распределение таргетов (оценок):"
   ]
  },
  {
   "cell_type": "code",
   "execution_count": 10,
   "id": "5e427aaa-d453-4843-b824-4ebfb7897955",
   "metadata": {},
   "outputs": [
    {
     "data": {
      "text/plain": [
       "label\n",
       "0.0    5481\n",
       "1.0    3000\n",
       "2.0    1326\n",
       "3.0     142\n",
       "4.0      51\n",
       "Name: count, dtype: int64"
      ]
     },
     "execution_count": 10,
     "metadata": {},
     "output_type": "execute_result"
    }
   ],
   "source": [
    "df_train['label'].value_counts()"
   ]
  },
  {
   "cell_type": "code",
   "execution_count": 11,
   "id": "ec1d3dc2-54f6-46d1-b238-daed3743a809",
   "metadata": {},
   "outputs": [
    {
     "data": {
      "text/plain": [
       "label\n",
       "0.0    5755\n",
       "1.0    2830\n",
       "2.0    1221\n",
       "3.0     148\n",
       "4.0      46\n",
       "Name: count, dtype: int64"
      ]
     },
     "execution_count": 11,
     "metadata": {},
     "output_type": "execute_result"
    }
   ],
   "source": [
    "df_test['label'].value_counts()"
   ]
  },
  {
   "cell_type": "markdown",
   "id": "2b8fddaa-d7ba-453a-aa5f-5bc834be9951",
   "metadata": {},
   "source": [
    "Чтобы двигаться дальше, представим датасет в виде 3-х массивов numpy:\n",
    "\n",
    "- **y** -- вектор таргетов\n",
    "- **X** -- тензор из фичей\n",
    "- **q** -- вектор из ID запросов, которые позволяют сгруппировать все документы, которые относятся к одному и тому же запросу.\n",
    "\n",
    "Напишем функцию, которая позволит это сделать, и применим ее к нашим датафреймам:"
   ]
  },
  {
   "cell_type": "code",
   "execution_count": 12,
   "id": "9f15870f-9459-48d7-a69d-5cd26c23f464",
   "metadata": {},
   "outputs": [
    {
     "name": "stdout",
     "output_type": "stream",
     "text": [
      "Train: X_train.shape = (10000, 136) y_train.shape = (10000,) q_train.shape = (10000,)\n",
      "Test: X_test.shape = (10000, 136) y_test.shape = (10000,) q_test.shape = (10000,)\n"
     ]
    }
   ],
   "source": [
    "def to_numpy_dataset(df):\n",
    "    y = df['label'].to_numpy()                       # Label: [0-4]\n",
    "    q = df['qid'].to_numpy()                         # Query Id\n",
    "    X = df.drop(columns=['label', 'qid']).to_numpy() # 136 features\n",
    "    return (X, y, q)\n",
    "\n",
    "X_train, y_train, q_train = to_numpy_dataset(df_train)\n",
    "X_test, y_test, q_test = to_numpy_dataset(df_test)\n",
    "\n",
    "print(f\"Train: X_train.shape = {X_train.shape} y_train.shape = {y_train.shape} q_train.shape = {q_train.shape}\")\n",
    "print(f\"Test: X_test.shape = {X_test.shape} y_test.shape = {y_test.shape} q_test.shape = {q_test.shape}\")"
   ]
  },
  {
   "cell_type": "markdown",
   "id": "371749e1-bfcb-496a-ae82-2c9f586724a2",
   "metadata": {},
   "source": [
    "## Бейзлайн #1: случайное ранжирование"
   ]
  },
  {
   "cell_type": "markdown",
   "id": "3df89f5f-b261-4f7f-9fdb-eed2ded93f9d",
   "metadata": {},
   "source": [
    "Попробуем теперь получить несколько простых бейзлайнов качества поиска.\n",
    "\n",
    "Самое простое, что вообще можно придумать -- это ранжировать документы в рамках запроса случайно:"
   ]
  },
  {
   "cell_type": "code",
   "execution_count": 13,
   "id": "934b29fe-bd24-43b4-a45f-ce7f655eb9ec",
   "metadata": {},
   "outputs": [
    {
     "name": "stdout",
     "output_type": "stream",
     "text": [
      "0.20081259554363048\n"
     ]
    }
   ],
   "source": [
    "# Зафкисируем seed генератора случайных чисел\n",
    "np.random.seed(42)\n",
    "\n",
    "# Получим случайные предикты для тестового множества\n",
    "y_hat_test = np.random.uniform(size=len(y_test))\n",
    "\n",
    "# Посчитаем метрику NDCG@10 с помощью функции из библиотеки catboost\n",
    "scores = utils.eval_metric(y_test, y_hat_test, 'NDCG:top=10;type=Exp', group_id=q_test)\n",
    "print(scores[0])"
   ]
  },
  {
   "cell_type": "markdown",
   "id": "9a42bab9-600a-44c4-90aa-69b63aeaa5de",
   "metadata": {},
   "source": [
    "У нас получилось NDCG@10 = 0.20 -- кажется, что это довольно мало.\n",
    "\n",
    "Также, обратим внимание, что если в будущем у нас получится число *меньше* этого -- значит, мы просто ранжируем документы в обратном порядке!"
   ]
  },
  {
   "cell_type": "markdown",
   "id": "13b3094f-cf74-45f8-8c42-a2927374a31c",
   "metadata": {},
   "source": [
    "## Бейзлайн #2: ранжирование по отдельным признакам"
   ]
  },
  {
   "cell_type": "markdown",
   "id": "55cc3c9c-34f9-4778-8fca-e80b861a6e67",
   "metadata": {},
   "source": [
    "Следующий бейзлайн, который хотелось бы получить -- это ранжирование по отдельным фичам.\n",
    "\n",
    "Идея тут в том, что в поисковых задачах очень часто используются \"сильные\" фичи, такие как TF-IDF, BM25 или косинус между эмбеддингами каких-то нейронок. Такие фичи и сами по себе должны хорошо ранжировать документы, поэтому перед обучением моделей всегда очень полезно попробовать ранжировать по каждой из фичей в отдельности.\n",
    "\n",
    "Давайте попробуем это сделать:"
   ]
  },
  {
   "cell_type": "code",
   "execution_count": 14,
   "id": "d9129f18-5231-471e-b17f-b85d5af50d90",
   "metadata": {},
   "outputs": [
    {
     "name": "stdout",
     "output_type": "stream",
     "text": [
      "Best feature: feature_id = 110 best_ndcg = 0.287\n"
     ]
    }
   ],
   "source": [
    "num_features = X_test.shape[1]\n",
    "best_ndcg = 0\n",
    "best_feature_id = None\n",
    "\n",
    "# Будем ранжировать по каждой из фичей\n",
    "for i in range(num_features):\n",
    "    feature_id = i + 1\n",
    "    # Используем значение фичи в качестве предикта\n",
    "    y_hat_test = X_test[:,i]\n",
    "\n",
    "    # Считаем метрику NDCG\n",
    "    scores = utils.eval_metric(y_test, y_hat_test, 'NDCG:top=10;type=Exp', group_id=q_test)\n",
    "    ndcg = scores[0]\n",
    "           \n",
    "    if ndcg > best_ndcg:\n",
    "        best_ndcg = ndcg\n",
    "        best_feature_id = feature_id\n",
    "print(f\"Best feature: feature_id = {best_feature_id} best_ndcg = {best_ndcg:.3f}\")"
   ]
  },
  {
   "cell_type": "markdown",
   "id": "a16446bd-83f9-428d-96b9-f9dbe0f62a80",
   "metadata": {},
   "source": [
    "Мы видим, что фича под номером 128 дает NDCG@10 = 0.287, что значительно лучше, чем просто рандом.\n",
    "\n",
    "К сожалению, мы не знаем что именно это за фича, т.к. компания Microsoft не раскрыла эту информацию.\n",
    "\n",
    "По хорошему, надо провести аналогичное исследование и с использованием значений фичей со знаком минус, т.к. вполне возможна ситуация, когда какая-то из фичей обратно коррелирует с таргетом. Оставим это в качестве упражнения."
   ]
  },
  {
   "cell_type": "markdown",
   "id": "97ae868e-319b-4070-adfb-ecce7ae94205",
   "metadata": {},
   "source": [
    "## Бейзлайн #3: линейная регрессия на оценку"
   ]
  },
  {
   "cell_type": "markdown",
   "id": "9e2cf9a4-0c23-4d99-bc92-7cf08a8bf37f",
   "metadata": {},
   "source": [
    "Теперь можно попробовать обучить какую-то модель.\n",
    "\n",
    "Мы начнем с самого простого -- линейной регрессии из библиотеки *sklearn*.\n",
    "\n",
    "Есть использовать терминологию машинного обучения ранжированию, то это _pointwise_ модель, которая в качестве лосса использует обычное RMSE."
   ]
  },
  {
   "cell_type": "markdown",
   "id": "eb0534f6-713f-4fa1-83c6-5d20104c1495",
   "metadata": {},
   "source": [
    "Обучим модель:"
   ]
  },
  {
   "cell_type": "code",
   "execution_count": 15,
   "id": "22758401-b1aa-4eee-a6d5-2dfc257ec7c3",
   "metadata": {},
   "outputs": [
    {
     "name": "stdout",
     "output_type": "stream",
     "text": [
      "Fit linear regression: elapsed = 0.630\n"
     ]
    }
   ],
   "source": [
    "model = linear_model.LinearRegression()\n",
    "\n",
    "start = timer()\n",
    "model.fit(X_train, y_train)\n",
    "print(f\"Fit linear regression: elapsed = {timer() - start:.3f}\")"
   ]
  },
  {
   "cell_type": "markdown",
   "id": "c16f73c0-7873-4676-aad0-7eeb1f1a78f7",
   "metadata": {},
   "source": [
    "Видим, что модель обучилась очень быстро.\n",
    "\n",
    "Применим ее к тестовому множеству, и померяем качество:"
   ]
  },
  {
   "cell_type": "code",
   "execution_count": 16,
   "id": "3d34305a-86c9-429b-b571-dd3d132c5d90",
   "metadata": {},
   "outputs": [
    {
     "name": "stdout",
     "output_type": "stream",
     "text": [
      "0.34781016642087237\n"
     ]
    }
   ],
   "source": [
    "# Получаем предсказания\n",
    "y_hat_test = model.predict(X_test)\n",
    "\n",
    "# Считаем метрику NDCG@10\n",
    "scores = utils.eval_metric(y_test, y_hat_test, 'NDCG:top=10;type=Exp', group_id=q_test)\n",
    "print(scores[0])"
   ]
  },
  {
   "cell_type": "markdown",
   "id": "e4fb13c5-d705-4f42-85cd-e19e5ea66e1f",
   "metadata": {},
   "source": [
    "Мы получили NDCG@10 = 0.34, что уже значительно лучше чем давало ранжирование по отдельной фиче.\n",
    "\n",
    "Даже на этом простом примере видна сила машинного обучения, т.к. комбинируя простые ранки (такие как BM25) мы можем получить качество поиска гораздно лучше, чем если бы мы использовали только BM25!"
   ]
  },
  {
   "cell_type": "markdown",
   "id": "6234e160-40b5-4609-a01e-c1c0613fc175",
   "metadata": {},
   "source": [
    "## Результаты"
   ]
  },
  {
   "cell_type": "markdown",
   "id": "e1f9d6c3-80d6-4a6a-ab23-f67b70fc883f",
   "metadata": {},
   "source": [
    "Соберем все наши результаты в табличку:\n",
    "- рандом дал NDCG@10 = **0.20**\n",
    "- лучшая из фичей дала NDCG@10 = **0.28**\n",
    "- линейная регрессия из *sklearn* дала NDCG@10 = **0.34**\n",
    "\n",
    "\n",
    "Дальше мы увидим, что эти результаты можно драматически улучшить с помощью моделей градиентного бустинга."
   ]
  }
 ],
 "metadata": {
  "kernelspec": {
   "display_name": "Python 3 (ipykernel)",
   "language": "python",
   "name": "python3"
  },
  "language_info": {
   "codemirror_mode": {
    "name": "ipython",
    "version": 3
   },
   "file_extension": ".py",
   "mimetype": "text/x-python",
   "name": "python",
   "nbconvert_exporter": "python",
   "pygments_lexer": "ipython3",
   "version": "3.12.9"
  }
 },
 "nbformat": 4,
 "nbformat_minor": 5
}
