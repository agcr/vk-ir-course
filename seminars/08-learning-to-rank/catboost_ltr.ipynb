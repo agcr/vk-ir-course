{
 "cells": [
  {
   "cell_type": "markdown",
   "id": "f02e2af1-998e-4b33-8220-62270916d947",
   "metadata": {},
   "source": [
    "# Машинное обучение ранжированию с помощью библиотеки CatBoost"
   ]
  },
  {
   "cell_type": "markdown",
   "id": "837d0fd7-e327-4713-847c-3dfe4b2dba1d",
   "metadata": {},
   "source": [
    "В этом примере мы:\n",
    "- увидим как выглядят датасеты для машинного обучения ранжированию, на примере стандартного датасета [MSLR](https://www.microsoft.com/en-us/research/project/mslr/)\n",
    "- познакомимся с библиотекой **CatBoost**\n",
    "- научимся решать задачу машинного обучения ранжирования используя алгоритмы, реализованные в **CatBoost**"
   ]
  },
  {
   "cell_type": "markdown",
   "id": "74db45aa-1306-4dc6-ace5-c34e973cc171",
   "metadata": {},
   "source": [
    "## Библиотека CatBoost"
   ]
  },
  {
   "cell_type": "markdown",
   "id": "74dcdafd-ae04-41ff-97ee-cab61fee61aa",
   "metadata": {},
   "source": [
    "Полезные ссылки:\n",
    "- домашняя страница: https://catboost.ai/\n",
    "- официальный тюториал по машинному обучению ранжированию: https://github.com/catboost/tutorials/blob/master/ranking/ranking_tutorial.ipynb\n",
    "- полный список доступных для оптимизации метрик и лоссов: https://catboost.ai/en/docs/concepts/loss-functions-ranking"
   ]
  },
  {
   "cell_type": "markdown",
   "id": "9bd118ff-063c-42fd-8883-64ab2d738202",
   "metadata": {},
   "source": [
    "## Пререквизиты"
   ]
  },
  {
   "cell_type": "markdown",
   "id": "be5045e6-040a-4863-a095-46cf2cfc1813",
   "metadata": {},
   "source": [
    "Импортируем все что нам понадобится для дальнейшей работы:"
   ]
  },
  {
   "cell_type": "code",
   "execution_count": 25,
   "id": "e1626b56-ac20-486e-90dc-087240c96dc5",
   "metadata": {},
   "outputs": [],
   "source": [
    "import copy\n",
    "from timeit import default_timer as timer\n",
    "\n",
    "import catboost\n",
    "from catboost import datasets, utils"
   ]
  },
  {
   "cell_type": "markdown",
   "id": "c0470ece-0248-41bd-8ac9-971730df1a6d",
   "metadata": {},
   "source": [
    "## Датасет MSLR (Microsoft Learning to Rank)"
   ]
  },
  {
   "cell_type": "markdown",
   "id": "c393310a-8f54-4eb4-9fb5-ab2775f28799",
   "metadata": {},
   "source": [
    "Дальше мы будем работать с датасетом MSLR.\n",
    "\n",
    "Полный датасет можно скачать с официального сайта: https://www.microsoft.com/en-us/research/project/mslr/\n",
    "\n",
    "Мы этого делать не будем т.к. в CatBoost уже встроена возможность загрузить небольшой сабсет MSLR, с которым мы и будем работать дальше.\n",
    "\n",
    "Загрузим этот сабсет:"
   ]
  },
  {
   "cell_type": "code",
   "execution_count": 26,
   "id": "61225ba7-5615-4e17-93e3-cbf592d3e600",
   "metadata": {},
   "outputs": [],
   "source": [
    "df_train, df_test = datasets.msrank_10k()"
   ]
  },
  {
   "cell_type": "markdown",
   "id": "86994de0-9f4a-4582-91f4-8ae1813b0df3",
   "metadata": {},
   "source": [
    "Датасет представляет собой обычный табличный датасет из 130 колонок:\n",
    "- В первой колонке лежит таргет (оценка асессора), по 5-балльной шкале релевантности: от 0 до 4 (включительно)\n",
    "- Во второй колонке лежит ID запроса, по которому можно сгруппировать все оценки документов в рамках одного и того же запроса\n",
    "- Дальше идет вектор из 128 фичей (таких как значения BM25 и т.п.), их точная природа нам сейчас на важна\n",
    "\n",
    "Посмотрим на данные:"
   ]
  },
  {
   "cell_type": "code",
   "execution_count": 27,
   "id": "b053cf6f-71de-41a9-a255-6e6ce91ea0f0",
   "metadata": {},
   "outputs": [
    {
     "data": {
      "text/html": [
       "<div>\n",
       "<style scoped>\n",
       "    .dataframe tbody tr th:only-of-type {\n",
       "        vertical-align: middle;\n",
       "    }\n",
       "\n",
       "    .dataframe tbody tr th {\n",
       "        vertical-align: top;\n",
       "    }\n",
       "\n",
       "    .dataframe thead th {\n",
       "        text-align: right;\n",
       "    }\n",
       "</style>\n",
       "<table border=\"1\" class=\"dataframe\">\n",
       "  <thead>\n",
       "    <tr style=\"text-align: right;\">\n",
       "      <th></th>\n",
       "      <th>0</th>\n",
       "      <th>1</th>\n",
       "      <th>2</th>\n",
       "      <th>3</th>\n",
       "      <th>4</th>\n",
       "      <th>5</th>\n",
       "      <th>6</th>\n",
       "      <th>7</th>\n",
       "      <th>8</th>\n",
       "      <th>9</th>\n",
       "      <th>...</th>\n",
       "      <th>128</th>\n",
       "      <th>129</th>\n",
       "      <th>130</th>\n",
       "      <th>131</th>\n",
       "      <th>132</th>\n",
       "      <th>133</th>\n",
       "      <th>134</th>\n",
       "      <th>135</th>\n",
       "      <th>136</th>\n",
       "      <th>137</th>\n",
       "    </tr>\n",
       "  </thead>\n",
       "  <tbody>\n",
       "    <tr>\n",
       "      <th>0</th>\n",
       "      <td>2.0</td>\n",
       "      <td>1</td>\n",
       "      <td>3</td>\n",
       "      <td>3</td>\n",
       "      <td>0</td>\n",
       "      <td>0</td>\n",
       "      <td>3</td>\n",
       "      <td>1.0</td>\n",
       "      <td>1.0</td>\n",
       "      <td>0.000000</td>\n",
       "      <td>...</td>\n",
       "      <td>62</td>\n",
       "      <td>11089534</td>\n",
       "      <td>2</td>\n",
       "      <td>116</td>\n",
       "      <td>64034</td>\n",
       "      <td>13</td>\n",
       "      <td>3</td>\n",
       "      <td>0</td>\n",
       "      <td>0</td>\n",
       "      <td>0.0</td>\n",
       "    </tr>\n",
       "    <tr>\n",
       "      <th>1</th>\n",
       "      <td>2.0</td>\n",
       "      <td>1</td>\n",
       "      <td>3</td>\n",
       "      <td>0</td>\n",
       "      <td>3</td>\n",
       "      <td>0</td>\n",
       "      <td>3</td>\n",
       "      <td>1.0</td>\n",
       "      <td>0.0</td>\n",
       "      <td>1.000000</td>\n",
       "      <td>...</td>\n",
       "      <td>54</td>\n",
       "      <td>11089534</td>\n",
       "      <td>2</td>\n",
       "      <td>124</td>\n",
       "      <td>64034</td>\n",
       "      <td>1</td>\n",
       "      <td>2</td>\n",
       "      <td>0</td>\n",
       "      <td>0</td>\n",
       "      <td>0.0</td>\n",
       "    </tr>\n",
       "    <tr>\n",
       "      <th>2</th>\n",
       "      <td>0.0</td>\n",
       "      <td>1</td>\n",
       "      <td>3</td>\n",
       "      <td>0</td>\n",
       "      <td>2</td>\n",
       "      <td>0</td>\n",
       "      <td>3</td>\n",
       "      <td>1.0</td>\n",
       "      <td>0.0</td>\n",
       "      <td>0.666667</td>\n",
       "      <td>...</td>\n",
       "      <td>45</td>\n",
       "      <td>3</td>\n",
       "      <td>1</td>\n",
       "      <td>124</td>\n",
       "      <td>3344</td>\n",
       "      <td>14</td>\n",
       "      <td>67</td>\n",
       "      <td>0</td>\n",
       "      <td>0</td>\n",
       "      <td>0.0</td>\n",
       "    </tr>\n",
       "    <tr>\n",
       "      <th>3</th>\n",
       "      <td>2.0</td>\n",
       "      <td>1</td>\n",
       "      <td>3</td>\n",
       "      <td>0</td>\n",
       "      <td>3</td>\n",
       "      <td>0</td>\n",
       "      <td>3</td>\n",
       "      <td>1.0</td>\n",
       "      <td>0.0</td>\n",
       "      <td>1.000000</td>\n",
       "      <td>...</td>\n",
       "      <td>56</td>\n",
       "      <td>11089534</td>\n",
       "      <td>13</td>\n",
       "      <td>123</td>\n",
       "      <td>63933</td>\n",
       "      <td>1</td>\n",
       "      <td>3</td>\n",
       "      <td>0</td>\n",
       "      <td>0</td>\n",
       "      <td>0.0</td>\n",
       "    </tr>\n",
       "    <tr>\n",
       "      <th>4</th>\n",
       "      <td>1.0</td>\n",
       "      <td>1</td>\n",
       "      <td>3</td>\n",
       "      <td>0</td>\n",
       "      <td>3</td>\n",
       "      <td>0</td>\n",
       "      <td>3</td>\n",
       "      <td>1.0</td>\n",
       "      <td>0.0</td>\n",
       "      <td>1.000000</td>\n",
       "      <td>...</td>\n",
       "      <td>64</td>\n",
       "      <td>5</td>\n",
       "      <td>7</td>\n",
       "      <td>256</td>\n",
       "      <td>49697</td>\n",
       "      <td>1</td>\n",
       "      <td>13</td>\n",
       "      <td>0</td>\n",
       "      <td>0</td>\n",
       "      <td>0.0</td>\n",
       "    </tr>\n",
       "  </tbody>\n",
       "</table>\n",
       "<p>5 rows × 138 columns</p>\n",
       "</div>"
      ],
      "text/plain": [
       "   0    1    2    3    4    5    6    7    8         9    ...  128       129  \\\n",
       "0  2.0    1    3    3    0    0    3  1.0  1.0  0.000000  ...   62  11089534   \n",
       "1  2.0    1    3    0    3    0    3  1.0  0.0  1.000000  ...   54  11089534   \n",
       "2  0.0    1    3    0    2    0    3  1.0  0.0  0.666667  ...   45         3   \n",
       "3  2.0    1    3    0    3    0    3  1.0  0.0  1.000000  ...   56  11089534   \n",
       "4  1.0    1    3    0    3    0    3  1.0  0.0  1.000000  ...   64         5   \n",
       "\n",
       "   130  131    132  133  134  135  136  137  \n",
       "0    2  116  64034   13    3    0    0  0.0  \n",
       "1    2  124  64034    1    2    0    0  0.0  \n",
       "2    1  124   3344   14   67    0    0  0.0  \n",
       "3   13  123  63933    1    3    0    0  0.0  \n",
       "4    7  256  49697    1   13    0    0  0.0  \n",
       "\n",
       "[5 rows x 138 columns]"
      ]
     },
     "execution_count": 27,
     "metadata": {},
     "output_type": "execute_result"
    }
   ],
   "source": [
    "df_train.head(5)"
   ]
  },
  {
   "cell_type": "markdown",
   "id": "fcef0d21-056f-42d8-a007-966444ab0996",
   "metadata": {},
   "source": [
    "Для удобства присвоим колонкам говорящие имена:"
   ]
  },
  {
   "cell_type": "code",
   "execution_count": 28,
   "id": "027e3c18-6103-4914-a872-cbc7879fce8e",
   "metadata": {},
   "outputs": [],
   "source": [
    "def generate_column_names(num_features):\n",
    "    \"\"\"Generates column names for LETOR-like datasets\"\"\"\n",
    "    columns = ['label', 'qid']\n",
    "    for i in range(num_features):\n",
    "        column = f\"feature_{i+1}\"\n",
    "        columns.append(column)\n",
    "    return columns\n",
    "\n",
    "# Assign column names\n",
    "columns = generate_column_names(num_features=136)\n",
    "df_train.columns = columns\n",
    "df_test.columns = columns"
   ]
  },
  {
   "cell_type": "markdown",
   "id": "02b7cb1b-4ad1-438f-b6d8-fd1676c34683",
   "metadata": {},
   "source": [
    "Теперь наши данные выглядят понятнее:"
   ]
  },
  {
   "cell_type": "code",
   "execution_count": 29,
   "id": "916f781c-8850-4dae-b619-cdc7ac0cc025",
   "metadata": {},
   "outputs": [
    {
     "data": {
      "text/html": [
       "<div>\n",
       "<style scoped>\n",
       "    .dataframe tbody tr th:only-of-type {\n",
       "        vertical-align: middle;\n",
       "    }\n",
       "\n",
       "    .dataframe tbody tr th {\n",
       "        vertical-align: top;\n",
       "    }\n",
       "\n",
       "    .dataframe thead th {\n",
       "        text-align: right;\n",
       "    }\n",
       "</style>\n",
       "<table border=\"1\" class=\"dataframe\">\n",
       "  <thead>\n",
       "    <tr style=\"text-align: right;\">\n",
       "      <th></th>\n",
       "      <th>label</th>\n",
       "      <th>qid</th>\n",
       "      <th>feature_1</th>\n",
       "      <th>feature_2</th>\n",
       "      <th>feature_3</th>\n",
       "      <th>feature_4</th>\n",
       "      <th>feature_5</th>\n",
       "      <th>feature_6</th>\n",
       "      <th>feature_7</th>\n",
       "      <th>feature_8</th>\n",
       "      <th>...</th>\n",
       "      <th>feature_127</th>\n",
       "      <th>feature_128</th>\n",
       "      <th>feature_129</th>\n",
       "      <th>feature_130</th>\n",
       "      <th>feature_131</th>\n",
       "      <th>feature_132</th>\n",
       "      <th>feature_133</th>\n",
       "      <th>feature_134</th>\n",
       "      <th>feature_135</th>\n",
       "      <th>feature_136</th>\n",
       "    </tr>\n",
       "  </thead>\n",
       "  <tbody>\n",
       "    <tr>\n",
       "      <th>0</th>\n",
       "      <td>2.0</td>\n",
       "      <td>1</td>\n",
       "      <td>3</td>\n",
       "      <td>3</td>\n",
       "      <td>0</td>\n",
       "      <td>0</td>\n",
       "      <td>3</td>\n",
       "      <td>1.0</td>\n",
       "      <td>1.0</td>\n",
       "      <td>0.000000</td>\n",
       "      <td>...</td>\n",
       "      <td>62</td>\n",
       "      <td>11089534</td>\n",
       "      <td>2</td>\n",
       "      <td>116</td>\n",
       "      <td>64034</td>\n",
       "      <td>13</td>\n",
       "      <td>3</td>\n",
       "      <td>0</td>\n",
       "      <td>0</td>\n",
       "      <td>0.0</td>\n",
       "    </tr>\n",
       "    <tr>\n",
       "      <th>1</th>\n",
       "      <td>2.0</td>\n",
       "      <td>1</td>\n",
       "      <td>3</td>\n",
       "      <td>0</td>\n",
       "      <td>3</td>\n",
       "      <td>0</td>\n",
       "      <td>3</td>\n",
       "      <td>1.0</td>\n",
       "      <td>0.0</td>\n",
       "      <td>1.000000</td>\n",
       "      <td>...</td>\n",
       "      <td>54</td>\n",
       "      <td>11089534</td>\n",
       "      <td>2</td>\n",
       "      <td>124</td>\n",
       "      <td>64034</td>\n",
       "      <td>1</td>\n",
       "      <td>2</td>\n",
       "      <td>0</td>\n",
       "      <td>0</td>\n",
       "      <td>0.0</td>\n",
       "    </tr>\n",
       "    <tr>\n",
       "      <th>2</th>\n",
       "      <td>0.0</td>\n",
       "      <td>1</td>\n",
       "      <td>3</td>\n",
       "      <td>0</td>\n",
       "      <td>2</td>\n",
       "      <td>0</td>\n",
       "      <td>3</td>\n",
       "      <td>1.0</td>\n",
       "      <td>0.0</td>\n",
       "      <td>0.666667</td>\n",
       "      <td>...</td>\n",
       "      <td>45</td>\n",
       "      <td>3</td>\n",
       "      <td>1</td>\n",
       "      <td>124</td>\n",
       "      <td>3344</td>\n",
       "      <td>14</td>\n",
       "      <td>67</td>\n",
       "      <td>0</td>\n",
       "      <td>0</td>\n",
       "      <td>0.0</td>\n",
       "    </tr>\n",
       "    <tr>\n",
       "      <th>3</th>\n",
       "      <td>2.0</td>\n",
       "      <td>1</td>\n",
       "      <td>3</td>\n",
       "      <td>0</td>\n",
       "      <td>3</td>\n",
       "      <td>0</td>\n",
       "      <td>3</td>\n",
       "      <td>1.0</td>\n",
       "      <td>0.0</td>\n",
       "      <td>1.000000</td>\n",
       "      <td>...</td>\n",
       "      <td>56</td>\n",
       "      <td>11089534</td>\n",
       "      <td>13</td>\n",
       "      <td>123</td>\n",
       "      <td>63933</td>\n",
       "      <td>1</td>\n",
       "      <td>3</td>\n",
       "      <td>0</td>\n",
       "      <td>0</td>\n",
       "      <td>0.0</td>\n",
       "    </tr>\n",
       "    <tr>\n",
       "      <th>4</th>\n",
       "      <td>1.0</td>\n",
       "      <td>1</td>\n",
       "      <td>3</td>\n",
       "      <td>0</td>\n",
       "      <td>3</td>\n",
       "      <td>0</td>\n",
       "      <td>3</td>\n",
       "      <td>1.0</td>\n",
       "      <td>0.0</td>\n",
       "      <td>1.000000</td>\n",
       "      <td>...</td>\n",
       "      <td>64</td>\n",
       "      <td>5</td>\n",
       "      <td>7</td>\n",
       "      <td>256</td>\n",
       "      <td>49697</td>\n",
       "      <td>1</td>\n",
       "      <td>13</td>\n",
       "      <td>0</td>\n",
       "      <td>0</td>\n",
       "      <td>0.0</td>\n",
       "    </tr>\n",
       "  </tbody>\n",
       "</table>\n",
       "<p>5 rows × 138 columns</p>\n",
       "</div>"
      ],
      "text/plain": [
       "   label  qid  feature_1  feature_2  feature_3  feature_4  feature_5  \\\n",
       "0    2.0    1          3          3          0          0          3   \n",
       "1    2.0    1          3          0          3          0          3   \n",
       "2    0.0    1          3          0          2          0          3   \n",
       "3    2.0    1          3          0          3          0          3   \n",
       "4    1.0    1          3          0          3          0          3   \n",
       "\n",
       "   feature_6  feature_7  feature_8  ...  feature_127  feature_128  \\\n",
       "0        1.0        1.0   0.000000  ...           62     11089534   \n",
       "1        1.0        0.0   1.000000  ...           54     11089534   \n",
       "2        1.0        0.0   0.666667  ...           45            3   \n",
       "3        1.0        0.0   1.000000  ...           56     11089534   \n",
       "4        1.0        0.0   1.000000  ...           64            5   \n",
       "\n",
       "   feature_129  feature_130  feature_131  feature_132  feature_133  \\\n",
       "0            2          116        64034           13            3   \n",
       "1            2          124        64034            1            2   \n",
       "2            1          124         3344           14           67   \n",
       "3           13          123        63933            1            3   \n",
       "4            7          256        49697            1           13   \n",
       "\n",
       "   feature_134  feature_135  feature_136  \n",
       "0            0            0          0.0  \n",
       "1            0            0          0.0  \n",
       "2            0            0          0.0  \n",
       "3            0            0          0.0  \n",
       "4            0            0          0.0  \n",
       "\n",
       "[5 rows x 138 columns]"
      ]
     },
     "execution_count": 29,
     "metadata": {},
     "output_type": "execute_result"
    }
   ],
   "source": [
    "df_train.head(5)"
   ]
  },
  {
   "cell_type": "markdown",
   "id": "d9f1545d-0999-4bb2-9d72-9cd9b10fb9fc",
   "metadata": {},
   "source": [
    "Проведем небольшой EDA.\n",
    "\n",
    "Всего у нас 10000 документов в трейне:"
   ]
  },
  {
   "cell_type": "code",
   "execution_count": 30,
   "id": "aa2ad7b6-a90a-4eda-a47f-ec9b407cd12f",
   "metadata": {},
   "outputs": [
    {
     "name": "stdout",
     "output_type": "stream",
     "text": [
      "<class 'pandas.core.frame.DataFrame'>\n",
      "RangeIndex: 10000 entries, 0 to 9999\n",
      "Columns: 138 entries, label to feature_136\n",
      "dtypes: float64(97), int64(41)\n",
      "memory usage: 10.5 MB\n"
     ]
    }
   ],
   "source": [
    "df_train.info()"
   ]
  },
  {
   "cell_type": "markdown",
   "id": "5e360312-89be-4d21-af28-7c24e7871e89",
   "metadata": {},
   "source": [
    "И 10000 документов в тесте:"
   ]
  },
  {
   "cell_type": "code",
   "execution_count": 31,
   "id": "d64e99fd-93a4-4a60-af94-7e81c7615504",
   "metadata": {},
   "outputs": [
    {
     "name": "stdout",
     "output_type": "stream",
     "text": [
      "<class 'pandas.core.frame.DataFrame'>\n",
      "RangeIndex: 10000 entries, 0 to 9999\n",
      "Columns: 138 entries, label to feature_136\n",
      "dtypes: float64(97), int64(41)\n",
      "memory usage: 10.5 MB\n"
     ]
    }
   ],
   "source": [
    "df_test.info()"
   ]
  },
  {
   "cell_type": "markdown",
   "id": "3be7932d-b65e-4b33-b468-c4ef727f4aa6",
   "metadata": {},
   "source": [
    "Сколько у нас запросов?"
   ]
  },
  {
   "cell_type": "code",
   "execution_count": 32,
   "id": "4c337181-5898-4889-8e4d-ccc872aea83d",
   "metadata": {},
   "outputs": [
    {
     "name": "stdout",
     "output_type": "stream",
     "text": [
      "Got 87 train and 88 test queries\n"
     ]
    }
   ],
   "source": [
    "num_queries_train = df_train['qid'].nunique()\n",
    "num_queries_test = df_test['qid'].nunique()\n",
    "print(f\"Got {num_queries_train} train and {num_queries_test} test queries\")"
   ]
  },
  {
   "cell_type": "markdown",
   "id": "7edd93a2-8714-473c-9a0a-259749f651a3",
   "metadata": {},
   "source": [
    "Получается, у нас примерно по 100 документов на запрос.\n",
    "\n",
    "Это типично, когда, например, для сбора датасета обкачивались и заливались на оценку топ-100 документов поисковой выдачи по случайным запросам."
   ]
  },
  {
   "cell_type": "markdown",
   "id": "8fa8ba6b-aef3-4a13-884e-65da7f014abd",
   "metadata": {},
   "source": [
    "Теперь посмотрим на распределение таргетов (оценок):"
   ]
  },
  {
   "cell_type": "code",
   "execution_count": 33,
   "id": "5e427aaa-d453-4843-b824-4ebfb7897955",
   "metadata": {},
   "outputs": [
    {
     "data": {
      "text/plain": [
       "label\n",
       "0.0    5481\n",
       "1.0    3000\n",
       "2.0    1326\n",
       "3.0     142\n",
       "4.0      51\n",
       "Name: count, dtype: int64"
      ]
     },
     "execution_count": 33,
     "metadata": {},
     "output_type": "execute_result"
    }
   ],
   "source": [
    "df_train['label'].value_counts()"
   ]
  },
  {
   "cell_type": "code",
   "execution_count": 34,
   "id": "ec1d3dc2-54f6-46d1-b238-daed3743a809",
   "metadata": {},
   "outputs": [
    {
     "data": {
      "text/plain": [
       "label\n",
       "0.0    5755\n",
       "1.0    2830\n",
       "2.0    1221\n",
       "3.0     148\n",
       "4.0      46\n",
       "Name: count, dtype: int64"
      ]
     },
     "execution_count": 34,
     "metadata": {},
     "output_type": "execute_result"
    }
   ],
   "source": [
    "df_test['label'].value_counts()"
   ]
  },
  {
   "cell_type": "markdown",
   "id": "2b8fddaa-d7ba-453a-aa5f-5bc834be9951",
   "metadata": {},
   "source": [
    "Теперь нам надо представить датасет в формате, который можно подавать на вход катбустовой модели.  \n",
    "Для этого придется разделить его на 3 части:\n",
    "\n",
    "- **y** -- вектор таргетов\n",
    "- **X** -- тензор из фичей\n",
    "- **q** -- вектор из ID запросов, которые позволяют сгруппировать все документы, которые относятся к одному и тому же запросу\n",
    "\n",
    "CatBoost требует, чтобы в векторе **q** одинаковые ID запроса шли подряд (но в отличие от, например, xgboost, не требует их строгой сортированности). Однако в нашем случае никаких дополнительных действий не потребуется т.к. датасет уже и так отсортирован по qid.\n",
    "\n",
    "Убедимся в этом:"
   ]
  },
  {
   "cell_type": "code",
   "execution_count": 35,
   "id": "e672a4fc-7cf6-4ee5-a598-286dde967d88",
   "metadata": {},
   "outputs": [
    {
     "name": "stdout",
     "output_type": "stream",
     "text": [
      "True\n",
      "True\n"
     ]
    }
   ],
   "source": [
    "print(df_train['qid'].is_monotonic_increasing)\n",
    "print(df_test['qid'].is_monotonic_increasing)"
   ]
  },
  {
   "cell_type": "markdown",
   "id": "70885edf-16c5-4e99-b376-61e72e1b2b93",
   "metadata": {},
   "source": [
    "Сконвертируем датасет в нужный формат:"
   ]
  },
  {
   "cell_type": "code",
   "execution_count": 36,
   "id": "9f15870f-9459-48d7-a69d-5cd26c23f464",
   "metadata": {},
   "outputs": [],
   "source": [
    "def to_catboost_dataset(df):\n",
    "    y = df['label'].to_numpy()                       # Label: [0-4]\n",
    "    q = df['qid'].to_numpy().astype('uint32')        # Query Id\n",
    "    X = df.drop(columns=['label', 'qid']).to_numpy() # 136 features\n",
    "    return (X, y, q)\n",
    "\n",
    "X_train, y_train, q_train = to_catboost_dataset(df_train)\n",
    "X_test, y_test, q_test = to_catboost_dataset(df_test)"
   ]
  },
  {
   "cell_type": "markdown",
   "id": "97ae868e-319b-4070-adfb-ecce7ae94205",
   "metadata": {},
   "source": [
    "## Обучаем pointwise модель"
   ]
  },
  {
   "cell_type": "markdown",
   "id": "9e2cf9a4-0c23-4d99-bc92-7cf08a8bf37f",
   "metadata": {},
   "source": [
    "Теперь можно приступить непосредственно к обучению модели. Мы начнем с простой pointwise модели которая в качестве лосса использует обычное RMSE."
   ]
  },
  {
   "cell_type": "markdown",
   "id": "eb0534f6-713f-4fa1-83c6-5d20104c1495",
   "metadata": {},
   "source": [
    "Подготовим пулы катбуста:"
   ]
  },
  {
   "cell_type": "code",
   "execution_count": 37,
   "id": "22758401-b1aa-4eee-a6d5-2dfc257ec7c3",
   "metadata": {},
   "outputs": [],
   "source": [
    "pool_train = catboost.Pool(data=X_train, label=y_train, group_id=q_train)\n",
    "pool_test = catboost.Pool(data=X_test, label=y_test, group_id=q_test)"
   ]
  },
  {
   "cell_type": "markdown",
   "id": "c16f73c0-7873-4676-aad0-7eeb1f1a78f7",
   "metadata": {},
   "source": [
    "Зададим целевую метрику, которую будем оптимизировать.  \n",
    "В нашем случае будем использовать NDCG@10:"
   ]
  },
  {
   "cell_type": "code",
   "execution_count": 38,
   "id": "3d34305a-86c9-429b-b571-dd3d132c5d90",
   "metadata": {},
   "outputs": [],
   "source": [
    "EVAL_METRIC = 'NDCG:top=10;type=Exp'"
   ]
  },
  {
   "cell_type": "markdown",
   "id": "e4fb13c5-d705-4f42-85cd-e19e5ea66e1f",
   "metadata": {},
   "source": [
    "Подготовим параметры обучения модели, в т.ч.:\n",
    "- целевую метрику\n",
    "- сид генератора случайных чисел\n",
    "- число итераций, после которого останавливаем обучение если в течение данного числа итераций мы не наблюдаем улучшения целевой метрики на валидационном множестве\n",
    "\n",
    "Если хотим обучаться на GPU, то еще надо добавить параметр *task_type=GPU*"
   ]
  },
  {
   "cell_type": "code",
   "execution_count": 39,
   "id": "1842e3be-6a55-4baf-a2e7-6bf63a2a2192",
   "metadata": {},
   "outputs": [],
   "source": [
    "DEFAULT_PARAMS = {\n",
    "    'iterations': 1000,            # maximum possible number of trees\n",
    "    'early_stopping_rounds': 100,  # stop if metric does not improve for N rounds\n",
    "    'eval_metric': EVAL_METRIC,    # # metric used for early stopping\n",
    "    'random_seed': 22,\n",
    "    'verbose': 10\n",
    "}"
   ]
  },
  {
   "cell_type": "markdown",
   "id": "ab3700ad-b190-4ea5-aa5f-e2999284f73f",
   "metadata": {},
   "source": [
    "Мы будем обучать разные модели, использующие разные лоссы, соответствующие разным алгоритмам машинного обучения ранжированию.  \n",
    "Напишем функцию, которая позволит кастомизировать модель под нужный лосс:"
   ]
  },
  {
   "cell_type": "code",
   "execution_count": 40,
   "id": "c1caad53-8a10-4a91-bfd5-58399c0fd26d",
   "metadata": {},
   "outputs": [],
   "source": [
    "def create_model(loss_function):\n",
    "    params = copy.deepcopy(DEFAULT_PARAMS)\n",
    "\n",
    "    # Temporary directory that is used by catboost to store additional information\n",
    "    catboost_info_dir = f\"/tmp/catboost_info.{loss_function.lower()}\"\n",
    "\n",
    "    params.update({\n",
    "        'loss_function': loss_function,\n",
    "        'train_dir': str(catboost_info_dir),\n",
    "    })\n",
    "    return catboost.CatBoost(params)"
   ]
  },
  {
   "cell_type": "markdown",
   "id": "883a3880-e714-4d18-a1a9-9234d01db4dc",
   "metadata": {},
   "source": [
    "Создадим модель:"
   ]
  },
  {
   "cell_type": "code",
   "execution_count": 41,
   "id": "ebd5d6e5-e4cb-4d31-940c-06e6be853ac9",
   "metadata": {},
   "outputs": [
    {
     "name": "stdout",
     "output_type": "stream",
     "text": [
      "<catboost.core.CatBoost object at 0x7fa79d04f6e0>\n"
     ]
    }
   ],
   "source": [
    "model = create_model('RMSE')\n",
    "print(model)"
   ]
  },
  {
   "cell_type": "markdown",
   "id": "ca9414a4-c51b-41f1-8d7f-e7eb3fca9446",
   "metadata": {},
   "source": [
    "И зафитим ее на нашем обучающем множестве.\n",
    "\n",
    "Количество деревьев будет выбрано автоматически с использованием т.н. early stopping -- процесс обучения будем остановлен после того, как на валидационном множестве перестанет расти наша целевая метрика (т.е. NDCG). Обратите внимание что в данном случае целевая метрика (NDCG) отличается от лосса, который мы оптизириуем (RMSE).\n",
    "\n",
    "Для этого передадим в функцию fit() в качестве валидационного множества (параметр eval_set) наш тест-сет.\n",
    "\n",
    "ВНИМАНИЕ: строго говоря, так делать нельзя т.к. приведет к переобучению. По хорошему, мы должны были сначала разбить наш трейн на собственно обучающее и валидационное множества, и передавать в eval_set уже это валидационное множества. А тест-сет надо было сохранить и использовать уже только в самом конце для подсчета финальных скоров. Однако, для простоты, мы так делать не будем, и оставим все это в качестве упражнения."
   ]
  },
  {
   "cell_type": "code",
   "execution_count": 42,
   "id": "3f093276-08d9-462a-af6a-39a7e6fd0f2b",
   "metadata": {},
   "outputs": [
    {
     "name": "stdout",
     "output_type": "stream",
     "text": [
      "Learning rate set to 0.073096\n",
      "0:\ttest: 0.2493536\tbest: 0.2493536 (0)\ttotal: 172ms\tremaining: 2m 51s\n",
      "10:\ttest: 0.3825128\tbest: 0.3886914 (9)\ttotal: 1.35s\tremaining: 2m 1s\n",
      "20:\ttest: 0.3867278\tbest: 0.3886914 (9)\ttotal: 2.52s\tremaining: 1m 57s\n",
      "30:\ttest: 0.3896056\tbest: 0.3896056 (30)\ttotal: 3.62s\tremaining: 1m 53s\n",
      "40:\ttest: 0.3973093\tbest: 0.3983815 (39)\ttotal: 4.61s\tremaining: 1m 47s\n",
      "50:\ttest: 0.4030989\tbest: 0.4063283 (46)\ttotal: 5.47s\tremaining: 1m 41s\n",
      "60:\ttest: 0.4085673\tbest: 0.4085673 (60)\ttotal: 6.49s\tremaining: 1m 39s\n",
      "70:\ttest: 0.4053967\tbest: 0.4108300 (65)\ttotal: 7.47s\tremaining: 1m 37s\n",
      "80:\ttest: 0.4091555\tbest: 0.4134532 (75)\ttotal: 8.45s\tremaining: 1m 35s\n",
      "90:\ttest: 0.4050574\tbest: 0.4134532 (75)\ttotal: 9.5s\tremaining: 1m 34s\n",
      "100:\ttest: 0.4087148\tbest: 0.4134532 (75)\ttotal: 10.6s\tremaining: 1m 34s\n",
      "110:\ttest: 0.4114762\tbest: 0.4134532 (75)\ttotal: 11.7s\tremaining: 1m 33s\n",
      "120:\ttest: 0.4098458\tbest: 0.4140502 (112)\ttotal: 12.6s\tremaining: 1m 31s\n",
      "130:\ttest: 0.4117132\tbest: 0.4140502 (112)\ttotal: 13.5s\tremaining: 1m 29s\n",
      "140:\ttest: 0.4130498\tbest: 0.4142162 (139)\ttotal: 14.3s\tremaining: 1m 27s\n",
      "150:\ttest: 0.4098606\tbest: 0.4151538 (141)\ttotal: 15.2s\tremaining: 1m 25s\n",
      "160:\ttest: 0.4108536\tbest: 0.4151538 (141)\ttotal: 16.1s\tremaining: 1m 23s\n",
      "170:\ttest: 0.4121530\tbest: 0.4151538 (141)\ttotal: 16.8s\tremaining: 1m 21s\n",
      "180:\ttest: 0.4127425\tbest: 0.4151538 (141)\ttotal: 17.7s\tremaining: 1m 20s\n",
      "190:\ttest: 0.4086853\tbest: 0.4151538 (141)\ttotal: 18.6s\tremaining: 1m 18s\n",
      "200:\ttest: 0.4125806\tbest: 0.4151538 (141)\ttotal: 19.5s\tremaining: 1m 17s\n",
      "210:\ttest: 0.4135679\tbest: 0.4162982 (209)\ttotal: 20.4s\tremaining: 1m 16s\n",
      "220:\ttest: 0.4143735\tbest: 0.4166803 (212)\ttotal: 21.4s\tremaining: 1m 15s\n",
      "230:\ttest: 0.4110314\tbest: 0.4166803 (212)\ttotal: 22.1s\tremaining: 1m 13s\n",
      "240:\ttest: 0.4146108\tbest: 0.4166803 (212)\ttotal: 23.1s\tremaining: 1m 12s\n",
      "250:\ttest: 0.4157122\tbest: 0.4167856 (248)\ttotal: 23.9s\tremaining: 1m 11s\n",
      "260:\ttest: 0.4170053\tbest: 0.4187076 (257)\ttotal: 24.8s\tremaining: 1m 10s\n",
      "270:\ttest: 0.4149611\tbest: 0.4187076 (257)\ttotal: 25.8s\tremaining: 1m 9s\n",
      "280:\ttest: 0.4140893\tbest: 0.4187076 (257)\ttotal: 26.6s\tremaining: 1m 8s\n",
      "290:\ttest: 0.4145595\tbest: 0.4187076 (257)\ttotal: 27.6s\tremaining: 1m 7s\n",
      "300:\ttest: 0.4166590\tbest: 0.4187076 (257)\ttotal: 28.4s\tremaining: 1m 6s\n",
      "310:\ttest: 0.4175529\tbest: 0.4193710 (307)\ttotal: 29.3s\tremaining: 1m 4s\n",
      "320:\ttest: 0.4151739\tbest: 0.4193710 (307)\ttotal: 30s\tremaining: 1m 3s\n",
      "330:\ttest: 0.4133305\tbest: 0.4193710 (307)\ttotal: 30.9s\tremaining: 1m 2s\n",
      "340:\ttest: 0.4090984\tbest: 0.4193710 (307)\ttotal: 32s\tremaining: 1m 1s\n",
      "350:\ttest: 0.4113411\tbest: 0.4193710 (307)\ttotal: 33s\tremaining: 1m 1s\n",
      "360:\ttest: 0.4148409\tbest: 0.4193710 (307)\ttotal: 33.9s\tremaining: 60s\n",
      "370:\ttest: 0.4153601\tbest: 0.4193710 (307)\ttotal: 34.7s\tremaining: 58.9s\n",
      "380:\ttest: 0.4147780\tbest: 0.4193710 (307)\ttotal: 35.5s\tremaining: 57.7s\n",
      "390:\ttest: 0.4144435\tbest: 0.4193710 (307)\ttotal: 36.4s\tremaining: 56.6s\n",
      "400:\ttest: 0.4144872\tbest: 0.4193710 (307)\ttotal: 37.2s\tremaining: 55.5s\n",
      "Stopped by overfitting detector  (100 iterations wait)\n",
      "\n",
      "bestTest = 0.4193709975\n",
      "bestIteration = 307\n",
      "\n",
      "Shrink model to first 308 iterations.\n",
      "Model fit: num_trees = 308 elapsed = 38.452\n"
     ]
    }
   ],
   "source": [
    "# Fit\n",
    "start = timer()\n",
    "model.fit(pool_train, eval_set=pool_test, use_best_model=True)\n",
    "elapsed = timer() - start\n",
    "print(f\"Model fit: num_trees = {model.tree_count_} elapsed = {elapsed:.3f}\")"
   ]
  },
  {
   "cell_type": "markdown",
   "id": "42913ae1-7037-453f-9a12-e1b4666d1bf3",
   "metadata": {},
   "source": [
    "Видим, что модель состоит из 308 деревьев, и лучший скор NDCG@10 на тесте равен **0.419**"
   ]
  },
  {
   "cell_type": "markdown",
   "id": "a4b40b16-abdf-4ad7-a452-daf875366e76",
   "metadata": {},
   "source": [
    "При желании, мы теперь можем сохранить модель в формате cbm:"
   ]
  },
  {
   "cell_type": "code",
   "execution_count": 43,
   "id": "fd4b6fac-7747-4dd4-93d6-c035a8e7a299",
   "metadata": {},
   "outputs": [],
   "source": [
    "model_file = \"/tmp/model.cbm\"\n",
    "\n",
    "# Save model\n",
    "model.save_model(model_file)\n",
    "\n",
    "# Load model\n",
    "# model = catboost.CatBoost()\n",
    "# model.load_model(model_file)"
   ]
  },
  {
   "cell_type": "markdown",
   "id": "dbb89c7a-0987-4831-98f1-989f75240acf",
   "metadata": {},
   "source": [
    "Получим предикты модели на тестовом множестве:"
   ]
  },
  {
   "cell_type": "code",
   "execution_count": 44,
   "id": "6e00327b-7005-44dc-990f-bc9ec5573368",
   "metadata": {},
   "outputs": [
    {
     "name": "stdout",
     "output_type": "stream",
     "text": [
      "Predicted: y_hat_test.shape = (10000,)\n"
     ]
    }
   ],
   "source": [
    "y_hat_test = model.predict(pool_test)\n",
    "print(f\"Predicted: y_hat_test.shape = {y_hat_test.shape}\")"
   ]
  },
  {
   "cell_type": "markdown",
   "id": "d23a2f92-6d18-45b8-8a38-d8ca5c3238b1",
   "metadata": {},
   "source": [
    "Теперь, имея предикты, можно посчитать метрики качества:"
   ]
  },
  {
   "cell_type": "code",
   "execution_count": 45,
   "id": "fe53d6fb-d8a0-4e9b-8f8f-48977a5dcc1f",
   "metadata": {},
   "outputs": [
    {
     "name": "stdout",
     "output_type": "stream",
     "text": [
      "metric = NDCG:top=10;type=Exp score = 0.419\n",
      "metric = DCG:top=10;type=Exp score = 8.600\n",
      "metric = MAP:top=10 score = 0.524\n"
     ]
    }
   ],
   "source": [
    "def compute_metrics(y_true, y_hat, q):\n",
    "    # List of metrics to evaluate\n",
    "    eval_metrics = ['NDCG:top=10;type=Exp', 'DCG:top=10;type=Exp', 'MAP:top=10']\n",
    "    \n",
    "    for eval_metric in eval_metrics:\n",
    "        scores = utils.eval_metric(y_true, y_hat, eval_metric, group_id=q)\n",
    "    \n",
    "        # Print scores\n",
    "        print(f\"metric = {eval_metric} score = {scores[0]:.3f}\")\n",
    "    \n",
    "# Compute metrics on test\n",
    "compute_metrics(y_test, y_hat_test, q_test)"
   ]
  },
  {
   "cell_type": "markdown",
   "id": "c2f6fd2e-a19e-492b-aec1-d8824184f980",
   "metadata": {},
   "source": [
    "Мы видим, что значение NDCG@10 на тесте совпало с тем, что вывел сам катбуст во время обучения модели!"
   ]
  },
  {
   "cell_type": "markdown",
   "id": "6234e160-40b5-4609-a01e-c1c0613fc175",
   "metadata": {},
   "source": [
    "## Обучаем YetiRank"
   ]
  },
  {
   "cell_type": "markdown",
   "id": "d1f48a3c-095c-4db0-8d49-8ed7fd488625",
   "metadata": {},
   "source": [
    "Теперь проделаем все то же самое, но на этот раз с использованием алгоритма YetiRank:"
   ]
  },
  {
   "cell_type": "code",
   "execution_count": 46,
   "id": "ce16b132-99ce-499b-bcdd-539d67008f11",
   "metadata": {},
   "outputs": [
    {
     "name": "stdout",
     "output_type": "stream",
     "text": [
      "0:\ttest: 0.2873437\tbest: 0.2873437 (0)\ttotal: 60.4ms\tremaining: 1m\n",
      "10:\ttest: 0.3811494\tbest: 0.3828752 (9)\ttotal: 277ms\tremaining: 24.9s\n",
      "20:\ttest: 0.3886236\tbest: 0.3914324 (15)\ttotal: 518ms\tremaining: 24.2s\n",
      "30:\ttest: 0.3891378\tbest: 0.3914324 (15)\ttotal: 754ms\tremaining: 23.6s\n",
      "40:\ttest: 0.3946586\tbest: 0.3954174 (34)\ttotal: 971ms\tremaining: 22.7s\n",
      "50:\ttest: 0.4024181\tbest: 0.4024181 (50)\ttotal: 1.21s\tremaining: 22.4s\n",
      "60:\ttest: 0.4049030\tbest: 0.4049030 (60)\ttotal: 1.43s\tremaining: 22.1s\n",
      "70:\ttest: 0.4146104\tbest: 0.4151574 (69)\ttotal: 1.67s\tremaining: 21.9s\n",
      "80:\ttest: 0.4153313\tbest: 0.4167823 (73)\ttotal: 1.9s\tremaining: 21.6s\n",
      "90:\ttest: 0.4221178\tbest: 0.4221178 (90)\ttotal: 2.14s\tremaining: 21.4s\n",
      "100:\ttest: 0.4244372\tbest: 0.4253389 (96)\ttotal: 2.36s\tremaining: 21s\n",
      "110:\ttest: 0.4244111\tbest: 0.4262510 (102)\ttotal: 2.6s\tremaining: 20.8s\n",
      "120:\ttest: 0.4231627\tbest: 0.4273284 (117)\ttotal: 2.83s\tremaining: 20.6s\n",
      "130:\ttest: 0.4235735\tbest: 0.4273284 (117)\ttotal: 3.07s\tremaining: 20.4s\n",
      "140:\ttest: 0.4290479\tbest: 0.4290479 (140)\ttotal: 3.3s\tremaining: 20.1s\n",
      "150:\ttest: 0.4259348\tbest: 0.4292489 (142)\ttotal: 3.56s\tremaining: 20s\n",
      "160:\ttest: 0.4298337\tbest: 0.4298337 (160)\ttotal: 3.78s\tremaining: 19.7s\n",
      "170:\ttest: 0.4291537\tbest: 0.4298337 (160)\ttotal: 4.03s\tremaining: 19.6s\n",
      "180:\ttest: 0.4284904\tbest: 0.4298337 (160)\ttotal: 4.28s\tremaining: 19.3s\n",
      "190:\ttest: 0.4326139\tbest: 0.4326139 (190)\ttotal: 4.57s\tremaining: 19.4s\n",
      "200:\ttest: 0.4382603\tbest: 0.4382603 (200)\ttotal: 4.83s\tremaining: 19.2s\n",
      "210:\ttest: 0.4329245\tbest: 0.4382603 (200)\ttotal: 5.08s\tremaining: 19s\n",
      "220:\ttest: 0.4302271\tbest: 0.4382603 (200)\ttotal: 5.35s\tremaining: 18.9s\n",
      "230:\ttest: 0.4323059\tbest: 0.4382603 (200)\ttotal: 5.62s\tremaining: 18.7s\n",
      "240:\ttest: 0.4314998\tbest: 0.4382603 (200)\ttotal: 5.88s\tremaining: 18.5s\n",
      "250:\ttest: 0.4352094\tbest: 0.4390531 (246)\ttotal: 6.14s\tremaining: 18.3s\n",
      "260:\ttest: 0.4329797\tbest: 0.4390531 (246)\ttotal: 6.4s\tremaining: 18.1s\n",
      "270:\ttest: 0.4392437\tbest: 0.4392437 (270)\ttotal: 6.67s\tremaining: 17.9s\n",
      "280:\ttest: 0.4365695\tbest: 0.4392437 (270)\ttotal: 6.93s\tremaining: 17.7s\n",
      "290:\ttest: 0.4337799\tbest: 0.4392437 (270)\ttotal: 7.19s\tremaining: 17.5s\n",
      "300:\ttest: 0.4288542\tbest: 0.4392437 (270)\ttotal: 7.44s\tremaining: 17.3s\n",
      "310:\ttest: 0.4302285\tbest: 0.4392437 (270)\ttotal: 7.7s\tremaining: 17.1s\n",
      "320:\ttest: 0.4311300\tbest: 0.4392437 (270)\ttotal: 7.95s\tremaining: 16.8s\n",
      "330:\ttest: 0.4317181\tbest: 0.4392437 (270)\ttotal: 8.21s\tremaining: 16.6s\n",
      "340:\ttest: 0.4305578\tbest: 0.4392437 (270)\ttotal: 8.45s\tremaining: 16.3s\n",
      "350:\ttest: 0.4251084\tbest: 0.4392437 (270)\ttotal: 8.7s\tremaining: 16.1s\n",
      "360:\ttest: 0.4262432\tbest: 0.4392437 (270)\ttotal: 8.94s\tremaining: 15.8s\n",
      "370:\ttest: 0.4300689\tbest: 0.4392437 (270)\ttotal: 9.19s\tremaining: 15.6s\n",
      "Stopped by overfitting detector  (100 iterations wait)\n",
      "\n",
      "bestTest = 0.4392437097\n",
      "bestIteration = 270\n",
      "\n",
      "Shrink model to first 271 iterations.\n",
      "Model fit: elapsed = 9.293 num_trees = 271\n",
      "Predicted: y_hat_test.shape = (10000,)\n",
      "\n",
      "Evaluated:\n",
      "metric = NDCG:top=10;type=Exp score = 0.439\n",
      "metric = DCG:top=10;type=Exp score = 8.951\n",
      "metric = MAP:top=10 score = 0.541\n"
     ]
    }
   ],
   "source": [
    "# Create model\n",
    "model = create_model('YetiRank')\n",
    "\n",
    "# Fit\n",
    "start = timer()\n",
    "model.fit(pool_train, eval_set=pool_test, use_best_model=True)\n",
    "elapsed = timer() - start\n",
    "print(f\"Model fit: elapsed = {elapsed:.3f} num_trees = {model.tree_count_}\")\n",
    "\n",
    "# Predict\n",
    "y_hat_test = model.predict(pool_test)\n",
    "print(f\"Predicted: y_hat_test.shape = {y_hat_test.shape}\")\n",
    "\n",
    "# Compute metrics on test\n",
    "print(\"\\nEvaluated:\")\n",
    "compute_metrics(y_test, y_hat_test, q_test)"
   ]
  },
  {
   "cell_type": "markdown",
   "id": "e1f9d6c3-80d6-4a6a-ab23-f67b70fc883f",
   "metadata": {},
   "source": [
    "Видно, что теперь модель обучается значительно дольше.\n",
    "\n",
    "Сравним результаты:\n",
    "\n",
    "- RMSE модель выбила NDCG@10 = **0.419**\n",
    "- а YetiRank выбивает уже NDCG@10 = **0.439**!\n",
    "\n",
    "Таким образом мы наглядно видим преимущество pairwise/listwise-подхода над \"наивным\" pointwise-подходом."
   ]
  }
 ],
 "metadata": {
  "kernelspec": {
   "display_name": "Python 3 (ipykernel)",
   "language": "python",
   "name": "python3"
  },
  "language_info": {
   "codemirror_mode": {
    "name": "ipython",
    "version": 3
   },
   "file_extension": ".py",
   "mimetype": "text/x-python",
   "name": "python",
   "nbconvert_exporter": "python",
   "pygments_lexer": "ipython3",
   "version": "3.12.7"
  }
 },
 "nbformat": 4,
 "nbformat_minor": 5
}
