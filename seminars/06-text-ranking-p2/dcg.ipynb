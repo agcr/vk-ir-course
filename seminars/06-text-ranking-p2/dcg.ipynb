{
 "cells": [
  {
   "cell_type": "markdown",
   "id": "c68b6411-668d-431f-9556-9a478597aa6c",
   "metadata": {},
   "source": [
    "# Метрики DCG@K и NDCG@K\n",
    "\n",
    "Входные данные:\n",
    "- некий запрос **q** (сейчас не важно какой именно)\n",
    "- коллекция из N текстовых документов **d_i**, i = 1, ..., N (N может быть большим)\n",
    "- для каждого документа известна его оценка релевантности **qrel(q,d_i)** относительно запроса **q**\n",
    "\n",
    "Будем обозначать документы строками вида \"d1\", \"d2\", ... (на практике обычно употребляются численные docID, но мы тут упростим себе жизнь).\n",
    "\n",
    "Предположим, что релевантность оценивается по 3-х балльной шкале:\n",
    "- 1 - не-релевантный документ\n",
    "- 2 - полезный документ\n",
    "- 3 - полностью релевантный документ"
   ]
  },
  {
   "cell_type": "markdown",
   "id": "0f0a7027-7d31-480c-9e05-44b6ca966f68",
   "metadata": {},
   "source": [
    "Импортируем модули которые нам понадобятся впоследствии:"
   ]
  },
  {
   "cell_type": "code",
   "execution_count": 1,
   "id": "21fb783d-937e-40a6-88b5-3df49b614a80",
   "metadata": {},
   "outputs": [],
   "source": [
    "import math\n",
    "from catboost import utils\n",
    "from sklearn import metrics"
   ]
  },
  {
   "cell_type": "markdown",
   "id": "61bd5f69-0f93-4a21-8aa6-62744c5e6476",
   "metadata": {},
   "source": [
    "Предположим, что поисковая система в ответ на запрос **q** выдала 5 документов в следующем порядке:<br>\n",
    "1. d4\n",
    "2. d2\n",
    "3. d1\n",
    "4. d5\n",
    "5. d3\n",
    "\n",
    "Будем хранить поисковую выдачу в списке **search_results**:"
   ]
  },
  {
   "cell_type": "code",
   "execution_count": 2,
   "id": "d84b812b-f9bd-41dd-96dc-3007b4efe5e1",
   "metadata": {},
   "outputs": [],
   "source": [
    "search_results = [\"d4\", \"d2\", \"d1\", \"d5\", \"d3\"]"
   ]
  },
  {
   "cell_type": "markdown",
   "id": "2d8eed21-bb25-436c-88f3-4c8008c553fc",
   "metadata": {},
   "source": [
    "Предположим, что нам известны оценки релевантности этих документов.<br>\n",
    "Будем хранить их словаре **qrels**:"
   ]
  },
  {
   "cell_type": "code",
   "execution_count": 3,
   "id": "caf22b01-c63a-4bc4-936f-837471d14d53",
   "metadata": {},
   "outputs": [],
   "source": [
    "qrels = {\"d1\": 2, \"d2\": 2, \"d3\": 2, \"d4\": 3, \"d5\": 1}"
   ]
  },
  {
   "cell_type": "markdown",
   "id": "a2d8801e-39dd-4844-9240-9a71c3625e83",
   "metadata": {},
   "source": [
    "## Считаем DCG@K и NDCG@K самостоятельно"
   ]
  },
  {
   "cell_type": "markdown",
   "id": "63ef0386-af81-4cd3-821f-b2a28d839171",
   "metadata": {},
   "source": [
    "Вспомним формулу DCG:<br>\n",
    "<br>\n",
    "DCG@K = SUM(2^rel_i - 1 / log(1+i)), где<br>\n",
    "<br>\n",
    "i - позиция, на которой находится документ в поисковой выдаче (номера позиций начинаются с 1 и заканчиваются K)<br>\n",
    "rel_i - оценка релевантности документа на i-й позиции\n",
    "\n",
    "\n",
    "Чтобы рассчитать DCG, нам будет удобно преобразовать список \"позиция -> документ\" в список \"позиция -> оценка\".\n",
    "Напишем для этого функцию-хелпер:"
   ]
  },
  {
   "cell_type": "code",
   "execution_count": 4,
   "id": "70f8c76e-e7f9-43f3-9c0d-d9076d242a12",
   "metadata": {},
   "outputs": [],
   "source": [
    "def convert_results(search_results, qrels):\n",
    "    rels = []\n",
    "    for docid in search_results:\n",
    "        rel = qrels[docid]\n",
    "        rels.append(rel)\n",
    "    return rels"
   ]
  },
  {
   "cell_type": "markdown",
   "id": "457e6d90-1111-40cd-a2ce-f2a6a2bc580e",
   "metadata": {},
   "source": [
    "Преобразуем результаты поиска к удобному виду:"
   ]
  },
  {
   "cell_type": "code",
   "execution_count": 5,
   "id": "67fb4cd6-6a57-4f33-81c5-74bf492aef01",
   "metadata": {},
   "outputs": [
    {
     "name": "stdout",
     "output_type": "stream",
     "text": [
      "[3, 2, 2, 1, 2]\n"
     ]
    }
   ],
   "source": [
    "y = convert_results(search_results, qrels)\n",
    "print(y)"
   ]
  },
  {
   "cell_type": "markdown",
   "id": "1ab54e72-f327-4808-b41c-fa05514bf3ae",
   "metadata": {},
   "source": [
    "Теперь попробуем самостоятельно реализовать функцию _dcg(y,k)_ которая вычисляет DCG@K:"
   ]
  },
  {
   "cell_type": "code",
   "execution_count": 6,
   "id": "6002a6b2-a141-43b5-87cd-87138ef0b1c4",
   "metadata": {},
   "outputs": [],
   "source": [
    "def dcg(y, k=10):\n",
    "    \"\"\"Computes DCG@k for a single query.\n",
    "\n",
    "    y is a list of relevance grades sorted by position.\n",
    "    len(y) could be <= k.\n",
    "    \"\"\"\n",
    "    \n",
    "    r = 0.\n",
    "    for i, y_i in enumerate(y):\n",
    "        p = i + 1 # position starts from 1\n",
    "        r += (2 ** y_i - 1) / math.log(1 + p, 2)\n",
    "        if p == k:\n",
    "            break\n",
    "    return r"
   ]
  },
  {
   "cell_type": "markdown",
   "id": "3701a8ce-798a-4eb5-88fa-aa5495066240",
   "metadata": {},
   "source": [
    "Применим к нашей выдаче:"
   ]
  },
  {
   "cell_type": "code",
   "execution_count": 7,
   "id": "7e57ed38-282a-4e35-95fe-13e53f5f0b90",
   "metadata": {},
   "outputs": [
    {
     "name": "stdout",
     "output_type": "stream",
     "text": [
      "11.98402424049139\n"
     ]
    }
   ],
   "source": [
    "print(dcg(y,k=5))"
   ]
  },
  {
   "cell_type": "markdown",
   "id": "fae6d4dc-90c1-4d87-bf1d-65d31dd1824e",
   "metadata": {},
   "source": [
    "Обратим внимание, что при k=10 значение DCG@10 будет совпадать со значением DCG@5 т.к. мы останавливаем расчет на 5й позиции (или, что аналогично, забиваем пустые позиции нулями):"
   ]
  },
  {
   "cell_type": "code",
   "execution_count": 8,
   "id": "3b6d9cf8-0699-4ce0-ac11-8c4fd756c165",
   "metadata": {},
   "outputs": [
    {
     "name": "stdout",
     "output_type": "stream",
     "text": [
      "11.98402424049139\n"
     ]
    }
   ],
   "source": [
    "print(dcg(y,k=10))"
   ]
  },
  {
   "cell_type": "markdown",
   "id": "afee7523-8a85-4d2d-8f1e-5693b00637fb",
   "metadata": {},
   "source": [
    "Теперь посчитаем для этой же выдачи метрику NDCG@K.\n",
    "\n",
    "Начнем с того, что тоже вспомним формулу: NDCG@K = DCG@K / MAX_DCG, где MAX_DCG -- максимально возможное DCG, которое достигается при идеальной выдаче, т.е. выдаче, отсортированной в порядке убывания релевантности.\n",
    "\n",
    "Напишем собственную реализацию _ndcg(y,k)_:"
   ]
  },
  {
   "cell_type": "code",
   "execution_count": 9,
   "id": "75155b0b-9639-434b-8484-e2699b152d5e",
   "metadata": {},
   "outputs": [],
   "source": [
    "def ndcg(y, k=10):\n",
    "    \"\"\"Computes NDCG@k for a single query.\n",
    "\n",
    "    y is a list of relevance grades sorted by position.\n",
    "    len(y) could be <= k.\n",
    "    \"\"\"\n",
    "    if len(y) == 0:\n",
    "        return 0\n",
    "\n",
    "    # Numerator\n",
    "    dcg_k = dcg(y, k=k)\n",
    "    # Denominator\n",
    "    max_dcg = dcg(sorted(y, reverse=True), k=k)\n",
    "\n",
    "    # Special case of all zeroes\n",
    "    if max_dcg == 0:\n",
    "        return 1.\n",
    "    \n",
    "    return dcg_k / max_dcg"
   ]
  },
  {
   "cell_type": "markdown",
   "id": "46ee2493-0db5-4e6a-b3a1-5c2dd3f90fbc",
   "metadata": {},
   "source": [
    "Обратите внимание, что у нас появился специальный случай \"всех нулей\", а именно -- что делать, если в знаменателе у нас получается 0?\n",
    "\n",
    "Такое возможно, например, в случае, когда:\n",
    "- мы используем для не-релевантных документов оценку 0\n",
    "- все документы в поисковой выдаче имеют оценку 0\n",
    "\n",
    "Обратим внимание, что поисковая выдача, в которой все документы имеет одну и ту же оценку (причем неважно какую), всегда имеет NDCG == 1 -- т.е. как ни пересортировывай в такой выдаче результаты, ее DCG не меняется и всегда достигает своего максимума. Поэтому, для единообразия, постулируем что и выдача из всех нулей должна иметь нулевой NDCG."
   ]
  },
  {
   "cell_type": "markdown",
   "id": "ca4c9099-9e93-4878-af2f-98f8d1045a1d",
   "metadata": {},
   "source": [
    "Применим _ndcg(y,k)_ к нашему примеру:"
   ]
  },
  {
   "cell_type": "code",
   "execution_count": 10,
   "id": "4bad76b6-945f-4ed4-9e62-5e4e99d15d8c",
   "metadata": {},
   "outputs": [
    {
     "name": "stdout",
     "output_type": "stream",
     "text": [
      "0.99273940647578\n"
     ]
    }
   ],
   "source": [
    "print(ndcg(y,k=5))"
   ]
  },
  {
   "cell_type": "markdown",
   "id": "8bac0a15-0d69-4e8f-815d-e8b66f7e5851",
   "metadata": {},
   "source": [
    "Видим, что наша поисковая выдача близка к идеальной. А для k=2 она и вовсе идеальна:"
   ]
  },
  {
   "cell_type": "code",
   "execution_count": 11,
   "id": "b47ab4b7-66a5-4c96-938b-b4c58aa1dd78",
   "metadata": {},
   "outputs": [
    {
     "name": "stdout",
     "output_type": "stream",
     "text": [
      "1.0\n"
     ]
    }
   ],
   "source": [
    "print(ndcg(y,k=2))"
   ]
  },
  {
   "cell_type": "markdown",
   "id": "1ff6c1b0-56ad-4e77-ad1b-4e996839b24c",
   "metadata": {},
   "source": [
    "## Считаем DCG@K и NDCG@K с помощью библиотеки catboost"
   ]
  },
  {
   "cell_type": "markdown",
   "id": "a5c657bd-3789-4433-87ac-85245880d5d9",
   "metadata": {},
   "source": [
    "Сравним наш DCG@K с тем, что выдает **catboost**.\n",
    "\n",
    "Для этого воспользуемся функцией _catboost.utils.eval_metric_, которая принимает на вход 3 списка:\n",
    "- список оценок релевантности, которые задают ожидаемый порядок документов для данного запроса\n",
    "- список предсказаний (скоров) модели ранжирования\n",
    "- список group id, которые задают принадлежность данного документа к группе, где под группой подразумевается запрос, т.е. все документы группируются по запросу. В нашем примере всего один запрос **q**, поэтому будем считать что у всех документов один и тот же group_id=1\n"
   ]
  },
  {
   "cell_type": "markdown",
   "id": "d8509fa1-bffa-4007-bf21-15e5dc212232",
   "metadata": {},
   "source": [
    "Список оценок релевантности у нас уже есть, это _y_:"
   ]
  },
  {
   "cell_type": "code",
   "execution_count": 12,
   "id": "942a4a47-3a85-4190-ad10-30d3b4c163f4",
   "metadata": {
    "scrolled": true
   },
   "outputs": [
    {
     "name": "stdout",
     "output_type": "stream",
     "text": [
      "[3, 2, 2, 1, 2]\n"
     ]
    }
   ],
   "source": [
    "print(y)"
   ]
  },
  {
   "cell_type": "markdown",
   "id": "1fdcf20e-17c7-452c-8ab5-e3e9c8ca91b8",
   "metadata": {},
   "source": [
    "Теперь надо сформировать список _y_hat_ предсказаний (скоров) модели, которые задают порядок, в котором документы были возвращены поисковой системой.<br>\n",
    "В нашем случае в качесте такого скора можно использовать позицию в списке _y_, только \"наоборот\" -- минимальная позиция соответствует максимальному ранку."
   ]
  },
  {
   "cell_type": "code",
   "execution_count": 13,
   "id": "af524e0d-a85a-4df9-95a3-b97745d0fd20",
   "metadata": {},
   "outputs": [
    {
     "name": "stdout",
     "output_type": "stream",
     "text": [
      "[5, 4, 3, 2, 1]\n"
     ]
    }
   ],
   "source": [
    "y_hat = [len(y) - i for i in range(len(y))]\n",
    "print(y_hat)"
   ]
  },
  {
   "cell_type": "markdown",
   "id": "3c522364-489c-487d-a696-32acd831f0ec",
   "metadata": {},
   "source": [
    "Также, подготовим список group_id:"
   ]
  },
  {
   "cell_type": "code",
   "execution_count": 14,
   "id": "ca180278-b8c1-428b-b3aa-555e68245ff7",
   "metadata": {},
   "outputs": [
    {
     "name": "stdout",
     "output_type": "stream",
     "text": [
      "[1, 1, 1, 1, 1]\n"
     ]
    }
   ],
   "source": [
    "group_id = [1] * len(y)\n",
    "print(group_id)"
   ]
  },
  {
   "cell_type": "markdown",
   "id": "865ee88d-f6bb-4338-a397-d138ede3b639",
   "metadata": {},
   "source": [
    "Теперь мы можем воспользоваться функцией _eval_metric_ и посчитать DCG@5:"
   ]
  },
  {
   "cell_type": "code",
   "execution_count": 15,
   "id": "5db75ddb-ca8c-4078-9c48-95cad2b5c6f7",
   "metadata": {},
   "outputs": [
    {
     "name": "stdout",
     "output_type": "stream",
     "text": [
      "11.98402424049139\n"
     ]
    }
   ],
   "source": [
    "scores = utils.eval_metric(y, y_hat, 'DCG:top=5;type=Exp', group_id=group_id)\n",
    "print(scores[0])"
   ]
  },
  {
   "cell_type": "markdown",
   "id": "4bdc965c-1546-42fe-9007-7494d2d9918f",
   "metadata": {},
   "source": [
    "Также, с помощью катбуста легко посчитать и другие метрики, например NDCG@5:"
   ]
  },
  {
   "cell_type": "code",
   "execution_count": 16,
   "id": "eea5d8ac-d256-4643-949b-a2db3e5cfb56",
   "metadata": {},
   "outputs": [
    {
     "name": "stdout",
     "output_type": "stream",
     "text": [
      "0.99273940647578\n"
     ]
    }
   ],
   "source": [
    "scores = utils.eval_metric(y, y_hat, 'NDCG:top=5;type=Exp', group_id=group_id)\n",
    "print(scores[0])"
   ]
  },
  {
   "cell_type": "markdown",
   "id": "59394640-671e-4116-8b1f-24c3620f348d",
   "metadata": {},
   "source": [
    "Аналогично, посчитаем NDCG@2:"
   ]
  },
  {
   "cell_type": "code",
   "execution_count": 17,
   "id": "3669d380-f95b-4e9d-bd30-daed07a0e4b1",
   "metadata": {},
   "outputs": [
    {
     "name": "stdout",
     "output_type": "stream",
     "text": [
      "1.0\n"
     ]
    }
   ],
   "source": [
    "scores = utils.eval_metric(y, y_hat, 'NDCG:top=2;type=Exp', group_id=group_id)\n",
    "print(scores[0])"
   ]
  },
  {
   "cell_type": "markdown",
   "id": "97a816a8-0175-4ac0-90c7-aba4c26c1f5a",
   "metadata": {},
   "source": [
    "Видим, что результаты совпадают с теми, которые у нас получились вручную!"
   ]
  },
  {
   "cell_type": "markdown",
   "id": "817b7b99-bbc9-485b-b5d8-d2b6c6837ae5",
   "metadata": {},
   "source": [
    "## Считаем DCG@K и NDCG@K с помощью библиотеки sklearn"
   ]
  },
  {
   "cell_type": "markdown",
   "id": "4f0ed057-3167-4b04-a430-065c65a07495",
   "metadata": {},
   "source": [
    "Также, для расчета DCG и NDCG мы можем использовать соответствующие функции из библиотеки _scikit-learn_.\n",
    "\n",
    "Они, в отличие от катбуста, принимают на вход два массива размером n_queries x n_docs, где n_samples -- это число запросов, а n_docs -- число документов в поисковой выдаче:\n",
    "- первый массив должен содержать оценки релевантности, которые задают ожидаемый порядок документов для данного запроса\n",
    "- второй массив должен содержать предсказания (скоры) модели ранжирования"
   ]
  },
  {
   "cell_type": "markdown",
   "id": "bea9c7cd-e195-4c4f-809c-b8927d7b6b89",
   "metadata": {},
   "source": [
    "Список оценок релевантности у нас уже есть, это y:"
   ]
  },
  {
   "cell_type": "code",
   "execution_count": 18,
   "id": "51ba92e8-5e48-40ef-96f1-bea0ab6e5f33",
   "metadata": {},
   "outputs": [
    {
     "name": "stdout",
     "output_type": "stream",
     "text": [
      "[3, 2, 2, 1, 2]\n"
     ]
    }
   ],
   "source": [
    "print(y)"
   ]
  },
  {
   "cell_type": "markdown",
   "id": "f63459e8-77f3-4a69-bf8c-dc67cb2dab1d",
   "metadata": {},
   "source": [
    "И список предсказаний модели тоже есть:"
   ]
  },
  {
   "cell_type": "code",
   "execution_count": 19,
   "id": "8c5b8335-3747-4825-a9d8-9e4a84d6d674",
   "metadata": {},
   "outputs": [
    {
     "name": "stdout",
     "output_type": "stream",
     "text": [
      "[5, 4, 3, 2, 1]\n"
     ]
    }
   ],
   "source": [
    "print(y_hat)"
   ]
  },
  {
   "cell_type": "markdown",
   "id": "5ade0b5e-f039-445e-80ba-87506034a1f4",
   "metadata": {},
   "source": [
    "Применим функцию _dcg_score_:"
   ]
  },
  {
   "cell_type": "code",
   "execution_count": 20,
   "id": "1b6a5136-0c25-4730-9a29-f947b058e7a8",
   "metadata": {},
   "outputs": [
    {
     "name": "stdout",
     "output_type": "stream",
     "text": [
      "6.466241679685391\n"
     ]
    }
   ],
   "source": [
    "print(metrics.dcg_score([y], [y_hat], k=5))"
   ]
  },
  {
   "cell_type": "markdown",
   "id": "a316af92-7c91-454a-96cb-3c557d3e4515",
   "metadata": {},
   "source": [
    "Аналогично, посчитаем NDCG@5:"
   ]
  },
  {
   "cell_type": "code",
   "execution_count": 21,
   "id": "1cbf6bc7-1a89-43ab-9f9b-244409a99663",
   "metadata": {},
   "outputs": [
    {
     "name": "stdout",
     "output_type": "stream",
     "text": [
      "0.9932683086972719\n"
     ]
    }
   ],
   "source": [
    "print(metrics.ndcg_score([y], [y_hat], k=5))"
   ]
  },
  {
   "cell_type": "markdown",
   "id": "a9b511d6-d4fc-4c06-8717-7b7426d3fb2a",
   "metadata": {},
   "source": [
    "И NDCG@2:"
   ]
  },
  {
   "cell_type": "code",
   "execution_count": 22,
   "id": "760cfeb0-5759-4fce-b839-6bce027b1632",
   "metadata": {},
   "outputs": [
    {
     "name": "stdout",
     "output_type": "stream",
     "text": [
      "1.0\n"
     ]
    }
   ],
   "source": [
    "print(metrics.ndcg_score([y], [y_hat], k=2))"
   ]
  },
  {
   "cell_type": "markdown",
   "id": "208de932-b402-4ad1-9288-a388c95cc95c",
   "metadata": {},
   "source": [
    "Видим, что результаты немного отличаются от того, что у нас получалось вручную (и от того, что выдавал катбуст!)\n",
    "\n",
    "Что тут происходит?\n",
    "\n",
    "Оказывается, _sklearn_ \"под капотом\" использует немного другую формулу для расчета DCG, а именно вариант без экспоненты в числителе.<br>\n",
    "В _catboost_ такой вариант DCG/NDCG называется \"Base\", им можно воспользоваться следующим образом:"
   ]
  },
  {
   "cell_type": "code",
   "execution_count": 23,
   "id": "f62cbdab-2199-4314-aae8-afb4549d9107",
   "metadata": {},
   "outputs": [
    {
     "name": "stdout",
     "output_type": "stream",
     "text": [
      "6.466241679685391\n"
     ]
    }
   ],
   "source": [
    "scores = utils.eval_metric(y, y_hat, 'DCG:top=5;type=Base', group_id=group_id)\n",
    "print(scores[0])"
   ]
  },
  {
   "cell_type": "markdown",
   "id": "ab262a8f-9ff7-4c96-82d1-0baf455174a3",
   "metadata": {},
   "source": [
    "Теперь все опять совпадает!\n",
    "\n",
    "Мы же в дальнейшем (и во всех ДЗ!) будем использовать именно экспоненциальный вариант DCG."
   ]
  }
 ],
 "metadata": {
  "kernelspec": {
   "display_name": "Python 3 (ipykernel)",
   "language": "python",
   "name": "python3"
  },
  "language_info": {
   "codemirror_mode": {
    "name": "ipython",
    "version": 3
   },
   "file_extension": ".py",
   "mimetype": "text/x-python",
   "name": "python",
   "nbconvert_exporter": "python",
   "pygments_lexer": "ipython3",
   "version": "3.12.7"
  }
 },
 "nbformat": 4,
 "nbformat_minor": 5
}
