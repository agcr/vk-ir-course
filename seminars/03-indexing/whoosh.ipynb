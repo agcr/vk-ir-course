{
  "nbformat": 4,
  "nbformat_minor": 0,
  "metadata": {
    "colab": {
      "provenance": []
    },
    "kernelspec": {
      "name": "python3",
      "display_name": "Python 3"
    },
    "language_info": {
      "name": "python"
    }
  },
  "cells": [
    {
      "cell_type": "markdown",
      "source": [
        "# Семинар: индексация и булев поиск\n",
        "По ходу семинара будут интерактивные задания"
      ],
      "metadata": {
        "id": "Mic4gQapeACS"
      }
    },
    {
      "cell_type": "markdown",
      "source": [
        "Почему whoosh?\n",
        "- небольшой фреймворк с достаточным функционалом информационного поиска\n",
        "- написан на языке Python\n",
        "- достаточно гибкий, предоставляет много возможностей для настройки\n",
        "- альтернативы: pyserini, можете попробовать и сравнить\n",
        "\n",
        "Внимание: в ДЗ нельзя использовать готовые движки, нужно реализовать структуры данных и алгоритмы самостоятельно"
      ],
      "metadata": {
        "id": "P99UPtpUUjD6"
      }
    },
    {
      "cell_type": "markdown",
      "source": [
        "Установим whoosh"
      ],
      "metadata": {
        "id": "IRYDn2B9Gqt9"
      }
    },
    {
      "cell_type": "code",
      "source": [
        "!pip install whoosh wget"
      ],
      "metadata": {
        "colab": {
          "base_uri": "https://localhost:8080/"
        },
        "id": "RzlpHnJpGol0",
        "outputId": "f7df60ce-df0a-45f9-eed2-7f0ae1493860"
      },
      "execution_count": null,
      "outputs": [
        {
          "output_type": "stream",
          "name": "stdout",
          "text": [
            "Collecting whoosh\n",
            "  Downloading Whoosh-2.7.4-py2.py3-none-any.whl (468 kB)\n",
            "\u001b[?25l     \u001b[90m━━━━━━━━━━━━━━━━━━━━━━━━━━━━━━━━━━━━━━━━\u001b[0m \u001b[32m0.0/468.8 kB\u001b[0m \u001b[31m?\u001b[0m eta \u001b[36m-:--:--\u001b[0m\r\u001b[2K     \u001b[91m━━━━━━━━━━━━━━━━━━━━\u001b[0m\u001b[90m╺\u001b[0m\u001b[90m━━━━━━━━━━━━━━━━━━━\u001b[0m \u001b[32m235.5/468.8 kB\u001b[0m \u001b[31m6.8 MB/s\u001b[0m eta \u001b[36m0:00:01\u001b[0m\r\u001b[2K     \u001b[90m━━━━━━━━━━━━━━━━━━━━━━━━━━━━━━━━━━━━━━━━\u001b[0m \u001b[32m468.8/468.8 kB\u001b[0m \u001b[31m9.8 MB/s\u001b[0m eta \u001b[36m0:00:00\u001b[0m\n",
            "\u001b[?25hCollecting wget\n",
            "  Downloading wget-3.2.zip (10 kB)\n",
            "  Preparing metadata (setup.py) ... \u001b[?25l\u001b[?25hdone\n",
            "Building wheels for collected packages: wget\n",
            "  Building wheel for wget (setup.py) ... \u001b[?25l\u001b[?25hdone\n",
            "  Created wheel for wget: filename=wget-3.2-py3-none-any.whl size=9655 sha256=9a558cd7a3dcc2b94ffe90e3506d7c8ef9a119db349b34b14c5e8863aee236db\n",
            "  Stored in directory: /root/.cache/pip/wheels/8b/f1/7f/5c94f0a7a505ca1c81cd1d9208ae2064675d97582078e6c769\n",
            "Successfully built wget\n",
            "Installing collected packages: whoosh, wget\n",
            "Successfully installed wget-3.2 whoosh-2.7.4\n"
          ]
        }
      ]
    },
    {
      "cell_type": "markdown",
      "source": [
        "Скачаем датасет"
      ],
      "metadata": {
        "id": "k5xCkJACVU-Q"
      }
    },
    {
      "cell_type": "code",
      "source": [
        "import errno\n",
        "import os\n",
        "import wget\n",
        "\n",
        "DOCS_TSV = \"docs.tsv\"\n",
        "\n",
        "def download_from_google_drive(url, filename):\n",
        "    url = 'https://drive.google.com/uc?id=' + url.split('/')[-2]\n",
        "    wget.download(url, filename)\n",
        "\n",
        "\n",
        "def show_head(filename, n_lines=5):\n",
        "    with open(filename) as file:\n",
        "        head = [next(file).rstrip() for _ in range(n_lines)]\n",
        "    print('\\n'.join(head))\n",
        "\n",
        "\n",
        "def silent_remove(filename):\n",
        "    try:\n",
        "        os.remove(filename)\n",
        "    except OSError as e:\n",
        "        if e.errno != errno.ENOENT: # errno.ENOENT = no such file or directory\n",
        "            raise\n",
        "\n",
        "silent_remove(DOCS_TSV)\n",
        "#download_from_google_drive(\"https://drive.google.com/file/d/1fMg-3_rFrElTVQhELYC1BQkoE3aBaAWB/view?usp=sharing\",\n",
        "#                           DOCS_TSV)\n",
        "download_from_google_drive(\"https://drive.google.com/file/d/1LF3BQ7ICp_JtndM7ZCCubSkPUm-U_GRp/view?usp=sharing\",\n",
        "                           DOCS_TSV)\n",
        "\n",
        "show_head(DOCS_TSV)"
      ],
      "metadata": {
        "colab": {
          "base_uri": "https://localhost:8080/"
        },
        "id": "DINKCxdlVUgv",
        "outputId": "68e0aabe-44cd-426e-b072-2f4eab0caa15"
      },
      "execution_count": null,
      "outputs": [
        {
          "output_type": "stream",
          "name": "stdout",
          "text": [
            "000000001\t ДОМ RAIM FEAT ARTUR ADIL МУЗЫКА В MP3 🎵 СКАЧАТЬ БЕСПЛАТНО СЛУШАТЬ МУЗЫКА ДОМ RAIM FEAT ARTUR ADIL 1 ПЕСНЯ ПЕСНЬ ОНЛАЙН НА ZVUK TOP\t СКАЧИВАТЬ И СЛУШАТЬ 🎧 RAIM ДОМ O2 2018 НА ZVUK TOP НОВИНКА МЕСЯЦ BAKHTIN БЛОНДИНКА ОЛЕГ ГАЗМАНОВ АРТЕФАКТ MOSOVICH FEAT BATRAI LIFE OF LIE ТЕМА БАЛАЛАЙКИН ИВАНОВ SUNAMI УЛЕТАТЬ MA AND ДЖАРО ХАНЗ НЕ ПЛАКАТЬ PILO SUGAR POWDER TATTOOIN CALL ME KARIZMA FEAT ASTRUS BURN GODOK LET ME USE THE GUN ЖАНР И НАСТРОЕНИЕ СБОРНИК ИСПОЛНИТЕЛЬ MARCUS TENSHI MEHMET GURELI ВИА СПЕЦНАЗ SAMI YUSUF НАЙК БОРЗОВ NIKITA РЕКОМЕНДОВАТЬ НОВИНКА ОНЛАЙН РАДИО РЕКОРД RECORD DANCE RADIO АЛЬБОМ OLIVER HIDEOUS BASTARD ТОП 100 ЛУЧШИЙ РУССКАЯ ПЕСНЯ ПЕСНЬ МУЗА ТВ РУССКИЙ РАДИО СЛАВА И АННА СЕМЕНОВИЧ БУМЕРАНГ ЮЛИЙ САВИЧЕВ МАЙСКИЙ ДОЖДЬ JONY ТИТР EMIN НА ОБРАТНЫЙ СТОРОНА ДМИТРИЯ МАЛИК НОЧЬ РАССКАЗАТЬ ANNA ASTI ПО БАР СТАС КОСТЮШКИН ОСТАТЬСЯ ХАННА МОРЕ FILATOV KARA ДВИЖ СЕРГЕЙ ЛАЗАРЕВ ТАНЦЕВАТЬ ЕВРОПА ПЛЮС ПО НАЗВАНИЕ ПО ИСПОЛНИТЕЛЬ ПО СБОРНИК ПО РАДИОСТАНЦИЯ ДОМ RAIM FEAT ARTUR ADIL 02 45 RAIM ДОМ O2 2018 РЕКОМЕНДОВАТЬ ИСПОЛНИТЕЛЬ RAIM MIYAGI JOHNYBOY ДЕНИСА ВАСИЛЕНКО BROTHERS GAYAZOV BROTHER СКРИПТОНИТ КТО ТАМ GUF JAH KHALIB OXXXYMIRON ОКСИМИРОН БАСТА GINEX MOTELBLVCK SHOT РЕМ ДИГГА ВОЙТ ЧЕРЕЗ ВКОНТАКТ ВОЙТ ЧЕРЕЗ МОЙМИР ВОЙТ ЧЕРЕЗ ЯНДЕКС ВОЙТ ЧЕРЕЗ ОДНОКЛАССНИК\n",
            "000000002\t СКАЧАТЬ RAIM FEAT ARTUR ADIL ДОМ 2018\t СКАЧАТЬ ПЕСНЯ RAIM FEAT ARTUR ADIL ДОМ БЕСПЛАТНО В ФОРМАТ MP3 RAIM FEAT ARTUR ADIL ДОМ 2018 ИСПОЛНИТЕЛЬ RAIM ДАТА 7 12 2018 17 58 ПРОСМОТР 26 091 СКАЧАТЬ RAIM ДРУГОЙ ПЕСНЬ RAIM РАЙЫМБЕК НЫСАНБЕК ТАМАРА 2019 NBSP RAIM ARTUR LATTE 2020 NBSP RAIM ARTUR ДОГОЛА 2018 NBSP RAIM ЖАС ПАПА 2018 NBSP BN X RAIM ARTUR ЛУЧШИЙ 2018 NBSP СМОТРЕТЬ ВСЕ НУРЛАДДИН САГЫНОВ АМАНАТЫМ 2020 NBSP ДАУЛЕТ ЖАНАБАЙ ЧЕМПИОНКА 2020 NBSP ЖАУКА ОНДАГАН САГЫНЫП КАЛАМ 2020 NBSP АЙНАЗ КАНАТКЫЗ БУЛ ЕЛИММЕН МАКТАН 2020 MADE IN KZ ЖУМЫР КЫЛЫШ МАХАМБЕТ 2020 NBSP СКАЧАТЬ ПЕСНЯ RAIM FEAT ARTUR ADIL ДОМ 2018 БЕСПЛАТНО В ФОРМАТ MP3\n",
            "000000003\t RAIM FT ARTUR ADIL ДОМ СКАЧАТЬ MP3\t СКАЧАТЬ ПЕСНЯ RAIM FT ARTUR ADIL ДОМ В ФОРМАТ MP3 РАЗМЕР 7 46 MB БИТРЕЙТ 320 KBPS ДЛИНА 3 12 ИЛИ СЛУШАТЬ БЕСПЛАТНО ﻿ RAIM FT ARTUR ADIL ДОМ RAIM FT ARTUR ADIL ДОМ СКАЧАТЬ ПЕСНЯ RAIM FT ARTUR ADIL ДОМ В MP3 РАЗМЕР 7 46 MB КАЧЕСТВО 320 KBPS ДЛИНА 3 12 ИЛИ СЛУШАТЬ БЕСПЛАТНО ИСПОЛНИТЕЛЬ KAZKA ПЕСНЯ ПЛАКАТЬ IGOR FRANK G LOVE REMIX ДАТА РЕЛИЗ 2018 12 06 19 32 ДЛИТЕЛЬНОСТЬ MP3 3 12 СКАЧАТЬ 2 106 РАЗ А СКАЧАТЬ RAIM FT ARTUR ADIL ДОМ СКАЧАТЬ MP3 7 46 MB RAIM ДВИГАТЬСЯ RAIM Я И СЕН DAVLETYAROV RAIM МЫ ПОЛЕТАТЬ ЕЛЕНА ТЕМНИКОВ FABIO CALL ME ARTUR ЧЕРНЫЙ БЕЛЫЙ\n",
            "000000004\t RAIM FEAT ARTUR ADIL ДОМ СКАЧАТЬ В MP3 БЕСПЛАТНО\t СКАЧАТЬ RAIM FEAT ARTUR ADIL ДОМ В MP3 ФОРМАТ КАЧЕСТВО 256 KB PS ДЛИТЕЛЬНОСТЬ 02 44 ТАКЖЕ СЛУШАТЬ ПЕСНЯ ОНЛАЙН RAIM FEAT ARTUR ADIL ДОМ RAIM FEAT ARTUR ADIL ДОМ СКАЧАТЬ ПЕСНЯ RAIM FEAT ARTUR ADIL ДОМ ДЛИНА 02 44 РАЗМЕР MB КАЧЕСТВО 256 KBPS СКАЧАТЬ RAIM FEAT ARTUR ADIL ДОМ СКАЧАТЬ 36 135 РАЗМЕР MP3 5 MB ДЛИТЕЛЬНОСТЬ MP3 02 44 КАЧЕСТВО MP3 256 KBPS ДАТА РЕЛИЗ 6 12 2018 15 20 СЛУШАТЬ RAIM FEAT ARTUR ADIL ДОМ ПОХОЖИЙ ПЕСНЬ RAIM FEAT ZHENI ЕСТЕЛІК 04 19 RAIM FEAT ADIL РОЗА 02 47 RAIM FEAT ADIL ТАЯТЬ 03 15 RAIM FEAT ARTUR КАРАМЕЛЬ 03 11 ADIL FLV 02 41 ВВЕСТИ КОДА С КАРТИНКА ОТПРАВИТЬ\n",
            "000000005\t СКАЧАТЬ ДОМ RAIM FEAT ARTUR ADIL MUSSIC KZ\t ЗДЕСЬ МОЖЕТЕ БЕСПЛАТНО СКАЧАТЬ ДОМ RAIM FEAT ARTUR ADIL MUSSIC KZ НОВИНКА КАЗАХСКИЙ ПЕСНЯ ЕЖЕДНЕВНЫЙ ОБНОВЛЕНИЕ RAIM FEAT ARTUR ADIL ДОМ 2018 RAIM FEAT ARTUR ADIL ДОМ 2018 ДАТА 7 12 2018 18 48 СКАЧАТЬ MP3 СКАЧИВАНИЕ 3 145 RAIM FEAT ADIL РОЗА 2018 RAIM FEAT ADIL РОЗА 2018 RAIM FEAT ARTUR КАРАМЕЛЬ 2018 RAIM FEAT ARTUR КАРАМЕЛЬ 2018 RAIM FEAT ADIL ТАЯТЬ 2018 RAIM FEAT ADIL ТАЯТЬ 2018 ARTUR ADIL DDRECORD В ДОЛИН ХОТЕТЬ 2018 ARTUR ADIL DDRECORD В ДОЛИН ХОТЕТЬ 2018 RAIM ARTUR ДОГОЛА 2018 RAIM ARTUR ДОГОЛА 2018 RAIM ARTUR FEAT ZHENI ДИСКОТЕКА ИЗ 90 2018 RAIM ARTUR FEAT ZHENI ДИСКОТЕКА ИЗ 90 2018 RAIM ARTUR ЛАВА 2018 RAIM ARTUR ЛАВА 2018 BN X RAIM ARTUR ЛУЧШИЙ 2018 BN X RAIM ARTUR ЛУЧШИЙ 2018 NINETY ONE MEN EMES 2019 NBSP ӘБДІЖАППАР ӘЛҚОЖА ЖӘУДІР МҰҢ 2019 NBSP ӘБДІЖАППАР ӘЛҚОЖА ФАКТ 2019 NBSP ТӨРЕҒАЛИ ТӨРЕӘЛІ ТҮНГІ ВАЛЬС 2019 NBSP ӘСЕТ ҚАРАБАЛИН ЕКЕУМІЗГЕ НЕ БОЛДА 2019 NBSP ҚАЙРАТ НҰРТАС ӨЗІҢ ҒАНА 2019 NBSP ЖАЗИРА БАЙРБЕКОВ ҚАЗАҚ ҚЫЗЫ ӘДЕМІ 2019 NBSP ҚУАНДЫҚ РАХЫМ НЕКЕ ЖҮЗІК 2019 NBSP ЕРНАР АЙДАР ЗАРИНА ОМАРОВ МӨЛДІРЕГЕН АЙЯ 2019 NBSP БЕРКУТ НАТАША КОРОЛЕВА ҚЫЛЫҚТЫ ҚЫЗ 2019 NBSP 2019 MUSSIC KZ ВСЕ ПРАВО ЗАЩИТИТЬ МЫ НЕ НЕСТИ ОТВЕТСТВЕННОСТЬ ЗА СОДЕРЖАНИЕ БЕСПЛАТНЫЙ ПРОИЗВЕДЕНИЕ ПРЕДНАЗНАЧИТЬ ИСКЛЮЧИТЕЛЬНО ДЛЯ ПРЕДВАРИТЕЛЬНЫЙ ОЗНАКОМИТЕЛЬНЫЙ ПРОСЛУШИВАНИЕ АВТОРСКИЙ ПРАВО ПРИНАДЛЕЖАТЬ АВТОР ПОСОЛ ПРОСЛУШИВАНИЕ ПЕСНЯ ВЫ ДОЛЖЕН УДАЛИТЬ ИХ СО СВОЕГО КОМПЬЮТЕР СМАРТФОН ПЛАНШЕТ ИЛИ ЛЮБОЙ ДРУГОЙ УСТРОЙСТВО НА КОТОРОЕ БЫЛ ЗАГРУЗИТЬ ФАЙЛ В ТЕЧЕНИЕ СЛЕДОВАТЬ 24 ЧАСОВ\n"
          ]
        }
      ]
    },
    {
      "cell_type": "markdown",
      "source": [
        "Скачаем запросы"
      ],
      "metadata": {
        "id": "o4uhHoiLcozF"
      }
    },
    {
      "cell_type": "code",
      "source": [
        "QUERIES_TXT = \"queries.numerate.txt\"\n",
        "silent_remove(QUERIES_TXT)\n",
        "#download_from_google_drive(\"https://drive.google.com/file/d/1Y6WGTRKl9r8FIOh5MATaJsxpUykryJA_/view?usp=sharing\",\n",
        "#                           QUERIES_TXT)\n",
        "download_from_google_drive(\"https://drive.google.com/file/d/1LrHrA4JQ3bvIMr3gc2jmx1uzdNcXzMPe/view?usp=drive_link\",\n",
        "                           QUERIES_TXT)\n",
        "with open(QUERIES_TXT) as queries_file:\n",
        "    queries = [q.rstrip() for q in queries_file.readlines()]\n",
        "    queries_indexes = [q.split('\\t')[0] for q in queries]\n",
        "    queries_texts = [q.split('\\t')[1] for q in queries]\n",
        "print('\\n'.join(queries[:10]))"
      ],
      "metadata": {
        "colab": {
          "base_uri": "https://localhost:8080/"
        },
        "id": "T2eBX3rccrn1",
        "outputId": "c01d334d-7321-4d4a-ea2b-6d1e2e2fc61c"
      },
      "execution_count": null,
      "outputs": [
        {
          "output_type": "stream",
          "name": "stdout",
          "text": [
            "1\t0 00 (ДОМ|ДАЧА|ДОМИК|ЖИЛИЩЕ|ЗДАНИЕ|КОТТЕДЖ|ОСОБНЯК|УСАДЬБА) (MUZONO|МАЗОНО|МУЗОНО|МУЗОНОУ) NET (RAIM|RECEIVER AUTONOMOUS INTEGRITY MONITORING|РАЙМ|РЕЙМ|РЭЙМ) (FEAT|FEATURING|FT|ФЕТ|ФИТ|ФЭЙТ) (ARTUR|ARTHUR|АРТАР|АРТАРЬ|АРТУР) (ADIL|АДАЙЛ|ЭДАЙЛ|ЭЙДАЙЛ) (СКАЧАТЬ|DOWNLOAD|ЗАГРУЗИТЬ|ЗАГРУЗКА|КАЧАТЬ|СКАЧИВАТЬ)\n",
            "2\t0 (16|XVI) 0 (8T|8 T|8 Т|8Т) T\n",
            "3\t0 (5|V) (ТЕКИЛА|TEQUILA) (МАКСИМО|MAXIMO|МАКСИМА) (ДЕ|DE) КОДОРНИЗ (СИЛЬВЕР|SILVER) 38\n",
            "4\t011 023 021791 (ПФР|PFR|ПЕНСИОННЫЙ ФОНД|ПЕНСИОННЫЙ ФОНД РОССИЯ|ПЕНСИОННЫЙ ФОНД РФ)\n",
            "5\t05 (05|МАЯ) 2019 (ВЫХОДНОЙ|НЕРАБОЧИЙ ДЕНЬ)\n",
            "6\t06 (МАРТА|03) 2019 (АВАРИЯ|АВТОКАТАСТРОФА|ДТП|КАТАСТРОФА|КРУШЕНИЕ) НА (ТРАССА|АВТОТРАССА|ДОРОГА) (ЛЕНИНГРАДСКИЙ ОБЛАСТЬ|ЛО)\n",
            "7\t(ОДИН 2|(1|I) (2|II)) (ФОРМИРОВАНИЕ|ОРГАНИЗАЦИЯ|ПОДРАЗДЕЛЕНИЕ|РАЗВИТИЕ|СОЗДАНИЕ|СТАНОВЛЕНИЕ|СФОРМИРОВЫВАТЬ|ФОРМИРОВАТЬ|ФОРМИРОВАТЬСЯ) (ПОКАЗАТЕЛЬ|КОЭФФИЦИЕНТ|ПОКАЗАТЕЛЬНЫЙ|ПОКАЗАТЬ) (БУХГАЛТЕРСКИЙ ОТЧЕТНОСТЬ|БУХ ОТЧЕТНОСТЬ|БУХОТЧЕТНОСТЬ) (ПРЕДПРИЯТИЕ|ЗАВОД|ИНИЦИАТИВА|КОМПАНИЯ|ОРГАНИЗАЦИЯ|ФИРМА)\n",
            "8\t(1 ТРИ|(1|I) (3|III)) СОСТАВ (АССОРТИМЕНТ|АССОРТИМЕНТНЫЙ|КОЛЛЕКЦИЯ) ХОЛОДНОЕ (БЛЮДО|ЕДА|КУШАНЬЕ|ЯСТВО) (ЗАКУСКА|ЗАКУСОЧНЫЙ|КУШАНЬЕ) (РЕСТОРАН|КАФЕ|КОФЕЙНЯ|РЕСТОРАННЫЙ) (КАФЕ|CAFE|КАФЕТЕРИЙ|КАФЕШКА|КОФЕЙНЯ|РЕСТОРАН)\n",
            "9\t(1|I) (4|IV) (КЛАСС|CLASS|КЛАССНЫЙ|КЛАССОВЫЙ) (ОРГАНИЗАЦИЯ|ОБЪЕДИНЕНИЕ|ОРГАНИЗАЦИОННЫЙ|ПРЕДПРИЯТИЕ|УЧРЕЖДЕНИЕ) (ПРОЕКТНЫЙ|ПРОЕКТ) (ДЕЯТЕЛЬНОСТЬ|ДЕЙСТВИЕ|ДЕЯТЕЛЬНЫЙ) (УРОК|UROKAM|ЗАНЯТИЕ) (ИЗОБРАЗИТЕЛЬНЫЙ ИСКУССТВО|ИЗО) (ТЕХНОЛОГИЯ|МЕТОДИКА|ТЕХНОЛОГИЧНЫЙ)\n",
            "10\t(1|I) 43 (ПОДВЕСКА|ПОДВЕСОК|ПОДВЕСОЧНЫЙ|РЕССОРНЫЙ ПОДВЕШИВАНИЕ|СИСТЕМА ПОДРЕССОРИВАНИЯ) НА (ТРАКТОР|БУЛЬДОЗЕР|ТРАКТОРНЫЙ|ТЯГАЧ) (МОДЕЛЬ|MODEL|МАКЕТ|МАРКА|МОДЕЛЬНЫЙ|НАТУРЩИЦА|ПРОТОТИП|ТИП)\n"
          ]
        }
      ]
    },
    {
      "cell_type": "markdown",
      "source": [
        "Определим схему индекса"
      ],
      "metadata": {
        "id": "Uv3wNbuRF2Ro"
      }
    },
    {
      "cell_type": "code",
      "execution_count": null,
      "metadata": {
        "id": "Ta2CnKXSFtPk"
      },
      "outputs": [],
      "source": [
        "from whoosh.fields import Schema, ID, TEXT, NUMERIC, BOOLEAN\n",
        "\n",
        "# stored=True означает возможность иметь доступ к данному полю в результатах поиска,\n",
        "# а также построения сниппетов\n",
        "# unique=True позволит нам обновлять документы - вызывать document_update()\n",
        "schema = Schema(docid=NUMERIC(stored=True, unique=True),\n",
        "                title=TEXT(stored=True),\n",
        "                body=TEXT(stored=True),\n",
        "                size=NUMERIC(stored=True),\n",
        "                is_small=BOOLEAN(stored=True),\n",
        "                extra_field=NUMERIC)"
      ]
    },
    {
      "cell_type": "markdown",
      "source": [
        "Определим функцию индексации"
      ],
      "metadata": {
        "id": "qEWj41VsGLXe"
      }
    },
    {
      "cell_type": "code",
      "source": [
        "import os\n",
        "import whoosh.index as index\n",
        "\n",
        "\n",
        "INDEX_DIR = \"indexdir\"\n",
        "\n",
        "def add_to_index(index_writer, docs):\n",
        "    for line in docs:\n",
        "        fields = line.rstrip('\\n').split('\\t')\n",
        "        docid = int(fields[0])\n",
        "        size = len(fields[2])\n",
        "        index_writer.add_document(docid=docid, title=fields[1],\n",
        "                                  body=fields[2], size=size,\n",
        "                                  is_small=(size<10000))\n",
        "        if docid % 500 == 0:\n",
        "            print(f\"Processed {docid} documents\")\n",
        "    index_writer.commit()\n",
        "\n",
        "\n",
        "def create_index():\n",
        "    os.mkdir(INDEX_DIR)\n",
        "    try:\n",
        "        ix = index.create_in(INDEX_DIR, schema)\n",
        "\n",
        "        writer = ix.writer()\n",
        "\n",
        "        with open(DOCS_TSV) as docs:\n",
        "            add_to_index(writer, docs)\n",
        "    except:\n",
        "        os.rmdir(INDEX_DIR)\n",
        "        raise\n",
        "    return ix"
      ],
      "metadata": {
        "id": "Brihgv7SGJhA"
      },
      "execution_count": null,
      "outputs": []
    },
    {
      "cell_type": "markdown",
      "source": [
        "Создаем индекс"
      ],
      "metadata": {
        "id": "ajy6V6W3G8ZG"
      }
    },
    {
      "cell_type": "code",
      "source": [
        "import shutil\n",
        "import time\n",
        "\n",
        "def create_or_open_index():\n",
        "    if not os.path.exists(INDEX_DIR):\n",
        "        start = time.time()\n",
        "        ix = create_index()\n",
        "        end = time.time()\n",
        "        print(\"Indexing time:\", end-start, \"sec\")\n",
        "    else:\n",
        "        ix = index.open_dir(INDEX_DIR)\n",
        "\n",
        "    print(f\"Documents in index: {ix.doc_count()}\")\n",
        "    return ix\n",
        "\n",
        "\n",
        "if os.path.exists(INDEX_DIR):\n",
        "    shutil.rmtree(INDEX_DIR)\n",
        "ix = create_or_open_index()"
      ],
      "metadata": {
        "colab": {
          "base_uri": "https://localhost:8080/"
        },
        "id": "sZ8O966KHBcJ",
        "outputId": "8f052419-aa90-4cbf-d43b-aed8fb6cfc60"
      },
      "execution_count": null,
      "outputs": [
        {
          "output_type": "stream",
          "name": "stdout",
          "text": [
            "Processed 500 documents\n",
            "Processed 1000 documents\n",
            "Processed 1500 documents\n",
            "Processed 2000 documents\n",
            "Processed 2500 documents\n",
            "Indexing time: 48.777997732162476 sec\n",
            "Documents in index: 2781\n"
          ]
        }
      ]
    },
    {
      "cell_type": "markdown",
      "source": [
        "Можно ли быстрее?"
      ],
      "metadata": {
        "id": "b7i6g0KsN-Kt"
      }
    },
    {
      "cell_type": "code",
      "source": [
        "def create_index():\n",
        "    os.mkdir(INDEX_DIR)\n",
        "    try:\n",
        "        ix = index.create_in(INDEX_DIR, schema)\n",
        "\n",
        "        # По-умолчанию limitmb=128, увеличив его мы увеличиваем\n",
        "        # скорость индексации\n",
        "        writer = ix.writer(limitmb=512)\n",
        "\n",
        "        with open(DOCS_TSV) as docs:\n",
        "            add_to_index(writer, docs)\n",
        "    except:\n",
        "        os.rmdir(INDEX_DIR)\n",
        "        raise\n",
        "    return ix\n",
        "\n",
        "shutil.rmtree(INDEX_DIR)\n",
        "ix = create_or_open_index()"
      ],
      "metadata": {
        "colab": {
          "base_uri": "https://localhost:8080/"
        },
        "id": "YVeReUmRN50P",
        "outputId": "2c07d92a-350d-40b0-8154-488e10b6868e"
      },
      "execution_count": null,
      "outputs": [
        {
          "output_type": "stream",
          "name": "stdout",
          "text": [
            "Processed 500 documents\n",
            "Processed 1000 documents\n",
            "Processed 1500 documents\n",
            "Processed 2000 documents\n",
            "Processed 2500 documents\n",
            "Indexing time: 23.966434955596924 sec\n",
            "Documents in index: 2781\n"
          ]
        }
      ]
    },
    {
      "cell_type": "markdown",
      "source": [
        "Можно ли еще быстрее?"
      ],
      "metadata": {
        "id": "YHjOXIfL7GYD"
      }
    },
    {
      "cell_type": "code",
      "source": [
        "import multiprocessing\n",
        "\n",
        "cores = multiprocessing.cpu_count()\n",
        "print(\"Cores:\", cores) # Count the number of cores in a computer\n",
        "\n",
        "def create_index():\n",
        "    os.mkdir(INDEX_DIR)\n",
        "    try:\n",
        "        ix = index.create_in(INDEX_DIR, schema)\n",
        "\n",
        "        # По-умолчанию используется 1 ядро\n",
        "        # multisegment=True указывает не мержить разные сегменты (части индекса)\n",
        "        # которые параллельно создаются на разных ядрах. Негативный эффект -\n",
        "        # индекс состоит из нескольких несмерженных сегментов\n",
        "        writer = ix.writer(procs=cores, limitmb=512, multisegment=True)\n",
        "\n",
        "        with open(DOCS_TSV) as docs:\n",
        "            add_to_index(writer, docs)\n",
        "    except:\n",
        "        os.rmdir(INDEX_DIR)\n",
        "        raise\n",
        "    return ix\n",
        "\n",
        "\n",
        "shutil.rmtree(INDEX_DIR)\n",
        "ix = create_or_open_index()"
      ],
      "metadata": {
        "colab": {
          "base_uri": "https://localhost:8080/"
        },
        "id": "N9gAhEpz6BnD",
        "outputId": "d1c83e00-15e4-4531-bfd3-3ff8f58fb1ee"
      },
      "execution_count": null,
      "outputs": [
        {
          "output_type": "stream",
          "name": "stdout",
          "text": [
            "Cores: 2\n",
            "Processed 500 documents\n",
            "Processed 1000 documents\n",
            "Processed 1500 documents\n",
            "Processed 2000 documents\n",
            "Processed 2500 documents\n",
            "Indexing time: 21.57501769065857 sec\n",
            "Documents in index: 2781\n"
          ]
        }
      ]
    },
    {
      "cell_type": "markdown",
      "source": [
        "Изменение схемы после индексации"
      ],
      "metadata": {
        "id": "oSXN_GcDI0NG"
      }
    },
    {
      "cell_type": "code",
      "source": [
        "writer = ix.writer(procs=cores, limitmb=512)\n",
        "writer.remove_field(\"extra_field\")\n",
        "# Чтобы все ссылки на удаленное поле были удалены, нужно запустить оптимизацию\n",
        "writer.commit(optimize=True)"
      ],
      "metadata": {
        "id": "vRgISj04JDII"
      },
      "execution_count": null,
      "outputs": []
    },
    {
      "cell_type": "markdown",
      "source": [
        "Можем давать повышающие/понижающие коэффициенты определенным полям"
      ],
      "metadata": {
        "id": "YKaeDPtuEp4b"
      }
    },
    {
      "cell_type": "code",
      "source": [
        "schema2 = Schema(docid=ID(stored=True),\n",
        "                title=TEXT(field_boost=2.0, stored=True),\n",
        "                body=TEXT(stored=True))"
      ],
      "metadata": {
        "id": "cebVid1zEwMR"
      },
      "execution_count": null,
      "outputs": []
    },
    {
      "cell_type": "markdown",
      "source": [
        "Можем выбирать, какая именно информация сохраняется в индексе по каждому полю (формат списка словопозиций = posting list'а)\n",
        "\n"
      ],
      "metadata": {
        "id": "LYCId_vKFb0i"
      }
    },
    {
      "cell_type": "code",
      "source": [
        "# Для body отключаем сохранение словопозиций, т.е. возможность поиска фраз\n",
        "# для каждого термина будет храниться только частота\n",
        "schema2 = Schema(docid=ID(stored=True),\n",
        "                title=TEXT(stored=True),\n",
        "                body=TEXT(stored=False, phrase=False))"
      ],
      "metadata": {
        "id": "tX7lnS4KFp8p"
      },
      "execution_count": null,
      "outputs": []
    },
    {
      "cell_type": "markdown",
      "source": [
        "Функция вывода результатов поиска и конфигурирование парсера:"
      ],
      "metadata": {
        "id": "u8ih6nfAjy-o"
      }
    },
    {
      "cell_type": "code",
      "source": [
        "from whoosh.qparser import OperatorsPlugin\n",
        "\n",
        "def output_results(results, query_text, new_line=True):\n",
        "    print(\"==== Number of results:\", len(results), \"for query\", query_text)\n",
        "    for hit in results:\n",
        "        # Результат отображает только docid и title, т.к. body не поместится на экране\n",
        "        # но термины запроса могут встречаться и в body\n",
        "        print(\"Docid:\", hit[\"docid\"], 'S' if hit[\"is_small\"] else 'B',\n",
        "              \"Title:\", hit[\"title\"], \"Highlights:\", hit.highlights(\"body\"))\n",
        "    if new_line:\n",
        "        print()\n",
        "\n",
        "\n",
        "def setup_parser(qp):\n",
        "    # Поддержка операции или '|'\n",
        "    op = OperatorsPlugin(Or=\"\\\\|\")\n",
        "    qp.replace_plugin(op)\n",
        "    return qp"
      ],
      "metadata": {
        "id": "CVvWVQH-jwka"
      },
      "execution_count": null,
      "outputs": []
    },
    {
      "cell_type": "markdown",
      "source": [
        "Импорты и выборка для обработки запросов"
      ],
      "metadata": {
        "id": "CeOIODxayTfi"
      }
    },
    {
      "cell_type": "code",
      "source": [
        "from whoosh.qparser import QueryParser\n",
        "\n",
        "# Выборка подобрана чтобы видеть разницу с этим и следующим запросом\n",
        "queries_texts_sample = queries_texts[10:15]"
      ],
      "metadata": {
        "id": "wvpN7NvpwJ1S"
      },
      "execution_count": null,
      "outputs": []
    },
    {
      "cell_type": "markdown",
      "source": [
        "Выполним поиск по нескольким запросам и выведем результаты:"
      ],
      "metadata": {
        "id": "PIAwTRZmkFJv"
      }
    },
    {
      "cell_type": "code",
      "source": [
        "for query_text in queries_texts_sample:\n",
        "    # Ищем только по body\n",
        "    qp = setup_parser(QueryParser(\"body\", schema=schema))\n",
        "    q = qp.parse(query_text)\n",
        "    with ix.searcher() as searcher:\n",
        "        # По-умолчанию results содержит первые 10 документов соответствующих запросу\n",
        "        results = searcher.search(q)\n",
        "        output_results(results, query_text)"
      ],
      "metadata": {
        "colab": {
          "base_uri": "https://localhost:8080/"
        },
        "id": "Ea_-qRO9Y60c",
        "outputId": "a4d64502-6928-4ede-afcc-c403601907e0"
      },
      "execution_count": null,
      "outputs": [
        {
          "output_type": "stream",
          "name": "stdout",
          "text": [
            "==== Number of results: 0 for query (1|I) 9736586783 (НАЙТИ|SEARCH|ВЗЯТЬ|ВЫЯСНИТЬ|ДОСТАТЬ|ИСКАТЬ|НАХОДИТЬ|ПОИСК|ПОЛУЧИТЬ) КОМУ (ПРИНАДЛЕЖАТЬ|ИМЕТЬ) (ЭТОТ|ETOT) (НОМЕР|КОМНАТА|НОМЕРНОЙ|НОМЕРОК)\n",
            "\n",
            "==== Number of results: 0 for query (1|I) (MASCULINE|МАСКАЛАЙН|МАСКАЛИН|МАСКУЛАЙН) ОТЗИВ\n",
            "\n",
            "==== Number of results: 44 for query (1|I) (АНАЛИЗ|ИССЛЕДОВАНИЕ|РАЗБОР) (СОЗДАТЬ|CREATION|ВОССОЗДАТЬ|СОЗДАВАТЬ|СОЗДАВАТЬСЯ|СОЗДАНИЕ|СОЗДАТЕЛЬ|СОТВОРИТЬ|ТВОРЕНИЕ) (УСЛОВИЕ|ДОГОВОР|ДОГОВОРЕННОСТЬ|СОГЛАШЕНИЕ) ДЛЯ (РАЗВИТИЕ|РОСТ|СТАНОВЛЕНИЕ|ФОРМИРОВАНИЕ|ЭВОЛЮЦИЯ) (ИГРОВОЙ|ИГРА) (ДЕЯТЕЛЬНОСТЬ|ДЕЙСТВИЕ|ДЕЯТЕЛЬНЫЙ) (ГРУППА|ГРУППИРОВАТЬ|КОЛЛЕКТИВ) (РАННИЙ|ЗАРАНЕЕ|НАЧАЛЬНЫЙ|ПРЕЖДЕ|ПРЕЖДЕВРЕМЕННЫЙ|РАНЕЕ)\n",
            "Docid: 297 B Title:  ПЕДАГОГИЧЕСКИЙ УСЛОВИЕ ФОРМИРОВАНИЕ ИГРОВОЙ ДЕЯТЕЛЬНОСТЬ РЕБЕНОК РАННИЙ ВОЗРАСТ Highlights: <b class=\"match term0\">ИССЛЕДОВАНИЕ</b> ПЕДАГОГИЧЕСКИЙ <b class=\"match term1\">УСЛОВИЕ</b> <b class=\"match term2\">ФОРМИРОВАНИЕ</b> <b class=\"match term3\">ИГРОВОЙ</b> <b class=\"match term4\">ДЕЯТЕЛЬНОСТЬ</b> РЕБЕНОК <b class=\"match term0\">РАННИЙ</b> ВОЗРАСТ ЦЕЛЬ <b class=\"match term0\">ИССЛЕДОВАНИЕ</b> ВЫЯВИТЬ ПЕДАГОГИЧЕСКИЙ...<b class=\"match term1\">УСЛОВИЕ</b> НАПРАВИТЬ НА <b class=\"match term2\">ФОРМИРОВАНИЕ</b> <b class=\"match term3\">ИГРОВОЙ</b> <b class=\"match term4\">ДЕЯТЕЛЬНОСТЬ</b> РЕБЕНОК <b class=\"match term0\">РАННИЙ</b> ВОЗРАСТ ЗАДАЧА <b class=\"match term0\">ИССЛЕДОВАНИЕ</b> СДЕЛАТЬ ОБЗОР...<b class=\"match term1\">УСЛОВИЕ</b> НАПРАВИТЬ НА <b class=\"match term2\">ФОРМИРОВАНИЕ</b> <b class=\"match term3\">ИГРОВОЙ</b> <b class=\"match term4\">ДЕЯТЕЛЬНОСТЬ</b> РЕБЕНОК <b class=\"match term1\">ГРУППА</b> <b class=\"match term0\">РАННИЙ</b> ВОЗРАСТ 4 ПРОАНАЛИЗИРОВАТЬ\n",
            "Docid: 303 B Title:  ДЛЯ ПЕДАГОГ ПЕДАГОГИЧЕСКИЙ УСЛОВИЕ РАЗВИТИЕ РЕБЕНОК РАННИЙ ВОЗРАСТ Highlights: <b class=\"match term1\">УСЛОВИЕ</b> СТИМУЛИРОВАТЬ <b class=\"match term2\">РАЗВИТИЕ</b> ПРЕДМЕТНЫЙ <b class=\"match term3\">ИГРОВОЙ</b> <b class=\"match term4\">ДЕЯТЕЛЬНОСТЬ</b> РЕБЕНОК <b class=\"match term0\">РАННИЙ</b> ВОЗРАСТ 24 2 <b class=\"match term3\">АНАЛИЗ</b> РЕЗУЛЬТАТ ОПЫТНО...БЫ РЕШЕНИЕ ЗАДАЧА <b class=\"match term2\">РАЗВИТИЕ</b> <b class=\"match term3\">ИГРОВОЙ</b> <b class=\"match term4\">ДЕЯТЕЛЬНОСТЬ</b> В <b class=\"match term0\">РАННИЙ</b> ВОЗРАСТ ДАТЬ БЫ ВОЗМОЖНОСТЬ...ТЕОРЕТИЧЕСКИЙ ОСНОВА <b class=\"match term2\">РАЗВИТИЕ</b> <b class=\"match term3\">ИГРОВОЙ</b> <b class=\"match term4\">ДЕЯТЕЛЬНОСТЬ</b> РЕБЕНОК <b class=\"match term0\">РАННИЙ</b> ВОЗРАСТ 5 1 ВОСПИТАТЕЛЬНЫЙ\n",
            "Docid: 307 B Title:  СОЗДАНИЕ УСЛОВИЕ ДЛЯ СЕНСОРНЫЙ РАЗВИТИЕ РЕБЕНОК РАННИЙ ВОЗРАСТ Highlights: NULL <b class=\"match term4\">СОЗДАНИЕ</b> <b class=\"match term1\">УСЛОВИЕ</b> <b class=\"match term0\">ДЛЯ</b> СЕНСОРНЫЙ <b class=\"match term2\">РАЗВИТИЕ</b> РЕБЕНОК <b class=\"match term0\">РАННИЙ</b> ВОЗРАСТ I ЛИЗИНГОВЫЙ...<b class=\"match term1\">ИГРА</b> СХЕМА <b class=\"match term3\">АНАЛИЗ</b> И САМОАНАЛИЗ ПО <b class=\"match term4\">СОЗДАНИЕ</b> <b class=\"match term1\">УСЛОВИЕ</b> <b class=\"match term0\">ДЛЯ</b> СЕНСОРНЫЙ <b class=\"match term2\">РАЗВИТИЕ</b> РЕБЕНОК <b class=\"match term0\">РАННИЙ</b> ВОЗРАСТ В РАЗРАБОТАТЬ...РАЗРАБОТАТЬ СХЕМА <b class=\"match term3\">АНАЛИЗ</b> И САМОАНАЛИЗ ПО <b class=\"match term4\">СОЗДАНИЕ</b> <b class=\"match term1\">УСЛОВИЕ</b> <b class=\"match term0\">ДЛЯ</b> СЕНСОРНЫЙ <b class=\"match term2\">РАЗВИТИЕ</b> РЕБЕНОК <b class=\"match term0\">РАННИЙ</b> ВОЗРАСТ В ДОШКОЛЬНЫЙ\n",
            "Docid: 292 B Title:  ИГРОВОЙ ДЕЯТЕЛЬНОСТЬ КАК СРЕДСТВО РАЗВИТИЕ РЕЧЬ РЕБЕНОК РАННИЙ ВОЗРАСТ Highlights: <b class=\"match term2\">РАЗВИТИЕ</b> РЕЧЬ РЕБЕНОК <b class=\"match term0\">РАННИЙ</b> ВОЗРАСТ ЦЕЛЬ <b class=\"match term2\">РАЗВИТИЕ</b> РЕЧЬ РЕБЕНОК <b class=\"match term0\">РАННИЙ</b> ВОЗРАСТ В <b class=\"match term3\">ИГРОВОЙ</b> <b class=\"match term4\">ДЕЯТЕЛЬНОСТЬ</b> <b class=\"match term0\">ДЛЯ</b> РЕШЕНИЕ ЦЕЛИТЬ ПОСТАВИТЬ...РАЗЛИЧНЫЙ ВИДОВ <b class=\"match term1\">ИГРА</b> <b class=\"match term0\">ДЛЯ</b> <b class=\"match term2\">РАЗВИТИЕ</b> РЕЧЬ РЕБЕНОК <b class=\"match term0\">РАННИЙ</b> ВОЗРАСТ <b class=\"match term0\">ДЛЯ</b> ОБУЧЕНИЕ ЧЕРЕЗ <b class=\"match term1\">ИГРА</b> И <b class=\"match term2\">СОЗДАТЬ</b> ДИДАКТИЧЕСКИЙ...<b class=\"match term0\">ДЛЯ</b> ВОСПИТАТЕЛЬ <b class=\"match term1\">ГРУППА</b> <b class=\"match term0\">РАННИЙ</b> ВОЗРАСТ <b class=\"match term2\">РАЗВИТИЕ</b> РЕБЕНОК <b class=\"match term0\">РАННИЙ</b> ВОЗРАСТ В <b class=\"match term3\">ИГРОВОЙ</b> <b class=\"match term4\">ДЕЯТЕЛЬНОСТЬ</b> 29 10 НА БАЗ\n",
            "Docid: 279 B Title:  ИГРОВОЙ ДЕЯТЕЛЬНОСТЬ РЕБЕНОК РАННИЙ ДОШКОЛЬНЫЙ ВОЗРАСТ ОБРАЗОВАТЕЛЬНЫЙ СОЦИАЛЬНЫЙ СЕТЬ Highlights: ИНИЦИИРОВАТЬ <b class=\"match term1\">ИГРА</b> <b class=\"match term2\">СОЗДАТЬ</b> <b class=\"match term1\">УСЛОВИЕ</b> <b class=\"match term0\">ДЛЯ</b> <b class=\"match term1\">ИГРА</b> В <b class=\"match term3\">ИГРОВОЙ</b> <b class=\"match term4\">ДЕЯТЕЛЬНОСТЬ</b> ВХОДИТЬ АДАПТАЦИОННЫЙ...РАЗЛИЧНЫЙ ВИДОВ <b class=\"match term1\">ИГРА</b> <b class=\"match term3\">СОЗДАВАТЬСЯ</b> <b class=\"match term1\">УСЛОВИЕ</b> <b class=\"match term0\">ДЛЯ</b> <b class=\"match term2\">РАЗВИТИЕ</b> УМСТВЕННЫЙ И ТВОРЧЕСКИЙ...С ОСОБЕННОСТЬ <b class=\"match term2\">РАЗВИТИЕ</b> РЕБЕНОК <b class=\"match term0\">РАННИЙ</b> ВОЗРАСТ В <b class=\"match term3\">ИГРОВОЙ</b> <b class=\"match term4\">ДЕЯТЕЛЬНОСТЬ</b> ВЫЗВАТЬ ИНТЕРЕС\n",
            "Docid: 278 B Title:  ИССЛЕДОВАНИЕ ОСОБЕННОСТЬ ИГРОВОЙ ДЕЯТЕЛЬНОСТЬ РЕБЕНОК РАННИЙ ВОЗРАСТ Highlights: ПЕДАГОГИЧЕСКИЙ <b class=\"match term1\">УСЛОВИЕ</b> <b class=\"match term2\">РАЗВИТИЕ</b> <b class=\"match term3\">ИГРОВОЙ</b> <b class=\"match term4\">ДЕЯТЕЛЬНОСТЬ</b> В <b class=\"match term0\">РАННИЙ</b> ВОЗРАСТ ЯВЛЯТЬСЯ...3ЛЕТ ЭТАП <b class=\"match term2\">РАЗВИТИЕ</b> <b class=\"match term3\">ИГРОВОЙ</b> <b class=\"match term4\">ДЕЯТЕЛЬНОСТЬ</b> РЕБЕНОК <b class=\"match term0\">РАННИЙ</b> ВОЗРАСТ <b class=\"match term3\">ИГРОВОЙ</b> <b class=\"match term4\">ДЕЯТЕЛЬНОСТЬ</b> ПРОХОДИТЬ...И ПОКАЗАТЕЛЬ <b class=\"match term1\">ИГРА</b> ДИАГНОСТИКА <b class=\"match term1\">ИГРА</b> ВКЛЮЧАТЬ В СЕБЯ <b class=\"match term3\">АНАЛИЗ</b> <b class=\"match term3\">ИГРОВОЙ</b> <b class=\"match term4\">ДЕЯТЕЛЬНОСТЬ</b> РЕБЕНОК ПО\n",
            "Docid: 287 B Title:  ПРЕДМЕТНЫЙ ИГРОВОЙ СРЕДА ГРУППА РАННИЙ ВОЗРАСТ В УСЛОВИЕ РЕАЛИЗАЦИЯ ФГТ ПРЕЗЕНТАЦИЯ 189382 Highlights: СРЕДА <b class=\"match term1\">ГРУППА</b> ПРЕДМЕТНЫЙ <b class=\"match term3\">ИГРОВОЙ</b> СРЕДА <b class=\"match term1\">ГРУППА</b> <b class=\"match term0\">РАННИЙ</b> ВОЗРАСТ В <b class=\"match term1\">УСЛОВИЕ</b> РЕАЛИЗАЦИЯ РЕАЛИЗАЦИЯ...СРЕДА КАК <b class=\"match term1\">УСЛОВИЕ</b> <b class=\"match term2\">ФОРМИРОВАНИЕ</b> И <b class=\"match term2\">РАЗВИТИЕ</b> <b class=\"match term3\">ИГРОВОЙ</b> <b class=\"match term4\">ДЕЯТЕЛЬНОСТЬ</b> РЕБЕНОК ДОШКОЛЬНЫЙ...СРЕДА КАК <b class=\"match term1\">УСЛОВИЕ</b> <b class=\"match term2\">ФОРМИРОВАНИЕ</b> И <b class=\"match term2\">РАЗВИТИЕ</b> <b class=\"match term3\">ИГРОВОЙ</b> <b class=\"match term4\">ДЕЯТЕЛЬНОСТЬ</b> РЕБЕНОК ДОШКОЛЬНЫЙ\n",
            "Docid: 295 B Title:  ТЕМАТИЧЕСКИЙ КОНТРОЛЬ НА ТЕМА СОСТОЯНИЕ РАЗВИТИЕ ИГРОВОЙ ДЕЯТЕЛЬНОСТЬ РЕБЕНОК МЛАДШИЙ И РАННИЙ ВОЗРАСТ МОЙ ДЕТСКИЙ САД Highlights: ВОЗРАСТ 2 Я МЛАДШИЙ <b class=\"match term1\">ГРУППА</b> <b class=\"match term4\">СОЗДАВАТЬ</b> <b class=\"match term1\">УСЛОВИЕ</b> <b class=\"match term0\">ДЛЯ</b> ВОЗНИКНОВЕНИЕ И <b class=\"match term2\">РАЗВИТИЕ</b> СЮЖЕТНЫЙ РОЛЕВОЙ...N ВОПРОС НА КОНТРОЛЬ <b class=\"match term1\">ГРУППА</b> N1 N2 N3 N 4 1 <b class=\"match term1\">УСЛОВИЕ</b> <b class=\"match term2\">РАЗВИТИЕ</b> СЮЖЕТНЫЙ <b class=\"match term1\">ИГРА</b> <b class=\"match term3\">ИГРОВОЙ</b> МОДУЛЬ ЖЕСТКИЙ...ОПИСАНИЕ РЕЧЕВОЙ <b class=\"match term1\">ИГРА</b> 5 <b class=\"match term1\">УСЛОВИЕ</b> <b class=\"match term0\">ДЛЯ</b> <b class=\"match term2\">РАЗВИТИЕ</b> ПОДВИЖНОЙ <b class=\"match term1\">ИГРА</b> РЕБЕНОК ОРГАНИЗАЦИЯ\n",
            "Docid: 299 B Title:  ДИПЛОМ РАЗВИТИЕ РЕЧЬ У РЕБЕНОК РАННИЙ ВОЗРАСТ В ПРОЦЕСС ИГРОВОЙ ДЕЯТЕЛЬНОСТЬ Highlights: <b class=\"match term1\">УСЛОВИЕ</b> <b class=\"match term2\">РАЗВИТИЕ</b> РЕЧЬ РЕБЕНОК <b class=\"match term0\">РАННИЙ</b> ВОЗРАСТ В <b class=\"match term3\">ИГРОВОЙ</b> <b class=\"match term4\">ДЕЯТЕЛЬНОСТЬ</b> 13 1 <b class=\"match term1\">ИГРА</b> КАК СРЕДСТВО <b class=\"match term2\">РАЗВИТИЕ</b> РЕЧЬ РЕБЕНОК <b class=\"match term0\">РАННИЙ</b> ВОЗРАСТ 26 ВЫВОД...<b class=\"match term1\">УСЛОВИЕ</b> СПОСОБСТВОВАТЬ <b class=\"match term2\">РАЗВИТИЕ</b> РЕЧЬ РЕБЕНОК <b class=\"match term0\">РАННИЙ</b> ВОЗРАСТ В <b class=\"match term3\">ИГРОВОЙ</b> <b class=\"match term4\">ДЕЯТЕЛЬНОСТЬ</b> ОБЪЕКТ <b class=\"match term0\">ИССЛЕДОВАНИЕ</b> <b class=\"match term2\">РАЗВИТИЕ</b> РЕЧЬ РЕБЕНОК <b class=\"match term0\">РАННИЙ</b> ВОЗРАСТ ПРЕДМЕТ...ЯВЛЯТЬСЯ НЕОБХОДИМЫЙ <b class=\"match term1\">УСЛОВИЕ</b> <b class=\"match term2\">ФОРМИРОВАНИЕ</b> <b class=\"match term3\">ИГРОВОЙ</b> <b class=\"match term4\">ДЕЯТЕЛЬНОСТЬ</b> РЕБЕНОК <b class=\"match term0\">ДЛЯ</b> РЕБЕНОК <b class=\"match term0\">РАННИЙ</b> ВОЗРАСТ НЕОБХОДИМЫЙ\n",
            "Docid: 281 B Title:  АНАЛИЗ ИГРОВОЙ ДЕЯТЕЛЬНОСТЬ ДОШКОЛЬНИК Highlights: 4 <b class=\"match term1\">УСЛОВИЕ</b> <b class=\"match term0\">ДЛЯ</b> <b class=\"match term1\">ИГРА</b> НАЛИЧИЕ <b class=\"match term1\">ИГРА</b> <b class=\"match term3\">ИГРОВОЙ</b> МАТЕРИАЛ СКОЛЬКО...<b class=\"match term1\">УСЛОВИЕ</b> <b class=\"match term0\">ДЛЯ</b> <b class=\"match term1\">ИГРА</b> НАЛИЧИЕ <b class=\"match term1\">ИГРА</b> <b class=\"match term3\">ИГРОВОЙ</b> МАТЕРИАЛ СКОЛЬКО...КРИТЕРИЙ <b class=\"match term2\">РАЗВИТИЕ</b> <b class=\"match term3\">ИГРОВОЙ</b> <b class=\"match term4\">ДЕЯТЕЛЬНОСТЬ</b> <b class=\"match term1\">УСЛОВИЕ</b> <b class=\"match term0\">ДЛЯ</b> ВОЗНИКНОВЕНИЕ И РАЗВЕРТЫВАНИЕ\n",
            "\n",
            "==== Number of results: 15 for query (1|I) (ВИНА|VIN|VINUM|WIN) (ОФИЦИАЛЬНЫЙ|ОФИЦИАЛЬНОСТЬ) (САЙТ|SIGHT|SITE)\n",
            "Docid: 309 S Title:  БУКМЕКЕРСКИЙ КОНТОРА 1 WIN ОФИЦИАЛЬНЫЙ САЙТ БУКМЕКЕР ТОП Highlights: СТАТУС В РФ <b class=\"match term0\">ОФИЦИАЛЬНЫЙ</b> <b class=\"match term1\">САЙТ</b> БУКМЕКЕРСКИЙ КОНТОРА...КОНТОРА 1 <b class=\"match term2\">WIN</b> ОСОБЕННОСТЬ <b class=\"match term0\">ОФИЦИАЛЬНЫЙ</b> <b class=\"match term1\">САЙТ</b> БУКМЕКЕРСКИЙ КОНТОРА...РАЗВЛЕЧЕНИЕ НА <b class=\"match term0\">ОФИЦИАЛЬНЫЙ</b> <b class=\"match term1\">САЙТ</b> ДОСТУПНЫЙ СПОРТИВНЫЙ\n",
            "Docid: 345 B Title:  ПРОВЕРИТЬ ПРОБИТЬ АВТО ПО ВИНА VIN КОД БЕСПЛАТНО В ГИБДД МОЖНО НА ОФИЦИАЛЬНЫЙ САЙТ Highlights: ПОЛУЧИТЬ НА <b class=\"match term0\">ОФИЦИАЛЬНЫЙ</b> <b class=\"match term1\">САЙТ</b> НА <b class=\"match term1\">САЙТ</b> <b class=\"match term3\">VIN</b> AUTO RU ДАННЫЙ СЕРВИС...ПРОВЕРЯТЬ АВТО ПО <b class=\"match term3\">VIN</b> ХОТЯ БЫ НА 2 <b class=\"match term1\">САЙТ</b> ВОЛОДЯ РАЗНЫЙ <b class=\"match term1\">САЙТ</b> ВЫДАВАТЬ РАЗЛИЧНЫЙ...ГОС НОМЕР НА <b class=\"match term1\">САЙТ</b> РСА УДАЧА ВЫПЛЫТЬ <b class=\"match term3\">VIN</b> ДАЛЕЕ <b class=\"match term1\">САЙТ</b> ГИБДД ВСЕ ЗАМЕЧАТЕЛЬНЫЙ\n",
            "Docid: 334 S Title:  ПРОВЕРИТЬ АВТО ПО ВИНА КОД БЕСПЛАТНО AVTOBOT Highlights: ПО НОМЕР ПРОВЕРКА <b class=\"match term4\">ВИНА</b> КОД АВТОМОБИЛЬ ПО БАЗ...ХОЗЯЕВ РАСШИФРОВКА <b class=\"match term4\">ВИНА</b> КОД ИСТОРИЯ АВТОМОБИЛЬ...ПО ЗНАЧЕНИЕ <b class=\"match term4\">ВИНА</b> КОД КОТОРЫЙ ЯВЛЯТЬСЯ\n",
            "Docid: 324 S Title:  ВАН ВИНА БУКМЕКЕРСКИЙ КОНТОРА ОФИЦИАЛЬНЫЙ САЙТ Highlights: <b class=\"match term1\">САЙТ</b> ДЛЯ ПОДКЛЮЧЕНИЕ К <b class=\"match term0\">ОФИЦИАЛЬНЫЙ</b> <b class=\"match term1\">САЙТ</b> 1 <b class=\"match term2\">WIN</b> ПРЕДУСМОТРЕННЫЙ ПОЛНЫЙ...ПЛАТЕЖ ПОПОЛНЕНИЕ НА <b class=\"match term0\">ОФИЦИАЛЬНЫЙ</b> <b class=\"match term1\">САЙТ</b> 1 <b class=\"match term4\">ВИНА</b> ВНЕСТИ ДЕПОЗИТ ИГРОК...УСЛОВИЕ СТАВКА НА 1 <b class=\"match term4\">ВИНА</b> НА <b class=\"match term0\">ОФИЦИАЛЬНЫЙ</b> <b class=\"match term1\">САЙТ</b> БУКМЕКЕРСКИЙ КОНТОРА\n",
            "Docid: 329 B Title:  ГИБДД ПРОВЕРКА АВТОМОБИЛЬ 👮🏻 ПО ВИНА И ГОС НОМЕР ОФИЦИАЛЬНЫЙ САЙТ Highlights: ДАННЫЙ НА <b class=\"match term0\">ОФИЦИАЛЬНЫЙ</b> <b class=\"match term1\">САЙТ</b> СЕРВИС АВТОКОД ВЫ СМОЧЬ...ГОСНОМЕР ДАННЫЙ НА <b class=\"match term1\">САЙТ</b> ПОСТУПАТЬ ИЗ <b class=\"match term0\">ОФИЦИАЛЬНЫЙ</b> ИСТОЧНИК ЧТО...НА ГЛАВНЫЙ СТРАНИЦА <b class=\"match term1\">САЙТ</b> АВТОКОД ВПИСАТЬ <b class=\"match term3\">VIN</b> ИЛИ ГОСНОМЕР В ПОИСКОВЫЙ\n",
            "Docid: 339 B Title:  1 ВИНА СТАВКА НА СПОРТ НА ОФИЦИАЛЬНЫЙ САЙТ БУКМЕКЕРСКИЙ КОНТОРА 1WIN ОСОБЕННОСТЬ БЕТТИНГ В БК ВАН ВИНА Highlights: КОНТОРА 1 <b class=\"match term2\">WIN</b> И ЕЕ <b class=\"match term0\">ОФИЦИАЛЬНЫЙ</b> <b class=\"match term1\">САЙТ</b> В ИНТЕРНЕТ ЗДЕСЬ ВЫ...И ХАРАКТЕРИСТИКА <b class=\"match term0\">ОФИЦИАЛЬНЫЙ</b> <b class=\"match term1\">САЙТ</b> ПЕРЕЙТИ НА <b class=\"match term1\">САЙТ</b> СКАЧАТЬ ДЛЯ ANDROID...И ХАРАКТЕРИСТИКА <b class=\"match term0\">ОФИЦИАЛЬНЫЙ</b> <b class=\"match term1\">САЙТ</b> ПЕРЕЙТИ НА <b class=\"match term1\">САЙТ</b> СКАЧАТЬ ДЛЯ ANDROID\n",
            "Docid: 323 S Title:  1 WIN ОФИЦИАЛЬНЫЙ САЙТ БУКМЕКЕРСКИЙ КОНТОРА ВАН ВИНА СТАВКА НА СПОРТ ОНЛАЙН ОСОБЕННОСТЬ БЕТТИНГ В 1 ВИНА BEST BOOKMAKER RU Highlights: <b class=\"match term0\">ОФИЦИАЛЬНЫЙ</b> <b class=\"match term1\">САЙТ</b> 1 <b class=\"match term2\">WIN</b> ОБЗОР ЗДЕСЬ ВЫ НАЙТИ...ВАШ ЛИЧНЫЙ СЧЕТ НА <b class=\"match term0\">ОФИЦИАЛЬНЫЙ</b> <b class=\"match term1\">САЙТ</b> БУКМЕКЕРСКИЙ КОНТОРА...С УСЛОВИЕ <b class=\"match term0\">ОФИЦИАЛЬНЫЙ</b> <b class=\"match term1\">САЙТ</b> БУКМЕКЕРСКИЙ КОНТОРА\n",
            "Docid: 308 B Title:  БУКМЕКЕРСКИЙ КОНТОРА 1WIN ОБЗОР УСЛУГА КОМПАНИЯ 1ВИН Highlights: ИГРОК 1WIN ОБЗОР <b class=\"match term0\">ОФИЦИАЛЬНЫЙ</b> <b class=\"match term1\">САЙТ</b> ПЕРВЫЙ С ЧЕГО ХОТЕТЬСЯ...ЭКСПЕРТ НА <b class=\"match term1\">САЙТ</b> ВАН <b class=\"match term4\">ВИНА</b> КАЗИНО МОЖНО НАЙТИ...ИМЕТЬСЯ СЕГОДНЯ НА <b class=\"match term0\">ОФИЦИАЛЬНЫЙ</b> <b class=\"match term1\">САЙТ</b> БЕТТЕР ПРЕДЛАГАТЬСЯ\n",
            "Docid: 330 S Title:  VINPIN RU КАТАЛОГ ПОДБОР АРТИКУЛОВ ЗАПЧАСТЬ ПО VIN КОД ДИЛЕРСКИЙ КАТАЛОГ ПРОГРАММА ДЛЯ АВТОСЕРВИС СТО Highlights: ЗАПЧАСТЬ КАК У <b class=\"match term0\">ОФИЦИАЛЬНЫЙ</b> ДИЛЕР МНОГО...ТЕСТОВЫЙ ПО <b class=\"match term3\">VIN</b> КАК У ДИЛЕР ONLINE ПО...КОД ЗАПЧАСТЬ ПО <b class=\"match term3\">VIN</b> ПОДБИРАТЬ КОДА ДЕТАЛЬ\n",
            "Docid: 311 S Title:  WIN MOBILE ОПЕРАТОР МОБИЛЬНЫЙ СВЯЗЬ В КРЫМ И Г СЕВАСТОПОЛЬ Highlights: <b class=\"match term0\">ОФИЦИАЛЬНЫЙ</b> <b class=\"match term1\">САЙТ</b> ОПЕРАТОР СОТОВ СВЯЗЬ...И МОБИЛЬНЫЙ ИНТЕРНЕТ <b class=\"match term2\">WIN</b> MOBILE ДЕЙСТВОВАТЬ...0545 MOBILE 2022 <b class=\"match term2\">WIN</b> MOBILE РАЗРАБОТКА <b class=\"match term1\">САЙТ</b> WEB MOVER ЧАСТНОЕ ЛИЦО\n",
            "\n",
            "==== Number of results: 31 for query (1|I) КОМНАТНЫЙ (КВАРТИРА|ЖИЛИЩЕ|КВАРТИРКА) (КУПИТЬ|ВЫКУПИТЬ|ДОКУПИТЬ|ЗАКУПИТЬ|НАКУПИТЬ|ПОКУПАТЬ|ПОКУПИТЬ|ПОКУПКА|ПРИОБРЕСТИ|ПРИОБРЕТАТЬ|ПРОДАВАТЬ|ПРОДАЖА) В (АЛМАТЫ1|АЛМАТЫ 1)\n",
            "Docid: 353 S Title:  СНИМАТЬ 1 КОМНАТНЫЙ КВАРТИРА В АЛМАТЫ1 КАЗАХСТАН Highlights: НА ТЕМА СНИМАТЬ 1 <b class=\"match term0\">КОМНАТНЫЙ</b> <b class=\"match term1\">КВАРТИРА</b> В <b class=\"match term2\">АЛМАТЫ1</b> СДАТЬ ПОСУТОЧНО...ВСЕ СНИМАТЬ 1 <b class=\"match term0\">КОМНАТНЫЙ</b> <b class=\"match term1\">КВАРТИРА</b> В <b class=\"match term2\">АЛМАТЫ1</b> АСТАН 21 10 УНИКАЛЬНЫЙ...БЫТОВОЙ КОММУНАЛЬНЫЙ <b class=\"match term3\">ПРОДАВАТЬ</b> 3 <b class=\"match term0\">КОМНАТНЫЙ</b> <b class=\"match term1\">КВАРТИРА</b> ПО НАБ СЛАВСКИЙ\n",
            "Docid: 362 S Title:  АКТОБЕ СНИМАТЬ 1 КОМНАТНЫЙ КВАРТИРА В АЛМАТЫ1 САМЫЕ СВЕЖИЙ ОБЪЯВЛЕНИЕ ЗА СЕГОДНЯ Highlights: НА ТЕМА СНИМАТЬ 1 <b class=\"match term0\">КОМНАТНЫЙ</b> <b class=\"match term1\">КВАРТИРА</b> В <b class=\"match term2\">АЛМАТЫ1</b> В АКТОБЕ В НАШЕМ...НА ТЕМА СНИМАТЬ 1 <b class=\"match term0\">КОМНАТНЫЙ</b> <b class=\"match term1\">КВАРТИРА</b> В <b class=\"match term2\">АЛМАТЫ1</b> В АКТОБЕ НЕДВИЖИМОСТЬ...<b class=\"match term1\">КВАРТИРА</b> <b class=\"match term4\">ПРОДАЖА</b> <b class=\"match term1\">КВАРТИРА</b> <b class=\"match term3\">ПРОДАВАТЬ</b> 1 <b class=\"match term1\">КВАРТИРА</b> Г АКТОБЕ УЛ РЫСКУЛОВ\n",
            "Docid: 360 S Title:  ВЕСЬ КАЗАХСТАН КУПИТЬ 1 КОМНАТНЫЙ КВАРТИРА В АЛМАТЫ САМЫЕ СВЕЖИЙ ОБЪЯВЛЕНИЕ ЗА СЕГОДНЯ Highlights: НЕ БЕСПОКОИТЬ <b class=\"match term0\">АЛМАТЫ</b> <b class=\"match term0\">АЛМАТЫ</b> 17 <b class=\"match term1\">ПОКУПКА</b> <b class=\"match term1\">КВАРТИРА</b> МЕНЯТЬ <b class=\"match term1\">КВАРТИРА</b> ВО ПСКОВ НА <b class=\"match term1\">КВАРТИРА</b> В <b class=\"match term0\">АЛМАТЫ</b> МЕНЯТЬ 1 <b class=\"match term0\">КОМНАТНЫЙ</b> <b class=\"match term1\">КВАРТИРА</b> В Г ПСКОВ РАЙОН...С У РАЗДЕЛЬНЫЙ НА 1 <b class=\"match term0\">КОМНАТНЫЙ</b> <b class=\"match term1\">КВАРТИРА</b> В Г <b class=\"match term0\">АЛМАТЫ</b> С ОБМЕН <b class=\"match term1\">КВАРТИРА</b> <b class=\"match term2\">КУПИТЬ</b> ДВА <b class=\"match term0\">КОМНАТНЫЙ</b> <b class=\"match term1\">КВАРТИРА</b> В РАССРОЧКА <b class=\"match term2\">КУПИТЬ</b> 2 Х <b class=\"match term0\">КОМНАТНЫЙ</b> <b class=\"match term1\">КВАРТИРА</b> В РАССРОЧКА В П...ЗАРАНЕЕ БЛАГОДАРИТЬ <b class=\"match term0\">АЛМАТЫ</b> 11 12 <b class=\"match term1\">ПОКУПКА</b> <b class=\"match term1\">КВАРТИРА</b> <b class=\"match term2\">КУПИТЬ</b> <b class=\"match term1\">КВАРТИРА</b> 1 ИЛИ 2 Х <b class=\"match term0\">КОМНАТНЫЙ</b> <b class=\"match term1\">КВАРТИРА</b> 11 ИЛИ 12 МКР ПОСЛЕДНИЙ\n",
            "Docid: 348 S Title:  ОДНОКОМНАТНЫЙ КВАРТИРА 1 КОМНАТНЫЙ КВАРТИРА ПРОДАЖА ОДНОКОМНАТНЫЙ КВАРТИРА АЛМАТЫ SLANET Highlights: ОДНОКОМНАТНЫЙ <b class=\"match term1\">КВАРТИРА</b> <b class=\"match term4\">ПРОДАЖА</b> 1 <b class=\"match term0\">КОМНАТНЫЙ</b> <b class=\"match term1\">КВАРТИРА</b> НА ДОСКА БЕСПЛАТНЫЙ...ОБЪЯВЛЕНИЕ SLANET <b class=\"match term0\">АЛМАТЫ</b> ОДНОКОМНАТНЫЙ <b class=\"match term1\">КВАРТИРА</b> 1 <b class=\"match term0\">КОМНАТНЫЙ</b> <b class=\"match term1\">КВАРТИРА</b> <b class=\"match term4\">ПРОДАЖА</b> ОДНОКОМНАТНЫЙ...5 ФОТО ПРОДАТЬ 1 <b class=\"match term0\">КОМНАТНЫЙ</b> <b class=\"match term1\">КВАРТИРА</b> <b class=\"match term3\">ПРОДАВАТЬ</b> 1 <b class=\"match term0\">КОМНАТНЫЙ</b> <b class=\"match term1\">КВАРТИРА</b> В ЦЕНТР ГОРОД УЛУЧШИТЬ\n",
            "Docid: 365 S Title:  СНИМАТЬ 1 КОМНАТНЫЙ КВАРТИРА В АЛМАТЫ1 ЖАРКЕНТ Highlights: НА ТЕМА СНИМАТЬ 1 <b class=\"match term0\">КОМНАТНЫЙ</b> <b class=\"match term1\">КВАРТИРА</b> В <b class=\"match term2\">АЛМАТЫ1</b> В ЖАРКЕНТ Я ПРЕДОСТАВЛЯТЬ...КАМЕЛОТ СНИМАТЬ 1 <b class=\"match term0\">КОМНАТНЫЙ</b> <b class=\"match term1\">КВАРТИРА</b> В <b class=\"match term2\">АЛМАТЫ1</b> НЕДВИЖИМОСТЬ <b class=\"match term1\">КВАРТИРА</b> <b class=\"match term4\">ПРОДАЖА</b> <b class=\"match term1\">КВАРТИРА</b> КАТАЛОГ ОБЪЯВЛЕНИЕ...ИЗ РУКА В РУКА СДАТЬ <b class=\"match term1\">КВАРТИРА</b> ПРОДАТЬ <b class=\"match term1\">КВАРТИРА</b> В РАССРОЧКА В <b class=\"match term0\">АЛМАТЫ</b> СДАТЬ <b class=\"match term1\">КВАРТИРА</b> С ПОСЛЕДУЮЩИЙ\n",
            "Docid: 359 B Title:  КУПИТЬ ОДНОКОМНАТНЫЙ КВАРТИРА В АЛМАТЫ ПРОДАЖА ОДНОКОМНАТНЫЙ КВАРТИРА В АЛМАТЫ ПОИСК НЕДВИЖИМОСТЬ KN KZ НЕДВИЖИМОСТЬ КАЗАХСТАН Highlights: РЫНОК НЕДВИЖИМОСТЬ В <b class=\"match term0\">АЛМАТЫ</b> <b class=\"match term1\">ПОКУПКА</b> И <b class=\"match term4\">ПРОДАЖА</b> МАЛЕНЬКИЙ <b class=\"match term1\">КВАРТИРА</b> ТАКЖЕ В ЧИСЛО САМЫХ...<b class=\"match term2\">КУПИТЬ</b> <b class=\"match term1\">КВАРТИРА</b> В <b class=\"match term0\">АЛМАТЫ</b> <b class=\"match term4\">ПРОДАЖА</b> <b class=\"match term1\">КВАРТИРА</b> В <b class=\"match term0\">АЛМАТЫ</b> <b class=\"match term4\">ПРОДАЖА</b> 1 <b class=\"match term1\">КВАРТИРА</b> В <b class=\"match term0\">АЛМАТЫ</b> <b class=\"match term4\">ПРОДАЖА</b> 2 <b class=\"match term0\">КОМНАТНЫЙ</b> <b class=\"match term1\">КВАРТИРА</b> В <b class=\"match term0\">АЛМАТЫ</b> <b class=\"match term4\">ПРОДАЖА</b> <b class=\"match term1\">КВАРТИРА</b> В <b class=\"match term0\">АЛМАТЫ</b> <b class=\"match term4\">ПРОДАЖА</b> 4 <b class=\"match term1\">КВАРТИРА</b> В <b class=\"match term0\">АЛМАТЫ</b> <b class=\"match term4\">ПРОДАЖА</b> 5 <b class=\"match term0\">КОМНАТНЫЙ</b> <b class=\"match term1\">КВАРТИРА</b> В <b class=\"match term0\">АЛМАТЫ</b> 1 <b class=\"match term0\">КОМНАТНЫЙ</b> <b class=\"match term1\">КВАРТИРА</b> БЕЗ ПОСРЕДНИК...<b class=\"match term0\">АЛМАТЫ</b> АРЕНДА ДОМ В <b class=\"match term0\">АЛМАТЫ</b> АРЕНДА ОФИС В <b class=\"match term0\">АЛМАТЫ</b> <b class=\"match term4\">ПРОДАЖА</b> <b class=\"match term1\">КВАРТИРА</b> В КАРАГАНДА <b class=\"match term4\">ПРОДАЖА</b> <b class=\"match term1\">КВАРТИРА</b> В АСТАН <b class=\"match term4\">ПРОДАЖА</b> <b class=\"match term1\">КВАРТИРА</b> В КАМЕНОГОРСК\n",
            "Docid: 355 S Title:  КУПИТЬ ОДНОКОМНАТНЫЙ КВАРТИРА В АЛМАТЫ M2BOMBER COM Highlights: COM ПОМОЧЬ ВАМ <b class=\"match term2\">КУПИТЬ</b> ОДНОКОМНАТНЫЙ <b class=\"match term1\">КВАРТИРА</b> В <b class=\"match term0\">АЛМАТЫ</b> БОЛЬШИЙ БАЗА ОБЪЯВЛЕНИЕ...С ЦЕНА И ФОТО <b class=\"match term4\">ПРОДАЖА</b> 1 <b class=\"match term0\">КОМНАТНЫЙ</b> <b class=\"match term1\">КВАРТИРА</b> НА ВТОРИЧНЫЙ РЫНОК...М 8 9 ЭТ ПРОДАТЬ 1 <b class=\"match term0\">КОМНАТНЫЙ</b> <b class=\"match term1\">КВАРТИРА</b> СТУДИЯ <b class=\"match term1\">КВАРТИРА</b> В ХОРОШИЙ СОСТОЯНИЕ\n",
            "Docid: 357 S Title:  1 КОМНАТНЫЙ КВАРТИРА ПРОДАЖА В АЛМАТЫ OLX KZ Highlights: РАЙОН 39 <b class=\"match term1\">КВАРТИРА</b> В <b class=\"match term0\">АЛМАТЫ</b> <b class=\"match term4\">ПРОДАЖА</b> 1 <b class=\"match term0\">КОМНАТНЫЙ</b> <b class=\"match term1\">КВАРТИРА</b> В <b class=\"match term0\">АЛМАТЫ</b> БЕЗ ПОСРЕДНИК <b class=\"match term4\">ПРОДАЖА</b> 2 <b class=\"match term0\">КОМНАТНЫЙ</b> <b class=\"match term1\">КВАРТИРА</b> В <b class=\"match term0\">АЛМАТЫ</b> БЕЗ ПОСРЕДНИК <b class=\"match term4\">ПРОДАЖА</b> 1 Х <b class=\"match term0\">КОМНАТНЫЙ</b> <b class=\"match term1\">КВАРТИРА</b> В <b class=\"match term0\">АЛМАТЫ</b> АУЭЗОВСКИЙ РАЙОН...3 <b class=\"match term0\">КОМНАТНЫЙ</b> <b class=\"match term1\">КВАРТИРА</b> В <b class=\"match term0\">АЛМАТЫ</b> <b class=\"match term1\">КВАРТИРА</b> ОТ 7 МЛН ТЕНГЕ <b class=\"match term0\">АЛМАТЫ</b> <b class=\"match term2\">КУПИТЬ</b> 1 <b class=\"match term0\">КОМНАТНЫЙ</b> <b class=\"match term1\">КВАРТИРА</b> В <b class=\"match term0\">АЛМАТЫ</b> МЕДЕУСКИЙ РАЙОН...<b class=\"match term1\">КВАРТИРА</b> В КРЕДИТ <b class=\"match term0\">АЛМАТЫ</b> <b class=\"match term2\">КУПИТЬ</b> <b class=\"match term1\">КВАРТИРА</b> В АЛМА СИТИ <b class=\"match term2\">КУПИТЬ</b> <b class=\"match term1\">КВАРТИРА</b> В МАМЫР <b class=\"match term0\">АЛМАТЫ</b> <b class=\"match term2\">КУПИТЬ</b> <b class=\"match term1\">КВАРТИРА</b> В <b class=\"match term0\">АЛМАТЫ</b> ВЫГОДНЫЙ КУПЛЯ <b class=\"match term4\">ПРОДАЖА</b> <b class=\"match term1\">КВАРТИРА</b> БЕЗ ПОСРЕДНИК\n",
            "Docid: 364 S Title:  КУПИТЬ КВАРТИРА В ГОРОД АЛМАТЫ НЕДОРОГОЙ ОБЪЯВЛЕНИЕ О ПРОДАЖА НА НЕДВИЖИМОСТЬ KZ Highlights: <b class=\"match term0\">АЛМАТЫ</b> 26000000 <b class=\"match term4\">ПРОДАЖА</b> ПРЕКРАСНЫЙ 1 <b class=\"match term0\">КОМНАТНЫЙ</b> <b class=\"match term1\">КВАРТИРА</b> В АЛМАТИНСКИЙ...<b class=\"match term0\">АЛМАТЫ</b> 44 000 000 <b class=\"match term4\">ПРОДАЖА</b> 3Х <b class=\"match term0\">КОМНАТНЫЙ</b> <b class=\"match term1\">КВАРТИРА</b> В ЦЕНТР АЛМАТИНСКИЙ...АЛМАТИНСКИЙ <b class=\"match term0\">АЛМАТЫ</b> 38100000 <b class=\"match term4\">ПРОДАЖА</b> ПРОДАВАТЬСЯ 2 <b class=\"match term1\">КВАРТИРА</b> АЛМАТИНСКИЙ <b class=\"match term0\">АЛМАТЫ</b> 33900000 <b class=\"match term4\">ПРОДАЖА</b> ПРОДАТЬ 2 <b class=\"match term1\">КВАРТИРА</b> В <b class=\"match term0\">АЛМАТЫ</b> УЛ АЛМАТИНСКИЙ <b class=\"match term0\">АЛМАТЫ</b> 41000000 <b class=\"match term4\">ПРОДАЖА</b> ПРОДАВАТЬСЯ <b class=\"match term1\">КВАРТИРА</b> 57 КВМ АЛМАТИНСКИЙ\n",
            "Docid: 363 S Title:  ПРОДАЖА КВАРТИРА КВАРТИРА НЕДВИЖИМОСТЬ АЛМАТЫ Highlights: В РУКА НЕДВИЖИМОСТЬ <b class=\"match term1\">КВАРТИРА</b> <b class=\"match term4\">ПРОДАЖА</b> <b class=\"match term1\">КВАРТИРА</b> В <b class=\"match term0\">АЛМАТЫ</b> НАЙМ <b class=\"match term1\">КВАРТИРА</b> 9 ОБМЕН <b class=\"match term1\">КВАРТИРА</b> 11 <b class=\"match term1\">ПОКУПКА</b> <b class=\"match term1\">КВАРТИРА</b> 9 <b class=\"match term4\">ПРОДАЖА</b> <b class=\"match term1\">КВАРТИРА</b> 130 СДАЧА В АРЕНДА...ДЕТСАД РЫНОК <b class=\"match term0\">АЛМАТЫ</b> НЕДВИЖИМОСТЬ <b class=\"match term1\">КВАРТИРА</b> <b class=\"match term4\">ПРОДАЖА</b> <b class=\"match term1\">КВАРТИРА</b> АКВАРИУМ АКВАРИУМ...МЕБЛИРОВАТЬ ВСТРОИТЬ <b class=\"match term0\">АЛМАТЫ</b> <b class=\"match term1\">КВАРТИРА</b> <b class=\"match term4\">ПРОДАЖА</b> <b class=\"match term1\">КВАРТИРА</b> <b class=\"match term3\">ПРОДАВАТЬ</b> 3Х <b class=\"match term0\">КОМНАТНЫЙ</b> <b class=\"match term1\">КВАРТИРА</b> ЧИСТЫЙ <b class=\"match term1\">КВАРТИРА</b> В ЭКОЛОГИЧНЫЙ\n",
            "\n"
          ]
        }
      ]
    },
    {
      "cell_type": "markdown",
      "source": [
        "Ограничиваем кол-во документов, которые получаем"
      ],
      "metadata": {
        "id": "LRTdO_uVvK0_"
      }
    },
    {
      "cell_type": "code",
      "source": [
        "for query_text in queries_texts_sample:\n",
        "    qp = setup_parser(QueryParser(\"body\", schema=schema))\n",
        "    q = qp.parse(query_text)\n",
        "    with ix.searcher() as searcher:\n",
        "        # Ограничиваем кол-во документов, которые получаем\n",
        "        results = searcher.search(q, limit=5)\n",
        "        output_results(results, query_text)"
      ],
      "metadata": {
        "colab": {
          "base_uri": "https://localhost:8080/"
        },
        "outputId": "7a16b9d0-c715-4b11-827b-b830489f883d",
        "id": "UyoNXinMvHrP"
      },
      "execution_count": null,
      "outputs": [
        {
          "output_type": "stream",
          "name": "stdout",
          "text": [
            "==== Number of results: 0 for query (1|I) 9736586783 (НАЙТИ|SEARCH|ВЗЯТЬ|ВЫЯСНИТЬ|ДОСТАТЬ|ИСКАТЬ|НАХОДИТЬ|ПОИСК|ПОЛУЧИТЬ) КОМУ (ПРИНАДЛЕЖАТЬ|ИМЕТЬ) (ЭТОТ|ETOT) (НОМЕР|КОМНАТА|НОМЕРНОЙ|НОМЕРОК)\n",
            "\n",
            "==== Number of results: 0 for query (1|I) (MASCULINE|МАСКАЛАЙН|МАСКАЛИН|МАСКУЛАЙН) ОТЗИВ\n",
            "\n",
            "==== Number of results: 44 for query (1|I) (АНАЛИЗ|ИССЛЕДОВАНИЕ|РАЗБОР) (СОЗДАТЬ|CREATION|ВОССОЗДАТЬ|СОЗДАВАТЬ|СОЗДАВАТЬСЯ|СОЗДАНИЕ|СОЗДАТЕЛЬ|СОТВОРИТЬ|ТВОРЕНИЕ) (УСЛОВИЕ|ДОГОВОР|ДОГОВОРЕННОСТЬ|СОГЛАШЕНИЕ) ДЛЯ (РАЗВИТИЕ|РОСТ|СТАНОВЛЕНИЕ|ФОРМИРОВАНИЕ|ЭВОЛЮЦИЯ) (ИГРОВОЙ|ИГРА) (ДЕЯТЕЛЬНОСТЬ|ДЕЙСТВИЕ|ДЕЯТЕЛЬНЫЙ) (ГРУППА|ГРУППИРОВАТЬ|КОЛЛЕКТИВ) (РАННИЙ|ЗАРАНЕЕ|НАЧАЛЬНЫЙ|ПРЕЖДЕ|ПРЕЖДЕВРЕМЕННЫЙ|РАНЕЕ)\n",
            "Docid: 297 B Title:  ПЕДАГОГИЧЕСКИЙ УСЛОВИЕ ФОРМИРОВАНИЕ ИГРОВОЙ ДЕЯТЕЛЬНОСТЬ РЕБЕНОК РАННИЙ ВОЗРАСТ Highlights: <b class=\"match term0\">ИССЛЕДОВАНИЕ</b> ПЕДАГОГИЧЕСКИЙ <b class=\"match term1\">УСЛОВИЕ</b> <b class=\"match term2\">ФОРМИРОВАНИЕ</b> <b class=\"match term3\">ИГРОВОЙ</b> <b class=\"match term4\">ДЕЯТЕЛЬНОСТЬ</b> РЕБЕНОК <b class=\"match term0\">РАННИЙ</b> ВОЗРАСТ ЦЕЛЬ <b class=\"match term0\">ИССЛЕДОВАНИЕ</b> ВЫЯВИТЬ ПЕДАГОГИЧЕСКИЙ...<b class=\"match term1\">УСЛОВИЕ</b> НАПРАВИТЬ НА <b class=\"match term2\">ФОРМИРОВАНИЕ</b> <b class=\"match term3\">ИГРОВОЙ</b> <b class=\"match term4\">ДЕЯТЕЛЬНОСТЬ</b> РЕБЕНОК <b class=\"match term0\">РАННИЙ</b> ВОЗРАСТ ЗАДАЧА <b class=\"match term0\">ИССЛЕДОВАНИЕ</b> СДЕЛАТЬ ОБЗОР...<b class=\"match term1\">УСЛОВИЕ</b> НАПРАВИТЬ НА <b class=\"match term2\">ФОРМИРОВАНИЕ</b> <b class=\"match term3\">ИГРОВОЙ</b> <b class=\"match term4\">ДЕЯТЕЛЬНОСТЬ</b> РЕБЕНОК <b class=\"match term1\">ГРУППА</b> <b class=\"match term0\">РАННИЙ</b> ВОЗРАСТ 4 ПРОАНАЛИЗИРОВАТЬ\n",
            "Docid: 303 B Title:  ДЛЯ ПЕДАГОГ ПЕДАГОГИЧЕСКИЙ УСЛОВИЕ РАЗВИТИЕ РЕБЕНОК РАННИЙ ВОЗРАСТ Highlights: <b class=\"match term2\">ДЛЯ</b> ПЕДАГОГ ПЕДАГОГИЧЕСКИЙ <b class=\"match term1\">УСЛОВИЕ</b> <b class=\"match term3\">РАЗВИТИЕ</b> РЕБЕНОК <b class=\"match term0\">РАННИЙ</b> ВОЗРАСТ ПЕДАГОГИЧЕСКИЙ...<b class=\"match term1\">УСЛОВИЕ</b> СТИМУЛИРОВАТЬ <b class=\"match term3\">РАЗВИТИЕ</b> ПРЕДМЕТНЫЙ <b class=\"match term3\">ИГРОВОЙ</b> <b class=\"match term4\">ДЕЯТЕЛЬНОСТЬ</b> РЕБЕНОК <b class=\"match term0\">РАННИЙ</b> ВОЗРАСТ 24 2 <b class=\"match term4\">АНАЛИЗ</b> РЕЗУЛЬТАТ ОПЫТНО...ТЕОРЕТИЧЕСКИЙ ОСНОВА <b class=\"match term3\">РАЗВИТИЕ</b> <b class=\"match term3\">ИГРОВОЙ</b> <b class=\"match term4\">ДЕЯТЕЛЬНОСТЬ</b> РЕБЕНОК <b class=\"match term0\">РАННИЙ</b> ВОЗРАСТ 5 1 ВОСПИТАТЕЛЬНЫЙ\n",
            "Docid: 307 B Title:  СОЗДАНИЕ УСЛОВИЕ ДЛЯ СЕНСОРНЫЙ РАЗВИТИЕ РЕБЕНОК РАННИЙ ВОЗРАСТ Highlights: <b class=\"match term0\">ИГРА</b> СХЕМА <b class=\"match term4\">АНАЛИЗ</b> И САМОАНАЛИЗ ПО <b class=\"match term1\">СОЗДАНИЕ</b> <b class=\"match term1\">УСЛОВИЕ</b> <b class=\"match term2\">ДЛЯ</b> СЕНСОРНЫЙ <b class=\"match term3\">РАЗВИТИЕ</b> РЕБЕНОК <b class=\"match term0\">РАННИЙ</b> ВОЗРАСТ В РАЗРАБОТАТЬ...ОБРАЗОВАНИЕ ПРАЛЕСКА <b class=\"match term1\">СОЗДАНИЕ</b> <b class=\"match term1\">УСЛОВИЕ</b> <b class=\"match term2\">ДЛЯ</b> СЕНСОРНЫЙ <b class=\"match term3\">РАЗВИТИЕ</b> РЕБЕНОК <b class=\"match term0\">РАННИЙ</b> ВОЗРАСТ СЕНСОРНЫЙ...РАЗРАБОТАТЬ СХЕМА <b class=\"match term4\">АНАЛИЗ</b> И САМОАНАЛИЗ ПО <b class=\"match term1\">СОЗДАНИЕ</b> <b class=\"match term1\">УСЛОВИЕ</b> <b class=\"match term2\">ДЛЯ</b> СЕНСОРНЫЙ <b class=\"match term3\">РАЗВИТИЕ</b> РЕБЕНОК <b class=\"match term0\">РАННИЙ</b> ВОЗРАСТ В ДОШКОЛЬНЫЙ\n",
            "Docid: 292 B Title:  ИГРОВОЙ ДЕЯТЕЛЬНОСТЬ КАК СРЕДСТВО РАЗВИТИЕ РЕЧЬ РЕБЕНОК РАННИЙ ВОЗРАСТ Highlights: <b class=\"match term3\">РАЗВИТИЕ</b> РЕЧЬ РЕБЕНОК <b class=\"match term0\">РАННИЙ</b> ВОЗРАСТ ЦЕЛЬ <b class=\"match term3\">РАЗВИТИЕ</b> РЕЧЬ РЕБЕНОК <b class=\"match term0\">РАННИЙ</b> ВОЗРАСТ В <b class=\"match term3\">ИГРОВОЙ</b> <b class=\"match term4\">ДЕЯТЕЛЬНОСТЬ</b> <b class=\"match term2\">ДЛЯ</b> РЕШЕНИЕ ЦЕЛИТЬ ПОСТАВИТЬ...РАЗЛИЧНЫЙ ВИДОВ <b class=\"match term0\">ИГРА</b> <b class=\"match term2\">ДЛЯ</b> <b class=\"match term3\">РАЗВИТИЕ</b> РЕЧЬ РЕБЕНОК <b class=\"match term0\">РАННИЙ</b> ВОЗРАСТ <b class=\"match term2\">ДЛЯ</b> ОБУЧЕНИЕ ЧЕРЕЗ <b class=\"match term0\">ИГРА</b> И <b class=\"match term2\">СОЗДАТЬ</b> ДИДАКТИЧЕСКИЙ...<b class=\"match term2\">ДЛЯ</b> ВОСПИТАТЕЛЬ <b class=\"match term1\">ГРУППА</b> <b class=\"match term0\">РАННИЙ</b> ВОЗРАСТ <b class=\"match term3\">РАЗВИТИЕ</b> РЕБЕНОК <b class=\"match term0\">РАННИЙ</b> ВОЗРАСТ В <b class=\"match term3\">ИГРОВОЙ</b> <b class=\"match term4\">ДЕЯТЕЛЬНОСТЬ</b> 29 10 НА БАЗ\n",
            "Docid: 279 B Title:  ИГРОВОЙ ДЕЯТЕЛЬНОСТЬ РЕБЕНОК РАННИЙ ДОШКОЛЬНЫЙ ВОЗРАСТ ОБРАЗОВАТЕЛЬНЫЙ СОЦИАЛЬНЫЙ СЕТЬ Highlights: ИНИЦИИРОВАТЬ <b class=\"match term0\">ИГРА</b> <b class=\"match term2\">СОЗДАТЬ</b> <b class=\"match term1\">УСЛОВИЕ</b> <b class=\"match term2\">ДЛЯ</b> <b class=\"match term0\">ИГРА</b> В <b class=\"match term3\">ИГРОВОЙ</b> <b class=\"match term4\">ДЕЯТЕЛЬНОСТЬ</b> ВХОДИТЬ АДАПТАЦИОННЫЙ...РАЗЛИЧНЫЙ ВИДОВ <b class=\"match term0\">ИГРА</b> <b class=\"match term3\">СОЗДАВАТЬСЯ</b> <b class=\"match term1\">УСЛОВИЕ</b> <b class=\"match term2\">ДЛЯ</b> <b class=\"match term3\">РАЗВИТИЕ</b> УМСТВЕННЫЙ И ТВОРЧЕСКИЙ...ОРГАНИЗАЦИЯ <b class=\"match term3\">ИГРОВОЙ</b> <b class=\"match term4\">ДЕЯТЕЛЬНОСТЬ</b> РЕБЕНОК <b class=\"match term0\">РАННИЙ</b> ВОЗРАСТ <b class=\"match term2\">ДЛЯ</b> ОЗНАКОМЛЕНИЕ ПЕДАГОГ\n",
            "\n",
            "==== Number of results: 15 for query (1|I) (ВИНА|VIN|VINUM|WIN) (ОФИЦИАЛЬНЫЙ|ОФИЦИАЛЬНОСТЬ) (САЙТ|SIGHT|SITE)\n",
            "Docid: 309 S Title:  БУКМЕКЕРСКИЙ КОНТОРА 1 WIN ОФИЦИАЛЬНЫЙ САЙТ БУКМЕКЕР ТОП Highlights: КОНТОРА 1 <b class=\"match term0\">WIN</b> ВСЕ О СТАВКА НА <b class=\"match term1\">САЙТ</b> ОБЗОР СЕРВИС И ФУНКЦИОНАЛ...КОНТОРА 1 <b class=\"match term0\">WIN</b> ОСОБЕННОСТЬ <b class=\"match term2\">ОФИЦИАЛЬНЫЙ</b> <b class=\"match term1\">САЙТ</b> БУКМЕКЕРСКИЙ КОНТОРА...УСЛУГА ОСОБЕННОСТЬ <b class=\"match term2\">ОФИЦИАЛЬНЫЙ</b> <b class=\"match term1\">САЙТ</b> БУКМЕКЕРСКИЙ КОНТОРА\n",
            "Docid: 345 B Title:  ПРОВЕРИТЬ ПРОБИТЬ АВТО ПО ВИНА VIN КОД БЕСПЛАТНО В ГИБДД МОЖНО НА ОФИЦИАЛЬНЫЙ САЙТ Highlights: ПОЛУЧИТЬ НА <b class=\"match term2\">ОФИЦИАЛЬНЫЙ</b> <b class=\"match term1\">САЙТ</b> НА <b class=\"match term1\">САЙТ</b> <b class=\"match term3\">VIN</b> AUTO RU ДАННЫЙ СЕРВИС...ПРОВЕРЯТЬ АВТО ПО <b class=\"match term3\">VIN</b> ХОТЯ БЫ НА 2 <b class=\"match term1\">САЙТ</b> ВОЛОДЯ РАЗНЫЙ <b class=\"match term1\">САЙТ</b> ВЫДАВАТЬ РАЗЛИЧНЫЙ...ГОС НОМЕР НА <b class=\"match term1\">САЙТ</b> РСА УДАЧА ВЫПЛЫТЬ <b class=\"match term3\">VIN</b> ДАЛЕЕ <b class=\"match term1\">САЙТ</b> ГИБДД ВСЕ ЗАМЕЧАТЕЛЬНЫЙ\n",
            "Docid: 334 S Title:  ПРОВЕРИТЬ АВТО ПО ВИНА КОД БЕСПЛАТНО AVTOBOT Highlights: ПО НОМЕР ПРОВЕРКА <b class=\"match term4\">ВИНА</b> КОД АВТОМОБИЛЬ ПО БАЗ...АВТО И ВЛАДЕЛЕЦ <b class=\"match term3\">VIN</b> КОДА АВТОМОБИЛЬ НАЙТИ...ПО ЗНАЧЕНИЕ <b class=\"match term4\">ВИНА</b> КОД КОТОРЫЙ ЯВЛЯТЬСЯ\n",
            "Docid: 324 S Title:  ВАН ВИНА БУКМЕКЕРСКИЙ КОНТОРА ОФИЦИАЛЬНЫЙ САЙТ Highlights: <b class=\"match term1\">САЙТ</b> ДЛЯ ПОДКЛЮЧЕНИЕ К <b class=\"match term2\">ОФИЦИАЛЬНЫЙ</b> <b class=\"match term1\">САЙТ</b> 1 <b class=\"match term0\">WIN</b> ПРЕДУСМОТРЕННЫЙ ПОЛНЫЙ...ПЛАТЕЖ ПОПОЛНЕНИЕ НА <b class=\"match term2\">ОФИЦИАЛЬНЫЙ</b> <b class=\"match term1\">САЙТ</b> 1 <b class=\"match term4\">ВИНА</b> ВНЕСТИ ДЕПОЗИТ ИГРОК...УСЛОВИЕ СТАВКА НА 1 <b class=\"match term4\">ВИНА</b> НА <b class=\"match term2\">ОФИЦИАЛЬНЫЙ</b> <b class=\"match term1\">САЙТ</b> БУКМЕКЕРСКИЙ КОНТОРА\n",
            "Docid: 329 B Title:  ГИБДД ПРОВЕРКА АВТОМОБИЛЬ 👮🏻 ПО ВИНА И ГОС НОМЕР ОФИЦИАЛЬНЫЙ САЙТ Highlights: ДАННЫЙ НА <b class=\"match term2\">ОФИЦИАЛЬНЫЙ</b> <b class=\"match term1\">САЙТ</b> СЕРВИС АВТОКОД ВЫ СМОЧЬ...ЗАХОДИТЬ НА <b class=\"match term1\">САЙТ</b> ВБИВАТЬ <b class=\"match term4\">ВИНА</b> И ЗАПРАШИВАТЬ ПРОВЕРКА...ГОСНОМЕР ДАННЫЙ НА <b class=\"match term1\">САЙТ</b> ПОСТУПАТЬ ИЗ <b class=\"match term2\">ОФИЦИАЛЬНЫЙ</b> ИСТОЧНИК ЧТО\n",
            "\n",
            "==== Number of results: 31 for query (1|I) КОМНАТНЫЙ (КВАРТИРА|ЖИЛИЩЕ|КВАРТИРКА) (КУПИТЬ|ВЫКУПИТЬ|ДОКУПИТЬ|ЗАКУПИТЬ|НАКУПИТЬ|ПОКУПАТЬ|ПОКУПИТЬ|ПОКУПКА|ПРИОБРЕСТИ|ПРИОБРЕТАТЬ|ПРОДАВАТЬ|ПРОДАЖА) В (АЛМАТЫ1|АЛМАТЫ 1)\n",
            "Docid: 353 S Title:  СНИМАТЬ 1 КОМНАТНЫЙ КВАРТИРА В АЛМАТЫ1 КАЗАХСТАН Highlights: НА ТЕМА СНИМАТЬ 1 <b class=\"match term0\">КОМНАТНЫЙ</b> <b class=\"match term1\">КВАРТИРА</b> В <b class=\"match term2\">АЛМАТЫ1</b> СДАТЬ ПОСУТОЧНО...ВСЕ СНИМАТЬ 1 <b class=\"match term0\">КОМНАТНЫЙ</b> <b class=\"match term1\">КВАРТИРА</b> В <b class=\"match term2\">АЛМАТЫ1</b> АСТАН 21 10 УНИКАЛЬНЫЙ...БЫТОВОЙ КОММУНАЛЬНЫЙ <b class=\"match term3\">ПРОДАВАТЬ</b> 3 <b class=\"match term0\">КОМНАТНЫЙ</b> <b class=\"match term1\">КВАРТИРА</b> ПО НАБ СЛАВСКИЙ\n",
            "Docid: 362 S Title:  АКТОБЕ СНИМАТЬ 1 КОМНАТНЫЙ КВАРТИРА В АЛМАТЫ1 САМЫЕ СВЕЖИЙ ОБЪЯВЛЕНИЕ ЗА СЕГОДНЯ Highlights: НА ТЕМА СНИМАТЬ 1 <b class=\"match term0\">КОМНАТНЫЙ</b> <b class=\"match term1\">КВАРТИРА</b> В <b class=\"match term2\">АЛМАТЫ1</b> В АКТОБЕ В НАШЕМ...НА ТЕМА СНИМАТЬ 1 <b class=\"match term0\">КОМНАТНЫЙ</b> <b class=\"match term1\">КВАРТИРА</b> В <b class=\"match term2\">АЛМАТЫ1</b> В АКТОБЕ НЕДВИЖИМОСТЬ...<b class=\"match term1\">КВАРТИРА</b> <b class=\"match term4\">ПРОДАЖА</b> <b class=\"match term1\">КВАРТИРА</b> <b class=\"match term3\">ПРОДАВАТЬ</b> 1 <b class=\"match term1\">КВАРТИРА</b> Г АКТОБЕ УЛ РЫСКУЛОВ\n",
            "Docid: 360 S Title:  ВЕСЬ КАЗАХСТАН КУПИТЬ 1 КОМНАТНЫЙ КВАРТИРА В АЛМАТЫ САМЫЕ СВЕЖИЙ ОБЪЯВЛЕНИЕ ЗА СЕГОДНЯ Highlights: НЕ БЕСПОКОИТЬ <b class=\"match term0\">АЛМАТЫ</b> <b class=\"match term0\">АЛМАТЫ</b> 17 <b class=\"match term1\">ПОКУПКА</b> <b class=\"match term1\">КВАРТИРА</b> МЕНЯТЬ <b class=\"match term1\">КВАРТИРА</b> ВО ПСКОВ НА <b class=\"match term1\">КВАРТИРА</b> В <b class=\"match term0\">АЛМАТЫ</b> МЕНЯТЬ 1 <b class=\"match term0\">КОМНАТНЫЙ</b> <b class=\"match term1\">КВАРТИРА</b> В Г ПСКОВ РАЙОН...С У РАЗДЕЛЬНЫЙ НА 1 <b class=\"match term0\">КОМНАТНЫЙ</b> <b class=\"match term1\">КВАРТИРА</b> В Г <b class=\"match term0\">АЛМАТЫ</b> С ОБМЕН <b class=\"match term1\">КВАРТИРА</b> <b class=\"match term2\">КУПИТЬ</b> ДВА <b class=\"match term0\">КОМНАТНЫЙ</b> <b class=\"match term1\">КВАРТИРА</b> В РАССРОЧКА <b class=\"match term2\">КУПИТЬ</b> 2 Х <b class=\"match term0\">КОМНАТНЫЙ</b> <b class=\"match term1\">КВАРТИРА</b> В РАССРОЧКА В П...ЗАРАНЕЕ БЛАГОДАРИТЬ <b class=\"match term0\">АЛМАТЫ</b> 11 12 <b class=\"match term1\">ПОКУПКА</b> <b class=\"match term1\">КВАРТИРА</b> <b class=\"match term2\">КУПИТЬ</b> <b class=\"match term1\">КВАРТИРА</b> 1 ИЛИ 2 Х <b class=\"match term0\">КОМНАТНЫЙ</b> <b class=\"match term1\">КВАРТИРА</b> 11 ИЛИ 12 МКР ПОСЛЕДНИЙ\n",
            "Docid: 348 S Title:  ОДНОКОМНАТНЫЙ КВАРТИРА 1 КОМНАТНЫЙ КВАРТИРА ПРОДАЖА ОДНОКОМНАТНЫЙ КВАРТИРА АЛМАТЫ SLANET Highlights: ОДНОКОМНАТНЫЙ <b class=\"match term1\">КВАРТИРА</b> <b class=\"match term4\">ПРОДАЖА</b> 1 <b class=\"match term0\">КОМНАТНЫЙ</b> <b class=\"match term1\">КВАРТИРА</b> НА ДОСКА БЕСПЛАТНЫЙ...ОБЪЯВЛЕНИЕ SLANET <b class=\"match term0\">АЛМАТЫ</b> ОДНОКОМНАТНЫЙ <b class=\"match term1\">КВАРТИРА</b> 1 <b class=\"match term0\">КОМНАТНЫЙ</b> <b class=\"match term1\">КВАРТИРА</b> <b class=\"match term4\">ПРОДАЖА</b> ОДНОКОМНАТНЫЙ...5 ФОТО ПРОДАТЬ 1 <b class=\"match term0\">КОМНАТНЫЙ</b> <b class=\"match term1\">КВАРТИРА</b> <b class=\"match term3\">ПРОДАВАТЬ</b> 1 <b class=\"match term0\">КОМНАТНЫЙ</b> <b class=\"match term1\">КВАРТИРА</b> В ЦЕНТР ГОРОД УЛУЧШИТЬ\n",
            "Docid: 365 S Title:  СНИМАТЬ 1 КОМНАТНЫЙ КВАРТИРА В АЛМАТЫ1 ЖАРКЕНТ Highlights: НА ТЕМА СНИМАТЬ 1 <b class=\"match term0\">КОМНАТНЫЙ</b> <b class=\"match term1\">КВАРТИРА</b> В <b class=\"match term2\">АЛМАТЫ1</b> В ЖАРКЕНТ Я ПРЕДОСТАВЛЯТЬ...КАМЕЛОТ СНИМАТЬ 1 <b class=\"match term0\">КОМНАТНЫЙ</b> <b class=\"match term1\">КВАРТИРА</b> В <b class=\"match term2\">АЛМАТЫ1</b> НЕДВИЖИМОСТЬ <b class=\"match term1\">КВАРТИРА</b> <b class=\"match term4\">ПРОДАЖА</b> <b class=\"match term1\">КВАРТИРА</b> КАТАЛОГ ОБЪЯВЛЕНИЕ...ИЗ РУКА В РУКА СДАТЬ <b class=\"match term1\">КВАРТИРА</b> ПРОДАТЬ <b class=\"match term1\">КВАРТИРА</b> В РАССРОЧКА В <b class=\"match term0\">АЛМАТЫ</b> СДАТЬ <b class=\"match term1\">КВАРТИРА</b> С ПОСЛЕДУЮЩИЙ\n",
            "\n"
          ]
        }
      ]
    },
    {
      "cell_type": "markdown",
      "source": [
        "Пагинация результатов поиска"
      ],
      "metadata": {
        "id": "_uMnlLeGv5ga"
      }
    },
    {
      "cell_type": "code",
      "source": [
        "for query_text in queries_texts_sample:\n",
        "    qp = setup_parser(QueryParser(\"body\", schema=schema))\n",
        "    q = qp.parse(query_text)\n",
        "    with ix.searcher() as searcher:\n",
        "        # Пагинация результатов поиска\n",
        "        results = searcher.search_page(q, 5, pagelen=5)\n",
        "        output_results(results, query_text)"
      ],
      "metadata": {
        "colab": {
          "base_uri": "https://localhost:8080/"
        },
        "outputId": "d399a311-da51-4006-db28-7bcdf9d122f9",
        "id": "mCyarcvTv4gg"
      },
      "execution_count": null,
      "outputs": [
        {
          "output_type": "stream",
          "name": "stdout",
          "text": [
            "==== Number of results: 0 for query (1|I) 9736586783 (НАЙТИ|SEARCH|ВЗЯТЬ|ВЫЯСНИТЬ|ДОСТАТЬ|ИСКАТЬ|НАХОДИТЬ|ПОИСК|ПОЛУЧИТЬ) КОМУ (ПРИНАДЛЕЖАТЬ|ИМЕТЬ) (ЭТОТ|ETOT) (НОМЕР|КОМНАТА|НОМЕРНОЙ|НОМЕРОК)\n",
            "\n",
            "==== Number of results: 0 for query (1|I) (MASCULINE|МАСКАЛАЙН|МАСКАЛИН|МАСКУЛАЙН) ОТЗИВ\n",
            "\n",
            "==== Number of results: 44 for query (1|I) (АНАЛИЗ|ИССЛЕДОВАНИЕ|РАЗБОР) (СОЗДАТЬ|CREATION|ВОССОЗДАТЬ|СОЗДАВАТЬ|СОЗДАВАТЬСЯ|СОЗДАНИЕ|СОЗДАТЕЛЬ|СОТВОРИТЬ|ТВОРЕНИЕ) (УСЛОВИЕ|ДОГОВОР|ДОГОВОРЕННОСТЬ|СОГЛАШЕНИЕ) ДЛЯ (РАЗВИТИЕ|РОСТ|СТАНОВЛЕНИЕ|ФОРМИРОВАНИЕ|ЭВОЛЮЦИЯ) (ИГРОВОЙ|ИГРА) (ДЕЯТЕЛЬНОСТЬ|ДЕЙСТВИЕ|ДЕЯТЕЛЬНЫЙ) (ГРУППА|ГРУППИРОВАТЬ|КОЛЛЕКТИВ) (РАННИЙ|ЗАРАНЕЕ|НАЧАЛЬНЫЙ|ПРЕЖДЕ|ПРЕЖДЕВРЕМЕННЫЙ|РАНЕЕ)\n",
            "Docid: 193 B Title:  ПРОЕКТНЫЙ ДЕЯТЕЛЬНОСТЬ НА УРОК ИЗОБРАЗИТЕЛЬНЫЙ ИСКУССТВО В ШКОЛА Highlights: БЫТЬ ПОСИЛЬНЫЙ <b class=\"match term0\">ДЛЯ</b> ВЫПОЛНЕНИЕ <b class=\"match term1\">СОЗДАВАТЬ</b> НЕОБХОДИМЫЙ...<b class=\"match term2\">СОЗДАНИЕ</b> <b class=\"match term3\">УСЛОВИЕ</b> <b class=\"match term0\">ДЛЯ</b> ОТНОШЕНИЕ СОТРУДНИЧЕСТВО...И ПЛАНИРОВАНИЕ <b class=\"match term4\">ДЕЯТЕЛЬНОСТЬ</b> <b class=\"match term0\">ДЛЯ</b> ДОСТИЖЕНИЕ ЛУЧШИЙ РЕЗУЛЬТАТ\n",
            "Docid: 182 B Title:  ОПЫТ РАБОТА ПО ТЕМА ПРОЕКТНЫЙ ДЕЯТЕЛЬНОСТЬ НА УРОК ИЗО ИЗО ПРОЧИЙ Highlights: ПЕДАГОГИЧЕСКИЙ ОПЫТ <b class=\"match term2\">СОЗДАНИЕ</b> <b class=\"match term3\">УСЛОВИЕ</b> <b class=\"match term0\">ДЛЯ</b> <b class=\"match term0\">ФОРМИРОВАНИЕ</b> У УЧАЩАЯСЯ...ИДЕЯ МОЕГО ОПЫТ ЭТО <b class=\"match term2\">СОЗДАНИЕ</b> <b class=\"match term3\">УСЛОВИЕ</b> <b class=\"match term0\">ДЛЯ</b> <b class=\"match term1\">РАЗВИТИЕ</b> Я РЕБЕНОК ОТНОСИТЕЛЬНЫЙ...К РАЗМЫШЛЕНИЕ <b class=\"match term2\">АНАЛИЗ</b> <b class=\"match term3\">ИГРА</b> И <b class=\"match term4\">ИССЛЕДОВАНИЕ</b> <b class=\"match term3\">УСЛОВИЕ</b> РЕАЛИЗАЦИЯ ОПЫТ\n",
            "Docid: 1195 B Title:  ПЕДАГОГИЧЕСКИЙ МАСТЕРСТВО И ПЕДАГОГИЧЕСКИЙ ТЕХНОЛОГИЯ Highlights: И МЕНЕДЖМЕНТ ДВФУ 37 <b class=\"match term4\">ДЕЯТЕЛЬНОСТЬ</b> АКИЕВ Н В <b class=\"match term0\">ФОРМИРОВАНИЕ</b> ТОЛЕРАНТНОСТЬ...<b class=\"match term0\">СТАНОВЛЕНИЕ</b> САМООЦЕНКА В <b class=\"match term4\">ДЕЯТЕЛЬНОСТЬ</b> 102 БАЛАНДИН...И МУЗЫКАЛЬНЫЙ <b class=\"match term1\">РАЗВИТИЕ</b> РЕБЕНОК <b class=\"match term1\">РАННИЙ</b> ВОЗРАСТ 196 ХАЙРУТДИНОВ\n",
            "Docid: 282 B Title:  ОРГАНИЗАЦИЯ ПРЕДМЕТНЫЙ РАЗВИВАТЬ СРЕДА В ГРУППА РАННИЙ ВОЗРАСТ МЕГАЛЕКЦИЯ Highlights: И <b class=\"match term2\">АНАЛИЗ</b> <b class=\"match term3\">УСЛОВИЕ</b> РАБОТА В <b class=\"match term2\">ГРУППА</b> <b class=\"match term1\">РАННИЙ</b> ВОЗРАСТ В БЕСЕДА...НЕ ТОЛЬКО <b class=\"match term0\">ДЛЯ</b> РЕБЕНОК НО И <b class=\"match term0\">ДЛЯ</b> РОЛЕВОЙ <b class=\"match term3\">ИГРА</b> И КАК СЦЕНА <b class=\"match term0\">ДЛЯ</b> ТЕАТРАЛИЗОВАННЫЙ <b class=\"match term4\">ДЕЯТЕЛЬНОСТЬ</b> КАРМАН НА...РАБОТА В <b class=\"match term2\">ГРУППА</b> <b class=\"match term1\">РАННИЙ</b> ВОЗРАСТ <b class=\"match term0\">ДЛЯ</b> ПЛАНИРОВАНИЕ ВОСПИТАТЕЛЬНЫЙ\n",
            "Docid: 285 B Title:  УСЛОВИЕ РАЗВИТИЕ ЭКСПЕРИМЕНТАЛЬНЫЙ ДЕЯТЕЛЬНОСТЬ С ПЕСОК И ВОДА У РЕБЕНОК РАННИЙ ВОЗРАСТ Highlights: У РЕБЕНОК <b class=\"match term1\">РАННИЙ</b> ВОЗРАСТ <b class=\"match term4\">ИССЛЕДОВАНИЕ</b> ПО <b class=\"match term0\">ФОРМИРОВАНИЕ</b> <b class=\"match term3\">УСЛОВИЕ</b> ЭКСПЕРИМЕНТИРОВАНИЕ...2013 ГОД С РЕБЕНОК <b class=\"match term1\">РАННИЙ</b> ВОЗРАСТ <b class=\"match term2\">ГРУППА</b> 3 ЦЕЛЬ <b class=\"match term4\">ИССЛЕДОВАНИЕ</b> ПРОАНАЛИЗИРОВАТЬ...ПРЯМОЙ РУКОВОДСТВО К <b class=\"match term3\">ДЕЙСТВИЕ</b> <b class=\"match term3\">ИГРА</b> С КАМУШЕК <b class=\"match term3\">ИГРА</b> С ПЕРЫШКО <b class=\"match term2\">АНАЛИЗ</b> <b class=\"match term4\">ДЕЯТЕЛЬНОСТЬ</b> 1 РАЗ В МЕСЯЦ\n",
            "\n",
            "==== Number of results: 15 for query (1|I) (ВИНА|VIN|VINUM|WIN) (ОФИЦИАЛЬНЫЙ|ОФИЦИАЛЬНОСТЬ) (САЙТ|SIGHT|SITE)\n",
            "Docid: 313 S Title:  1 ВИНА ЗЕРКАЛО ОФИЦИАЛЬНЫЙ САЙТ ОБСУЖДЕНИЕ НА LIVEINTERNET РОССИЙСКИЙ СЕРВИС ОНЛАЙН ДНЕВНИК Highlights: СОЗДАВАТЬ ЗЕРКАЛО <b class=\"match term0\">ОФИЦИАЛЬНЫЙ</b> <b class=\"match term1\">САЙТ</b> РАБОТАТЬ 1WIN ПО СУБЛИЦЕНЗИЯ...ПОИСКОВЫЙ ФРАЗА 1 <b class=\"match term2\">ВИНА</b> ЗЕРКАЛО <b class=\"match term0\">ОФИЦИАЛЬНЫЙ</b> <b class=\"match term1\">САЙТ</b> ЧЕТВЕРГ 29 НОЯБРЬ 2018...РЕГИСТРАЦИЯ НА 1WIN <b class=\"match term0\">ОФИЦИАЛЬНЫЙ</b> <b class=\"match term1\">САЙТ</b> НЕДОСТУПНЫЙ ОДНАКО\n",
            "Docid: 2109 B Title:  ПРОШИВКА КИТАЙСКИЙ МАГНИТОЛА 2 DIN АНДРОИД С НАВИГАЦИЯ WINDOWS CE 6 0 Highlights: И ИХ ЛЕГКО НАЙТИ НА <b class=\"match term1\">САЙТ</b> ПРОИЗВОДИТЕЛЬ НА <b class=\"match term1\">САЙТ</b> ПАРТНЕР ПОМИМО <b class=\"match term0\">ОФИЦИАЛЬНЫЙ</b> ОБНОВЛЕНИЕ...ПРОСТОЙ ВСЕГО С <b class=\"match term0\">ОФИЦИАЛЬНЫЙ</b> <b class=\"match term1\">САЙТ</b> ПРОИЗВОДИТЕЛЬ ОБЫЧНО...6 0 К ПРИМЕР WINCE <b class=\"match term3\">WIN</b> CE 5 0 И <b class=\"match term3\">WIN</b> CE 6 ЭТО РАЗНЫЙ ВЕРСИЯ\n",
            "Docid: 344 B Title:  1WIN БУКМЕКЕРСКИЙ КОНТОРА СТАВКА НА СПОРТ В БК 1 ВИНА Highlights: И КИБЕРСПОРТ НА <b class=\"match term0\">ОФИЦИАЛЬНЫЙ</b> <b class=\"match term1\">САЙТ</b> И ЧЕРЕЗ МОБИЛЬНЫЙ ПРИЛОЖЕНИЕ...ПОЛЬЗОВАТЕЛЬ НА <b class=\"match term0\">ОФИЦИАЛЬНЫЙ</b> <b class=\"match term1\">САЙТ</b> 1ВИН ЕСТЬ РАЗДЕТЬ 1WIN...ОНО ЯВЛЯТЬСЯ КОПИЯ <b class=\"match term0\">ОФИЦИАЛЬНЫЙ</b> <b class=\"match term1\">САЙТ</b> КОТОРОЕ ДОСТУПНО ПО\n",
            "Docid: 331 S Title:  ИНТЕРНЕТ ВИТРИНА МАГАЗИН SIMPLEWINE ПРОДАЖА ХОРОШИЙ АЛКОГОЛЬ В МОСКВА И САНКТ ПЕТЕРБУРГ ЦЕНА НА САЙТ Highlights: ОБЩИЙ ИНФОРМАЦИЯ О <b class=\"match term2\">ВИНА</b> ВИТРИНА <b class=\"match term2\">ВИНА</b> СОДЕРЖАТЬ МНОЖЕСТВО...ПРОСТО О ЛУЧШИЙ <b class=\"match term2\">ВИНА</b> ОДНА ИЗ ЛУЧШИЙ ШКОЛА...СОМЕЛИЕ <b class=\"match term0\">ОФИЦИАЛЬНЫЙ</b> <b class=\"match term1\">САЙТ</b> ГРУППА КОМПАНИЯ КОНЬЯК\n",
            "Docid: 319 B Title:  САЙТ ПРО ВИНО КАТАЛОГ ВИНА ВИННЫЙ БЛОГ ОБЗОР АКЦИЯ И СКИДКА Highlights: ВИННЫЙ ПОРТАЛ <b class=\"match term1\">САЙТ</b> ПРО ВИНО ВСЕ О <b class=\"match term2\">ВИНА</b> ВИННЫЙ КАТАЛОГ ФОТО...ВЫГОДА ПРИ ПОКУПКА <b class=\"match term2\">ВИНА</b> ПРИМЕРНО ПО ОДНОЙ ЦЕНА...ПОДБОРКА НЕДОРОГОЙ <b class=\"match term2\">ВИНА</b> ИЗ ПЯТЕРОЧКА ТЕГ ПЯТЕРОЧКА\n",
            "\n",
            "==== Number of results: 31 for query (1|I) КОМНАТНЫЙ (КВАРТИРА|ЖИЛИЩЕ|КВАРТИРКА) (КУПИТЬ|ВЫКУПИТЬ|ДОКУПИТЬ|ЗАКУПИТЬ|НАКУПИТЬ|ПОКУПАТЬ|ПОКУПИТЬ|ПОКУПКА|ПРИОБРЕСТИ|ПРИОБРЕТАТЬ|ПРОДАВАТЬ|ПРОДАЖА) В (АЛМАТЫ1|АЛМАТЫ 1)\n",
            "Docid: 370 S Title:  КУПИТЬ КВАРТИРА В АЛМАТЫ БЕСПЛАТНЫЙ ОБЪЯВЛЕНИЕ НА МАРКЕТ Highlights: 1 <b class=\"match term0\">КУПИТЬ</b> <b class=\"match term1\">КВАРТИРА</b> В АКТОБЕ 10 <b class=\"match term0\">КУПИТЬ</b> <b class=\"match term1\">КВАРТИРА</b> В АКТАУ 5 <b class=\"match term0\">КУПИТЬ</b> <b class=\"match term1\">КВАРТИРА</b> В КОСТАНАЙ 3 <b class=\"match term0\">КУПИТЬ</b> <b class=\"match term1\">КВАРТИРА</b> В ТАРАЗ 7 <b class=\"match term0\">КУПИТЬ</b> <b class=\"match term1\">КВАРТИРА</b> В ПАВЛОДАР 13 <b class=\"match term0\">КУПИТЬ</b> <b class=\"match term1\">КВАРТИРА</b> В СЕМЕЕ 1 <b class=\"match term0\">КУПИТЬ</b> <b class=\"match term1\">КВАРТИРА</b> В УРАЛЬСК 1 <b class=\"match term0\">КУПИТЬ</b> <b class=\"match term1\">КВАРТИРА</b> В КЫЗЫЛОРДА 2 <b class=\"match term0\">КУПИТЬ</b> <b class=\"match term1\">КВАРТИРА</b> В АТЫРАУ...В КАТЕГОРИЯ <b class=\"match term0\">КУПИТЬ</b> <b class=\"match term1\">КВАРТИРА</b> <b class=\"match term1\">КВАРТИРА</b> В РАССРОЧКА <b class=\"match term0\">КУПИТЬ</b> <b class=\"match term1\">КВАРТИРА</b> <b class=\"match term0\">КУПИТЬ</b> <b class=\"match term1\">КВАРТИРА</b> БАЛКОН 1 <b class=\"match term2\">КОМНАТНЫЙ</b> <b class=\"match term1\">КВАРТИРА</b> ЛОДЖИЯ 2 <b class=\"match term2\">КОМНАТНЫЙ</b> <b class=\"match term1\">КВАРТИРА</b> 3 <b class=\"match term2\">КОМНАТНЫЙ</b> <b class=\"match term1\">КВАРТИРА</b> <b class=\"match term2\">КОМНАТНЫЙ</b> <b class=\"match term1\">КВАРТИРА</b> ТРИ <b class=\"match term2\">КОМНАТНЫЙ</b> <b class=\"match term1\">КВАРТИРА</b> БАЛКОН ЛОДЖИЯ...РАССРОЧКА <b class=\"match term1\">КВАРТИРА</b> <b class=\"match term1\">КВАРТИРА</b> 3Х <b class=\"match term2\">КОМНАТНЫЙ</b> <b class=\"match term1\">КВАРТИРА</b> <b class=\"match term0\">КУПИТЬ</b> 4 <b class=\"match term2\">КОМНАТНЫЙ</b> <b class=\"match term1\">КВАРТИРА</b> ОРБИТА <b class=\"match term1\">КВАРТИРА</b> ОБЪЯВЛЕНИЕ В <b class=\"match term3\">АЛМАТЫ</b> НЕДВИЖИМОСТЬ <b class=\"match term1\">КВАРТИРА</b> <b class=\"match term0\">КУПИТЬ</b> <b class=\"match term1\">КВАРТИРА</b> В <b class=\"match term3\">АЛМАТЫ</b> УСТАНОВИТЬ ПРИЛОЖЕНИЕ\n",
            "Docid: 367 S Title:  ПРОДАЖА ОДНОКОМНАТНЫЙ КВАРТИРА В АЛМАТЫ КУПИТЬ 1 КОМНАТНЫЙ КВАРТИРА LOCALMART KZ Highlights: ОБЪЯВЛЕНИЕ ИСКАТЬ <b class=\"match term3\">АЛМАТЫ</b> НЕДВИЖИМОСТЬ <b class=\"match term4\">ПРОДАЖА</b> <b class=\"match term1\">КВАРТИРА</b> КОМНАТА <b class=\"match term4\">ПРОДАЖА</b> ОДНОКОМНАТНЫЙ...СВЕЖИЙ ИЗБРАННЫЙ <b class=\"match term3\">АЛМАТЫ</b> 06 02 2016 37 000 <b class=\"match term0\">КУПИТЬ</b> 2 3Х <b class=\"match term2\">КОМНАТНЫЙ</b> <b class=\"match term1\">КВАРТИРА</b> ВЫСОКИЙ ТАШКЕНТСКИЙ...6 ПЕРВ ИЗБРАННЫЙ <b class=\"match term3\">АЛМАТЫ</b> 01 50 000 <b class=\"match term0\">КУПИТЬ</b> ОДНОКОМНАТНЫЙ <b class=\"match term1\">КВАРТИРА</b> В Г <b class=\"match term3\">АЛМАТЫ</b> АЛМАЛИНСКИЙ БОСТАНДЫКСКИЙ\n",
            "Docid: 379 S Title:  КУПИТЬ ОДНОКОМНАТНЫЙ КВАРТИРА В АЛМАТЫ БЕЗ ПОСРЕДНИК ЦЕНА ПРОДАЖА 1 КОМНАТНЫЙ КВАРТИРА АЛМАТЫ ВТОРИЧКА И НОВОСТРОЙКА Highlights: <b class=\"match term4\">ПРОДАЖА</b> НЕДВИЖИМОСТЬ ИЗ РУКА В РУКА В <b class=\"match term3\">АЛМАТЫ</b> <b class=\"match term0\">КУПИТЬ</b> ОДНОКОМНАТНЫЙ <b class=\"match term1\">КВАРТИРА</b> БЕЗ ПОСРЕДНИК...ДРУГОЙ НЕДВИЖИМОСТЬ <b class=\"match term1\">КВАРТИРА</b> <b class=\"match term4\">ПРОДАЖА</b> <b class=\"match term4\">ПРОДАЖА</b> ДОМ ДАЧА УЧАСТКОВЫЙ...ВСЕ ОБЪЯВЛЕНИЕ В <b class=\"match term3\">АЛМАТЫ</b> НЕДВИЖИМОСТЬ <b class=\"match term1\">КВАРТИРА</b> <b class=\"match term4\">ПРОДАЖА</b> 1 <b class=\"match term2\">КОМНАТНЫЙ</b> <b class=\"match term4\">ПРОДАЖА</b> 1 <b class=\"match term1\">КВАРТИРА</b> В <b class=\"match term3\">АЛМАТЫ</b> СМЕНИТЬ РЕГИОН СЕЙЧАС\n",
            "Docid: 349 B Title:  ПРОДАЖА КВАРТИРА В АЛМАТЫ НА AVI KZ Highlights: <b class=\"match term4\">ПРОДАЖА</b> НЕДВИЖИМОСТЬ <b class=\"match term1\">КВАРТИРА</b> <b class=\"match term4\">ПРОДАЖА</b> <b class=\"match term1\">КВАРТИРА</b> В <b class=\"match term3\">АЛМАТЫ</b> <b class=\"match term4\">ПРОДАЖА</b> <b class=\"match term1\">КВАРТИРА</b> В <b class=\"match term3\">АЛМАТЫ</b> СПИСОК ГАЛЕРЕЯ НА...КУХНЯ 17М 2 ЭТАЖ 2 <b class=\"match term3\">АЛМАТЫ</b> 5 ОКТЯБРЬ <b class=\"match term4\">ПРОДАЖА</b> <b class=\"match term1\">КВАРТИРА</b> 2 <b class=\"match term2\">КОМНАТНЫЙ</b> <b class=\"match term1\">КВАРТИРА</b> 39 3 М 2 40 000 000...12М 2 ЭТАЖ 2 ИЗ 14 <b class=\"match term3\">АЛМАТЫ</b> 23 СЕНТЯБРЬ <b class=\"match term4\">ПРОДАЖА</b> <b class=\"match term1\">КВАРТИРА</b> 3 <b class=\"match term2\">КОМНАТНЫЙ</b> <b class=\"match term1\">КВАРТИРА</b> 100 М 2 70 000 000\n",
            "Docid: 371 S Title:  ПРОДАЖА КВАРТИРА БЕЗ ПОСРЕДНИК В АЛМАТЫ КУПИТЬ КРЫША 1 Highlights: <b class=\"match term3\">АЛМАТЫ</b> С НАМИ ЛЕГКО <b class=\"match term0\">КУПИТЬ</b> <b class=\"match term1\">КВАРТИРА</b> У ХОЗЯЕВ В <b class=\"match term3\">АЛМАТЫ</b> <b class=\"match term1\">КВАРТИРА</b> В <b class=\"match term3\">АЛМАТЫ</b> <b class=\"match term4\">ПРОДАЖА</b> БЕЗ ПОСРЕДНИК ОБЪЯВЛЕНИЕ...3 <b class=\"match term2\">КОМНАТНЫЙ</b> <b class=\"match term4\">ПРОДАЖА</b> <b class=\"match term1\">КВАРТИРА</b> В <b class=\"match term3\">АЛМАТЫ</b> <b class=\"match term0\">КУПИТЬ</b> ПРОДАТЬ <b class=\"match term1\">КВАРТИРА</b> WWW KN KZ В РАЗДЕЛ...<b class=\"match term4\">ПРОДАЖА</b> <b class=\"match term1\">КВАРТИРА</b> В <b class=\"match term3\">АЛМАТЫ</b> ВЫ МОЖЕТЕ <b class=\"match term0\">КУПИТЬ</b> <b class=\"match term1\">КВАРТИРА</b> ИЛИ ПРОДАТЬ <b class=\"match term1\">КВАРТИРА</b> В <b class=\"match term3\">АЛМАТЫ</b> БЕЗ ПОСРЕДНИК И ТАКИМ\n",
            "\n"
          ]
        }
      ]
    },
    {
      "cell_type": "markdown",
      "source": [
        "Выполним запросы не только по полю body, но и по title (или другому текстовому полю):\n"
      ],
      "metadata": {
        "id": "P3WSz3yMkRWG"
      }
    },
    {
      "cell_type": "code",
      "source": [
        "from whoosh.qparser import MultifieldParser\n",
        "\n",
        "for query_text in queries_texts_sample:\n",
        "    # Выполним запросы не только по полю body, но и по title\n",
        "    qp = setup_parser(MultifieldParser([\"title\", \"body\"], schema=schema))\n",
        "    q = qp.parse(query_text)\n",
        "    with ix.searcher() as searcher:\n",
        "        results = searcher.search(q)\n",
        "        output_results(results, query_text)"
      ],
      "metadata": {
        "colab": {
          "base_uri": "https://localhost:8080/"
        },
        "id": "GGH3T4wjjhKY",
        "outputId": "a0c552d2-dcc6-478b-cf1b-98f73d69c82f"
      },
      "execution_count": null,
      "outputs": [
        {
          "output_type": "stream",
          "name": "stdout",
          "text": [
            "==== Number of results: 0 for query (1|I) 9736586783 (НАЙТИ|SEARCH|ВЗЯТЬ|ВЫЯСНИТЬ|ДОСТАТЬ|ИСКАТЬ|НАХОДИТЬ|ПОИСК|ПОЛУЧИТЬ) КОМУ (ПРИНАДЛЕЖАТЬ|ИМЕТЬ) (ЭТОТ|ETOT) (НОМЕР|КОМНАТА|НОМЕРНОЙ|НОМЕРОК)\n",
            "\n",
            "==== Number of results: 0 for query (1|I) (MASCULINE|МАСКАЛАЙН|МАСКАЛИН|МАСКУЛАЙН) ОТЗИВ\n",
            "\n",
            "==== Number of results: 44 for query (1|I) (АНАЛИЗ|ИССЛЕДОВАНИЕ|РАЗБОР) (СОЗДАТЬ|CREATION|ВОССОЗДАТЬ|СОЗДАВАТЬ|СОЗДАВАТЬСЯ|СОЗДАНИЕ|СОЗДАТЕЛЬ|СОТВОРИТЬ|ТВОРЕНИЕ) (УСЛОВИЕ|ДОГОВОР|ДОГОВОРЕННОСТЬ|СОГЛАШЕНИЕ) ДЛЯ (РАЗВИТИЕ|РОСТ|СТАНОВЛЕНИЕ|ФОРМИРОВАНИЕ|ЭВОЛЮЦИЯ) (ИГРОВОЙ|ИГРА) (ДЕЯТЕЛЬНОСТЬ|ДЕЙСТВИЕ|ДЕЯТЕЛЬНЫЙ) (ГРУППА|ГРУППИРОВАТЬ|КОЛЛЕКТИВ) (РАННИЙ|ЗАРАНЕЕ|НАЧАЛЬНЫЙ|ПРЕЖДЕ|ПРЕЖДЕВРЕМЕННЫЙ|РАНЕЕ)\n",
            "Docid: 297 B Title:  ПЕДАГОГИЧЕСКИЙ УСЛОВИЕ ФОРМИРОВАНИЕ ИГРОВОЙ ДЕЯТЕЛЬНОСТЬ РЕБЕНОК РАННИЙ ВОЗРАСТ Highlights: <b class=\"match term0\">ИССЛЕДОВАНИЕ</b> ПЕДАГОГИЧЕСКИЙ <b class=\"match term1\">УСЛОВИЕ</b> <b class=\"match term2\">ФОРМИРОВАНИЕ</b> <b class=\"match term3\">ИГРОВОЙ</b> <b class=\"match term4\">ДЕЯТЕЛЬНОСТЬ</b> РЕБЕНОК <b class=\"match term0\">РАННИЙ</b> ВОЗРАСТ ЦЕЛЬ <b class=\"match term0\">ИССЛЕДОВАНИЕ</b> ВЫЯВИТЬ ПЕДАГОГИЧЕСКИЙ...<b class=\"match term1\">УСЛОВИЕ</b> НАПРАВИТЬ НА <b class=\"match term2\">ФОРМИРОВАНИЕ</b> <b class=\"match term3\">ИГРОВОЙ</b> <b class=\"match term4\">ДЕЯТЕЛЬНОСТЬ</b> РЕБЕНОК <b class=\"match term0\">РАННИЙ</b> ВОЗРАСТ ЗАДАЧА <b class=\"match term0\">ИССЛЕДОВАНИЕ</b> СДЕЛАТЬ ОБЗОР...<b class=\"match term1\">УСЛОВИЕ</b> НАПРАВИТЬ НА <b class=\"match term2\">ФОРМИРОВАНИЕ</b> <b class=\"match term3\">ИГРОВОЙ</b> <b class=\"match term4\">ДЕЯТЕЛЬНОСТЬ</b> РЕБЕНОК <b class=\"match term1\">ГРУППА</b> <b class=\"match term0\">РАННИЙ</b> ВОЗРАСТ 4 ПРОАНАЛИЗИРОВАТЬ\n",
            "Docid: 307 B Title:  СОЗДАНИЕ УСЛОВИЕ ДЛЯ СЕНСОРНЫЙ РАЗВИТИЕ РЕБЕНОК РАННИЙ ВОЗРАСТ Highlights: NULL <b class=\"match term2\">СОЗДАНИЕ</b> <b class=\"match term1\">УСЛОВИЕ</b> <b class=\"match term3\">ДЛЯ</b> СЕНСОРНЫЙ <b class=\"match term4\">РАЗВИТИЕ</b> РЕБЕНОК <b class=\"match term0\">РАННИЙ</b> ВОЗРАСТ I ЛИЗИНГОВЫЙ...<b class=\"match term0\">ИГРА</b> СХЕМА <b class=\"match term1\">АНАЛИЗ</b> И САМОАНАЛИЗ ПО <b class=\"match term2\">СОЗДАНИЕ</b> <b class=\"match term1\">УСЛОВИЕ</b> <b class=\"match term3\">ДЛЯ</b> СЕНСОРНЫЙ <b class=\"match term4\">РАЗВИТИЕ</b> РЕБЕНОК <b class=\"match term0\">РАННИЙ</b> ВОЗРАСТ В РАЗРАБОТАТЬ...РАЗРАБОТАТЬ СХЕМА <b class=\"match term1\">АНАЛИЗ</b> И САМОАНАЛИЗ ПО <b class=\"match term2\">СОЗДАНИЕ</b> <b class=\"match term1\">УСЛОВИЕ</b> <b class=\"match term3\">ДЛЯ</b> СЕНСОРНЫЙ <b class=\"match term4\">РАЗВИТИЕ</b> РЕБЕНОК <b class=\"match term0\">РАННИЙ</b> ВОЗРАСТ В ДОШКОЛЬНЫЙ\n",
            "Docid: 303 B Title:  ДЛЯ ПЕДАГОГ ПЕДАГОГИЧЕСКИЙ УСЛОВИЕ РАЗВИТИЕ РЕБЕНОК РАННИЙ ВОЗРАСТ Highlights: <b class=\"match term3\">ДЛЯ</b> ПЕДАГОГ ПЕДАГОГИЧЕСКИЙ <b class=\"match term1\">УСЛОВИЕ</b> <b class=\"match term4\">РАЗВИТИЕ</b> РЕБЕНОК <b class=\"match term0\">РАННИЙ</b> ВОЗРАСТ ПЕДАГОГИЧЕСКИЙ...<b class=\"match term1\">УСЛОВИЕ</b> СТИМУЛИРОВАТЬ <b class=\"match term4\">РАЗВИТИЕ</b> ПРЕДМЕТНЫЙ <b class=\"match term3\">ИГРОВОЙ</b> <b class=\"match term4\">ДЕЯТЕЛЬНОСТЬ</b> РЕБЕНОК <b class=\"match term0\">РАННИЙ</b> ВОЗРАСТ 24 2 <b class=\"match term1\">АНАЛИЗ</b> РЕЗУЛЬТАТ ОПЫТНО...<b class=\"match term1\">УСЛОВИЕ</b> <b class=\"match term4\">РАЗВИТИЕ</b> <b class=\"match term3\">ИГРОВОЙ</b> <b class=\"match term4\">ДЕЯТЕЛЬНОСТЬ</b> РЕБЕНОК В\n",
            "Docid: 292 B Title:  ИГРОВОЙ ДЕЯТЕЛЬНОСТЬ КАК СРЕДСТВО РАЗВИТИЕ РЕЧЬ РЕБЕНОК РАННИЙ ВОЗРАСТ Highlights: <b class=\"match term4\">РАЗВИТИЕ</b> РЕЧЬ РЕБЕНОК <b class=\"match term0\">РАННИЙ</b> ВОЗРАСТ ЦЕЛЬ <b class=\"match term4\">РАЗВИТИЕ</b> РЕЧЬ РЕБЕНОК <b class=\"match term0\">РАННИЙ</b> ВОЗРАСТ В <b class=\"match term3\">ИГРОВОЙ</b> <b class=\"match term4\">ДЕЯТЕЛЬНОСТЬ</b> <b class=\"match term3\">ДЛЯ</b> РЕШЕНИЕ ЦЕЛИТЬ ПОСТАВИТЬ...РАЗЛИЧНЫЙ ВИДОВ <b class=\"match term0\">ИГРА</b> <b class=\"match term3\">ДЛЯ</b> <b class=\"match term4\">РАЗВИТИЕ</b> РЕЧЬ РЕБЕНОК <b class=\"match term0\">РАННИЙ</b> ВОЗРАСТ <b class=\"match term3\">ДЛЯ</b> ОБУЧЕНИЕ ЧЕРЕЗ <b class=\"match term0\">ИГРА</b> И <b class=\"match term2\">СОЗДАТЬ</b> ДИДАКТИЧЕСКИЙ...<b class=\"match term3\">ДЛЯ</b> ВОСПИТАТЕЛЬ <b class=\"match term1\">ГРУППА</b> <b class=\"match term0\">РАННИЙ</b> ВОЗРАСТ <b class=\"match term4\">РАЗВИТИЕ</b> РЕБЕНОК <b class=\"match term0\">РАННИЙ</b> ВОЗРАСТ В <b class=\"match term3\">ИГРОВОЙ</b> <b class=\"match term4\">ДЕЯТЕЛЬНОСТЬ</b> 29 10 НА БАЗ\n",
            "Docid: 278 B Title:  ИССЛЕДОВАНИЕ ОСОБЕННОСТЬ ИГРОВОЙ ДЕЯТЕЛЬНОСТЬ РЕБЕНОК РАННИЙ ВОЗРАСТ Highlights: ПЕДАГОГИЧЕСКИЙ <b class=\"match term1\">УСЛОВИЕ</b> <b class=\"match term4\">РАЗВИТИЕ</b> <b class=\"match term3\">ИГРОВОЙ</b> <b class=\"match term4\">ДЕЯТЕЛЬНОСТЬ</b> В <b class=\"match term0\">РАННИЙ</b> ВОЗРАСТ ЯВЛЯТЬСЯ...3ЛЕТ ЭТАП <b class=\"match term4\">РАЗВИТИЕ</b> <b class=\"match term3\">ИГРОВОЙ</b> <b class=\"match term4\">ДЕЯТЕЛЬНОСТЬ</b> РЕБЕНОК <b class=\"match term0\">РАННИЙ</b> ВОЗРАСТ <b class=\"match term3\">ИГРОВОЙ</b> <b class=\"match term4\">ДЕЯТЕЛЬНОСТЬ</b> ПРОХОДИТЬ...И ПОКАЗАТЕЛЬ <b class=\"match term0\">ИГРА</b> ДИАГНОСТИКА <b class=\"match term0\">ИГРА</b> ВКЛЮЧАТЬ В СЕБЯ <b class=\"match term1\">АНАЛИЗ</b> <b class=\"match term3\">ИГРОВОЙ</b> <b class=\"match term4\">ДЕЯТЕЛЬНОСТЬ</b> РЕБЕНОК ПО\n",
            "Docid: 283 B Title:  ПРЕДМЕТНЫЙ РАЗВИВАТЬ СРЕДА ДЛЯ ИГРОВОЙ ДЕЯТЕЛЬНОСТЬ В ГРУППА РАННИЙ ВОЗРАСТ Highlights: СРЕДА ОКАЗЫВАТЬ НА <b class=\"match term4\">РАЗВИТИЕ</b> <b class=\"match term3\">ИГРОВОЙ</b> <b class=\"match term4\">ДЕЯТЕЛЬНОСТЬ</b> РЕБЕНОК <b class=\"match term0\">РАННИЙ</b> ВОЗРАСТ <b class=\"match term0\">ИГРА</b> ЯВЛЯТЬСЯ ВЕДУЩАЯ <b class=\"match term4\">ДЕЯТЕЛЬНОСТЬ</b> ДОШКОЛЬНИК...РАЗВИВАТЬ СРЕДА <b class=\"match term3\">ДЛЯ</b> <b class=\"match term3\">ИГРОВОЙ</b> <b class=\"match term4\">ДЕЯТЕЛЬНОСТЬ</b> В <b class=\"match term1\">ГРУППА</b> <b class=\"match term0\">РАННИЙ</b> ВОЗРАСТ ЦЕЛЬ РАБОТА...ПРЕДМЕТНЫЙ СРЕДА <b class=\"match term3\">ДЛЯ</b> <b class=\"match term3\">ИГРОВОЙ</b> <b class=\"match term4\">ДЕЯТЕЛЬНОСТЬ</b> В <b class=\"match term1\">ГРУППА</b> <b class=\"match term0\">РАННИЙ</b> <b class=\"match term4\">РАЗВИТИЕ</b> ДОУ ОБЪЕКТ <b class=\"match term0\">ИССЛЕДОВАНИЕ</b> <b class=\"match term4\">РАЗВИТИЕ</b> ПРОСТРАНСТВЕННЫЙ\n",
            "Docid: 279 B Title:  ИГРОВОЙ ДЕЯТЕЛЬНОСТЬ РЕБЕНОК РАННИЙ ДОШКОЛЬНЫЙ ВОЗРАСТ ОБРАЗОВАТЕЛЬНЫЙ СОЦИАЛЬНЫЙ СЕТЬ Highlights: ИНИЦИИРОВАТЬ <b class=\"match term0\">ИГРА</b> <b class=\"match term2\">СОЗДАТЬ</b> <b class=\"match term1\">УСЛОВИЕ</b> <b class=\"match term3\">ДЛЯ</b> <b class=\"match term0\">ИГРА</b> В <b class=\"match term3\">ИГРОВОЙ</b> <b class=\"match term4\">ДЕЯТЕЛЬНОСТЬ</b> ВХОДИТЬ АДАПТАЦИОННЫЙ...РАЗЛИЧНЫЙ ВИДОВ <b class=\"match term0\">ИГРА</b> <b class=\"match term3\">СОЗДАВАТЬСЯ</b> <b class=\"match term1\">УСЛОВИЕ</b> <b class=\"match term3\">ДЛЯ</b> <b class=\"match term4\">РАЗВИТИЕ</b> УМСТВЕННЫЙ И ТВОРЧЕСКИЙ...ОРГАНИЗАЦИЯ <b class=\"match term3\">ИГРОВОЙ</b> <b class=\"match term4\">ДЕЯТЕЛЬНОСТЬ</b> РЕБЕНОК <b class=\"match term0\">РАННИЙ</b> ВОЗРАСТ <b class=\"match term3\">ДЛЯ</b> ОЗНАКОМЛЕНИЕ ПЕДАГОГ\n",
            "Docid: 293 B Title:  ИГРОВОЙ ДЕЯТЕЛЬНОСТЬ ДОШКОЛЬНИК В УСЛОВИЕ ФГОС СОВРЕМЕННЫЙ ОРГАНИЗАЦИЯ РАЗНЫЙ ЕЕ ВИДОВ РАЗВИТИЕ И АНАЛИЗ ФОТО И ВИДЕО Highlights: <b class=\"match term3\">ДЛЯ</b> ЧЕГО И КАК ФГОС ПРЕДПИСЫВАТЬ <b class=\"match term1\">УСЛОВИЕ</b> <b class=\"match term3\">ДЛЯ</b> ОРГАНИЗАЦИЯ <b class=\"match term3\">ИГРОВОЙ</b> <b class=\"match term4\">ДЕЯТЕЛЬНОСТЬ</b> ДОШКОЛЬНИК...<b class=\"match term3\">ИГРОВОЙ</b> <b class=\"match term4\">ДЕЯТЕЛЬНОСТЬ</b> <b class=\"match term3\">ДЛЯ</b> ДОШКОЛЬНИК ПО ФГОС <b class=\"match term0\">ИГРА</b> РЕБЕНОК ВОВСЕ НЕ <b class=\"match term0\">ИГРА</b> И ПРАВИЛЬНЫЙ СМОТРЕТЬ...КОНТЕКСТ <b class=\"match term3\">ИГРОВОЙ</b> ПРОЦЕСС <b class=\"match term0\">ИГРА</b> ЯВЛЯТЬСЯ ВЕДУЩАЯ <b class=\"match term4\">ДЕЯТЕЛЬНОСТЬ</b> В <b class=\"match term4\">РАЗВИТИЕ</b> РЕБЕНОК НЕ ТОЛЬКО\n",
            "Docid: 273 B Title:  КУРСОВОЙ РАБОТА ПРЕДМЕТНЫЙ РАЗВИВАТЬ СРЕДА ДЛЯ ИГРОВОЙ ДЕЯТЕЛЬНОСТЬ В ГРУППА РАННИЙ ВОЗРАСТ 1 DOC Highlights: СРЕДА ОКАЗЫВАТЬ НА <b class=\"match term4\">РАЗВИТИЕ</b> <b class=\"match term3\">ИГРОВОЙ</b> <b class=\"match term4\">ДЕЯТЕЛЬНОСТЬ</b> РЕБЕНОК <b class=\"match term0\">РАННИЙ</b> ВОЗРАСТ <b class=\"match term0\">ИГРА</b> ЯВЛЯТЬСЯ ВЕДУЩАЯ <b class=\"match term4\">ДЕЯТЕЛЬНОСТЬ</b> ДОШКОЛЬНИК...ПРЕДМЕТНЫЙ СРЕДА <b class=\"match term3\">ДЛЯ</b> <b class=\"match term3\">ИГРОВОЙ</b> <b class=\"match term4\">ДЕЯТЕЛЬНОСТЬ</b> В <b class=\"match term1\">ГРУППА</b> <b class=\"match term0\">РАННИЙ</b> <b class=\"match term4\">РАЗВИТИЕ</b> ДОУ ОБЪЕКТ <b class=\"match term0\">ИССЛЕДОВАНИЕ</b> ПРЕДМЕТНЫЙ...РАЗВИВАТЬ СРЕДА <b class=\"match term1\">ГРУППА</b> <b class=\"match term0\">РАННИЙ</b> <b class=\"match term4\">РАЗВИТИЕ</b> ПРЕДМЕТ <b class=\"match term0\">ИССЛЕДОВАНИЕ</b> <b class=\"match term3\">ИГРОВОЙ</b> <b class=\"match term4\">ДЕЯТЕЛЬНОСТЬ</b> РЕБЕНОК <b class=\"match term0\">РАННИЙ</b> ДОШКОЛЬНЫЙ ВОЗРАСТ\n",
            "Docid: 287 B Title:  ПРЕДМЕТНЫЙ ИГРОВОЙ СРЕДА ГРУППА РАННИЙ ВОЗРАСТ В УСЛОВИЕ РЕАЛИЗАЦИЯ ФГТ ПРЕЗЕНТАЦИЯ 189382 Highlights: СРЕДА <b class=\"match term1\">ГРУППА</b> ПРЕДМЕТНЫЙ <b class=\"match term3\">ИГРОВОЙ</b> СРЕДА <b class=\"match term1\">ГРУППА</b> <b class=\"match term0\">РАННИЙ</b> ВОЗРАСТ В <b class=\"match term1\">УСЛОВИЕ</b> РЕАЛИЗАЦИЯ РЕАЛИЗАЦИЯ...СРЕДА КАК <b class=\"match term1\">УСЛОВИЕ</b> <b class=\"match term2\">ФОРМИРОВАНИЕ</b> И <b class=\"match term4\">РАЗВИТИЕ</b> <b class=\"match term3\">ИГРОВОЙ</b> <b class=\"match term4\">ДЕЯТЕЛЬНОСТЬ</b> РЕБЕНОК ДОШКОЛЬНЫЙ...СРЕДА КАК <b class=\"match term1\">УСЛОВИЕ</b> <b class=\"match term2\">ФОРМИРОВАНИЕ</b> И <b class=\"match term4\">РАЗВИТИЕ</b> <b class=\"match term3\">ИГРОВОЙ</b> <b class=\"match term4\">ДЕЯТЕЛЬНОСТЬ</b> РЕБЕНОК ДОШКОЛЬНЫЙ\n",
            "\n",
            "==== Number of results: 16 for query (1|I) (ВИНА|VIN|VINUM|WIN) (ОФИЦИАЛЬНЫЙ|ОФИЦИАЛЬНОСТЬ) (САЙТ|SIGHT|SITE)\n",
            "Docid: 345 B Title:  ПРОВЕРИТЬ ПРОБИТЬ АВТО ПО ВИНА VIN КОД БЕСПЛАТНО В ГИБДД МОЖНО НА ОФИЦИАЛЬНЫЙ САЙТ Highlights: ПОЛУЧИТЬ НА <b class=\"match term0\">ОФИЦИАЛЬНЫЙ</b> <b class=\"match term1\">САЙТ</b> НА <b class=\"match term1\">САЙТ</b> <b class=\"match term2\">VIN</b> AUTO RU ДАННЫЙ СЕРВИС...ПРОВЕРЯТЬ АВТО ПО <b class=\"match term2\">VIN</b> ХОТЯ БЫ НА 2 <b class=\"match term1\">САЙТ</b> ВОЛОДЯ РАЗНЫЙ <b class=\"match term1\">САЙТ</b> ВЫДАВАТЬ РАЗЛИЧНЫЙ...ГОС НОМЕР НА <b class=\"match term1\">САЙТ</b> РСА УДАЧА ВЫПЛЫТЬ <b class=\"match term2\">VIN</b> ДАЛЕЕ <b class=\"match term1\">САЙТ</b> ГИБДД ВСЕ ЗАМЕЧАТЕЛЬНЫЙ\n",
            "Docid: 309 S Title:  БУКМЕКЕРСКИЙ КОНТОРА 1 WIN ОФИЦИАЛЬНЫЙ САЙТ БУКМЕКЕР ТОП Highlights: КОНТОРА 1 <b class=\"match term3\">WIN</b> ВСЕ О СТАВКА НА <b class=\"match term1\">САЙТ</b> ОБЗОР СЕРВИС И ФУНКЦИОНАЛ...КОНТОРА 1 <b class=\"match term3\">WIN</b> ОСОБЕННОСТЬ <b class=\"match term0\">ОФИЦИАЛЬНЫЙ</b> <b class=\"match term1\">САЙТ</b> БУКМЕКЕРСКИЙ КОНТОРА...УСЛУГА ОСОБЕННОСТЬ <b class=\"match term0\">ОФИЦИАЛЬНЫЙ</b> <b class=\"match term1\">САЙТ</b> БУКМЕКЕРСКИЙ КОНТОРА\n",
            "Docid: 324 S Title:  ВАН ВИНА БУКМЕКЕРСКИЙ КОНТОРА ОФИЦИАЛЬНЫЙ САЙТ Highlights: <b class=\"match term1\">САЙТ</b> ДЛЯ ПОДКЛЮЧЕНИЕ К <b class=\"match term0\">ОФИЦИАЛЬНЫЙ</b> <b class=\"match term1\">САЙТ</b> 1 <b class=\"match term3\">WIN</b> ПРЕДУСМОТРЕННЫЙ ПОЛНЫЙ...ПЛАТЕЖ ПОПОЛНЕНИЕ НА <b class=\"match term0\">ОФИЦИАЛЬНЫЙ</b> <b class=\"match term1\">САЙТ</b> 1 <b class=\"match term4\">ВИНА</b> ВНЕСТИ ДЕПОЗИТ ИГРОК...УСЛОВИЕ СТАВКА НА 1 <b class=\"match term4\">ВИНА</b> НА <b class=\"match term0\">ОФИЦИАЛЬНЫЙ</b> <b class=\"match term1\">САЙТ</b> БУКМЕКЕРСКИЙ КОНТОРА\n",
            "Docid: 329 B Title:  ГИБДД ПРОВЕРКА АВТОМОБИЛЬ 👮🏻 ПО ВИНА И ГОС НОМЕР ОФИЦИАЛЬНЫЙ САЙТ Highlights: ЗАХОДИТЬ НА <b class=\"match term1\">САЙТ</b> ВБИВАТЬ <b class=\"match term4\">ВИНА</b> И ЗАПРАШИВАТЬ ПРОВЕРКА...ГОСНОМЕР ДАННЫЙ НА <b class=\"match term1\">САЙТ</b> ПОСТУПАТЬ ИЗ <b class=\"match term0\">ОФИЦИАЛЬНЫЙ</b> ИСТОЧНИК ЧТО...НА ГЛАВНЫЙ СТРАНИЦА <b class=\"match term1\">САЙТ</b> АВТОКОД ВПИСАТЬ <b class=\"match term2\">VIN</b> ИЛИ ГОСНОМЕР В ПОИСКОВЫЙ\n",
            "Docid: 323 S Title:  1 WIN ОФИЦИАЛЬНЫЙ САЙТ БУКМЕКЕРСКИЙ КОНТОРА ВАН ВИНА СТАВКА НА СПОРТ ОНЛАЙН ОСОБЕННОСТЬ БЕТТИНГ В 1 ВИНА BEST BOOKMAKER RU Highlights: <b class=\"match term0\">ОФИЦИАЛЬНЫЙ</b> <b class=\"match term1\">САЙТ</b> 1 <b class=\"match term3\">WIN</b> ОБЗОР ЗДЕСЬ ВЫ НАЙТИ...СДЕЛАТЬ СТАВКА <b class=\"match term0\">ОФИЦИАЛЬНЫЙ</b> <b class=\"match term1\">САЙТ</b> ВАЛЮТА RUB EUR USD МИНИМАЛЬНЫЙ...ВАШ ЛИЧНЫЙ СЧЕТ НА <b class=\"match term0\">ОФИЦИАЛЬНЫЙ</b> <b class=\"match term1\">САЙТ</b> БУКМЕКЕРСКИЙ КОНТОРА\n",
            "Docid: 339 B Title:  1 ВИНА СТАВКА НА СПОРТ НА ОФИЦИАЛЬНЫЙ САЙТ БУКМЕКЕРСКИЙ КОНТОРА 1WIN ОСОБЕННОСТЬ БЕТТИНГ В БК ВАН ВИНА Highlights: КОНТОРА 1 <b class=\"match term3\">WIN</b> И ЕЕ <b class=\"match term0\">ОФИЦИАЛЬНЫЙ</b> <b class=\"match term1\">САЙТ</b> В ИНТЕРНЕТ ЗДЕСЬ ВЫ...И ХАРАКТЕРИСТИКА <b class=\"match term0\">ОФИЦИАЛЬНЫЙ</b> <b class=\"match term1\">САЙТ</b> ПЕРЕЙТИ НА <b class=\"match term1\">САЙТ</b> СКАЧАТЬ ДЛЯ ANDROID...И ХАРАКТЕРИСТИКА <b class=\"match term0\">ОФИЦИАЛЬНЫЙ</b> <b class=\"match term1\">САЙТ</b> ПЕРЕЙТИ НА <b class=\"match term1\">САЙТ</b> СКАЧАТЬ ДЛЯ ANDROID\n",
            "Docid: 334 S Title:  ПРОВЕРИТЬ АВТО ПО ВИНА КОД БЕСПЛАТНО AVTOBOT Highlights: ПРОВЕРИТЬ АВТО ПО <b class=\"match term4\">ВИНА</b> КОД ИЛИ ГОС НОМЕР ПРОВЕРИТЬ...ХОЗЯЕВ РАСШИФРОВКА <b class=\"match term4\">ВИНА</b> КОД ИСТОРИЯ АВТОМОБИЛЬ...АВТО И ВЛАДЕЛЕЦ <b class=\"match term2\">VIN</b> КОДА АВТОМОБИЛЬ НАЙТИ\n",
            "Docid: 313 S Title:  1 ВИНА ЗЕРКАЛО ОФИЦИАЛЬНЫЙ САЙТ ОБСУЖДЕНИЕ НА LIVEINTERNET РОССИЙСКИЙ СЕРВИС ОНЛАЙН ДНЕВНИК Highlights: СОЗДАВАТЬ ЗЕРКАЛО <b class=\"match term0\">ОФИЦИАЛЬНЫЙ</b> <b class=\"match term1\">САЙТ</b> РАБОТАТЬ 1WIN ПО СУБЛИЦЕНЗИЯ...ПОИСКОВЫЙ ФРАЗА 1 <b class=\"match term4\">ВИНА</b> ЗЕРКАЛО <b class=\"match term0\">ОФИЦИАЛЬНЫЙ</b> <b class=\"match term1\">САЙТ</b> ЧЕТВЕРГ 29 НОЯБРЬ 2018...КАК ВЫГЛЯДЕТЬ <b class=\"match term0\">ОФИЦИАЛЬНЫЙ</b> <b class=\"match term1\">САЙТ</b> 1WIN РЕСУРС ОБЛАДАТЬ\n",
            "Docid: 311 S Title:  WIN MOBILE ОПЕРАТОР МОБИЛЬНЫЙ СВЯЗЬ В КРЫМ И Г СЕВАСТОПОЛЬ Highlights: <b class=\"match term0\">ОФИЦИАЛЬНЫЙ</b> <b class=\"match term1\">САЙТ</b> ОПЕРАТОР СОТОВ СВЯЗЬ...ОПЕРАТОР БЕСПЛАТНО С <b class=\"match term3\">WIN</b> MOBILE 0545 ДЛЯ НОМЕРОВ...0545 MOBILE 2022 <b class=\"match term3\">WIN</b> MOBILE РАЗРАБОТКА <b class=\"match term1\">САЙТ</b> WEB MOVER ЧАСТНОЕ ЛИЦО\n",
            "Docid: 330 S Title:  VINPIN RU КАТАЛОГ ПОДБОР АРТИКУЛОВ ЗАПЧАСТЬ ПО VIN КОД ДИЛЕРСКИЙ КАТАЛОГ ПРОГРАММА ДЛЯ АВТОСЕРВИС СТО Highlights: ТЕСТОВЫЙ ПО <b class=\"match term2\">VIN</b> КАК У ДИЛЕР ONLINE ПО...VINPIN ЯВЛЯТЬСЯ <b class=\"match term0\">ОФИЦИАЛЬНЫЙ</b> РЕСЕЛЛЕР КОМПАНИЯ...КАТАЛОГ ДЛЯ <b class=\"match term1\">САЙТ</b> ОБУЧЕНИЕ ПОДБОР И ПРОДАЖА\n",
            "\n",
            "==== Number of results: 31 for query (1|I) КОМНАТНЫЙ (КВАРТИРА|ЖИЛИЩЕ|КВАРТИРКА) (КУПИТЬ|ВЫКУПИТЬ|ДОКУПИТЬ|ЗАКУПИТЬ|НАКУПИТЬ|ПОКУПАТЬ|ПОКУПИТЬ|ПОКУПКА|ПРИОБРЕСТИ|ПРИОБРЕТАТЬ|ПРОДАВАТЬ|ПРОДАЖА) В (АЛМАТЫ1|АЛМАТЫ 1)\n",
            "Docid: 353 S Title:  СНИМАТЬ 1 КОМНАТНЫЙ КВАРТИРА В АЛМАТЫ1 КАЗАХСТАН Highlights: НА ТЕМА СНИМАТЬ 1 <b class=\"match term0\">КОМНАТНЫЙ</b> <b class=\"match term1\">КВАРТИРА</b> В <b class=\"match term2\">АЛМАТЫ1</b> СДАТЬ ПОСУТОЧНО...ВСЕ СНИМАТЬ 1 <b class=\"match term0\">КОМНАТНЫЙ</b> <b class=\"match term1\">КВАРТИРА</b> В <b class=\"match term2\">АЛМАТЫ1</b> АСТАН 21 10 УНИКАЛЬНЫЙ...БЫТОВОЙ КОММУНАЛЬНЫЙ <b class=\"match term3\">ПРОДАВАТЬ</b> 3 <b class=\"match term0\">КОМНАТНЫЙ</b> <b class=\"match term1\">КВАРТИРА</b> ПО НАБ СЛАВСКИЙ\n",
            "Docid: 348 S Title:  ОДНОКОМНАТНЫЙ КВАРТИРА 1 КОМНАТНЫЙ КВАРТИРА ПРОДАЖА ОДНОКОМНАТНЫЙ КВАРТИРА АЛМАТЫ SLANET Highlights: ОДНОКОМНАТНЫЙ <b class=\"match term1\">КВАРТИРА</b> <b class=\"match term4\">ПРОДАЖА</b> 1 <b class=\"match term0\">КОМНАТНЫЙ</b> <b class=\"match term1\">КВАРТИРА</b> НА ДОСКА БЕСПЛАТНЫЙ...ОБЪЯВЛЕНИЕ SLANET <b class=\"match term0\">АЛМАТЫ</b> ОДНОКОМНАТНЫЙ <b class=\"match term1\">КВАРТИРА</b> 1 <b class=\"match term0\">КОМНАТНЫЙ</b> <b class=\"match term1\">КВАРТИРА</b> <b class=\"match term4\">ПРОДАЖА</b> ОДНОКОМНАТНЫЙ...5 ФОТО ПРОДАТЬ 1 <b class=\"match term0\">КОМНАТНЫЙ</b> <b class=\"match term1\">КВАРТИРА</b> <b class=\"match term3\">ПРОДАВАТЬ</b> 1 <b class=\"match term0\">КОМНАТНЫЙ</b> <b class=\"match term1\">КВАРТИРА</b> В ЦЕНТР ГОРОД УЛУЧШИТЬ\n",
            "Docid: 362 S Title:  АКТОБЕ СНИМАТЬ 1 КОМНАТНЫЙ КВАРТИРА В АЛМАТЫ1 САМЫЕ СВЕЖИЙ ОБЪЯВЛЕНИЕ ЗА СЕГОДНЯ Highlights: НА ТЕМА СНИМАТЬ 1 <b class=\"match term0\">КОМНАТНЫЙ</b> <b class=\"match term1\">КВАРТИРА</b> В <b class=\"match term2\">АЛМАТЫ1</b> В АКТОБЕ В НАШЕМ...НА ТЕМА СНИМАТЬ 1 <b class=\"match term0\">КОМНАТНЫЙ</b> <b class=\"match term1\">КВАРТИРА</b> В <b class=\"match term2\">АЛМАТЫ1</b> В АКТОБЕ НЕДВИЖИМОСТЬ...<b class=\"match term1\">КВАРТИРА</b> <b class=\"match term4\">ПРОДАЖА</b> <b class=\"match term1\">КВАРТИРА</b> <b class=\"match term3\">ПРОДАВАТЬ</b> 1 <b class=\"match term1\">КВАРТИРА</b> Г АКТОБЕ УЛ РЫСКУЛОВ\n",
            "Docid: 360 S Title:  ВЕСЬ КАЗАХСТАН КУПИТЬ 1 КОМНАТНЫЙ КВАРТИРА В АЛМАТЫ САМЫЕ СВЕЖИЙ ОБЪЯВЛЕНИЕ ЗА СЕГОДНЯ Highlights: НЕ БЕСПОКОИТЬ <b class=\"match term0\">АЛМАТЫ</b> <b class=\"match term0\">АЛМАТЫ</b> 17 <b class=\"match term1\">ПОКУПКА</b> <b class=\"match term1\">КВАРТИРА</b> МЕНЯТЬ <b class=\"match term1\">КВАРТИРА</b> ВО ПСКОВ НА <b class=\"match term1\">КВАРТИРА</b> В <b class=\"match term0\">АЛМАТЫ</b> МЕНЯТЬ 1 <b class=\"match term0\">КОМНАТНЫЙ</b> <b class=\"match term1\">КВАРТИРА</b> В Г ПСКОВ РАЙОН...С У РАЗДЕЛЬНЫЙ НА 1 <b class=\"match term0\">КОМНАТНЫЙ</b> <b class=\"match term1\">КВАРТИРА</b> В Г <b class=\"match term0\">АЛМАТЫ</b> С ОБМЕН <b class=\"match term1\">КВАРТИРА</b> <b class=\"match term2\">КУПИТЬ</b> ДВА <b class=\"match term0\">КОМНАТНЫЙ</b> <b class=\"match term1\">КВАРТИРА</b> В РАССРОЧКА <b class=\"match term2\">КУПИТЬ</b> 2 Х <b class=\"match term0\">КОМНАТНЫЙ</b> <b class=\"match term1\">КВАРТИРА</b> В РАССРОЧКА В П...ЗАРАНЕЕ БЛАГОДАРИТЬ <b class=\"match term0\">АЛМАТЫ</b> 11 12 <b class=\"match term1\">ПОКУПКА</b> <b class=\"match term1\">КВАРТИРА</b> <b class=\"match term2\">КУПИТЬ</b> <b class=\"match term1\">КВАРТИРА</b> 1 ИЛИ 2 Х <b class=\"match term0\">КОМНАТНЫЙ</b> <b class=\"match term1\">КВАРТИРА</b> 11 ИЛИ 12 МКР ПОСЛЕДНИЙ\n",
            "Docid: 357 S Title:  1 КОМНАТНЫЙ КВАРТИРА ПРОДАЖА В АЛМАТЫ OLX KZ Highlights: РАЙОН 39 <b class=\"match term1\">КВАРТИРА</b> В <b class=\"match term0\">АЛМАТЫ</b> <b class=\"match term4\">ПРОДАЖА</b> 1 <b class=\"match term0\">КОМНАТНЫЙ</b> <b class=\"match term1\">КВАРТИРА</b> В <b class=\"match term0\">АЛМАТЫ</b> БЕЗ ПОСРЕДНИК <b class=\"match term4\">ПРОДАЖА</b> 2 <b class=\"match term0\">КОМНАТНЫЙ</b> <b class=\"match term1\">КВАРТИРА</b> В <b class=\"match term0\">АЛМАТЫ</b> БЕЗ ПОСРЕДНИК <b class=\"match term4\">ПРОДАЖА</b> 1 Х <b class=\"match term0\">КОМНАТНЫЙ</b> <b class=\"match term1\">КВАРТИРА</b> В <b class=\"match term0\">АЛМАТЫ</b> АУЭЗОВСКИЙ РАЙОН...3 <b class=\"match term0\">КОМНАТНЫЙ</b> <b class=\"match term1\">КВАРТИРА</b> В <b class=\"match term0\">АЛМАТЫ</b> <b class=\"match term1\">КВАРТИРА</b> ОТ 7 МЛН ТЕНГЕ <b class=\"match term0\">АЛМАТЫ</b> <b class=\"match term2\">КУПИТЬ</b> 1 <b class=\"match term0\">КОМНАТНЫЙ</b> <b class=\"match term1\">КВАРТИРА</b> В <b class=\"match term0\">АЛМАТЫ</b> МЕДЕУСКИЙ РАЙОН...<b class=\"match term1\">КВАРТИРА</b> В КРЕДИТ <b class=\"match term0\">АЛМАТЫ</b> <b class=\"match term2\">КУПИТЬ</b> <b class=\"match term1\">КВАРТИРА</b> В АЛМА СИТИ <b class=\"match term2\">КУПИТЬ</b> <b class=\"match term1\">КВАРТИРА</b> В МАМЫР <b class=\"match term0\">АЛМАТЫ</b> <b class=\"match term2\">КУПИТЬ</b> <b class=\"match term1\">КВАРТИРА</b> В <b class=\"match term0\">АЛМАТЫ</b> ВЫГОДНЫЙ КУПЛЯ <b class=\"match term4\">ПРОДАЖА</b> <b class=\"match term1\">КВАРТИРА</b> БЕЗ ПОСРЕДНИК\n",
            "Docid: 359 B Title:  КУПИТЬ ОДНОКОМНАТНЫЙ КВАРТИРА В АЛМАТЫ ПРОДАЖА ОДНОКОМНАТНЫЙ КВАРТИРА В АЛМАТЫ ПОИСК НЕДВИЖИМОСТЬ KN KZ НЕДВИЖИМОСТЬ КАЗАХСТАН Highlights: РЫНОК НЕДВИЖИМОСТЬ В <b class=\"match term0\">АЛМАТЫ</b> <b class=\"match term1\">ПОКУПКА</b> И <b class=\"match term4\">ПРОДАЖА</b> МАЛЕНЬКИЙ <b class=\"match term1\">КВАРТИРА</b> ТАКЖЕ В ЧИСЛО САМЫХ...<b class=\"match term2\">КУПИТЬ</b> <b class=\"match term1\">КВАРТИРА</b> В <b class=\"match term0\">АЛМАТЫ</b> <b class=\"match term4\">ПРОДАЖА</b> <b class=\"match term1\">КВАРТИРА</b> В <b class=\"match term0\">АЛМАТЫ</b> <b class=\"match term4\">ПРОДАЖА</b> 1 <b class=\"match term1\">КВАРТИРА</b> В <b class=\"match term0\">АЛМАТЫ</b> <b class=\"match term4\">ПРОДАЖА</b> 2 <b class=\"match term0\">КОМНАТНЫЙ</b> <b class=\"match term1\">КВАРТИРА</b> В <b class=\"match term0\">АЛМАТЫ</b> <b class=\"match term4\">ПРОДАЖА</b> <b class=\"match term1\">КВАРТИРА</b> В <b class=\"match term0\">АЛМАТЫ</b> <b class=\"match term4\">ПРОДАЖА</b> 4 <b class=\"match term1\">КВАРТИРА</b> В <b class=\"match term0\">АЛМАТЫ</b> <b class=\"match term4\">ПРОДАЖА</b> 5 <b class=\"match term0\">КОМНАТНЫЙ</b> <b class=\"match term1\">КВАРТИРА</b> В <b class=\"match term0\">АЛМАТЫ</b> 1 <b class=\"match term0\">КОМНАТНЫЙ</b> <b class=\"match term1\">КВАРТИРА</b> БЕЗ ПОСРЕДНИК...<b class=\"match term0\">АЛМАТЫ</b> АРЕНДА ДОМ В <b class=\"match term0\">АЛМАТЫ</b> АРЕНДА ОФИС В <b class=\"match term0\">АЛМАТЫ</b> <b class=\"match term4\">ПРОДАЖА</b> <b class=\"match term1\">КВАРТИРА</b> В КАРАГАНДА <b class=\"match term4\">ПРОДАЖА</b> <b class=\"match term1\">КВАРТИРА</b> В АСТАН <b class=\"match term4\">ПРОДАЖА</b> <b class=\"match term1\">КВАРТИРА</b> В КАМЕНОГОРСК\n",
            "Docid: 352 S Title:  КВАРТИРА 1 КОМНАТНЫЙ В АЛМАТЫ МКР ЖЕТЫСУ 2 КУПИТЬ В АЛМАТЫ Highlights: <b class=\"match term2\">КУПИТЬ</b> В <b class=\"match term0\">АЛМАТЫ</b> <b class=\"match term1\">КВАРТИРА</b> 1 <b class=\"match term0\">КОМНАТНЫЙ</b> В <b class=\"match term0\">АЛМАТЫ</b> МКР 2 <b class=\"match term1\">КВАРТИРА</b> В <b class=\"match term0\">АЛМАТЫ</b> КАЗАХСТАН ОТ АЛШЫН...<b class=\"match term1\">КВАРТИРА</b> <b class=\"match term2\">КУПИТЬ</b> <b class=\"match term4\">ПРОДАЖА</b> <b class=\"match term1\">КВАРТИРА</b> <b class=\"match term1\">КВАРТИРА</b> СКЛАД КОМНАТН...ЖИЛОЙ СООРУЖЕНИЕ <b class=\"match term1\">КВАРТИРА</b> <b class=\"match term1\">КВАРТИРА</b> 1 <b class=\"match term0\">КОМНАТНЫЙ</b> В <b class=\"match term0\">АЛМАТЫ</b> МКР 2 <b class=\"match term1\">КВАРТИРА</b> В КАЗАХСТАН В <b class=\"match term0\">АЛМАТЫ</b> <b class=\"match term1\">КВАРТИРА</b> 1 <b class=\"match term0\">КОМНАТНЫЙ</b> В <b class=\"match term0\">АЛМАТЫ</b> МКР ЖЕТЫСУ 2 НАПИСАТЬ\n",
            "Docid: 355 S Title:  КУПИТЬ ОДНОКОМНАТНЫЙ КВАРТИРА В АЛМАТЫ M2BOMBER COM Highlights: COM ПОМОЧЬ ВАМ <b class=\"match term2\">КУПИТЬ</b> ОДНОКОМНАТНЫЙ <b class=\"match term1\">КВАРТИРА</b> В <b class=\"match term0\">АЛМАТЫ</b> БОЛЬШИЙ БАЗА ОБЪЯВЛЕНИЕ...С ЦЕНА И ФОТО <b class=\"match term4\">ПРОДАЖА</b> 1 <b class=\"match term0\">КОМНАТНЫЙ</b> <b class=\"match term1\">КВАРТИРА</b> НА ВТОРИЧНЫЙ РЫНОК...М 8 9 ЭТ ПРОДАТЬ 1 <b class=\"match term0\">КОМНАТНЫЙ</b> <b class=\"match term1\">КВАРТИРА</b> СТУДИЯ <b class=\"match term1\">КВАРТИРА</b> В ХОРОШИЙ СОСТОЯНИЕ\n",
            "Docid: 351 S Title:  СНИМАТЬ 1 КОМНАТНЫЙ КВАРТИРА В АЛМАТЫ1 ВЕСЬ КАЗАХСТАН Highlights: СИТУАЦИЯ СНИМАТЬ 1 <b class=\"match term0\">КОМНАТНЫЙ</b> <b class=\"match term1\">КВАРТИРА</b> В <b class=\"match term2\">АЛМАТЫ1</b> НЕДВИЖИМОСТЬ В...<b class=\"match term4\">ПРОДАЖА</b> 1 КОМН <b class=\"match term1\">КВАРТИРА</b> ПРОДАТЬ 1 <b class=\"match term0\">КОМНАТНЫЙ</b> <b class=\"match term1\">КВАРТИРА</b> ХОРОШИЙ СОСТОЯНИЕ...<b class=\"match term1\">КВАРТИРА</b> ИЗ РУКА В РУКА СДАТЬ <b class=\"match term1\">КВАРТИРА</b> ПРОДАТЬ <b class=\"match term1\">КВАРТИРА</b> В РАССРОЧКА В <b class=\"match term0\">АЛМАТЫ</b> СДАТЬ <b class=\"match term1\">КВАРТИРА</b> С ПОСЛЕДУЮЩИЙ\n",
            "Docid: 350 S Title:  ПРОДАЖА КВАРТИРА АЛМАТЫ 1 КОМНАТНЫЙ КВАРТИРА АЛМАТЫ ЦЕНА НА 1 КОМНАТНЫЙ КВАРТИРА АЛМАТЫ ИНТЕРНЕТ РЫНОК АЛМАТЫ 1454 Highlights: ДЕТАЛЬ ОБЪЯВЛЕНИЕ <b class=\"match term4\">ПРОДАЖА</b> <b class=\"match term1\">КВАРТИРА</b> <b class=\"match term0\">АЛМАТЫ</b> 1 <b class=\"match term1\">КВАРТИРА</b> <b class=\"match term0\">АЛМАТЫ</b> ЦЕНА НА 1 <b class=\"match term0\">КОМНАТНЫЙ</b> <b class=\"match term1\">КВАРТИРА</b> <b class=\"match term0\">АЛМАТЫ</b> ИНТЕРНЕТ РЫНОК <b class=\"match term0\">АЛМАТЫ</b> 1454 КАТЕГОРИЯ <b class=\"match term4\">ПРОДАЖА</b> <b class=\"match term1\">КВАРТИРА</b> <b class=\"match term0\">АЛМАТЫ</b> ИЗБРАННЫЙ <b class=\"match term4\">ПРОДАЖА</b> <b class=\"match term1\">КВАРТИРА</b> 1 <b class=\"match term0\">КОМНАТНЫЙ</b> <b class=\"match term1\">КВАРТИРА</b> 14 01 2011 14 17...<b class=\"match term0\">АЛМАТЫ</b> <b class=\"match term4\">ПРОДАЖА</b> <b class=\"match term1\">КВАРТИРА</b> 1 КОМ БАЛКОН НЕ...НОВЫЙ МЕБЕЛЬ НОВЫЙ <b class=\"match term1\">КВАРТИРА</b> ТЕПЛЫЙ СОСЕД ВРОДЕ\n",
            "\n"
          ]
        }
      ]
    },
    {
      "cell_type": "markdown",
      "source": [
        "**len(results)** запускает быструю версию запроса (без подсчета score), поэтому на больших индексах может быть медленным.\n",
        "\n",
        "Чтобы избежать этой задержки, можно использовать функции **has_exact_length()**, **estimated_length()**, **estimated_min_length()**"
      ],
      "metadata": {
        "id": "uHqPUtxWz9zG"
      }
    },
    {
      "cell_type": "code",
      "source": [
        "for query_text in queries_texts_sample:\n",
        "    qp = setup_parser(MultifieldParser([\"title\", \"body\"], schema=schema))\n",
        "    q = qp.parse(query_text)\n",
        "    with ix.searcher() as searcher:\n",
        "        results = searcher.search(q)\n",
        "        # Запускает быструю версию запроса (без подсчета score),\n",
        "        # поэтому на больших индексах может быть медленным\n",
        "        found = results.scored_length()\n",
        "        if results.has_exact_length():\n",
        "            print(\"Scored\", found, \"of exactly\", len(results), \"documents\")\n",
        "        else:\n",
        "            low = results.estimated_min_length()\n",
        "            high = results.estimated_length()\n",
        "            print(\"Scored\", found, \"of between\", low, \"and\", high, \"documents\")\n"
      ],
      "metadata": {
        "colab": {
          "base_uri": "https://localhost:8080/"
        },
        "outputId": "dbba1989-3965-4078-de4f-3f78f6599942",
        "id": "p41qitwTyEEY"
      },
      "execution_count": null,
      "outputs": [
        {
          "output_type": "stream",
          "name": "stdout",
          "text": [
            "Scored 0 of between 1 and 0 documents\n",
            "Scored 0 of between 19 and 0 documents\n",
            "Scored 10 of between 1 and 454 documents\n",
            "Scored 10 of between 1 and 116 documents\n",
            "Scored 10 of between 1 and 125 documents\n"
          ]
        }
      ]
    },
    {
      "cell_type": "markdown",
      "source": [
        "Судя по результатам выше, функции **estimated** действительно дают лишь приблизительные оценки и не всегда **estimated_min_length()** < **estimated_length()**"
      ],
      "metadata": {
        "id": "KAvf6YjikRQa"
      }
    },
    {
      "cell_type": "markdown",
      "source": [
        "## Задание 1\n",
        "Реализовать индексацию только по полю title (body не индексируем) и для выборки запросов вывести точное количество запросов и вторую страницу поисковой выдачи, если в одну страницу входит 10 результатов"
      ],
      "metadata": {
        "id": "fGz8vu8nGRL6"
      }
    },
    {
      "cell_type": "code",
      "source": [
        "# DOCS_TSV - путь к файлу с документами. Файл в формате tab separated values\n",
        "# queries_texts - тексты запросов\n"
      ],
      "metadata": {
        "id": "Re3Z78YRGVpN"
      },
      "execution_count": null,
      "outputs": []
    },
    {
      "cell_type": "markdown",
      "source": [
        "# Вопросы?"
      ],
      "metadata": {
        "id": "09Ov4aKx3X56"
      }
    },
    {
      "cell_type": "markdown",
      "source": [
        "## Немного подробнее об индексации"
      ],
      "metadata": {
        "id": "qdLUYn0xYY1X"
      }
    },
    {
      "cell_type": "markdown",
      "source": [
        "Можем не коммитить добавления документов, если мы передумали:"
      ],
      "metadata": {
        "id": "XdhZebQTNQpn"
      }
    },
    {
      "cell_type": "code",
      "source": [
        "writer = ix.writer()\n",
        "writer.add_document(docid=123456, title=u\"A\", body=u\"Hello there\")\n",
        "writer.cancel()"
      ],
      "metadata": {
        "id": "7AmjmaTsMeOU"
      },
      "execution_count": null,
      "outputs": []
    },
    {
      "cell_type": "markdown",
      "source": [
        "Мерж сегментов индекса.\n",
        "\n",
        "whoosh при каждом коммите после добавления документов не всегда обновляет индекс полностью, а часто создает новый \"сегмент\", в который сохраняет новый блок проиндексированных документов. При обработке поискового запроса поиск осуществляется в каждом из существующих \"сегментов\", а в конце результаты мержатся.\n",
        "\n",
        "Если сегментов становится слишком много, то можно выполнить оптимизацию."
      ],
      "metadata": {
        "id": "OUYqf6k0NuNb"
      }
    },
    {
      "cell_type": "code",
      "source": [
        "writer = ix.writer()\n",
        "writer.commit(merge=False) # Явно говорим не мержить сегменты\n",
        "\n",
        "writer = ix.writer()\n",
        "writer.commit(optimize=True) # Явно говорим cмержить все сегменты в один"
      ],
      "metadata": {
        "id": "UsLXFXNKOlaQ"
      },
      "execution_count": null,
      "outputs": []
    },
    {
      "cell_type": "markdown",
      "source": [
        "Удаление документов"
      ],
      "metadata": {
        "id": "N7KDNOt_PBKN"
      }
    },
    {
      "cell_type": "code",
      "source": [
        "writer = ix.writer()\n",
        "# Указываем название поля и значение, это применимо в основном для полей типа\n",
        "# ID или KEYWORD\n",
        "writer.delete_by_term(\"id\", 1)\n",
        "\n",
        "# Удаляем документы, соответствующие определенному запросу (антигвозди)\n",
        "qp = MultifieldParser([\"title\", \"body\"], schema=schema)\n",
        "q = qp.parse(\"порно\")\n",
        "writer.delete_by_query(q)\n",
        "\n",
        "# В реальности нужно закоммитить удаление\n",
        "writer.cancel()"
      ],
      "metadata": {
        "id": "P-4U8uSJPSqx"
      },
      "execution_count": null,
      "outputs": []
    },
    {
      "cell_type": "markdown",
      "source": [
        "Обновление документов. Можно вызвать delete_ метод и далее add_document.\n",
        "\n",
        "А можно update_document, но для этого нужно чтобы хотя бы одно из полей было помечено в схеме как unique=True.\n",
        "\n",
        "В нашем случае это docid."
      ],
      "metadata": {
        "id": "emJxANvLSBYT"
      }
    },
    {
      "cell_type": "code",
      "source": [
        "writer = ix.writer()\n",
        "\n",
        "# Если документа с указанным значением уникального поля не нашлось, то\n",
        "# update_document работает просто как add_document\n",
        "writer.update_document(docid=1, body=\"Replacement for the first document\")\n",
        "\n",
        "# В реальности нужно закоммитить обновление\n",
        "writer.cancel()"
      ],
      "metadata": {
        "id": "JsvVeBCPSE3o"
      },
      "execution_count": null,
      "outputs": []
    },
    {
      "cell_type": "markdown",
      "source": [
        "Очистка (обнуление) индекса"
      ],
      "metadata": {
        "id": "jKH9dfE6WpC_"
      }
    },
    {
      "cell_type": "code",
      "source": [
        "from whoosh import writing\n",
        "\n",
        "writer = ix.writer()\n",
        "# Здесь можем опционально вызывать add_document\n",
        "\n",
        "# mergetype=CLEAR очищает все существующие сегменты, т.е. индекс будет содержать\n",
        "# только документы добавленные в рамках текущей транзакции\n",
        "# writer.commit(mergetype=writing.CLEAR)"
      ],
      "metadata": {
        "id": "H5qv7hVjWuJs"
      },
      "execution_count": null,
      "outputs": []
    },
    {
      "cell_type": "markdown",
      "source": [
        "## Обработка поисковых запросов"
      ],
      "metadata": {
        "id": "CbtcynNOZRwc"
      }
    },
    {
      "cell_type": "markdown",
      "source": [
        "Объект searcher содержит разные полезные функции"
      ],
      "metadata": {
        "id": "nn699oCHZ1Gr"
      }
    },
    {
      "cell_type": "code",
      "source": [
        "with ix.searcher() as searcher:\n",
        "    print(list(b.decode(\"utf-8\") for b in searcher.lexicon(\"title\")))"
      ],
      "metadata": {
        "colab": {
          "base_uri": "https://localhost:8080/"
        },
        "id": "DWRRdnx4becq",
        "outputId": "1d9f81ee-7a84-48a2-907b-a5c2957a4c74"
      },
      "execution_count": null,
      "outputs": [
        {
          "output_type": "stream",
          "name": "stdout",
          "text": [
            "['00', '000', '0022', '004', '01', '0101', '0101004185', '011', '013', '01401', '015', '02', '023', '027', '03', '030501', '03099', '03г', '04', '040098', '04284', '05', '06', '063', '07', '075', '077', '08', '0856', '09', '0м2', '0мм', '10', '100', '1000', '1000000', '1001', '10077', '100mm', '100кг', '100мл', '101', '101864', '101xp', '1021', '1021300973418', '1027600622697', '1027700575044', '103', '1033', '1040', '105', '107', '1071326003528', '1080', '1081690033798', '109', '1099', '10x', '10т', '11', '110', '1100971', '1101682002366', '1115', '1116', '1117', '1118', '1119', '1120', '1121690012344', '1122', '115', '119', '119544', '11r22', '12', '120', '120234', '123', '12464', '1250', '127', '1275', '1280', '129337', '12x', '12y', '12с1', '13', '130', '1300761', '131', '1314602663', '1316649', '132', '1325031067', '1326201635', '1326222956', '132705222576', '133', '1358', '136', '137', '138kv', '13x', '13х', '14', '140', '142', '142924540', '145', '1454', '145k', '1465', '1472', '1474', '148', '14x', '14х', '15', '150', '1500', '150д', '151', '1511', '159', '159б', '16', '160', '1612', '1633606778', '1639043835', '1660165339', '16b', '16g', '16x', '17', '170', '1700', '1701', '171', '1710', '172000azn', '175', '17680', '178mm', '17x', '18', '180', '1811', '183', '186', '1866', '1872', '189382', '1896', '18x', '18а', '18х', '19', '190', '1920', '1921', '1924г', '1930', '1931', '1939', '1946', '1948', '195', '1950', '1952', '1955', '1957', '1957года', '1958', '1959', '1961', '1965', '1967', '1977', '1978', '1980', '1982', '1983', '1987', '1989', '1989г', '1990', '1990г', '1991', '1992', '1994', '1995', '1997', '1997г', '1998', '19x', '19х', '1c', '1cgreen', '1u2', '1win', '1xbet', '1а', '1вин', '1класс', '1нұсқа', '1рубль', '1с', '1сstyle', '1т', '1хбет', '20', '200', '2000', '2001', '2002', '2003', '2005', '2006', '2007', '2008', '2009', '2009года', '2010', '2011', '2012', '2012г', '2013', '2014', '2015', '2015г', '2016', '2016г', '2016ж', '2017', '2018', '2019', '2020', '2021', '2022', '2023', '206', '2061', '2064', '207', '20у4', '21', '210', '2100', '2111', '2119', '21420', '215', '2154', '22', '222', '225406', '22946', '23', '230', '23087013', '24', '24596', '246', '249563', '24warez', '24п', '24сми', '25', '250', '257', '26', '26020', '26023', '27', '278', '28', '28110', '2821', '28591', '29', '2924540', '29609', '297', '2din', '2gis', '2t', '2x', '2в', '2гис', '2маши', '2т', '2хв', '30', '3000', '3001', '301', '3043', '305', '3061', '307', '30е', '31', '3104', '313', '3158', '318253929', '320', '321118', '32рд', '33', '330', '339288222', '34', '34148', '343', '35', '350', '3510', '355', '3565', '358', '36', '365info', '36824928', '375', '38', '39', '3901', '398', '3982', '3a', '3t', '3x', '3б', '3м', '3х', '40', '404', '4081', '40а', '40е', '41', '41cd', '42', '43', '4300', '430011', '44', '443', '4461', '447946203148', '45', '45392', '45a', '46', '464с', '467', '47', '4712', '47новостей', '48', '486', '49', '492057', '499', '4a22c4c43bab', '4a87', '4z', '50', '500', '5000', '500лет', '500репост', '5013561718', '51', '52', '520', '52287', '528', '53', '534', '54', '545374', '55', '550', '551', '5527052', '554', '5543', '5548719365', '559', '55a', '5644564', '58', '589', '59', '5л', '5т', '5ув', '5х', '60', '61', '616', '62', '6219', '627', '63', '64', '65', '651', '66', '6621', '664074', '67', '680', '6x', '70', '700', '702', '7107', '720', '7304', '74', '7411013954', '75', '7501035042308', '752', '76', '7603013595', '7716103391', '7777', '78', '780', '78007557536', '7810', '7x', '7фа', '80', '800', '8080', '81', '812', '818c', '8200', '83', '8352', '836', '84', '84201', '8432794879', '844', '85270', '86', '86334644', '87786255265', '87952', '88007557536', '880555555302', '88434520686', '88f5', '895', '8bcee2aab983', '8t', '8x', '8т', '90', '900', '91', '911', '9111', '91409', '91x', '92', '929', '93', '94', '949', '95', '96', '9651', '97020', '978', '9805861', '988', '99', '9x', 'a2c3cc8c', 'a4', 'accusative', 'action', 'addthi', 'adi', 'adil', 'adjectives', 'admpravokumskoe', 'advant24', 'advoba', 'advocatus54', 'advokat', 'advook', 'aero', 'aerospace', 'afy', 'agar', 'agartu', 'agidel', 'air', 'airbus', 'aircraft', 'airliner', 'airliners', 'airlines', 'akmeoconsult', 'alan', 'albercul', 'alibaba', 'aliexpress', 'aliluev', 'all', 'alleng', 'allref', 'allrus', 'alltorrent', 'almaty', 'alqi', 'altresur', 'amb', 'amber', 'amg', 'amino', 'amp', 'analysis', 'anden', 'android', 'ant', 'anywayanyday', 'apteka', 'archive', 'artur', 'arxasi', 'asia', 'asp', 'astana', 'astro7', 'au', 'auction', 'audi', 'audit', 'autobat33', 'autodna', 'autosport', 'avd', 'avenue', 'aveti', 'avi', 'aviablogger', 'avtobot', 'ax0nes', 'ay', 'az', 'b172', 'b6', 'babyplan', 'baki', 'bakida', 'ball', 'banknote', 'bash', 'baspasy', 'beauty', 'benz', 'bereg', 'best', 'bestreferat', 'bet', 'betsports24', 'bezrisk', 'bibliotekar', 'bilim', 'bilimland', 'bina', 'binada', 'birank', 'bizimemlak', 'bizorg', 'blog', 'bmw', 'bombardier', 'book24', 'bookmaker', 'books', 'boomle', 'box', 'brave', 'bravo', 'btrk', 'builder', 'bumparfum', 'buneev5', 'business', 'businessman', 'buxgalter', 'buy', 'bwin', 'bəy', 'calaméo', 'calcsoft', 'calendar', 'calorizator', 'care', 'carwinta', 'case', 'casino', 'catalog', 'cd', 'ce', 'ceb43183', 'celine', 'center', 'change', 'charter', 'christian', 'classic', 'clive', 'club', 'cntd', 'coin', 'coins', 'coinsmarket', 'colanguage', 'cold', 'com', 'command', 'community', 'competitor', 'con', 'conexión', 'config', 'connect', 'cordiant', 'cortez', 'cost', 'cream', 'crediteck', 'crj', 'cuervo', 'cum', 'cumshot', 'customsonline', 'cyber', 'cómo', 'cегодня', 'cкачать', 'cұрақ', 'daily', 'dasinmaz', 'db08', 'ddos', 'de', 'deep', 'defender', 'delfi', 'delta', 'descargar', 'development', 'dfm', 'dictionary', 'died', 'diesel', 'din', 'disqus', 'dlyapohudeniya', 'dm', 'dmap', 'doc', 'docs', 'docx', 'doktor', 'domchel', 'domofond', 'domprava76', 'don', 'download', 'dpva', 'drive2', 'dslov', 'e1', 'e170', 'e170evo', 'eaglemoss', 'edition', 'education', 'educon', 'elan', 'elanlari', 'elle', 'embarcadero', 'embraer', 'emlak', 'emlaktap', 'end', 'enduke', 'eng', 'englishmore', 'entglobus', 'entries', 'enttest', 'ep', 'epub', 'equal', 'erj', 'error', 'esosedi', 'español', 'especial', 'euro', 'europe', 'ev', 'everything', 'evler', 'evleri', 'evlerin', 'evolution', 'evroopt', 'ex', 'excel', 'ezoterizmo', 'f1', 'facebook', 'faces', 'fairy', 'family', 'faqgurupro', 'fatal', 'favor', 'favorites', 'fb2', 'feat', 'february', 'feminine', 'fernam', 'festima', 'file', 'files', 'filters', 'fixya', 'flash', 'flatfy', 'flip', 'flipbook', 'fliphtml5', 'fm', 'forecast', 'forfree', 'formula', 'forum', 'forumavia', 'found', 'free', 'freesmi', 'french', 'frequentflyer', 'fs', 'fs2004', 'fsx', 'ft', 'full', 'fullyclothedpissing', 'funciona', 'funnydog', 'første', 'g62', 'gender', 'geologam', 'gigatrade', 'girltalk', 'gis', 'gismeteo', 'github', 'giz', 'goma', 'good', 'google', 'gorlovkanedvig', 'gps', 'greatcoin', 'grigory', 'group', 'guru', 'guy', 'hachette', 'handjobs', 'hd', 'heavy', 'helga', 'hello', 'helloam', 'help', 'here', 'hero', 'hi', 'hintfox', 'hire', 'historie', 'history', 'home', 'how', 'html', 'http', 'https', 'hunting', 'huskarl', 'həsən', 'icon', 'id', 'idef0', 'igra', 'ihead', 'ii', 'iii', 'imkliva', 'iml', 'ina', 'industries', 'info', 'informburo', 'instagram', 'insurance', 'international', 'intuit', 'invest', 'inwin', 'io', 'iono', 'ip', 'ipleer', 'ipr', 'iptv', 'isa', 'isbn', 'issue', 'italian', 'jeep', 'jet', 'jets', 'jose', 'july', 'just', 'k6927g', 'karta', 'kawasaki', 'kazedu', 'kazent', 'kbps', 'keeper', 'kia', 'kino', 'kiraye', 'kirayesi', 'kitap', 'kkal', 'klipmuzik', 'kn', 'knox', 'koderline', 'kopecks', 'korrespondent', 'krivoruky', 'kvadrat66', 'kz', 'küçəsi', 'la', 'lab', 'lalafo', 'lang', 'larry', 'laude', 'layer', 'leboard', 'leisure', 'lenho', 'lenta', 'li', 'librebook', 'libro', 'libtime', 'life', 'line', 'list', 'lit', 'liveinternet', 'livejournal', 'llc', 'lm', 'loading', 'local', 'localhost', 'localmart', 'lock', 'login', 'logo', 'love', 'lt', 'ltd', 'ludowa', 'lurkmore', 'lyna', 'm2bomber', 'm37', 'magiachisel', 'magna', 'mahal', 'mail', 'malware', 'man', 'map', 'mapda', 'marieclaire', 'marimea', 'marimile', 'marketin', 'martebe', 'masculine', 'mask', 'master', 'math100', 'mavlad', 'maxim', 'maxxus', 'mba', 'me', 'megadocs', 'megaslov', 'meloman', 'mendez', 'menzil', 'menziller', 'mercedes', 'merkezinin', 'metro', 'metrosu', 'min', 'miss', 'mitula', 'miytvideo', 'mmgp', 'mobaz', 'mobi', 'mobile', 'mod', 'models', 'modern', 'modimio', 'mogu', 'montezuma', 'moscow', 'moservice', 'move', 'moved', 'mp3', 'mp4', 'mtianswer', 'mtk', 'musplay', 'mussic', 'muzlo', 'muzmir', 'muzonoff', 'mysql', 'myzcloud', 'münze', 'münzen', 'n1', 'najm', 'namecheap', 'narodirossii', 'narule', 'nature', 'naydidom', 'ne', 'need', 'nepalstandart', 'nesterov', 'net', 'neuter', 'new', 'newcoin', 'newreferat', 'news', 'newtime', 'niki', 'no', 'nofollow', 'noiret', 'nominal', 'note', 'noun', 'nouns', 'novainfo', 'null', 'nur', 'nəsimi', 'octavia', 'odnoklassniki', 'odome', 'ogar', 'ogarproject', 'ok', 'olx', 'one', 'online', 'onprofi', 'onrealt', 'opennet', 'org', 'organic', 'oriental', 'otaq', 'otaqli', 'otdel', 'ozon', 'oгэ', 'p3d', 'page', 'pages', 'pandia', 'parfum', 'part', 'past', 'pc', 'pdf', 'pengesedler', 'pereno', 'perfume', 'permanently', 'petrona', 'pfr', 'php', 'picture', 'pictures', 'pinto', 'poland', 'polen', 'polska', 'population', 'portugal', 'postfix', 'powerhouse', 'pp', 'ppt', 'pptx', 'premier', 'prgtt74', 'price', 'private', 'pro', 'procmail', 'professional', 'progress', 'promportal', 'proxy', 'présentation', 'ps', 'pulsuz', 'puti', 'qazent', 'qiy', 'qiymeti', 'qrz', 'querydata', 'quest', 'r01', 'r1m', 'r22', 'radio', 'raim', 'rankw', 'rayonlarda', 'rayonu', 'razgadamus', 'rc', 're', 'readmanga', 'redirect', 'refy', 'regional', 'registered', 'remdiz', 'removal', 'repack', 'republic', 'republished', 'request', 'reshimne', 'respaso', 'right', 'roja', 'rojo', 'roomble', 'rozetka', 'rsl', 'rst', 'rtf', 'rtm', 'ru', 'ru09', 'rulit', 'rus', 'ruslanhasanov', 'russia', 'russianamerica', 'russianrealty', 'russianzoia', 'russiapost', 'rzeczpospolita', 'régionale', 'réunion', 's7', 'sabaqtar', 'samler', 'sammler', 'satilir', 'satqisi', 'satu', 'sau', 'sauza', 'sayti', 'scaleforum', 'scaturi', 'schematic', 'school', 'school1', 'schoolfile', 'scloud', 'scripts', 'scriti', 'search', 'sep', 'sephora', 'server', 'set', 'seven', 'sex', 'shellexecute', 'shestvuy', 'shop', 'shopper', 'shoppers', 'showcomment', 'shower', 'sibnovosti', 'sign', 'signs', 'silver', 'simmarket', 'simple', 'simplewine', 'sion', 'sirius', 'skelbimai', 'skelbiu', 'skidkaonline', 'skladnauki', 'sklonenie', 'skoda', 'skyship', 'slanet', 'slov', 'smart', 'smetarik', 'sms', 'sob', 'socio', 'soda', 'software', 'solution', 'sombrero', 'sorento', 'soundline', 'sov', 'spb', 'sports', 'sportwiki', 'sprax', 'sputnik', 'spymetric', 'spyware', 'sqrt', 'ssg', 'star', 'start', 'status', 'stich', 'strana', 'stream', 'streamporn', 'strelnikov', 'stud', 'studrb', 'study', 'su', 'subaction', 'suit', 'sunat', 'super', 'supermidical', 'support', 'surak', 'sweet211', 'syl', 'tac', 'tail', 'taker', 'tapilmadi', 'team', 'tech', 'technology', 'temirli', 'tenge', 'tequila', 'terdo', 'tez', 'there', 'thesis', 'thousand', 'throat', 'ticaret', 'tikili', 'tips', 'tiu', 'tochka', 'tomsk', 'top', 'topic', 'topnew', 'tour', 'travellers', 'tredje', 'tricks', 'tripadvisor', 'tube', 'tv', 'twitter', 'txt', 'tyrex', 'ucat', 'ucoin', 'ucrazy', 'ucuz', 'udacha', 'udpxy', 'uk', 'un', 'unable', 'unc', 'unlock', 'unvan', 'up', 'urban', 'usa', 'usedcar', 'ushare', 'ussr', 'uz', 'value', 'varvar', 'vavada', 'velotrek', 'vi', 'viad', 'video', 'view', 'vin', 'vin01', 'vindiesel', 'vinpin', 'vip', 'vipemlak', 'virtualcol', 'virus', 'vivino', 'vkontakte', 'volley', 'von', 'vsemsadik', 'w2', 'waa2', 'weather', 'webcity', 'webmoney', 'welcom', 'wen9', 'what', 'wiki', 'wikipedia', 'wikivisually', 'win', 'winamp', 'wind', 'windows', 'windy', 'wine', 'winestyle', 'winline', 'winrar', 'witson', 'woman', 'word', 'wordpress', 'world', 'www', 'xix', 'xx', 'xxi', 'xxl', 'xxx', 'yani', 'yanvar', 'yanvarda', 'yasamal', 'year', 'years', 'yeni', 'yoip', 'youdo', 'youtube', 'z1', 'zakon', 'zerkalo1xb', 'zf', 'zhauap', 'zk', 'zlot', 'zloty', 'zlotych', 'zoon', 'zvonili', 'zvooq', 'zvuk', 'zybleva', 'zərdabi', 'équipe', 'şəhəri', 'а39', 'абакан', 'абонентский', 'ава', 'авария', 'аверченков', 'авиа', 'авиабилет', 'авиакатастрофа', 'авиакомпания', 'авиалиния', 'авиарейс', 'авиатранспортный', 'авиация', 'ависимость', 'авито', 'авп', 'авто', 'автобус', 'автогражданский', 'автодорога', 'автокатастрофа', 'автоклуб', 'автомагнитола', 'автоматизированный', 'автоматический', 'автомобиль', 'автоновость', 'автор', 'автореферат', 'авторизация', 'авторынок', 'автосалон', 'автосервис', 'автотек', 'автотрасса', 'автошкола', 'агапов', 'агентство', 'аграрный', 'агрегат', 'агрегатор', 'агропромышленный', 'ада', 'административный', 'администратор', 'администрация', 'администрирование', 'адрес', 'аза', 'азарян', 'азбука', 'аймедик', 'айырмалық', 'академия', 'акпаев', 'акриловый', 'аксессуар', 'акт', 'активация', 'актобе', 'актуальный', 'акция', 'ала', 'алаа', 'алания', 'аласыздар', 'алгебра', 'александр', 'александра', 'александрович', 'александровна', 'алиэкспресс', 'алкоголь', 'алкогольный', 'аллея', 'алма', 'алмат', 'алматы', 'алматы1', 'алматыдан', 'алтай', 'алтайский', 'алфавит', 'алып', 'альманах', 'альт', 'альтернативный', 'альф', 'альянс', 'амалмен', 'американка', 'американский', 'амортизационный', 'амортизация', 'амур', 'ан', 'анализ', 'аналог', 'анастасий', 'английский', 'андроид', 'андросов', 'анекдот', 'анекс', 'анимация', 'аниқ', 'анна', 'антарктический', 'антикварный', 'антифриз', 'антропология', 'апеннинский', 'аппарат', 'аппаратный', 'аппликация', 'апрел', 'аптека', 'арабский', 'аралығындағы', 'аралықтағы', 'арбат', 'арбатский', 'аренда', 'армий', 'арналған', 'арнаған', 'аромат', 'ароматный', 'артериальный', 'артикулов', 'арттыр', 'арутюнов', 'архив', 'архитектура', 'арша', 'асель', 'аслаповский', 'асри', 'ассортимент', 'ассоциация', 'астан', 'астрахана', 'астролог', 'астрология', 'астрономия', 'асцендент', 'ата', 'атаман', 'атс', 'аудан', 'аудит', 'аукцион', 'аул', 'аулиеколь', 'ауыл', 'ауырлық', 'ауэзов', 'афанасьев', 'афиша', 'афон', 'афхд', 'ахборот', 'ашет', 'аэродром', 'аэропорт', 'ақпараттық', 'б161', 'бад', 'баз', 'база', 'базовый', 'байет', 'байтакович', 'бакалавр', 'бакировна', 'баку', 'балалармен', 'баланс', 'балибоев', 'балл', 'балхаш', 'банан', 'банк', 'банка', 'банкет', 'банкетный', 'банкида', 'банкнот', 'банкнота', 'банкротство', 'бані', 'баобаб', 'бар', 'баракча', 'баранович', 'барановичи', 'барановичская', 'барановичский', 'барга', 'барлық', 'барнаул', 'бастапқы', 'бастауыш', 'басты', 'башкирия', 'башкирский', 'башкортостан', 'башҡортостан', 'баять', 'бағалау', 'бағалауға', 'бағытта', 'бағыттар', 'бақылау', 'ббж', 'ббк', 'ббу', 'без', 'безграмотность', 'безопасность', 'безопасный', 'безруких', 'безупречный', 'безформат', 'бекеттің', 'бекитилген', 'бел', 'беларусь', 'белгород', 'белгородский', 'белорусь', 'белый', 'бельгия', 'бена', 'бенц', 'бер', 'березовск', 'березовский', 'бериниздерша', 'бериславско', 'берлин', 'бермей', 'берілген', 'берілгені', 'беседин', 'бесплатно', 'бесплатный', 'беспроцентный', 'бета', 'беттинг', 'бжд', 'библиогр', 'библиографический', 'библиотека', 'библиотечный', 'бигалиев', 'бизнес', 'бизнесмен', 'билайн', 'билан', 'билет', 'бим', 'биография', 'биология', 'биологиядан', 'биотехнология', 'бирга', 'биринч', 'бирлиг', 'бит', 'битва', 'битирув', 'биіктігі', 'биіктіктен', 'бк', 'благовещенск', 'благоприятный', 'благочиние', 'бланк', 'ближайший', 'ближний', 'близкий', 'блог', 'блогер', 'блогналог', 'блок', 'блондинка', 'блюдо', 'боевой', 'боец', 'бойовик', 'бойынш', 'боков', 'боковой', 'болеть', 'болотный', 'болотов', 'больная', 'больной', 'больший', 'большой', 'бона', 'бонистика', 'бонус', 'бонустар', 'боны', 'бориса', 'борисович', 'борьба', 'босар', 'босой', 'ботан', 'ботэ', 'боу', 'брак', 'брат', 'братство', 'бред', 'бригада', 'британії', 'бро', 'бронирование', 'броундық', 'брянск', 'бу', 'бугай', 'будет', 'будто', 'будут', 'будущее', 'будущий', 'будь', 'будьте', 'буйруғи', 'буква', 'букварь', 'буквенный', 'буквоед', 'букмекер', 'букмекерлiк', 'букмекерский', 'бульдозер', 'бульон', 'бумага', 'бунтовать', 'бурятия', 'бух', 'бухгалтер', 'бухгалтерия', 'бухгалтерский', 'бухгалтерський', 'бухгалтерів', 'бухонлайн', 'бухучет', 'бы', 'бык', 'был', 'была', 'быстродействие', 'быстрый', 'бытовой', 'быть', 'бьюти', 'бюджет', 'бюджетный', 'бюджетополучатель', 'білім', 'білімділер', 'бўлинмалари', 'бқо', 'бөлу', 'бөлім', 'бөлімі', 'ва', 'вавад', 'важный', 'ваза', 'вазирининг', 'вазирлиг', 'вак', 'вакансия', 'валюта', 'валютный', 'вам', 'ван', 'ванна', 'ванный', 'вантовый', 'варвара', 'вариант', 'варианта', 'варюхин', 'василиевич', 'ваш', 'вв', 'введение', 'введенский', 'вверх', 'ввс', 'вдв', 'вдд', 'веб', 'вега', 'ведомственный', 'везти', 'век', 'вековой', 'вектор', 'векторный', 'велеть', 'великий', 'великобритания', 'великій', 'величина', 'вентиляция', 'верить', 'вермишель', 'верность', 'вероника', 'вероятностный', 'вероятность', 'версия', 'вертодром', 'вертолетный', 'верхний', 'вершинин', 'вес', 'весна', 'вестись', 'вестум', 'вестфалия', 'весть', 'весь', 'ветеран', 'ветка', 'вечерний', 'вечный', 'вещий', 'вещь', 'взаимодействие', 'взаимозачет', 'взаимоотношения', 'взаимосвязь', 'взаимоувязка', 'взнос', 'вид', 'видео', 'видеозапись', 'видеонаблюдение', 'видеоурок', 'видов', 'визитный', 'вика', 'викизнание', 'википедия', 'викиучебник', 'виктор', 'вина', 'винамп', 'виневский', 'винмаркет', 'винный', 'вино', 'винотек', 'виртуальный', 'виски', 'виталия', 'витамин', 'витебск', 'витебский', 'витрина', 'витя', 'виф2', 'вкараок', 'включить', 'вконтакт', 'вкр', 'вкусный', 'владелец', 'владивосток', 'владимир', 'владимира', 'владимирович', 'власть', 'влететь', 'влияние', 'вместе', 'вна', 'внебюджетный', 'внедрение', 'внесудебный', 'внеурочный', 'внешний', 'внешность', 'внутри', 'во', 'вод', 'вода', 'водка', 'водный', 'водонагреватель', 'воды', 'военно', 'военный', 'возведение', 'воздух', 'воздушно', 'воздушный', 'возле', 'возможность', 'возможный', 'возникновение', 'возраст', 'воинский', 'война', 'войско', 'войсковой', 'войти', 'волга', 'волгоград', 'волгоградский', 'волгодонск', 'волковыск', 'волковыский', 'вологда', 'вологжан', 'волошебный', 'вольный', 'воов', 'вооруженный', 'вопрос', 'вопросительный', 'воронеж', 'воспитание', 'воспитатель', 'воспитательный', 'восстановление', 'восток', 'восточка', 'восточный', 'впорядок', 'впуск', 'врать', 'врач', 'вред', 'временить', 'временной', 'время', 'вронский', 'вручение', 'вручить', 'вс', 'все', 'всегда', 'всей', 'всем', 'всемирный', 'всему', 'всеобщий', 'всепесни', 'всероссийский', 'всех', 'вся', 'всякий', 'вторичка', 'вторичный', 'второе', 'второй', 'вуз', 'вулкан', 'вулканический', 'вход', 'вчера', 'вы', 'выбирать', 'выбор', 'выборг', 'выборгский', 'выборный', 'выбрать', 'выветривание', 'выглядеть', 'выгода', 'выгодный', 'выгрузить', 'выгрузка', 'выдать', 'выдача', 'выезд', 'вызов', 'вылет', 'вылетать', 'выписка', 'выплата', 'выполнить', 'выпускник', 'выражение', 'вырасти', 'вырезание', 'высокий', 'высота', 'выставка', 'высший', 'выход', 'выходной', 'вычет', 'вычислительный', 'вэд', 'гадышев', 'газ', 'газдың', 'газета', 'гаптельхаков', 'гарант', 'гарин', 'гатчин', 'гатчинский', 'гбоу', 'гбу', 'гв', 'гвардейский', 'гвоздев', 'гг', 'где', 'гдз', 'гевея', 'гелиос', 'географический', 'география', 'геологический', 'геология', 'геометрия', 'гера', 'германий', 'германия', 'героев', 'герой', 'гиа', 'гибдд', 'гибнуть', 'гигиенический', 'гид', 'гидросфера', 'гимназия', 'гипермаркет', 'гипертоник', 'гиф', 'гк', 'гкрф', 'гл', 'глава', 'главбух', 'главное', 'главный', 'глаз', 'гласная', 'глебов', 'гнойный', 'го', 'говорят', 'гоголевка', 'год', 'года', 'годов', 'годовой', 'гололед', 'голосование', 'голосовать', 'голубь', 'гоман', 'гонка', 'гореть', 'горный', 'горных', 'город', 'городработ', 'городской', 'гороскоп', 'горький', 'горячее', 'горячий', 'гос', 'госбанк', 'госномер', 'гост', 'гостиница', 'гостиничный', 'гостить', 'гость', 'государственный', 'готов', 'готовиться', 'готовый', 'гражданин', 'гражданский', 'грамм', 'грамматика', 'граница', 'график', 'графический', 'грибной', 'грифон', 'грм', 'грозить', 'грозный', 'грош', 'грудка', 'грузовой', 'грузоподъемность', 'группа', 'групповой', 'гсвг', 'гудермес', 'гудермесский', 'гулять', 'гумер', 'гумеров', 'гурт', 'гусь', 'гущин', 'да', 'давление', 'дагестан', 'дайындал', 'дайындық', 'далее', 'далматин', 'далматинец', 'дана', 'данный', 'даптер', 'дарында', 'дата', 'дау', 'даярлауда', 'два', 'дважды', 'дверь', 'движение', 'двое', 'двоечка', 'двоих', 'двор', 'дворцов', 'двухкомнатный', 'двухсотлетний', 'двучлен', 'де', 'деагостини', 'девушка', 'девять', 'действие', 'действительно', 'действовать', 'действующий', 'дейін', 'дейінгі', 'декабрь', 'декодер', 'делать', 'делитель', 'делиться', 'дело', 'делов', 'деловой', 'дембель', 'демо', 'ден', 'денежный', 'денелердің', 'дениса', 'день', 'деньги', 'департамент', 'депутат', 'дергаться', 'деревня', 'десантник', 'десантный', 'десантур', 'десцендент', 'десятка', 'десять', 'деталь', 'детская', 'детский', 'детство', 'деть', 'дефектоскоп', 'дефис', 'дефисный', 'дешевый', 'дешевых', 'деятельность', 'джина', 'джип', 'джозеф', 'дзен', 'диагностик', 'диагностический', 'диаметр', 'диастолическое', 'дивизия', 'дидактика', 'диета', 'диетический', 'дизайн', 'дилер', 'дилерский', 'дина', 'динамический', 'динамо', 'диплом', 'дипломный', 'директор', 'диск', 'диссертация', 'дисциплина', 'диффузия', 'дичь', 'длина', 'длинный', 'длительный', 'для', 'дмитрий', 'дмитрия', 'дневник', 'дневничок', 'до', 'добавить', 'добраться', 'доброхот', 'добрых', 'договор', 'договорной', 'дождь', 'доклад', 'доктор', 'документ', 'документальный', 'документация', 'долг', 'долгота', 'должен', 'должностной', 'долой', 'дом', 'домашний', 'домашних', 'домен', 'домодедово', 'домология', 'домоскоп', 'дон', 'доп', 'допустимый', 'дорога', 'дорогой', 'дорожный', 'доска', 'доставка', 'досталь', 'доступ', 'досудебный', 'дофига', 'доход', 'дошкольник', 'дошкольный', 'дпва', 'дпс', 'др', 'драгомилов', 'дрофа', 'другой', 'дт', 'дтп', 'дума', 'дурной', 'дух', 'душевный', 'дши', 'дэ', 'дүние', 'дүниежүзі', 'дәптер', 'дәптері', 'еврейский', 'еврит', 'евро', 'евроопт', 'европа', 'европейский', 'евросеть', 'египет', 'его', 'егрип', 'егрюл', 'егэ', 'егіндікөл', 'еда', 'единица', 'единый', 'едукон', 'еді', 'ее', 'ежегодно', 'ежедневный', 'ежеквартальный', 'екатерина', 'екатеринбург', 'екі', 'елисеев', 'емтихан', 'ему', 'ента', 'енғиндан', 'енғинларнинг', 'ердамид', 'ерте', 'есеп', 'есептер', 'есептерді', 'есептері', 'есептерін', 'есептеу', 'есилбаевна', 'если', 'есть', 'еще', 'жалп', 'жаманшұбар', 'жан', 'жанааркинский', 'жанбулатов', 'жандандырылған', 'жанр', 'жаркент', 'жауап', 'жауаптар', 'жауаптарымен', 'жауаптарын', 'жақыпова', 'жаңа', 'жаңартылған', 'жбк', 'жд', 'жданов', 'ждать', 'желательный', 'железнодорожный', 'желированный', 'женка', 'женский', 'женщина', 'жертва', 'жетысу', 'жж', 'животное', 'животный', 'животных', 'жизнь', 'жила', 'жилищно', 'жилищный', 'жилье', 'жинагы', 'жинағы', 'жирный', 'жирок', 'житель', 'жиынтығы', 'жиынтық', 'жк', 'жкх', 'жоббм', 'жобо', 'жогорка', 'жолд', 'жолдар', 'жоспар', 'жумуш', 'жумыс', 'журнал', 'журналка', 'журнальный', 'жылдын', 'жылдық', 'жылу', 'жылулық', 'жылуы', 'жылы', 'жылын', 'жүзі', 'жүйесіндегі', 'жүргүзүү', 'жұмыс', 'жұмыстар', 'жұмыстары', 'жұмысы', 'және', 'жөлөкпулдарды', 'жөнүндө', 'з81', 'за', 'забавник', 'забавно', 'заблокировать', 'забоня', 'забота', 'заведение', 'зависеть', 'зависимость', 'зависнуть', 'загадочный', 'загрузить', 'загрузка', 'загрязнение', 'задание', 'задать', 'задача', 'задействовать', 'задний', 'задолженность', 'заем', 'заемный', 'зазор', 'зайцев', 'заказ', 'заказать', 'заключение', 'закон', 'законодательство', 'законпрост', 'закончиться', 'закреплять', 'закрытый', 'закрыть', 'закуска', 'залог', 'замена', 'замер', 'заметка', 'занимательный', 'занятие', 'занятой', 'занятость', 'заочный', 'запад', 'западный', 'записаться', 'записка', 'запись', 'заполнить', 'заполняться', 'заправка', 'запчасть', 'заработок', 'зарегистрировать', 'зарина', 'зарплата', 'зарубежный', 'заряд', 'заслуга', 'застройщик', 'заттың', 'затяжка', 'заходить', 'зачем', 'защита', 'звезда', 'звездный', 'звонить', 'звонок', 'звуковой', 'звучать', 'здание', 'здесь', 'здоровый', 'здоровье', 'земля', 'земной', 'зенит', 'зеркало', 'зертханалық', 'зко', 'злотый', 'змиев', 'знак', 'знакекозерог', 'знаменитость', 'знание', 'знать', 'значение', 'значительный', 'значить', 'зодиак', 'зодиакальный', 'золотистый', 'золотой', 'зона', 'зоопсихология', 'зоя', 'зуп', 'ибтидои', 'иванович', 'ивантер', 'иврик', 'иврит', 'ивритский', 'иголка', 'игра', 'игровой', 'идеальный', 'идея', 'идти', 'из', 'известнейший', 'извлекать', 'извлечение', 'изготовление', 'изд', 'издание', 'издательство', 'изделие', 'изменение', 'изменить', 'измениться', 'измерение', 'изо', 'изобразительный', 'изодеятельность', 'изоляция', 'израиль', 'израильский', 'изучать', 'изучение', 'изучить', 'икс', 'ил', 'или', 'иля', 'им', 'иманбаев', 'иметь', 'имитационный', 'император', 'императрица', 'империя', 'имущественный', 'имущество', 'имя', 'инвентарь', 'инвестирование', 'ингредиент', 'индекс', 'индивидуал', 'индивидуальный', 'индийский', 'индикатор', 'индия', 'индостан', 'индуктивті', 'инженер', 'инженерный', 'инициализация', 'инна', 'инновационный', 'инновация', 'иномарка', 'иностранный', 'инстаграм', 'институт', 'инструкция', 'инструмент', 'интеллект', 'интеллектуальный', 'интерактивный', 'интервал', 'интересный', 'интернат', 'интернет', 'интерьер', 'интерюниона', 'инфоброкер', 'информатизация', 'информатика', 'информационно', 'информационный', 'информация', 'инфостарт', 'инфотех', 'ип', 'ипкипк', 'ипкиппк', 'ипотека', 'ипс', 'иркутск', 'искатель', 'искать', 'исключительный', 'искусство', 'ислам', 'исполнение', 'исполнитель', 'использование', 'использовать', 'испытание', 'исследование', 'исследовательский', 'истечь', 'историк', 'история', 'источник', 'исчисляться', 'итальянский', 'итоговый', 'итс', 'их', 'ички', 'иш', 'ишга', 'ишлар', 'июль', 'июнундагы', 'июнь', 'йил', 'йотированный', 'ка', 'кабачок', 'кабинет', 'кагаздарын', 'кадров', 'кадровый', 'кадры', 'каждый', 'каз', 'казань', 'казахский', 'казахстан', 'казахстанский', 'казачий', 'казино', 'казнь', 'кайрылуу', 'как', 'какать', 'каков', 'какой', 'календарный', 'календарь', 'калинин', 'калинівські', 'калифорний', 'калорийность', 'калория', 'калужский', 'калькулятор', 'кам', 'каменных', 'каменск', 'камера', 'камчатка', 'камчатский', 'канал', 'канцтовары', 'капитал', 'капран', 'караганда', 'карагандинский', 'карантин', 'караок', 'карачаево', 'кардио', 'кардиолог', 'карима', 'карт', 'картин', 'картинка', 'карточка', 'картошка', 'карьерный', 'касб', 'каскад', 'каско', 'каслинский', 'касса', 'кассовый', 'каталог', 'катастрофа', 'категория', 'катков', 'католический', 'кафе', 'качественный', 'качество', 'каширин', 'кбжу', 'квадрат', 'квадратный', 'квалификационный', 'квартал', 'квартира', 'квеста', 'квитанция', 'кг', 'кго', 'кдк', 'кдц', 'кедергі', 'кез', 'кейс', 'келген', 'келетін', 'кемерово', 'кемпбелл', 'кенеш', 'керек', 'кета', 'кеңеши', 'кеңештер', 'кеңсесiнiң', 'киберленинка', 'киберпедия', 'киберфорум', 'киви', 'кикоть', 'килограмм', 'килясханов', 'кингисепп', 'кинокомпания', 'кинопоиск', 'кирей', 'киров', 'кировский', 'кисловодск', 'кислый', 'китай', 'китайский', 'ккал', 'кладовка', 'клайв', 'клапан', 'класс', 'классификатор', 'классификация', 'классный', 'клерк', 'клиент', 'клиетны', 'клиника', 'клип', 'клуб', 'клубов', 'ключ', 'км', 'кмм', 'книга', 'книжный', 'ковер', 'когда', 'кого', 'код', 'кода', 'кодекс', 'кодорниз', 'кожа', 'козерог', 'колдонулбайт', 'колесник', 'колесо', 'количественный', 'количество', 'коллега', 'коллективный', 'коллекционер', 'коллекционирование', 'коллекционный', 'коллекция', 'колокольчик', 'колонка', 'комбинаторика', 'комбинаторный', 'комбинировать', 'комедії', 'коми', 'комикс', 'комитет', 'коммент', 'комментарий', 'коммерсантъ', 'коммерческий', 'коммунальный', 'коммуникация', 'комнатный', 'компания', 'компетенция', 'комплекс', 'комплект', 'компрессор', 'компьютер', 'компьютерный', 'комсомольск', 'комсомольский', 'кому', 'кондиционер', 'конец', 'конин', 'конкретно', 'конкретный', 'конкурентный', 'коннект', 'кононов', 'конрос', 'консалтинг', 'конспект', 'конституционный', 'конституция', 'конструктор', 'консультант', 'консультантплюс', 'консультация', 'контакт', 'контактный', 'контент', 'континенталь', 'контора', 'контрагент', 'контроль', 'контрольный', 'контур', 'конференция', 'конфигуратор', 'конфигурация', 'конфликт', 'конфликтологии', 'конфликтология', 'концептуальный', 'концепция', 'кончить', 'кооперативный', 'координата', 'координационный', 'копа', 'копейка', 'копейск', 'копейский', 'копилочка', 'кор', 'кордиант', 'корейски', 'корейский', 'корень', 'кореянка', 'корзинка', 'корней', 'корова', 'корп', 'корпоративный', 'корпорация', 'коррекционный', 'коршун', 'косметика', 'космос', 'костанай', 'костанайский', 'кот', 'которое', 'которой', 'которые', 'который', 'которым', 'кофе', 'кочагин', 'кошка', 'кпп', 'краев', 'краеведческий', 'краевой', 'край', 'красивый', 'краска', 'красная', 'красногвардейский', 'краснодар', 'краснодарский', 'краснознаменный', 'красноярск', 'красноярский', 'красный', 'красота', 'краткий', 'креативный', 'кредит', 'крепление', 'крестовый', 'крестьянский', 'кризис', 'криминал', 'кристиана', 'критерий', 'круг', 'кружка', 'крупнейший', 'крупный', 'крыло', 'крым', 'крыша', 'ксп', 'кто', 'ктогдеесть', 'куб', 'кубический', 'кубометр', 'кудаградусник', 'кудес', 'кулаевское', 'кулинария', 'кулинарный', 'культура', 'культурно', 'культурный', 'культурология', 'купить', 'купон', 'кура', 'курин', 'куриный', 'курорт', 'курс', 'курсант', 'курсов', 'курсовик', 'курсовой', 'курсотек', 'курстық', 'курьер', 'курьерский', 'кустанай', 'кутузов', 'кухня', 'кыргыз', 'кыргызский', 'кыргызстан', 'кыргызта', 'кэмпбелл', 'кювет', 'кювета', 'кітапшалары', 'кіші', 'күн', 'күнүмдүк', 'күшінің', 'көлемі', 'лабиринт', 'лабораторный', 'лавка', 'лагна', 'лад', 'ламинат', 'ландшафт', 'ларри', 'лауд', 'лауда', 'лаэрт', 'лебедев', 'лебедь', 'лев', 'леви', 'легасофт', 'легенда', 'легендарный', 'легков', 'леда', 'лежать', 'лекарcтв', 'лекарс', 'лекарственный', 'лекарство', 'лекция', 'ленгородок', 'ленина', 'ленинград', 'ленинградский', 'ленный', 'ленобласть', 'лента', 'лермонтов', 'леруа', 'лесной', 'лесных', 'лет', 'летать', 'летие', 'летний', 'летчик', 'лечение', 'лечить', 'ли', 'лидер', 'ликвидация', 'линн', 'липецк', 'лира', 'лиса', 'литература', 'литературный', 'литмир', 'лицензия', 'лицо', 'личной', 'личный', 'лишний', 'лобовой', 'логистика', 'логистический', 'логотип', 'ложка', 'ложь', 'локальный', 'лола', 'ломбард', 'лонгрид', 'лось', 'лот', 'лошадь', 'лпх', 'лун', 'луна', 'луначарский', 'лунный', 'лучше', 'лучший', 'льгота', 'любим', 'любить', 'любовник', 'любовь', 'любопытный', 'люкс', 'м3', 'мatheasy', 'ма', 'маам', 'маб', 'магазин', 'магистрат', 'магистратура', 'магический', 'магматический', 'магнитола', 'магнум', 'мадагаскар', 'май', 'майбутніх', 'майкрософт', 'майский', 'макроэкономика', 'максим', 'максимальный', 'максимо', 'максион', 'малакавие', 'малое', 'малый', 'мама', 'мамандығы', 'мамлекеттик', 'мамочка', 'манга', 'мангышлак', 'манипулирование', 'мария', 'марказ', 'марказие', 'маркет', 'маркетплейс', 'марковский', 'марта', 'маршрут', 'маршрутка', 'маршрутный', 'масло', 'масса', 'массас', 'мастер', 'мастерский', 'мастерсофт', 'мастерство', 'масштаб', 'масштабный', 'мат', 'математик', 'математика', 'математикалық', 'математический', 'материал', 'материальный', 'материнский', 'матрас', 'матрица', 'махать', 'махсус', 'маш', 'машин', 'машино', 'машиностроение', 'машқлар', 'маъсумӣ', 'мая', 'мағынасын', 'мақсаты', 'мбоу', 'мвд', 'мга', 'мгсу', 'мдк', 'мдоу', 'мебель', 'мебельщик', 'мегагринн', 'мегалекция', 'мегаобучалка', 'мегаскидка', 'медаль', 'медиа', 'медиатор', 'медиаторский', 'медиаторство', 'медиация', 'медицинский', 'медный', 'между', 'международный', 'межевание', 'межевой', 'межличностный', 'мексиканский', 'мектебі', 'мектебінің', 'мектептер', 'мелодр', 'мелодрама', 'мельников', 'мемлекеттер', 'мена', 'мендес', 'мендеш', 'мендиш', 'менеджер', 'менеджмент', 'менен', 'меншікті', 'мень', 'мера', 'меридиан', 'мерлен', 'мероприятие', 'мерседес', 'мертвый', 'местный', 'место', 'местоположение', 'месяц', 'месяцеслов', 'металдың', 'металл', 'металлический', 'метель', 'метод', 'метода', 'методика', 'методический', 'методичка', 'методологический', 'методология', 'метр', 'метро', 'механизм', 'механик', 'мешок', 'ми', 'мид', 'микрорайон', 'миллион', 'минаев', 'минерал', 'минимум', 'министерство', 'минорка', 'минск', 'минус', 'минусовка', 'минута', 'минуть', 'мир', 'мире3', 'мирквартира', 'мировой', 'мирон', 'миссия', 'мистик', 'мистический', 'миф', 'михаил', 'михайлович', 'михайловский', 'мкр', 'мл', 'младший', 'ммд', 'мне', 'мнение', 'мнимость', 'многий', 'многое', 'многопользовталеьский', 'многосерийный', 'множество', 'множитель', 'мо', 'мобильный', 'могила', 'могу', 'мод', 'моделирование', 'моделист', 'модель', 'модулировать', 'модуль', 'модульный', 'моем', 'можно', 'мозг', 'мозырь', 'мои', 'мой', 'молекулаларының', 'молитва', 'молодая', 'молодой', 'молодость', 'молоко', 'момент', 'монастырь', 'монах', 'монета', 'мониторинг', 'мономиф', 'мордовия', 'море', 'морской', 'москва', 'московский', 'моу', 'моя', 'мп', 'мсу', 'мтз', 'мтс', 'му', 'мужество', 'мужской', 'мужчина', 'музей', 'музейный', 'музыка', 'музыкальный', 'мультимедиа', 'мультипотоков', 'муниципальный', 'муп', 'муринский', 'мустая', 'мухтар', 'мф', 'мфк', 'мфц', 'мчс', 'мы', 'мысль', 'мясницкий', 'мясной', 'мясо', 'мясопродукт', 'мятлево', 'мүсірепов', 'мұнда', 'мұғалімі', 'мәдхалықова', 'мәтін', 'мөлшері', 'мөлшерін', 'на', 'набережных', 'наблюдатель', 'наблюдение', 'набор', 'наборный', 'навигатор', 'навигация', 'навык', 'нагиметов', 'награда', 'над', 'наделение', 'надо', 'надон', 'название', 'названый', 'назвать', 'наземный', 'назипович', 'назначение', 'наиболее', 'наименование', 'найден', 'найденыш', 'найти', 'наклейка', 'накопление', 'наличие', 'наличный', 'налог', 'налоговый', 'налогообложение', 'написание', 'напиток', 'напомнить', 'направить', 'направление', 'направленность', 'напряженность', 'нарва', 'наркологиялық', 'народный', 'нас', 'население', 'наследование', 'настоящее', 'настраивать', 'настроение', 'настроить', 'настройка', 'наступление', 'натальный', 'натуральный', 'наука', 'научно', 'научный', 'находиться', 'национальный', 'начало', 'начальник', 'начальный', 'начать', 'начинать', 'начинаться', 'начисление', 'начисляться', 'наша', 'нашего', 'нг', 'нгс24', 'ндфл', 'не', 'неботан', 'невский', 'негаз', 'негативный', 'неграмотность', 'негізгі', 'недвижимость', 'неделя', 'недорогой', 'недрагоценный', 'ней', 'нейтральный', 'некоторые', 'некоторый', 'нельзя', 'нем', 'немецкий', 'немного', 'ненависть', 'необходимо', 'необходимый', 'непогода', 'непредпринимательский', 'непрерывный', 'непродлеваться', 'непроизводственный', 'нерабочий', 'нерыбный', 'несколько', 'нет', 'нижегородок', 'нижнетагильский', 'нижний', 'низ', 'низка', 'низкий', 'ника', 'николай', 'никулин', 'ними', 'ниу', 'ниша', 'нк', 'нко', 'ноанъанавие', 'новгород', 'новейший', 'новини', 'новинка', 'новичок', 'нововведение', 'новое', 'новокузнецк', 'новолуние', 'новомосковский', 'новосел', 'новосибирск', 'новосибирский', 'новостройка', 'новость', 'новочеркасск', 'новшество', 'новый', 'ножницы', 'номер', 'номинал', 'норма', 'нормализация', 'нормативно', 'нормативный', 'нотариус', 'ноу', 'ноутбук', 'ночь', 'ноябрь', 'нпа', 'нс', 'нужный', 'нумизмат', 'нумизматика', 'нумизматический', 'нур', 'нуска', 'ның', 'нюанс', 'нің', 'нұ', 'нұсқа', 'нұсқалар', 'нұсқалары', 'нұсқаларының', 'оазис', 'об', 'обеспечение', 'обеспеченность', 'обеспечивать', 'обзор', 'обл', 'обладатель', 'облако', 'областной', 'область', 'облачный', 'облысы', 'обмен', 'обновление', 'обновленка', 'обновлять', 'обо', 'обобщение', 'обозначать', 'обозначение', 'обозреватель', 'обозрение', 'оборудование', 'обосновать', 'обособленный', 'обработка', 'образец', 'образование', 'образовательный', 'обратно', 'обращение', 'обрезание', 'обследование', 'обслуживание', 'обслуживать', 'обстановка', 'обсуждение', 'обустройство', 'обучать', 'обучаться', 'обучение', 'общеобразовательный', 'общепит', 'общеразвивать', 'общественный', 'общество', 'общий', 'объединение', 'объект', 'объем', 'объемный', 'объявление', 'объяснение', 'обьект', 'обязанность', 'овощ', 'овощной', 'овэ', 'ограниченный', 'огрн', 'огэ', 'одежда', 'одельный', 'один', 'однкнр', 'одно', 'одного', 'одной', 'однокомнатный', 'одном', 'однородный', 'однушка', 'ожсб', 'озерко', 'ок', 'оказаться', 'оканчиваться', 'оквэд', 'окдп', 'окей', 'окно', 'около', 'окоф', 'окпо', 'окр', 'округ', 'округа', 'окружать', 'окружающий', 'оксимирон', 'октябрь', 'октябрьский', 'олардың', 'олимпиада', 'олимпиадный', 'олимпийский', 'олинган', 'олия', 'ом', 'омск', 'омский', 'онлайн', 'ономатологии', 'ооо', 'опасность', 'оперативный', 'оператор', 'операция', 'описание', 'описываться', 'оплата', 'определение', 'определить', 'определять', 'оприходовать', 'опт', 'оптимальный', 'оптимизация', 'опубликовать', 'опыт', 'орало', 'орган', 'организационно', 'организационный', 'организация', 'организовать', 'органов', 'органогенный', 'орден', 'орденов', 'орджоникидзе', 'оренбургский', 'орехов', 'оригинал', 'оригинальный', 'ориентированный', 'орта', 'орталық', 'оса', 'осаго', 'осадочный', 'освободиться', 'освоение', 'осетия', 'осложнение', 'осмысление', 'оснастить', 'основа', 'основной', 'особенность', 'оставаться', 'остановка', 'осторожно', 'остров', 'острых', 'осуществление', 'от', 'отв', 'ответ', 'ответственность', 'отдел', 'отделение', 'отделка', 'отдельный', 'отдых', 'отдыхать', 'отел', 'отелить', 'отель', 'отечественный', 'отзыв', 'отинееем', 'отказать', 'отклонение', 'открытие', 'открытка', 'открытый', 'открыть', 'откуда', 'отличие', 'отличительный', 'отличный', 'отметить', 'отмечать', 'отмечаться', 'отнести', 'относиться', 'отношение', 'отправка', 'отпраздновать', 'отражение', 'отразить', 'отрасль', 'отрицательный', 'отслеживать', 'отход', 'отчет', 'отчетность', 'отынның', 'офис', 'официальный', 'оформить', 'оформление', 'офпс', 'охарактеризовать', 'охота', 'охрана', 'оценка', 'очень', 'очередной', 'ошибка', 'оштрафовать', 'оқу', 'оқулық', 'оқушыларының', 'оқушымен', 'павел', 'павловск', 'павлодар', 'падеж', 'палата', 'памятник', 'памятный', 'память', 'панченко', 'панінен', 'параграф', 'параллель', 'парковочный', 'паркфлаер', 'парламент', 'пароль', 'партнерский', 'парусник', 'парфюм', 'парфюмерия', 'парфюмерный', 'паспорт', 'пассажирский', 'пасха', 'патриот', 'паттайя', 'пауза', 'пво', 'певица', 'пегас', 'педагог', 'педагогика', 'педагогический', 'пекарский', 'пензенский', 'пенсионер', 'пенсионный', 'первое', 'первоуральск', 'первый', 'перебор', 'перевернуться', 'перевести', 'перевод', 'переводчик', 'переговоры', 'передел', 'передний', 'передовой', 'переехать', 'переиздание', 'перелет', 'перемещение', 'перенос', 'перераб', 'переработка', 'пересечение', 'переть', 'переулок', 'переход', 'переходной', 'перечень', 'период', 'периодичность', 'пермский', 'пермь', 'персонал', 'персональный', 'перспектива', 'перспективный', 'перцептивный', 'песнь', 'песня', 'песок', 'пестрец', 'пестречинский', 'петербург', 'петра', 'петропавловск', 'петя', 'печатный', 'печать', 'печень', 'пиво', 'пилецкий', 'пинта', 'пинто', 'писаться', 'питание', 'пищев', 'пищевой', 'план', 'планет', 'планирование', 'планировка', 'плановый', 'платеж', 'платежный', 'платформа', 'плейлист', 'плитка', 'плод', 'плоскогорье', 'площадка', 'площадь', 'плюс', 'пм', 'пм02', 'пмд', 'пн', 'по', 'побег', 'победа', 'побрать', 'поведение', 'повреждение', 'повышение', 'погашение', 'погибнуть', 'погода', 'погрузчик', 'под', 'подача', 'подбор', 'подбора', 'подборка', 'подготвка', 'подготовительный', 'подготовить', 'подготовиться', 'подготовка', 'поддержать', 'поддержка', 'поддиаметр', 'поделка', 'подержанный', 'подключить', 'подмосковье', 'поднять', 'подобный', 'подобрать', 'подписать', 'подписчик', 'подробность', 'подробный', 'подсистема', 'подсобный', 'подсосенский', 'подстановка', 'подход', 'поезд', 'поездов', 'пожалуйста', 'пожарный', 'позволить', 'позвонить', 'познание', 'поиск', 'поисковый', 'показатель', 'показательный', 'поколение', 'покончить', 'покров', 'покупатель', 'покупать', 'покупка', 'пол', 'пола', 'поле', 'полежаев', 'полезный', 'поликлиника', 'полис', 'политехнический', 'политика', 'полицейский', 'полк', 'полнолуние', 'полномочие', 'полностью', 'полный', 'половина', 'положение', 'положительный', 'полоса', 'полоцк', 'полуостров', 'полуфабрикат', 'получение', 'получить', 'полыхать', 'поль', 'польза', 'пользователь', 'пользовательский', 'польский', 'польша', 'помещение', 'помочь', 'помощник', 'помощь', 'понятие', 'понятийный', 'попадание', 'попасть', 'популярный', 'порода', 'портал', 'португалия', 'поручение', 'порция', 'порядок', 'посадочный', 'посвятить', 'поселение', 'поселок', 'посетитель', 'посещаемость', 'посещение', 'последний', 'последовательность', 'последовательный', 'последствие', 'последующий', 'посмотреть', 'пособие', 'посол', 'посредник', 'посредство', 'пост', 'постановление', 'постель', 'постный', 'постоянный', 'пострадавший', 'построить', 'поступление', 'посуда', 'потенциал', 'потенциальный', 'потеря', 'поток', 'потребительский', 'потрясать', 'поурочный', 'похождение', 'похожий', 'почва', 'почвенный', 'почвообразование', 'почвообразующий', 'почему', 'почесть', 'почта', 'почтовый', 'пошаговый', 'поэт', 'поэтапно', 'поэтапный', 'появление', 'пп', 'пр', 'правда', 'правило', 'правильный', 'правительство', 'править', 'правление', 'право', 'правовой', 'правописание', 'православный', 'правосудие', 'правый', 'праздник', 'праздничный', 'праздничных', 'празднование', 'празник', 'практик', 'практика', 'практикалық', 'практиковать', 'практикум', 'практический', 'предел', 'предисловие', 'предложение', 'предложить', 'предмет', 'предметный', 'предназначение', 'предопределение', 'предоставление', 'предпочесть', 'предпразничные', 'предприниматель', 'предпринимательский', 'предпринимательство', 'предприятие', 'представительный', 'представить', 'предъявлять', 'предыдущий', 'презентациин', 'презентация', 'президент', 'президиум', 'преимущество', 'прейскурант', 'премьер', 'преодоление', 'преподавание', 'при', 'прибалтика', 'прибор', 'прибывание', 'прибыль', 'привал', 'приватизация', 'приведение', 'привести', 'приводиться', 'привязать', 'пригород', 'приготовление', 'придача', 'придорожный', 'прием', 'приз', 'признак', 'признание', 'приказ', 'прикладной', 'прикол', 'прилагательный', 'приложение', 'применение', 'пример', 'примереть', 'примета', 'приморский', 'принадлежать', 'принадлежность', 'принуждение', 'принцип', 'принятие', 'приобрести', 'природа', 'природный', 'приставка', 'причастие', 'причин', 'приятный', 'про', 'пробег', 'пробить', 'проблема', 'пробник', 'пробный', 'провайдер', 'проведение', 'проверенный', 'проверить', 'проверка', 'провести', 'проводка', 'проводник', 'провокация', 'прогноз', 'прогнозирование', 'программа', 'программирование', 'программист', 'программный', 'прогресс', 'прогулка', 'продавать', 'продаваться', 'продавец', 'продажа', 'продать', 'продвигать', 'продвижение', 'продолжение', 'продукт', 'продукция', 'проезд', 'проект', 'проектирование', 'проектно', 'проектный', 'проживание', 'проиграть', 'проигрыватель', 'производитель', 'производственный', 'производство', 'произнести', 'произношение', 'произойти', 'происхождение', 'происшествие', 'пройти', 'прокрутить', 'пролог', 'проложить', 'промокод', 'промоутер', 'промышленный', 'прописка', 'просмотр', 'проспект', 'простейший', 'просто', 'просчет', 'просьба', 'против', 'противопоказание', 'противоположный', 'противоречие', 'прототип', 'проф', 'профессионал', 'профессиональный', 'професійної', 'профи', 'процедура', 'процент', 'процесс', 'процессрегулироваться', 'прочий', 'прошивка', 'проявление', 'пруд', 'прямая', 'прямо', 'прямой', 'психика', 'психический', 'психология', 'пт', 'птица', 'пуассоновский', 'публичный', 'пульс', 'пустынь', 'путевка', 'путеводитель', 'путешествие', 'путин', 'путь', 'пфр', 'пч', 'пчела', 'пытаться', 'пятигорский', 'пятница', 'пятый', 'пять', 'підготовка', 'підприємство', 'пўлатов', 'пән', 'пәні', 'пәнінен', 'работа', 'работать', 'работник', 'работодатель', 'рабочий', 'равнина', 'равномерно', 'радио', 'радиостанция', 'раз', 'разбираться', 'разбиться', 'разбор', 'развал', 'развернуть', 'развивать', 'развитие', 'развлекательный', 'развязка', 'разгар', 'разговорник', 'разговорный', 'раздать', 'раздел', 'разделить', 'раздельный', 'раздеть', 'различный', 'размер', 'размещение', 'разница', 'разновидность', 'разность', 'разный', 'разработка', 'разработчик', 'разрешение', 'разрешить', 'разрушение', 'разъяснить', 'раисининг', 'район', 'рак', 'ракетный', 'рамблер', 'рана', 'ранговый', 'ранее', 'раненый', 'ранний', 'рарус', 'раскаяние', 'раскраска', 'раскрутить', 'раскрутка', 'распечатать', 'расписание', 'расписать', 'расположение', 'распорядитель', 'распред', 'распродажа', 'распространенный', 'рассказать', 'рассмотрение', 'рассрочка', 'расстояние', 'рассуждение', 'расчет', 'расчетный', 'расширение', 'расширенный', 'расшифровать', 'расшифровка', 'рафкат', 'рб', 'рбк', 'рвсн', 'рд', 'реализация', 'реальный', 'ребенок', 'регион', 'региональный', 'регистрация', 'регламентация', 'регламентировать', 'регулирование', 'регулировать', 'ред', 'редактор', 'редакция', 'редаций', 'редкий', 'редкло', 'реестр', 'реестринформ', 'режим', 'резиденция', 'резин', 'результат', 'рейвен', 'рейна', 'рейс', 'рейтинг', 'реквизит', 'рекламный', 'рекомендация', 'рекомендовать', 'ректификация', 'религиозный', 'релиз', 'рельеф', 'ремень', 'ремонт', 'ремонтный', 'рен', 'репортаж', 'рерєре', 'рес', 'ресми', 'респ', 'республика', 'республикалық', 'республиканский', 'республикаси', 'республикасининг', 'республикасынын', 'ресторан', 'ресторанный', 'ресурс', 'ресурстық', 'ресџ', 'реферат', 'рефераттар', 'референт', 'реформа', 'реформал', 'рецензия', 'рецепт', 'рецептура', 'речка', 'речь', 'решебка', 'решебник', 'решение', 'решить', 'рз', 'риа', 'рингтон', 'риск', 'рк', 'рказие', 'ркка', 'рм', 'ро', 'ровена', 'рогожин', 'родин', 'родитель', 'родить', 'родиться', 'родной', 'рождение', 'рождественский', 'розница', 'розничный', 'розыгрыш', 'рок', 'роль', 'рома', 'романа', 'роспотребнадзор', 'росриэлт', 'россериал', 'российский', 'россия', 'россиянин', 'россиянка', 'рост', 'ростов', 'ростовский', 'рсфср', 'рт', 'ру', 'руб', 'рубеж', 'рубленый', 'рубль', 'рубрикатор', 'рубчатый', 'рудный', 'руйхатга', 'рука', 'руководство', 'руль', 'русс', 'русская', 'русский', 'русско', 'ручкин', 'ручной', 'рф', 'ры', 'рыба', 'рыбный', 'рынок', 'рыночный', 'ряд', 'рядом', 'рязань', 'рѕ', 'рѕр', 'рѕрер', 'рѕрерє', 'рѕрѕрес', 'рѕріресџ', 'рѕсѓр', 'рірес', 'рірѕс', 'рїсѓрес', 'рўйхатга', 'рўрер', 'рўрїсђр', 'рўс', 'рџсѓрес', 'рґрере', 'сабағы', 'сабағында', 'сабақ', 'сабаққа', 'саволингиз', 'сад', 'садик', 'саит', 'сайт', 'сакровчанлик', 'салатов', 'салон', 'салыстыруға', 'самар', 'самара', 'самарадорлиг', 'самое', 'самолет', 'самообразование', 'самоуправление', 'самоучитель', 'самые', 'самых', 'сандық', 'санитарно', 'санкт', 'санпин', 'саранск', 'саратовский', 'сарылбеков', 'сарыөзекке', 'сауаттылық', 'сауз', 'сахалинск', 'сахар', 'сахара', 'сағ', 'сақлаш', 'сбербанк', 'сбить', 'сборная', 'сборник', 'сбыт', 'свадьба', 'свао', 'сведение', 'свежий', 'свердловский', 'сверхурочный', 'светопропускаемость', 'светский', 'свирский', 'свободный', 'свод', 'сводка', 'сводной', 'свои', 'своими', 'свой', 'свойство', 'связанный', 'связь', 'святая', 'священник', 'світ24', 'сга', 'сдать', 'сделать', 'сдержанный', 'себя', 'севастополь', 'северный', 'северо', 'сегодня', 'сейчас', 'секрет', 'сексуальность', 'сексуальный', 'сексульных', 'сектор', 'сельский', 'сельскохозяйственный', 'семейство', 'семья', 'сенсорный', 'сентябрь', 'сервер', 'серверный', 'сервировка', 'сервис', 'сервисный', 'сергей', 'серго', 'сердечный', 'середин', 'сереюро', 'сериал', 'серий', 'серийный', 'сертификация', 'серых', 'сетевой', 'сеть', 'сибарит', 'сигнал', 'сиздерден', 'сизнинг', 'сила', 'силов', 'силовик', 'сильвер', 'сильный', 'симп', 'симпо', 'синапс', 'синоним', 'синф', 'система', 'системный', 'системі', 'систолический', 'сити', 'ситилинк', 'ситуация', 'сифатлари', 'сказать', 'скандинавия', 'скачать', 'скачивать', 'скидка', 'склонение', 'сколько', 'скончаться', 'скорость', 'скорпион', 'скорый', 'скромный', 'скупка', 'славный', 'славяна', 'слагаемое', 'слагать', 'слайд', 'следовать', 'сленговый', 'сливка', 'слитный', 'слободский', 'слов', 'словарь', 'словесник', 'слово', 'словосочетание', 'сложный', 'слоить', 'служба', 'служилый', 'случаев', 'случай', 'случайный', 'случать', 'слушание', 'слушатель', 'слушать', 'см', 'смартфон', 'смелков', 'смертельный', 'смертный', 'смерть', 'смешной', 'смоленский', 'смотреть', 'смс', 'смузи', 'смысл', 'снаружи', 'снг', 'снегоочиститель', 'снежинка', 'снизить', 'снизу', 'снимать', 'снов', 'сновидение', 'снс', 'снять', 'со', 'соб', 'собака', 'собираться', 'соблазн', 'соблюдать', 'собой', 'собрание', 'собственник', 'собственный', 'событие', 'совершенствование', 'совет', 'советский', 'советско', 'совместимость', 'совместимый', 'современный', 'согласие', 'содержание', 'содержать', 'соединение', 'соединять', 'создавать', 'создание', 'создать', 'сознание', 'созыв', 'сокет', 'сокращенный', 'солдат', 'солома', 'солоха', 'солтүстік', 'сона', 'сообщество', 'сообщить', 'соотв', 'соответствие', 'сопровождение', 'сопротивление', 'соревнование', 'сослуживец', 'состав', 'составить', 'составление', 'состояние', 'состояться', 'сосудистый', 'сотня', 'сотовый', 'сотрудник', 'соус', 'софт', 'сохранить', 'социально', 'социальный', 'социология', 'сочи', 'сочинение', 'сош', 'союз', 'союзный', 'сп', 'спадило', 'спартак', 'спас', 'спасатель', 'спасибо', 'спасти', 'спб', 'спбпу', 'специализированный', 'специалист', 'специальность', 'специальный', 'спецкласс', 'спецпредложение', 'список', 'спклуб42', 'сплайн', 'спмд', 'спо', 'спокойный', 'спор', 'спороть', 'спорт', 'спортсмен', 'спортсменка', 'спортқа', 'спорый', 'способ', 'способность', 'справка', 'справочник', 'справочный', 'спрашивалка', 'спустя', 'сравнительный', 'сравнить', 'среда', 'средиземноморье', 'среднерусский', 'среднесибирский', 'средний', 'средство', 'срок', 'срочно', 'ссо', 'ссп', 'ссср', 'ссылка', 'ст', 'ставка', 'ставкалар', 'ставропольский', 'стади', 'стадий', 'стан', 'стандарт', 'стандартный', 'становление', 'станция', 'старый', 'статистика', 'статистический', 'статус', 'стать', 'статья', 'стахов', 'стачка', 'стекло', 'стелить', 'стена', 'степень', 'степной', 'стечь', 'стиль', 'стих', 'стихия', 'сто', 'стоимость', 'стоить', 'столетний', 'столкнуться', 'столовый', 'столыпинский', 'стоматологический', 'стоматология', 'сторона', 'стохастический', 'стр', 'страна', 'страница', 'странно', 'стратегический', 'стратегия', 'страх', 'страхов', 'страхование', 'страхователь', 'страховой', 'страховщик', 'страшный', 'стрелец', 'строитель', 'строительный', 'строительство', 'стройальянс', 'структура', 'студент', 'студенточка', 'студопедия', 'ступенчатый', 'ступень', 'субъект', 'сувенир', 'суворов', 'суд', 'судак', 'судакт', 'судебный', 'судсоветник', 'судьба', 'сузун', 'сузунский', 'султан', 'сумма', 'сунгатуллин', 'суп', 'суперстан', 'супов', 'сурган', 'суть', 'существительный', 'существовать', 'сущность', 'сфера', 'сфигмоманометр', 'сформировать', 'схема', 'схождение', 'счет', 'считаться', 'сш', 'сша', 'съемный', 'съехать', 'сызрань', 'сызу', 'сыктывкар', 'сынып', 'сыныпқа', 'сырытт', 'сырье', 'сђр', 'сђрјрерѕрѕрі', 'сѓрєрѕр', 'сѓс', 'сѓсђрѕс', 'сілдері', 'сүт', 'сұйықтар', 'сұйықтың', 'сұрай', 'сұрақ', 'сұрақтар', 'сұрақтары', 'сұрақтарының', 'т170', 'та', 'табель', 'табельный', 'таблетка', 'таблица', 'таганрог', 'таиланд', 'тайергарлик', 'тайланд', 'тайна', 'тайный', 'так', 'также', 'такое', 'такси', 'талдау', 'талреп', 'там', 'таманский', 'тамбов', 'тамбовский', 'тамбурин', 'таможенный', 'таможня', 'танцевать', 'тапсырмалар', 'тапсырмаларын', 'тапсыруға', 'таралуы', 'тарау', 'тариф', 'тарих', 'тарихы', 'тарихынан', 'таро', 'тартиби', 'тасдиқланган', 'тат', 'татарстан', 'татищево', 'тауып', 'тацинский', 'ташкил', 'таълий', 'таълим', 'таъминлаш', 'тағамдары', 'тақ', 'тақырыбы', 'тв', 'твердомер', 'твой', 'творожный', 'творческий', 'творчество', 'тг', 'тебя', 'теза', 'тезкорлик', 'тейл', 'текила', 'текст', 'текстовой', 'тектоника', 'текущий', 'телефон', 'телефонный', 'тело', 'тельфер', 'тема', 'тематический', 'темиргалиев', 'температура', 'тенге', 'тенденция', 'тендер', 'теоретический', 'теория', 'тепловед', 'теракт', 'территориальный', 'территория', 'тест', 'тестирование', 'тестовый', 'тесттер', 'тетрадь', 'техник', 'техникум', 'технический', 'технологический', 'технология', 'тий', 'тилд', 'тиль', 'тип', 'типовой', 'тираж', 'титр', 'тихвин', 'тиц', 'тканый', 'тнс', 'то', 'товар', 'товаров', 'товароведение', 'того', 'тоир', 'ток', 'токтом', 'толкование', 'толстеть', 'толтырған', 'толщин', 'толщиномер', 'только', 'том', 'томонидан', 'томск', 'тонирование', 'тонировка', 'тонометр', 'тоо', 'топ', 'топорный', 'торг', 'торгов', 'торговля', 'торговый', 'торжественный', 'тормозить', 'торрент', 'точный', 'тоқсан', 'тоҷикӣ', 'традиция', 'трак', 'трактор', 'тракторов', 'тракторт170', 'транзит', 'транскрипция', 'транспорт', 'транспортный', 'трапеза', 'трасса', 'трассоискатель', 'требование', 'требовать', 'трейлер', 'тренинг', 'третейский', 'третий', 'трехочковый', 'трехчлен', 'трещетка', 'три', 'трое', 'трой', 'труд', 'трудиться', 'трудность', 'трудный', 'трудовой', 'туалетный', 'туда', 'тул', 'тур', 'турагентство', 'турал', 'туранский', 'турецкий', 'туризм', 'турист', 'туристик', 'туристический', 'турмушта', 'туроператор', 'турфирма', 'тут', 'тщательный', 'тыс', 'тысяча', 'тысячелетие', 'тысячеликий', 'тығыздығы', 'тығыздығын', 'тығыздықты', 'тығыздықтың', 'тюмень', 'тяготение', 'тізбегіндегі', 'тізімі', 'тілінен', 'тірек', 'тўп', 'тўғрисида', 'түсті', 'түсіндіру', 'тәжірибе', 'тәжірибемнен', 'тәрбие', 'төбесіне', 'төмен', 'уақбаева', 'уақыт', 'убыток', 'увеличение', 'увеличить', 'увлекательный', 'угловой', 'углубленный', 'удалить', 'удача', 'удачный', 'удерживать', 'удивить', 'удк', 'удмуртский', 'удобный', 'удовольствие', 'удэ', 'узатиш', 'узбек', 'узбекистан', 'узбекистон', 'узел', 'узнать', 'указ', 'указать', 'укладка', 'украина', 'україни', 'українські', 'укрремторг', 'ул', 'улан', 'улица', 'ультразвуковой', 'ум', 'умереть', 'умножение', 'умножить', 'унар', 'универ', 'универсальный', 'университет', 'уп', 'упаковка', 'упорядочение', 'употребительный', 'употребление', 'управление', 'управленческий', 'управлять', 'управляющий', 'упфр', 'уравнение', 'уральский', 'урарт', 'урегулирование', 'урка', 'уровень', 'урок', 'урочный', 'ускорять', 'условие', 'условный', 'услуга', 'усн', 'успех', 'установка', 'устройство', 'уступ', 'ут', 'утвердительный', 'утверждение', 'утратить', 'утро', 'уфа', 'уфимский', 'уход', 'участие', 'участник', 'участница', 'учащаяся', 'учеба', 'учебник', 'учебно', 'учебный', 'ученик', 'ученый', 'учет', 'учитель', 'учительская', 'учителів', 'учить', 'учредитель', 'учреждение', 'уҡытыусыһы', 'фаворит', 'фаза', 'файл', 'файловый', 'факт', 'фактор', 'фалов', 'фантастика', 'фарҳанги', 'фасоль', 'фгбоу', 'фгос', 'фгт', 'февраль', 'федеральный', 'федерация', 'фейри', 'фернан', 'ферстаппен', 'феськов', 'фз', 'физик', 'физика', 'физикадан', 'физикал', 'физикалық', 'физико', 'физический', 'фиксировать', 'филогенез', 'филолог', 'философия', 'фильм', 'фильтр', 'фин', 'финансирование', 'финансовый', 'финансы', 'фио', 'фипи', 'фирма', 'фирменный', 'флаг', 'флоренский', 'флоренском', 'флорентский', 'флот', 'фокус', 'фонд', 'форма', 'формат', 'формирование', 'формула', 'форум', 'фото', 'фотография', 'фраза', 'франчайзи', 'фтс', 'фундаментальный', 'функциональный', 'функционирование', 'функция', 'фура', 'фурманный', 'ффомс', 'фэнтези', 'фільми', 'халва', 'хара', 'характер', 'характеристика', 'характерный', 'харон', 'хау', 'хизмати', 'химик', 'химия', 'хинганская', 'хит', 'хитов', 'хлопчатобумажный', 'хобби', 'хозяйственный', 'хозяйство', 'хозяйствовать', 'холодильник', 'холодное', 'холодный', 'хороший', 'хост', 'хостинг', 'хохряков', 'христиана', 'христианский', 'художественный', 'хужматов', 'хх', 'ххi', 'цвета', 'цветной', 'целевой', 'целый', 'цель', 'цена', 'цензура', 'цениться', 'ценник', 'ценность', 'ценный', 'центр', 'централизованный', 'центральный', 'центробувь', 'цепной', 'цепь', 'церемония', 'церковный', 'цех', 'циан', 'цикл', 'цитата', 'цифровой', 'цмк', 'чай', 'чайхана', 'чайхауз', 'час', 'частить', 'частичный', 'частное', 'частный', 'часть', 'часть1', 'чашка', 'чебоксары', 'чей', 'чеканка', 'чектөө', 'чектөөгө', 'челн', 'человек', 'челябинск', 'челябинский', 'чем', 'чемпионат', 'чередование', 'через', 'черкесский', 'черный', 'черт', 'черта', 'честь', 'четверо', 'четвертая', 'четвертый', 'четверть', 'чеченский', 'чешуйка', 'числительное', 'числительный', 'число', 'чистовой', 'чистый', 'чистых', 'читать', 'член', 'чо', 'чп', 'чтение', 'что', 'чувашский', 'чувствительность', 'чудинов', 'чудо', 'шаг', 'шакллантириш', 'шамалар', 'шансон', 'шард', 'шарлотта', 'шаханов', 'шейх', 'шестак', 'шешу', 'шз', 'шина', 'широта', 'шишков', 'шкало', 'шкаф', 'школа', 'школьник', 'школьный', 'шоссе', 'шпаргалка', 'шпор', 'шпоргалка', 'шпорлар', 'шт', 'штамп', 'штат', 'штатный', 'штраф', 'шукур', 'шумелка', 'шур', 'шыгарып', 'шығару', 'шығарылатын', 'шыққан', 'шәміл', 'эб', 'эвм', 'эволюционный', 'эволюция', 'экз', 'экзамен', 'экологически', 'экология', 'экономика', 'экономический', 'экосистема', 'экран', 'эксклюзивный', 'экскурсия', 'эксперимент', 'экспериментальный', 'эксперт', 'экспресс', 'экстерн', 'электрификация', 'электрический', 'электрон', 'электронный', 'электротельфер', 'элемент', 'элементарный', 'элементный', 'эмблема', 'эмбраер', 'эмнег', 'энергетик', 'энергия', 'энерго', 'энциклопедический', 'энциклопедия', 'эоловый', 'эпидемиологический', 'эскадрилья', 'эссе', 'этаж', 'этап', 'этиш', 'этнография', 'это', 'этот', 'этрусский', 'эффективность', 'эффективный', 'ээ', 'юбилей', 'юбилейный', 'южный', 'юмор', 'юнити', 'юридический', 'юрий', 'юринспекция', 'юриспруденция', 'юрист', 'ютуб', 'яблоко', 'явление', 'язык', 'яйцо', 'якутск', 'ялта', 'январь', 'яндекс', 'яр', 'ярославль', 'ярославский', 'ярпортал', 'ярцун', 'ясли', 'ященко', 'іріктелген', 'іс', 'істегно', 'іі', 'ііі', 'ўзбекистон', 'ўрта', 'ўчирилишини', 'ўқувчиларида', 'ға', 'ғабит', 'ғасырлардағы', 'қабырғаңа', 'қабілеттерін', 'қазақ', 'қазақстан', 'қазақша', 'қайта', 'қайталау', 'қалыптастырушы', 'қандай', 'қасиеттері', 'қатты', 'қб', 'қмж', 'қобилиятини', 'қозғалыс', 'қолданбалы', 'қолдану', 'қорытынды', 'қорытындылау', 'қызықты', 'құлап', 'ңусқа', 'үйдің', 'үлгерімі', 'үшін', 'ұбт', 'ұйымдарында', 'ұстаздарына', 'ұто', 'ҳошим', 'әділет', 'әділов', 'әдіснама', 'әдістемелік', 'әр', 'өзге', 'өздік', 'өкмөтүнүн', 'өмір', 'өнімділік', 'өрлеу', 'өткенді', 'өткізу', 'الشعراوى', 'القران', 'الكريم', 'تفسير', 'للشيخ']\n"
          ]
        }
      ]
    },
    {
      "cell_type": "markdown",
      "source": [
        "Меняем функцию ранжирования.\n",
        "\n",
        "TF-IDF слова пропорционален частоте употребления слова в документе и обратно пропорционален частоте употребления слова во всех документах коллекции\n",
        "\n",
        "BM25F - вариация Okapi BM25 (BM = best match). Okapi - поисковая система, созданная в Лондонском городском университете в 80-х/90-х годах, в которой эта функция была впервые применена.\n",
        "\n",
        "В веб-поиске эти функции входят как компоненты более сложной, машинно-обученной функции ранжирования.\n",
        "\n",
        "В whoosh по-умолчанию - BM25F."
      ],
      "metadata": {
        "id": "qiUyouMTHRmp"
      }
    },
    {
      "cell_type": "code",
      "source": [
        "import whoosh.scoring as scoring\n",
        "\n",
        "for query_text in queries_texts_sample:\n",
        "    qp = setup_parser(MultifieldParser([\"title\", \"body\"], schema=schema))\n",
        "    q = qp.parse(query_text)\n",
        "    with ix.searcher(weighting=scoring.TF_IDF()) as searcher:\n",
        "        results = searcher.search(q)\n",
        "        output_results(results, query_text)"
      ],
      "metadata": {
        "colab": {
          "base_uri": "https://localhost:8080/"
        },
        "id": "wrth0dj49RsR",
        "outputId": "b8daf09f-a5b6-4e46-98fd-8af728e00e16"
      },
      "execution_count": null,
      "outputs": [
        {
          "output_type": "stream",
          "name": "stdout",
          "text": [
            "==== Number of results: 0 for query (1|I) 9736586783 (НАЙТИ|SEARCH|ВЗЯТЬ|ВЫЯСНИТЬ|ДОСТАТЬ|ИСКАТЬ|НАХОДИТЬ|ПОИСК|ПОЛУЧИТЬ) КОМУ (ПРИНАДЛЕЖАТЬ|ИМЕТЬ) (ЭТОТ|ETOT) (НОМЕР|КОМНАТА|НОМЕРНОЙ|НОМЕРОК)\n",
            "\n",
            "==== Number of results: 0 for query (1|I) (MASCULINE|МАСКАЛАЙН|МАСКАЛИН|МАСКУЛАЙН) ОТЗИВ\n",
            "\n",
            "==== Number of results: 44 for query (1|I) (АНАЛИЗ|ИССЛЕДОВАНИЕ|РАЗБОР) (СОЗДАТЬ|CREATION|ВОССОЗДАТЬ|СОЗДАВАТЬ|СОЗДАВАТЬСЯ|СОЗДАНИЕ|СОЗДАТЕЛЬ|СОТВОРИТЬ|ТВОРЕНИЕ) (УСЛОВИЕ|ДОГОВОР|ДОГОВОРЕННОСТЬ|СОГЛАШЕНИЕ) ДЛЯ (РАЗВИТИЕ|РОСТ|СТАНОВЛЕНИЕ|ФОРМИРОВАНИЕ|ЭВОЛЮЦИЯ) (ИГРОВОЙ|ИГРА) (ДЕЯТЕЛЬНОСТЬ|ДЕЙСТВИЕ|ДЕЯТЕЛЬНЫЙ) (ГРУППА|ГРУППИРОВАТЬ|КОЛЛЕКТИВ) (РАННИЙ|ЗАРАНЕЕ|НАЧАЛЬНЫЙ|ПРЕЖДЕ|ПРЕЖДЕВРЕМЕННЫЙ|РАНЕЕ)\n",
            "Docid: 272 B Title:  ОРГАНИЗАЦИЯ ИГРОВОЙ ДЕЯТЕЛЬНОСТЬ РЕБЕНОК РАННИЙ ВОЗРАСТ В СООТВЕТСТВИЕ С ФГОС ДО СТАТЬЯ В ЖУРНАЛ ВОПРОС ДОШКОЛЬНЫЙ ПЕДАГОГИКА Highlights: ОРГАНИЗАЦИЯ <b class=\"match term0\">ИГРА</b> <b class=\"match term1\">СОЗДАВАТЬ</b> <b class=\"match term2\">УСЛОВИЕ</b> <b class=\"match term3\">ДЛЯ</b> <b class=\"match term4\">РАЗВИТИЕ</b> ИНТЕЛЛЕКТУАЛЬНЫЙ...<b class=\"match term0\">ИГРА</b> В КОРРЕКЦИОННЫЙ РАБОТА С РЕБЕНОК <b class=\"match term0\">ИГРА</b> <b class=\"match term0\">ИГРОВОЙ</b> <b class=\"match term1\">ДЕЯТЕЛЬНОСТЬ</b> МЛАДШИЙ <b class=\"match term2\">ГРУППА</b> ДОШКОЛЬНЫЙ ПЕРИОД...<b class=\"match term0\">ИГРА</b> В КОРРЕКЦИОННЫЙ РАБОТА С РЕБЕНОК <b class=\"match term0\">ИГРА</b> <b class=\"match term0\">ИГРОВОЙ</b> <b class=\"match term1\">ДЕЯТЕЛЬНОСТЬ</b> МЛАДШИЙ <b class=\"match term2\">ГРУППА</b> ДОШКОЛЬНЫЙ ПЕРИОД\n",
            "Docid: 281 B Title:  АНАЛИЗ ИГРОВОЙ ДЕЯТЕЛЬНОСТЬ ДОШКОЛЬНИК Highlights: 4 <b class=\"match term2\">УСЛОВИЕ</b> <b class=\"match term3\">ДЛЯ</b> <b class=\"match term0\">ИГРА</b> НАЛИЧИЕ <b class=\"match term0\">ИГРА</b> <b class=\"match term0\">ИГРОВОЙ</b> МАТЕРИАЛ СКОЛЬКО...<b class=\"match term2\">УСЛОВИЕ</b> <b class=\"match term3\">ДЛЯ</b> <b class=\"match term0\">ИГРА</b> НАЛИЧИЕ <b class=\"match term0\">ИГРА</b> <b class=\"match term0\">ИГРОВОЙ</b> МАТЕРИАЛ СКОЛЬКО...КРИТЕРИЙ <b class=\"match term4\">РАЗВИТИЕ</b> <b class=\"match term0\">ИГРОВОЙ</b> <b class=\"match term1\">ДЕЯТЕЛЬНОСТЬ</b> <b class=\"match term2\">УСЛОВИЕ</b> <b class=\"match term3\">ДЛЯ</b> ВОЗНИКНОВЕНИЕ И РАЗВЕРТЫВАНИЕ\n",
            "Docid: 278 B Title:  ИССЛЕДОВАНИЕ ОСОБЕННОСТЬ ИГРОВОЙ ДЕЯТЕЛЬНОСТЬ РЕБЕНОК РАННИЙ ВОЗРАСТ Highlights: ПЕДАГОГИЧЕСКИЙ <b class=\"match term2\">УСЛОВИЕ</b> <b class=\"match term4\">РАЗВИТИЕ</b> <b class=\"match term0\">ИГРОВОЙ</b> <b class=\"match term1\">ДЕЯТЕЛЬНОСТЬ</b> В <b class=\"match term3\">РАННИЙ</b> ВОЗРАСТ ЯВЛЯТЬСЯ...3ЛЕТ ЭТАП <b class=\"match term4\">РАЗВИТИЕ</b> <b class=\"match term0\">ИГРОВОЙ</b> <b class=\"match term1\">ДЕЯТЕЛЬНОСТЬ</b> РЕБЕНОК <b class=\"match term3\">РАННИЙ</b> ВОЗРАСТ <b class=\"match term0\">ИГРОВОЙ</b> <b class=\"match term1\">ДЕЯТЕЛЬНОСТЬ</b> ПРОХОДИТЬ...И ПОКАЗАТЕЛЬ <b class=\"match term0\">ИГРА</b> ДИАГНОСТИКА <b class=\"match term0\">ИГРА</b> ВКЛЮЧАТЬ В СЕБЯ <b class=\"match term4\">АНАЛИЗ</b> <b class=\"match term0\">ИГРОВОЙ</b> <b class=\"match term1\">ДЕЯТЕЛЬНОСТЬ</b> РЕБЕНОК ПО\n",
            "Docid: 292 B Title:  ИГРОВОЙ ДЕЯТЕЛЬНОСТЬ КАК СРЕДСТВО РАЗВИТИЕ РЕЧЬ РЕБЕНОК РАННИЙ ВОЗРАСТ Highlights: <b class=\"match term4\">РАЗВИТИЕ</b> РЕЧЬ РЕБЕНОК <b class=\"match term3\">РАННИЙ</b> ВОЗРАСТ ЦЕЛЬ <b class=\"match term4\">РАЗВИТИЕ</b> РЕЧЬ РЕБЕНОК <b class=\"match term3\">РАННИЙ</b> ВОЗРАСТ В <b class=\"match term0\">ИГРОВОЙ</b> <b class=\"match term1\">ДЕЯТЕЛЬНОСТЬ</b> <b class=\"match term3\">ДЛЯ</b> РЕШЕНИЕ ЦЕЛИТЬ ПОСТАВИТЬ...РАЗЛИЧНЫЙ ВИДОВ <b class=\"match term0\">ИГРА</b> <b class=\"match term3\">ДЛЯ</b> <b class=\"match term4\">РАЗВИТИЕ</b> РЕЧЬ РЕБЕНОК <b class=\"match term3\">РАННИЙ</b> ВОЗРАСТ <b class=\"match term3\">ДЛЯ</b> ОБУЧЕНИЕ ЧЕРЕЗ <b class=\"match term0\">ИГРА</b> И <b class=\"match term0\">СОЗДАТЬ</b> ДИДАКТИЧЕСКИЙ...<b class=\"match term3\">ДЛЯ</b> ВОСПИТАТЕЛЬ <b class=\"match term2\">ГРУППА</b> <b class=\"match term3\">РАННИЙ</b> ВОЗРАСТ <b class=\"match term4\">РАЗВИТИЕ</b> РЕБЕНОК <b class=\"match term3\">РАННИЙ</b> ВОЗРАСТ В <b class=\"match term0\">ИГРОВОЙ</b> <b class=\"match term1\">ДЕЯТЕЛЬНОСТЬ</b> 29 10 НА БАЗ\n",
            "Docid: 293 B Title:  ИГРОВОЙ ДЕЯТЕЛЬНОСТЬ ДОШКОЛЬНИК В УСЛОВИЕ ФГОС СОВРЕМЕННЫЙ ОРГАНИЗАЦИЯ РАЗНЫЙ ЕЕ ВИДОВ РАЗВИТИЕ И АНАЛИЗ ФОТО И ВИДЕО Highlights: <b class=\"match term3\">ДЛЯ</b> ЧЕГО И КАК ФГОС ПРЕДПИСЫВАТЬ <b class=\"match term2\">УСЛОВИЕ</b> <b class=\"match term3\">ДЛЯ</b> ОРГАНИЗАЦИЯ <b class=\"match term0\">ИГРОВОЙ</b> <b class=\"match term1\">ДЕЯТЕЛЬНОСТЬ</b> ДОШКОЛЬНИК...<b class=\"match term0\">ИГРОВОЙ</b> КОМПЛЕКС 3 1 ПРИМЕРЕТЬ <b class=\"match term4\">АНАЛИЗ</b> 5 КАРТОТЕКА <b class=\"match term0\">ИГРА</b> <b class=\"match term3\">ДЛЯ</b> ДОШКОЛЬНИК СОВРЕМЕННЫЙ...<b class=\"match term0\">ИГРОВОЙ</b> <b class=\"match term1\">ДЕЯТЕЛЬНОСТЬ</b> <b class=\"match term3\">ДЛЯ</b> ДОШКОЛЬНИК ПО ФГОС <b class=\"match term0\">ИГРА</b> РЕБЕНОК ВОВСЕ НЕ <b class=\"match term0\">ИГРА</b> И ПРАВИЛЬНЫЙ СМОТРЕТЬ\n",
            "Docid: 290 B Title:  ТЕОРЕТИЧЕСКИЙ И МЕТОДИЧЕСКИЙ ОСНОВА ОРГАНИЗАЦИЯ ИГРОВОЙ ДЕЯТЕЛЬНОСТЬ РЕБЕНОК РАННИЙ И ДОШКОЛЬНЫЙ ВОЗРАСТ Highlights: ОСНОВА ОРГАНИЗАЦИЯ <b class=\"match term0\">ИГРОВОЙ</b> <b class=\"match term1\">ДЕЯТЕЛЬНОСТЬ</b> РЕБЕНОК <b class=\"match term3\">РАННИЙ</b> И ДОШКОЛЬНЫЙ ВОЗРАСТ...<b class=\"match term0\">ИГРА</b> ПЕРВОЕ ЭТАП <b class=\"match term4\">РАЗВИТИЕ</b> <b class=\"match term0\">ИГРОВОЙ</b> <b class=\"match term1\">ДЕЯТЕЛЬНОСТЬ</b> ЯВЛЯТЬСЯ...О ПОЭТАПНЫЙ <b class=\"match term4\">РАЗВИТИЕ</b> <b class=\"match term0\">ИГРОВОЙ</b> <b class=\"match term1\">ДЕЯТЕЛЬНОСТЬ</b> ДАВАТЬ ВОЗМОЖНОСТЬ\n",
            "Docid: 297 B Title:  ПЕДАГОГИЧЕСКИЙ УСЛОВИЕ ФОРМИРОВАНИЕ ИГРОВОЙ ДЕЯТЕЛЬНОСТЬ РЕБЕНОК РАННИЙ ВОЗРАСТ Highlights: <b class=\"match term1\">ИССЛЕДОВАНИЕ</b> ПЕДАГОГИЧЕСКИЙ <b class=\"match term2\">УСЛОВИЕ</b> <b class=\"match term2\">ФОРМИРОВАНИЕ</b> <b class=\"match term0\">ИГРОВОЙ</b> <b class=\"match term1\">ДЕЯТЕЛЬНОСТЬ</b> РЕБЕНОК <b class=\"match term3\">РАННИЙ</b> ВОЗРАСТ ЦЕЛЬ <b class=\"match term1\">ИССЛЕДОВАНИЕ</b> ВЫЯВИТЬ ПЕДАГОГИЧЕСКИЙ...<b class=\"match term2\">УСЛОВИЕ</b> НАПРАВИТЬ НА <b class=\"match term2\">ФОРМИРОВАНИЕ</b> <b class=\"match term0\">ИГРОВОЙ</b> <b class=\"match term1\">ДЕЯТЕЛЬНОСТЬ</b> РЕБЕНОК <b class=\"match term3\">РАННИЙ</b> ВОЗРАСТ ЗАДАЧА <b class=\"match term1\">ИССЛЕДОВАНИЕ</b> СДЕЛАТЬ ОБЗОР...<b class=\"match term2\">УСЛОВИЕ</b> НАПРАВИТЬ НА <b class=\"match term2\">ФОРМИРОВАНИЕ</b> <b class=\"match term0\">ИГРОВОЙ</b> <b class=\"match term1\">ДЕЯТЕЛЬНОСТЬ</b> РЕБЕНОК <b class=\"match term2\">ГРУППА</b> <b class=\"match term3\">РАННИЙ</b> ВОЗРАСТ 4 ПРОАНАЛИЗИРОВАТЬ\n",
            "Docid: 303 B Title:  ДЛЯ ПЕДАГОГ ПЕДАГОГИЧЕСКИЙ УСЛОВИЕ РАЗВИТИЕ РЕБЕНОК РАННИЙ ВОЗРАСТ Highlights: 5 1 ОСОБЕННОСТЬ <b class=\"match term4\">РАЗВИТИЕ</b> ПРЕДМЕТНЫЙ <b class=\"match term0\">ИГРОВОЙ</b> <b class=\"match term1\">ДЕЯТЕЛЬНОСТЬ</b> В <b class=\"match term3\">РАННИЙ</b> И ДОШКОЛЬНЫЙ ВОЗРАСТ...<b class=\"match term2\">УСЛОВИЕ</b> СТИМУЛИРОВАТЬ <b class=\"match term4\">РАЗВИТИЕ</b> ПРЕДМЕТНЫЙ <b class=\"match term0\">ИГРОВОЙ</b> <b class=\"match term1\">ДЕЯТЕЛЬНОСТЬ</b> РЕБЕНОК <b class=\"match term3\">РАННИЙ</b> ВОЗРАСТ 24 2 <b class=\"match term4\">АНАЛИЗ</b> РЕЗУЛЬТАТ ОПЫТНО...<b class=\"match term0\">ИГРА</b> ЗАБАВА В НИХ <b class=\"match term0\">ИГРОВОЙ</b> <b class=\"match term3\">ДЕЙСТВИЕ</b> <b class=\"match term4\">ЗАРАНЕЕ</b> ПРЕДУСМОТРЕТЬ\n",
            "Docid: 299 B Title:  ДИПЛОМ РАЗВИТИЕ РЕЧЬ У РЕБЕНОК РАННИЙ ВОЗРАСТ В ПРОЦЕСС ИГРОВОЙ ДЕЯТЕЛЬНОСТЬ Highlights: <b class=\"match term2\">УСЛОВИЕ</b> <b class=\"match term4\">РАЗВИТИЕ</b> РЕЧЬ РЕБЕНОК <b class=\"match term3\">РАННИЙ</b> ВОЗРАСТ В <b class=\"match term0\">ИГРОВОЙ</b> <b class=\"match term1\">ДЕЯТЕЛЬНОСТЬ</b> 13 1 <b class=\"match term0\">ИГРА</b> КАК СРЕДСТВО <b class=\"match term4\">РАЗВИТИЕ</b> РЕЧЬ РЕБЕНОК <b class=\"match term3\">РАННИЙ</b> ВОЗРАСТ 26 ВЫВОД...<b class=\"match term2\">УСЛОВИЕ</b> СПОСОБСТВОВАТЬ <b class=\"match term4\">РАЗВИТИЕ</b> РЕЧЬ РЕБЕНОК <b class=\"match term3\">РАННИЙ</b> ВОЗРАСТ В <b class=\"match term0\">ИГРОВОЙ</b> <b class=\"match term1\">ДЕЯТЕЛЬНОСТЬ</b> ОБЪЕКТ <b class=\"match term1\">ИССЛЕДОВАНИЕ</b> <b class=\"match term4\">РАЗВИТИЕ</b> РЕЧЬ РЕБЕНОК <b class=\"match term3\">РАННИЙ</b> ВОЗРАСТ ПРЕДМЕТ...ЯВЛЯТЬСЯ НЕОБХОДИМЫЙ <b class=\"match term2\">УСЛОВИЕ</b> <b class=\"match term2\">ФОРМИРОВАНИЕ</b> <b class=\"match term0\">ИГРОВОЙ</b> <b class=\"match term1\">ДЕЯТЕЛЬНОСТЬ</b> РЕБЕНОК <b class=\"match term3\">ДЛЯ</b> РЕБЕНОК <b class=\"match term3\">РАННИЙ</b> ВОЗРАСТ НЕОБХОДИМЫЙ\n",
            "Docid: 295 B Title:  ТЕМАТИЧЕСКИЙ КОНТРОЛЬ НА ТЕМА СОСТОЯНИЕ РАЗВИТИЕ ИГРОВОЙ ДЕЯТЕЛЬНОСТЬ РЕБЕНОК МЛАДШИЙ И РАННИЙ ВОЗРАСТ МОЙ ДЕТСКИЙ САД Highlights: ВОЗРАСТ 2 Я МЛАДШИЙ <b class=\"match term2\">ГРУППА</b> <b class=\"match term1\">СОЗДАВАТЬ</b> <b class=\"match term2\">УСЛОВИЕ</b> <b class=\"match term3\">ДЛЯ</b> ВОЗНИКНОВЕНИЕ И <b class=\"match term4\">РАЗВИТИЕ</b> СЮЖЕТНЫЙ РОЛЕВОЙ...N ВОПРОС НА КОНТРОЛЬ <b class=\"match term2\">ГРУППА</b> N1 N2 N3 N 4 1 <b class=\"match term2\">УСЛОВИЕ</b> <b class=\"match term4\">РАЗВИТИЕ</b> СЮЖЕТНЫЙ <b class=\"match term0\">ИГРА</b> <b class=\"match term0\">ИГРОВОЙ</b> МОДУЛЬ ЖЕСТКИЙ...ОПИСАНИЕ РЕЧЕВОЙ <b class=\"match term0\">ИГРА</b> 5 <b class=\"match term2\">УСЛОВИЕ</b> <b class=\"match term3\">ДЛЯ</b> <b class=\"match term4\">РАЗВИТИЕ</b> ПОДВИЖНОЙ <b class=\"match term0\">ИГРА</b> РЕБЕНОК ОРГАНИЗАЦИЯ\n",
            "\n",
            "==== Number of results: 16 for query (1|I) (ВИНА|VIN|VINUM|WIN) (ОФИЦИАЛЬНЫЙ|ОФИЦИАЛЬНОСТЬ) (САЙТ|SIGHT|SITE)\n",
            "Docid: 345 B Title:  ПРОВЕРИТЬ ПРОБИТЬ АВТО ПО ВИНА VIN КОД БЕСПЛАТНО В ГИБДД МОЖНО НА ОФИЦИАЛЬНЫЙ САЙТ Highlights: ПОЛУЧИТЬ НА <b class=\"match term0\">ОФИЦИАЛЬНЫЙ</b> <b class=\"match term1\">САЙТ</b> НА <b class=\"match term1\">САЙТ</b> <b class=\"match term2\">VIN</b> AUTO RU ДАННЫЙ СЕРВИС...ПРОВЕРЯТЬ АВТО ПО <b class=\"match term2\">VIN</b> ХОТЯ БЫ НА 2 <b class=\"match term1\">САЙТ</b> ВОЛОДЯ РАЗНЫЙ <b class=\"match term1\">САЙТ</b> ВЫДАВАТЬ РАЗЛИЧНЫЙ...ГОС НОМЕР НА <b class=\"match term1\">САЙТ</b> РСА УДАЧА ВЫПЛЫТЬ <b class=\"match term2\">VIN</b> ДАЛЕЕ <b class=\"match term1\">САЙТ</b> ГИБДД ВСЕ ЗАМЕЧАТЕЛЬНЫЙ\n",
            "Docid: 339 B Title:  1 ВИНА СТАВКА НА СПОРТ НА ОФИЦИАЛЬНЫЙ САЙТ БУКМЕКЕРСКИЙ КОНТОРА 1WIN ОСОБЕННОСТЬ БЕТТИНГ В БК ВАН ВИНА Highlights: КОНТОРА 1 <b class=\"match term3\">WIN</b> И ЕЕ <b class=\"match term0\">ОФИЦИАЛЬНЫЙ</b> <b class=\"match term1\">САЙТ</b> В ИНТЕРНЕТ ЗДЕСЬ ВЫ...И ХАРАКТЕРИСТИКА <b class=\"match term0\">ОФИЦИАЛЬНЫЙ</b> <b class=\"match term1\">САЙТ</b> ПЕРЕЙТИ НА <b class=\"match term1\">САЙТ</b> СКАЧАТЬ ДЛЯ ANDROID...И ХАРАКТЕРИСТИКА <b class=\"match term0\">ОФИЦИАЛЬНЫЙ</b> <b class=\"match term1\">САЙТ</b> ПЕРЕЙТИ НА <b class=\"match term1\">САЙТ</b> СКАЧАТЬ ДЛЯ ANDROID\n",
            "Docid: 309 S Title:  БУКМЕКЕРСКИЙ КОНТОРА 1 WIN ОФИЦИАЛЬНЫЙ САЙТ БУКМЕКЕР ТОП Highlights: СТАТУС В РФ <b class=\"match term0\">ОФИЦИАЛЬНЫЙ</b> <b class=\"match term1\">САЙТ</b> БУКМЕКЕРСКИЙ КОНТОРА...КОНТОРА 1 <b class=\"match term3\">WIN</b> ОСОБЕННОСТЬ <b class=\"match term0\">ОФИЦИАЛЬНЫЙ</b> <b class=\"match term1\">САЙТ</b> БУКМЕКЕРСКИЙ КОНТОРА...РАЗВЛЕЧЕНИЕ НА <b class=\"match term0\">ОФИЦИАЛЬНЫЙ</b> <b class=\"match term1\">САЙТ</b> ДОСТУПНЫЙ СПОРТИВНЫЙ\n",
            "Docid: 324 S Title:  ВАН ВИНА БУКМЕКЕРСКИЙ КОНТОРА ОФИЦИАЛЬНЫЙ САЙТ Highlights: <b class=\"match term1\">САЙТ</b> ДЛЯ ПОДКЛЮЧЕНИЕ К <b class=\"match term0\">ОФИЦИАЛЬНЫЙ</b> <b class=\"match term1\">САЙТ</b> 1 <b class=\"match term3\">WIN</b> ПРЕДУСМОТРЕННЫЙ ПОЛНЫЙ...ПЛАТЕЖ ПОПОЛНЕНИЕ НА <b class=\"match term0\">ОФИЦИАЛЬНЫЙ</b> <b class=\"match term1\">САЙТ</b> 1 <b class=\"match term4\">ВИНА</b> ВНЕСТИ ДЕПОЗИТ ИГРОК...УСЛОВИЕ СТАВКА НА 1 <b class=\"match term4\">ВИНА</b> НА <b class=\"match term0\">ОФИЦИАЛЬНЫЙ</b> <b class=\"match term1\">САЙТ</b> БУКМЕКЕРСКИЙ КОНТОРА\n",
            "Docid: 329 B Title:  ГИБДД ПРОВЕРКА АВТОМОБИЛЬ 👮🏻 ПО ВИНА И ГОС НОМЕР ОФИЦИАЛЬНЫЙ САЙТ Highlights: ЗАХОДИТЬ НА <b class=\"match term1\">САЙТ</b> ВБИВАТЬ <b class=\"match term4\">ВИНА</b> И ЗАПРАШИВАТЬ ПРОВЕРКА...ГОСНОМЕР ДАННЫЙ НА <b class=\"match term1\">САЙТ</b> ПОСТУПАТЬ ИЗ <b class=\"match term0\">ОФИЦИАЛЬНЫЙ</b> ИСТОЧНИК ЧТО...НА ГЛАВНЫЙ СТРАНИЦА <b class=\"match term1\">САЙТ</b> АВТОКОД ВПИСАТЬ <b class=\"match term2\">VIN</b> ИЛИ ГОСНОМЕР В ПОИСКОВЫЙ\n",
            "Docid: 323 S Title:  1 WIN ОФИЦИАЛЬНЫЙ САЙТ БУКМЕКЕРСКИЙ КОНТОРА ВАН ВИНА СТАВКА НА СПОРТ ОНЛАЙН ОСОБЕННОСТЬ БЕТТИНГ В 1 ВИНА BEST BOOKMAKER RU Highlights: <b class=\"match term0\">ОФИЦИАЛЬНЫЙ</b> <b class=\"match term1\">САЙТ</b> 1 <b class=\"match term3\">WIN</b> ОБЗОР ЗДЕСЬ ВЫ НАЙТИ...СДЕЛАТЬ СТАВКА <b class=\"match term0\">ОФИЦИАЛЬНЫЙ</b> <b class=\"match term1\">САЙТ</b> ВАЛЮТА RUB EUR USD МИНИМАЛЬНЫЙ...ВАШ ЛИЧНЫЙ СЧЕТ НА <b class=\"match term0\">ОФИЦИАЛЬНЫЙ</b> <b class=\"match term1\">САЙТ</b> БУКМЕКЕРСКИЙ КОНТОРА\n",
            "Docid: 308 B Title:  БУКМЕКЕРСКИЙ КОНТОРА 1WIN ОБЗОР УСЛУГА КОМПАНИЯ 1ВИН Highlights: ЭКСПЕРТ 1WIN ОБЗОР <b class=\"match term0\">ОФИЦИАЛЬНЫЙ</b> <b class=\"match term1\">САЙТ</b> 1WIN ОБЗОР РЕГИСТРАЦИЯ...1WIN ОБЗОР ЭТО <b class=\"match term0\">ОФИЦИАЛЬНЫЙ</b> <b class=\"match term1\">САЙТ</b> ВИЗУАЛЬНЫЙ СОСТАВЛЯТЬ...ИМЕТЬСЯ СЕГОДНЯ НА <b class=\"match term0\">ОФИЦИАЛЬНЫЙ</b> <b class=\"match term1\">САЙТ</b> БЕТТЕР ПРЕДЛАГАТЬСЯ\n",
            "Docid: 344 B Title:  1WIN БУКМЕКЕРСКИЙ КОНТОРА СТАВКА НА СПОРТ В БК 1 ВИНА Highlights: ПОЛЬЗОВАТЕЛЬ НА <b class=\"match term0\">ОФИЦИАЛЬНЫЙ</b> <b class=\"match term1\">САЙТ</b> 1ВИН ЕСТЬ РАЗДЕТЬ 1WIN...НЕЛЕГАЛЬНЫЙ КОНТОРА <b class=\"match term0\">ОФИЦИАЛЬНЫЙ</b> <b class=\"match term1\">САЙТ</b> ОПЕРАТОР СТАВКА В РФ...ОНО ЯВЛЯТЬСЯ КОПИЯ <b class=\"match term0\">ОФИЦИАЛЬНЫЙ</b> <b class=\"match term1\">САЙТ</b> КОТОРОЕ ДОСТУПНО ПО\n",
            "Docid: 313 S Title:  1 ВИНА ЗЕРКАЛО ОФИЦИАЛЬНЫЙ САЙТ ОБСУЖДЕНИЕ НА LIVEINTERNET РОССИЙСКИЙ СЕРВИС ОНЛАЙН ДНЕВНИК Highlights: ПОИСКОВЫЙ ФРАЗА 1 <b class=\"match term4\">ВИНА</b> ЗЕРКАЛО <b class=\"match term0\">ОФИЦИАЛЬНЫЙ</b> <b class=\"match term1\">САЙТ</b> ЧЕТВЕРГ 29 НОЯБРЬ 2018...РЕГИСТРАЦИЯ НА 1WIN <b class=\"match term0\">ОФИЦИАЛЬНЫЙ</b> <b class=\"match term1\">САЙТ</b> НЕДОСТУПНЫЙ ОДНАКО...СОЗДАВАТЬ ЗЕРКАЛО <b class=\"match term0\">ОФИЦИАЛЬНЫЙ</b> <b class=\"match term1\">САЙТ</b> РАБОТАТЬ 1WIN ПО СУБЛИЦЕНЗИЯ\n",
            "Docid: 334 S Title:  ПРОВЕРИТЬ АВТО ПО ВИНА КОД БЕСПЛАТНО AVTOBOT Highlights: ПО НОМЕР ПРОВЕРКА <b class=\"match term4\">ВИНА</b> КОД АВТОМОБИЛЬ ПО БАЗ...ПРОВЕРИТЬ АВТО ПО <b class=\"match term4\">ВИНА</b> КОД ИЛИ ГОС НОМЕР ПРОВЕРИТЬ...АВТОМОБИЛЬ ГДЕ НАЙТИ <b class=\"match term4\">ВИНА</b> КОДА АВТОМОБИЛЬ АВТОМОБИЛЬ\n",
            "\n",
            "==== Number of results: 31 for query (1|I) КОМНАТНЫЙ (КВАРТИРА|ЖИЛИЩЕ|КВАРТИРКА) (КУПИТЬ|ВЫКУПИТЬ|ДОКУПИТЬ|ЗАКУПИТЬ|НАКУПИТЬ|ПОКУПАТЬ|ПОКУПИТЬ|ПОКУПКА|ПРИОБРЕСТИ|ПРИОБРЕТАТЬ|ПРОДАВАТЬ|ПРОДАЖА) В (АЛМАТЫ1|АЛМАТЫ 1)\n",
            "Docid: 349 B Title:  ПРОДАЖА КВАРТИРА В АЛМАТЫ НА AVI KZ Highlights: <b class=\"match term0\">ПРОДАЖА</b> НЕДВИЖИМОСТЬ <b class=\"match term1\">КВАРТИРА</b> <b class=\"match term0\">ПРОДАЖА</b> <b class=\"match term1\">КВАРТИРА</b> В <b class=\"match term2\">АЛМАТЫ</b> <b class=\"match term0\">ПРОДАЖА</b> <b class=\"match term1\">КВАРТИРА</b> В <b class=\"match term2\">АЛМАТЫ</b> СПИСОК ГАЛЕРЕЯ НА...21М 2 ЭТАЖ 18 ИЗ 18 <b class=\"match term2\">АЛМАТЫ</b> 11 ОКТЯБРЬ 2 <b class=\"match term0\">ПРОДАЖА</b> <b class=\"match term1\">КВАРТИРА</b> 3 <b class=\"match term3\">КОМНАТНЫЙ</b> <b class=\"match term1\">КВАРТИРА</b> 70 М 2 43 000 000...7 7М 2 ЭТАЖ 4 ИЗ 5 <b class=\"match term2\">АЛМАТЫ</b> 9 ОКТЯБРЬ 2 <b class=\"match term0\">ПРОДАЖА</b> <b class=\"match term1\">КВАРТИРА</b> 2 <b class=\"match term3\">КОМНАТНЫЙ</b> <b class=\"match term1\">КВАРТИРА</b> 78 М 2 20 000 000\n",
            "Docid: 357 S Title:  1 КОМНАТНЫЙ КВАРТИРА ПРОДАЖА В АЛМАТЫ OLX KZ Highlights: РАЙОН 39 <b class=\"match term1\">КВАРТИРА</b> В <b class=\"match term2\">АЛМАТЫ</b> <b class=\"match term0\">ПРОДАЖА</b> 1 <b class=\"match term3\">КОМНАТНЫЙ</b> <b class=\"match term1\">КВАРТИРА</b> В <b class=\"match term2\">АЛМАТЫ</b> БЕЗ ПОСРЕДНИК <b class=\"match term0\">ПРОДАЖА</b> 2 <b class=\"match term3\">КОМНАТНЫЙ</b> <b class=\"match term1\">КВАРТИРА</b> В <b class=\"match term2\">АЛМАТЫ</b> БЕЗ ПОСРЕДНИК <b class=\"match term0\">ПРОДАЖА</b> 1 Х <b class=\"match term3\">КОМНАТНЫЙ</b> <b class=\"match term1\">КВАРТИРА</b> В <b class=\"match term2\">АЛМАТЫ</b> АУЭЗОВСКИЙ РАЙОН...3 <b class=\"match term3\">КОМНАТНЫЙ</b> <b class=\"match term1\">КВАРТИРА</b> В <b class=\"match term2\">АЛМАТЫ</b> <b class=\"match term1\">КВАРТИРА</b> ОТ 7 МЛН ТЕНГЕ <b class=\"match term2\">АЛМАТЫ</b> <b class=\"match term4\">КУПИТЬ</b> 1 <b class=\"match term3\">КОМНАТНЫЙ</b> <b class=\"match term1\">КВАРТИРА</b> В <b class=\"match term2\">АЛМАТЫ</b> МЕДЕУСКИЙ РАЙОН...<b class=\"match term1\">КВАРТИРА</b> В КРЕДИТ <b class=\"match term2\">АЛМАТЫ</b> <b class=\"match term4\">КУПИТЬ</b> <b class=\"match term1\">КВАРТИРА</b> В АЛМА СИТИ <b class=\"match term4\">КУПИТЬ</b> <b class=\"match term1\">КВАРТИРА</b> В МАМЫР <b class=\"match term2\">АЛМАТЫ</b> <b class=\"match term4\">КУПИТЬ</b> <b class=\"match term1\">КВАРТИРА</b> В <b class=\"match term2\">АЛМАТЫ</b> ВЫГОДНЫЙ КУПЛЯ <b class=\"match term0\">ПРОДАЖА</b> <b class=\"match term1\">КВАРТИРА</b> БЕЗ ПОСРЕДНИК\n",
            "Docid: 370 S Title:  КУПИТЬ КВАРТИРА В АЛМАТЫ БЕСПЛАТНЫЙ ОБЪЯВЛЕНИЕ НА МАРКЕТ Highlights: 1 <b class=\"match term4\">КУПИТЬ</b> <b class=\"match term1\">КВАРТИРА</b> В АКТОБЕ 10 <b class=\"match term4\">КУПИТЬ</b> <b class=\"match term1\">КВАРТИРА</b> В АКТАУ 5 <b class=\"match term4\">КУПИТЬ</b> <b class=\"match term1\">КВАРТИРА</b> В КОСТАНАЙ 3 <b class=\"match term4\">КУПИТЬ</b> <b class=\"match term1\">КВАРТИРА</b> В ТАРАЗ 7 <b class=\"match term4\">КУПИТЬ</b> <b class=\"match term1\">КВАРТИРА</b> В ПАВЛОДАР 13 <b class=\"match term4\">КУПИТЬ</b> <b class=\"match term1\">КВАРТИРА</b> В СЕМЕЕ 1 <b class=\"match term4\">КУПИТЬ</b> <b class=\"match term1\">КВАРТИРА</b> В УРАЛЬСК 1 <b class=\"match term4\">КУПИТЬ</b> <b class=\"match term1\">КВАРТИРА</b> В КЫЗЫЛОРДА 2 <b class=\"match term4\">КУПИТЬ</b> <b class=\"match term1\">КВАРТИРА</b> В АТЫРАУ...В КАТЕГОРИЯ <b class=\"match term4\">КУПИТЬ</b> <b class=\"match term1\">КВАРТИРА</b> <b class=\"match term1\">КВАРТИРА</b> В РАССРОЧКА <b class=\"match term4\">КУПИТЬ</b> <b class=\"match term1\">КВАРТИРА</b> <b class=\"match term4\">КУПИТЬ</b> <b class=\"match term1\">КВАРТИРА</b> БАЛКОН 1 <b class=\"match term3\">КОМНАТНЫЙ</b> <b class=\"match term1\">КВАРТИРА</b> ЛОДЖИЯ 2 <b class=\"match term3\">КОМНАТНЫЙ</b> <b class=\"match term1\">КВАРТИРА</b> 3 <b class=\"match term3\">КОМНАТНЫЙ</b> <b class=\"match term1\">КВАРТИРА</b> <b class=\"match term3\">КОМНАТНЫЙ</b> <b class=\"match term1\">КВАРТИРА</b> ТРИ <b class=\"match term3\">КОМНАТНЫЙ</b> <b class=\"match term1\">КВАРТИРА</b> БАЛКОН ЛОДЖИЯ...РАССРОЧКА <b class=\"match term1\">КВАРТИРА</b> <b class=\"match term1\">КВАРТИРА</b> 3Х <b class=\"match term3\">КОМНАТНЫЙ</b> <b class=\"match term1\">КВАРТИРА</b> <b class=\"match term4\">КУПИТЬ</b> 4 <b class=\"match term3\">КОМНАТНЫЙ</b> <b class=\"match term1\">КВАРТИРА</b> ОРБИТА <b class=\"match term1\">КВАРТИРА</b> ОБЪЯВЛЕНИЕ В <b class=\"match term2\">АЛМАТЫ</b> НЕДВИЖИМОСТЬ <b class=\"match term1\">КВАРТИРА</b> <b class=\"match term4\">КУПИТЬ</b> <b class=\"match term1\">КВАРТИРА</b> В <b class=\"match term2\">АЛМАТЫ</b> УСТАНОВИТЬ ПРИЛОЖЕНИЕ\n",
            "Docid: 359 B Title:  КУПИТЬ ОДНОКОМНАТНЫЙ КВАРТИРА В АЛМАТЫ ПРОДАЖА ОДНОКОМНАТНЫЙ КВАРТИРА В АЛМАТЫ ПОИСК НЕДВИЖИМОСТЬ KN KZ НЕДВИЖИМОСТЬ КАЗАХСТАН Highlights: РЫНОК НЕДВИЖИМОСТЬ В <b class=\"match term2\">АЛМАТЫ</b> <b class=\"match term0\">ПОКУПКА</b> И <b class=\"match term0\">ПРОДАЖА</b> МАЛЕНЬКИЙ <b class=\"match term1\">КВАРТИРА</b> ТАКЖЕ В ЧИСЛО САМЫХ...<b class=\"match term4\">КУПИТЬ</b> <b class=\"match term1\">КВАРТИРА</b> В <b class=\"match term2\">АЛМАТЫ</b> <b class=\"match term0\">ПРОДАЖА</b> <b class=\"match term1\">КВАРТИРА</b> В <b class=\"match term2\">АЛМАТЫ</b> <b class=\"match term0\">ПРОДАЖА</b> 1 <b class=\"match term1\">КВАРТИРА</b> В <b class=\"match term2\">АЛМАТЫ</b> <b class=\"match term0\">ПРОДАЖА</b> 2 <b class=\"match term3\">КОМНАТНЫЙ</b> <b class=\"match term1\">КВАРТИРА</b> В <b class=\"match term2\">АЛМАТЫ</b> <b class=\"match term0\">ПРОДАЖА</b> <b class=\"match term1\">КВАРТИРА</b> В <b class=\"match term2\">АЛМАТЫ</b> <b class=\"match term0\">ПРОДАЖА</b> 4 <b class=\"match term1\">КВАРТИРА</b> В <b class=\"match term2\">АЛМАТЫ</b> <b class=\"match term0\">ПРОДАЖА</b> 5 <b class=\"match term3\">КОМНАТНЫЙ</b> <b class=\"match term1\">КВАРТИРА</b> В <b class=\"match term2\">АЛМАТЫ</b> 1 <b class=\"match term3\">КОМНАТНЫЙ</b> <b class=\"match term1\">КВАРТИРА</b> БЕЗ ПОСРЕДНИК...<b class=\"match term2\">АЛМАТЫ</b> АРЕНДА ДОМ В <b class=\"match term2\">АЛМАТЫ</b> АРЕНДА ОФИС В <b class=\"match term2\">АЛМАТЫ</b> <b class=\"match term0\">ПРОДАЖА</b> <b class=\"match term1\">КВАРТИРА</b> В КАРАГАНДА <b class=\"match term0\">ПРОДАЖА</b> <b class=\"match term1\">КВАРТИРА</b> В АСТАН <b class=\"match term0\">ПРОДАЖА</b> <b class=\"match term1\">КВАРТИРА</b> В КАМЕНОГОРСК\n",
            "Docid: 372 B Title:  КВАРТИРА 2 Х КОМНАТНЫЙ В АЛМАТЫ СРАВНИТЬ ЦЕНА КУПИТЬ ПОТРЕБИТЕЛЬСКИЙ ТОВАР НА МАРКЕТПЛЕЙС SATU KZ Highlights: <b class=\"match term1\">КВАРТИРА</b> 2 <b class=\"match term3\">КОМНАТНЫЙ</b> <b class=\"match term0\">ПРОДАЖА</b> ПОИСК ПОСТАВЩИК...КАТАЛОГ ТОВАРОВ <b class=\"match term2\">АЛМАТЫ</b> <b class=\"match term1\">КВАРТИРА</b> <b class=\"match term1\">КВАРТИРА</b> 2 Х <b class=\"match term3\">КОМНАТНЫЙ</b> НАЙТИ 41 НАИМЕНОВАНИЕ...<b class=\"match term1\">КВАРТИРА</b> 2 Х <b class=\"match term3\">КОМНАТНЫЙ</b> В <b class=\"match term2\">АЛМАТЫ</b> ПО РЕЙТИНГ ДЕШЕВЫЙ\n",
            "Docid: 375 B Title:  ПРОДАЖА ОДНОКОМНАТНЫЙ КВАРТИРА В Г АЛМАТЫ НОВОСТРОЙКА И ВТОРИЧКА С РЕМОНТ И МЕБЕЛЬ ОБЪЯВЛЕНИЕ НА LEBOARD RU Highlights: <b class=\"match term0\">ПРОДАЖА</b> ОДНОКОМНАТНЫЙ <b class=\"match term1\">КВАРТИРА</b> ОБЪЯВЛЕНИЕ <b class=\"match term2\">АЛМАТЫ</b> ВСЕ НОВОЕ Б У НОВОЕ...<b class=\"match term1\">ПРОДАВАТЬ</b> 1 КОМН <b class=\"match term1\">КВАРТИРА</b> В Г <b class=\"match term2\">АЛМАТЫ</b> НАУРЫЗБАЙСКИЙ РАЙОН...ОБЪЯВЛЕНИЕ ПРОДАТЬ 1 <b class=\"match term3\">КОМНАТНЫЙ</b> <b class=\"match term1\">КВАРТИРА</b> ПРОДАТЬ 1 <b class=\"match term3\">КОМНАТНЫЙ</b> <b class=\"match term1\">КВАРТИРА</b> ПОЛНОСТЬЮ МЕБЕЛИРОВАННА\n",
            "Docid: 378 B Title:  КУПИТЬ ОДНОКОМНАТНЫЙ КВАРТИРА В АЛМАТЫ ПРОДАЖА КВАРТИРА В АЛМАТЫ FLATFY KZ Highlights: FLATFY KZ ВЫ МОЖЕТЕ <b class=\"match term4\">КУПИТЬ</b> ОДНОКОМНАТНЫЙ <b class=\"match term1\">КВАРТИРА</b> В <b class=\"match term2\">АЛМАТЫ</b> <b class=\"match term0\">ПРОДАЖА</b> <b class=\"match term1\">КВАРТИРА</b> В <b class=\"match term2\">АЛМАТЫ</b> FLATFY САМЫЙ БОЛЬШОЙ...ПОСУТОЧНЫЙ АРЕНДА <b class=\"match term2\">АЛМАТЫ</b> <b class=\"match term2\">АЛМАТЫ</b> ПЕТРОПАВЛОВСК <b class=\"match term4\">КУПИТЬ</b> ОДНОКОМНАТНЫЙ <b class=\"match term1\">КВАРТИРА</b> <b class=\"match term2\">АЛМАТЫ</b> <b class=\"match term0\">ПРОДАЖА</b> <b class=\"match term1\">КВАРТИРА</b> <b class=\"match term2\">АЛМАТЫ</b> 20 200 000 ТГ 5 596...5 KN 28 800 000 ТГ <b class=\"match term0\">ПРОДАЖА</b> 1 <b class=\"match term3\">КОМНАТНЫЙ</b> <b class=\"match term1\">КВАРТИРА</b> 42 М 11 Н Г <b class=\"match term2\">АЛМАТЫ</b> Р Н АУЭЗОВСКИЙ 11\n",
            "Docid: 366 S Title:  ПРОДАЖА ОДНОКОМНАТНЫЙ КВАРТИРА В АЛМАТЫ КУПИТЬ ОДНОКОМНАТНЫЙ КВАРТИРА В АЛМАТЫ БЕСПЛАТНЫЙ ОБЪЯВЛЕНИЕ АЛМАТЫ Highlights: ГЛАВНЫЙ ОБЪЯВЛЕНИЕ В <b class=\"match term2\">АЛМАТЫ</b> НЕДВИЖИМОСТЬ <b class=\"match term0\">ПРОДАЖА</b> <b class=\"match term1\">КВАРТИРА</b> КОМНАТА <b class=\"match term0\">ПРОДАЖА</b> ОДНОКОМНАТНЫЙ...<b class=\"match term1\">КВАРТИРА</b> В <b class=\"match term2\">АЛМАТЫ</b> <b class=\"match term0\">ПРОДАЖА</b> ОДНОКОМНАТНЫЙ...9 1 <b class=\"match term3\">КОМНАТНЫЙ</b> <b class=\"match term1\">КВАРТИРА</b> <b class=\"match term2\">АЛМАТЫ</b> РОЗЫБАКИЕВ ТИМЕРЯЗЕВ\n",
            "Docid: 364 S Title:  КУПИТЬ КВАРТИРА В ГОРОД АЛМАТЫ НЕДОРОГОЙ ОБЪЯВЛЕНИЕ О ПРОДАЖА НА НЕДВИЖИМОСТЬ KZ Highlights: ЧИСТЫЙ АЛМАТИНСКИЙ <b class=\"match term2\">АЛМАТЫ</b> 24500000 <b class=\"match term0\">ПРОДАЖА</b> 1 <b class=\"match term3\">КОМНАТНЫЙ</b> <b class=\"match term1\">КВАРТИРА</b> В ЖК ELEMENT АЛМАТИНСКИЙ...АЛМАТИНСКИЙ <b class=\"match term2\">АЛМАТЫ</b> 38100000 <b class=\"match term0\">ПРОДАЖА</b> ПРОДАВАТЬСЯ 2 <b class=\"match term1\">КВАРТИРА</b> АЛМАТИНСКИЙ <b class=\"match term2\">АЛМАТЫ</b> 33900000 <b class=\"match term0\">ПРОДАЖА</b> ПРОДАТЬ 2 <b class=\"match term1\">КВАРТИРА</b> В <b class=\"match term2\">АЛМАТЫ</b> УЛ АЛМАТИНСКИЙ <b class=\"match term2\">АЛМАТЫ</b> 41000000 <b class=\"match term0\">ПРОДАЖА</b> ПРОДАВАТЬСЯ <b class=\"match term1\">КВАРТИРА</b> 57 КВМ АЛМАТИНСКИЙ...АЛМАТИНСКИЙ <b class=\"match term2\">АЛМАТЫ</b> 46 499 999 <b class=\"match term0\">ПРОДАЖА</b> 1 <b class=\"match term3\">КОМНАТНЫЙ</b> <b class=\"match term1\">КВАРТИРА</b> 89 М2 2 9 ЭТ АЛМАТИНСКИЙ\n",
            "Docid: 348 S Title:  ОДНОКОМНАТНЫЙ КВАРТИРА 1 КОМНАТНЫЙ КВАРТИРА ПРОДАЖА ОДНОКОМНАТНЫЙ КВАРТИРА АЛМАТЫ SLANET Highlights: ОДНОКОМНАТНЫЙ <b class=\"match term1\">КВАРТИРА</b> <b class=\"match term0\">ПРОДАЖА</b> 1 <b class=\"match term3\">КОМНАТНЫЙ</b> <b class=\"match term1\">КВАРТИРА</b> НА ДОСКА БЕСПЛАТНЫЙ...ОБЪЯВЛЕНИЕ SLANET <b class=\"match term2\">АЛМАТЫ</b> ОДНОКОМНАТНЫЙ <b class=\"match term1\">КВАРТИРА</b> 1 <b class=\"match term3\">КОМНАТНЫЙ</b> <b class=\"match term1\">КВАРТИРА</b> <b class=\"match term0\">ПРОДАЖА</b> ОДНОКОМНАТНЫЙ...5 ФОТО ПРОДАТЬ 1 <b class=\"match term3\">КОМНАТНЫЙ</b> <b class=\"match term1\">КВАРТИРА</b> <b class=\"match term1\">ПРОДАВАТЬ</b> 1 <b class=\"match term3\">КОМНАТНЫЙ</b> <b class=\"match term1\">КВАРТИРА</b> В ЦЕНТР ГОРОД УЛУЧШИТЬ\n",
            "\n"
          ]
        }
      ]
    },
    {
      "cell_type": "markdown",
      "source": [
        "Фильтрация поисковой выдачи"
      ],
      "metadata": {
        "id": "owRYkHidaVKx"
      }
    },
    {
      "cell_type": "code",
      "source": [
        "import whoosh.query as query\n",
        "\n",
        "for query_text in queries_texts_sample:\n",
        "    qp = setup_parser(MultifieldParser([\"title\", \"body\"], schema=schema))\n",
        "    q = qp.parse(query_text)\n",
        "\n",
        "    # тоже антигвозди по произвольному полю\n",
        "    allow_q = query.Term(\"is_small\", True)\n",
        "#    restrict_q = query.Term(\"docid\", 3666)\n",
        "    restrict_q = query.Term(\"docid\", 309)\n",
        "    with ix.searcher() as searcher:\n",
        "        results = searcher.search(q, filter=allow_q, mask=restrict_q)\n",
        "        output_results(results, query_text, new_line=False)\n",
        "        # сколько было отфильтровано\n",
        "        print(f\"Filtered out {results.filtered_count} documents\")\n",
        "        print()"
      ],
      "metadata": {
        "colab": {
          "base_uri": "https://localhost:8080/"
        },
        "id": "rvxGtpPwaMk7",
        "outputId": "6809da26-fb58-47fc-f6bb-2eccf4e775d3"
      },
      "execution_count": null,
      "outputs": [
        {
          "output_type": "stream",
          "name": "stdout",
          "text": [
            "==== Number of results: 0 for query (1|I) 9736586783 (НАЙТИ|SEARCH|ВЗЯТЬ|ВЫЯСНИТЬ|ДОСТАТЬ|ИСКАТЬ|НАХОДИТЬ|ПОИСК|ПОЛУЧИТЬ) КОМУ (ПРИНАДЛЕЖАТЬ|ИМЕТЬ) (ЭТОТ|ETOT) (НОМЕР|КОМНАТА|НОМЕРНОЙ|НОМЕРОК)\n",
            "Filtered out 0 documents\n",
            "\n",
            "==== Number of results: 0 for query (1|I) (MASCULINE|МАСКАЛАЙН|МАСКАЛИН|МАСКУЛАЙН) ОТЗИВ\n",
            "Filtered out 0 documents\n",
            "\n",
            "==== Number of results: 2 for query (1|I) (АНАЛИЗ|ИССЛЕДОВАНИЕ|РАЗБОР) (СОЗДАТЬ|CREATION|ВОССОЗДАТЬ|СОЗДАВАТЬ|СОЗДАВАТЬСЯ|СОЗДАНИЕ|СОЗДАТЕЛЬ|СОТВОРИТЬ|ТВОРЕНИЕ) (УСЛОВИЕ|ДОГОВОР|ДОГОВОРЕННОСТЬ|СОГЛАШЕНИЕ) ДЛЯ (РАЗВИТИЕ|РОСТ|СТАНОВЛЕНИЕ|ФОРМИРОВАНИЕ|ЭВОЛЮЦИЯ) (ИГРОВОЙ|ИГРА) (ДЕЯТЕЛЬНОСТЬ|ДЕЙСТВИЕ|ДЕЯТЕЛЬНЫЙ) (ГРУППА|ГРУППИРОВАТЬ|КОЛЛЕКТИВ) (РАННИЙ|ЗАРАНЕЕ|НАЧАЛЬНЫЙ|ПРЕЖДЕ|ПРЕЖДЕВРЕМЕННЫЙ|РАНЕЕ)\n",
            "Docid: 301 S Title:  НАБЛЮДЕНИЕ И АНАЛИЗ ОРГАНИЗАЦИЯ ПРЕДМЕТНЫЙ И ИГРОВОЙ ДЕЯТЕЛЬНОСТЬ РЕБЕНОК РАННИЙ ВОЗРАСТ Highlights: И <b class=\"match term0\">ИГРОВОЙ</b> <b class=\"match term1\">ДЕЯТЕЛЬНОСТЬ</b> РЕБЕНОК <b class=\"match term2\">РАННИЙ</b> ВОЗРАСТ <b class=\"match term3\">АНАЛИЗ</b> <b class=\"match term4\">РАЗВИТИЕ</b> ПРЕДМЕТНЫЙ <b class=\"match term1\">ДЕЯТЕЛЬНОСТЬ</b> РЕБЕНОК ПЕРЕЧИСЛИТЬ...РЕБЕНОК НА <b class=\"match term0\">ДЕЙСТВИЕ</b> С ПРЕДМЕТ <b class=\"match term3\">АНАЛИЗ</b> <b class=\"match term0\">ИГРОВОЙ</b> <b class=\"match term1\">ДЕЯТЕЛЬНОСТЬ</b> РЕБЕНОК ОПРЕДЕЛИТЬ...<b class=\"match term1\">УСЛОВИЕ</b> <b class=\"match term2\">СОЗДАТЬ</b> <b class=\"match term3\">ДЛЯ</b> <b class=\"match term4\">РАЗВИТИЕ</b> ДИДАКТИЧЕСКИЙ\n",
            "Docid: 274 S Title:  УГЛУБЛЕННЫЙ АНАЛИЗ ДЕЯТЕЛЬНОСТЬ ВОСПИТАТЕЛЬ И ПОМОЩНИК ВОСПИТАТЕЛЬ ГРУППА РАННИЙ ВОЗРАСТ Highlights: ВЫВОД СОТРУДНИК <b class=\"match term4\">СОЗДАВАТЬ</b> <b class=\"match term1\">УСЛОВИЕ</b> <b class=\"match term3\">ДЛЯ</b> <b class=\"match term4\">РАЗВИТИЕ</b> ЭМОЦИОНАЛЬНЫЙ...<b class=\"match term4\">СОЗДАВАТЬ</b> <b class=\"match term1\">УСЛОВИЕ</b> <b class=\"match term3\">ДЛЯ</b> <b class=\"match term4\">РАЗВИТИЕ</b> ПРЕДМЕТНЫЙ ВЗАИМОДЕЙСТВИЕ...ИЛИ ДИДАКТИЧЕСКИЙ <b class=\"match term0\">ИГРА</b> СОТРУДНИК <b class=\"match term4\">СОЗДАВАТЬ</b> <b class=\"match term1\">УСЛОВИЕ</b> <b class=\"match term3\">ДЛЯ</b> <b class=\"match term4\">РАЗВИТИЕ</b> У РЕБЕНОК ПРОЦЕССУАЛЬНЫЙ\n",
            "Filtered out 42 documents\n",
            "\n",
            "==== Number of results: 7 for query (1|I) (ВИНА|VIN|VINUM|WIN) (ОФИЦИАЛЬНЫЙ|ОФИЦИАЛЬНОСТЬ) (САЙТ|SIGHT|SITE)\n",
            "Docid: 324 S Title:  ВАН ВИНА БУКМЕКЕРСКИЙ КОНТОРА ОФИЦИАЛЬНЫЙ САЙТ Highlights: <b class=\"match term0\">САЙТ</b> ДЛЯ ПОДКЛЮЧЕНИЕ К <b class=\"match term1\">ОФИЦИАЛЬНЫЙ</b> <b class=\"match term0\">САЙТ</b> 1 <b class=\"match term2\">WIN</b> ПРЕДУСМОТРЕННЫЙ ПОЛНЫЙ...ПЛАТЕЖ ПОПОЛНЕНИЕ НА <b class=\"match term1\">ОФИЦИАЛЬНЫЙ</b> <b class=\"match term0\">САЙТ</b> 1 <b class=\"match term3\">ВИНА</b> ВНЕСТИ ДЕПОЗИТ ИГРОК...УСЛОВИЕ СТАВКА НА 1 <b class=\"match term3\">ВИНА</b> НА <b class=\"match term1\">ОФИЦИАЛЬНЫЙ</b> <b class=\"match term0\">САЙТ</b> БУКМЕКЕРСКИЙ КОНТОРА\n",
            "Docid: 323 S Title:  1 WIN ОФИЦИАЛЬНЫЙ САЙТ БУКМЕКЕРСКИЙ КОНТОРА ВАН ВИНА СТАВКА НА СПОРТ ОНЛАЙН ОСОБЕННОСТЬ БЕТТИНГ В 1 ВИНА BEST BOOKMAKER RU Highlights: <b class=\"match term1\">ОФИЦИАЛЬНЫЙ</b> <b class=\"match term0\">САЙТ</b> 1 <b class=\"match term2\">WIN</b> ОБЗОР ЗДЕСЬ ВЫ НАЙТИ...ПРИЕМ СТАВКА 1WIN <b class=\"match term1\">ОФИЦИАЛЬНЫЙ</b> <b class=\"match term0\">САЙТ</b> ОБЗОР БУКМЕКЕРСКИЙ...ВАШ ЛИЧНЫЙ СЧЕТ НА <b class=\"match term1\">ОФИЦИАЛЬНЫЙ</b> <b class=\"match term0\">САЙТ</b> БУКМЕКЕРСКИЙ КОНТОРА\n",
            "Docid: 334 S Title:  ПРОВЕРИТЬ АВТО ПО ВИНА КОД БЕСПЛАТНО AVTOBOT Highlights: ПРОВЕРИТЬ АВТО ПО <b class=\"match term3\">ВИНА</b> КОД ИЛИ ГОС НОМЕР ПРОВЕРИТЬ...ХОЗЯЕВ РАСШИФРОВКА <b class=\"match term3\">ВИНА</b> КОД ИСТОРИЯ АВТОМОБИЛЬ...АВТОМОБИЛЬ ГДЕ НАЙТИ <b class=\"match term3\">ВИНА</b> КОДА АВТОМОБИЛЬ АВТОМОБИЛЬ\n",
            "Docid: 313 S Title:  1 ВИНА ЗЕРКАЛО ОФИЦИАЛЬНЫЙ САЙТ ОБСУЖДЕНИЕ НА LIVEINTERNET РОССИЙСКИЙ СЕРВИС ОНЛАЙН ДНЕВНИК Highlights: ПОИСКОВЫЙ ФРАЗА 1 <b class=\"match term3\">ВИНА</b> ЗЕРКАЛО <b class=\"match term1\">ОФИЦИАЛЬНЫЙ</b> <b class=\"match term0\">САЙТ</b> ЧЕТВЕРГ 29 НОЯБРЬ 2018...СОЗДАВАТЬ ЗЕРКАЛО <b class=\"match term1\">ОФИЦИАЛЬНЫЙ</b> <b class=\"match term0\">САЙТ</b> РАБОТАТЬ 1WIN ПО СУБЛИЦЕНЗИЯ...КАК ВЫГЛЯДЕТЬ <b class=\"match term1\">ОФИЦИАЛЬНЫЙ</b> <b class=\"match term0\">САЙТ</b> 1WIN РЕСУРС ОБЛАДАТЬ\n",
            "Docid: 311 S Title:  WIN MOBILE ОПЕРАТОР МОБИЛЬНЫЙ СВЯЗЬ В КРЫМ И Г СЕВАСТОПОЛЬ Highlights: <b class=\"match term1\">ОФИЦИАЛЬНЫЙ</b> <b class=\"match term0\">САЙТ</b> ОПЕРАТОР СОТОВ СВЯЗЬ...И МОБИЛЬНЫЙ ИНТЕРНЕТ <b class=\"match term2\">WIN</b> MOBILE ДЕЙСТВОВАТЬ...0545 MOBILE 2022 <b class=\"match term2\">WIN</b> MOBILE РАЗРАБОТКА <b class=\"match term0\">САЙТ</b> WEB MOVER ЧАСТНОЕ ЛИЦО\n",
            "Docid: 330 S Title:  VINPIN RU КАТАЛОГ ПОДБОР АРТИКУЛОВ ЗАПЧАСТЬ ПО VIN КОД ДИЛЕРСКИЙ КАТАЛОГ ПРОГРАММА ДЛЯ АВТОСЕРВИС СТО Highlights: ЗАПЧАСТЬ КАК У <b class=\"match term1\">ОФИЦИАЛЬНЫЙ</b> ДИЛЕР МНОГО...КОД ЗАПЧАСТЬ ПО <b class=\"match term4\">VIN</b> ПОДБИРАТЬ КОДА ДЕТАЛЬ...АВТОМОБИЛЬ КАК У <b class=\"match term1\">ОФИЦИАЛЬНЫЙ</b> ДИЛЕР В СИСТЕМА\n",
            "Docid: 331 S Title:  ИНТЕРНЕТ ВИТРИНА МАГАЗИН SIMPLEWINE ПРОДАЖА ХОРОШИЙ АЛКОГОЛЬ В МОСКВА И САНКТ ПЕТЕРБУРГ ЦЕНА НА САЙТ Highlights: ПОДХОДИТЬ ПОД НЕГО <b class=\"match term3\">ВИНА</b> РАСКРЫТЬ В ПОРТФЕЛЬ...ОБЩИЙ ИНФОРМАЦИЯ О <b class=\"match term3\">ВИНА</b> ВИТРИНА <b class=\"match term3\">ВИНА</b> СОДЕРЖАТЬ МНОЖЕСТВО...СОМЕЛИЕ <b class=\"match term1\">ОФИЦИАЛЬНЫЙ</b> <b class=\"match term0\">САЙТ</b> ГРУППА КОМПАНИЯ КОНЬЯК\n",
            "Filtered out 9 documents\n",
            "\n",
            "==== Number of results: 25 for query (1|I) КОМНАТНЫЙ (КВАРТИРА|ЖИЛИЩЕ|КВАРТИРКА) (КУПИТЬ|ВЫКУПИТЬ|ДОКУПИТЬ|ЗАКУПИТЬ|НАКУПИТЬ|ПОКУПАТЬ|ПОКУПИТЬ|ПОКУПКА|ПРИОБРЕСТИ|ПРИОБРЕТАТЬ|ПРОДАВАТЬ|ПРОДАЖА) В (АЛМАТЫ1|АЛМАТЫ 1)\n",
            "Docid: 353 S Title:  СНИМАТЬ 1 КОМНАТНЫЙ КВАРТИРА В АЛМАТЫ1 КАЗАХСТАН Highlights: НА ТЕМА СНИМАТЬ 1 <b class=\"match term0\">КОМНАТНЫЙ</b> <b class=\"match term1\">КВАРТИРА</b> В <b class=\"match term2\">АЛМАТЫ1</b> СДАТЬ ПОСУТОЧНО...ВСЕ СНИМАТЬ 1 <b class=\"match term0\">КОМНАТНЫЙ</b> <b class=\"match term1\">КВАРТИРА</b> В <b class=\"match term2\">АЛМАТЫ1</b> АСТАН 21 10 УНИКАЛЬНЫЙ...БЫТОВОЙ КОММУНАЛЬНЫЙ <b class=\"match term3\">ПРОДАВАТЬ</b> 3 <b class=\"match term0\">КОМНАТНЫЙ</b> <b class=\"match term1\">КВАРТИРА</b> ПО НАБ СЛАВСКИЙ\n",
            "Docid: 348 S Title:  ОДНОКОМНАТНЫЙ КВАРТИРА 1 КОМНАТНЫЙ КВАРТИРА ПРОДАЖА ОДНОКОМНАТНЫЙ КВАРТИРА АЛМАТЫ SLANET Highlights: ОДНОКОМНАТНЫЙ <b class=\"match term1\">КВАРТИРА</b> <b class=\"match term4\">ПРОДАЖА</b> 1 <b class=\"match term0\">КОМНАТНЫЙ</b> <b class=\"match term1\">КВАРТИРА</b> НА ДОСКА БЕСПЛАТНЫЙ...ОБЪЯВЛЕНИЕ SLANET <b class=\"match term0\">АЛМАТЫ</b> ОДНОКОМНАТНЫЙ <b class=\"match term1\">КВАРТИРА</b> 1 <b class=\"match term0\">КОМНАТНЫЙ</b> <b class=\"match term1\">КВАРТИРА</b> <b class=\"match term4\">ПРОДАЖА</b> ОДНОКОМНАТНЫЙ...5 ФОТО ПРОДАТЬ 1 <b class=\"match term0\">КОМНАТНЫЙ</b> <b class=\"match term1\">КВАРТИРА</b> <b class=\"match term3\">ПРОДАВАТЬ</b> 1 <b class=\"match term0\">КОМНАТНЫЙ</b> <b class=\"match term1\">КВАРТИРА</b> В ЦЕНТР ГОРОД УЛУЧШИТЬ\n",
            "Docid: 362 S Title:  АКТОБЕ СНИМАТЬ 1 КОМНАТНЫЙ КВАРТИРА В АЛМАТЫ1 САМЫЕ СВЕЖИЙ ОБЪЯВЛЕНИЕ ЗА СЕГОДНЯ Highlights: НА ТЕМА СНИМАТЬ 1 <b class=\"match term0\">КОМНАТНЫЙ</b> <b class=\"match term1\">КВАРТИРА</b> В <b class=\"match term2\">АЛМАТЫ1</b> В АКТОБЕ В НАШЕМ...НА ТЕМА СНИМАТЬ 1 <b class=\"match term0\">КОМНАТНЫЙ</b> <b class=\"match term1\">КВАРТИРА</b> В <b class=\"match term2\">АЛМАТЫ1</b> В АКТОБЕ НЕДВИЖИМОСТЬ...<b class=\"match term1\">КВАРТИРА</b> <b class=\"match term4\">ПРОДАЖА</b> <b class=\"match term1\">КВАРТИРА</b> <b class=\"match term3\">ПРОДАВАТЬ</b> 1 <b class=\"match term1\">КВАРТИРА</b> Г АКТОБЕ УЛ РЫСКУЛОВ\n",
            "Docid: 360 S Title:  ВЕСЬ КАЗАХСТАН КУПИТЬ 1 КОМНАТНЫЙ КВАРТИРА В АЛМАТЫ САМЫЕ СВЕЖИЙ ОБЪЯВЛЕНИЕ ЗА СЕГОДНЯ Highlights: НЕ БЕСПОКОИТЬ <b class=\"match term0\">АЛМАТЫ</b> <b class=\"match term0\">АЛМАТЫ</b> 17 <b class=\"match term1\">ПОКУПКА</b> <b class=\"match term1\">КВАРТИРА</b> МЕНЯТЬ <b class=\"match term1\">КВАРТИРА</b> ВО ПСКОВ НА <b class=\"match term1\">КВАРТИРА</b> В <b class=\"match term0\">АЛМАТЫ</b> МЕНЯТЬ 1 <b class=\"match term0\">КОМНАТНЫЙ</b> <b class=\"match term1\">КВАРТИРА</b> В Г ПСКОВ РАЙОН...С У РАЗДЕЛЬНЫЙ НА 1 <b class=\"match term0\">КОМНАТНЫЙ</b> <b class=\"match term1\">КВАРТИРА</b> В Г <b class=\"match term0\">АЛМАТЫ</b> С ОБМЕН <b class=\"match term1\">КВАРТИРА</b> <b class=\"match term2\">КУПИТЬ</b> ДВА <b class=\"match term0\">КОМНАТНЫЙ</b> <b class=\"match term1\">КВАРТИРА</b> В РАССРОЧКА <b class=\"match term2\">КУПИТЬ</b> 2 Х <b class=\"match term0\">КОМНАТНЫЙ</b> <b class=\"match term1\">КВАРТИРА</b> В РАССРОЧКА В П...ЗАРАНЕЕ БЛАГОДАРИТЬ <b class=\"match term0\">АЛМАТЫ</b> 11 12 <b class=\"match term1\">ПОКУПКА</b> <b class=\"match term1\">КВАРТИРА</b> <b class=\"match term2\">КУПИТЬ</b> <b class=\"match term1\">КВАРТИРА</b> 1 ИЛИ 2 Х <b class=\"match term0\">КОМНАТНЫЙ</b> <b class=\"match term1\">КВАРТИРА</b> 11 ИЛИ 12 МКР ПОСЛЕДНИЙ\n",
            "Docid: 357 S Title:  1 КОМНАТНЫЙ КВАРТИРА ПРОДАЖА В АЛМАТЫ OLX KZ Highlights: РАЙОН 39 <b class=\"match term1\">КВАРТИРА</b> В <b class=\"match term0\">АЛМАТЫ</b> <b class=\"match term4\">ПРОДАЖА</b> 1 <b class=\"match term0\">КОМНАТНЫЙ</b> <b class=\"match term1\">КВАРТИРА</b> В <b class=\"match term0\">АЛМАТЫ</b> БЕЗ ПОСРЕДНИК <b class=\"match term4\">ПРОДАЖА</b> 2 <b class=\"match term0\">КОМНАТНЫЙ</b> <b class=\"match term1\">КВАРТИРА</b> В <b class=\"match term0\">АЛМАТЫ</b> БЕЗ ПОСРЕДНИК <b class=\"match term4\">ПРОДАЖА</b> 1 Х <b class=\"match term0\">КОМНАТНЫЙ</b> <b class=\"match term1\">КВАРТИРА</b> В <b class=\"match term0\">АЛМАТЫ</b> АУЭЗОВСКИЙ РАЙОН...3 <b class=\"match term0\">КОМНАТНЫЙ</b> <b class=\"match term1\">КВАРТИРА</b> В <b class=\"match term0\">АЛМАТЫ</b> <b class=\"match term1\">КВАРТИРА</b> ОТ 7 МЛН ТЕНГЕ <b class=\"match term0\">АЛМАТЫ</b> <b class=\"match term2\">КУПИТЬ</b> 1 <b class=\"match term0\">КОМНАТНЫЙ</b> <b class=\"match term1\">КВАРТИРА</b> В <b class=\"match term0\">АЛМАТЫ</b> МЕДЕУСКИЙ РАЙОН...<b class=\"match term1\">КВАРТИРА</b> В КРЕДИТ <b class=\"match term0\">АЛМАТЫ</b> <b class=\"match term2\">КУПИТЬ</b> <b class=\"match term1\">КВАРТИРА</b> В АЛМА СИТИ <b class=\"match term2\">КУПИТЬ</b> <b class=\"match term1\">КВАРТИРА</b> В МАМЫР <b class=\"match term0\">АЛМАТЫ</b> <b class=\"match term2\">КУПИТЬ</b> <b class=\"match term1\">КВАРТИРА</b> В <b class=\"match term0\">АЛМАТЫ</b> ВЫГОДНЫЙ КУПЛЯ <b class=\"match term4\">ПРОДАЖА</b> <b class=\"match term1\">КВАРТИРА</b> БЕЗ ПОСРЕДНИК\n",
            "Docid: 365 S Title:  СНИМАТЬ 1 КОМНАТНЫЙ КВАРТИРА В АЛМАТЫ1 ЖАРКЕНТ Highlights: НА ТЕМА СНИМАТЬ 1 <b class=\"match term0\">КОМНАТНЫЙ</b> <b class=\"match term1\">КВАРТИРА</b> В <b class=\"match term2\">АЛМАТЫ1</b> В ЖАРКЕНТ Я ПРЕДОСТАВЛЯТЬ...КАМЕЛОТ СНИМАТЬ 1 <b class=\"match term0\">КОМНАТНЫЙ</b> <b class=\"match term1\">КВАРТИРА</b> В <b class=\"match term2\">АЛМАТЫ1</b> НЕДВИЖИМОСТЬ <b class=\"match term1\">КВАРТИРА</b> <b class=\"match term4\">ПРОДАЖА</b> <b class=\"match term1\">КВАРТИРА</b> КАТАЛОГ ОБЪЯВЛЕНИЕ...ИЗ РУКА В РУКА СДАТЬ <b class=\"match term1\">КВАРТИРА</b> ПРОДАТЬ <b class=\"match term1\">КВАРТИРА</b> В РАССРОЧКА В <b class=\"match term0\">АЛМАТЫ</b> СДАТЬ <b class=\"match term1\">КВАРТИРА</b> С ПОСЛЕДУЮЩИЙ\n",
            "Docid: 361 S Title:  ПРОДАЖА КВАРТИРА АЛМАТЫ КУПИТЬ КВАРТИРА В АЛМАТЫ БЕЗ ПОСРЕДНИК ПРОДАЖА КВАРТИРА ОБЪЯВЛЕНИЕ ADI Highlights: ВХОД РЕГИСТРАЦИЯ <b class=\"match term0\">АЛМАТЫ</b> <b class=\"match term1\">КВАРТИРА</b> <b class=\"match term4\">ПРОДАЖА</b> <b class=\"match term1\">КВАРТИРА</b> НАЙТИ <b class=\"match term0\">АЛМАТЫ</b> НЕДВИЖИМОСТЬ <b class=\"match term1\">КВАРТИРА</b> В <b class=\"match term0\">АЛМАТЫ</b> <b class=\"match term4\">ПРОДАЖА</b> <b class=\"match term1\">КВАРТИРА</b> В <b class=\"match term0\">АЛМАТЫ</b> НАЙТИ 2 ОБЪЯВЛЕНИЕ...<b class=\"match term3\">ПРОДАВАТЬ</b> 2 КОМ ГАГАРИН НИЖЕ УТЕПОВ ЗА 20 МЛН <b class=\"match term1\">КВАРТИРА</b> <b class=\"match term4\">ПРОДАЖА</b> <b class=\"match term1\">КВАРТИРА</b> <b class=\"match term0\">АЛМАТЫ</b> БОСТАНДЫКСКИЙ РАЙОН...000 ТГ 23 ИЮЛЬ 10 38 <b class=\"match term1\">КВАРТИРА</b> <b class=\"match term4\">ПРОДАЖА</b> ТРИ <b class=\"match term0\">КОМНАТНЫЙ</b> <b class=\"match term1\">КВАРТИРА</b> <b class=\"match term1\">КВАРТИРА</b> <b class=\"match term4\">ПРОДАЖА</b> <b class=\"match term1\">КВАРТИРА</b> <b class=\"match term0\">АЛМАТЫ</b> АЛМАЛИНСКИЙ РАЙОН\n",
            "Docid: 352 S Title:  КВАРТИРА 1 КОМНАТНЫЙ В АЛМАТЫ МКР ЖЕТЫСУ 2 КУПИТЬ В АЛМАТЫ Highlights: <b class=\"match term2\">КУПИТЬ</b> В <b class=\"match term0\">АЛМАТЫ</b> <b class=\"match term1\">КВАРТИРА</b> 1 <b class=\"match term0\">КОМНАТНЫЙ</b> В <b class=\"match term0\">АЛМАТЫ</b> МКР 2 <b class=\"match term1\">КВАРТИРА</b> В <b class=\"match term0\">АЛМАТЫ</b> КАЗАХСТАН ОТ АЛШЫН...<b class=\"match term1\">КВАРТИРА</b> <b class=\"match term2\">КУПИТЬ</b> <b class=\"match term4\">ПРОДАЖА</b> <b class=\"match term1\">КВАРТИРА</b> <b class=\"match term1\">КВАРТИРА</b> СКЛАД КОМНАТН...ЖИЛОЙ СООРУЖЕНИЕ <b class=\"match term1\">КВАРТИРА</b> <b class=\"match term1\">КВАРТИРА</b> 1 <b class=\"match term0\">КОМНАТНЫЙ</b> В <b class=\"match term0\">АЛМАТЫ</b> МКР 2 <b class=\"match term1\">КВАРТИРА</b> В КАЗАХСТАН В <b class=\"match term0\">АЛМАТЫ</b> <b class=\"match term1\">КВАРТИРА</b> 1 <b class=\"match term0\">КОМНАТНЫЙ</b> В <b class=\"match term0\">АЛМАТЫ</b> МКР ЖЕТЫСУ 2 НАПИСАТЬ\n",
            "Docid: 355 S Title:  КУПИТЬ ОДНОКОМНАТНЫЙ КВАРТИРА В АЛМАТЫ M2BOMBER COM Highlights: COM ПОМОЧЬ ВАМ <b class=\"match term2\">КУПИТЬ</b> ОДНОКОМНАТНЫЙ <b class=\"match term1\">КВАРТИРА</b> В <b class=\"match term0\">АЛМАТЫ</b> БОЛЬШИЙ БАЗА ОБЪЯВЛЕНИЕ...С ЦЕНА И ФОТО <b class=\"match term4\">ПРОДАЖА</b> 1 <b class=\"match term0\">КОМНАТНЫЙ</b> <b class=\"match term1\">КВАРТИРА</b> НА ВТОРИЧНЫЙ РЫНОК...М 8 9 ЭТ ПРОДАТЬ 1 <b class=\"match term0\">КОМНАТНЫЙ</b> <b class=\"match term1\">КВАРТИРА</b> СТУДИЯ <b class=\"match term1\">КВАРТИРА</b> В ХОРОШИЙ СОСТОЯНИЕ\n",
            "Docid: 351 S Title:  СНИМАТЬ 1 КОМНАТНЫЙ КВАРТИРА В АЛМАТЫ1 ВЕСЬ КАЗАХСТАН Highlights: СИТУАЦИЯ СНИМАТЬ 1 <b class=\"match term0\">КОМНАТНЫЙ</b> <b class=\"match term1\">КВАРТИРА</b> В <b class=\"match term2\">АЛМАТЫ1</b> НЕДВИЖИМОСТЬ В...<b class=\"match term4\">ПРОДАЖА</b> 1 КОМН <b class=\"match term1\">КВАРТИРА</b> ПРОДАТЬ 1 <b class=\"match term0\">КОМНАТНЫЙ</b> <b class=\"match term1\">КВАРТИРА</b> ХОРОШИЙ СОСТОЯНИЕ...<b class=\"match term1\">КВАРТИРА</b> ИЗ РУКА В РУКА СДАТЬ <b class=\"match term1\">КВАРТИРА</b> ПРОДАТЬ <b class=\"match term1\">КВАРТИРА</b> В РАССРОЧКА В <b class=\"match term0\">АЛМАТЫ</b> СДАТЬ <b class=\"match term1\">КВАРТИРА</b> С ПОСЛЕДУЮЩИЙ\n",
            "Filtered out 2 documents\n",
            "\n"
          ]
        }
      ]
    },
    {
      "cell_type": "markdown",
      "source": [
        "Какие термины запроса встречались в документах?"
      ],
      "metadata": {
        "id": "pEyhnCTufWx_"
      }
    },
    {
      "cell_type": "code",
      "source": [
        "for query_text in queries_texts_sample:\n",
        "    qp = setup_parser(MultifieldParser([\"title\", \"body\"], schema=schema))\n",
        "    q = qp.parse(query_text)\n",
        "\n",
        "    with ix.searcher() as searcher:\n",
        "        results = searcher.search(q, terms=True)\n",
        "        # Какие термины встречались во всех документах\n",
        "        print(list((f, v.decode('utf-8')) for f, v in results.matched_terms()))\n",
        "        for hit in results:\n",
        "            # Какие термины встречались в данном документе\n",
        "            print(list((f, v.decode('utf-8')) for f, v in hit.matched_terms()))\n",
        "        print()"
      ],
      "metadata": {
        "colab": {
          "base_uri": "https://localhost:8080/"
        },
        "id": "ur-Y1yeceTbU",
        "outputId": "89c082d8-d945-406c-96e2-f240d5fdd3ba"
      },
      "execution_count": null,
      "outputs": [
        {
          "output_type": "stream",
          "name": "stdout",
          "text": [
            "[]\n",
            "\n",
            "[]\n",
            "\n",
            "[('body', 'группа'), ('title', 'развитие'), ('body', 'исследование'), ('body', 'соглашение'), ('body', 'рост'), ('body', 'анализ'), ('body', 'создавать'), ('body', 'формирование'), ('body', 'становление'), ('title', 'создание'), ('body', 'игра'), ('title', 'группа'), ('body', 'создать'), ('body', 'ранее'), ('body', 'разбор'), ('title', 'исследование'), ('body', 'творение'), ('body', 'для'), ('body', 'действие'), ('title', 'анализ'), ('body', 'создаваться'), ('title', 'формирование'), ('body', 'договоренность'), ('body', 'игровой'), ('body', 'ранний'), ('body', 'прежде'), ('body', 'деятельный'), ('body', 'эволюция'), ('body', 'условие'), ('body', 'деятельность'), ('body', 'развитие'), ('title', 'для'), ('body', 'сотворить'), ('body', 'начальный'), ('title', 'игровой'), ('body', 'коллектив'), ('body', 'договор'), ('title', 'ранний'), ('body', 'создание'), ('body', 'заранее'), ('title', 'условие'), ('title', 'деятельность')]\n",
            "[('body', 'для'), ('body', 'развитие'), ('body', 'рост'), ('body', 'становление'), ('title', 'формирование'), ('body', 'формирование'), ('body', 'создание'), ('body', 'создаваться'), ('body', 'создавать'), ('body', 'создать'), ('body', 'деятельный'), ('title', 'деятельность'), ('body', 'действие'), ('body', 'деятельность'), ('title', 'условие'), ('body', 'условие'), ('body', 'ранее'), ('body', 'ранний'), ('title', 'ранний'), ('body', 'группа'), ('body', 'исследование'), ('body', 'анализ'), ('title', 'игровой'), ('body', 'игровой'), ('body', 'игра')]\n",
            "[('title', 'для'), ('body', 'для'), ('body', 'развитие'), ('body', 'рост'), ('title', 'развитие'), ('body', 'формирование'), ('body', 'создание'), ('title', 'создание'), ('body', 'создать'), ('body', 'действие'), ('body', 'деятельность'), ('title', 'условие'), ('body', 'условие'), ('body', 'ранний'), ('title', 'ранний'), ('body', 'начальный'), ('body', 'коллектив'), ('body', 'группа'), ('body', 'исследование'), ('body', 'анализ'), ('body', 'игровой'), ('body', 'игра')]\n",
            "[('title', 'для'), ('body', 'для'), ('body', 'развитие'), ('title', 'развитие'), ('body', 'формирование'), ('body', 'создание'), ('body', 'создаваться'), ('body', 'создать'), ('body', 'действие'), ('body', 'деятельность'), ('title', 'условие'), ('body', 'условие'), ('body', 'ранний'), ('title', 'ранний'), ('body', 'заранее'), ('body', 'коллектив'), ('body', 'исследование'), ('body', 'анализ'), ('body', 'игровой'), ('body', 'игра')]\n",
            "[('body', 'для'), ('body', 'развитие'), ('title', 'развитие'), ('body', 'формирование'), ('body', 'создание'), ('body', 'создаваться'), ('body', 'создавать'), ('body', 'создать'), ('title', 'деятельность'), ('body', 'действие'), ('body', 'деятельность'), ('body', 'условие'), ('body', 'прежде'), ('body', 'ранее'), ('body', 'ранний'), ('title', 'ранний'), ('body', 'заранее'), ('body', 'группа'), ('body', 'исследование'), ('title', 'игровой'), ('body', 'игровой'), ('body', 'игра')]\n",
            "[('body', 'для'), ('body', 'развитие'), ('body', 'становление'), ('body', 'формирование'), ('body', 'создание'), ('body', 'создаваться'), ('title', 'деятельность'), ('body', 'действие'), ('body', 'деятельность'), ('body', 'условие'), ('body', 'прежде'), ('body', 'ранний'), ('title', 'ранний'), ('body', 'группа'), ('title', 'исследование'), ('body', 'исследование'), ('body', 'анализ'), ('title', 'игровой'), ('body', 'игровой'), ('body', 'игра')]\n",
            "[('title', 'для'), ('body', 'для'), ('body', 'развитие'), ('body', 'рост'), ('body', 'становление'), ('body', 'формирование'), ('body', 'создавать'), ('body', 'создать'), ('title', 'деятельность'), ('body', 'действие'), ('body', 'деятельность'), ('body', 'условие'), ('body', 'ранний'), ('title', 'ранний'), ('title', 'группа'), ('body', 'группа'), ('body', 'исследование'), ('body', 'анализ'), ('title', 'игровой'), ('body', 'игровой'), ('body', 'игра')]\n",
            "[('body', 'для'), ('body', 'развитие'), ('body', 'становление'), ('body', 'формирование'), ('body', 'создание'), ('body', 'создаваться'), ('body', 'создавать'), ('body', 'создать'), ('title', 'деятельность'), ('body', 'действие'), ('body', 'деятельность'), ('body', 'условие'), ('body', 'ранний'), ('title', 'ранний'), ('body', 'коллектив'), ('body', 'группа'), ('body', 'исследование'), ('body', 'анализ'), ('title', 'игровой'), ('body', 'игровой'), ('body', 'игра')]\n",
            "[('body', 'для'), ('body', 'развитие'), ('body', 'становление'), ('title', 'развитие'), ('body', 'формирование'), ('body', 'создание'), ('title', 'деятельность'), ('body', 'действие'), ('body', 'деятельность'), ('body', 'договоренность'), ('title', 'условие'), ('body', 'условие'), ('body', 'ранний'), ('body', 'заранее'), ('body', 'коллектив'), ('body', 'группа'), ('title', 'анализ'), ('body', 'анализ'), ('title', 'игровой'), ('body', 'игровой'), ('body', 'игра')]\n",
            "[('title', 'для'), ('body', 'для'), ('body', 'развитие'), ('body', 'рост'), ('body', 'становление'), ('body', 'формирование'), ('body', 'создавать'), ('title', 'деятельность'), ('body', 'действие'), ('body', 'деятельность'), ('body', 'условие'), ('body', 'ранний'), ('title', 'ранний'), ('title', 'группа'), ('body', 'группа'), ('body', 'исследование'), ('body', 'анализ'), ('title', 'игровой'), ('body', 'игровой'), ('body', 'игра')]\n",
            "[('body', 'для'), ('body', 'развитие'), ('body', 'рост'), ('body', 'формирование'), ('body', 'создание'), ('body', 'действие'), ('body', 'деятельность'), ('title', 'условие'), ('body', 'условие'), ('body', 'ранний'), ('title', 'ранний'), ('body', 'начальный'), ('title', 'группа'), ('body', 'коллектив'), ('body', 'группа'), ('body', 'исследование'), ('title', 'игровой'), ('body', 'игровой'), ('body', 'игра')]\n",
            "\n",
            "[('title', 'сайт'), ('title', 'вина'), ('body', 'win'), ('body', 'vin'), ('body', 'официальный'), ('body', 'вина'), ('title', 'vin'), ('body', 'сайт'), ('title', 'win'), ('title', 'официальный')]\n",
            "[('title', 'сайт'), ('body', 'сайт'), ('title', 'официальный'), ('body', 'официальный'), ('title', 'vin'), ('title', 'вина'), ('body', 'vin'), ('body', 'вина')]\n",
            "[('title', 'сайт'), ('body', 'сайт'), ('title', 'официальный'), ('body', 'официальный'), ('title', 'win'), ('body', 'win'), ('body', 'вина')]\n",
            "[('title', 'сайт'), ('body', 'сайт'), ('title', 'официальный'), ('body', 'официальный'), ('title', 'вина'), ('body', 'win'), ('body', 'вина')]\n",
            "[('title', 'сайт'), ('body', 'сайт'), ('title', 'официальный'), ('body', 'официальный'), ('title', 'вина'), ('body', 'vin'), ('body', 'вина')]\n",
            "[('title', 'сайт'), ('body', 'сайт'), ('title', 'официальный'), ('body', 'официальный'), ('title', 'win'), ('title', 'вина'), ('body', 'win'), ('body', 'вина')]\n",
            "[('title', 'сайт'), ('body', 'сайт'), ('title', 'официальный'), ('body', 'официальный'), ('title', 'вина'), ('body', 'win'), ('body', 'вина')]\n",
            "[('body', 'сайт'), ('body', 'официальный'), ('title', 'вина'), ('body', 'vin'), ('body', 'вина')]\n",
            "[('title', 'сайт'), ('body', 'сайт'), ('title', 'официальный'), ('body', 'официальный'), ('title', 'вина'), ('body', 'вина')]\n",
            "[('body', 'сайт'), ('body', 'официальный'), ('title', 'win'), ('body', 'win')]\n",
            "[('body', 'сайт'), ('body', 'официальный'), ('title', 'vin'), ('body', 'vin'), ('body', 'вина')]\n",
            "\n",
            "[('title', 'алматы1'), ('body', 'приобрести'), ('body', 'алматы'), ('title', 'комнатный'), ('body', 'покупка'), ('title', 'алматы'), ('title', 'продажа'), ('body', 'продавать'), ('title', 'квартира'), ('body', 'купить'), ('title', 'купить'), ('body', 'квартира'), ('body', 'приобретать'), ('body', 'продажа'), ('body', 'алматы1'), ('body', 'комнатный'), ('body', 'покупать')]\n",
            "[('body', 'купить'), ('body', 'приобрести'), ('body', 'покупать'), ('body', 'покупка'), ('body', 'продавать'), ('title', 'квартира'), ('body', 'квартира'), ('title', 'комнатный'), ('body', 'комнатный'), ('title', 'алматы1'), ('body', 'алматы1'), ('body', 'алматы')]\n",
            "[('body', 'продажа'), ('body', 'покупать'), ('body', 'покупка'), ('title', 'продажа'), ('body', 'продавать'), ('title', 'квартира'), ('body', 'квартира'), ('title', 'комнатный'), ('body', 'комнатный'), ('title', 'алматы'), ('body', 'алматы')]\n",
            "[('body', 'продажа'), ('body', 'купить'), ('body', 'покупка'), ('body', 'продавать'), ('title', 'квартира'), ('body', 'квартира'), ('title', 'комнатный'), ('body', 'комнатный'), ('title', 'алматы1'), ('body', 'алматы1'), ('body', 'алматы')]\n",
            "[('body', 'продажа'), ('body', 'купить'), ('body', 'покупать'), ('title', 'купить'), ('body', 'покупка'), ('title', 'квартира'), ('body', 'квартира'), ('title', 'комнатный'), ('body', 'комнатный'), ('title', 'алматы'), ('body', 'алматы')]\n",
            "[('body', 'продажа'), ('body', 'купить'), ('title', 'продажа'), ('body', 'продавать'), ('title', 'квартира'), ('body', 'квартира'), ('title', 'комнатный'), ('body', 'комнатный'), ('title', 'алматы'), ('body', 'алматы')]\n",
            "[('body', 'продажа'), ('body', 'купить'), ('title', 'квартира'), ('body', 'квартира'), ('title', 'комнатный'), ('body', 'комнатный'), ('title', 'алматы1'), ('body', 'алматы1'), ('body', 'алматы')]\n",
            "[('body', 'продажа'), ('body', 'купить'), ('title', 'купить'), ('title', 'продажа'), ('body', 'продавать'), ('title', 'квартира'), ('body', 'квартира'), ('body', 'комнатный'), ('title', 'алматы'), ('body', 'алматы')]\n",
            "[('body', 'продажа'), ('body', 'купить'), ('title', 'купить'), ('body', 'приобретать'), ('title', 'продажа'), ('body', 'продавать'), ('title', 'квартира'), ('body', 'квартира'), ('body', 'комнатный'), ('title', 'алматы'), ('body', 'алматы')]\n",
            "[('body', 'продажа'), ('body', 'купить'), ('title', 'купить'), ('body', 'покупка'), ('title', 'продажа'), ('body', 'продавать'), ('title', 'квартира'), ('body', 'квартира'), ('body', 'комнатный'), ('title', 'алматы'), ('body', 'алматы')]\n",
            "[('body', 'продажа'), ('body', 'купить'), ('title', 'купить'), ('title', 'продажа'), ('title', 'квартира'), ('body', 'квартира'), ('title', 'комнатный'), ('body', 'комнатный'), ('title', 'алматы'), ('body', 'алматы')]\n",
            "\n"
          ]
        }
      ]
    },
    {
      "cell_type": "markdown",
      "source": [
        "Ограничение кол-ва результатов по группам (удобно для ограничения/группировки по hostname, но применимо и в других случаях)"
      ],
      "metadata": {
        "id": "JJ9YYp-HvlHS"
      }
    },
    {
      "cell_type": "code",
      "source": [
        "for query_text in queries_texts_sample:\n",
        "    qp = setup_parser(MultifieldParser([\"title\", \"body\"], schema=schema))\n",
        "    q = qp.parse(query_text)\n",
        "    with ix.searcher() as searcher:\n",
        "        cc = searcher.collector(collapse=\"is_small\", collapse_limit=3)\n",
        "        results = searcher.search_with_collector(q, cc)\n",
        "        output_results(cc.results(), query_text)"
      ],
      "metadata": {
        "colab": {
          "base_uri": "https://localhost:8080/"
        },
        "id": "MlHdhq5VvJx9",
        "outputId": "20409dee-c0e7-4445-8c7a-285224219993"
      },
      "execution_count": null,
      "outputs": [
        {
          "output_type": "stream",
          "name": "stdout",
          "text": [
            "==== Number of results: 0 for query (1|I) 9736586783 (НАЙТИ|SEARCH|ВЗЯТЬ|ВЫЯСНИТЬ|ДОСТАТЬ|ИСКАТЬ|НАХОДИТЬ|ПОИСК|ПОЛУЧИТЬ) КОМУ (ПРИНАДЛЕЖАТЬ|ИМЕТЬ) (ЭТОТ|ETOT) (НОМЕР|КОМНАТА|НОМЕРНОЙ|НОМЕРОК)\n",
            "\n",
            "==== Number of results: 0 for query (1|I) (MASCULINE|МАСКАЛАЙН|МАСКАЛИН|МАСКУЛАЙН) ОТЗИВ\n",
            "\n",
            "==== Number of results: 44 for query (1|I) (АНАЛИЗ|ИССЛЕДОВАНИЕ|РАЗБОР) (СОЗДАТЬ|CREATION|ВОССОЗДАТЬ|СОЗДАВАТЬ|СОЗДАВАТЬСЯ|СОЗДАНИЕ|СОЗДАТЕЛЬ|СОТВОРИТЬ|ТВОРЕНИЕ) (УСЛОВИЕ|ДОГОВОР|ДОГОВОРЕННОСТЬ|СОГЛАШЕНИЕ) ДЛЯ (РАЗВИТИЕ|РОСТ|СТАНОВЛЕНИЕ|ФОРМИРОВАНИЕ|ЭВОЛЮЦИЯ) (ИГРОВОЙ|ИГРА) (ДЕЯТЕЛЬНОСТЬ|ДЕЙСТВИЕ|ДЕЯТЕЛЬНЫЙ) (ГРУППА|ГРУППИРОВАТЬ|КОЛЛЕКТИВ) (РАННИЙ|ЗАРАНЕЕ|НАЧАЛЬНЫЙ|ПРЕЖДЕ|ПРЕЖДЕВРЕМЕННЫЙ|РАНЕЕ)\n",
            "Docid: 297 B Title:  ПЕДАГОГИЧЕСКИЙ УСЛОВИЕ ФОРМИРОВАНИЕ ИГРОВОЙ ДЕЯТЕЛЬНОСТЬ РЕБЕНОК РАННИЙ ВОЗРАСТ Highlights: <b class=\"match term0\">ИССЛЕДОВАНИЕ</b> ПЕДАГОГИЧЕСКИЙ <b class=\"match term1\">УСЛОВИЕ</b> <b class=\"match term2\">ФОРМИРОВАНИЕ</b> <b class=\"match term3\">ИГРОВОЙ</b> <b class=\"match term4\">ДЕЯТЕЛЬНОСТЬ</b> РЕБЕНОК <b class=\"match term0\">РАННИЙ</b> ВОЗРАСТ ЦЕЛЬ <b class=\"match term0\">ИССЛЕДОВАНИЕ</b> ВЫЯВИТЬ ПЕДАГОГИЧЕСКИЙ...<b class=\"match term1\">УСЛОВИЕ</b> НАПРАВИТЬ НА <b class=\"match term2\">ФОРМИРОВАНИЕ</b> <b class=\"match term3\">ИГРОВОЙ</b> <b class=\"match term4\">ДЕЯТЕЛЬНОСТЬ</b> РЕБЕНОК <b class=\"match term0\">РАННИЙ</b> ВОЗРАСТ ЗАДАЧА <b class=\"match term0\">ИССЛЕДОВАНИЕ</b> СДЕЛАТЬ ОБЗОР...<b class=\"match term1\">УСЛОВИЕ</b> НАПРАВИТЬ НА <b class=\"match term2\">ФОРМИРОВАНИЕ</b> <b class=\"match term3\">ИГРОВОЙ</b> <b class=\"match term4\">ДЕЯТЕЛЬНОСТЬ</b> РЕБЕНОК <b class=\"match term1\">ГРУППА</b> <b class=\"match term0\">РАННИЙ</b> ВОЗРАСТ 4 ПРОАНАЛИЗИРОВАТЬ\n",
            "Docid: 307 B Title:  СОЗДАНИЕ УСЛОВИЕ ДЛЯ СЕНСОРНЫЙ РАЗВИТИЕ РЕБЕНОК РАННИЙ ВОЗРАСТ Highlights: NULL <b class=\"match term2\">СОЗДАНИЕ</b> <b class=\"match term1\">УСЛОВИЕ</b> <b class=\"match term3\">ДЛЯ</b> СЕНСОРНЫЙ <b class=\"match term4\">РАЗВИТИЕ</b> РЕБЕНОК <b class=\"match term0\">РАННИЙ</b> ВОЗРАСТ I ЛИЗИНГОВЫЙ...<b class=\"match term0\">ИГРА</b> СХЕМА <b class=\"match term1\">АНАЛИЗ</b> И САМОАНАЛИЗ ПО <b class=\"match term2\">СОЗДАНИЕ</b> <b class=\"match term1\">УСЛОВИЕ</b> <b class=\"match term3\">ДЛЯ</b> СЕНСОРНЫЙ <b class=\"match term4\">РАЗВИТИЕ</b> РЕБЕНОК <b class=\"match term0\">РАННИЙ</b> ВОЗРАСТ В РАЗРАБОТАТЬ...РАЗРАБОТАТЬ СХЕМА <b class=\"match term1\">АНАЛИЗ</b> И САМОАНАЛИЗ ПО <b class=\"match term2\">СОЗДАНИЕ</b> <b class=\"match term1\">УСЛОВИЕ</b> <b class=\"match term3\">ДЛЯ</b> СЕНСОРНЫЙ <b class=\"match term4\">РАЗВИТИЕ</b> РЕБЕНОК <b class=\"match term0\">РАННИЙ</b> ВОЗРАСТ В ДОШКОЛЬНЫЙ\n",
            "Docid: 303 B Title:  ДЛЯ ПЕДАГОГ ПЕДАГОГИЧЕСКИЙ УСЛОВИЕ РАЗВИТИЕ РЕБЕНОК РАННИЙ ВОЗРАСТ Highlights: <b class=\"match term3\">ДЛЯ</b> ПЕДАГОГ ПЕДАГОГИЧЕСКИЙ <b class=\"match term1\">УСЛОВИЕ</b> <b class=\"match term4\">РАЗВИТИЕ</b> РЕБЕНОК <b class=\"match term0\">РАННИЙ</b> ВОЗРАСТ ПЕДАГОГИЧЕСКИЙ...5 1 ОСОБЕННОСТЬ <b class=\"match term4\">РАЗВИТИЕ</b> ПРЕДМЕТНЫЙ <b class=\"match term3\">ИГРОВОЙ</b> <b class=\"match term4\">ДЕЯТЕЛЬНОСТЬ</b> В <b class=\"match term0\">РАННИЙ</b> И ДОШКОЛЬНЫЙ ВОЗРАСТ...<b class=\"match term1\">УСЛОВИЕ</b> СТИМУЛИРОВАТЬ <b class=\"match term4\">РАЗВИТИЕ</b> ПРЕДМЕТНЫЙ <b class=\"match term3\">ИГРОВОЙ</b> <b class=\"match term4\">ДЕЯТЕЛЬНОСТЬ</b> РЕБЕНОК <b class=\"match term0\">РАННИЙ</b> ВОЗРАСТ 24 2 <b class=\"match term1\">АНАЛИЗ</b> РЕЗУЛЬТАТ ОПЫТНО\n",
            "Docid: 301 S Title:  НАБЛЮДЕНИЕ И АНАЛИЗ ОРГАНИЗАЦИЯ ПРЕДМЕТНЫЙ И ИГРОВОЙ ДЕЯТЕЛЬНОСТЬ РЕБЕНОК РАННИЙ ВОЗРАСТ Highlights: И <b class=\"match term3\">ИГРОВОЙ</b> <b class=\"match term4\">ДЕЯТЕЛЬНОСТЬ</b> РЕБЕНОК <b class=\"match term0\">РАННИЙ</b> ВОЗРАСТ <b class=\"match term1\">АНАЛИЗ</b> <b class=\"match term4\">РАЗВИТИЕ</b> ПРЕДМЕТНЫЙ <b class=\"match term4\">ДЕЯТЕЛЬНОСТЬ</b> РЕБЕНОК ПЕРЕЧИСЛИТЬ...РЕБЕНОК НА <b class=\"match term2\">ДЕЙСТВИЕ</b> С ПРЕДМЕТ <b class=\"match term1\">АНАЛИЗ</b> <b class=\"match term3\">ИГРОВОЙ</b> <b class=\"match term4\">ДЕЯТЕЛЬНОСТЬ</b> РЕБЕНОК ОПРЕДЕЛИТЬ...<b class=\"match term1\">УСЛОВИЕ</b> <b class=\"match term3\">СОЗДАТЬ</b> <b class=\"match term3\">ДЛЯ</b> <b class=\"match term4\">РАЗВИТИЕ</b> ДИДАКТИЧЕСКИЙ\n",
            "Docid: 274 S Title:  УГЛУБЛЕННЫЙ АНАЛИЗ ДЕЯТЕЛЬНОСТЬ ВОСПИТАТЕЛЬ И ПОМОЩНИК ВОСПИТАТЕЛЬ ГРУППА РАННИЙ ВОЗРАСТ Highlights: <b class=\"match term4\">СОЗДАВАТЬ</b> <b class=\"match term1\">УСЛОВИЕ</b> <b class=\"match term3\">ДЛЯ</b> <b class=\"match term4\">РАЗВИТИЕ</b> ПРЕДМЕТНЫЙ ВЗАИМОДЕЙСТВИЕ...ИЛИ ДИДАКТИЧЕСКИЙ <b class=\"match term0\">ИГРА</b> СОТРУДНИК <b class=\"match term4\">СОЗДАВАТЬ</b> <b class=\"match term1\">УСЛОВИЕ</b> <b class=\"match term3\">ДЛЯ</b> <b class=\"match term4\">РАЗВИТИЕ</b> У РЕБЕНОК ПРОЦЕССУАЛЬНЫЙ...ПРОЧИТАТЬ СОТРУДНИК <b class=\"match term4\">СОЗДАВАТЬ</b> <b class=\"match term1\">УСЛОВИЕ</b> <b class=\"match term3\">ДЛЯ</b> <b class=\"match term2\">ФОРМИРОВАНИЕ</b> У РЕБЕНОК\n",
            "\n",
            "==== Number of results: 16 for query (1|I) (ВИНА|VIN|VINUM|WIN) (ОФИЦИАЛЬНЫЙ|ОФИЦИАЛЬНОСТЬ) (САЙТ|SIGHT|SITE)\n",
            "Docid: 345 B Title:  ПРОВЕРИТЬ ПРОБИТЬ АВТО ПО ВИНА VIN КОД БЕСПЛАТНО В ГИБДД МОЖНО НА ОФИЦИАЛЬНЫЙ САЙТ Highlights: ПОЛУЧИТЬ НА <b class=\"match term0\">ОФИЦИАЛЬНЫЙ</b> <b class=\"match term1\">САЙТ</b> НА <b class=\"match term1\">САЙТ</b> <b class=\"match term2\">VIN</b> AUTO RU ДАННЫЙ СЕРВИС...ПРОВЕРЯТЬ АВТО ПО <b class=\"match term2\">VIN</b> ХОТЯ БЫ НА 2 <b class=\"match term1\">САЙТ</b> ВОЛОДЯ РАЗНЫЙ <b class=\"match term1\">САЙТ</b> ВЫДАВАТЬ РАЗЛИЧНЫЙ...ГОС НОМЕР НА <b class=\"match term1\">САЙТ</b> РСА УДАЧА ВЫПЛЫТЬ <b class=\"match term2\">VIN</b> ДАЛЕЕ <b class=\"match term1\">САЙТ</b> ГИБДД ВСЕ ЗАМЕЧАТЕЛЬНЫЙ\n",
            "Docid: 309 S Title:  БУКМЕКЕРСКИЙ КОНТОРА 1 WIN ОФИЦИАЛЬНЫЙ САЙТ БУКМЕКЕР ТОП Highlights: КОНТОРА 1 <b class=\"match term3\">WIN</b> ОСОБЕННОСТЬ <b class=\"match term0\">ОФИЦИАЛЬНЫЙ</b> <b class=\"match term1\">САЙТ</b> БУКМЕКЕРСКИЙ КОНТОРА...В РАБОТА <b class=\"match term0\">ОФИЦИАЛЬНЫЙ</b> <b class=\"match term1\">САЙТ</b> БУКМЕКЕРСКИЙ КОНТОРА...КОТИРОВКА НА <b class=\"match term0\">ОФИЦИАЛЬНЫЙ</b> <b class=\"match term1\">САЙТ</b> БУКМЕКЕРСКИЙ КОНТОРА\n",
            "Docid: 324 S Title:  ВАН ВИНА БУКМЕКЕРСКИЙ КОНТОРА ОФИЦИАЛЬНЫЙ САЙТ Highlights: <b class=\"match term1\">САЙТ</b> ДЛЯ ПОДКЛЮЧЕНИЕ К <b class=\"match term0\">ОФИЦИАЛЬНЫЙ</b> <b class=\"match term1\">САЙТ</b> 1 <b class=\"match term3\">WIN</b> ПРЕДУСМОТРЕННЫЙ ПОЛНЫЙ...ПЛАТЕЖ ПОПОЛНЕНИЕ НА <b class=\"match term0\">ОФИЦИАЛЬНЫЙ</b> <b class=\"match term1\">САЙТ</b> 1 <b class=\"match term4\">ВИНА</b> ВНЕСТИ ДЕПОЗИТ ИГРОК...УСЛОВИЕ СТАВКА НА 1 <b class=\"match term4\">ВИНА</b> НА <b class=\"match term0\">ОФИЦИАЛЬНЫЙ</b> <b class=\"match term1\">САЙТ</b> БУКМЕКЕРСКИЙ КОНТОРА\n",
            "Docid: 329 B Title:  ГИБДД ПРОВЕРКА АВТОМОБИЛЬ 👮🏻 ПО ВИНА И ГОС НОМЕР ОФИЦИАЛЬНЫЙ САЙТ Highlights: ЗАХОДИТЬ НА <b class=\"match term1\">САЙТ</b> ВБИВАТЬ <b class=\"match term4\">ВИНА</b> И ЗАПРАШИВАТЬ ПРОВЕРКА...ГОСНОМЕР ДАННЫЙ НА <b class=\"match term1\">САЙТ</b> ПОСТУПАТЬ ИЗ <b class=\"match term0\">ОФИЦИАЛЬНЫЙ</b> ИСТОЧНИК ЧТО...НА ГЛАВНЫЙ СТРАНИЦА <b class=\"match term1\">САЙТ</b> АВТОКОД ВПИСАТЬ <b class=\"match term2\">VIN</b> ИЛИ ГОСНОМЕР В ПОИСКОВЫЙ\n",
            "Docid: 323 S Title:  1 WIN ОФИЦИАЛЬНЫЙ САЙТ БУКМЕКЕРСКИЙ КОНТОРА ВАН ВИНА СТАВКА НА СПОРТ ОНЛАЙН ОСОБЕННОСТЬ БЕТТИНГ В 1 ВИНА BEST BOOKMAKER RU Highlights: <b class=\"match term0\">ОФИЦИАЛЬНЫЙ</b> <b class=\"match term1\">САЙТ</b> 1 <b class=\"match term3\">WIN</b> ОБЗОР ЗДЕСЬ ВЫ НАЙТИ...ПРИЕМ СТАВКА 1WIN <b class=\"match term0\">ОФИЦИАЛЬНЫЙ</b> <b class=\"match term1\">САЙТ</b> ОБЗОР БУКМЕКЕРСКИЙ...ВАШ ЛИЧНЫЙ СЧЕТ НА <b class=\"match term0\">ОФИЦИАЛЬНЫЙ</b> <b class=\"match term1\">САЙТ</b> БУКМЕКЕРСКИЙ КОНТОРА\n",
            "Docid: 339 B Title:  1 ВИНА СТАВКА НА СПОРТ НА ОФИЦИАЛЬНЫЙ САЙТ БУКМЕКЕРСКИЙ КОНТОРА 1WIN ОСОБЕННОСТЬ БЕТТИНГ В БК ВАН ВИНА Highlights: КОНТОРА 1 <b class=\"match term3\">WIN</b> И ЕЕ <b class=\"match term0\">ОФИЦИАЛЬНЫЙ</b> <b class=\"match term1\">САЙТ</b> В ИНТЕРНЕТ ЗДЕСЬ ВЫ...И ХАРАКТЕРИСТИКА <b class=\"match term0\">ОФИЦИАЛЬНЫЙ</b> <b class=\"match term1\">САЙТ</b> ПЕРЕЙТИ НА <b class=\"match term1\">САЙТ</b> СКАЧАТЬ ДЛЯ ANDROID...И ХАРАКТЕРИСТИКА <b class=\"match term0\">ОФИЦИАЛЬНЫЙ</b> <b class=\"match term1\">САЙТ</b> ПЕРЕЙТИ НА <b class=\"match term1\">САЙТ</b> СКАЧАТЬ ДЛЯ ANDROID\n",
            "\n",
            "==== Number of results: 31 for query (1|I) КОМНАТНЫЙ (КВАРТИРА|ЖИЛИЩЕ|КВАРТИРКА) (КУПИТЬ|ВЫКУПИТЬ|ДОКУПИТЬ|ЗАКУПИТЬ|НАКУПИТЬ|ПОКУПАТЬ|ПОКУПИТЬ|ПОКУПКА|ПРИОБРЕСТИ|ПРИОБРЕТАТЬ|ПРОДАВАТЬ|ПРОДАЖА) В (АЛМАТЫ1|АЛМАТЫ 1)\n",
            "Docid: 353 S Title:  СНИМАТЬ 1 КОМНАТНЫЙ КВАРТИРА В АЛМАТЫ1 КАЗАХСТАН Highlights: НА ТЕМА СНИМАТЬ 1 <b class=\"match term0\">КОМНАТНЫЙ</b> <b class=\"match term1\">КВАРТИРА</b> В <b class=\"match term2\">АЛМАТЫ1</b> СДАТЬ ПОСУТОЧНО...ВСЕ СНИМАТЬ 1 <b class=\"match term0\">КОМНАТНЫЙ</b> <b class=\"match term1\">КВАРТИРА</b> В <b class=\"match term2\">АЛМАТЫ1</b> АСТАН 21 10 УНИКАЛЬНЫЙ...БЫТОВОЙ КОММУНАЛЬНЫЙ <b class=\"match term3\">ПРОДАВАТЬ</b> 3 <b class=\"match term0\">КОМНАТНЫЙ</b> <b class=\"match term1\">КВАРТИРА</b> ПО НАБ СЛАВСКИЙ\n",
            "Docid: 348 S Title:  ОДНОКОМНАТНЫЙ КВАРТИРА 1 КОМНАТНЫЙ КВАРТИРА ПРОДАЖА ОДНОКОМНАТНЫЙ КВАРТИРА АЛМАТЫ SLANET Highlights: ОДНОКОМНАТНЫЙ <b class=\"match term1\">КВАРТИРА</b> <b class=\"match term4\">ПРОДАЖА</b> 1 <b class=\"match term0\">КОМНАТНЫЙ</b> <b class=\"match term1\">КВАРТИРА</b> НА ДОСКА БЕСПЛАТНЫЙ...ОБЪЯВЛЕНИЕ SLANET <b class=\"match term0\">АЛМАТЫ</b> ОДНОКОМНАТНЫЙ <b class=\"match term1\">КВАРТИРА</b> 1 <b class=\"match term0\">КОМНАТНЫЙ</b> <b class=\"match term1\">КВАРТИРА</b> <b class=\"match term4\">ПРОДАЖА</b> ОДНОКОМНАТНЫЙ...5 ФОТО ПРОДАТЬ 1 <b class=\"match term0\">КОМНАТНЫЙ</b> <b class=\"match term1\">КВАРТИРА</b> <b class=\"match term3\">ПРОДАВАТЬ</b> 1 <b class=\"match term0\">КОМНАТНЫЙ</b> <b class=\"match term1\">КВАРТИРА</b> В ЦЕНТР ГОРОД УЛУЧШИТЬ\n",
            "Docid: 362 S Title:  АКТОБЕ СНИМАТЬ 1 КОМНАТНЫЙ КВАРТИРА В АЛМАТЫ1 САМЫЕ СВЕЖИЙ ОБЪЯВЛЕНИЕ ЗА СЕГОДНЯ Highlights: НА ТЕМА СНИМАТЬ 1 <b class=\"match term0\">КОМНАТНЫЙ</b> <b class=\"match term1\">КВАРТИРА</b> В <b class=\"match term2\">АЛМАТЫ1</b> В АКТОБЕ В НАШЕМ...НА ТЕМА СНИМАТЬ 1 <b class=\"match term0\">КОМНАТНЫЙ</b> <b class=\"match term1\">КВАРТИРА</b> В <b class=\"match term2\">АЛМАТЫ1</b> В АКТОБЕ НЕДВИЖИМОСТЬ...<b class=\"match term1\">КВАРТИРА</b> <b class=\"match term4\">ПРОДАЖА</b> <b class=\"match term1\">КВАРТИРА</b> <b class=\"match term3\">ПРОДАВАТЬ</b> 1 <b class=\"match term1\">КВАРТИРА</b> Г АКТОБЕ УЛ РЫСКУЛОВ\n",
            "Docid: 359 B Title:  КУПИТЬ ОДНОКОМНАТНЫЙ КВАРТИРА В АЛМАТЫ ПРОДАЖА ОДНОКОМНАТНЫЙ КВАРТИРА В АЛМАТЫ ПОИСК НЕДВИЖИМОСТЬ KN KZ НЕДВИЖИМОСТЬ КАЗАХСТАН Highlights: РЫНОК НЕДВИЖИМОСТЬ В <b class=\"match term0\">АЛМАТЫ</b> <b class=\"match term1\">ПОКУПКА</b> И <b class=\"match term4\">ПРОДАЖА</b> МАЛЕНЬКИЙ <b class=\"match term1\">КВАРТИРА</b> ТАКЖЕ В ЧИСЛО САМЫХ...<b class=\"match term2\">КУПИТЬ</b> <b class=\"match term1\">КВАРТИРА</b> В <b class=\"match term0\">АЛМАТЫ</b> <b class=\"match term4\">ПРОДАЖА</b> <b class=\"match term1\">КВАРТИРА</b> В <b class=\"match term0\">АЛМАТЫ</b> <b class=\"match term4\">ПРОДАЖА</b> 1 <b class=\"match term1\">КВАРТИРА</b> В <b class=\"match term0\">АЛМАТЫ</b> <b class=\"match term4\">ПРОДАЖА</b> 2 <b class=\"match term0\">КОМНАТНЫЙ</b> <b class=\"match term1\">КВАРТИРА</b> В <b class=\"match term0\">АЛМАТЫ</b> <b class=\"match term4\">ПРОДАЖА</b> <b class=\"match term1\">КВАРТИРА</b> В <b class=\"match term0\">АЛМАТЫ</b> <b class=\"match term4\">ПРОДАЖА</b> 4 <b class=\"match term1\">КВАРТИРА</b> В <b class=\"match term0\">АЛМАТЫ</b> <b class=\"match term4\">ПРОДАЖА</b> 5 <b class=\"match term0\">КОМНАТНЫЙ</b> <b class=\"match term1\">КВАРТИРА</b> В <b class=\"match term0\">АЛМАТЫ</b> 1 <b class=\"match term0\">КОМНАТНЫЙ</b> <b class=\"match term1\">КВАРТИРА</b> БЕЗ ПОСРЕДНИК...<b class=\"match term0\">АЛМАТЫ</b> АРЕНДА ДОМ В <b class=\"match term0\">АЛМАТЫ</b> АРЕНДА ОФИС В <b class=\"match term0\">АЛМАТЫ</b> <b class=\"match term4\">ПРОДАЖА</b> <b class=\"match term1\">КВАРТИРА</b> В КАРАГАНДА <b class=\"match term4\">ПРОДАЖА</b> <b class=\"match term1\">КВАРТИРА</b> В АСТАН <b class=\"match term4\">ПРОДАЖА</b> <b class=\"match term1\">КВАРТИРА</b> В КАМЕНОГОРСК\n",
            "Docid: 349 B Title:  ПРОДАЖА КВАРТИРА В АЛМАТЫ НА AVI KZ Highlights: <b class=\"match term4\">ПРОДАЖА</b> НЕДВИЖИМОСТЬ <b class=\"match term1\">КВАРТИРА</b> <b class=\"match term4\">ПРОДАЖА</b> <b class=\"match term1\">КВАРТИРА</b> В <b class=\"match term0\">АЛМАТЫ</b> <b class=\"match term4\">ПРОДАЖА</b> <b class=\"match term1\">КВАРТИРА</b> В <b class=\"match term0\">АЛМАТЫ</b> СПИСОК ГАЛЕРЕЯ НА...7 7М 2 ЭТАЖ 4 ИЗ 5 <b class=\"match term0\">АЛМАТЫ</b> 9 ОКТЯБРЬ 2 <b class=\"match term4\">ПРОДАЖА</b> <b class=\"match term1\">КВАРТИРА</b> 2 <b class=\"match term0\">КОМНАТНЫЙ</b> <b class=\"match term1\">КВАРТИРА</b> 78 М 2 20 000 000...9М 2 ЭТАЖ 1 ИЗ 5 <b class=\"match term0\">АЛМАТЫ</b> 2 АВГУСТА 4 <b class=\"match term4\">ПРОДАЖА</b> <b class=\"match term1\">КВАРТИРА</b> 1 <b class=\"match term0\">КОМНАТНЫЙ</b> <b class=\"match term1\">КВАРТИРА</b> 23 5 М 2 12 700 000\n",
            "\n"
          ]
        }
      ]
    },
    {
      "cell_type": "markdown",
      "source": [
        "Сортируем выдачу"
      ],
      "metadata": {
        "id": "o2yUqTso1C2z"
      }
    },
    {
      "cell_type": "code",
      "source": [
        "from whoosh import sorting\n",
        "\n",
        "for query_text in queries_texts_sample:\n",
        "    qp = setup_parser(MultifieldParser([\"title\", \"body\"], schema=schema))\n",
        "    q = qp.parse(query_text)\n",
        "    with ix.searcher() as searcher:\n",
        "        size_facet = sorting.FieldFacet(\"size\")\n",
        "        cc = searcher.collector(sortedby=size_facet)\n",
        "        results = searcher.search_with_collector(q, cc)\n",
        "        print(\"==== Number of results:\", len(cc.results()), \"for query\", query_text)\n",
        "        for hit in cc.results():\n",
        "            print(\"Docid:\", hit[\"docid\"], \"Size:\", hit[\"size\"])"
      ],
      "metadata": {
        "colab": {
          "base_uri": "https://localhost:8080/"
        },
        "id": "vP9sG9vI01Fu",
        "outputId": "7626f74f-2a21-4c4e-a1e2-025f34656de1"
      },
      "execution_count": null,
      "outputs": [
        {
          "output_type": "stream",
          "name": "stdout",
          "text": [
            "==== Number of results: 0 for query (1|I) 9736586783 (НАЙТИ|SEARCH|ВЗЯТЬ|ВЫЯСНИТЬ|ДОСТАТЬ|ИСКАТЬ|НАХОДИТЬ|ПОИСК|ПОЛУЧИТЬ) КОМУ (ПРИНАДЛЕЖАТЬ|ИМЕТЬ) (ЭТОТ|ETOT) (НОМЕР|КОМНАТА|НОМЕРНОЙ|НОМЕРОК)\n",
            "==== Number of results: 0 for query (1|I) (MASCULINE|МАСКАЛАЙН|МАСКАЛИН|МАСКУЛАЙН) ОТЗИВ\n",
            "==== Number of results: 44 for query (1|I) (АНАЛИЗ|ИССЛЕДОВАНИЕ|РАЗБОР) (СОЗДАТЬ|CREATION|ВОССОЗДАТЬ|СОЗДАВАТЬ|СОЗДАВАТЬСЯ|СОЗДАНИЕ|СОЗДАТЕЛЬ|СОТВОРИТЬ|ТВОРЕНИЕ) (УСЛОВИЕ|ДОГОВОР|ДОГОВОРЕННОСТЬ|СОГЛАШЕНИЕ) ДЛЯ (РАЗВИТИЕ|РОСТ|СТАНОВЛЕНИЕ|ФОРМИРОВАНИЕ|ЭВОЛЮЦИЯ) (ИГРОВОЙ|ИГРА) (ДЕЯТЕЛЬНОСТЬ|ДЕЙСТВИЕ|ДЕЯТЕЛЬНЫЙ) (ГРУППА|ГРУППИРОВАТЬ|КОЛЛЕКТИВ) (РАННИЙ|ЗАРАНЕЕ|НАЧАЛЬНЫЙ|ПРЕЖДЕ|ПРЕЖДЕВРЕМЕННЫЙ|РАНЕЕ)\n",
            "Docid: 301 Size: 7380\n",
            "Docid: 274 Size: 8472\n",
            "Docid: 295 Size: 10136\n",
            "Docid: 279 Size: 10793\n",
            "Docid: 287 Size: 11481\n",
            "Docid: 303 Size: 11877\n",
            "Docid: 285 Size: 12701\n",
            "Docid: 298 Size: 12791\n",
            "Docid: 307 Size: 13145\n",
            "Docid: 299 Size: 13513\n",
            "==== Number of results: 16 for query (1|I) (ВИНА|VIN|VINUM|WIN) (ОФИЦИАЛЬНЫЙ|ОФИЦИАЛЬНОСТЬ) (САЙТ|SIGHT|SITE)\n",
            "Docid: 313 Size: 2996\n",
            "Docid: 334 Size: 3007\n",
            "Docid: 311 Size: 3399\n",
            "Docid: 331 Size: 5268\n",
            "Docid: 323 Size: 7483\n",
            "Docid: 330 Size: 8490\n",
            "Docid: 324 Size: 9439\n",
            "Docid: 309 Size: 9606\n",
            "Docid: 319 Size: 10081\n",
            "Docid: 2109 Size: 10815\n",
            "==== Number of results: 31 for query (1|I) КОМНАТНЫЙ (КВАРТИРА|ЖИЛИЩЕ|КВАРТИРКА) (КУПИТЬ|ВЫКУПИТЬ|ДОКУПИТЬ|ЗАКУПИТЬ|НАКУПИТЬ|ПОКУПАТЬ|ПОКУПИТЬ|ПОКУПКА|ПРИОБРЕСТИ|ПРИОБРЕТАТЬ|ПРОДАВАТЬ|ПРОДАЖА) В (АЛМАТЫ1|АЛМАТЫ 1)\n",
            "Docid: 350 Size: 836\n",
            "Docid: 365 Size: 1391\n",
            "Docid: 352 Size: 1491\n",
            "Docid: 361 Size: 1924\n",
            "Docid: 371 Size: 2499\n",
            "Docid: 360 Size: 2904\n",
            "Docid: 376 Size: 2951\n",
            "Docid: 377 Size: 3283\n",
            "Docid: 353 Size: 3437\n",
            "Docid: 363 Size: 3818\n"
          ]
        }
      ]
    },
    {
      "cell_type": "markdown",
      "source": [
        "Посмотрим, насколько быстро обрабатываются запросы"
      ],
      "metadata": {
        "id": "sOtnY1f1JQKX"
      }
    },
    {
      "cell_type": "code",
      "source": [
        "import numpy as np\n",
        "import matplotlib.pyplot as plt\n",
        "%matplotlib inline\n",
        "plt.rcParams.update({'figure.figsize':(7,5), 'figure.dpi':100})\n",
        "\n",
        "query_time=[]\n",
        "for query_text in queries_texts[0:100]:\n",
        "    qp = setup_parser(MultifieldParser([\"title\", \"body\"], schema=schema))\n",
        "    q = qp.parse(query_text)\n",
        "    with ix.searcher() as searcher:\n",
        "        start = time.time()\n",
        "        results = searcher.search(q)\n",
        "        end = time.time()\n",
        "        query_time.append((end-start) * 1000)\n",
        "#print(query_time)\n",
        "\n",
        "# Plot Histogram on query_time\n",
        "plt.hist(query_time, bins=50)\n",
        "plt.gca().set(title='Query processing time, ms', ylabel='Frequency', xlabel='ms')"
      ],
      "metadata": {
        "colab": {
          "base_uri": "https://localhost:8080/",
          "height": 539
        },
        "id": "gbDKboI4-ims",
        "outputId": "a6d94b21-a826-4d84-8c30-1eba07d3234d"
      },
      "execution_count": null,
      "outputs": [
        {
          "output_type": "execute_result",
          "data": {
            "text/plain": [
              "[Text(0.5, 1.0, 'Query processing time, ms'),\n",
              " Text(0, 0.5, 'Frequency'),\n",
              " Text(0.5, 0, 'ms')]"
            ]
          },
          "metadata": {},
          "execution_count": 31
        },
        {
          "output_type": "display_data",
          "data": {
            "text/plain": [
              "<Figure size 700x500 with 1 Axes>"
            ],
            "image/png": "[encoded data removed]"
          },
          "metadata": {}
        }
      ]
    },
    {
      "cell_type": "markdown",
      "source": [
        "Ограничим поисковые запросы по времени"
      ],
      "metadata": {
        "id": "aChn1RaziaOu"
      }
    },
    {
      "cell_type": "code",
      "source": [
        "from whoosh.collectors import TimeLimitCollector, TimeLimit\n",
        "\n",
        "for query_text in queries_texts_sample:\n",
        "    qp = setup_parser(MultifieldParser([\"title\", \"body\"], schema=schema))\n",
        "    q = qp.parse(query_text)\n",
        "    with ix.searcher() as searcher:\n",
        "        c = searcher.collector(limit=None)\n",
        "        tlc = TimeLimitCollector(c, timelimit=0.015)\n",
        "        try:\n",
        "            results = searcher.search_with_collector(q, tlc)\n",
        "        except TimeLimit:\n",
        "            print(\"Search took too long, aborting!\")\n",
        "        # Все еще можем посмотреть частичные результаты\n",
        "        output_results(tlc.results(), query_text)"
      ],
      "metadata": {
        "colab": {
          "base_uri": "https://localhost:8080/"
        },
        "id": "4F7YudtXieRa",
        "outputId": "59431b6f-853a-49ad-9101-c5108f67e147"
      },
      "execution_count": null,
      "outputs": [
        {
          "output_type": "stream",
          "name": "stdout",
          "text": [
            "Search took too long, aborting!\n",
            "==== Number of results: 0 for query (1|I) 9736586783 (НАЙТИ|SEARCH|ВЗЯТЬ|ВЫЯСНИТЬ|ДОСТАТЬ|ИСКАТЬ|НАХОДИТЬ|ПОИСК|ПОЛУЧИТЬ) КОМУ (ПРИНАДЛЕЖАТЬ|ИМЕТЬ) (ЭТОТ|ETOT) (НОМЕР|КОМНАТА|НОМЕРНОЙ|НОМЕРОК)\n",
            "\n",
            "==== Number of results: 0 for query (1|I) (MASCULINE|МАСКАЛАЙН|МАСКАЛИН|МАСКУЛАЙН) ОТЗИВ\n",
            "\n",
            "Search took too long, aborting!\n",
            "==== Number of results: 0 for query (1|I) (АНАЛИЗ|ИССЛЕДОВАНИЕ|РАЗБОР) (СОЗДАТЬ|CREATION|ВОССОЗДАТЬ|СОЗДАВАТЬ|СОЗДАВАТЬСЯ|СОЗДАНИЕ|СОЗДАТЕЛЬ|СОТВОРИТЬ|ТВОРЕНИЕ) (УСЛОВИЕ|ДОГОВОР|ДОГОВОРЕННОСТЬ|СОГЛАШЕНИЕ) ДЛЯ (РАЗВИТИЕ|РОСТ|СТАНОВЛЕНИЕ|ФОРМИРОВАНИЕ|ЭВОЛЮЦИЯ) (ИГРОВОЙ|ИГРА) (ДЕЯТЕЛЬНОСТЬ|ДЕЙСТВИЕ|ДЕЯТЕЛЬНЫЙ) (ГРУППА|ГРУППИРОВАТЬ|КОЛЛЕКТИВ) (РАННИЙ|ЗАРАНЕЕ|НАЧАЛЬНЫЙ|ПРЕЖДЕ|ПРЕЖДЕВРЕМЕННЫЙ|РАНЕЕ)\n",
            "\n",
            "Search took too long, aborting!\n",
            "==== Number of results: 15 for query (1|I) (ВИНА|VIN|VINUM|WIN) (ОФИЦИАЛЬНЫЙ|ОФИЦИАЛЬНОСТЬ) (САЙТ|SIGHT|SITE)\n",
            "Docid: 345 B Title:  ПРОВЕРИТЬ ПРОБИТЬ АВТО ПО ВИНА VIN КОД БЕСПЛАТНО В ГИБДД МОЖНО НА ОФИЦИАЛЬНЫЙ САЙТ Highlights: ПОЛУЧИТЬ НА <b class=\"match term0\">ОФИЦИАЛЬНЫЙ</b> <b class=\"match term1\">САЙТ</b> НА <b class=\"match term1\">САЙТ</b> <b class=\"match term2\">VIN</b> AUTO RU ДАННЫЙ СЕРВИС...ПРОВЕРЯТЬ АВТО ПО <b class=\"match term2\">VIN</b> ХОТЯ БЫ НА 2 <b class=\"match term1\">САЙТ</b> ВОЛОДЯ РАЗНЫЙ <b class=\"match term1\">САЙТ</b> ВЫДАВАТЬ РАЗЛИЧНЫЙ...ГОС НОМЕР НА <b class=\"match term1\">САЙТ</b> РСА УДАЧА ВЫПЛЫТЬ <b class=\"match term2\">VIN</b> ДАЛЕЕ <b class=\"match term1\">САЙТ</b> ГИБДД ВСЕ ЗАМЕЧАТЕЛЬНЫЙ\n",
            "Docid: 309 S Title:  БУКМЕКЕРСКИЙ КОНТОРА 1 WIN ОФИЦИАЛЬНЫЙ САЙТ БУКМЕКЕР ТОП Highlights: КОНТОРА 1 <b class=\"match term3\">WIN</b> ВСЕ О СТАВКА НА <b class=\"match term1\">САЙТ</b> ОБЗОР СЕРВИС И ФУНКЦИОНАЛ...КОНТОРА 1 <b class=\"match term3\">WIN</b> ОСОБЕННОСТЬ <b class=\"match term0\">ОФИЦИАЛЬНЫЙ</b> <b class=\"match term1\">САЙТ</b> БУКМЕКЕРСКИЙ КОНТОРА...РАЗВЛЕЧЕНИЕ НА <b class=\"match term0\">ОФИЦИАЛЬНЫЙ</b> <b class=\"match term1\">САЙТ</b> ДОСТУПНЫЙ СПОРТИВНЫЙ\n",
            "Docid: 324 S Title:  ВАН ВИНА БУКМЕКЕРСКИЙ КОНТОРА ОФИЦИАЛЬНЫЙ САЙТ Highlights: <b class=\"match term1\">САЙТ</b> ДЛЯ ПОДКЛЮЧЕНИЕ К <b class=\"match term0\">ОФИЦИАЛЬНЫЙ</b> <b class=\"match term1\">САЙТ</b> 1 <b class=\"match term3\">WIN</b> ПРЕДУСМОТРЕННЫЙ ПОЛНЫЙ...ПЛАТЕЖ ПОПОЛНЕНИЕ НА <b class=\"match term0\">ОФИЦИАЛЬНЫЙ</b> <b class=\"match term1\">САЙТ</b> 1 <b class=\"match term4\">ВИНА</b> ВНЕСТИ ДЕПОЗИТ ИГРОК...УСЛОВИЕ СТАВКА НА 1 <b class=\"match term4\">ВИНА</b> НА <b class=\"match term0\">ОФИЦИАЛЬНЫЙ</b> <b class=\"match term1\">САЙТ</b> БУКМЕКЕРСКИЙ КОНТОРА\n",
            "Docid: 329 B Title:  ГИБДД ПРОВЕРКА АВТОМОБИЛЬ 👮🏻 ПО ВИНА И ГОС НОМЕР ОФИЦИАЛЬНЫЙ САЙТ Highlights: ДАННЫЙ НА <b class=\"match term0\">ОФИЦИАЛЬНЫЙ</b> <b class=\"match term1\">САЙТ</b> СЕРВИС АВТОКОД ВЫ СМОЧЬ...ЗАХОДИТЬ НА <b class=\"match term1\">САЙТ</b> ВБИВАТЬ <b class=\"match term4\">ВИНА</b> И ЗАПРАШИВАТЬ ПРОВЕРКА...ГОСНОМЕР ДАННЫЙ НА <b class=\"match term1\">САЙТ</b> ПОСТУПАТЬ ИЗ <b class=\"match term0\">ОФИЦИАЛЬНЫЙ</b> ИСТОЧНИК ЧТО\n",
            "Docid: 323 S Title:  1 WIN ОФИЦИАЛЬНЫЙ САЙТ БУКМЕКЕРСКИЙ КОНТОРА ВАН ВИНА СТАВКА НА СПОРТ ОНЛАЙН ОСОБЕННОСТЬ БЕТТИНГ В 1 ВИНА BEST BOOKMAKER RU Highlights: <b class=\"match term0\">ОФИЦИАЛЬНЫЙ</b> <b class=\"match term1\">САЙТ</b> 1 <b class=\"match term3\">WIN</b> ОБЗОР ЗДЕСЬ ВЫ НАЙТИ...СДЕЛАТЬ СТАВКА <b class=\"match term0\">ОФИЦИАЛЬНЫЙ</b> <b class=\"match term1\">САЙТ</b> ВАЛЮТА RUB EUR USD МИНИМАЛЬНЫЙ...С УСЛОВИЕ <b class=\"match term0\">ОФИЦИАЛЬНЫЙ</b> <b class=\"match term1\">САЙТ</b> БУКМЕКЕРСКИЙ КОНТОРА\n",
            "Docid: 339 B Title:  1 ВИНА СТАВКА НА СПОРТ НА ОФИЦИАЛЬНЫЙ САЙТ БУКМЕКЕРСКИЙ КОНТОРА 1WIN ОСОБЕННОСТЬ БЕТТИНГ В БК ВАН ВИНА Highlights: КОНТОРА 1 <b class=\"match term3\">WIN</b> И ЕЕ <b class=\"match term0\">ОФИЦИАЛЬНЫЙ</b> <b class=\"match term1\">САЙТ</b> В ИНТЕРНЕТ ЗДЕСЬ ВЫ...И ХАРАКТЕРИСТИКА <b class=\"match term0\">ОФИЦИАЛЬНЫЙ</b> <b class=\"match term1\">САЙТ</b> ПЕРЕЙТИ НА <b class=\"match term1\">САЙТ</b> СКАЧАТЬ ДЛЯ ANDROID...И ХАРАКТЕРИСТИКА <b class=\"match term0\">ОФИЦИАЛЬНЫЙ</b> <b class=\"match term1\">САЙТ</b> ПЕРЕЙТИ НА <b class=\"match term1\">САЙТ</b> СКАЧАТЬ ДЛЯ ANDROID\n",
            "Docid: 334 S Title:  ПРОВЕРИТЬ АВТО ПО ВИНА КОД БЕСПЛАТНО AVTOBOT Highlights: ПО НОМЕР ПРОВЕРКА <b class=\"match term4\">ВИНА</b> КОД АВТОМОБИЛЬ ПО БАЗ...АВТО И ВЛАДЕЛЕЦ <b class=\"match term2\">VIN</b> КОДА АВТОМОБИЛЬ НАЙТИ...ПО ЗНАЧЕНИЕ <b class=\"match term4\">ВИНА</b> КОД КОТОРЫЙ ЯВЛЯТЬСЯ\n",
            "Docid: 313 S Title:  1 ВИНА ЗЕРКАЛО ОФИЦИАЛЬНЫЙ САЙТ ОБСУЖДЕНИЕ НА LIVEINTERNET РОССИЙСКИЙ СЕРВИС ОНЛАЙН ДНЕВНИК Highlights: СОЗДАВАТЬ ЗЕРКАЛО <b class=\"match term0\">ОФИЦИАЛЬНЫЙ</b> <b class=\"match term1\">САЙТ</b> РАБОТАТЬ 1WIN ПО СУБЛИЦЕНЗИЯ...ПОИСКОВЫЙ ФРАЗА 1 <b class=\"match term4\">ВИНА</b> ЗЕРКАЛО <b class=\"match term0\">ОФИЦИАЛЬНЫЙ</b> <b class=\"match term1\">САЙТ</b> ЧЕТВЕРГ 29 НОЯБРЬ 2018...РЕГИСТРАЦИЯ НА 1WIN <b class=\"match term0\">ОФИЦИАЛЬНЫЙ</b> <b class=\"match term1\">САЙТ</b> НЕДОСТУПНЫЙ ОДНАКО\n",
            "Docid: 311 S Title:  WIN MOBILE ОПЕРАТОР МОБИЛЬНЫЙ СВЯЗЬ В КРЫМ И Г СЕВАСТОПОЛЬ Highlights: <b class=\"match term0\">ОФИЦИАЛЬНЫЙ</b> <b class=\"match term1\">САЙТ</b> ОПЕРАТОР СОТОВ СВЯЗЬ...И МОБИЛЬНЫЙ ИНТЕРНЕТ <b class=\"match term3\">WIN</b> MOBILE ДЕЙСТВОВАТЬ...0545 MOBILE 2022 <b class=\"match term3\">WIN</b> MOBILE РАЗРАБОТКА <b class=\"match term1\">САЙТ</b> WEB MOVER ЧАСТНОЕ ЛИЦО\n",
            "Docid: 330 S Title:  VINPIN RU КАТАЛОГ ПОДБОР АРТИКУЛОВ ЗАПЧАСТЬ ПО VIN КОД ДИЛЕРСКИЙ КАТАЛОГ ПРОГРАММА ДЛЯ АВТОСЕРВИС СТО Highlights: ТЕСТОВЫЙ ПО <b class=\"match term2\">VIN</b> КАК У ДИЛЕР ONLINE ПО...АВТОМОБИЛЬ КАК У <b class=\"match term0\">ОФИЦИАЛЬНЫЙ</b> ДИЛЕР В СИСТЕМА...ДЛЯ АВТОСЕРВИС МЫ <b class=\"match term0\">ОФИЦИАЛЬНЫЙ</b> РЕСЕЛЛЕР TECDOC\n",
            "Docid: 319 B Title:  САЙТ ПРО ВИНО КАТАЛОГ ВИНА ВИННЫЙ БЛОГ ОБЗОР АКЦИЯ И СКИДКА Highlights: ВИННЫЙ ПОРТАЛ <b class=\"match term1\">САЙТ</b> ПРО ВИНО ВСЕ О <b class=\"match term4\">ВИНА</b> ВИННЫЙ КАТАЛОГ ФОТО...АКЦИЯ ЕСТЬ НА ИХ <b class=\"match term1\">САЙТ</b> Я НЕ ПРОВЕРЯТЬ НО В ПРОШЛОЕ...ВЫГОДА ПРИ ПОКУПКА <b class=\"match term4\">ВИНА</b> ПРИМЕРНО ПО ОДНОЙ ЦЕНА\n",
            "Docid: 308 B Title:  БУКМЕКЕРСКИЙ КОНТОРА 1WIN ОБЗОР УСЛУГА КОМПАНИЯ 1ВИН Highlights: ЭКСПЕРТ НА <b class=\"match term1\">САЙТ</b> ВАН <b class=\"match term4\">ВИНА</b> КАЗИНО МОЖНО НАЙТИ...ВСЕ ИГРА НА <b class=\"match term1\">САЙТ</b> 1 <b class=\"match term3\">WIN</b> ДОСТУПНЫЙ В ДЕМОВЕРСИЯ...ИМЕТЬСЯ СЕГОДНЯ НА <b class=\"match term0\">ОФИЦИАЛЬНЫЙ</b> <b class=\"match term1\">САЙТ</b> БЕТТЕР ПРЕДЛАГАТЬСЯ\n",
            "Docid: 344 B Title:  1WIN БУКМЕКЕРСКИЙ КОНТОРА СТАВКА НА СПОРТ В БК 1 ВИНА Highlights: ПОЛЬЗОВАТЕЛЬ НА <b class=\"match term0\">ОФИЦИАЛЬНЫЙ</b> <b class=\"match term1\">САЙТ</b> 1ВИН ЕСТЬ РАЗДЕТЬ 1WIN...ОНО ЯВЛЯТЬСЯ КОПИЯ <b class=\"match term0\">ОФИЦИАЛЬНЫЙ</b> <b class=\"match term1\">САЙТ</b> КОТОРОЕ ДОСТУПНО ПО...БУКМЕКЕРСКИЙ КОНТОРА <b class=\"match term0\">ОФИЦИАЛЬНЫЙ</b> <b class=\"match term1\">САЙТ</b> РЕГИСТРАЦИЯ КАК РАБОТАТЬ\n",
            "Docid: 331 S Title:  ИНТЕРНЕТ ВИТРИНА МАГАЗИН SIMPLEWINE ПРОДАЖА ХОРОШИЙ АЛКОГОЛЬ В МОСКВА И САНКТ ПЕТЕРБУРГ ЦЕНА НА САЙТ Highlights: ОБЩИЙ ИНФОРМАЦИЯ О <b class=\"match term4\">ВИНА</b> ВИТРИНА <b class=\"match term4\">ВИНА</b> СОДЕРЖАТЬ МНОЖЕСТВО...ПРОСТО О ЛУЧШИЙ <b class=\"match term4\">ВИНА</b> ОДНА ИЗ ЛУЧШИЙ ШКОЛА...СОМЕЛИЕ <b class=\"match term0\">ОФИЦИАЛЬНЫЙ</b> <b class=\"match term1\">САЙТ</b> ГРУППА КОМПАНИЯ КОНЬЯК\n",
            "Docid: 335 B Title:  АРОМАТНЫЙ МИР ОФИЦИАЛЬНЫЙ ИНТЕРНЕТ САЙТ СЕТЬ ВИНМАРКЕТ В МОСКВА И ДРУГОЙ ГОРОД РОССИЯ Highlights: ЛЮБИТЕЛЬ ИТАЛЬЯНСКИЙ <b class=\"match term4\">ВИНА</b> ХОРОШО ЗНАТЬ ТАКИЕ...РЕЧЬ ЗАХОДИТЬ О <b class=\"match term4\">ВИНА</b> ТЕМ НЕ МАЛО ОНА МОЖЕТ...НА ПОЛК МАГАЗИН <b class=\"match term4\">ВИНА</b> И БРЕНДИ ОДНО ТОЛЬКО\n",
            "\n",
            "Search took too long, aborting!\n",
            "==== Number of results: 0 for query (1|I) КОМНАТНЫЙ (КВАРТИРА|ЖИЛИЩЕ|КВАРТИРКА) (КУПИТЬ|ВЫКУПИТЬ|ДОКУПИТЬ|ЗАКУПИТЬ|НАКУПИТЬ|ПОКУПАТЬ|ПОКУПИТЬ|ПОКУПКА|ПРИОБРЕСТИ|ПРИОБРЕТАТЬ|ПРОДАВАТЬ|ПРОДАЖА) В (АЛМАТЫ1|АЛМАТЫ 1)\n",
            "\n"
          ]
        }
      ]
    },
    {
      "cell_type": "markdown",
      "source": [
        " Вспомогательные методы **document()**, **documents()** позволяют извлекать поля на основе терминов, переданных в качестве ключевых слов."
      ],
      "metadata": {
        "id": "1aP-NZRErKPh"
      }
    },
    {
      "cell_type": "code",
      "source": [
        "qp = setup_parser(MultifieldParser([\"title\", \"body\"], schema=schema))\n",
        "q = qp.parse(query_text)\n",
        "with ix.searcher() as searcher:\n",
        "    print(len(list(searcher.documents(is_small=True))))\n",
        "    print(searcher.document(docid=2109))"
      ],
      "metadata": {
        "colab": {
          "base_uri": "https://localhost:8080/"
        },
        "id": "A4oD6wNjqpGy",
        "outputId": "8c321005-d950-4fed-a217-24a0a6801ba3"
      },
      "execution_count": null,
      "outputs": [
        {
          "output_type": "stream",
          "name": "stdout",
          "text": [
            "1964\n",
            "{'body': ' ПРОШИВАТЬ КИТАЙСКИЙ МАГНИТОЛА С ПОМОЩЬ ПРЕДСТАВИТЬ ПОШАГОВЫЙ ИНСТРУКЦИЯ ПРОШИВКА ОСОБЕННОСТЬ ПРОШИВКА КИТАЙСКИЙ МАГНИТОЛА 4 ОЦЕНКА СРЕДНИЙ 2 75 ИЗ 5 ЗАГРУЗКА ОСОБЕННОСТЬ ПРОШИВКА КИТАЙСКИЙ МАГНИТОЛА НЕ ВСЕГДА ИСХОДНЫЙ ФУНКЦИЯ КУПИТЬ ТЕХНИК ИДЕАЛЬНЫЙ ПОДХОДИТЬ КИТАЙСКИЙ МАГНИТОЛА НЕ ИСКЛЮЧЕНИЕ ПОМОЧЬ ИХ УЛУЧШИТЬ ТАК НАЗЫВАТЬ ПЕРЕПРОШИВКА КАК И ДЛЯ ЛЮБОЙ СОВРЕМЕННЫЙ ТЕХНИК ДЛЯ НИХ ДОСТУПНЫЙ ОБНОВЛЕНИЕ ОТ ПРОИЗВОДИТЕЛЬ ЧТОБЫ ПОЛЬЗОВАТЬСЯ ДРУГОЙ МНОГО МОДНЫЙ ФУНКЦИЯ НОВЫЙ АППАРАТ ПОКУПАТЬ ЧАСТЫЙ ВСЕГО НЕ НАДО ПРОШИВКА КИТАЙСКИЙ МАГНИТОЛА 1 ЧТО ТАКОЕ ПРОШИВКА И КАК ЭТО РАБОТАТЬ 2 ЛЕГАЛЬНЫЙ НЕЛЕГАЛЬНЫЙ ИНТЕЛЛЕКТУАЛЬНЫЙ СОБСТВЕННОСТЬ 3 ГДЕ СКАЧАТЬ ОБНОВЛЕНИЕ ИЛИ ПРОШИВКА 3 КИТАЙСКИЙ АВТОМАГНИТОЛА НА АНДРОИД ЧТО ТАКОЕ ПРОШИВКА И КАК ЭТО РАБОТАТЬ ПРАКТИЧЕСКИЙ ВСЯ СОВРЕМЕННЫЙ ТЕХНИКА ОБЛАДАТЬ ЧЕМ ТО ВРОДЕ СОЗНАНИЕ ЭТО ПРОГРАММА КОТОРЫЕ ВСТРОИТЬ В ЕЕ ПАМЯТЬ ПЕРЕПРОШИВКА ЭТО ИЗМЕНЕНИЕ СОЗНАНИЕ ТЕХНИК ЕЕ ПРОГРАММА ПОРЫТЬ ВЕСЬМА ВЕСОМЫЙ ПРОШИВКА БЫВАТЬ ЛЕГАЛЬНЫЙ И НЕЛЕГАЛЬНЫЙ ЕСЛИ МОДЕЛЬ ТЕХНИК НОВЫЙ К НЕЙ ОБЯЗАТЕЛЬНЫЙ ПОСТОЯННО РАЗРАБАТЫВАТЬ ЛЕГАЛЬНЫЙ ПРОШИВКА С ХОРОШИЙ ЛУЧШИЙ СОВРЕМЕННЫЙ ФУНКЦИЯ ЕСЛИ В ПРОГРАММНЫЙ ОБЕСПЕЧЕНИЕ МОДЕЛЬ БЫЛ ДОПУСТИТЬ НЕДОЧЕТ И ОШИБКА ПОПАСТЬ В МАССОВЫЙ ПРОИЗВОДСТВО ЧТО УВА БЫВАТЬ ИСПРАВИТЬ ЕЕ ПОМОГАТЬ ТАКЖЕ ПРОШИВКА БЛАГОДАРИТЬ ПРОШИВКА НЕ НАДО ПОСТОЯННО ТРАТИТЬ ЛИШНИЙ ДЕНЬГИ НА НОВЫЙ АППАРАТ НЕРВНИЧАТЬ ЧТО У ТО БУКВАЛЬНЫЙ ЧЕРЕЗ МЕСЯЦ ПОЯВИТЬСЯ МОДЕЛЬ С ПОТРЯСАТЬ ФУНКЦИЯ И НЕДАВНИЙ ПОКУПКА УЖЕ НИКУДА НЕ ГОДИТЬСЯ НИ ПРОИЗВОДИТЕЛЬ НИ ПОКУПАТЕЛЬ ЛИШНИЙ ЗАТРАТА НЕ НУЖНЫЙ ЭТО ПОНЯТНО МЕШАТЬ ИЗОБРЕТАТЕЛЬ ТАК ЧАСТЫЙ СОЗДАВАТЬ ЧТО ТО НОВЫЙ ТОЖЕ НИКТО НЕ СОБИРАТЬСЯ ТЕХНИКА ДОЛГИЙ ВРЕМЯ ПРОСЛУЖИТЬ ПРИ ЭТОМ БУДЕТ СООТВЕТСТВОВАТЬ МОД КОГДА ЖЕ АППАРАТ ОБЪЕКТИВНО УСТАРЕЛЫЙ ПРОИЗВОДСТВО ОБНОВЛЕНИЕ И ПРОШИВКА ПРЕКРАЩАТЬСЯ И ЧЕЛОВЕК ПРЕДЛАГАТЬСЯ ПОЛЬЗОВАТЬСЯ ТЕМ ЧТО ЕСТЬ ИЛИ ЖЕ КУПИТЬ НОВЫЙ АППАРАТ ОФИЦИАЛЬНЫЙ ОБНОВЛЕНИЕ И ПРОШИВКА ДОСТУПНЫЙ ВСЕМ ЧЕЛОВЕК СОВЕРШЕННО БЕСПЛАТНО И ИХ ЛЕГКО НАЙТИ НА САЙТ ПРОИЗВОДИТЕЛЬ НА САЙТ ПАРТНЕР ПОМИМО ОФИЦИАЛЬНЫЙ ОБНОВЛЕНИЕ И ПРОШИВКА ВНИМАНИЕ ВСЕХ КТО ХОТЕТЬ АБГРЕЙДИТЬ ТЕХНИК ИНОГДА ПРЕДЛАГАТЬСЯ САМОДЕЛЬНЫЙ ВЕРСИЯ ПРОГРАММИСТ ЛЮБИТЕЛЬ ВОЗНИКАТЬ ВОПРОС НАСКОЛЬКО ЭТО ЗАКОННО НАДО ЛИ ИМИ ПОЛЬЗОВАТЬСЯ ЛЕГАЛЬНЫЙ НЕЛЕГАЛЬНЫЙ ИНТЕЛЛЕКТУАЛЬНЫЙ СОБСТВЕННОСТЬ КУПИТЬ СЕБЕ ТЕХНИК ЧЕЛОВЕК ПОЛУЧАТЬ ВСЕ ПРАВО НА ЕЕ ИСПОЛЬЗОВАНИЕ ПО НАЗНАЧЕНИЕ И НЕ ПО НАЗНАЧЕНИЕ БУДЬ ТО КИТАЙСКИЙ МАГНИТОЛА ИЛИ ШВЕЙЦАРСКИЙ ЧАС НАРУШЕНИЕ ЗАКОН БУДЕТ ИСПОЛЬЗОВАНИЕ ТЕХНИК С ЦЕЛЬ ПРИЧИНЕНИЕ ВРЕД ИМИДЖ ПРОИЗВОДИТЕЛЬ ИЛИ В ЦЕЛЬ НАРУШЕНИЕ ОБЩЕСТВЕННЫЙ ПОРЯДОК ТО ЕСТЬ ВЛАДЕЛЕЦ ТЕХНИК МОЖЕТ СКАЧАТЬ И УСТАНОВИТЬ КАК ЛИЦЕНЗИОННЫЙ ТАК И НЕ ЛИЦЕНЗИОННЫЙ ПРОГРАММНЫЙ ОБЕСПЕЧЕНИЕ ЛЮБОЙ ПОНРАВИТЬСЯ ПРОШИВКА МОЖЕТ БЫТЬ ИСПОЛЬЗОВАТЬ НЕЗАКОННО ИЗГОТАВЛИВАТЬ И РАСПРОСТРАНЯТЬ ПОДДЕЛКА НЕОФИЦИАЛЬНЫЙ КОПИЯ ВИДОИЗМЕНЕННЫЙ ВАРИАНТ ДАЖЕ ЧЕЛОВЕК КОТОРЫЙ ИЗОБРЕСТИ ДАННЫЙ ПРОГРАММА ЯВЛЯТЬСЯ ОБЛАДАТЕЛЬ ПАТЕНТ НА ИЗОБРЕТЕНИЕ ОБЛАДАТЕЛЬ АВТОРСКИЕ ПРАВО И ЭТО ПОДТВЕРДИТЬ ДОКУМЕНТАЛЬНЫЙ ДОЛЖНЫЙ СОБЛЮДАТЬ ДОГОВОРЕННОСТЬ С ПРОИЗВОДИТЕЛЬ ИСПОЛЬЗОВАТЬ ИЗОБРЕТЕНИЕ ДЛЯ МАССОВЫЙ ПРОИЗВОДСТВО ЕСЛИ ИСПОЛЬЗОВАТЬСЯ НЕЛИЦЕНЗИОННЫЙ ПРОШИВКА ФИРМЕННЫЙ СЕРВИСНЫЙ ЦЕНТР ОТКАЗАТЬ В БЕСПЛАТНЫЙ РЕМОНТ ГДЕ СКАЧАТЬ ОБНОВЛЕНИЕ ИЛИ ПРОШИВКА СКАЧАТЬ ПРОШИВКА КИТАЙСКИЙ МАГНИТОЛА ПРОСТОЙ ВСЕГО С ОФИЦИАЛЬНЫЙ САЙТ ПРОИЗВОДИТЕЛЬ ОБЫЧНО НА НЕМ МОЖНО ВЫБРАТЬ РОДНОЙ ЯЗЫК И ПОНЯТЬ СМЫСЛ ВСЕГО ЧТО НАПИСАТЬ ЕСЛИ НУЖНЫЙ ПОПАСТЬСЯ НА ГЛАЗ НАДО ЗАГРУЗИТЬ ФАЙЛ СОХРАНИТЬ НА КАРТ ПАМЯТЬ ПРИ ПОМОЩЬ КОТОРОЙ ИНФОРМАЦИЯ ПОПАСТЬ НА АВТОМАГНИТОЛА ОСТАТЬСЯ ТОЛЬКО ОБНОВИТЬ ФУНКЦИЯ ПРОГРАММА И ОПЦИЯ ЕСЛИ ЖЕ НА САЙТ ПРОИЗВОДИТЕЛЬ НИЧТО ПОДХОДИТЬ НЕ НАЙТИСЬ А ТАКОЕ УВА БЫВАТЬ ПОМОЧЬ ПОИСК НА ПАРТНЕР ТАКИХ К ПРИМЕР КАК 4PDA МНОГО НОВОСТЬ И ИНТЕРЕСНЫЙ СОФТ ДЛЯ КИТАЙСКИЙ МАГНИТОЛА ЗАГЛЯНУТЬ СЮДА БУДЕТ НЕ ЛИШНИЙ НА 4PDA В РАЗДЕЛ ФОРУМ НАПРИМЕР МНОГО ИНФОРМАЦИЯ О ПРОШИВКА ДЛЯ КИТАЙСКИЙ МАГНИТОЛА ИЗУЧИТЬ ЕГО ПОДРОБНО И ВНИМАТЕЛЬНЫЙ ЛЕГКО НАЙТИ НУЖНЫЙ А ГЛАВНОЕ ЛИЦЕНЗИОННЫЙ ЗДЕСЬ СОБРАТЬ БОЛЬШОЙ КОЛИЧЕСТВО ССЫЛКА ДЛЯ СКАЧИВАНИЕ ОЗНАКОМЛЕНИЕ ИНСТРУКЦИЯ СОВЕТ ФОТО КИТАЙСКИЙ АВТОМАГНИТОЛА НА АНДРОИД УНИВЕРСАЛЬНЫЙ ОПЕРАЦИОННЫЙ СИСТЕМА ANDROID УСТАНОВИТЬ И В СМАРТФОН И В ПЛАНШЕТ И В ТЕЛЕВИЗОР И В КИТАЙСКИЙ МАГНИТОЛА ПРАКТИЧЕСКИЙ ВЕЗДЕ В БЛИЖАЙШИЙ ВРЕМЯ ANDROID ПЛАНИРОВАТЬ ИСПОЛЬЗОВАТЬ ТАКЖЕ ДЛЯ СОЗДАНИЕ РОБОТ ДЛЯ СОЗДАНИЕ АВТОМОБИЛЬ ОН ХОРОШО ПОДХОДИТЬ ДЛЯ МАШИНОСТРОЕНИЕ ANDROID СРАЗУ ПОКОРИТЬ СВОЕЙ РАЦИОНАЛЬНОСТЬ У НЕГО МАЛЫЙ КОНКУРЕНТ СЕГОДНЯ ТАКОЕ ДОМИНИРОВАНИЕ УПРОЩАТЬ РАБОТА С ТЕХНИКА ИСКЛЮЧАТЬ КОНФЛИКТ ПРОГРАММА НО О МОНОПОЛИЯ РЕЧЬ НЕ ИДТИ АНДРОИД ЛЕГКО НАХОДИТЬ ОБЩИЙ ЯЗЫК С ДРУГОЙ ОПЕРАЦИОННЫЙ СИСТЕМА ОДНАКО ПРОШИВКА НУЖНЫЙ ТОЛЬКО ТА КОТОРАЯ РАЗРАБОТАТЬ ДЛЯ ЭТОЙ ОПЕРАЦИОННЫЙ СИСТЕМА WINDOWS CE 6 0 К ПРИМЕР КОНКУРЕНТ А НЕ СОЮЗНИК ЕЕ ЧАСТЫЙ НАЗЫВАТЬ ЕЩЕ WINCE WINDOWS CE 6 ЯВЛЯТЬСЯ САМОСТОЯТЕЛЬНЫЙ ПЛАТФОРМА ЕЕ ВЫПУСК ЗАНИМАТЬСЯ ДРУГОЙ ПРОИЗВОДИТЕЛЬ ДЛЯ КИТАЙСКИЙ МАГНИТОЛА НА БАЗ ПЛАТФОРМА WINDOWS CE 6 ПОДОЙТИ ОДНИ ПРОШИВКА А ДЛЯ КИТАЙСКИЙ МАГНИТОЛА НА БАЗ АНДРОИД ДРУГОЙ ПРИ ЭТОМ СЛЕДОВАТЬ ОТЛИЧАТЬ WINDOWS CE ОТ WINDOWS CE 6 0 К ПРИМЕР WINCE WIN CE 5 0 И WIN CE 6 ЭТО РАЗНЫЙ ВЕРСИЯ ПЛАТФОРМА ОДНОГО ПРОИЗВОДИТЕЛЬ У НИХ РАЗНЫЙ ПРОБЛЕМА ДОСТОИНСТВО И НЕДОСТАТОК В WIN CE 5 0 МОЖЕТ НЕ РАБОТАТЬ НАВИГАЦИЯ В WIN CE 6 0 НАВИГАЦИЯ И ПРОИГРЫВАТЕЛЬ К ПРИМЕР НАВИГАЦИЯ ВОССТАНОВИТЬСЯ ПОСОЛ ЗАГРУЗКА ОДНОГО ОБНОВЛЕНИЕ А НАВИГАЦИЯ И ПРОИГРЫВАТЕЛЬ ПОСОЛ ЗАГРУЗКА ДРУГОЙ ИЛИ ДВА ПРОШИВКА КИТАЙСКИЙ МАГНИТОЛА WINDOWS CE И ПРОШИВКА КИТАЙСКИЙ МАГНИТОЛА WINDOWS CE 6 0 ЭТО ПРОДУКТ ДЛЯ ПЛАТФОРМА WINCE НО НЕ ДЛЯ АНДРОИД ЕСЛИ ПЕРЕПУТАТЬ МОЖНО ИСПОРТИТЬ ИМЕТЬСЯ ОПЕРАЦИОННЫЙ СИСТЕМА ЗДЕСЬ НУЖНЫЙ ВНИМАТЕЛЬНОСТЬ ПЛАТФОРМА WINCE МОЖНО ЗАМЕНИТЬ НА ПЛАТФОРМА АНДРОИД КИТАЙСКИЙ МАГНИТОЛА 2 DIN ОЧЕНЬ ПРОСТ В ИСПОЛЬЗОВАНИЕ МАГНИТОЛА 2 DIN ВКЛЮЧАТЬ ХОРОШИЙ НАБОР ОПЦИЯ DVD CD GPS НАВИГАЦИЯ FI РАДИО И ДРУГОЙ КУПИТЬ АВТО МОЖНО ОБНАРУЖИТЬ В НЕМ 2 DIN А МОЖНО И КУПИТЬ 2 DIN НЕГО ЭТА МАГНИТОЛА БАЗИРОВАТЬСЯ НА СИСТЕМА АНДРОИД И НАЙТИ К НЕЙ ОБНОВЛЕНИЕ НЕ СОСТАВИТЬ ТРУД ПРОШИВКА КИТАЙСКИЙ МАГНИТОЛА НА АНДРОИД ВСЕГДА НЕСЛОЖНЫЙ ЗАДАЧА НЕТ СМЫСЛ МЕНЯТЬ 2 DIN НА ЧТО ТО ДРУГОЙ ПОКА ЕСТЬ ОБНОВЛЕНИЕ И ПРОШИВКА ПРОШИВКА КИТАЙСКИЙ МАГНИТОЛА 2 DIN ЭТО НЕСЛОЖНЫЙ ЗАДАЧА ДЛЯ ПОЛУЧЕНИЕ ХОРОШИЙ РЕЗУЛЬТАТ НАДО НАЙТИ И СКАЧАТЬ ОБНОВЛЕНИЕ СОХРАНИТЬ ЕГО НА КАРТ ПАМЯТЬ ПОДКЛЮЧИТЬ КАРТ ПАМЯТЬ К МАГНИТОЛА НАЖАТЬ КНОПКА РЕСЕТ ВКЛЮЧИТЬ МАГНИТОЛА ПОДОЖДАТЬ ПОКА ПРОШИВКА ЗАГРУЗИТЬСЯ И УСТАНОВИТЬСЯ ПЕРЕЗАГРУЗИТЬ МАГНИТОЛА НАЖАТЬ РЕСЕТ ВКЛЮЧИТЬ И ПОДОЖДАТЬ ПОКА ЗАГРУЗИТЬСЯ РАБОЧИЙ ПАРАМЕТР ВЫПОЛНИТЬ КАЛИБРОВКА ДИСПЛЕЙ ВСЕ НОВЫЙ ПРОШИВКА УСТАНОВИТЬ МАГНИТОЛА ГОТОВ К ИСПОЛЬЗОВАНИЕ НАВИГАЦИЯ ПО ЗАПИСЬ КАК ОСУЩЕСТВИТЬ ПРОШИВКА МАГНИТОЛА НА ЛАДА ГРАНТ КАК УСТАНАВЛИВАТЬСЯ ПРОШИВКА МАГНИТОЛА ЛАДА ПРИОР НИКОЛАЙ 27 01 В 22 21 ДОБРЫЙ ВРЕМЯ СУТКИ ПОМОЧЬ ОЖИВИТЬ КИТАСКИЙ АВТОМАГНИТОЛА PIONEER DA 623G 624 ПОСОЛ НЕУДАЧНЫЙ ПОПЫТКА УСТАНОВИТЬ АЛЬТЕРНАТИВНЫЙ МЕНЬ ИЗ ВСЕГО ОСТАТЬСЯ ТОЛЬКО ПРИ ПОДАЧА ПИТАНИЕ НА ЭКРАН СВЕТИТЬСЯ ЛОГОТИП И И ЗАГРУЗОЧНЫЙ СТРОКА ДОЙТИ ДОКОНЦЕ И ВСЕ ТОМУЖЕ СОСТОЯНИЕ ИЗВЛЕЧЕНИЕ И ЗАМЕНА SD КАРТ ПРЕЖНИЙ КАК ИЛИ С ПОПОЩЬ ЧЕГО МОЖНО УСТАНОВИТЬ ИЛИ ВОСТАНОВИТЬ ПРОШИВКА ПОМОЧЬ ОЧЕНЬ ПРОСИТЬ ОТВЕТИТЬ ЕВГЕНЬЯ 30 В 15 16 НИКОЛАЙ ПОЧИНИТЬ МАГНИТОЛА У МЕНЯ ТАКАЯ ЖЕ ПРОБЛЕМА ОТВЕТИТЬ ДМИТРИЯ 09 В МНЕ КАК РАЗ НЕОБХОДИМЫЙ ПОДЛЕЧИТЬ СВОЮ МАГНИТОЛА ДУМАТЬ ОБРАЩАТЬСЯ К СПЕЦИАЛИСТ НО ОКАЗЫВАТЬСЯ ЭТО НЕ ТАК УЖ И СЛОЖНЫЙ БУДУ ПРОБОВАТЬ ГЛАВНОЕ ЧТО БЫ ОНА ПОТ ВООБЩЕ ВКЛЮЧИТЬСЯ У МЕНЯ ОТВЕТИТЬ АЛЕКСАНДРА 17 В 18 53 МАГНИТОЛА MP 362 ПОМОЧЬ ПОЖАЛУЙСТА ОТВЕТИТЬ ИГОРЬ В 09 08 ПОМОЧЬ С ПРОШИВКА НА МАГНИТОЛА 7020G ОТВЕТИТЬ ПАВЕЛ 16 В 01 42 МАГНИТОЛА SWAT AHR 5180 КАК ЕЕ ПРОШИТЬ ПЛЕЙЛИСТ МАРКЕТА НЕ РАБОТАТЬ И ТД ИЗ ЗА НЕ ЛЕЦИНЗИРОВАННЫЙ АНДРОИД 6 ОТВЕТИТЬ В 01 47 МАГНИТОЛА НА АНДРОИД 6 НЕ ЛИЦЕНЗИЯ ПОЭТОМУ ПЛЕЙМАРКЕТ И ХРОМОЙ НЕ РАБОТАТЬ СКОРОСТЬ НИЗКИЙ С ЛАГ И ТОРМОЗ ЕСТЬ ЛИЦЕНЗИЯ АНДРОИД ПРОШИВКА НА SWAT AHR 5180 ОТВЕТИТЬ ВОЛОДЯ 18 В 07 47 ПОСОЛ ПРОШИВКА MCU КИТАЙСКИЙ МАГНИТОЛА 6 1 ПЕРЕСТАТЬ РЕАГИРОВАТЬ ВООБЩЕ НЕ ВКЛЮЧАТЬСЯ ЧЕРНЫЙ ЭКРАН КАК МОЖНО ВОСТАНОВИТЬ ОТВЕТИТЬ ЭДИК 05 05 В 12 37 ЗДРАВСТВОВАТЬ МНЕ ПОДАРИТЬ НАВИГАТОР НА СИСТЕМА WINDOWS СЕ Я ИСПОЛЬЗОВАТЬ ЕГО НЕКОТОРЫЙ ВРЕМЯ А ПОТ ОНА ПЕРЕСТАТЬ РАБОТАТЬ ЗАВИСНУТЬ СЕЙЧАС ОНА НЕ ВКЛЮЧАТЬСЯ ЗАВИСНУТЬ НА ЗАГРУЗКА ЧТО МНЕ ДЕЛАТЬ И КАК ЕГО ПЕРЕПРОЩИТЬ ПОМОЧЬ ПОЖАЛУЙСТА КТО МОЖЕТ ПОМОЧЬ ОТВЕТИТЬ ООО 04 11 2019 В 11 19 ЗАЙТИ НА ФОРУМ 4PDA НАЙТИ ТАМ ОБНОВЛЕНИЕ ПРОШИВИ В WIN CE ТАМ ВСЕ ПОНЯТНО И ДОСТУПНО Я ДЕЙСТВОВАТЬ ПО ИНСТРУКЦИЯ И ВСЕ ПОЛУЧИТЬСЯ ОТВЕТИТЬ ВАСИЛИЯ ВИКТОРОВИЧ 16 В 16 12 СДЕЛАТЬ ОТВЕТИТЬ ВАСИЛИЯ 13 В 15 01 ДОБРЫЙ ДЕТЬ МУЖИК ПОЖАЛУЙСТА ПОМОЧЬ КТО НИБУДЬ ОБНОВИТЬ КИТАЙСКИЙ МАГНИТОЛА КАК И ЧТО ДЕЛАТЬ НЕ ОЧЕНЬ В ЭТОМ РОЗБИРАЮСЬ ОТВЕТИТЬ ЯРОСЛАВА В 15 51 ДОБРЫЙ ДЕНЬ ПОМОЖИТЬ БУДЬЛАСКА З ПРОШИВКА НА АВТОМАГНИТОЛА АНДРОЪД 6 ZEEPINБУДЬЛАСКА ХТО МОЖЕ ОТВЕТИТЬ МАКСАТ 02 В 17 40 НА 50 КОТОРЫЙ НА ФОТКА ЭТО WIN CE ИЛИ АНДРОИД ПОДСКАЗАТЬ ПЖЛ ОТВЕТИТЬ НИКОЛАЙ В 15 09 КТО МОЖЕТ ПОМОЧЬ КИТАЙСКИЙ АВТОМАГНИТОЛА НА АНДРОИД 4 2 НА ХОВЕР5 КУПИТЬ ЧЕРЕЗ АЛИЭКСПРЕСС 3 ГОД ОТРАБОТАТЬ И ГИКНУЛАСЬ НИКАКОЙ МАРКИРОВКА НЕТ НИ ВНУТРИ НИ СНАРУЖИ В РЕМСЕРВИС СКАЗАТЬ ЧТО НУЖНЫЙ НО ЧТО ТУДА ЗАГОНЯТЬ НЕ ЗНАТЬ ИЗ ЗА ОТСУТСТВИЕ МАРКИРОВКА МОЖЕТ КТО СТАЛКИВАТЬСЯ ОТВЕТИТЬ SERG13 08 12 2018 В 00 18 МОЖНО ПОПРОБОВАТЬ НАЙТИ ТИП НИМЕНОВАНИЕ МУЛЬТИМЕДИЙНЫЙ ПРОЦЕССОР САМ БОЛЬШОЙ МИКРОСХЕМА НА ПЛАТ ПОСОЛ ЧЕГО НАЙТИ В ИНТЕРНЕТ МНОГО ТАКИМ ПРОЦЕССОР И ЗАЛИТЬ ПРОШИВКА ОТ НЕЕ ВООБЩЕ ТО ТРИ ГОД ДЛЯ NO NAME ВПОЛНЕ НОРМАЛЬНЫЙ СРОК ОТВЕТИТЬ ВИТАЛИЯ 15 В 19 42 ПОДСКАЗАТЬ ПОЖАЛУЙСТА ГДЕ МОЖНО СКАЧАТЬ ОБНОВЛЕНИЕ НА КИТАЙСКИЙ МАГНИТОЛА 7020А НА WINDOWS CE 6 ОТВЕТИТЬ АНТОХА В 21 31 ПОДСКАЗАТЬ ПОЖАЛУЙСТА ГДЕ МОЖНО СКАЧАТЬ ОБНОВЛЕНИЕ НА КИТАЙСКИЙ МАГНИТОЛА REDPOWER 8989 НА WINDOWS CE 6 СПАСИБО ОТВЕТИТЬ АЛЕКСАНДРА 02 В 14 48 ДОБРЫЙ ДЕТЬ ПОМОЧЬ ОПРЕДЕЛИТЬ НАЗВАНИЕ КИТАЙСКИЙ МАГНИТОЛА И НАЙТИ ПРОШИВКА МОДЕЛЬ АС8227 АНДРОИД 5 ОТВЕТИТЬ ДИМА В 14 56 ДОБРЫЙ ДЕТЬ ЗАВИСАТЬ КИТАЙСКИЙ МАГНИТОЛА МОДЕЛЬ PX3 ANDROID 7 2 ПОДСКАЗАТЬ ПОЖАЛУЙСТА С ПРОШИВКА ГДЕ МОЖНО ЕЕ СКАЧАТЬ ОТВЕТИТЬ АЛЕКСАНДРА 02 В 18 17 ЗДРАВСТВОВАТЬ НУЖНЫЙ ПРОШИВКА НА КИТАЕЦ PM8062B ПОМОЧЬ КТО МОЖЕТ ОТВЕТИТЬ 28 В 17 04 ПОМОЧЬ ОБНОВИТЬ КИТАЙСКИЙ МАГНИТОЛА СЕРИЙ FY6140 2DIN ANDROID 6 СПАСИБО ЗАРАНЕЕ УЖЕ ВЕЗДЕ 8 ОТВЕТИТЬ САИДА 26 В 03 29 ПОМОЧЬ РЕБЯТА ЗАЛЕЗТЬ НАСТРОЙКА ИЗГОТОВИТЕЛЬ ТАМ ЛАЗИТЬ И КОДИРОВКА СБИТЬ А ТЕПЕР ВООБЩЕ БАРАХЛИТЬ ОДНО НАЖИМАТЬ ОДНО БАРДАК ЧТО МНЕ ДЕЛАТ МОЖЕТ ПРОШИВКА ПОМОЧЬ ПОДСКАЗАТЬ ГДЕ НАЙТИ НА CAIXI ОТВЕТИТЬ ВЯЧЕСЛАВА В 14 55 ЧЕЛОВЕК ЕСТЬ У КОГО ПРОШИВКА ДЛЯ КИТАЙСКИЙ МАГНИТОЛА SKU AD901UN7001 ОТВЕТИТЬ ОЛЕГ 17 В 18 23 ЗДРАВСТВОВАТЬ ПОМОЧЬ НУЖНЫЙ ПРОШИВКА 7166 ВКЛЮЧАЕТЬСЯ ДО ЗАСТАВКА И ВСЕ А РАДИО И ФЛЕШКА РАБОТАТЬ ЭКРАН НЕТ ОТВЕТИТЬ ВЛАДИМИРА В 15 33 ПРОШИВКА ДЛЯ АВТОМАГНИТОЛА GALLASY МНОГО 300 СЕРВИСНЫЙ КОМПЛЕКТ ОТВЕТИТЬ MIHHAIL 20 В 17 57 ЗДРАВСТВОВАТЬ К МЕНЯ КИТАЙСКИЙ МАГНИТОЛА 2DIN 8 ЗАВОДСКИЙ НАСТРОЙКА И ПЕРЕСТАТЬ РАБОТАТЬ СЕНСОР НЕ РЕАГИРОВАТЬ СПЛОШНОЙ ХАОС НИЧТО НЕ ВКЛЮЧИТЬ ЯВ 4 PDA НЕ НАЙТИ НУЖНЫЙ ПРОШИВКА МОЖЕТЕ МНЕ ПОМОЧЬ ОТВЕТИТЬ ВЛАДИМИРА В 17 45 ПРОШИВКА МАГНИТОЛА АНДРОИД K6 11 OH V2 0 190628 СПАСИБО ОТВЕТИТЬ', 'is_small': False, 'title': ' ПРОШИВКА КИТАЙСКИЙ МАГНИТОЛА 2 DIN АНДРОИД С НАВИГАЦИЯ WINDOWS CE 6 0', 'size': 10815, 'docid': 2109}\n"
          ]
        }
      ]
    },
    {
      "cell_type": "markdown",
      "source": [
        "Комбинируем несколько выдач\n",
        "**Results.upgrade_and_extend(results)** - результаты, которые есть в обеих выдачах поднимаются наверх, остальные добавляются в конец\n",
        "\n",
        "**Results.upgrade(results)** - результаты, которые есть в обеих выдачах поднимаются наверх\n",
        "\n",
        "**Results.extend(results)** - результаты второй выдачи добавляются в конец первой\n",
        "\n",
        "**Results.filter(results)** - убираем результаты второй выдачи из первой"
      ],
      "metadata": {
        "id": "xF3qvA6n2oJz"
      }
    },
    {
      "cell_type": "code",
      "source": [
        "for query_text in queries_texts_sample:\n",
        "    # Допустим, поиск по title имеет бесконечно больший вес, чем\n",
        "    # по body. Мы можем установить очень большой field_boost, а можем скомбинировать\n",
        "    # 2 выдачи\n",
        "    qpt = setup_parser(QueryParser(\"title\", schema=schema))\n",
        "    qt = qpt.parse(query_text)\n",
        "\n",
        "    qpb = setup_parser(QueryParser(\"body\", schema=schema))\n",
        "    qb = qpb.parse(query_text)\n",
        "\n",
        "    with ix.searcher() as searcher:\n",
        "        results = searcher.search(qt, limit=5)\n",
        "        results_body = searcher.search(qb, limit=10)\n",
        "        results.upgrade_and_extend(results_body)\n",
        "        # Т.к. искали изначально по title, highlights (сниппеты) отсутствуют\n",
        "        output_results(results, query_text)"
      ],
      "metadata": {
        "colab": {
          "base_uri": "https://localhost:8080/"
        },
        "id": "Cu8o7ouD25_x",
        "outputId": "587ef8f4-d2b0-4486-c122-8fb392c1bd8e"
      },
      "execution_count": null,
      "outputs": [
        {
          "output_type": "stream",
          "name": "stdout",
          "text": [
            "==== Number of results: 0 for query (1|I) 9736586783 (НАЙТИ|SEARCH|ВЗЯТЬ|ВЫЯСНИТЬ|ДОСТАТЬ|ИСКАТЬ|НАХОДИТЬ|ПОИСК|ПОЛУЧИТЬ) КОМУ (ПРИНАДЛЕЖАТЬ|ИМЕТЬ) (ЭТОТ|ETOT) (НОМЕР|КОМНАТА|НОМЕРНОЙ|НОМЕРОК)\n",
            "\n",
            "==== Number of results: 0 for query (1|I) (MASCULINE|МАСКАЛАЙН|МАСКАЛИН|МАСКУЛАЙН) ОТЗИВ\n",
            "\n",
            "==== Number of results: 0 for query (1|I) (АНАЛИЗ|ИССЛЕДОВАНИЕ|РАЗБОР) (СОЗДАТЬ|CREATION|ВОССОЗДАТЬ|СОЗДАВАТЬ|СОЗДАВАТЬСЯ|СОЗДАНИЕ|СОЗДАТЕЛЬ|СОТВОРИТЬ|ТВОРЕНИЕ) (УСЛОВИЕ|ДОГОВОР|ДОГОВОРЕННОСТЬ|СОГЛАШЕНИЕ) ДЛЯ (РАЗВИТИЕ|РОСТ|СТАНОВЛЕНИЕ|ФОРМИРОВАНИЕ|ЭВОЛЮЦИЯ) (ИГРОВОЙ|ИГРА) (ДЕЯТЕЛЬНОСТЬ|ДЕЙСТВИЕ|ДЕЯТЕЛЬНЫЙ) (ГРУППА|ГРУППИРОВАТЬ|КОЛЛЕКТИВ) (РАННИЙ|ЗАРАНЕЕ|НАЧАЛЬНЫЙ|ПРЕЖДЕ|ПРЕЖДЕВРЕМЕННЫЙ|РАНЕЕ)\n",
            "Docid: 297 B Title:  ПЕДАГОГИЧЕСКИЙ УСЛОВИЕ ФОРМИРОВАНИЕ ИГРОВОЙ ДЕЯТЕЛЬНОСТЬ РЕБЕНОК РАННИЙ ВОЗРАСТ Highlights: \n",
            "Docid: 303 B Title:  ДЛЯ ПЕДАГОГ ПЕДАГОГИЧЕСКИЙ УСЛОВИЕ РАЗВИТИЕ РЕБЕНОК РАННИЙ ВОЗРАСТ Highlights: \n",
            "Docid: 307 B Title:  СОЗДАНИЕ УСЛОВИЕ ДЛЯ СЕНСОРНЫЙ РАЗВИТИЕ РЕБЕНОК РАННИЙ ВОЗРАСТ Highlights: \n",
            "Docid: 292 B Title:  ИГРОВОЙ ДЕЯТЕЛЬНОСТЬ КАК СРЕДСТВО РАЗВИТИЕ РЕЧЬ РЕБЕНОК РАННИЙ ВОЗРАСТ Highlights: \n",
            "Docid: 279 B Title:  ИГРОВОЙ ДЕЯТЕЛЬНОСТЬ РЕБЕНОК РАННИЙ ДОШКОЛЬНЫЙ ВОЗРАСТ ОБРАЗОВАТЕЛЬНЫЙ СОЦИАЛЬНЫЙ СЕТЬ Highlights: \n",
            "Docid: 278 B Title:  ИССЛЕДОВАНИЕ ОСОБЕННОСТЬ ИГРОВОЙ ДЕЯТЕЛЬНОСТЬ РЕБЕНОК РАННИЙ ВОЗРАСТ Highlights: \n",
            "Docid: 287 B Title:  ПРЕДМЕТНЫЙ ИГРОВОЙ СРЕДА ГРУППА РАННИЙ ВОЗРАСТ В УСЛОВИЕ РЕАЛИЗАЦИЯ ФГТ ПРЕЗЕНТАЦИЯ 189382 Highlights: \n",
            "Docid: 295 B Title:  ТЕМАТИЧЕСКИЙ КОНТРОЛЬ НА ТЕМА СОСТОЯНИЕ РАЗВИТИЕ ИГРОВОЙ ДЕЯТЕЛЬНОСТЬ РЕБЕНОК МЛАДШИЙ И РАННИЙ ВОЗРАСТ МОЙ ДЕТСКИЙ САД Highlights: \n",
            "Docid: 299 B Title:  ДИПЛОМ РАЗВИТИЕ РЕЧЬ У РЕБЕНОК РАННИЙ ВОЗРАСТ В ПРОЦЕСС ИГРОВОЙ ДЕЯТЕЛЬНОСТЬ Highlights: \n",
            "Docid: 281 B Title:  АНАЛИЗ ИГРОВОЙ ДЕЯТЕЛЬНОСТЬ ДОШКОЛЬНИК Highlights: \n",
            "\n",
            "==== Number of results: 7 for query (1|I) (ВИНА|VIN|VINUM|WIN) (ОФИЦИАЛЬНЫЙ|ОФИЦИАЛЬНОСТЬ) (САЙТ|SIGHT|SITE)\n",
            "Docid: 323 S Title:  1 WIN ОФИЦИАЛЬНЫЙ САЙТ БУКМЕКЕРСКИЙ КОНТОРА ВАН ВИНА СТАВКА НА СПОРТ ОНЛАЙН ОСОБЕННОСТЬ БЕТТИНГ В 1 ВИНА BEST BOOKMAKER RU Highlights: \n",
            "Docid: 345 B Title:  ПРОВЕРИТЬ ПРОБИТЬ АВТО ПО ВИНА VIN КОД БЕСПЛАТНО В ГИБДД МОЖНО НА ОФИЦИАЛЬНЫЙ САЙТ Highlights: \n",
            "Docid: 309 S Title:  БУКМЕКЕРСКИЙ КОНТОРА 1 WIN ОФИЦИАЛЬНЫЙ САЙТ БУКМЕКЕР ТОП Highlights: \n",
            "Docid: 324 S Title:  ВАН ВИНА БУКМЕКЕРСКИЙ КОНТОРА ОФИЦИАЛЬНЫЙ САЙТ Highlights: \n",
            "Docid: 329 B Title:  ГИБДД ПРОВЕРКА АВТОМОБИЛЬ 👮🏻 ПО ВИНА И ГОС НОМЕР ОФИЦИАЛЬНЫЙ САЙТ Highlights: \n",
            "Docid: 334 S Title:  ПРОВЕРИТЬ АВТО ПО ВИНА КОД БЕСПЛАТНО AVTOBOT Highlights: \n",
            "Docid: 308 B Title:  БУКМЕКЕРСКИЙ КОНТОРА 1WIN ОБЗОР УСЛУГА КОМПАНИЯ 1ВИН Highlights: \n",
            "Docid: 330 S Title:  VINPIN RU КАТАЛОГ ПОДБОР АРТИКУЛОВ ЗАПЧАСТЬ ПО VIN КОД ДИЛЕРСКИЙ КАТАЛОГ ПРОГРАММА ДЛЯ АВТОСЕРВИС СТО Highlights: \n",
            "Docid: 311 S Title:  WIN MOBILE ОПЕРАТОР МОБИЛЬНЫЙ СВЯЗЬ В КРЫМ И Г СЕВАСТОПОЛЬ Highlights: \n",
            "\n",
            "==== Number of results: 11 for query (1|I) КОМНАТНЫЙ (КВАРТИРА|ЖИЛИЩЕ|КВАРТИРКА) (КУПИТЬ|ВЫКУПИТЬ|ДОКУПИТЬ|ЗАКУПИТЬ|НАКУПИТЬ|ПОКУПАТЬ|ПОКУПИТЬ|ПОКУПКА|ПРИОБРЕСТИ|ПРИОБРЕТАТЬ|ПРОДАВАТЬ|ПРОДАЖА) В (АЛМАТЫ1|АЛМАТЫ 1)\n",
            "Docid: 367 S Title:  ПРОДАЖА ОДНОКОМНАТНЫЙ КВАРТИРА В АЛМАТЫ КУПИТЬ 1 КОМНАТНЫЙ КВАРТИРА LOCALMART KZ Highlights: \n",
            "Docid: 379 S Title:  КУПИТЬ ОДНОКОМНАТНЫЙ КВАРТИРА В АЛМАТЫ БЕЗ ПОСРЕДНИК ЦЕНА ПРОДАЖА 1 КОМНАТНЫЙ КВАРТИРА АЛМАТЫ ВТОРИЧКА И НОВОСТРОЙКА Highlights: \n",
            "Docid: 350 S Title:  ПРОДАЖА КВАРТИРА АЛМАТЫ 1 КОМНАТНЫЙ КВАРТИРА АЛМАТЫ ЦЕНА НА 1 КОМНАТНЫЙ КВАРТИРА АЛМАТЫ ИНТЕРНЕТ РЫНОК АЛМАТЫ 1454 Highlights: \n",
            "Docid: 357 S Title:  1 КОМНАТНЫЙ КВАРТИРА ПРОДАЖА В АЛМАТЫ OLX KZ Highlights: \n",
            "Docid: 352 S Title:  КВАРТИРА 1 КОМНАТНЫЙ В АЛМАТЫ МКР ЖЕТЫСУ 2 КУПИТЬ В АЛМАТЫ Highlights: \n",
            "Docid: 353 S Title:  СНИМАТЬ 1 КОМНАТНЫЙ КВАРТИРА В АЛМАТЫ1 КАЗАХСТАН Highlights: \n",
            "Docid: 362 S Title:  АКТОБЕ СНИМАТЬ 1 КОМНАТНЫЙ КВАРТИРА В АЛМАТЫ1 САМЫЕ СВЕЖИЙ ОБЪЯВЛЕНИЕ ЗА СЕГОДНЯ Highlights: \n",
            "Docid: 365 S Title:  СНИМАТЬ 1 КОМНАТНЫЙ КВАРТИРА В АЛМАТЫ1 ЖАРКЕНТ Highlights: \n",
            "Docid: 359 B Title:  КУПИТЬ ОДНОКОМНАТНЫЙ КВАРТИРА В АЛМАТЫ ПРОДАЖА ОДНОКОМНАТНЫЙ КВАРТИРА В АЛМАТЫ ПОИСК НЕДВИЖИМОСТЬ KN KZ НЕДВИЖИМОСТЬ КАЗАХСТАН Highlights: \n",
            "Docid: 355 S Title:  КУПИТЬ ОДНОКОМНАТНЫЙ КВАРТИРА В АЛМАТЫ M2BOMBER COM Highlights: \n",
            "Docid: 364 S Title:  КУПИТЬ КВАРТИРА В ГОРОД АЛМАТЫ НЕДОРОГОЙ ОБЪЯВЛЕНИЕ О ПРОДАЖА НА НЕДВИЖИМОСТЬ KZ Highlights: \n",
            "Docid: 363 S Title:  ПРОДАЖА КВАРТИРА КВАРТИРА НЕДВИЖИМОСТЬ АЛМАТЫ Highlights: \n",
            "\n"
          ]
        }
      ]
    },
    {
      "cell_type": "markdown",
      "source": [
        "## Разбор пользовательских запросов"
      ],
      "metadata": {
        "id": "oMBDCD3r6tp2"
      }
    },
    {
      "cell_type": "markdown",
      "source": [
        "По-умолчанию пробел между словами разбирается как конъюнкция, мы можем изменить это:"
      ],
      "metadata": {
        "id": "59PI7_E87ya9"
      }
    },
    {
      "cell_type": "code",
      "source": [
        "from whoosh import qparser\n",
        "\n",
        "parser = qparser.QueryParser(\"body\", schema=schema,\n",
        "                             group=qparser.OrGroup)\n",
        "query_text = queries_texts_sample[0]\n",
        "print(query_text)\n",
        "print(parser.parse(query_text))"
      ],
      "metadata": {
        "colab": {
          "base_uri": "https://localhost:8080/"
        },
        "id": "QV6FTau87v7W",
        "outputId": "71f57d2f-33a3-4694-b043-022dce58c0cf"
      },
      "execution_count": null,
      "outputs": [
        {
          "output_type": "stream",
          "name": "stdout",
          "text": [
            "(1|I) 9736586783 (НАЙТИ|SEARCH|ВЗЯТЬ|ВЫЯСНИТЬ|ДОСТАТЬ|ИСКАТЬ|НАХОДИТЬ|ПОИСК|ПОЛУЧИТЬ) КОМУ (ПРИНАДЛЕЖАТЬ|ИМЕТЬ) (ЭТОТ|ETOT) (НОМЕР|КОМНАТА|НОМЕРНОЙ|НОМЕРОК)\n",
            "(body:9736586783 OR body:найти OR body:search OR body:взять OR body:выяснить OR body:достать OR body:искать OR body:находить OR body:поиск OR body:получить OR body:кому OR body:принадлежать OR body:иметь OR body:этот OR body:etot OR body:номер OR body:комната OR body:номерной OR body:номерок)\n"
          ]
        }
      ]
    },
    {
      "cell_type": "markdown",
      "source": [
        "Такая интерпретация запросов для запроса **foo bar** будет давать документу, содержащему 4 раза **foo** больший вес, чем документу в котором есть и **foo**, и **bar** . Чтобы исправить ситуацию, можем указывать параметр, дающий больший вес документам, которые содержат больше разных слов:"
      ],
      "metadata": {
        "id": "P7cojys_86Jm"
      }
    },
    {
      "cell_type": "code",
      "source": [
        "og = qparser.OrGroup.factory(0.9)\n",
        "parser = qparser.QueryParser(\"body\", schema, group=og)"
      ],
      "metadata": {
        "id": "dqBip4pL9bGA"
      },
      "execution_count": null,
      "outputs": []
    },
    {
      "cell_type": "markdown",
      "source": [
        "Как видели чуть выше, QueryParser преобразует запросы по одному полю (body)в запросы такого вида:\n",
        "body:foo body:bar. Можем отключить это."
      ],
      "metadata": {
        "id": "_9ucw9cn-xXk"
      }
    },
    {
      "cell_type": "code",
      "source": [
        "parser = qparser.QueryParser(\"body\", schema=schema)\n",
        "parser.remove_plugin_class(qparser.FieldsPlugin)\n",
        "\n",
        "# Можем также отключить поддержку wildcards\n",
        "parser.remove_plugin_class(qparser.WildcardPlugin)"
      ],
      "metadata": {
        "id": "z60wc-W3-y0h"
      },
      "execution_count": null,
      "outputs": []
    },
    {
      "cell_type": "markdown",
      "source": [
        "Обрабатываем нечеткие (fuzzy) запросы - с опечатками, т.е. имеющими определенное расстояние Дамерау-Левенштейна, т.е. количество операций вставки, удаления, замены и транспозиции (перестановки двух соседних символов)."
      ],
      "metadata": {
        "id": "zgRXgiv8_cqM"
      }
    },
    {
      "cell_type": "code",
      "source": [
        "qp = qparser.QueryParser(\"body\", schema)\n",
        "qp.add_plugin(qparser.FuzzyTermPlugin())\n",
        "\n",
        "# Ищем только по body\n",
        "query_text = qp.parse(\"вес~\")\n",
        "with ix.searcher() as searcher:\n",
        "    # По-умолчанию results содержит первые 10 документов соответствующих запросу\n",
        "    results = searcher.search(query_text)\n",
        "    output_results(results, query_text)"
      ],
      "metadata": {
        "id": "v7xU8v7v_nkT",
        "colab": {
          "base_uri": "https://localhost:8080/"
        },
        "outputId": "d3ad7aa6-d94c-4bec-ecf9-7f050fba9d47"
      },
      "execution_count": null,
      "outputs": [
        {
          "output_type": "stream",
          "name": "stdout",
          "text": [
            "==== Number of results: 1186 for query body:вес~\n",
            "Docid: 10 S Title:  RAIM FEAT ARTUR ADIL ДОМ СКАЧАТЬ РИНГТОН НА ЗВОНОК ТЕЛЕФОН Highlights: САЙТ СПЕЦИАЛЬНЫЙ ДЛЯ <b class=\"match term0\">ВАС</b> ЭТО НЕ ПРОСТО ПЕСНЯ МЕЛОДИЯ...ЖЕЛАНИЕ И ТОЛЬКО ДЛЯ <b class=\"match term0\">ВАС</b>\n",
            "Docid: 12 S Title:  RAIM FEAT ARTUR ADIL ДОМ YOUTUBE Highlights: СЛЫШАТЬ НОВОСТЬ <b class=\"match term1\">ВЕБ</b> ВЕРСИЯ YOUTUBE MUSIC\n",
            "Docid: 19 S Title:  ЗАПЧАСТЬ ДЛЯ ИНОМАРКА ОРИГИНАЛ И АНАЛОГ КУПИТЬ ПО НИЗКА ЦЕНА Highlights: МЫ МОЖЕМ ЗАВЕРИТЬ <b class=\"match term0\">ВАС</b> ЧТО В НАШЕМ МАГАЗИН ВЫ...AUTOCOMPA ПРЕДЛАГАТЬ <b class=\"match term2\">ВЕСЬ</b> АССОРТИМЕНТ ПО ЗНАЧИТЕЛЬНЫЙ\n",
            "Docid: 22 S Title:  КАЛЬКУЛЯТОР ОНЛАЙН РЕШЕНИЕ ПОКАЗАТЕЛЬНЫЙ УРАВНЕНИЕ Highlights: РАБОТАТЬ ВОЗМОЖНО У <b class=\"match term0\">ВАС</b> ВКЛЮЧИТЬ ADBLOCK В ЭТОМ...ОБНОВИТЬ СТРАНИЦА У <b class=\"match term0\">ВАС</b> В БРАУЗЕР ОТКЛЮЧИТЬ\n",
            "Docid: 24 B Title:  ПРИВЕДЕНИЕ ВПОРЯДОК ВПУСК A4 B6 1 8Т AMB ИЛИ ПОБЕГ С ОВОЩНОЙ БАЗ AUDI CLUB RUSSIA Highlights: МНЕНИЕ ЧТО <b class=\"match term2\">ВЕСЬ</b> БЕНЗИН У НАС 92 ХОТЬ\n",
            "Docid: 27 B Title:  ТЕХНИЧЕСКИЙ ДАННЫЙ SKODA OCTAVIA 1U2 1 8 T ПЕРИОДИЧНОСТЬ ЗАМЕНА РЕМЕНЬ ЦЕПЬ ГРМ МАСЛО В КПП АНТИФРИЗ ВОЗДУШНЫЙ ФИЛЬТР МОМЕНТ ЗАТЯЖКА РАЗВАЛ СХОЖДЕНИЕ КОЛЕСО ЗАЗОР КЛАПАН Highlights: ЛИТР ОВ ЗАПРАВКА НА <b class=\"match term2\">ВЕСЬ</b> СРОК СЛУЖБА СПЕЦИФИКАЦИЯ\n",
            "Docid: 28 B Title:  NEED HELP 1 8T AMB ДЕРГАТЬСЯ ЧТО ДУРНОЙ СТРАНИЦА 3 Highlights: Я НОВИЧОК ТУТ У <b class=\"match term0\">ВАС</b> ПОДСКАЗАТЬ ПО ТАКОЙ...2 ВЫ ЗНАТЬ ЧТО У <b class=\"match term0\">ВАС</b> СЛУЧИТЬСЯ И ВАМ НУЖНЫЙ...Я НОВИЧОК ТУТ У <b class=\"match term0\">ВАС</b> ПОДСКАЗАТЬ ПО ТАКОЙ\n",
            "Docid: 34 B Title:  КАКАТЬ ТЕКИЛА ЛУЧШЕ ARCHIVE RUSSIANAMERICA FORUM Highlights: А КАКАТЬ БЫЛА У <b class=\"match term0\">ВАС</b> ДОМ ЕЩЕ ДО ПАТРОН ОНА...А КАКАТЬ БЫЛА У <b class=\"match term0\">ВАС</b> ДОМ ЕЩЕ ДО ПАТРОН ОНА\n",
            "Docid: 35 S Title:  ТЕКИЛА ВИД И ПРОИЗВОДИТЕЛЬ МЕКСИКАНСКИЙ ВОДКА Highlights: НАЧАТЬСЯ В 16 <b class=\"match term3\">ВЕК</b> КОГДА НА КОНТИНЕНТ СЕВЕРНЫЙ...НАЧИНАТЬ С 16 <b class=\"match term3\">ВЕК</b> JOSE CUERVO ОДНА ИЗ САМЫХ...КУЭРВО ПОЛУЧИТЬ В 18 <b class=\"match term3\">ВЕК</b> ОТ ЦАРСТВЕННЫЙ ОСОБА\n",
            "Docid: 37 S Title:  ТЕКИЛА БОЛЬНАЯ ЧЕЛОВЕК ЭТО ДЕЙСТВИТЕЛЬНО ТАК ВКУСНЫЙ СТРАНИЦА 2 Highlights: ДОБАВИТЬСЯ 191 567 <b class=\"match term2\">ВЕСЬ</b> АССОРТИМЕНТ ЛЕНТА...СООБЩЕНИЕ ОТ TINT <b class=\"match term2\">ВЕСЬ</b> АССОРТИМЕНТ ЛЕНТА\n",
            "\n"
          ]
        }
      ]
    },
    {
      "cell_type": "markdown",
      "source": [
        "Теперь мы можем обрабатывать такие запросы:\n",
        "\n",
        "`ВЕС~`\n",
        "\n",
        "добавление ~ говорит о том, что данный термин нечеткий, можно указывать также расстояние, по-умолчанию 1.\n",
        "Такой запрос найдет нам документы, содержащие ВЕСЬ (добавление Ь), ВАС (замена Е на А) и ВСЕ (перестановка Е и С)\n",
        "\n",
        "`ВЕС~2`\n",
        "\n",
        "Здесь смотрим уже на расстояние 2. Расстояние больше чем 2 может обрабатываться очень долго."
      ],
      "metadata": {
        "id": "HoAmfX67DmE_"
      }
    },
    {
      "cell_type": "markdown",
      "source": [
        "## Задание 2"
      ],
      "metadata": {
        "id": "PgA4j4TcAsWL"
      }
    },
    {
      "cell_type": "markdown",
      "source": [
        "Давайте полностью перестроим индекс, разобъем исходную коллекцию на 3 корзинки по размеру: до 3 кб, от 3 до 10 кб и более 10 кб.\n",
        "Пройдем по 5 запросам из исходных, по каждому запросу в выдачу включим не более 3 документов из каждой корзинки."
      ],
      "metadata": {
        "id": "oK6Z8IMXFRUn"
      }
    },
    {
      "cell_type": "code",
      "source": [],
      "metadata": {
        "id": "JhLmrmTqFUAg"
      },
      "execution_count": null,
      "outputs": []
    },
    {
      "cell_type": "markdown",
      "source": [
        "# Вопросы?"
      ],
      "metadata": {
        "id": "cJNNuU7T3lVN"
      }
    }
  ]
}
