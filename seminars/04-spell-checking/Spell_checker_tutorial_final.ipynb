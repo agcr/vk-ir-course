{
  "cells": [
    {
      "cell_type": "markdown",
      "metadata": {
        "id": "ulJ4Zm7dx63G"
      },
      "source": [
        "# Классические методы"
      ]
    },
    {
      "cell_type": "markdown",
      "metadata": {
        "id": "AK0hQX0izP8z"
      },
      "source": [
        "\n",
        "\n",
        "Вы каждый день используете функцию автокоррекции на своем мобильном телефоне и компьютере. В этом задании Вы реализуете аналогичную модель :)"
      ]
    },
    {
      "cell_type": "markdown",
      "metadata": {
        "id": "CGgMyMixrQvu"
      },
      "source": [
        "<a name='0-1'></a>\n",
        "### Установка библиотек и импорты"
      ]
    },
    {
      "cell_type": "markdown",
      "metadata": {
        "id": "ID1uJNz7q-Tx"
      },
      "source": [
        "Установим сразу все необходимые библиотеки и скачаем нужные данные"
      ]
    },
    {
      "cell_type": "code",
      "execution_count": null,
      "metadata": {
        "id": "XO-hxTjbrAxR"
      },
      "outputs": [],
      "source": [
        "! pip install razdel tqdm datasets timeout-decorator\n",
        "! pip install textdistance\n",
        "! pip install pyaspeller\n",
        "\n",
        "! git clone https://github.com/ai-forever/sage.git\n",
        "\n",
        "! pip install tqdm\n",
        "\n",
        "%cd sage\n",
        "! pip install .\n",
        "! pip install -e .[errant]"
      ]
    },
    {
      "cell_type": "code",
      "source": [
        "%cd /content\n",
        "!sudo apt-get install -y swig3.0\n",
        "!pip install jamspell\n",
        "\n",
        "!wget -nc https://github.com/bakwc/JamSpell-models/raw/master/ru.tar.gz\n",
        "!tar -xf ru.tar.gz"
      ],
      "metadata": {
        "id": "K0qy6OEaVARJ"
      },
      "execution_count": null,
      "outputs": []
    },
    {
      "cell_type": "code",
      "source": [
        "%load_ext autoreload\n",
        "%autoreload 2"
      ],
      "metadata": {
        "id": "-3pODJ11iBkw"
      },
      "execution_count": null,
      "outputs": []
    },
    {
      "cell_type": "code",
      "execution_count": 8,
      "metadata": {
        "id": "Pk0tkuk_rLtQ"
      },
      "outputs": [],
      "source": [
        "from collections import Counter\n",
        "import json\n",
        "import numpy as np\n",
        "import os\n",
        "import pandas as pd\n",
        "from pprint import pprint\n",
        "import re\n",
        "from razdel import sentenize, tokenize as razdel_tokenize\n",
        "import requests\n",
        "from sklearn.metrics import classification_report, accuracy_score\n",
        "from string import punctuation\n",
        "import time\n",
        "from tqdm import tqdm\n",
        "import textdistance"
      ]
    },
    {
      "cell_type": "markdown",
      "metadata": {
        "id": "Bgq3Xg5ZC53n"
      },
      "source": [
        "<a name='0-1'></a>\n",
        "### Метрика близости слов aka Edit Distance\n",
        "\n",
        "Расстояние Левенштейна, или редакционное расстояние (англ.: edit distance), — метрика cходства между двумя строковыми последовательностями. Чем больше расстояние, тем более различны строки. Для двух одинаковых последовательностей расстояние равно нулю.\n",
        "\n",
        "* Два слова находятся на расстоянии n друг от друга, если нужно совершить n изменений для превращения одного слова в другое.\n",
        "\n",
        "Изменение может происходить следующим образом:\n",
        "\n",
        "- Удаление буквы: ‘hat’ => ‘at, ha, ht’\n",
        "- Замена буквы: ‘jat’ => ‘hat, rat, cat, mat, ...’\n",
        "- Поменять две соседние буквы:  ‘eta’ => ‘eat, tea,...’\n",
        "- Вставка буквы: ‘te’ => ‘the, ten, ate, ...’\n",
        "\n",
        "Мы будем использовать данное расстояние, чтобы исправлять опечатки. Вместо того, чтобы генерировать все варианты исправления слова, можно искать похожие слова в словаре. Для этого нам нужно задать метрику похожести -- в данном ноутбуке это будет расстояние Левенштейна."
      ]
    },
    {
      "cell_type": "markdown",
      "metadata": {
        "id": "Uq67n4hkDiMo"
      },
      "source": [
        "Чтобы реализовать автокорректор, нужно для каждого слова $w$ **уметь считать его наиболее вероятную коррекцию $c$**:\n",
        "\n",
        "$$\\underset{c \\in W}{\\mathrm{argmax}} \\; P(c|w) = \\underset{c \\in W}{\\mathrm{argmax}} \\; P(w|c)\\times  \\frac{P(c)}{P(w)}  = \\\\ = \\underset{c \\in W}{\\mathrm{argmax}} \\; P(w|c)\\times {P(c)} \\tag{1}, $$\n"
      ]
    },
    {
      "cell_type": "markdown",
      "metadata": {
        "id": "gtcMI9BfElNA"
      },
      "source": [
        "В уравнении (1) записана формула Байеса, где:\n",
        "\n",
        "- $W$ -- все возможные корректные слова\n",
        "\n",
        "- $P(c|w)$ -- вероятность того, что автор имел в виду слово $c$ при условии того, что напечатал $w$.\n",
        "\n",
        "- $P(w|c)$ -- вероятность появления слова $w$ при условии того, что автор имел в виду $c$.\n",
        "\n",
        "- $P(c)$ -- вероятность того, что слово $c$ появляется в тексте как корректное слово."
      ]
    },
    {
      "cell_type": "markdown",
      "metadata": {
        "id": "T9Ek7KY8GO51"
      },
      "source": [
        "<a name='1'></a>\n",
        "### Часть 0: Data Preprocessing"
      ]
    },
    {
      "cell_type": "markdown",
      "metadata": {
        "id": "Ebm4lH9bGoAP"
      },
      "source": [
        "Как и в любой другой задаче машинного обучения, первое, что вам нужно сделать, - это обработать ваш набор данных. Мы будем строить автокорректор на основе данных с соревнования Dialog Evaluation 2016, в котором надо было исправить опечатки.\n"
      ]
    },
    {
      "cell_type": "code",
      "execution_count": 9,
      "metadata": {
        "colab": {
          "base_uri": "https://localhost:8080/",
          "height": 801,
          "referenced_widgets": [
            "af73dfeb2f0b43f2b86d1ad2a69a0886",
            "23f99f8b90764d259cc9e21988170ffa",
            "76bac59fc5d1449283122724c04e6bc5",
            "60b95d526b1e4d88ac129508a7ee6b46",
            "f150e5e3c20846ff89c0d31d7c7e9733",
            "2816a941bf92447493c2bd778e6fbeb8",
            "f58cb0d54a794a4090fce99333fd2f4e",
            "f9344a0ad1244b919a6c11c2edd0a0f4",
            "7221d97cffe644e9b73063e934821e31",
            "20fdb300ab7d4afca17dfda1d61256e3",
            "b655a050940446a3b618b4cd235b897d",
            "c408ae46f1f74bd9afad5a908a53c2d8",
            "395e6aeb80a54856973f9c6d7ca71118",
            "23d6341fe8374de5b3fae172cd5d65d1",
            "343e3393ce4f46a8b98500ff5227710d",
            "72fc4ef2537b4b53a7b349472cef4771",
            "445ac48c107f4fe58ba2fccc0f03d53c",
            "4bc24367d0c0424fb25ad3c8771edcb8",
            "fd90d38ac0bd4091bb4bd4b9e8827b4f",
            "fc99205c6762492fad42af57392ff5e9",
            "5022b7aa930c4d7db6f445f7a863f52f",
            "0a04a25c44e44d949a9b805ec82568c2",
            "45674bbfeac14bd0b26cddb496e7a8a0",
            "a8fd135fc6e548238fa6cf6b39778bad",
            "7da8dd1675bc42839cd823db17adbf3f",
            "a0e890a2908f4e398da99aba7c907661",
            "42bd6e2dee454fb1ab2aa7017c746bbc",
            "68a057216c694bdc96b84f78f0d78bf5",
            "9394030affcf422f9e9ca2c00e1b65a3",
            "54deabc672f84d1ab648569fbe868306",
            "bad279d419194086b243e92142b7051d",
            "171e41ce26d24d85812eb19568bda32f",
            "1757698d40654616a395f31cbef621ff",
            "0d636278e5f8408a9237f9556ec6af8c",
            "eecb329dd4844ce983390263cd409622",
            "62c303092ee844c6b4b224c7a4fdb14e",
            "ac6801b6c85546e3bb68808b458d2a89",
            "4bebe66a33e945a892e6feb7d95e5ef7",
            "7580324b769c45e7aee88ec40234f262",
            "63d6e654f13d494eacfb7359d8dcb041",
            "ff46162010d74b0199b2784da08a6d2f",
            "a5a37eeffd564737b66776d1e3b53591",
            "2368cfb6341942629dce0332c7ec7482",
            "b8453acec8d8416b8e00d2783387a73d",
            "2c52201ddfe0485f8557925aeffb5562",
            "11b17c5f7d604621b2315956b67ad1e1",
            "6b5d81db204447c3843725f06e6bd831",
            "0e098765cbd7403e8299a6afc551180d",
            "ba9ccc3e2795410586bb214204dabfdb",
            "7912d38278c94216ae52128ea3b918af",
            "8bd7b0ac312e4c6b98bb1bc515c689b8",
            "bd0eb8df93ba458cb173a871300c2e52",
            "5fc725bba40149839c9fecb8d8fe99b5",
            "904fc976782f4682a6697f5b1a6b5878",
            "c7b8e8baad3a400892f5710aafef5ba4",
            "1646afdaccc54e61bd86ff78b7439763",
            "aff1bd38ea02475580c52417494896f3",
            "3852a0994ae3437c8cf82a392c72e190",
            "09dfc8c41fcd498b94354b758342b8f9",
            "56a841e8db7f44149da952b4bf64caaf",
            "d05a3a0ebf3d45c5a5d4443477f4b523",
            "a019a09065ac4777a156f9a34d9a63b7",
            "aee43e3dbe04474283c2acb84bfad2da",
            "0e03acf09a864e5dbc19be919c982f58",
            "1e87af9b395b461ea20952820713ab6c",
            "cd25551d33c04b1686259bd79827da5f"
          ]
        },
        "id": "YLu5LJY9q3QI",
        "outputId": "b5f90309-eef6-4056-c397-f14d672fe9b8"
      },
      "outputs": [
        {
          "output_type": "stream",
          "name": "stderr",
          "text": [
            "/usr/local/lib/python3.10/dist-packages/huggingface_hub/utils/_token.py:89: UserWarning: \n",
            "The secret `HF_TOKEN` does not exist in your Colab secrets.\n",
            "To authenticate with the Hugging Face Hub, create a token in your settings tab (https://huggingface.co/settings/tokens), set it as secret in your Google Colab and restart your session.\n",
            "You will be able to reuse this secret in all of your notebooks.\n",
            "Please note that authentication is recommended but still optional to access public models or datasets.\n",
            "  warnings.warn(\n"
          ]
        },
        {
          "output_type": "display_data",
          "data": {
            "text/plain": [
              "README.md:   0%|          | 0.00/13.3k [00:00<?, ?B/s]"
            ],
            "application/vnd.jupyter.widget-view+json": {
              "version_major": 2,
              "version_minor": 0,
              "model_id": "af73dfeb2f0b43f2b86d1ad2a69a0886"
            }
          },
          "metadata": {}
        },
        {
          "output_type": "display_data",
          "data": {
            "text/plain": [
              "spellcheck_benchmark.py:   0%|          | 0.00/9.07k [00:00<?, ?B/s]"
            ],
            "application/vnd.jupyter.widget-view+json": {
              "version_major": 2,
              "version_minor": 0,
              "model_id": "c408ae46f1f74bd9afad5a908a53c2d8"
            }
          },
          "metadata": {}
        },
        {
          "name": "stdout",
          "output_type": "stream",
          "text": [
            "The repository for ai-forever/spellcheck_benchmark contains custom code which must be executed to correctly load the dataset. You can inspect the repository content at https://hf.co/datasets/ai-forever/spellcheck_benchmark.\n",
            "You can avoid this prompt in future by passing the argument `trust_remote_code=True`.\n",
            "\n",
            "Do you wish to run the custom code? [y/N] y\n"
          ]
        },
        {
          "output_type": "display_data",
          "data": {
            "text/plain": [
              "data/RUSpellRU/test.json:   0%|          | 0.00/1.95M [00:00<?, ?B/s]"
            ],
            "application/vnd.jupyter.widget-view+json": {
              "version_major": 2,
              "version_minor": 0,
              "model_id": "45674bbfeac14bd0b26cddb496e7a8a0"
            }
          },
          "metadata": {}
        },
        {
          "output_type": "display_data",
          "data": {
            "text/plain": [
              "data/RUSpellRU/train.json:   0%|          | 0.00/1.69M [00:00<?, ?B/s]"
            ],
            "application/vnd.jupyter.widget-view+json": {
              "version_major": 2,
              "version_minor": 0,
              "model_id": "0d636278e5f8408a9237f9556ec6af8c"
            }
          },
          "metadata": {}
        },
        {
          "output_type": "display_data",
          "data": {
            "text/plain": [
              "Generating train split: 0 examples [00:00, ? examples/s]"
            ],
            "application/vnd.jupyter.widget-view+json": {
              "version_major": 2,
              "version_minor": 0,
              "model_id": "2c52201ddfe0485f8557925aeffb5562"
            }
          },
          "metadata": {}
        },
        {
          "output_type": "display_data",
          "data": {
            "text/plain": [
              "Generating test split: 0 examples [00:00, ? examples/s]"
            ],
            "application/vnd.jupyter.widget-view+json": {
              "version_major": 2,
              "version_minor": 0,
              "model_id": "1646afdaccc54e61bd86ff78b7439763"
            }
          },
          "metadata": {}
        },
        {
          "output_type": "execute_result",
          "data": {
            "text/plain": [
              "                                                 source  \\\n",
              "0            очень классная тетка ктобы что не говорил.   \n",
              "1     Может выгоднее втулку продать и купить колесо ...   \n",
              "2     Довольно большая часть пришедших сходила с дор...   \n",
              "3     Симпатичнейшое шпионское устройство, такой себ...   \n",
              "4     Опофеозом дня для меня сегодня стала фраза усл...   \n",
              "...                                                 ...   \n",
              "1995    Какой-то период времени мы вобще не общались...   \n",
              "1996      Каковы ваши любимые и наименее любимые слова?   \n",
              "1997  Сегодня яичницей никто не завтракал ( как, впр...   \n",
              "1998  Особое место занимает чудотворная икона « Лобз...   \n",
              "1999  Так как эти яйца жалко есть, а хочеться все бо...   \n",
              "\n",
              "                                             correction  \n",
              "0            очень классная тетка кто бы что ни говорил  \n",
              "1     Может выгоднее втулку продать и купить колесо ...  \n",
              "2     Довольно большая часть пришедших сходила с дор...  \n",
              "3     Симпатичнейшее шпионское устройство такой себе...  \n",
              "4     Апофеозом дня для меня сегодня стала фраза усл...  \n",
              "...                                                 ...  \n",
              "1995      Какой-то период времени мы вообще не общались  \n",
              "1996       Каковы ваши любимые и наименее любимые слова  \n",
              "1997  Сегодня яичницей никто не завтракал как впроче...  \n",
              "1998  Особое место занимает чудотворная икона Лобзан...  \n",
              "1999  Так как эти яйца жалко есть а хочется все боль...  \n",
              "\n",
              "[2000 rows x 2 columns]"
            ],
            "text/html": [
              "\n",
              "  <div id=\"df-0fb49da4-18d0-4503-ae3e-0949840a0044\" class=\"colab-df-container\">\n",
              "    <div>\n",
              "<style scoped>\n",
              "    .dataframe tbody tr th:only-of-type {\n",
              "        vertical-align: middle;\n",
              "    }\n",
              "\n",
              "    .dataframe tbody tr th {\n",
              "        vertical-align: top;\n",
              "    }\n",
              "\n",
              "    .dataframe thead th {\n",
              "        text-align: right;\n",
              "    }\n",
              "</style>\n",
              "<table border=\"1\" class=\"dataframe\">\n",
              "  <thead>\n",
              "    <tr style=\"text-align: right;\">\n",
              "      <th></th>\n",
              "      <th>source</th>\n",
              "      <th>correction</th>\n",
              "    </tr>\n",
              "  </thead>\n",
              "  <tbody>\n",
              "    <tr>\n",
              "      <th>0</th>\n",
              "      <td>очень классная тетка ктобы что не говорил.</td>\n",
              "      <td>очень классная тетка кто бы что ни говорил</td>\n",
              "    </tr>\n",
              "    <tr>\n",
              "      <th>1</th>\n",
              "      <td>Может выгоднее втулку продать и купить колесо ...</td>\n",
              "      <td>Может выгоднее втулку продать и купить колесо ...</td>\n",
              "    </tr>\n",
              "    <tr>\n",
              "      <th>2</th>\n",
              "      <td>Довольно большая часть пришедших сходила с дор...</td>\n",
              "      <td>Довольно большая часть пришедших сходила с дор...</td>\n",
              "    </tr>\n",
              "    <tr>\n",
              "      <th>3</th>\n",
              "      <td>Симпатичнейшое шпионское устройство, такой себ...</td>\n",
              "      <td>Симпатичнейшее шпионское устройство такой себе...</td>\n",
              "    </tr>\n",
              "    <tr>\n",
              "      <th>4</th>\n",
              "      <td>Опофеозом дня для меня сегодня стала фраза усл...</td>\n",
              "      <td>Апофеозом дня для меня сегодня стала фраза усл...</td>\n",
              "    </tr>\n",
              "    <tr>\n",
              "      <th>...</th>\n",
              "      <td>...</td>\n",
              "      <td>...</td>\n",
              "    </tr>\n",
              "    <tr>\n",
              "      <th>1995</th>\n",
              "      <td>Какой-то период времени мы вобще не общались...</td>\n",
              "      <td>Какой-то период времени мы вообще не общались</td>\n",
              "    </tr>\n",
              "    <tr>\n",
              "      <th>1996</th>\n",
              "      <td>Каковы ваши любимые и наименее любимые слова?</td>\n",
              "      <td>Каковы ваши любимые и наименее любимые слова</td>\n",
              "    </tr>\n",
              "    <tr>\n",
              "      <th>1997</th>\n",
              "      <td>Сегодня яичницей никто не завтракал ( как, впр...</td>\n",
              "      <td>Сегодня яичницей никто не завтракал как впроче...</td>\n",
              "    </tr>\n",
              "    <tr>\n",
              "      <th>1998</th>\n",
              "      <td>Особое место занимает чудотворная икона « Лобз...</td>\n",
              "      <td>Особое место занимает чудотворная икона Лобзан...</td>\n",
              "    </tr>\n",
              "    <tr>\n",
              "      <th>1999</th>\n",
              "      <td>Так как эти яйца жалко есть, а хочеться все бо...</td>\n",
              "      <td>Так как эти яйца жалко есть а хочется все боль...</td>\n",
              "    </tr>\n",
              "  </tbody>\n",
              "</table>\n",
              "<p>2000 rows × 2 columns</p>\n",
              "</div>\n",
              "    <div class=\"colab-df-buttons\">\n",
              "\n",
              "  <div class=\"colab-df-container\">\n",
              "    <button class=\"colab-df-convert\" onclick=\"convertToInteractive('df-0fb49da4-18d0-4503-ae3e-0949840a0044')\"\n",
              "            title=\"Convert this dataframe to an interactive table.\"\n",
              "            style=\"display:none;\">\n",
              "\n",
              "  <svg xmlns=\"http://www.w3.org/2000/svg\" height=\"24px\" viewBox=\"0 -960 960 960\">\n",
              "    <path d=\"M120-120v-720h720v720H120Zm60-500h600v-160H180v160Zm220 220h160v-160H400v160Zm0 220h160v-160H400v160ZM180-400h160v-160H180v160Zm440 0h160v-160H620v160ZM180-180h160v-160H180v160Zm440 0h160v-160H620v160Z\"/>\n",
              "  </svg>\n",
              "    </button>\n",
              "\n",
              "  <style>\n",
              "    .colab-df-container {\n",
              "      display:flex;\n",
              "      gap: 12px;\n",
              "    }\n",
              "\n",
              "    .colab-df-convert {\n",
              "      background-color: #E8F0FE;\n",
              "      border: none;\n",
              "      border-radius: 50%;\n",
              "      cursor: pointer;\n",
              "      display: none;\n",
              "      fill: #1967D2;\n",
              "      height: 32px;\n",
              "      padding: 0 0 0 0;\n",
              "      width: 32px;\n",
              "    }\n",
              "\n",
              "    .colab-df-convert:hover {\n",
              "      background-color: #E2EBFA;\n",
              "      box-shadow: 0px 1px 2px rgba(60, 64, 67, 0.3), 0px 1px 3px 1px rgba(60, 64, 67, 0.15);\n",
              "      fill: #174EA6;\n",
              "    }\n",
              "\n",
              "    .colab-df-buttons div {\n",
              "      margin-bottom: 4px;\n",
              "    }\n",
              "\n",
              "    [theme=dark] .colab-df-convert {\n",
              "      background-color: #3B4455;\n",
              "      fill: #D2E3FC;\n",
              "    }\n",
              "\n",
              "    [theme=dark] .colab-df-convert:hover {\n",
              "      background-color: #434B5C;\n",
              "      box-shadow: 0px 1px 3px 1px rgba(0, 0, 0, 0.15);\n",
              "      filter: drop-shadow(0px 1px 2px rgba(0, 0, 0, 0.3));\n",
              "      fill: #FFFFFF;\n",
              "    }\n",
              "  </style>\n",
              "\n",
              "    <script>\n",
              "      const buttonEl =\n",
              "        document.querySelector('#df-0fb49da4-18d0-4503-ae3e-0949840a0044 button.colab-df-convert');\n",
              "      buttonEl.style.display =\n",
              "        google.colab.kernel.accessAllowed ? 'block' : 'none';\n",
              "\n",
              "      async function convertToInteractive(key) {\n",
              "        const element = document.querySelector('#df-0fb49da4-18d0-4503-ae3e-0949840a0044');\n",
              "        const dataTable =\n",
              "          await google.colab.kernel.invokeFunction('convertToInteractive',\n",
              "                                                    [key], {});\n",
              "        if (!dataTable) return;\n",
              "\n",
              "        const docLinkHtml = 'Like what you see? Visit the ' +\n",
              "          '<a target=\"_blank\" href=https://colab.research.google.com/notebooks/data_table.ipynb>data table notebook</a>'\n",
              "          + ' to learn more about interactive tables.';\n",
              "        element.innerHTML = '';\n",
              "        dataTable['output_type'] = 'display_data';\n",
              "        await google.colab.output.renderOutput(dataTable, element);\n",
              "        const docLink = document.createElement('div');\n",
              "        docLink.innerHTML = docLinkHtml;\n",
              "        element.appendChild(docLink);\n",
              "      }\n",
              "    </script>\n",
              "  </div>\n",
              "\n",
              "\n",
              "<div id=\"df-5135fc70-6e47-441c-8298-4b0219c3d857\">\n",
              "  <button class=\"colab-df-quickchart\" onclick=\"quickchart('df-5135fc70-6e47-441c-8298-4b0219c3d857')\"\n",
              "            title=\"Suggest charts\"\n",
              "            style=\"display:none;\">\n",
              "\n",
              "<svg xmlns=\"http://www.w3.org/2000/svg\" height=\"24px\"viewBox=\"0 0 24 24\"\n",
              "     width=\"24px\">\n",
              "    <g>\n",
              "        <path d=\"M19 3H5c-1.1 0-2 .9-2 2v14c0 1.1.9 2 2 2h14c1.1 0 2-.9 2-2V5c0-1.1-.9-2-2-2zM9 17H7v-7h2v7zm4 0h-2V7h2v10zm4 0h-2v-4h2v4z\"/>\n",
              "    </g>\n",
              "</svg>\n",
              "  </button>\n",
              "\n",
              "<style>\n",
              "  .colab-df-quickchart {\n",
              "      --bg-color: #E8F0FE;\n",
              "      --fill-color: #1967D2;\n",
              "      --hover-bg-color: #E2EBFA;\n",
              "      --hover-fill-color: #174EA6;\n",
              "      --disabled-fill-color: #AAA;\n",
              "      --disabled-bg-color: #DDD;\n",
              "  }\n",
              "\n",
              "  [theme=dark] .colab-df-quickchart {\n",
              "      --bg-color: #3B4455;\n",
              "      --fill-color: #D2E3FC;\n",
              "      --hover-bg-color: #434B5C;\n",
              "      --hover-fill-color: #FFFFFF;\n",
              "      --disabled-bg-color: #3B4455;\n",
              "      --disabled-fill-color: #666;\n",
              "  }\n",
              "\n",
              "  .colab-df-quickchart {\n",
              "    background-color: var(--bg-color);\n",
              "    border: none;\n",
              "    border-radius: 50%;\n",
              "    cursor: pointer;\n",
              "    display: none;\n",
              "    fill: var(--fill-color);\n",
              "    height: 32px;\n",
              "    padding: 0;\n",
              "    width: 32px;\n",
              "  }\n",
              "\n",
              "  .colab-df-quickchart:hover {\n",
              "    background-color: var(--hover-bg-color);\n",
              "    box-shadow: 0 1px 2px rgba(60, 64, 67, 0.3), 0 1px 3px 1px rgba(60, 64, 67, 0.15);\n",
              "    fill: var(--button-hover-fill-color);\n",
              "  }\n",
              "\n",
              "  .colab-df-quickchart-complete:disabled,\n",
              "  .colab-df-quickchart-complete:disabled:hover {\n",
              "    background-color: var(--disabled-bg-color);\n",
              "    fill: var(--disabled-fill-color);\n",
              "    box-shadow: none;\n",
              "  }\n",
              "\n",
              "  .colab-df-spinner {\n",
              "    border: 2px solid var(--fill-color);\n",
              "    border-color: transparent;\n",
              "    border-bottom-color: var(--fill-color);\n",
              "    animation:\n",
              "      spin 1s steps(1) infinite;\n",
              "  }\n",
              "\n",
              "  @keyframes spin {\n",
              "    0% {\n",
              "      border-color: transparent;\n",
              "      border-bottom-color: var(--fill-color);\n",
              "      border-left-color: var(--fill-color);\n",
              "    }\n",
              "    20% {\n",
              "      border-color: transparent;\n",
              "      border-left-color: var(--fill-color);\n",
              "      border-top-color: var(--fill-color);\n",
              "    }\n",
              "    30% {\n",
              "      border-color: transparent;\n",
              "      border-left-color: var(--fill-color);\n",
              "      border-top-color: var(--fill-color);\n",
              "      border-right-color: var(--fill-color);\n",
              "    }\n",
              "    40% {\n",
              "      border-color: transparent;\n",
              "      border-right-color: var(--fill-color);\n",
              "      border-top-color: var(--fill-color);\n",
              "    }\n",
              "    60% {\n",
              "      border-color: transparent;\n",
              "      border-right-color: var(--fill-color);\n",
              "    }\n",
              "    80% {\n",
              "      border-color: transparent;\n",
              "      border-right-color: var(--fill-color);\n",
              "      border-bottom-color: var(--fill-color);\n",
              "    }\n",
              "    90% {\n",
              "      border-color: transparent;\n",
              "      border-bottom-color: var(--fill-color);\n",
              "    }\n",
              "  }\n",
              "</style>\n",
              "\n",
              "  <script>\n",
              "    async function quickchart(key) {\n",
              "      const quickchartButtonEl =\n",
              "        document.querySelector('#' + key + ' button');\n",
              "      quickchartButtonEl.disabled = true;  // To prevent multiple clicks.\n",
              "      quickchartButtonEl.classList.add('colab-df-spinner');\n",
              "      try {\n",
              "        const charts = await google.colab.kernel.invokeFunction(\n",
              "            'suggestCharts', [key], {});\n",
              "      } catch (error) {\n",
              "        console.error('Error during call to suggestCharts:', error);\n",
              "      }\n",
              "      quickchartButtonEl.classList.remove('colab-df-spinner');\n",
              "      quickchartButtonEl.classList.add('colab-df-quickchart-complete');\n",
              "    }\n",
              "    (() => {\n",
              "      let quickchartButtonEl =\n",
              "        document.querySelector('#df-5135fc70-6e47-441c-8298-4b0219c3d857 button');\n",
              "      quickchartButtonEl.style.display =\n",
              "        google.colab.kernel.accessAllowed ? 'block' : 'none';\n",
              "    })();\n",
              "  </script>\n",
              "</div>\n",
              "    </div>\n",
              "  </div>\n"
            ],
            "application/vnd.google.colaboratory.intrinsic+json": {
              "type": "dataframe",
              "variable_name": "dataset",
              "summary": "{\n  \"name\": \"dataset\",\n  \"rows\": 2000,\n  \"fields\": [\n    {\n      \"column\": \"source\",\n      \"properties\": {\n        \"dtype\": \"string\",\n        \"num_unique_values\": 2000,\n        \"samples\": [\n          \"\\u041d\\u043e \\u0441\\u0442\\u043e\\u0438\\u0442 \\u043b\\u0438 \\u0442\\u0430\\u043a \\u0431\\u044b\\u0441\\u0442\\u0440\\u043e \\u043f\\u043e\\u0434\\u0434\\u0430\\u0432\\u0430\\u0442\\u044c\\u0441\\u044f \\u0443\\u043d\\u044b\\u043d\\u0438\\u044e \\u0438 \\u043f\\u0435\\u0441\\u0441\\u0438\\u043c\\u0438\\u0441\\u0442\\u0438\\u0447\\u0435\\u0441\\u043a\\u043e\\u043c\\u0443 \\u043d\\u0430\\u0441\\u0442\\u0440\\u043e\\u0435\\u043d\\u0438\\u044e?\",\n          \"\\u0414\\u043e\\u043e\\u043e\\u043b\\u0433\\u043e \\u0448\\u043b\\u0438, \\u0441\\u043e\\u043b\\u043d\\u0446\\u0435 \\u0443\\u0436\\u0435 \\u0441\\u0430\\u0434\\u0438\\u0442\\u0441\\u044f \\u0441\\u0442\\u0430\\u043b\\u043e, \\u0432 \\u043b\\u0435\\u0441\\u0443 \\u0441\\u043b\\u044b\\u0448\\u043d\\u044b \\u0437\\u0430\\u043b\\u043f\\u044b - \\u0442\\u0440\\u0435\\u0432\\u043e\\u0433\\u0430 \\u0432 \\u043a\\u043d\\u044f\\u0436\\u0435\\u0441\\u0442\\u0432\\u0435, \\u0438\\u0449\\u0443\\u0442 \\u043d\\u0430\\u0441 - \\u0431\\u0435\\u0433\\u043b\\u044f\\u043d\\u043e\\u043a.\",\n          \"\\u041d\\u0443 \\u0432\\u0441\\u0435 \\u0441\\u0435\\u0434\\u043d\\u044f \\u0431\\u0443\\u0434\\u0443\\u0442 \\u0432\\u0435\\u0449\\u0430\\u0442\\u044c \\u043f\\u0440\\u043e \\u043f\\u0440\\u0438\\u0440\\u043e\\u0434\\u043d\\u044b\\u0435 \\u043a\\u0430\\u0442\\u0430\\u043a\\u043b\\u0438\\u0437\\u043c\\u044b, \\u0441\\u0432\\u043e\\u0438 \\u043e\\u0442\\u043f\\u0443\\u0441\\u043a\\u0430 ( \\u0445\\u043e\\u0442\\u044f \\u043e\\u0431 \\u044d\\u0442\\u043e\\u043c \\u0438 \\u043d\\u0435\\u043b\\u044c\\u0437\\u044f \\u043f\\u0438\\u0441\\u0430\\u0442\\u044c ) \\u0438 \\u043f\\u0440\\u043e\\u0447\\u0438\\u0439 \\u043f\\u0430\\u0437\\u0438\\u0442\\u0438\\u0432.\"\n        ],\n        \"semantic_type\": \"\",\n        \"description\": \"\"\n      }\n    },\n    {\n      \"column\": \"correction\",\n      \"properties\": {\n        \"dtype\": \"string\",\n        \"num_unique_values\": 1998,\n        \"samples\": [\n          \"\\u043b\\u0438\\u0431\\u043e \\u0438 \\u043d\\u0435 \\u0431\\u044b\\u043b\\u043e \\u043d\\u0438\\u043a\\u043e\\u0433\\u0434\\u0430 \\u043b\\u044e\\u0431\\u0432\\u0438-\\u0442\\u043e \\u043b\\u0438\\u0431\\u043e \\u0434\\u0435\\u0439\\u0441\\u0442\\u0432\\u0438\\u0442\\u0435\\u043b\\u044c\\u043d\\u043e \\u043d\\u0430\\u043c \\u0431\\u0435\\u0437 \\u043d\\u0438\\u0445 \\u041c\\u0423\\u0416\\u0418\\u041a\\u041e\\u0412 \\u043d\\u0438\\u043a\\u0443\\u0434\\u0430\",\n          \"\\u041e\\u0431\\u044b\\u0447\\u043d\\u043e \\u043e\\u043d\\u0430 \\u0432\\u043e\\u0434\\u0443 \\u043f\\u044b\\u0442\\u0430\\u0435\\u0442\\u0441\\u044f \\u043f\\u0438\\u0442\\u044c \\u0438\\u0437 \\u043a\\u0440\\u0443\\u0436\\u043a\\u0438 \\u0432 \\u043a\\u043e\\u0442\\u043e\\u0440\\u043e\\u0439 \\u044f \\u043c\\u043e\\u044e \\u0441\\u0442\\u0435\\u043a\\u0438 \\u0438 \\u0440\\u0443\\u043a\\u0438\",\n          \"\\u041f\\u0440\\u0438\\u0447\\u0435\\u043c \\u0442\\u0430\\u043a \\u0441\\u0438\\u043b\\u044c\\u043d\\u043e \\u0447\\u0442\\u043e \\u044f \\u0434\\u0430\\u0436\\u0435 \\u0430\\u0445\\u043d\\u0443\\u043b\\u0430\"\n        ],\n        \"semantic_type\": \"\",\n        \"description\": \"\"\n      }\n    }\n  ]\n}"
            }
          },
          "metadata": {},
          "execution_count": 9
        }
      ],
      "source": [
        "from datasets import load_dataset\n",
        "\n",
        "dataset = load_dataset(\"ai-forever/spellcheck_benchmark\", 'RUSpellRU', split='train')\n",
        "dataset = dataset.to_pandas()[['source', 'correction']]\n",
        "\n",
        "dataset"
      ]
    },
    {
      "cell_type": "markdown",
      "source": [
        "Для обучения будем использовать только исправленные предложения (правый столбец)."
      ],
      "metadata": {
        "id": "OB_03Ouuqwi7"
      }
    },
    {
      "cell_type": "code",
      "execution_count": 30,
      "metadata": {
        "colab": {
          "base_uri": "https://localhost:8080/"
        },
        "id": "arsNNZYIsUZF",
        "outputId": "b9937b22-06a5-4028-bf7f-48be581d2467"
      },
      "outputs": [
        {
          "output_type": "stream",
          "name": "stdout",
          "text": [
            "очень классная тетка кто бы что ни говорил.\n",
            "Может выгоднее втулку продать и купить колесо в сборе.\n",
            "Довольно большая часть пришедших сходила с дорожек и усаживалась на траву.\n",
            "Симпатичнейшее шпионское устройство такой себе гламурный фотоаппарат девушки Бонда миниатюрная модель камеры Superheadz Clap Camera.\n",
            "Апофеозом дня для меня сегодня стала фраза услышанная в новостях.\n",
            "Ну не было поста так не было.\n"
          ]
        }
      ],
      "source": [
        "texts = dataset['correction'].values.tolist()\n",
        "\n",
        "punctuation = '.!?'\n",
        "TEXT = '\\n'.join([text if text[-1] in punctuation else text + '.' for text in texts])\n",
        "print(TEXT[:402])"
      ]
    },
    {
      "cell_type": "markdown",
      "source": [
        "Приведем все к нижнему регистру, и получим список всех слов. В дальнейшем мы будем называть список всех слов из данного файла (= корпуса) вокабуляром (vocabulary)."
      ],
      "metadata": {
        "id": "BsSWtQlQrEpy"
      }
    },
    {
      "cell_type": "code",
      "execution_count": 31,
      "metadata": {
        "id": "baxTAgWCCiTB"
      },
      "outputs": [],
      "source": [
        "def process_data(text):\n",
        "    \"\"\"\n",
        "    Input:\n",
        "        text: a string containing text.\n",
        "    Output:\n",
        "        words: a list containing all the words in the corpus (text you read) in lower case.\n",
        "    \"\"\"\n",
        "    words = re.findall(r'\\w+', text.lower())\n",
        "    return words"
      ]
    },
    {
      "cell_type": "code",
      "execution_count": 32,
      "metadata": {
        "colab": {
          "base_uri": "https://localhost:8080/"
        },
        "id": "Ud2eWp4UHdDV",
        "outputId": "e8b66c8f-caa6-4df0-e748-4a5b06a5d570"
      },
      "outputs": [
        {
          "output_type": "stream",
          "name": "stdout",
          "text": [
            "The first ten words in the text are: \n",
            "['очень', 'классная', 'тетка', 'кто', 'бы', 'что', 'ни', 'говорил', 'может', 'выгоднее']\n",
            "There are 9428 unique words in the vocabulary.\n"
          ]
        }
      ],
      "source": [
        "word_l = process_data(TEXT)\n",
        "vocab = set(word_l)  # this will be your new vocabulary\n",
        "\n",
        "assert(len(vocab) == 9428)\n",
        "print(f\"The first ten words in the text are: \\n{word_l[0:10]}\")\n",
        "print(f\"There are {len(vocab)} unique words in the vocabulary.\")"
      ]
    },
    {
      "cell_type": "markdown",
      "metadata": {
        "id": "ibXk6uZPIHXm"
      },
      "source": [
        "Чтобы посчитать, сколько каждое слово встречается в тексте, построим словарь"
      ]
    },
    {
      "cell_type": "code",
      "execution_count": 33,
      "metadata": {
        "colab": {
          "base_uri": "https://localhost:8080/"
        },
        "id": "-WfGjSfjHdDW",
        "outputId": "45b67aae-35eb-48c4-b00c-333d8dfebfd0"
      },
      "outputs": [
        {
          "output_type": "stream",
          "name": "stdout",
          "text": [
            "There are 9428 key values pairs\n",
            "The count for the word 'очень' is 113\n"
          ]
        }
      ],
      "source": [
        "def get_count(words):\n",
        "    '''\n",
        "    Input:\n",
        "        word_l: a set of words representing the corpus.\n",
        "    Output:\n",
        "        word_count_dict: The wordcount dictionary where key is the word and value is its frequency.\n",
        "    '''\n",
        "    return dict(Counter(words))\n",
        "\n",
        "WORDS = get_count(word_l)\n",
        "print(f\"There are {len(WORDS)} key values pairs\")\n",
        "print(f\"The count for the word 'очень' is {WORDS.get('очень',0)}\")"
      ]
    },
    {
      "cell_type": "markdown",
      "metadata": {
        "id": "82fIv88znUqp"
      },
      "source": [
        "### Часть 1. Наивный подход"
      ]
    },
    {
      "cell_type": "markdown",
      "metadata": {
        "id": "CRG1yZ6AGNov"
      },
      "source": [
        "Вспомним задачу: для слова $w$ мы хотим найти его наиболее вероятную коррекцию.\n",
        "\n",
        "$$\\underset{c \\in W}{\\mathrm{argmax}} \\; P(c|w) = \\underset{c \\in W}{\\mathrm{argmax}} \\; P(w|c)\\times {P(c)} \\tag{1}, $$\n"
      ]
    },
    {
      "cell_type": "markdown",
      "metadata": {
        "id": "95lOxaddIPwr"
      },
      "source": [
        "Можно решить задачу наивно: всегда будем брать более близкое слово (рассматриваем расстояния не более двух). Если таких слов несколько, берем слово с максимальной вероятностью. Если не нашлось ничего, то оставляем слово как есть."
      ]
    },
    {
      "cell_type": "markdown",
      "metadata": {
        "id": "4xVpVU7WnWFl"
      },
      "source": [
        "Таким образом, идея алгоритма простая - для каждого неправильного слова нужно сгенерировать варианты исправлений и выбрать из них тот, что есть в словаре, а если таких несколько, то выбрать наиболее близкое (по введенной нами метрике) и наиболее вероятное."
      ]
    },
    {
      "cell_type": "code",
      "execution_count": 34,
      "metadata": {
        "id": "6lSLYvrsJY2N"
      },
      "outputs": [],
      "source": [
        "def P(word, N=sum(WORDS.values())):\n",
        "    \"Probability of `word`.\"\n",
        "    return WORDS.get(word, 0) / N\n",
        "\n",
        "def known(words):\n",
        "    \"Вернуть подмножество слов, которое есть в нашем словаре.\"\n",
        "    return set(w for w in words if w in WORDS)\n",
        "\n",
        "def edits0(word):\n",
        "    \"Вернуть все строки, которые находятся на edit_distance == 0 от word (т.е., просто само слово).\"\n",
        "    return {word}"
      ]
    },
    {
      "cell_type": "code",
      "execution_count": 35,
      "metadata": {
        "id": "Xzdnv6eArLPp"
      },
      "outputs": [],
      "source": [
        "def edits1(word):\n",
        "    \"\"\"\n",
        "    Возвращает множество слов, находящихся на расстоянии edit_distance == 1 от word.\n",
        "\n",
        "    Параметры:\n",
        "    word (str): Исходное слово.\n",
        "\n",
        "    Возвращает:\n",
        "    set: Множество слов на расстоянии редактирования 1.\n",
        "    \"\"\"\n",
        "    # Плейсхолдер: возвращаем пустое множество\n",
        "    return set()\n",
        "\n",
        "def edits2(word):\n",
        "    \"\"\"\n",
        "    Возвращает множество слов, находящихся на расстоянии edit_distance == 2 от word.\n",
        "\n",
        "    Параметры:\n",
        "    word (str): Исходное слово.\n",
        "\n",
        "    Возвращает:\n",
        "    set: Множество слов на расстоянии редактирования 2.\n",
        "    \"\"\"\n",
        "    # Плейсхолдер: возвращаем пустое множество\n",
        "    return set()\n",
        "\n",
        "def candidates(word):\n",
        "    \"Generate possible spelling corrections for word.\"\n",
        "    return (known(edits0(word)) or\n",
        "            known(edits1(word)) or\n",
        "            known(edits2(word)) or\n",
        "            [word])\n",
        "\n",
        "def correction(word):\n",
        "    \"Most probable spelling correction for word.\"\n",
        "    return max(candidates(word), key=P)"
      ]
    },
    {
      "cell_type": "markdown",
      "metadata": {
        "id": "nPNHN1ZjK0Ne"
      },
      "source": [
        "Как генерировать исправления?\n",
        "\n",
        "**Задание:** реализуйте функции edits1 и edits2, которые возвращают исправления, находящиеся на расстоянии 1 и 2, соответственно, от исходного слова"
      ]
    },
    {
      "cell_type": "markdown",
      "metadata": {
        "id": "kOrYLu8YSh6i"
      },
      "source": [
        "Функция edits1(word) должна возвращать множество слов, находящихся на расстоянии edit_distance == 1. Слова, находящиеся на расстоянии 1 от исходного -- это множество всех возможных слов, которые можно получить, совершив одну из следующих операций:\n",
        "\n",
        "1.\tУдаление одной буквы: возвращает все возможные строки, где одна буква удалена.\n",
        "2.\tПерестановка соседних букв: возвращает все возможные строки, где две соседние буквы поменяны местами.\n",
        "3.\tЗамена одной буквы: возвращает все возможные строки, где одна буква заменена на другую.\n",
        "4.\tВставка дополнительной буквы: возвращает все возможные строки, где добавлена одна буква в любое место.\n",
        "\n",
        "Например, для слова \"wird\" результат будет включать такие слова, как:\n",
        "\n",
        "•\t\"wrd\" (удаление буквы i),\n",
        "\n",
        "•\t\"iwrd\" (перестановка соседних w и i),\n",
        "\n",
        "•\t\"word\" (замена буквы i на o),\n",
        "\n",
        "•\t\"weird\" (вставка буквы e),\n",
        "\n",
        "Чтобы получить только существующие слова, можно воспользоваться функцией known."
      ]
    },
    {
      "cell_type": "markdown",
      "metadata": {
        "id": "ZxfwnLNeLuOc"
      },
      "source": [
        "*Как можно реализовать такие функции?*\n",
        "\n",
        " Например можно *разбить* исходное слово на пару всеми возможными способами (каждое *разбиение* даст нам пару \"слов\"), `(a, b)`, первая часть - до места разбиения, а вторая - после, и в каждом месте разбиения можно: удалить, поменять местами, заменить или вставить букву:\n",
        "\n",
        "<table>\n",
        "  <tr><td> пары: <td><tt> Ø+wird <td><tt> w+ird <td><tt> wi+rd <td><tt>wir+d<td><tt>wird+Ø<td><i>Notes:</i><tt> (<i>a</i>, <i>b</i>)</tt> пара</i>\n",
        "  <tr><td> удаления: <td><tt>Ø+ird<td><tt> w+rd<td><tt> wi+d<td><tt> wir+Ø<td><td><i>Удаление первой буквы в b</i>\n",
        "  <tr><td> перемена мест: <td><tt>Ø+iwrd<td><tt> w+rid<td><tt> wi+dr</tt><td><td><td><i>Перемена мест двух первых букв b\n",
        "  <tr><td> замена: <td><tt>Ø+?ird<td><tt> w+?rd<td><tt> wi+?d<td><tt> wir+?</tt><td><td><i>замена буквы в начале b\n",
        "  <tr><td> вставка: <td><tt>Ø+?+wird<td><tt> w+?+ird<td><tt> wi+?+rd<td><tt> wir+?+d<td><tt> wird+?+Ø</tt><td><i>Вставка буквы между a и b\n",
        "</table>"
      ]
    },
    {
      "cell_type": "markdown",
      "metadata": {
        "id": "5OKYwFXdSu1O"
      },
      "source": [
        "Реализуйте функцию delete_letter(), которая, получив слово, возвращает список строк с удаленным одним символом\n",
        "\n",
        "Например, для слова **nice**, функция должна вернуть: {'ice', 'nce', 'nic', 'nie'}.\n",
        "\n",
        "**Шаг 1:** Сделать список 'splits': то, как можно разделить слово на \"лево\" и \"право\". Например,   \n",
        "nice можно разделить на : `[('', 'nice'), ('n', 'ice'), ('ni', 'ce'), ('nic', 'e'), ('nice', '')]`\n",
        "\n",
        "**Шаг 2:** Сгенерировать список всех слов, которые могут быть получены после удаления одной буквы"
      ]
    },
    {
      "cell_type": "code",
      "execution_count": 37,
      "metadata": {
        "colab": {
          "base_uri": "https://localhost:8080/"
        },
        "id": "sPrUrH95YuV1",
        "outputId": "782a55b2-a442-41cc-c283-33fe763963d0"
      },
      "outputs": [
        {
          "output_type": "execute_result",
          "data": {
            "text/plain": [
              "[('', 'nice'), ('n', 'ice'), ('ni', 'ce'), ('nic', 'e'), ('nice', '')]"
            ]
          },
          "metadata": {},
          "execution_count": 37
        }
      ],
      "source": [
        "def splits(word):\n",
        "    \"Возвращает список всех возможных разбиений слова на пару (a, b).\"\n",
        "    return [(word[:i], word[i:])\n",
        "            for i in range(len(word)+1)]\n",
        "\n",
        "split = splits('nice')\n",
        "split"
      ]
    },
    {
      "cell_type": "code",
      "execution_count": 38,
      "metadata": {
        "id": "SC8r5eB2eZpQ"
      },
      "outputs": [],
      "source": [
        "def delete_letter(word, split, verbose=False):\n",
        "  delete = [L + R[1:] for L, R in split if R]\n",
        "  if verbose: print(f\"input word {word}, \\nsplit = {split}, \\ndelete = {delete}\")\n",
        "  return delete"
      ]
    },
    {
      "cell_type": "code",
      "execution_count": 39,
      "metadata": {
        "colab": {
          "base_uri": "https://localhost:8080/"
        },
        "id": "8tjGqta1b5qQ",
        "outputId": "f7d44754-b561-4a5b-b233-19cdc20d8639"
      },
      "outputs": [
        {
          "output_type": "stream",
          "name": "stdout",
          "text": [
            "input word nice, \n",
            "split = [('', 'nice'), ('n', 'ice'), ('ni', 'ce'), ('nic', 'e'), ('nice', '')], \n",
            "delete = ['ice', 'nce', 'nie', 'nic']\n"
          ]
        }
      ],
      "source": [
        "delete_word = delete_letter(word=\"nice\", split=splits('nice'),\n",
        "                        verbose=True)"
      ]
    },
    {
      "cell_type": "markdown",
      "metadata": {
        "id": "McNQ7sjweCsh"
      },
      "source": [
        "По аналогии реализуйте функции remove_letter, transpose_letters, replace_letter, insert_letter"
      ]
    },
    {
      "cell_type": "code",
      "source": [
        "def transpose_letters(word, split, verbose=False):\n",
        "  transpose = #YOUR CODE IS HERE\n",
        "  if verbose: print(f\"input word {word}, \\nsplit = {split}, \\ntranspose = {transpose}\")\n",
        "  return transpose"
      ],
      "metadata": {
        "id": "ufIBjhacanBx"
      },
      "execution_count": null,
      "outputs": []
    },
    {
      "cell_type": "code",
      "execution_count": null,
      "metadata": {
        "id": "uvHiIbZq_e1J"
      },
      "outputs": [],
      "source": [
        "def replace_letter(word, split, verbose=False, alphabet='йцукенгшщзхъфывапролджэячсмитьбюё'):\n",
        "  remove = #YOUR CODE IS HERE\n",
        "  if verbose: print(f\"input word {word}, \\nsplit = {split}, \\nremove = {remove}\")\n",
        "  return remove"
      ]
    },
    {
      "cell_type": "code",
      "execution_count": null,
      "metadata": {
        "id": "o5S6tm94gqip"
      },
      "outputs": [],
      "source": [
        "def insert_letter(word, split, alphabet='йцукенгшщзхъфывапролджэячсмитьбюё', verbose=False):\n",
        "  insert = #YOUR CODE IS HERE\n",
        "  if verbose: print(f\"input word {word}, \\nsplit = {split}, \\ninsert = {insert}\")\n",
        "  return insert"
      ]
    },
    {
      "cell_type": "code",
      "execution_count": 40,
      "metadata": {
        "colab": {
          "base_uri": "https://localhost:8080/"
        },
        "id": "vFlvlZaZgAGT",
        "outputId": "c7c433a5-78a5-4626-9b52-f3f1dd23deff"
      },
      "outputs": [
        {
          "output_type": "stream",
          "name": "stdout",
          "text": [
            "Все проверки пройдены успешно.\n"
          ]
        }
      ],
      "source": [
        "# Проверки для слова \"nice\"\n",
        "assert delete_letter(\"nice\", split=splits('nice')) == ['ice', 'nce', 'nie', 'nic'], \"Ошибка в функции delete_letter\"\n",
        "assert transpose_letters(\"nice\", split=splits('nice')) == ['ince', 'ncie', 'niec'], \"Ошибка в функции transpose_letters\"\n",
        "\n",
        "expected_replacements = {\n",
        "    'aice', 'bice', 'cice',  # Замены для 'n'\n",
        "    'nace', 'nbce', 'ncce',  # Замены для 'i'\n",
        "    'niae', 'nibe', 'nice',  # Замены для 'c', включая исходное слово, так как 'c' есть в алфавите\n",
        "    'nica', 'nicb', 'nicc'   # Замены для 'e'\n",
        "}\n",
        "assert set(replace_letter(\"nice\", split=splits('nice'), alphabet='abc')) == expected_replacements, \"Ошибка в функции replace_letter\"\n",
        "\n",
        "expected_insertions = {\n",
        "    'anice', 'bnice', 'cnice',  # Вставки перед 'n'\n",
        "    'naice', 'nbice', 'ncice',  # Вставки между 'n' и 'i'\n",
        "    'niace', 'nibce', 'nicce',  # Вставки между 'i' и 'c'\n",
        "    'nicae', 'nicbe', 'nicce',  # Вставки между 'c' и 'e'\n",
        "    'nicea', 'niceb', 'nicec'   # Вставки после 'e'\n",
        "}\n",
        "assert set(insert_letter(\"nice\", split=splits('nice'), alphabet='abc')) == expected_insertions, \"Ошибка в функции insert_letter\"\n",
        "\n",
        "print(\"Все проверки пройдены успешно.\")"
      ]
    },
    {
      "cell_type": "code",
      "execution_count": 41,
      "metadata": {
        "id": "jAzaifGfk5k2"
      },
      "outputs": [],
      "source": [
        "def edits1(word, alphabet='йцукенгшщзхъфывапролджэячсмитьбюё'):\n",
        "    \"\"\"\n",
        "    Input:\n",
        "        word: the string/word for which we will generate all possible wordsthat are one edit away.\n",
        "    Output:\n",
        "        edit_one_set: a set of words with one possible edit. Please return a set. and not a list.\n",
        "    \"\"\"\n",
        "\n",
        "    split = splits(word)\n",
        "    replaces = replace_letter(word, split, alphabet=alphabet)\n",
        "    inserts = insert_letter(word, split, alphabet=alphabet)\n",
        "    deletes = delete_letter(word, split)\n",
        "    transposes = transpose_letters(word, split)\n",
        "\n",
        "    return set(deletes + transposes + replaces + inserts)"
      ]
    },
    {
      "cell_type": "code",
      "execution_count": 42,
      "metadata": {
        "id": "tifbMXJ3mQjo"
      },
      "outputs": [],
      "source": [
        "expected_results = {\n",
        "    # Удаления\n",
        "    'ice', 'nce', 'nie', 'nic',\n",
        "    # Транспозиции\n",
        "    'ince', 'ncie', 'niec',\n",
        "    # Замены (с упрощенным алфавитом 'abc')\n",
        "    'aice', 'bice', 'cice', 'nace', 'nbce', 'ncce', 'niae', 'nibe', 'nice', 'nica', 'nicb', 'nicc',\n",
        "    # Вставки (с упрощенным алфавитом 'abc')\n",
        "    'anice', 'bnice', 'cnice', 'naice', 'nbice', 'ncice', 'niace', 'nibce', 'nicce', 'nicae', 'nicbe', 'nicce', 'nicea', 'niceb', 'nicec'\n",
        "}\n",
        "assert edits1(\"nice\", alphabet='abc') == expected_results, \"Ошибка в функции edit_one_letter\""
      ]
    },
    {
      "cell_type": "markdown",
      "metadata": {
        "id": "tIezLKPQoDqd"
      },
      "source": [
        "Теперь реализуем функцию, которая получает все слова на расстоянии 2."
      ]
    },
    {
      "cell_type": "markdown",
      "metadata": {
        "id": "3kuJKh6rQcrH"
      },
      "source": [
        "**Hint**. Возьмите слова, полученные с помощью edit_one_letter (они находятся на расстоянии 1 от исходного слова), и примените к ним    функцию edit_one_letter. Полученные слова будут находиться на расстоянии 2 от исходного.\n"
      ]
    },
    {
      "cell_type": "code",
      "execution_count": 43,
      "metadata": {
        "id": "QtRblLWHQbpR"
      },
      "outputs": [],
      "source": [
        "def edits2(word):\n",
        "    \"Вернуть все строки, которые находятся на edit_distance == 2 от word.\"\n",
        "    result_set = set()\n",
        "\n",
        "    for e1 in edits1(word): #все слова на расстоянии 1\n",
        "        for e2 in edits1(e1): #все слова на расстоянии 2\n",
        "            result_set.add(e2)\n",
        "\n",
        "    return result_set"
      ]
    },
    {
      "cell_type": "code",
      "execution_count": 44,
      "metadata": {
        "colab": {
          "base_uri": "https://localhost:8080/"
        },
        "id": "aHx6tIX1pcHs",
        "outputId": "997c4528-2c42-4c94-a066-367dc93f115a"
      },
      "outputs": [
        {
          "output_type": "stream",
          "name": "stdout",
          "text": [
            "привет мир! как дела?\n"
          ]
        }
      ],
      "source": [
        "import re\n",
        "\n",
        "def correct_match(match):\n",
        "    \"\"\"Исправить слово word в match-группе без изменения регистра.\"\"\"\n",
        "    word = match.group()\n",
        "    return correction(word.lower())\n",
        "\n",
        "def correct_text(text):\n",
        "    \"\"\"Исправить все слова с опечатками в тексте на русском языке.\"\"\"\n",
        "    return re.sub('[а-яёА-ЯЁ]+', correct_match, text)\n",
        "\n",
        "text = \"Превет мир! Как дила?\"\n",
        "corrected_text = correct_text(text)\n",
        "print(corrected_text)"
      ]
    },
    {
      "cell_type": "markdown",
      "metadata": {
        "id": "vgEmcX8TTmqx"
      },
      "source": [
        "Идеи для улучшения:\n",
        "\n",
        "1) Использовать н-граммы, чтобы учитывать контекст. [Пример](https://nbviewer.org/url/norvig.com/ipython/How%20to%20Do%20Things%20with%20Words.ipynb)\n",
        "\n",
        "2) Использовать предобученные векторы, чтобы учитывать контекст, например, word2vec или fasttext [Пример](https://blog.reachsumit.com/posts/2020/07/spell-checker-fasttext/#method-1-using-pre-trained-word-vectors)"
      ]
    },
    {
      "cell_type": "markdown",
      "metadata": {
        "id": "fQP9QRDhsKkF"
      },
      "source": [
        "# Машинное обучение"
      ]
    },
    {
      "cell_type": "markdown",
      "metadata": {
        "id": "Q6v0ybZU8hwd"
      },
      "source": [
        "**Jamspell**"
      ]
    },
    {
      "cell_type": "markdown",
      "source": [
        "Воспользуемся моделью, которую предложили авторы метода. Они отмечают, что лучше обучить модель на своих данных, но для обзора можем воспользоваться их весами."
      ],
      "metadata": {
        "id": "z_XcEJ98-F_8"
      }
    },
    {
      "cell_type": "code",
      "source": [
        "import jamspell\n",
        "\n",
        "corrector = jamspell.TSpellCorrector()\n",
        "corrector.LoadLangModel('ru_small.bin')\n",
        "\n",
        "def correct_jamspell(text):\n",
        "    return corrector.FixFragment(text)"
      ],
      "metadata": {
        "id": "AwFofqPvaN94"
      },
      "execution_count": null,
      "outputs": []
    },
    {
      "cell_type": "code",
      "source": [
        "correct_jamspell('Превет мир! Как дила?')"
      ],
      "metadata": {
        "colab": {
          "base_uri": "https://localhost:8080/",
          "height": 35
        },
        "id": "_c9binTiaP32",
        "outputId": "ceede337-04b4-4770-cea6-023f0c7fb798"
      },
      "execution_count": 45,
      "outputs": [
        {
          "output_type": "execute_result",
          "data": {
            "text/plain": [
              "'Привет мир! Как дила?'"
            ],
            "application/vnd.google.colaboratory.intrinsic+json": {
              "type": "string"
            }
          },
          "metadata": {},
          "execution_count": 45
        }
      ]
    },
    {
      "cell_type": "code",
      "execution_count": null,
      "metadata": {
        "colab": {
          "base_uri": "https://localhost:8080/"
        },
        "id": "Pl2gdjn9N6w9",
        "outputId": "6cb6f47a-af2f-45cb-b10d-630c24376444"
      },
      "outputs": [
        {
          "name": "stdout",
          "output_type": "stream",
          "text": [
            "Строка: прийдя в МГТУ я был удивлен никого необноружив там…\n",
            "Исправление jamspell: придя в МГТУ я был удивлен никого необноружив там…\n",
            "Исправление наивным: придя в мгту я был удивлен никого необноружив там…\n",
            "Строка: Нащщот Чавеса разве что не соглашусь.\n",
            "Исправление jamspell: Наото Чавеса разве что не соглашусь.\n",
            "Исправление наивным: нащщот чавеса разве что не соглашусь.\n",
            "Строка: Мошный лазер - в нерабочем состоянии - 350 кредиток.\n",
            "Исправление jamspell: Мощный лазер - в нерабочем состоянии - 350 кредиток.\n",
            "Исправление наивным: мощный лазер - в нерабочем состоянии - 350 кредиток.\n",
            "Строка: Ощушаю себя с ними монголойдом, я никогда так много не молчала как молчю тут, и не потому, что языковый баръер или еще что-то, просто коментариев нет\n",
            "Исправление jamspell: Ощущаю себя с ними монголойдом, я никогда так много не молчала как молча тут, и не потому, что языковый барьер или еще что-то, просто коментариев нет\n",
            "Исправление наивным: ощущаю себя с ними монголоидом, я никогда так много не молчала как молчу тут, и не потому, что языковый барьер или еще что-то, просто комментариев нет\n"
          ]
        }
      ],
      "source": [
        "samples = [\n",
        "    \"прийдя в МГТУ я был удивлен никого необноружив там…\",\n",
        "    \"Нащщот Чавеса разве что не соглашусь.\",\n",
        "    \"Мошный лазер - в нерабочем состоянии - 350 кредиток.\",\n",
        "    \"Ощушаю себя с ними монголойдом, я никогда так много не молчала как молчю тут, и не потому, что языковый баръер или еще что-то, просто коментариев нет\"\n",
        "]\n",
        "\n",
        "for sample in samples:\n",
        "  corrected_j = correct_jamspell(sample)\n",
        "  corrected_n = correct_text(sample)\n",
        "  print(f\"Строка: {sample}\")\n",
        "  print(f\"Исправление jamspell: {corrected_j}\")\n",
        "  print(f\"Исправление наивным: {corrected_n}\")"
      ]
    },
    {
      "cell_type": "markdown",
      "source": [
        "На первый взгляд, наивная реализация и jamspell одинаково плохи (для jamspell, скорее всего, это связано с малой обучающей выборкой), но, возможно, jamspell покажет себя чуть лучше в обработке контекста."
      ],
      "metadata": {
        "id": "O55zBCZ59sYy"
      }
    },
    {
      "cell_type": "markdown",
      "metadata": {
        "id": "yXVFyNcf0RNC"
      },
      "source": [
        "**SAGE**"
      ]
    },
    {
      "cell_type": "code",
      "execution_count": null,
      "metadata": {
        "colab": {
          "base_uri": "https://localhost:8080/"
        },
        "id": "kgyFzk0x6e8X",
        "outputId": "682b6e9b-0810-4073-cb6a-fa2a4ab39411"
      },
      "outputs": [
        {
          "name": "stdout",
          "output_type": "stream",
          "text": [
            "sage_fredt5_large: ai-forever/sage-fredt5-large\n",
            "sage_fredt5_distilled_95m: ai-forever/sage-fredt5-distilled-95m\n",
            "sage_m2m100_1B: ai-forever/sage-m2m100-1.2B\n",
            "sage_mt5_large: ai-forever/sage-mt5-large\n",
            "m2m100_1B: ai-forever/RuM2M100-1.2B\n",
            "m2m100_418M: ai-forever/RuM2M100-418M\n",
            "fred_large: ai-forever/FRED-T5-large-spell\n",
            "ent5_large: ai-forever/T5-large-spell\n"
          ]
        }
      ],
      "source": [
        "import os\n",
        "import torch\n",
        "from sage.spelling_correction import T5ModelForSpellingCorruption, RuM2M100ModelForSpellingCorrection, AvailableCorrectors\n",
        "\n",
        "print(*[\"{}: {}\".format(item.name, item.value) for item in AvailableCorrectors], sep=\"\\n\")"
      ]
    },
    {
      "cell_type": "code",
      "execution_count": null,
      "metadata": {
        "colab": {
          "base_uri": "https://localhost:8080/"
        },
        "id": "bZYDqIV_7kMm",
        "outputId": "d92630de-0abc-4a1c-f819-b0187674547c"
      },
      "outputs": [
        {
          "name": "stderr",
          "output_type": "stream",
          "text": [
            "/usr/local/lib/python3.10/dist-packages/huggingface_hub/utils/_token.py:89: UserWarning: \n",
            "The secret `HF_TOKEN` does not exist in your Colab secrets.\n",
            "To authenticate with the Hugging Face Hub, create a token in your settings tab (https://huggingface.co/settings/tokens), set it as secret in your Google Colab and restart your session.\n",
            "You will be able to reuse this secret in all of your notebooks.\n",
            "Please note that authentication is recommended but still optional to access public models or datasets.\n",
            "  warnings.warn(\n",
            "You set `add_prefix_space`. The tokenizer needs to be converted from the slow tokenizers\n",
            "/usr/local/lib/python3.10/dist-packages/transformers/convert_slow_tokenizer.py:551: UserWarning: The sentencepiece tokenizer that you are converting to a fast tokenizer uses the byte fallback option which is not implemented in the fast tokenizers. In practice this means that the fast version of the tokenizer can produce unknown tokens whereas the sentencepiece version would have converted these unknown tokens into a sequence of byte tokens matching the original piece of text.\n",
            "  warnings.warn(\n"
          ]
        }
      ],
      "source": [
        "sage_m2m100_corrector = RuM2M100ModelForSpellingCorrection.from_pretrained(AvailableCorrectors.sage_m2m100_1B.value)\n",
        "sage_fredt5_large_corrector = T5ModelForSpellingCorruption.from_pretrained(AvailableCorrectors.sage_mt5_large.value)\n",
        "sage_fredt5_95m_corrector = T5ModelForSpellingCorruption.from_pretrained(AvailableCorrectors.sage_fredt5_distilled_95m.value)"
      ]
    },
    {
      "cell_type": "code",
      "execution_count": null,
      "metadata": {
        "id": "vdgzPtH0CbOl"
      },
      "outputs": [],
      "source": [
        "device = torch.device('cuda' if torch.cuda.is_available() else 'cpu')\n",
        "sage_m2m100_corrector.model.to(device);\n",
        "sage_fredt5_large_corrector.model.to(device);\n",
        "sage_fredt5_95m_corrector.model.to(device);"
      ]
    },
    {
      "cell_type": "code",
      "execution_count": null,
      "metadata": {
        "id": "lchbaP9mVAM6"
      },
      "outputs": [],
      "source": [
        "correctors = {sage_m2m100_corrector: 'sage_m2m100_corrector',\n",
        "              sage_fredt5_large_corrector: 'sage_fredt5_large_corrector',\n",
        "              sage_fredt5_95m_corrector: 'sage_fredt5_95m_corrector',\n",
        "              }"
      ]
    },
    {
      "cell_type": "code",
      "execution_count": null,
      "metadata": {
        "id": "cACqg22d7awj"
      },
      "outputs": [],
      "source": [
        "samples = [\n",
        "    \"прийдя в МГТУ я был удивлен никого необноружив там…\",\n",
        "    \"Нащщот Чавеса разве что не соглашусь.\",\n",
        "    \"Мошный лазер - в нерабочем состоянии - 350 кредиток.\",\n",
        "    \"Ощушаю себя с ними монголойдом, я никогда так много не молчала как молчю тут, и не потому, что языковый баръер или еще что-то, просто коментариев нет\"\n",
        "]"
      ]
    },
    {
      "cell_type": "code",
      "execution_count": null,
      "metadata": {
        "id": "C6GZgkKSDgil"
      },
      "outputs": [],
      "source": [
        "import time\n",
        "def generate_fixed_from_samples(model, tokenizer, samples, device='cpu'):\n",
        "    model = model.to(device)\n",
        "    t_start = time.perf_counter()\n",
        "\n",
        "    tokens = tokenizer(samples, padding=True, return_tensors='pt')\n",
        "    output = model.generate(tokens['input_ids'].to(device), do_sample=True, top_k=50, top_p=0.95, num_return_sequences=1)\n",
        "    results = tokenizer.batch_decode(output.cpu(), skip_special_tokens=True)\n",
        "\n",
        "    all_time = time.perf_counter() - t_start\n",
        "    return dict(zip(samples, results)), all_time"
      ]
    },
    {
      "cell_type": "code",
      "execution_count": null,
      "metadata": {
        "colab": {
          "base_uri": "https://localhost:8080/"
        },
        "id": "dSi2sZ_AFQkj",
        "outputId": "a0fae075-de0c-4521-95e1-84965f8c2a30"
      },
      "outputs": [
        {
          "name": "stdout",
          "output_type": "stream",
          "text": [
            "Time for gpu inference, model sage_m2m100_corrector 1.52\n",
            "Time for gpu inference, model sage_fredt5_large_corrector 2.22\n",
            "Time for gpu inference, model sage_fredt5_95m_corrector 0.63\n"
          ]
        }
      ],
      "source": [
        "results = dict()\n",
        "for corrector, corrector_name in correctors.items():\n",
        "    tokenizer = corrector.tokenizer\n",
        "    model = corrector.model\n",
        "\n",
        "    fixed_samples, time_for_gen_gpu = generate_fixed_from_samples(model, tokenizer, samples, device=device)\n",
        "\n",
        "    print(f\"Time for gpu inference, model {corrector_name}\", round(time_for_gen_gpu, 2))\n",
        "    results[corrector_name] = fixed_samples"
      ]
    },
    {
      "cell_type": "code",
      "execution_count": null,
      "metadata": {
        "colab": {
          "base_uri": "https://localhost:8080/"
        },
        "id": "C0j_cVIDI5H1",
        "outputId": "e0635b7b-1d56-43ec-c9c7-1285017972df"
      },
      "outputs": [
        {
          "name": "stdout",
          "output_type": "stream",
          "text": [
            "Строка: 'прийдя в МГТУ я был удивлен никого необноружив там…'\n",
            "sage_m2m100_corrector: 'придя в МГТУ я был удивлен никого не обнаружив там'\n",
            "sage_fredt5_large_corrector: 'Придя в МГТУ, я был удивлен, никого не обнаружив там...'\n",
            "sage_fredt5_95m_corrector: 'Придя в МГТУ, я был удивлён, никого не обнаружив там.'\n",
            "\n",
            "Строка: 'Мошный лазер - в нерабочем состоянии - 350 кредиток.'\n",
            "sage_m2m100_corrector: 'Мощный лазер в нерабочем состоянии 350 кредиток'\n",
            "sage_fredt5_large_corrector: 'Мощный лазер в нерабочем состоянии - 360 кредиток.'\n",
            "sage_fredt5_95m_corrector: 'Мощный лазер в нерабочем состоянии - 350 кредиток.'\n",
            "\n",
            "Строка: 'Нащщот Чавеса разве что не соглашусь.'\n",
            "sage_m2m100_corrector: 'Насчёт Чавеса разве что не соглашусь'\n",
            "sage_fredt5_large_corrector: 'Насчет Чавеса разве что не соглашусь.'\n",
            "sage_fredt5_95m_corrector: 'Насчёт Чавеса разве что не соглашусь.'\n",
            "\n",
            "Строка: 'Ощушаю себя с ними монголойдом, я никогда так много не молчала как молчю тут, и не потому, что языковый баръер или еще что-то, просто коментариев нет'\n",
            "sage_m2m100_corrector: 'Ощущаю себя с ними монголойдом я никогда так много не молчала как молчу тут и не потому что языковый барьер или еще что-то просто комментариев нет'\n",
            "sage_fredt5_large_corrector: 'Ощущаю себя с ними монголоидом, я никогда так много не молчала как молчу тут, и не потому, что языковой барьер или еще что-то, просто комментариев нет.'\n",
            "sage_fredt5_95m_corrector: 'Ощущаю себя с ними монголоидом: я никогда так много не молчала, как молчу тут, и не потому, что языковый барьер или ещё что-то, просто комментариев нет.'\n",
            "\n"
          ]
        }
      ],
      "source": [
        "unique_originals = set()\n",
        "for corrections in results.values():\n",
        "    unique_originals.update(corrections.keys())\n",
        "\n",
        "for original in unique_originals:\n",
        "    print(f\"Строка: '{original}'\")\n",
        "    for model_name, corrections in results.items():\n",
        "        corrected = corrections.get(original)\n",
        "        print(f\"{model_name}: '{corrected}'\")\n",
        "    print()"
      ]
    },
    {
      "cell_type": "markdown",
      "metadata": {
        "id": "voZGRs0iZwR5"
      },
      "source": [
        "# Сравнение моделей"
      ]
    },
    {
      "cell_type": "markdown",
      "metadata": {
        "id": "BFGOyumljIhq"
      },
      "source": [
        "Посчитаем метрики f1, precision, recall для всех моделей, которые мы сегодня рассмотрели, на тестовой части датасета RuSpellEval. Функция evaluation принимает на вход список строк, которые надо исправить (sources), исправлений моделью (corrections), и верных исправлений  (answers), и возвращает метрики:"
      ]
    },
    {
      "cell_type": "markdown",
      "source": [
        "Recall: какую долю ошибок модель нашла и исправила = $\\frac{\\text{правильные исправления}}{\\text{всего ошибок в тексте}}$\n",
        "\n",
        "Precision: какая доля исправлений, предложенных моделью, была правильной = $\\frac{\\text{правильные исправления}}{\\text{всего предложенных исправлений}}$\n"
      ],
      "metadata": {
        "id": "VV2-7oqOl6L0"
      }
    },
    {
      "cell_type": "code",
      "execution_count": 46,
      "metadata": {
        "colab": {
          "base_uri": "https://localhost:8080/"
        },
        "id": "X8II_eTyaeQg",
        "outputId": "28df80ac-9cbb-45e7-e351-6c41588e3f0b"
      },
      "outputs": [
        {
          "output_type": "stream",
          "name": "stdout",
          "text": [
            "--2024-10-23 22:08:31--  https://raw.githubusercontent.com/ai-forever/sage/main/sage/evaluation/ruspelleval.py\n",
            "Resolving raw.githubusercontent.com (raw.githubusercontent.com)... 185.199.108.133, 185.199.109.133, 185.199.110.133, ...\n",
            "Connecting to raw.githubusercontent.com (raw.githubusercontent.com)|185.199.108.133|:443... connected.\n",
            "HTTP request sent, awaiting response... 200 OK\n",
            "Length: 19418 (19K) [text/plain]\n",
            "Saving to: ‘ruspelleval.py’\n",
            "\n",
            "\rruspelleval.py        0%[                    ]       0  --.-KB/s               \rruspelleval.py      100%[===================>]  18.96K  --.-KB/s    in 0.001s  \n",
            "\n",
            "2024-10-23 22:08:32 (31.7 MB/s) - ‘ruspelleval.py’ saved [19418/19418]\n",
            "\n"
          ]
        }
      ],
      "source": [
        "!wget https://raw.githubusercontent.com/ai-forever/sage/main/sage/evaluation/ruspelleval.py"
      ]
    },
    {
      "cell_type": "code",
      "execution_count": 47,
      "metadata": {
        "colab": {
          "base_uri": "https://localhost:8080/",
          "height": 137
        },
        "id": "oIFHBErNzW2t",
        "outputId": "7731976d-8874-476c-961c-b1f0526b4dde"
      },
      "outputs": [
        {
          "output_type": "execute_result",
          "data": {
            "text/plain": [
              "<function ruspelleval.evaluation(sources: List[str], corrections: List[str], answers: List[str], to_output_differences: bool = False, path_to_diff: str = 'diff.txt') -> Dict[str, float]>"
            ],
            "text/html": [
              "<div style=\"max-width:800px; border: 1px solid var(--colab-border-color);\"><style>\n",
              "      pre.function-repr-contents {\n",
              "        overflow-x: auto;\n",
              "        padding: 8px 12px;\n",
              "        max-height: 500px;\n",
              "      }\n",
              "\n",
              "      pre.function-repr-contents.function-repr-contents-collapsed {\n",
              "        cursor: pointer;\n",
              "        max-height: 100px;\n",
              "      }\n",
              "    </style>\n",
              "    <pre style=\"white-space: initial; background:\n",
              "         var(--colab-secondary-surface-color); padding: 8px 12px;\n",
              "         border-bottom: 1px solid var(--colab-border-color);\"><b>ruspelleval.evaluation</b><br/>def evaluation(sources: List[str], corrections: List[str], answers: List[str], to_output_differences: bool=False, path_to_diff: str=&#x27;diff.txt&#x27;) -&gt; Dict[str, float]</pre><pre class=\"function-repr-contents function-repr-contents-collapsed\" style=\"\"><a class=\"filepath\" style=\"display:none\" href=\"#\">/content/sage/ruspelleval.py</a>&lt;no docstring&gt;</pre>\n",
              "      <script>\n",
              "      if (google.colab.kernel.accessAllowed && google.colab.files && google.colab.files.view) {\n",
              "        for (const element of document.querySelectorAll('.filepath')) {\n",
              "          element.style.display = 'block'\n",
              "          element.onclick = (event) => {\n",
              "            event.preventDefault();\n",
              "            event.stopPropagation();\n",
              "            google.colab.files.view(element.textContent, 415);\n",
              "          };\n",
              "        }\n",
              "      }\n",
              "      for (const element of document.querySelectorAll('.function-repr-contents')) {\n",
              "        element.onclick = (event) => {\n",
              "          event.preventDefault();\n",
              "          event.stopPropagation();\n",
              "          element.classList.toggle('function-repr-contents-collapsed');\n",
              "        };\n",
              "      }\n",
              "      </script>\n",
              "      </div>"
            ]
          },
          "metadata": {},
          "execution_count": 47
        }
      ],
      "source": [
        "from ruspelleval import evaluation\n",
        "evaluation"
      ]
    },
    {
      "cell_type": "markdown",
      "source": [
        "Тут нам уже понадобятся оба столбца. Будем просить модель исправить данные из столбца source. Идеальная модель должна получить тексты, совпадающие с данными из столбца correction."
      ],
      "metadata": {
        "id": "_xziea0KrjzT"
      }
    },
    {
      "cell_type": "code",
      "execution_count": 48,
      "metadata": {
        "id": "f87asF-z0zT4"
      },
      "outputs": [],
      "source": [
        "dataset = load_dataset(\"ai-forever/spellcheck_benchmark\", 'RUSpellRU', split='test')\n",
        "dataset = dataset.to_pandas()[['source', 'correction']]\n",
        "sources = dataset['source'].values.tolist()\n",
        "answers = dataset['correction'].values.tolist()"
      ]
    },
    {
      "cell_type": "code",
      "execution_count": null,
      "metadata": {
        "colab": {
          "base_uri": "https://localhost:8080/",
          "height": 289
        },
        "id": "WSjrLGzN04J1",
        "outputId": "537776b3-0d8f-40aa-a594-7292c7518798"
      },
      "outputs": [
        {
          "data": {
            "application/vnd.google.colaboratory.intrinsic+json": {
              "summary": "{\n  \"name\": \"dataset\",\n  \"rows\": 2008,\n  \"fields\": [\n    {\n      \"column\": \"source\",\n      \"properties\": {\n        \"dtype\": \"string\",\n        \"num_unique_values\": 2005,\n        \"samples\": [\n          \"\\u0445\\u043c \\u0437\\u043d\\u0430\\u0435\\u0448\\u044c \\u044d\\u0442\\u043e \\u043e\\u0447\\u0435\\u043d\\u044c \\u0437\\u0430\\u0431\\u0430\\u0432\\u043d\\u043e \\u043f\\u0440\\u0438\\u0432\\u043e\\u0434\\u0438\\u0442\\u044c \\u043e\\u0431\\u0441\\u043e\\u043b\\u044e\\u0442\\u043d\\u043e \\u043f\\u0440\\u043e\\u0442\\u0438\\u0432\\u043e\\u043f\\u043e\\u043b\\u043e\\u0436\\u043d\\u044b\\u0435 \\u0441\\u0443\\u0436\\u0434\\u0435\\u043d\\u0438\\u044f \\u044d\\u0442\\u043e\\u0433\\u043e \\u0447\\u0435\\u043b\\u043e\\u0432\\u0435\\u043a\\u0430 \\u0435\\u043c\\u0443 \\u0436\\u0435 \\u0432 \\u043f\\u0440\\u0438\\u043c\\u0435\\u0440\",\n          \"\\u0432\\u044b\\u0434\\u0432\\u0438\\u043d\\u0443\\u043b\\u0438 \\u0432 \\u043a\\u043b\\u0443\\u0431 \\u0443\\u0431\\u0438\\u043b\\u0430 \\u0434\\u0435\\u0432\\u043a\\u0430 \\u0432 \\u043a\\u0440\\u0430\\u0441\\u043d\\u043e\\u0439 \\u0431\\u043b\\u0443\\u0437\\u043a\\u0435 \\u043c\\u0438\\u043d\\u0438 \\u044e\\u0431\\u043a\\u0435 \\u043a\\u043e\\u0442\\u043e\\u0440\\u0430\\u044f \\u043f\\u0435\\u0440\\u0435\\u043e\\u0434\\u0435\\u043b\\u0430 \\u0441\\u043c\\u0435\\u043d\\u043a\\u0443 \\u043d\\u0430 \\u0442\\u0430\\u043a\\u0438\\u0435 \\u0431\\u0430\\u0431\\u0443\\u0448\\u043a\\u0438\\u043d\\u044b \\u0442\\u0443\\u0444\\u043b\\u0438 \\u043d\\u0430 \\u043a\\u0430\\u0431\\u043b\\u0443\\u043a\\u0435 \\u0438 \\u043f\\u0442\\u043e\\u043c \\u043e\\u0447 \\u043a\\u0440\\u0443\\u0442\\u043e \\u043f\\u043e\\u0434 \\u0441\\u0430\\u043c\\u043e\\u0435 \\u043c\\u044f\\u0441\\u043e \\u0440\\u0443\\u0431\\u0438\\u043b\\u0430\\u0441\\u044c \\u0432 \\u043d\\u0438\\u0445\",\n          \"\\u0443 \\u043c\\u0435\\u043d\\u044f \\u0431\\u044b\\u043b \\u043a\\u043e\\u0442 \\u044d\\u0442\\u043e \\u0443\\u0436\\u043e\\u0441\"\n        ],\n        \"semantic_type\": \"\",\n        \"description\": \"\"\n      }\n    },\n    {\n      \"column\": \"correction\",\n      \"properties\": {\n        \"dtype\": \"string\",\n        \"num_unique_values\": 2005,\n        \"samples\": [\n          \"\\u0445\\u043c \\u0437\\u043d\\u0430\\u0435\\u0448\\u044c \\u044d\\u0442\\u043e \\u043e\\u0447\\u0435\\u043d\\u044c \\u0437\\u0430\\u0431\\u0430\\u0432\\u043d\\u043e \\u043f\\u0440\\u0438\\u0432\\u043e\\u0434\\u0438\\u0442\\u044c \\u0430\\u0431\\u0441\\u043e\\u043b\\u044e\\u0442\\u043d\\u043e \\u043f\\u0440\\u043e\\u0442\\u0438\\u0432\\u043e\\u043f\\u043e\\u043b\\u043e\\u0436\\u043d\\u044b\\u0435 \\u0441\\u0443\\u0436\\u0434\\u0435\\u043d\\u0438\\u044f \\u044d\\u0442\\u043e\\u0433\\u043e \\u0447\\u0435\\u043b\\u043e\\u0432\\u0435\\u043a\\u0430 \\u0435\\u043c\\u0443 \\u0436\\u0435 \\u0432 \\u043f\\u0440\\u0438\\u043c\\u0435\\u0440\",\n          \"\\u0432\\u044b\\u0434\\u0432\\u0438\\u043d\\u0443\\u043b\\u0438 \\u0432 \\u043a\\u043b\\u0443\\u0431 \\u0443\\u0431\\u0438\\u043b\\u0430 \\u0434\\u0435\\u0432\\u043a\\u0430 \\u0432 \\u043a\\u0440\\u0430\\u0441\\u043d\\u043e\\u0439 \\u0431\\u043b\\u0443\\u0437\\u043a\\u0435 \\u043c\\u0438\\u043d\\u0438-\\u044e\\u0431\\u043a\\u0435 \\u043a\\u043e\\u0442\\u043e\\u0440\\u0430\\u044f \\u043f\\u0435\\u0440\\u0435\\u043e\\u0434\\u0435\\u043b\\u0430 \\u0441\\u043c\\u0435\\u043d\\u043a\\u0443 \\u043d\\u0430 \\u0442\\u0430\\u043a\\u0438\\u0435 \\u0431\\u0430\\u0431\\u0443\\u0448\\u043a\\u0438\\u043d\\u044b \\u0442\\u0443\\u0444\\u043b\\u0438 \\u043d\\u0430 \\u043a\\u0430\\u0431\\u043b\\u0443\\u043a\\u0435 \\u0438 \\u043f\\u043e\\u0442\\u043e\\u043c \\u043e\\u0447\\u0435\\u043d\\u044c \\u043a\\u0440\\u0443\\u0442\\u043e \\u043f\\u043e\\u0434 \\u0441\\u0430\\u043c\\u043e\\u0435 \\u043c\\u044f\\u0441\\u043e \\u0440\\u0443\\u0431\\u0438\\u043b\\u0430\\u0441\\u044c \\u0432 \\u043d\\u0438\\u0445\",\n          \"\\u0443 \\u043c\\u0435\\u043d\\u044f \\u0431\\u044b\\u043b \\u043a\\u043e\\u0442 \\u044d\\u0442\\u043e \\u0443\\u0436\\u0430\\u0441\"\n        ],\n        \"semantic_type\": \"\",\n        \"description\": \"\"\n      }\n    }\n  ]\n}",
              "type": "dataframe",
              "variable_name": "dataset"
            },
            "text/html": [
              "\n",
              "  <div id=\"df-bbb6e354-93a7-430b-881b-6305f80e1210\" class=\"colab-df-container\">\n",
              "    <div>\n",
              "<style scoped>\n",
              "    .dataframe tbody tr th:only-of-type {\n",
              "        vertical-align: middle;\n",
              "    }\n",
              "\n",
              "    .dataframe tbody tr th {\n",
              "        vertical-align: top;\n",
              "    }\n",
              "\n",
              "    .dataframe thead th {\n",
              "        text-align: right;\n",
              "    }\n",
              "</style>\n",
              "<table border=\"1\" class=\"dataframe\">\n",
              "  <thead>\n",
              "    <tr style=\"text-align: right;\">\n",
              "      <th></th>\n",
              "      <th>source</th>\n",
              "      <th>correction</th>\n",
              "    </tr>\n",
              "  </thead>\n",
              "  <tbody>\n",
              "    <tr>\n",
              "      <th>0</th>\n",
              "      <td>﻿есть у вас оформленый и подписаный мною заказ</td>\n",
              "      <td>﻿есть у вас оформленный и подписанный мною заказ</td>\n",
              "    </tr>\n",
              "    <tr>\n",
              "      <th>1</th>\n",
              "      <td>вот в инете откапал такую интеерсную статейку ...</td>\n",
              "      <td>вот в инете откопал такую интересную статейку ...</td>\n",
              "    </tr>\n",
              "    <tr>\n",
              "      <th>2</th>\n",
              "      <td>я на всю жизнь запомню свое первое купание в з...</td>\n",
              "      <td>я на всю жизнь запомню свое первое купание в з...</td>\n",
              "    </tr>\n",
              "    <tr>\n",
              "      <th>3</th>\n",
              "      <td>думаем что не ошибемся если скажем что выставк...</td>\n",
              "      <td>думаем что не ошибемся если скажем что выставк...</td>\n",
              "    </tr>\n",
              "    <tr>\n",
              "      <th>4</th>\n",
              "      <td>судьба человека может складываться очень разно...</td>\n",
              "      <td>судьба человека может складываться очень разно...</td>\n",
              "    </tr>\n",
              "  </tbody>\n",
              "</table>\n",
              "</div>\n",
              "    <div class=\"colab-df-buttons\">\n",
              "\n",
              "  <div class=\"colab-df-container\">\n",
              "    <button class=\"colab-df-convert\" onclick=\"convertToInteractive('df-bbb6e354-93a7-430b-881b-6305f80e1210')\"\n",
              "            title=\"Convert this dataframe to an interactive table.\"\n",
              "            style=\"display:none;\">\n",
              "\n",
              "  <svg xmlns=\"http://www.w3.org/2000/svg\" height=\"24px\" viewBox=\"0 -960 960 960\">\n",
              "    <path d=\"M120-120v-720h720v720H120Zm60-500h600v-160H180v160Zm220 220h160v-160H400v160Zm0 220h160v-160H400v160ZM180-400h160v-160H180v160Zm440 0h160v-160H620v160ZM180-180h160v-160H180v160Zm440 0h160v-160H620v160Z\"/>\n",
              "  </svg>\n",
              "    </button>\n",
              "\n",
              "  <style>\n",
              "    .colab-df-container {\n",
              "      display:flex;\n",
              "      gap: 12px;\n",
              "    }\n",
              "\n",
              "    .colab-df-convert {\n",
              "      background-color: #E8F0FE;\n",
              "      border: none;\n",
              "      border-radius: 50%;\n",
              "      cursor: pointer;\n",
              "      display: none;\n",
              "      fill: #1967D2;\n",
              "      height: 32px;\n",
              "      padding: 0 0 0 0;\n",
              "      width: 32px;\n",
              "    }\n",
              "\n",
              "    .colab-df-convert:hover {\n",
              "      background-color: #E2EBFA;\n",
              "      box-shadow: 0px 1px 2px rgba(60, 64, 67, 0.3), 0px 1px 3px 1px rgba(60, 64, 67, 0.15);\n",
              "      fill: #174EA6;\n",
              "    }\n",
              "\n",
              "    .colab-df-buttons div {\n",
              "      margin-bottom: 4px;\n",
              "    }\n",
              "\n",
              "    [theme=dark] .colab-df-convert {\n",
              "      background-color: #3B4455;\n",
              "      fill: #D2E3FC;\n",
              "    }\n",
              "\n",
              "    [theme=dark] .colab-df-convert:hover {\n",
              "      background-color: #434B5C;\n",
              "      box-shadow: 0px 1px 3px 1px rgba(0, 0, 0, 0.15);\n",
              "      filter: drop-shadow(0px 1px 2px rgba(0, 0, 0, 0.3));\n",
              "      fill: #FFFFFF;\n",
              "    }\n",
              "  </style>\n",
              "\n",
              "    <script>\n",
              "      const buttonEl =\n",
              "        document.querySelector('#df-bbb6e354-93a7-430b-881b-6305f80e1210 button.colab-df-convert');\n",
              "      buttonEl.style.display =\n",
              "        google.colab.kernel.accessAllowed ? 'block' : 'none';\n",
              "\n",
              "      async function convertToInteractive(key) {\n",
              "        const element = document.querySelector('#df-bbb6e354-93a7-430b-881b-6305f80e1210');\n",
              "        const dataTable =\n",
              "          await google.colab.kernel.invokeFunction('convertToInteractive',\n",
              "                                                    [key], {});\n",
              "        if (!dataTable) return;\n",
              "\n",
              "        const docLinkHtml = 'Like what you see? Visit the ' +\n",
              "          '<a target=\"_blank\" href=https://colab.research.google.com/notebooks/data_table.ipynb>data table notebook</a>'\n",
              "          + ' to learn more about interactive tables.';\n",
              "        element.innerHTML = '';\n",
              "        dataTable['output_type'] = 'display_data';\n",
              "        await google.colab.output.renderOutput(dataTable, element);\n",
              "        const docLink = document.createElement('div');\n",
              "        docLink.innerHTML = docLinkHtml;\n",
              "        element.appendChild(docLink);\n",
              "      }\n",
              "    </script>\n",
              "  </div>\n",
              "\n",
              "\n",
              "<div id=\"df-a1533500-95bb-40fd-98c5-9ebd7566b112\">\n",
              "  <button class=\"colab-df-quickchart\" onclick=\"quickchart('df-a1533500-95bb-40fd-98c5-9ebd7566b112')\"\n",
              "            title=\"Suggest charts\"\n",
              "            style=\"display:none;\">\n",
              "\n",
              "<svg xmlns=\"http://www.w3.org/2000/svg\" height=\"24px\"viewBox=\"0 0 24 24\"\n",
              "     width=\"24px\">\n",
              "    <g>\n",
              "        <path d=\"M19 3H5c-1.1 0-2 .9-2 2v14c0 1.1.9 2 2 2h14c1.1 0 2-.9 2-2V5c0-1.1-.9-2-2-2zM9 17H7v-7h2v7zm4 0h-2V7h2v10zm4 0h-2v-4h2v4z\"/>\n",
              "    </g>\n",
              "</svg>\n",
              "  </button>\n",
              "\n",
              "<style>\n",
              "  .colab-df-quickchart {\n",
              "      --bg-color: #E8F0FE;\n",
              "      --fill-color: #1967D2;\n",
              "      --hover-bg-color: #E2EBFA;\n",
              "      --hover-fill-color: #174EA6;\n",
              "      --disabled-fill-color: #AAA;\n",
              "      --disabled-bg-color: #DDD;\n",
              "  }\n",
              "\n",
              "  [theme=dark] .colab-df-quickchart {\n",
              "      --bg-color: #3B4455;\n",
              "      --fill-color: #D2E3FC;\n",
              "      --hover-bg-color: #434B5C;\n",
              "      --hover-fill-color: #FFFFFF;\n",
              "      --disabled-bg-color: #3B4455;\n",
              "      --disabled-fill-color: #666;\n",
              "  }\n",
              "\n",
              "  .colab-df-quickchart {\n",
              "    background-color: var(--bg-color);\n",
              "    border: none;\n",
              "    border-radius: 50%;\n",
              "    cursor: pointer;\n",
              "    display: none;\n",
              "    fill: var(--fill-color);\n",
              "    height: 32px;\n",
              "    padding: 0;\n",
              "    width: 32px;\n",
              "  }\n",
              "\n",
              "  .colab-df-quickchart:hover {\n",
              "    background-color: var(--hover-bg-color);\n",
              "    box-shadow: 0 1px 2px rgba(60, 64, 67, 0.3), 0 1px 3px 1px rgba(60, 64, 67, 0.15);\n",
              "    fill: var(--button-hover-fill-color);\n",
              "  }\n",
              "\n",
              "  .colab-df-quickchart-complete:disabled,\n",
              "  .colab-df-quickchart-complete:disabled:hover {\n",
              "    background-color: var(--disabled-bg-color);\n",
              "    fill: var(--disabled-fill-color);\n",
              "    box-shadow: none;\n",
              "  }\n",
              "\n",
              "  .colab-df-spinner {\n",
              "    border: 2px solid var(--fill-color);\n",
              "    border-color: transparent;\n",
              "    border-bottom-color: var(--fill-color);\n",
              "    animation:\n",
              "      spin 1s steps(1) infinite;\n",
              "  }\n",
              "\n",
              "  @keyframes spin {\n",
              "    0% {\n",
              "      border-color: transparent;\n",
              "      border-bottom-color: var(--fill-color);\n",
              "      border-left-color: var(--fill-color);\n",
              "    }\n",
              "    20% {\n",
              "      border-color: transparent;\n",
              "      border-left-color: var(--fill-color);\n",
              "      border-top-color: var(--fill-color);\n",
              "    }\n",
              "    30% {\n",
              "      border-color: transparent;\n",
              "      border-left-color: var(--fill-color);\n",
              "      border-top-color: var(--fill-color);\n",
              "      border-right-color: var(--fill-color);\n",
              "    }\n",
              "    40% {\n",
              "      border-color: transparent;\n",
              "      border-right-color: var(--fill-color);\n",
              "      border-top-color: var(--fill-color);\n",
              "    }\n",
              "    60% {\n",
              "      border-color: transparent;\n",
              "      border-right-color: var(--fill-color);\n",
              "    }\n",
              "    80% {\n",
              "      border-color: transparent;\n",
              "      border-right-color: var(--fill-color);\n",
              "      border-bottom-color: var(--fill-color);\n",
              "    }\n",
              "    90% {\n",
              "      border-color: transparent;\n",
              "      border-bottom-color: var(--fill-color);\n",
              "    }\n",
              "  }\n",
              "</style>\n",
              "\n",
              "  <script>\n",
              "    async function quickchart(key) {\n",
              "      const quickchartButtonEl =\n",
              "        document.querySelector('#' + key + ' button');\n",
              "      quickchartButtonEl.disabled = true;  // To prevent multiple clicks.\n",
              "      quickchartButtonEl.classList.add('colab-df-spinner');\n",
              "      try {\n",
              "        const charts = await google.colab.kernel.invokeFunction(\n",
              "            'suggestCharts', [key], {});\n",
              "      } catch (error) {\n",
              "        console.error('Error during call to suggestCharts:', error);\n",
              "      }\n",
              "      quickchartButtonEl.classList.remove('colab-df-spinner');\n",
              "      quickchartButtonEl.classList.add('colab-df-quickchart-complete');\n",
              "    }\n",
              "    (() => {\n",
              "      let quickchartButtonEl =\n",
              "        document.querySelector('#df-a1533500-95bb-40fd-98c5-9ebd7566b112 button');\n",
              "      quickchartButtonEl.style.display =\n",
              "        google.colab.kernel.accessAllowed ? 'block' : 'none';\n",
              "    })();\n",
              "  </script>\n",
              "</div>\n",
              "    </div>\n",
              "  </div>\n"
            ],
            "text/plain": [
              "                                              source  \\\n",
              "0     ﻿есть у вас оформленый и подписаный мною заказ   \n",
              "1  вот в инете откапал такую интеерсную статейку ...   \n",
              "2  я на всю жизнь запомню свое первое купание в з...   \n",
              "3  думаем что не ошибемся если скажем что выставк...   \n",
              "4  судьба человека может складываться очень разно...   \n",
              "\n",
              "                                          correction  \n",
              "0   ﻿есть у вас оформленный и подписанный мною заказ  \n",
              "1  вот в инете откопал такую интересную статейку ...  \n",
              "2  я на всю жизнь запомню свое первое купание в з...  \n",
              "3  думаем что не ошибемся если скажем что выставк...  \n",
              "4  судьба человека может складываться очень разно...  "
            ]
          },
          "execution_count": 56,
          "metadata": {},
          "output_type": "execute_result"
        }
      ],
      "source": [
        "dataset.head()"
      ]
    },
    {
      "cell_type": "code",
      "execution_count": 49,
      "metadata": {
        "colab": {
          "base_uri": "https://localhost:8080/"
        },
        "id": "sMCSyeoUQKVu",
        "outputId": "c347e6ef-4d06-48c6-ef47-c74eda3ead3b"
      },
      "outputs": [
        {
          "output_type": "stream",
          "name": "stderr",
          "text": [
            "100%|██████████| 2008/2008 [36:24<00:00,  1.09s/it]\n"
          ]
        }
      ],
      "source": [
        "from tqdm import tqdm\n",
        "\n",
        "jamspell_cor = []\n",
        "naive_cor = []\n",
        "\n",
        "for text in tqdm(sources):\n",
        "  jamspell_c = correct_jamspell(text)\n",
        "  naive = correct_text(text)\n",
        "  jamspell_cor.append(jamspell_c)\n",
        "  naive_cor.append(naive)"
      ]
    },
    {
      "cell_type": "code",
      "source": [
        "jamespell_metrics = evaluation(sources, jamspell_cor, answers)\n",
        "naive_metrics = evaluation(sources, naive_cor, answers)"
      ],
      "metadata": {
        "colab": {
          "base_uri": "https://localhost:8080/",
          "height": 81,
          "referenced_widgets": [
            "d6dc5c81dfcc42c49f092c00ddd32136",
            "e3b5b5a4ddcf4c5b95dd59f42fa9b7a2",
            "168e4c992f02462fbbe0725d89357a29",
            "f7dcff52df0049b1a7e897d4d1afe3bf",
            "efd89631ca2b4eaf8734e58eaf53ffb1",
            "e42789405ab5425fbd219997ecec0ee3",
            "e2903b0886354dbd9880e1c58b15158f",
            "be148d5418da4d31a19b2dd94d874ede",
            "b45afcecc975420aa6861690a65cf962",
            "fb6202fdc3b449548c5a0586960b64cc",
            "7d12f41dddc4409aacf6224f93c534cc",
            "777e7a21aa2446349cefa3f2b1ae41b3",
            "2fd4da8de345499ea5b4f5fcd5d3b1af",
            "943aff3ac564486da51b0e962129853f",
            "69297b6967a84cb49f99d12c913e6ed4",
            "544525552d1b4d458f33395197b4a47a",
            "c01f67fa20a545409b1eaa1b6549fbfa",
            "6a413221af8c4a129a079319b0772fc6",
            "b4ea6c82da1142c6ab5865e2149f2e4c",
            "3fcfba02f63d4d6db5ecf7a0817d4957",
            "c877f3fdf7e84c5696826333c184b7f8",
            "3f881c472f0648b88056f7d3322dc7b5"
          ]
        },
        "id": "BlDVMre_9Zr-",
        "outputId": "6d4a7eac-4419-4be0-de1b-56c0439200de"
      },
      "execution_count": 50,
      "outputs": [
        {
          "output_type": "display_data",
          "data": {
            "text/plain": [
              "Calculating words metric:   0%|          | 0/2008 [00:00<?, ?it/s]"
            ],
            "application/vnd.jupyter.widget-view+json": {
              "version_major": 2,
              "version_minor": 0,
              "model_id": "d6dc5c81dfcc42c49f092c00ddd32136"
            }
          },
          "metadata": {}
        },
        {
          "output_type": "display_data",
          "data": {
            "text/plain": [
              "Calculating words metric:   0%|          | 0/2008 [00:00<?, ?it/s]"
            ],
            "application/vnd.jupyter.widget-view+json": {
              "version_major": 2,
              "version_minor": 0,
              "model_id": "777e7a21aa2446349cefa3f2b1ae41b3"
            }
          },
          "metadata": {}
        }
      ]
    },
    {
      "cell_type": "code",
      "source": [
        "jamespell_metrics"
      ],
      "metadata": {
        "colab": {
          "base_uri": "https://localhost:8080/"
        },
        "id": "x26ICsvZkH6Q",
        "outputId": "81ac2ee7-fb84-4f14-dea2-6c3a95c17b57"
      },
      "execution_count": 51,
      "outputs": [
        {
          "output_type": "execute_result",
          "data": {
            "text/plain": [
              "{'Precision': 32.81, 'Recall': 41.9, 'F1': 36.8}"
            ]
          },
          "metadata": {},
          "execution_count": 51
        }
      ]
    },
    {
      "cell_type": "code",
      "source": [
        "naive_metrics"
      ],
      "metadata": {
        "colab": {
          "base_uri": "https://localhost:8080/"
        },
        "id": "KyL16nDqkJA4",
        "outputId": "4cbd11a6-5694-49fe-972f-5e78054847fe"
      },
      "execution_count": 52,
      "outputs": [
        {
          "output_type": "execute_result",
          "data": {
            "text/plain": [
              "{'Precision': 29.99, 'Recall': 8.7, 'F1': 13.48}"
            ]
          },
          "metadata": {},
          "execution_count": 52
        }
      ]
    },
    {
      "cell_type": "markdown",
      "source": [
        "Видим, что у jamespell получилось найти и исправить значительно больше ошибок (так как recall выше), сохраняя точност предложенных исправлений.\n",
        "\n",
        "Посмотрим на самую маленькую модель из sage"
      ],
      "metadata": {
        "id": "XqBK3oqOkR1_"
      }
    },
    {
      "cell_type": "code",
      "execution_count": null,
      "metadata": {
        "colab": {
          "base_uri": "https://localhost:8080/",
          "height": 115,
          "referenced_widgets": [
            "aa7b01575d144cd1988d0d6354cddda5",
            "c195d5d4636a4ff4b220daaac2ee5dbd",
            "d48afea66f904c59b482c09f1360c227",
            "967a5a99df4f46e68b90a55a456ee38d",
            "789fc01fa92d4a8a9c0b94db677d3211",
            "896e27023258424ba3de87a4ca732814",
            "617c3ae482ba41b7bc3dfeb371d9b33f",
            "537dc51ea1ab49519527adb7b11d29cd",
            "8f38e8031ce849e4bee40601a83d0d49",
            "730b629bad3c4d35852ea4dc92f7212e",
            "c6c2e54d0d2449be8d8d51cc4fea1fc1",
            "67643fa6a9104381841d699b47b9b3ac",
            "5825ca643f554b00a291398bdeee2f62",
            "ffaf08847a6a448b93c5abb7024838ad",
            "e537747eda4b4b52a4b3f87e1a7b28e5",
            "2d8484f6a9594b8c8b5f87662dbf3c17",
            "346052ffb2e74a5e89f95d5384a53d07",
            "5b2e1c2e3a764a7c98772ba212fae4e4",
            "546b03e59bdb4ce0a4ee4661829c9983",
            "9640d8f9f03f46a6aebc23c4fa1b17c0",
            "2e1ee082e95c46d8845b2431166cd735",
            "f9c151b6ddec4cbebb14cfabfa9f1489"
          ]
        },
        "id": "j7o6ZbJlTtdk",
        "outputId": "25d540b2-75ac-487d-f311-343b7ceb8e71"
      },
      "outputs": [
        {
          "data": {
            "application/vnd.jupyter.widget-view+json": {
              "model_id": "aa7b01575d144cd1988d0d6354cddda5",
              "version_major": 2,
              "version_minor": 0
            },
            "text/plain": [
              "  0%|          | 0/126 [00:00<?, ?it/s]"
            ]
          },
          "metadata": {},
          "output_type": "display_data"
        },
        {
          "data": {
            "application/vnd.jupyter.widget-view+json": {
              "model_id": "67643fa6a9104381841d699b47b9b3ac",
              "version_major": 2,
              "version_minor": 0
            },
            "text/plain": [
              "Calculating words metric:   0%|          | 0/2008 [00:00<?, ?it/s]"
            ]
          },
          "metadata": {},
          "output_type": "display_data"
        },
        {
          "name": "stdout",
          "output_type": "stream",
          "text": [
            "Metrics for sage_fredt5_95m_corrector:\n",
            "{'Precision': 83.48, 'Recall': 74.75, 'F1': 78.87}\n"
          ]
        }
      ],
      "source": [
        "corrector = sage_fredt5_95m_corrector\n",
        "corrector_name = 'sage_fredt5_95m_corrector'\n",
        "corrector.model.to(\"cuda:0\")\n",
        "\n",
        "metrics = corrector.evaluate(\"RUSpellRU\", batch_size=16, metrics=[\"ruspelleval\"])\n",
        "print(f\"Metrics for {corrector_name}:\")\n",
        "print(metrics)"
      ]
    },
    {
      "cell_type": "markdown",
      "source": [
        "Получается значительно лучше =)"
      ],
      "metadata": {
        "id": "viJRm86BoUku"
      }
    },
    {
      "cell_type": "markdown",
      "source": [
        "Сравним метрики с [Яндекс Спеллером](https://yandex.ru/dev/speller/), который тоже использует CatBoost для исправления ошибок."
      ],
      "metadata": {
        "id": "i4UXUpKQpXdT"
      }
    },
    {
      "cell_type": "code",
      "source": [
        "!pip install pyaspeller"
      ],
      "metadata": {
        "colab": {
          "base_uri": "https://localhost:8080/"
        },
        "id": "iUoQMi0Co8jL",
        "outputId": "fb9dc427-5a06-4c7c-b1dc-527ec31bd68d"
      },
      "execution_count": 53,
      "outputs": [
        {
          "output_type": "stream",
          "name": "stdout",
          "text": [
            "Collecting pyaspeller\n",
            "  Downloading pyaspeller-2.0.0-py3-none-any.whl.metadata (2.9 kB)\n",
            "Requirement already satisfied: requests<3.0.0,>=2.27.1 in /usr/local/lib/python3.10/dist-packages (from pyaspeller) (2.32.3)\n",
            "Requirement already satisfied: charset-normalizer<4,>=2 in /usr/local/lib/python3.10/dist-packages (from requests<3.0.0,>=2.27.1->pyaspeller) (3.4.0)\n",
            "Requirement already satisfied: idna<4,>=2.5 in /usr/local/lib/python3.10/dist-packages (from requests<3.0.0,>=2.27.1->pyaspeller) (3.10)\n",
            "Requirement already satisfied: urllib3<3,>=1.21.1 in /usr/local/lib/python3.10/dist-packages (from requests<3.0.0,>=2.27.1->pyaspeller) (2.2.3)\n",
            "Requirement already satisfied: certifi>=2017.4.17 in /usr/local/lib/python3.10/dist-packages (from requests<3.0.0,>=2.27.1->pyaspeller) (2024.8.30)\n",
            "Downloading pyaspeller-2.0.0-py3-none-any.whl (12 kB)\n",
            "Installing collected packages: pyaspeller\n",
            "Successfully installed pyaspeller-2.0.0\n"
          ]
        }
      ]
    },
    {
      "cell_type": "code",
      "source": [
        "from pyaspeller import YandexSpeller\n",
        "\n",
        "yaspeller_cor = []\n",
        "\n",
        "speller = YandexSpeller()\n",
        "\n",
        "for text in tqdm(sources):\n",
        "  yaspeller = speller.spelled(text)\n",
        "  yaspeller_cor.append(yaspeller)"
      ],
      "metadata": {
        "colab": {
          "base_uri": "https://localhost:8080/"
        },
        "id": "qIacJo39pIne",
        "outputId": "502a6d49-ccda-4048-b352-cf2c30917e7c"
      },
      "execution_count": 54,
      "outputs": [
        {
          "output_type": "stream",
          "name": "stderr",
          "text": [
            "100%|██████████| 2008/2008 [09:28<00:00,  3.53it/s]\n"
          ]
        }
      ]
    },
    {
      "cell_type": "code",
      "source": [
        "yaspeller_metrics = evaluation(sources, yaspeller_cor, answers)"
      ],
      "metadata": {
        "colab": {
          "base_uri": "https://localhost:8080/",
          "height": 49,
          "referenced_widgets": [
            "3602aec550c54d5f81dc1bd049a12257",
            "11dd00d631394f68b150fab7e986dc32",
            "472be791e3a347f6948a92b469e52dc4",
            "8be93d06b4ea4f3a8705cace052bc09b",
            "769a523f98fd4dd0a808802ff8ac8728",
            "461cc0ee7b4d4c79aab7a802ae31fe2d",
            "c6502ae96bcc4b79951fd49b88b9f15d",
            "300d5b8bf378414ea1e1687424d918e5",
            "4a84de36070242d2a6ff407a5074f2ad",
            "f80531d92f004e479e0aee81594fed89",
            "b7656663b6ad4d4889adf8b38ab0f930"
          ]
        },
        "id": "mQMqGNTcpnj_",
        "outputId": "3941e303-8447-42e1-8ca0-cbf978697a8f"
      },
      "execution_count": 55,
      "outputs": [
        {
          "output_type": "display_data",
          "data": {
            "text/plain": [
              "Calculating words metric:   0%|          | 0/2008 [00:00<?, ?it/s]"
            ],
            "application/vnd.jupyter.widget-view+json": {
              "version_major": 2,
              "version_minor": 0,
              "model_id": "3602aec550c54d5f81dc1bd049a12257"
            }
          },
          "metadata": {}
        }
      ]
    },
    {
      "cell_type": "code",
      "source": [
        "yaspeller_metrics"
      ],
      "metadata": {
        "colab": {
          "base_uri": "https://localhost:8080/"
        },
        "id": "YyFBcDAyr1fT",
        "outputId": "0347d8e7-12f1-45b2-ae0f-5cd72b4a150d"
      },
      "execution_count": 56,
      "outputs": [
        {
          "output_type": "execute_result",
          "data": {
            "text/plain": [
              "{'Precision': 60.7, 'Recall': 83.04, 'F1': 70.13}"
            ]
          },
          "metadata": {},
          "execution_count": 56
        }
      ]
    }
  ],
  "metadata": {
    "colab": {
      "provenance": []
    },
    "kernelspec": {
      "display_name": "Python 3",
      "name": "python3"
    },
    "language_info": {
      "name": "python"
    },
    "widgets": {
      "application/vnd.jupyter.widget-state+json": {
        "2d8484f6a9594b8c8b5f87662dbf3c17": {
          "model_module": "@jupyter-widgets/base",
          "model_module_version": "1.2.0",
          "model_name": "LayoutModel",
          "state": {
            "_model_module": "@jupyter-widgets/base",
            "_model_module_version": "1.2.0",
            "_model_name": "LayoutModel",
            "_view_count": null,
            "_view_module": "@jupyter-widgets/base",
            "_view_module_version": "1.2.0",
            "_view_name": "LayoutView",
            "align_content": null,
            "align_items": null,
            "align_self": null,
            "border": null,
            "bottom": null,
            "display": null,
            "flex": null,
            "flex_flow": null,
            "grid_area": null,
            "grid_auto_columns": null,
            "grid_auto_flow": null,
            "grid_auto_rows": null,
            "grid_column": null,
            "grid_gap": null,
            "grid_row": null,
            "grid_template_areas": null,
            "grid_template_columns": null,
            "grid_template_rows": null,
            "height": null,
            "justify_content": null,
            "justify_items": null,
            "left": null,
            "margin": null,
            "max_height": null,
            "max_width": null,
            "min_height": null,
            "min_width": null,
            "object_fit": null,
            "object_position": null,
            "order": null,
            "overflow": null,
            "overflow_x": null,
            "overflow_y": null,
            "padding": null,
            "right": null,
            "top": null,
            "visibility": null,
            "width": null
          }
        },
        "2e1ee082e95c46d8845b2431166cd735": {
          "model_module": "@jupyter-widgets/base",
          "model_module_version": "1.2.0",
          "model_name": "LayoutModel",
          "state": {
            "_model_module": "@jupyter-widgets/base",
            "_model_module_version": "1.2.0",
            "_model_name": "LayoutModel",
            "_view_count": null,
            "_view_module": "@jupyter-widgets/base",
            "_view_module_version": "1.2.0",
            "_view_name": "LayoutView",
            "align_content": null,
            "align_items": null,
            "align_self": null,
            "border": null,
            "bottom": null,
            "display": null,
            "flex": null,
            "flex_flow": null,
            "grid_area": null,
            "grid_auto_columns": null,
            "grid_auto_flow": null,
            "grid_auto_rows": null,
            "grid_column": null,
            "grid_gap": null,
            "grid_row": null,
            "grid_template_areas": null,
            "grid_template_columns": null,
            "grid_template_rows": null,
            "height": null,
            "justify_content": null,
            "justify_items": null,
            "left": null,
            "margin": null,
            "max_height": null,
            "max_width": null,
            "min_height": null,
            "min_width": null,
            "object_fit": null,
            "object_position": null,
            "order": null,
            "overflow": null,
            "overflow_x": null,
            "overflow_y": null,
            "padding": null,
            "right": null,
            "top": null,
            "visibility": null,
            "width": null
          }
        },
        "346052ffb2e74a5e89f95d5384a53d07": {
          "model_module": "@jupyter-widgets/base",
          "model_module_version": "1.2.0",
          "model_name": "LayoutModel",
          "state": {
            "_model_module": "@jupyter-widgets/base",
            "_model_module_version": "1.2.0",
            "_model_name": "LayoutModel",
            "_view_count": null,
            "_view_module": "@jupyter-widgets/base",
            "_view_module_version": "1.2.0",
            "_view_name": "LayoutView",
            "align_content": null,
            "align_items": null,
            "align_self": null,
            "border": null,
            "bottom": null,
            "display": null,
            "flex": null,
            "flex_flow": null,
            "grid_area": null,
            "grid_auto_columns": null,
            "grid_auto_flow": null,
            "grid_auto_rows": null,
            "grid_column": null,
            "grid_gap": null,
            "grid_row": null,
            "grid_template_areas": null,
            "grid_template_columns": null,
            "grid_template_rows": null,
            "height": null,
            "justify_content": null,
            "justify_items": null,
            "left": null,
            "margin": null,
            "max_height": null,
            "max_width": null,
            "min_height": null,
            "min_width": null,
            "object_fit": null,
            "object_position": null,
            "order": null,
            "overflow": null,
            "overflow_x": null,
            "overflow_y": null,
            "padding": null,
            "right": null,
            "top": null,
            "visibility": null,
            "width": null
          }
        },
        "537dc51ea1ab49519527adb7b11d29cd": {
          "model_module": "@jupyter-widgets/base",
          "model_module_version": "1.2.0",
          "model_name": "LayoutModel",
          "state": {
            "_model_module": "@jupyter-widgets/base",
            "_model_module_version": "1.2.0",
            "_model_name": "LayoutModel",
            "_view_count": null,
            "_view_module": "@jupyter-widgets/base",
            "_view_module_version": "1.2.0",
            "_view_name": "LayoutView",
            "align_content": null,
            "align_items": null,
            "align_self": null,
            "border": null,
            "bottom": null,
            "display": null,
            "flex": null,
            "flex_flow": null,
            "grid_area": null,
            "grid_auto_columns": null,
            "grid_auto_flow": null,
            "grid_auto_rows": null,
            "grid_column": null,
            "grid_gap": null,
            "grid_row": null,
            "grid_template_areas": null,
            "grid_template_columns": null,
            "grid_template_rows": null,
            "height": null,
            "justify_content": null,
            "justify_items": null,
            "left": null,
            "margin": null,
            "max_height": null,
            "max_width": null,
            "min_height": null,
            "min_width": null,
            "object_fit": null,
            "object_position": null,
            "order": null,
            "overflow": null,
            "overflow_x": null,
            "overflow_y": null,
            "padding": null,
            "right": null,
            "top": null,
            "visibility": null,
            "width": null
          }
        },
        "546b03e59bdb4ce0a4ee4661829c9983": {
          "model_module": "@jupyter-widgets/base",
          "model_module_version": "1.2.0",
          "model_name": "LayoutModel",
          "state": {
            "_model_module": "@jupyter-widgets/base",
            "_model_module_version": "1.2.0",
            "_model_name": "LayoutModel",
            "_view_count": null,
            "_view_module": "@jupyter-widgets/base",
            "_view_module_version": "1.2.0",
            "_view_name": "LayoutView",
            "align_content": null,
            "align_items": null,
            "align_self": null,
            "border": null,
            "bottom": null,
            "display": null,
            "flex": null,
            "flex_flow": null,
            "grid_area": null,
            "grid_auto_columns": null,
            "grid_auto_flow": null,
            "grid_auto_rows": null,
            "grid_column": null,
            "grid_gap": null,
            "grid_row": null,
            "grid_template_areas": null,
            "grid_template_columns": null,
            "grid_template_rows": null,
            "height": null,
            "justify_content": null,
            "justify_items": null,
            "left": null,
            "margin": null,
            "max_height": null,
            "max_width": null,
            "min_height": null,
            "min_width": null,
            "object_fit": null,
            "object_position": null,
            "order": null,
            "overflow": null,
            "overflow_x": null,
            "overflow_y": null,
            "padding": null,
            "right": null,
            "top": null,
            "visibility": null,
            "width": null
          }
        },
        "5825ca643f554b00a291398bdeee2f62": {
          "model_module": "@jupyter-widgets/controls",
          "model_module_version": "1.5.0",
          "model_name": "HTMLModel",
          "state": {
            "_dom_classes": [],
            "_model_module": "@jupyter-widgets/controls",
            "_model_module_version": "1.5.0",
            "_model_name": "HTMLModel",
            "_view_count": null,
            "_view_module": "@jupyter-widgets/controls",
            "_view_module_version": "1.5.0",
            "_view_name": "HTMLView",
            "description": "",
            "description_tooltip": null,
            "layout": "IPY_MODEL_346052ffb2e74a5e89f95d5384a53d07",
            "placeholder": "​",
            "style": "IPY_MODEL_5b2e1c2e3a764a7c98772ba212fae4e4",
            "value": "Calculating words metric: 100%"
          }
        },
        "5b2e1c2e3a764a7c98772ba212fae4e4": {
          "model_module": "@jupyter-widgets/controls",
          "model_module_version": "1.5.0",
          "model_name": "DescriptionStyleModel",
          "state": {
            "_model_module": "@jupyter-widgets/controls",
            "_model_module_version": "1.5.0",
            "_model_name": "DescriptionStyleModel",
            "_view_count": null,
            "_view_module": "@jupyter-widgets/base",
            "_view_module_version": "1.2.0",
            "_view_name": "StyleView",
            "description_width": ""
          }
        },
        "617c3ae482ba41b7bc3dfeb371d9b33f": {
          "model_module": "@jupyter-widgets/controls",
          "model_module_version": "1.5.0",
          "model_name": "DescriptionStyleModel",
          "state": {
            "_model_module": "@jupyter-widgets/controls",
            "_model_module_version": "1.5.0",
            "_model_name": "DescriptionStyleModel",
            "_view_count": null,
            "_view_module": "@jupyter-widgets/base",
            "_view_module_version": "1.2.0",
            "_view_name": "StyleView",
            "description_width": ""
          }
        },
        "67643fa6a9104381841d699b47b9b3ac": {
          "model_module": "@jupyter-widgets/controls",
          "model_module_version": "1.5.0",
          "model_name": "HBoxModel",
          "state": {
            "_dom_classes": [],
            "_model_module": "@jupyter-widgets/controls",
            "_model_module_version": "1.5.0",
            "_model_name": "HBoxModel",
            "_view_count": null,
            "_view_module": "@jupyter-widgets/controls",
            "_view_module_version": "1.5.0",
            "_view_name": "HBoxView",
            "box_style": "",
            "children": [
              "IPY_MODEL_5825ca643f554b00a291398bdeee2f62",
              "IPY_MODEL_ffaf08847a6a448b93c5abb7024838ad",
              "IPY_MODEL_e537747eda4b4b52a4b3f87e1a7b28e5"
            ],
            "layout": "IPY_MODEL_2d8484f6a9594b8c8b5f87662dbf3c17"
          }
        },
        "730b629bad3c4d35852ea4dc92f7212e": {
          "model_module": "@jupyter-widgets/base",
          "model_module_version": "1.2.0",
          "model_name": "LayoutModel",
          "state": {
            "_model_module": "@jupyter-widgets/base",
            "_model_module_version": "1.2.0",
            "_model_name": "LayoutModel",
            "_view_count": null,
            "_view_module": "@jupyter-widgets/base",
            "_view_module_version": "1.2.0",
            "_view_name": "LayoutView",
            "align_content": null,
            "align_items": null,
            "align_self": null,
            "border": null,
            "bottom": null,
            "display": null,
            "flex": null,
            "flex_flow": null,
            "grid_area": null,
            "grid_auto_columns": null,
            "grid_auto_flow": null,
            "grid_auto_rows": null,
            "grid_column": null,
            "grid_gap": null,
            "grid_row": null,
            "grid_template_areas": null,
            "grid_template_columns": null,
            "grid_template_rows": null,
            "height": null,
            "justify_content": null,
            "justify_items": null,
            "left": null,
            "margin": null,
            "max_height": null,
            "max_width": null,
            "min_height": null,
            "min_width": null,
            "object_fit": null,
            "object_position": null,
            "order": null,
            "overflow": null,
            "overflow_x": null,
            "overflow_y": null,
            "padding": null,
            "right": null,
            "top": null,
            "visibility": null,
            "width": null
          }
        },
        "789fc01fa92d4a8a9c0b94db677d3211": {
          "model_module": "@jupyter-widgets/base",
          "model_module_version": "1.2.0",
          "model_name": "LayoutModel",
          "state": {
            "_model_module": "@jupyter-widgets/base",
            "_model_module_version": "1.2.0",
            "_model_name": "LayoutModel",
            "_view_count": null,
            "_view_module": "@jupyter-widgets/base",
            "_view_module_version": "1.2.0",
            "_view_name": "LayoutView",
            "align_content": null,
            "align_items": null,
            "align_self": null,
            "border": null,
            "bottom": null,
            "display": null,
            "flex": null,
            "flex_flow": null,
            "grid_area": null,
            "grid_auto_columns": null,
            "grid_auto_flow": null,
            "grid_auto_rows": null,
            "grid_column": null,
            "grid_gap": null,
            "grid_row": null,
            "grid_template_areas": null,
            "grid_template_columns": null,
            "grid_template_rows": null,
            "height": null,
            "justify_content": null,
            "justify_items": null,
            "left": null,
            "margin": null,
            "max_height": null,
            "max_width": null,
            "min_height": null,
            "min_width": null,
            "object_fit": null,
            "object_position": null,
            "order": null,
            "overflow": null,
            "overflow_x": null,
            "overflow_y": null,
            "padding": null,
            "right": null,
            "top": null,
            "visibility": null,
            "width": null
          }
        },
        "896e27023258424ba3de87a4ca732814": {
          "model_module": "@jupyter-widgets/base",
          "model_module_version": "1.2.0",
          "model_name": "LayoutModel",
          "state": {
            "_model_module": "@jupyter-widgets/base",
            "_model_module_version": "1.2.0",
            "_model_name": "LayoutModel",
            "_view_count": null,
            "_view_module": "@jupyter-widgets/base",
            "_view_module_version": "1.2.0",
            "_view_name": "LayoutView",
            "align_content": null,
            "align_items": null,
            "align_self": null,
            "border": null,
            "bottom": null,
            "display": null,
            "flex": null,
            "flex_flow": null,
            "grid_area": null,
            "grid_auto_columns": null,
            "grid_auto_flow": null,
            "grid_auto_rows": null,
            "grid_column": null,
            "grid_gap": null,
            "grid_row": null,
            "grid_template_areas": null,
            "grid_template_columns": null,
            "grid_template_rows": null,
            "height": null,
            "justify_content": null,
            "justify_items": null,
            "left": null,
            "margin": null,
            "max_height": null,
            "max_width": null,
            "min_height": null,
            "min_width": null,
            "object_fit": null,
            "object_position": null,
            "order": null,
            "overflow": null,
            "overflow_x": null,
            "overflow_y": null,
            "padding": null,
            "right": null,
            "top": null,
            "visibility": null,
            "width": null
          }
        },
        "8f38e8031ce849e4bee40601a83d0d49": {
          "model_module": "@jupyter-widgets/controls",
          "model_module_version": "1.5.0",
          "model_name": "ProgressStyleModel",
          "state": {
            "_model_module": "@jupyter-widgets/controls",
            "_model_module_version": "1.5.0",
            "_model_name": "ProgressStyleModel",
            "_view_count": null,
            "_view_module": "@jupyter-widgets/base",
            "_view_module_version": "1.2.0",
            "_view_name": "StyleView",
            "bar_color": null,
            "description_width": ""
          }
        },
        "9640d8f9f03f46a6aebc23c4fa1b17c0": {
          "model_module": "@jupyter-widgets/controls",
          "model_module_version": "1.5.0",
          "model_name": "ProgressStyleModel",
          "state": {
            "_model_module": "@jupyter-widgets/controls",
            "_model_module_version": "1.5.0",
            "_model_name": "ProgressStyleModel",
            "_view_count": null,
            "_view_module": "@jupyter-widgets/base",
            "_view_module_version": "1.2.0",
            "_view_name": "StyleView",
            "bar_color": null,
            "description_width": ""
          }
        },
        "967a5a99df4f46e68b90a55a456ee38d": {
          "model_module": "@jupyter-widgets/controls",
          "model_module_version": "1.5.0",
          "model_name": "HTMLModel",
          "state": {
            "_dom_classes": [],
            "_model_module": "@jupyter-widgets/controls",
            "_model_module_version": "1.5.0",
            "_model_name": "HTMLModel",
            "_view_count": null,
            "_view_module": "@jupyter-widgets/controls",
            "_view_module_version": "1.5.0",
            "_view_name": "HTMLView",
            "description": "",
            "description_tooltip": null,
            "layout": "IPY_MODEL_730b629bad3c4d35852ea4dc92f7212e",
            "placeholder": "​",
            "style": "IPY_MODEL_c6c2e54d0d2449be8d8d51cc4fea1fc1",
            "value": " 126/126 [01:28&lt;00:00,  1.58it/s]"
          }
        },
        "aa7b01575d144cd1988d0d6354cddda5": {
          "model_module": "@jupyter-widgets/controls",
          "model_module_version": "1.5.0",
          "model_name": "HBoxModel",
          "state": {
            "_dom_classes": [],
            "_model_module": "@jupyter-widgets/controls",
            "_model_module_version": "1.5.0",
            "_model_name": "HBoxModel",
            "_view_count": null,
            "_view_module": "@jupyter-widgets/controls",
            "_view_module_version": "1.5.0",
            "_view_name": "HBoxView",
            "box_style": "",
            "children": [
              "IPY_MODEL_c195d5d4636a4ff4b220daaac2ee5dbd",
              "IPY_MODEL_d48afea66f904c59b482c09f1360c227",
              "IPY_MODEL_967a5a99df4f46e68b90a55a456ee38d"
            ],
            "layout": "IPY_MODEL_789fc01fa92d4a8a9c0b94db677d3211"
          }
        },
        "c195d5d4636a4ff4b220daaac2ee5dbd": {
          "model_module": "@jupyter-widgets/controls",
          "model_module_version": "1.5.0",
          "model_name": "HTMLModel",
          "state": {
            "_dom_classes": [],
            "_model_module": "@jupyter-widgets/controls",
            "_model_module_version": "1.5.0",
            "_model_name": "HTMLModel",
            "_view_count": null,
            "_view_module": "@jupyter-widgets/controls",
            "_view_module_version": "1.5.0",
            "_view_name": "HTMLView",
            "description": "",
            "description_tooltip": null,
            "layout": "IPY_MODEL_896e27023258424ba3de87a4ca732814",
            "placeholder": "​",
            "style": "IPY_MODEL_617c3ae482ba41b7bc3dfeb371d9b33f",
            "value": "100%"
          }
        },
        "c6c2e54d0d2449be8d8d51cc4fea1fc1": {
          "model_module": "@jupyter-widgets/controls",
          "model_module_version": "1.5.0",
          "model_name": "DescriptionStyleModel",
          "state": {
            "_model_module": "@jupyter-widgets/controls",
            "_model_module_version": "1.5.0",
            "_model_name": "DescriptionStyleModel",
            "_view_count": null,
            "_view_module": "@jupyter-widgets/base",
            "_view_module_version": "1.2.0",
            "_view_name": "StyleView",
            "description_width": ""
          }
        },
        "d48afea66f904c59b482c09f1360c227": {
          "model_module": "@jupyter-widgets/controls",
          "model_module_version": "1.5.0",
          "model_name": "FloatProgressModel",
          "state": {
            "_dom_classes": [],
            "_model_module": "@jupyter-widgets/controls",
            "_model_module_version": "1.5.0",
            "_model_name": "FloatProgressModel",
            "_view_count": null,
            "_view_module": "@jupyter-widgets/controls",
            "_view_module_version": "1.5.0",
            "_view_name": "ProgressView",
            "bar_style": "success",
            "description": "",
            "description_tooltip": null,
            "layout": "IPY_MODEL_537dc51ea1ab49519527adb7b11d29cd",
            "max": 126,
            "min": 0,
            "orientation": "horizontal",
            "style": "IPY_MODEL_8f38e8031ce849e4bee40601a83d0d49",
            "value": 126
          }
        },
        "e537747eda4b4b52a4b3f87e1a7b28e5": {
          "model_module": "@jupyter-widgets/controls",
          "model_module_version": "1.5.0",
          "model_name": "HTMLModel",
          "state": {
            "_dom_classes": [],
            "_model_module": "@jupyter-widgets/controls",
            "_model_module_version": "1.5.0",
            "_model_name": "HTMLModel",
            "_view_count": null,
            "_view_module": "@jupyter-widgets/controls",
            "_view_module_version": "1.5.0",
            "_view_name": "HTMLView",
            "description": "",
            "description_tooltip": null,
            "layout": "IPY_MODEL_2e1ee082e95c46d8845b2431166cd735",
            "placeholder": "​",
            "style": "IPY_MODEL_f9c151b6ddec4cbebb14cfabfa9f1489",
            "value": " 2008/2008 [00:05&lt;00:00, 425.73it/s]"
          }
        },
        "f9c151b6ddec4cbebb14cfabfa9f1489": {
          "model_module": "@jupyter-widgets/controls",
          "model_module_version": "1.5.0",
          "model_name": "DescriptionStyleModel",
          "state": {
            "_model_module": "@jupyter-widgets/controls",
            "_model_module_version": "1.5.0",
            "_model_name": "DescriptionStyleModel",
            "_view_count": null,
            "_view_module": "@jupyter-widgets/base",
            "_view_module_version": "1.2.0",
            "_view_name": "StyleView",
            "description_width": ""
          }
        },
        "ffaf08847a6a448b93c5abb7024838ad": {
          "model_module": "@jupyter-widgets/controls",
          "model_module_version": "1.5.0",
          "model_name": "FloatProgressModel",
          "state": {
            "_dom_classes": [],
            "_model_module": "@jupyter-widgets/controls",
            "_model_module_version": "1.5.0",
            "_model_name": "FloatProgressModel",
            "_view_count": null,
            "_view_module": "@jupyter-widgets/controls",
            "_view_module_version": "1.5.0",
            "_view_name": "ProgressView",
            "bar_style": "success",
            "description": "",
            "description_tooltip": null,
            "layout": "IPY_MODEL_546b03e59bdb4ce0a4ee4661829c9983",
            "max": 2008,
            "min": 0,
            "orientation": "horizontal",
            "style": "IPY_MODEL_9640d8f9f03f46a6aebc23c4fa1b17c0",
            "value": 2008
          }
        },
        "af73dfeb2f0b43f2b86d1ad2a69a0886": {
          "model_module": "@jupyter-widgets/controls",
          "model_name": "HBoxModel",
          "model_module_version": "1.5.0",
          "state": {
            "_dom_classes": [],
            "_model_module": "@jupyter-widgets/controls",
            "_model_module_version": "1.5.0",
            "_model_name": "HBoxModel",
            "_view_count": null,
            "_view_module": "@jupyter-widgets/controls",
            "_view_module_version": "1.5.0",
            "_view_name": "HBoxView",
            "box_style": "",
            "children": [
              "IPY_MODEL_23f99f8b90764d259cc9e21988170ffa",
              "IPY_MODEL_76bac59fc5d1449283122724c04e6bc5",
              "IPY_MODEL_60b95d526b1e4d88ac129508a7ee6b46"
            ],
            "layout": "IPY_MODEL_f150e5e3c20846ff89c0d31d7c7e9733"
          }
        },
        "23f99f8b90764d259cc9e21988170ffa": {
          "model_module": "@jupyter-widgets/controls",
          "model_name": "HTMLModel",
          "model_module_version": "1.5.0",
          "state": {
            "_dom_classes": [],
            "_model_module": "@jupyter-widgets/controls",
            "_model_module_version": "1.5.0",
            "_model_name": "HTMLModel",
            "_view_count": null,
            "_view_module": "@jupyter-widgets/controls",
            "_view_module_version": "1.5.0",
            "_view_name": "HTMLView",
            "description": "",
            "description_tooltip": null,
            "layout": "IPY_MODEL_2816a941bf92447493c2bd778e6fbeb8",
            "placeholder": "​",
            "style": "IPY_MODEL_f58cb0d54a794a4090fce99333fd2f4e",
            "value": "README.md: 100%"
          }
        },
        "76bac59fc5d1449283122724c04e6bc5": {
          "model_module": "@jupyter-widgets/controls",
          "model_name": "FloatProgressModel",
          "model_module_version": "1.5.0",
          "state": {
            "_dom_classes": [],
            "_model_module": "@jupyter-widgets/controls",
            "_model_module_version": "1.5.0",
            "_model_name": "FloatProgressModel",
            "_view_count": null,
            "_view_module": "@jupyter-widgets/controls",
            "_view_module_version": "1.5.0",
            "_view_name": "ProgressView",
            "bar_style": "success",
            "description": "",
            "description_tooltip": null,
            "layout": "IPY_MODEL_f9344a0ad1244b919a6c11c2edd0a0f4",
            "max": 13335,
            "min": 0,
            "orientation": "horizontal",
            "style": "IPY_MODEL_7221d97cffe644e9b73063e934821e31",
            "value": 13335
          }
        },
        "60b95d526b1e4d88ac129508a7ee6b46": {
          "model_module": "@jupyter-widgets/controls",
          "model_name": "HTMLModel",
          "model_module_version": "1.5.0",
          "state": {
            "_dom_classes": [],
            "_model_module": "@jupyter-widgets/controls",
            "_model_module_version": "1.5.0",
            "_model_name": "HTMLModel",
            "_view_count": null,
            "_view_module": "@jupyter-widgets/controls",
            "_view_module_version": "1.5.0",
            "_view_name": "HTMLView",
            "description": "",
            "description_tooltip": null,
            "layout": "IPY_MODEL_20fdb300ab7d4afca17dfda1d61256e3",
            "placeholder": "​",
            "style": "IPY_MODEL_b655a050940446a3b618b4cd235b897d",
            "value": " 13.3k/13.3k [00:00&lt;00:00, 627kB/s]"
          }
        },
        "f150e5e3c20846ff89c0d31d7c7e9733": {
          "model_module": "@jupyter-widgets/base",
          "model_name": "LayoutModel",
          "model_module_version": "1.2.0",
          "state": {
            "_model_module": "@jupyter-widgets/base",
            "_model_module_version": "1.2.0",
            "_model_name": "LayoutModel",
            "_view_count": null,
            "_view_module": "@jupyter-widgets/base",
            "_view_module_version": "1.2.0",
            "_view_name": "LayoutView",
            "align_content": null,
            "align_items": null,
            "align_self": null,
            "border": null,
            "bottom": null,
            "display": null,
            "flex": null,
            "flex_flow": null,
            "grid_area": null,
            "grid_auto_columns": null,
            "grid_auto_flow": null,
            "grid_auto_rows": null,
            "grid_column": null,
            "grid_gap": null,
            "grid_row": null,
            "grid_template_areas": null,
            "grid_template_columns": null,
            "grid_template_rows": null,
            "height": null,
            "justify_content": null,
            "justify_items": null,
            "left": null,
            "margin": null,
            "max_height": null,
            "max_width": null,
            "min_height": null,
            "min_width": null,
            "object_fit": null,
            "object_position": null,
            "order": null,
            "overflow": null,
            "overflow_x": null,
            "overflow_y": null,
            "padding": null,
            "right": null,
            "top": null,
            "visibility": null,
            "width": null
          }
        },
        "2816a941bf92447493c2bd778e6fbeb8": {
          "model_module": "@jupyter-widgets/base",
          "model_name": "LayoutModel",
          "model_module_version": "1.2.0",
          "state": {
            "_model_module": "@jupyter-widgets/base",
            "_model_module_version": "1.2.0",
            "_model_name": "LayoutModel",
            "_view_count": null,
            "_view_module": "@jupyter-widgets/base",
            "_view_module_version": "1.2.0",
            "_view_name": "LayoutView",
            "align_content": null,
            "align_items": null,
            "align_self": null,
            "border": null,
            "bottom": null,
            "display": null,
            "flex": null,
            "flex_flow": null,
            "grid_area": null,
            "grid_auto_columns": null,
            "grid_auto_flow": null,
            "grid_auto_rows": null,
            "grid_column": null,
            "grid_gap": null,
            "grid_row": null,
            "grid_template_areas": null,
            "grid_template_columns": null,
            "grid_template_rows": null,
            "height": null,
            "justify_content": null,
            "justify_items": null,
            "left": null,
            "margin": null,
            "max_height": null,
            "max_width": null,
            "min_height": null,
            "min_width": null,
            "object_fit": null,
            "object_position": null,
            "order": null,
            "overflow": null,
            "overflow_x": null,
            "overflow_y": null,
            "padding": null,
            "right": null,
            "top": null,
            "visibility": null,
            "width": null
          }
        },
        "f58cb0d54a794a4090fce99333fd2f4e": {
          "model_module": "@jupyter-widgets/controls",
          "model_name": "DescriptionStyleModel",
          "model_module_version": "1.5.0",
          "state": {
            "_model_module": "@jupyter-widgets/controls",
            "_model_module_version": "1.5.0",
            "_model_name": "DescriptionStyleModel",
            "_view_count": null,
            "_view_module": "@jupyter-widgets/base",
            "_view_module_version": "1.2.0",
            "_view_name": "StyleView",
            "description_width": ""
          }
        },
        "f9344a0ad1244b919a6c11c2edd0a0f4": {
          "model_module": "@jupyter-widgets/base",
          "model_name": "LayoutModel",
          "model_module_version": "1.2.0",
          "state": {
            "_model_module": "@jupyter-widgets/base",
            "_model_module_version": "1.2.0",
            "_model_name": "LayoutModel",
            "_view_count": null,
            "_view_module": "@jupyter-widgets/base",
            "_view_module_version": "1.2.0",
            "_view_name": "LayoutView",
            "align_content": null,
            "align_items": null,
            "align_self": null,
            "border": null,
            "bottom": null,
            "display": null,
            "flex": null,
            "flex_flow": null,
            "grid_area": null,
            "grid_auto_columns": null,
            "grid_auto_flow": null,
            "grid_auto_rows": null,
            "grid_column": null,
            "grid_gap": null,
            "grid_row": null,
            "grid_template_areas": null,
            "grid_template_columns": null,
            "grid_template_rows": null,
            "height": null,
            "justify_content": null,
            "justify_items": null,
            "left": null,
            "margin": null,
            "max_height": null,
            "max_width": null,
            "min_height": null,
            "min_width": null,
            "object_fit": null,
            "object_position": null,
            "order": null,
            "overflow": null,
            "overflow_x": null,
            "overflow_y": null,
            "padding": null,
            "right": null,
            "top": null,
            "visibility": null,
            "width": null
          }
        },
        "7221d97cffe644e9b73063e934821e31": {
          "model_module": "@jupyter-widgets/controls",
          "model_name": "ProgressStyleModel",
          "model_module_version": "1.5.0",
          "state": {
            "_model_module": "@jupyter-widgets/controls",
            "_model_module_version": "1.5.0",
            "_model_name": "ProgressStyleModel",
            "_view_count": null,
            "_view_module": "@jupyter-widgets/base",
            "_view_module_version": "1.2.0",
            "_view_name": "StyleView",
            "bar_color": null,
            "description_width": ""
          }
        },
        "20fdb300ab7d4afca17dfda1d61256e3": {
          "model_module": "@jupyter-widgets/base",
          "model_name": "LayoutModel",
          "model_module_version": "1.2.0",
          "state": {
            "_model_module": "@jupyter-widgets/base",
            "_model_module_version": "1.2.0",
            "_model_name": "LayoutModel",
            "_view_count": null,
            "_view_module": "@jupyter-widgets/base",
            "_view_module_version": "1.2.0",
            "_view_name": "LayoutView",
            "align_content": null,
            "align_items": null,
            "align_self": null,
            "border": null,
            "bottom": null,
            "display": null,
            "flex": null,
            "flex_flow": null,
            "grid_area": null,
            "grid_auto_columns": null,
            "grid_auto_flow": null,
            "grid_auto_rows": null,
            "grid_column": null,
            "grid_gap": null,
            "grid_row": null,
            "grid_template_areas": null,
            "grid_template_columns": null,
            "grid_template_rows": null,
            "height": null,
            "justify_content": null,
            "justify_items": null,
            "left": null,
            "margin": null,
            "max_height": null,
            "max_width": null,
            "min_height": null,
            "min_width": null,
            "object_fit": null,
            "object_position": null,
            "order": null,
            "overflow": null,
            "overflow_x": null,
            "overflow_y": null,
            "padding": null,
            "right": null,
            "top": null,
            "visibility": null,
            "width": null
          }
        },
        "b655a050940446a3b618b4cd235b897d": {
          "model_module": "@jupyter-widgets/controls",
          "model_name": "DescriptionStyleModel",
          "model_module_version": "1.5.0",
          "state": {
            "_model_module": "@jupyter-widgets/controls",
            "_model_module_version": "1.5.0",
            "_model_name": "DescriptionStyleModel",
            "_view_count": null,
            "_view_module": "@jupyter-widgets/base",
            "_view_module_version": "1.2.0",
            "_view_name": "StyleView",
            "description_width": ""
          }
        },
        "c408ae46f1f74bd9afad5a908a53c2d8": {
          "model_module": "@jupyter-widgets/controls",
          "model_name": "HBoxModel",
          "model_module_version": "1.5.0",
          "state": {
            "_dom_classes": [],
            "_model_module": "@jupyter-widgets/controls",
            "_model_module_version": "1.5.0",
            "_model_name": "HBoxModel",
            "_view_count": null,
            "_view_module": "@jupyter-widgets/controls",
            "_view_module_version": "1.5.0",
            "_view_name": "HBoxView",
            "box_style": "",
            "children": [
              "IPY_MODEL_395e6aeb80a54856973f9c6d7ca71118",
              "IPY_MODEL_23d6341fe8374de5b3fae172cd5d65d1",
              "IPY_MODEL_343e3393ce4f46a8b98500ff5227710d"
            ],
            "layout": "IPY_MODEL_72fc4ef2537b4b53a7b349472cef4771"
          }
        },
        "395e6aeb80a54856973f9c6d7ca71118": {
          "model_module": "@jupyter-widgets/controls",
          "model_name": "HTMLModel",
          "model_module_version": "1.5.0",
          "state": {
            "_dom_classes": [],
            "_model_module": "@jupyter-widgets/controls",
            "_model_module_version": "1.5.0",
            "_model_name": "HTMLModel",
            "_view_count": null,
            "_view_module": "@jupyter-widgets/controls",
            "_view_module_version": "1.5.0",
            "_view_name": "HTMLView",
            "description": "",
            "description_tooltip": null,
            "layout": "IPY_MODEL_445ac48c107f4fe58ba2fccc0f03d53c",
            "placeholder": "​",
            "style": "IPY_MODEL_4bc24367d0c0424fb25ad3c8771edcb8",
            "value": "spellcheck_benchmark.py: 100%"
          }
        },
        "23d6341fe8374de5b3fae172cd5d65d1": {
          "model_module": "@jupyter-widgets/controls",
          "model_name": "FloatProgressModel",
          "model_module_version": "1.5.0",
          "state": {
            "_dom_classes": [],
            "_model_module": "@jupyter-widgets/controls",
            "_model_module_version": "1.5.0",
            "_model_name": "FloatProgressModel",
            "_view_count": null,
            "_view_module": "@jupyter-widgets/controls",
            "_view_module_version": "1.5.0",
            "_view_name": "ProgressView",
            "bar_style": "success",
            "description": "",
            "description_tooltip": null,
            "layout": "IPY_MODEL_fd90d38ac0bd4091bb4bd4b9e8827b4f",
            "max": 9069,
            "min": 0,
            "orientation": "horizontal",
            "style": "IPY_MODEL_fc99205c6762492fad42af57392ff5e9",
            "value": 9069
          }
        },
        "343e3393ce4f46a8b98500ff5227710d": {
          "model_module": "@jupyter-widgets/controls",
          "model_name": "HTMLModel",
          "model_module_version": "1.5.0",
          "state": {
            "_dom_classes": [],
            "_model_module": "@jupyter-widgets/controls",
            "_model_module_version": "1.5.0",
            "_model_name": "HTMLModel",
            "_view_count": null,
            "_view_module": "@jupyter-widgets/controls",
            "_view_module_version": "1.5.0",
            "_view_name": "HTMLView",
            "description": "",
            "description_tooltip": null,
            "layout": "IPY_MODEL_5022b7aa930c4d7db6f445f7a863f52f",
            "placeholder": "​",
            "style": "IPY_MODEL_0a04a25c44e44d949a9b805ec82568c2",
            "value": " 9.07k/9.07k [00:00&lt;00:00, 494kB/s]"
          }
        },
        "72fc4ef2537b4b53a7b349472cef4771": {
          "model_module": "@jupyter-widgets/base",
          "model_name": "LayoutModel",
          "model_module_version": "1.2.0",
          "state": {
            "_model_module": "@jupyter-widgets/base",
            "_model_module_version": "1.2.0",
            "_model_name": "LayoutModel",
            "_view_count": null,
            "_view_module": "@jupyter-widgets/base",
            "_view_module_version": "1.2.0",
            "_view_name": "LayoutView",
            "align_content": null,
            "align_items": null,
            "align_self": null,
            "border": null,
            "bottom": null,
            "display": null,
            "flex": null,
            "flex_flow": null,
            "grid_area": null,
            "grid_auto_columns": null,
            "grid_auto_flow": null,
            "grid_auto_rows": null,
            "grid_column": null,
            "grid_gap": null,
            "grid_row": null,
            "grid_template_areas": null,
            "grid_template_columns": null,
            "grid_template_rows": null,
            "height": null,
            "justify_content": null,
            "justify_items": null,
            "left": null,
            "margin": null,
            "max_height": null,
            "max_width": null,
            "min_height": null,
            "min_width": null,
            "object_fit": null,
            "object_position": null,
            "order": null,
            "overflow": null,
            "overflow_x": null,
            "overflow_y": null,
            "padding": null,
            "right": null,
            "top": null,
            "visibility": null,
            "width": null
          }
        },
        "445ac48c107f4fe58ba2fccc0f03d53c": {
          "model_module": "@jupyter-widgets/base",
          "model_name": "LayoutModel",
          "model_module_version": "1.2.0",
          "state": {
            "_model_module": "@jupyter-widgets/base",
            "_model_module_version": "1.2.0",
            "_model_name": "LayoutModel",
            "_view_count": null,
            "_view_module": "@jupyter-widgets/base",
            "_view_module_version": "1.2.0",
            "_view_name": "LayoutView",
            "align_content": null,
            "align_items": null,
            "align_self": null,
            "border": null,
            "bottom": null,
            "display": null,
            "flex": null,
            "flex_flow": null,
            "grid_area": null,
            "grid_auto_columns": null,
            "grid_auto_flow": null,
            "grid_auto_rows": null,
            "grid_column": null,
            "grid_gap": null,
            "grid_row": null,
            "grid_template_areas": null,
            "grid_template_columns": null,
            "grid_template_rows": null,
            "height": null,
            "justify_content": null,
            "justify_items": null,
            "left": null,
            "margin": null,
            "max_height": null,
            "max_width": null,
            "min_height": null,
            "min_width": null,
            "object_fit": null,
            "object_position": null,
            "order": null,
            "overflow": null,
            "overflow_x": null,
            "overflow_y": null,
            "padding": null,
            "right": null,
            "top": null,
            "visibility": null,
            "width": null
          }
        },
        "4bc24367d0c0424fb25ad3c8771edcb8": {
          "model_module": "@jupyter-widgets/controls",
          "model_name": "DescriptionStyleModel",
          "model_module_version": "1.5.0",
          "state": {
            "_model_module": "@jupyter-widgets/controls",
            "_model_module_version": "1.5.0",
            "_model_name": "DescriptionStyleModel",
            "_view_count": null,
            "_view_module": "@jupyter-widgets/base",
            "_view_module_version": "1.2.0",
            "_view_name": "StyleView",
            "description_width": ""
          }
        },
        "fd90d38ac0bd4091bb4bd4b9e8827b4f": {
          "model_module": "@jupyter-widgets/base",
          "model_name": "LayoutModel",
          "model_module_version": "1.2.0",
          "state": {
            "_model_module": "@jupyter-widgets/base",
            "_model_module_version": "1.2.0",
            "_model_name": "LayoutModel",
            "_view_count": null,
            "_view_module": "@jupyter-widgets/base",
            "_view_module_version": "1.2.0",
            "_view_name": "LayoutView",
            "align_content": null,
            "align_items": null,
            "align_self": null,
            "border": null,
            "bottom": null,
            "display": null,
            "flex": null,
            "flex_flow": null,
            "grid_area": null,
            "grid_auto_columns": null,
            "grid_auto_flow": null,
            "grid_auto_rows": null,
            "grid_column": null,
            "grid_gap": null,
            "grid_row": null,
            "grid_template_areas": null,
            "grid_template_columns": null,
            "grid_template_rows": null,
            "height": null,
            "justify_content": null,
            "justify_items": null,
            "left": null,
            "margin": null,
            "max_height": null,
            "max_width": null,
            "min_height": null,
            "min_width": null,
            "object_fit": null,
            "object_position": null,
            "order": null,
            "overflow": null,
            "overflow_x": null,
            "overflow_y": null,
            "padding": null,
            "right": null,
            "top": null,
            "visibility": null,
            "width": null
          }
        },
        "fc99205c6762492fad42af57392ff5e9": {
          "model_module": "@jupyter-widgets/controls",
          "model_name": "ProgressStyleModel",
          "model_module_version": "1.5.0",
          "state": {
            "_model_module": "@jupyter-widgets/controls",
            "_model_module_version": "1.5.0",
            "_model_name": "ProgressStyleModel",
            "_view_count": null,
            "_view_module": "@jupyter-widgets/base",
            "_view_module_version": "1.2.0",
            "_view_name": "StyleView",
            "bar_color": null,
            "description_width": ""
          }
        },
        "5022b7aa930c4d7db6f445f7a863f52f": {
          "model_module": "@jupyter-widgets/base",
          "model_name": "LayoutModel",
          "model_module_version": "1.2.0",
          "state": {
            "_model_module": "@jupyter-widgets/base",
            "_model_module_version": "1.2.0",
            "_model_name": "LayoutModel",
            "_view_count": null,
            "_view_module": "@jupyter-widgets/base",
            "_view_module_version": "1.2.0",
            "_view_name": "LayoutView",
            "align_content": null,
            "align_items": null,
            "align_self": null,
            "border": null,
            "bottom": null,
            "display": null,
            "flex": null,
            "flex_flow": null,
            "grid_area": null,
            "grid_auto_columns": null,
            "grid_auto_flow": null,
            "grid_auto_rows": null,
            "grid_column": null,
            "grid_gap": null,
            "grid_row": null,
            "grid_template_areas": null,
            "grid_template_columns": null,
            "grid_template_rows": null,
            "height": null,
            "justify_content": null,
            "justify_items": null,
            "left": null,
            "margin": null,
            "max_height": null,
            "max_width": null,
            "min_height": null,
            "min_width": null,
            "object_fit": null,
            "object_position": null,
            "order": null,
            "overflow": null,
            "overflow_x": null,
            "overflow_y": null,
            "padding": null,
            "right": null,
            "top": null,
            "visibility": null,
            "width": null
          }
        },
        "0a04a25c44e44d949a9b805ec82568c2": {
          "model_module": "@jupyter-widgets/controls",
          "model_name": "DescriptionStyleModel",
          "model_module_version": "1.5.0",
          "state": {
            "_model_module": "@jupyter-widgets/controls",
            "_model_module_version": "1.5.0",
            "_model_name": "DescriptionStyleModel",
            "_view_count": null,
            "_view_module": "@jupyter-widgets/base",
            "_view_module_version": "1.2.0",
            "_view_name": "StyleView",
            "description_width": ""
          }
        },
        "45674bbfeac14bd0b26cddb496e7a8a0": {
          "model_module": "@jupyter-widgets/controls",
          "model_name": "HBoxModel",
          "model_module_version": "1.5.0",
          "state": {
            "_dom_classes": [],
            "_model_module": "@jupyter-widgets/controls",
            "_model_module_version": "1.5.0",
            "_model_name": "HBoxModel",
            "_view_count": null,
            "_view_module": "@jupyter-widgets/controls",
            "_view_module_version": "1.5.0",
            "_view_name": "HBoxView",
            "box_style": "",
            "children": [
              "IPY_MODEL_a8fd135fc6e548238fa6cf6b39778bad",
              "IPY_MODEL_7da8dd1675bc42839cd823db17adbf3f",
              "IPY_MODEL_a0e890a2908f4e398da99aba7c907661"
            ],
            "layout": "IPY_MODEL_42bd6e2dee454fb1ab2aa7017c746bbc"
          }
        },
        "a8fd135fc6e548238fa6cf6b39778bad": {
          "model_module": "@jupyter-widgets/controls",
          "model_name": "HTMLModel",
          "model_module_version": "1.5.0",
          "state": {
            "_dom_classes": [],
            "_model_module": "@jupyter-widgets/controls",
            "_model_module_version": "1.5.0",
            "_model_name": "HTMLModel",
            "_view_count": null,
            "_view_module": "@jupyter-widgets/controls",
            "_view_module_version": "1.5.0",
            "_view_name": "HTMLView",
            "description": "",
            "description_tooltip": null,
            "layout": "IPY_MODEL_68a057216c694bdc96b84f78f0d78bf5",
            "placeholder": "​",
            "style": "IPY_MODEL_9394030affcf422f9e9ca2c00e1b65a3",
            "value": "data/RUSpellRU/test.json: 100%"
          }
        },
        "7da8dd1675bc42839cd823db17adbf3f": {
          "model_module": "@jupyter-widgets/controls",
          "model_name": "FloatProgressModel",
          "model_module_version": "1.5.0",
          "state": {
            "_dom_classes": [],
            "_model_module": "@jupyter-widgets/controls",
            "_model_module_version": "1.5.0",
            "_model_name": "FloatProgressModel",
            "_view_count": null,
            "_view_module": "@jupyter-widgets/controls",
            "_view_module_version": "1.5.0",
            "_view_name": "ProgressView",
            "bar_style": "success",
            "description": "",
            "description_tooltip": null,
            "layout": "IPY_MODEL_54deabc672f84d1ab648569fbe868306",
            "max": 1946556,
            "min": 0,
            "orientation": "horizontal",
            "style": "IPY_MODEL_bad279d419194086b243e92142b7051d",
            "value": 1946556
          }
        },
        "a0e890a2908f4e398da99aba7c907661": {
          "model_module": "@jupyter-widgets/controls",
          "model_name": "HTMLModel",
          "model_module_version": "1.5.0",
          "state": {
            "_dom_classes": [],
            "_model_module": "@jupyter-widgets/controls",
            "_model_module_version": "1.5.0",
            "_model_name": "HTMLModel",
            "_view_count": null,
            "_view_module": "@jupyter-widgets/controls",
            "_view_module_version": "1.5.0",
            "_view_name": "HTMLView",
            "description": "",
            "description_tooltip": null,
            "layout": "IPY_MODEL_171e41ce26d24d85812eb19568bda32f",
            "placeholder": "​",
            "style": "IPY_MODEL_1757698d40654616a395f31cbef621ff",
            "value": " 1.95M/1.95M [00:00&lt;00:00, 4.74MB/s]"
          }
        },
        "42bd6e2dee454fb1ab2aa7017c746bbc": {
          "model_module": "@jupyter-widgets/base",
          "model_name": "LayoutModel",
          "model_module_version": "1.2.0",
          "state": {
            "_model_module": "@jupyter-widgets/base",
            "_model_module_version": "1.2.0",
            "_model_name": "LayoutModel",
            "_view_count": null,
            "_view_module": "@jupyter-widgets/base",
            "_view_module_version": "1.2.0",
            "_view_name": "LayoutView",
            "align_content": null,
            "align_items": null,
            "align_self": null,
            "border": null,
            "bottom": null,
            "display": null,
            "flex": null,
            "flex_flow": null,
            "grid_area": null,
            "grid_auto_columns": null,
            "grid_auto_flow": null,
            "grid_auto_rows": null,
            "grid_column": null,
            "grid_gap": null,
            "grid_row": null,
            "grid_template_areas": null,
            "grid_template_columns": null,
            "grid_template_rows": null,
            "height": null,
            "justify_content": null,
            "justify_items": null,
            "left": null,
            "margin": null,
            "max_height": null,
            "max_width": null,
            "min_height": null,
            "min_width": null,
            "object_fit": null,
            "object_position": null,
            "order": null,
            "overflow": null,
            "overflow_x": null,
            "overflow_y": null,
            "padding": null,
            "right": null,
            "top": null,
            "visibility": null,
            "width": null
          }
        },
        "68a057216c694bdc96b84f78f0d78bf5": {
          "model_module": "@jupyter-widgets/base",
          "model_name": "LayoutModel",
          "model_module_version": "1.2.0",
          "state": {
            "_model_module": "@jupyter-widgets/base",
            "_model_module_version": "1.2.0",
            "_model_name": "LayoutModel",
            "_view_count": null,
            "_view_module": "@jupyter-widgets/base",
            "_view_module_version": "1.2.0",
            "_view_name": "LayoutView",
            "align_content": null,
            "align_items": null,
            "align_self": null,
            "border": null,
            "bottom": null,
            "display": null,
            "flex": null,
            "flex_flow": null,
            "grid_area": null,
            "grid_auto_columns": null,
            "grid_auto_flow": null,
            "grid_auto_rows": null,
            "grid_column": null,
            "grid_gap": null,
            "grid_row": null,
            "grid_template_areas": null,
            "grid_template_columns": null,
            "grid_template_rows": null,
            "height": null,
            "justify_content": null,
            "justify_items": null,
            "left": null,
            "margin": null,
            "max_height": null,
            "max_width": null,
            "min_height": null,
            "min_width": null,
            "object_fit": null,
            "object_position": null,
            "order": null,
            "overflow": null,
            "overflow_x": null,
            "overflow_y": null,
            "padding": null,
            "right": null,
            "top": null,
            "visibility": null,
            "width": null
          }
        },
        "9394030affcf422f9e9ca2c00e1b65a3": {
          "model_module": "@jupyter-widgets/controls",
          "model_name": "DescriptionStyleModel",
          "model_module_version": "1.5.0",
          "state": {
            "_model_module": "@jupyter-widgets/controls",
            "_model_module_version": "1.5.0",
            "_model_name": "DescriptionStyleModel",
            "_view_count": null,
            "_view_module": "@jupyter-widgets/base",
            "_view_module_version": "1.2.0",
            "_view_name": "StyleView",
            "description_width": ""
          }
        },
        "54deabc672f84d1ab648569fbe868306": {
          "model_module": "@jupyter-widgets/base",
          "model_name": "LayoutModel",
          "model_module_version": "1.2.0",
          "state": {
            "_model_module": "@jupyter-widgets/base",
            "_model_module_version": "1.2.0",
            "_model_name": "LayoutModel",
            "_view_count": null,
            "_view_module": "@jupyter-widgets/base",
            "_view_module_version": "1.2.0",
            "_view_name": "LayoutView",
            "align_content": null,
            "align_items": null,
            "align_self": null,
            "border": null,
            "bottom": null,
            "display": null,
            "flex": null,
            "flex_flow": null,
            "grid_area": null,
            "grid_auto_columns": null,
            "grid_auto_flow": null,
            "grid_auto_rows": null,
            "grid_column": null,
            "grid_gap": null,
            "grid_row": null,
            "grid_template_areas": null,
            "grid_template_columns": null,
            "grid_template_rows": null,
            "height": null,
            "justify_content": null,
            "justify_items": null,
            "left": null,
            "margin": null,
            "max_height": null,
            "max_width": null,
            "min_height": null,
            "min_width": null,
            "object_fit": null,
            "object_position": null,
            "order": null,
            "overflow": null,
            "overflow_x": null,
            "overflow_y": null,
            "padding": null,
            "right": null,
            "top": null,
            "visibility": null,
            "width": null
          }
        },
        "bad279d419194086b243e92142b7051d": {
          "model_module": "@jupyter-widgets/controls",
          "model_name": "ProgressStyleModel",
          "model_module_version": "1.5.0",
          "state": {
            "_model_module": "@jupyter-widgets/controls",
            "_model_module_version": "1.5.0",
            "_model_name": "ProgressStyleModel",
            "_view_count": null,
            "_view_module": "@jupyter-widgets/base",
            "_view_module_version": "1.2.0",
            "_view_name": "StyleView",
            "bar_color": null,
            "description_width": ""
          }
        },
        "171e41ce26d24d85812eb19568bda32f": {
          "model_module": "@jupyter-widgets/base",
          "model_name": "LayoutModel",
          "model_module_version": "1.2.0",
          "state": {
            "_model_module": "@jupyter-widgets/base",
            "_model_module_version": "1.2.0",
            "_model_name": "LayoutModel",
            "_view_count": null,
            "_view_module": "@jupyter-widgets/base",
            "_view_module_version": "1.2.0",
            "_view_name": "LayoutView",
            "align_content": null,
            "align_items": null,
            "align_self": null,
            "border": null,
            "bottom": null,
            "display": null,
            "flex": null,
            "flex_flow": null,
            "grid_area": null,
            "grid_auto_columns": null,
            "grid_auto_flow": null,
            "grid_auto_rows": null,
            "grid_column": null,
            "grid_gap": null,
            "grid_row": null,
            "grid_template_areas": null,
            "grid_template_columns": null,
            "grid_template_rows": null,
            "height": null,
            "justify_content": null,
            "justify_items": null,
            "left": null,
            "margin": null,
            "max_height": null,
            "max_width": null,
            "min_height": null,
            "min_width": null,
            "object_fit": null,
            "object_position": null,
            "order": null,
            "overflow": null,
            "overflow_x": null,
            "overflow_y": null,
            "padding": null,
            "right": null,
            "top": null,
            "visibility": null,
            "width": null
          }
        },
        "1757698d40654616a395f31cbef621ff": {
          "model_module": "@jupyter-widgets/controls",
          "model_name": "DescriptionStyleModel",
          "model_module_version": "1.5.0",
          "state": {
            "_model_module": "@jupyter-widgets/controls",
            "_model_module_version": "1.5.0",
            "_model_name": "DescriptionStyleModel",
            "_view_count": null,
            "_view_module": "@jupyter-widgets/base",
            "_view_module_version": "1.2.0",
            "_view_name": "StyleView",
            "description_width": ""
          }
        },
        "0d636278e5f8408a9237f9556ec6af8c": {
          "model_module": "@jupyter-widgets/controls",
          "model_name": "HBoxModel",
          "model_module_version": "1.5.0",
          "state": {
            "_dom_classes": [],
            "_model_module": "@jupyter-widgets/controls",
            "_model_module_version": "1.5.0",
            "_model_name": "HBoxModel",
            "_view_count": null,
            "_view_module": "@jupyter-widgets/controls",
            "_view_module_version": "1.5.0",
            "_view_name": "HBoxView",
            "box_style": "",
            "children": [
              "IPY_MODEL_eecb329dd4844ce983390263cd409622",
              "IPY_MODEL_62c303092ee844c6b4b224c7a4fdb14e",
              "IPY_MODEL_ac6801b6c85546e3bb68808b458d2a89"
            ],
            "layout": "IPY_MODEL_4bebe66a33e945a892e6feb7d95e5ef7"
          }
        },
        "eecb329dd4844ce983390263cd409622": {
          "model_module": "@jupyter-widgets/controls",
          "model_name": "HTMLModel",
          "model_module_version": "1.5.0",
          "state": {
            "_dom_classes": [],
            "_model_module": "@jupyter-widgets/controls",
            "_model_module_version": "1.5.0",
            "_model_name": "HTMLModel",
            "_view_count": null,
            "_view_module": "@jupyter-widgets/controls",
            "_view_module_version": "1.5.0",
            "_view_name": "HTMLView",
            "description": "",
            "description_tooltip": null,
            "layout": "IPY_MODEL_7580324b769c45e7aee88ec40234f262",
            "placeholder": "​",
            "style": "IPY_MODEL_63d6e654f13d494eacfb7359d8dcb041",
            "value": "data/RUSpellRU/train.json: 100%"
          }
        },
        "62c303092ee844c6b4b224c7a4fdb14e": {
          "model_module": "@jupyter-widgets/controls",
          "model_name": "FloatProgressModel",
          "model_module_version": "1.5.0",
          "state": {
            "_dom_classes": [],
            "_model_module": "@jupyter-widgets/controls",
            "_model_module_version": "1.5.0",
            "_model_name": "FloatProgressModel",
            "_view_count": null,
            "_view_module": "@jupyter-widgets/controls",
            "_view_module_version": "1.5.0",
            "_view_name": "ProgressView",
            "bar_style": "success",
            "description": "",
            "description_tooltip": null,
            "layout": "IPY_MODEL_ff46162010d74b0199b2784da08a6d2f",
            "max": 1692992,
            "min": 0,
            "orientation": "horizontal",
            "style": "IPY_MODEL_a5a37eeffd564737b66776d1e3b53591",
            "value": 1692992
          }
        },
        "ac6801b6c85546e3bb68808b458d2a89": {
          "model_module": "@jupyter-widgets/controls",
          "model_name": "HTMLModel",
          "model_module_version": "1.5.0",
          "state": {
            "_dom_classes": [],
            "_model_module": "@jupyter-widgets/controls",
            "_model_module_version": "1.5.0",
            "_model_name": "HTMLModel",
            "_view_count": null,
            "_view_module": "@jupyter-widgets/controls",
            "_view_module_version": "1.5.0",
            "_view_name": "HTMLView",
            "description": "",
            "description_tooltip": null,
            "layout": "IPY_MODEL_2368cfb6341942629dce0332c7ec7482",
            "placeholder": "​",
            "style": "IPY_MODEL_b8453acec8d8416b8e00d2783387a73d",
            "value": " 1.69M/1.69M [00:00&lt;00:00, 4.09MB/s]"
          }
        },
        "4bebe66a33e945a892e6feb7d95e5ef7": {
          "model_module": "@jupyter-widgets/base",
          "model_name": "LayoutModel",
          "model_module_version": "1.2.0",
          "state": {
            "_model_module": "@jupyter-widgets/base",
            "_model_module_version": "1.2.0",
            "_model_name": "LayoutModel",
            "_view_count": null,
            "_view_module": "@jupyter-widgets/base",
            "_view_module_version": "1.2.0",
            "_view_name": "LayoutView",
            "align_content": null,
            "align_items": null,
            "align_self": null,
            "border": null,
            "bottom": null,
            "display": null,
            "flex": null,
            "flex_flow": null,
            "grid_area": null,
            "grid_auto_columns": null,
            "grid_auto_flow": null,
            "grid_auto_rows": null,
            "grid_column": null,
            "grid_gap": null,
            "grid_row": null,
            "grid_template_areas": null,
            "grid_template_columns": null,
            "grid_template_rows": null,
            "height": null,
            "justify_content": null,
            "justify_items": null,
            "left": null,
            "margin": null,
            "max_height": null,
            "max_width": null,
            "min_height": null,
            "min_width": null,
            "object_fit": null,
            "object_position": null,
            "order": null,
            "overflow": null,
            "overflow_x": null,
            "overflow_y": null,
            "padding": null,
            "right": null,
            "top": null,
            "visibility": null,
            "width": null
          }
        },
        "7580324b769c45e7aee88ec40234f262": {
          "model_module": "@jupyter-widgets/base",
          "model_name": "LayoutModel",
          "model_module_version": "1.2.0",
          "state": {
            "_model_module": "@jupyter-widgets/base",
            "_model_module_version": "1.2.0",
            "_model_name": "LayoutModel",
            "_view_count": null,
            "_view_module": "@jupyter-widgets/base",
            "_view_module_version": "1.2.0",
            "_view_name": "LayoutView",
            "align_content": null,
            "align_items": null,
            "align_self": null,
            "border": null,
            "bottom": null,
            "display": null,
            "flex": null,
            "flex_flow": null,
            "grid_area": null,
            "grid_auto_columns": null,
            "grid_auto_flow": null,
            "grid_auto_rows": null,
            "grid_column": null,
            "grid_gap": null,
            "grid_row": null,
            "grid_template_areas": null,
            "grid_template_columns": null,
            "grid_template_rows": null,
            "height": null,
            "justify_content": null,
            "justify_items": null,
            "left": null,
            "margin": null,
            "max_height": null,
            "max_width": null,
            "min_height": null,
            "min_width": null,
            "object_fit": null,
            "object_position": null,
            "order": null,
            "overflow": null,
            "overflow_x": null,
            "overflow_y": null,
            "padding": null,
            "right": null,
            "top": null,
            "visibility": null,
            "width": null
          }
        },
        "63d6e654f13d494eacfb7359d8dcb041": {
          "model_module": "@jupyter-widgets/controls",
          "model_name": "DescriptionStyleModel",
          "model_module_version": "1.5.0",
          "state": {
            "_model_module": "@jupyter-widgets/controls",
            "_model_module_version": "1.5.0",
            "_model_name": "DescriptionStyleModel",
            "_view_count": null,
            "_view_module": "@jupyter-widgets/base",
            "_view_module_version": "1.2.0",
            "_view_name": "StyleView",
            "description_width": ""
          }
        },
        "ff46162010d74b0199b2784da08a6d2f": {
          "model_module": "@jupyter-widgets/base",
          "model_name": "LayoutModel",
          "model_module_version": "1.2.0",
          "state": {
            "_model_module": "@jupyter-widgets/base",
            "_model_module_version": "1.2.0",
            "_model_name": "LayoutModel",
            "_view_count": null,
            "_view_module": "@jupyter-widgets/base",
            "_view_module_version": "1.2.0",
            "_view_name": "LayoutView",
            "align_content": null,
            "align_items": null,
            "align_self": null,
            "border": null,
            "bottom": null,
            "display": null,
            "flex": null,
            "flex_flow": null,
            "grid_area": null,
            "grid_auto_columns": null,
            "grid_auto_flow": null,
            "grid_auto_rows": null,
            "grid_column": null,
            "grid_gap": null,
            "grid_row": null,
            "grid_template_areas": null,
            "grid_template_columns": null,
            "grid_template_rows": null,
            "height": null,
            "justify_content": null,
            "justify_items": null,
            "left": null,
            "margin": null,
            "max_height": null,
            "max_width": null,
            "min_height": null,
            "min_width": null,
            "object_fit": null,
            "object_position": null,
            "order": null,
            "overflow": null,
            "overflow_x": null,
            "overflow_y": null,
            "padding": null,
            "right": null,
            "top": null,
            "visibility": null,
            "width": null
          }
        },
        "a5a37eeffd564737b66776d1e3b53591": {
          "model_module": "@jupyter-widgets/controls",
          "model_name": "ProgressStyleModel",
          "model_module_version": "1.5.0",
          "state": {
            "_model_module": "@jupyter-widgets/controls",
            "_model_module_version": "1.5.0",
            "_model_name": "ProgressStyleModel",
            "_view_count": null,
            "_view_module": "@jupyter-widgets/base",
            "_view_module_version": "1.2.0",
            "_view_name": "StyleView",
            "bar_color": null,
            "description_width": ""
          }
        },
        "2368cfb6341942629dce0332c7ec7482": {
          "model_module": "@jupyter-widgets/base",
          "model_name": "LayoutModel",
          "model_module_version": "1.2.0",
          "state": {
            "_model_module": "@jupyter-widgets/base",
            "_model_module_version": "1.2.0",
            "_model_name": "LayoutModel",
            "_view_count": null,
            "_view_module": "@jupyter-widgets/base",
            "_view_module_version": "1.2.0",
            "_view_name": "LayoutView",
            "align_content": null,
            "align_items": null,
            "align_self": null,
            "border": null,
            "bottom": null,
            "display": null,
            "flex": null,
            "flex_flow": null,
            "grid_area": null,
            "grid_auto_columns": null,
            "grid_auto_flow": null,
            "grid_auto_rows": null,
            "grid_column": null,
            "grid_gap": null,
            "grid_row": null,
            "grid_template_areas": null,
            "grid_template_columns": null,
            "grid_template_rows": null,
            "height": null,
            "justify_content": null,
            "justify_items": null,
            "left": null,
            "margin": null,
            "max_height": null,
            "max_width": null,
            "min_height": null,
            "min_width": null,
            "object_fit": null,
            "object_position": null,
            "order": null,
            "overflow": null,
            "overflow_x": null,
            "overflow_y": null,
            "padding": null,
            "right": null,
            "top": null,
            "visibility": null,
            "width": null
          }
        },
        "b8453acec8d8416b8e00d2783387a73d": {
          "model_module": "@jupyter-widgets/controls",
          "model_name": "DescriptionStyleModel",
          "model_module_version": "1.5.0",
          "state": {
            "_model_module": "@jupyter-widgets/controls",
            "_model_module_version": "1.5.0",
            "_model_name": "DescriptionStyleModel",
            "_view_count": null,
            "_view_module": "@jupyter-widgets/base",
            "_view_module_version": "1.2.0",
            "_view_name": "StyleView",
            "description_width": ""
          }
        },
        "2c52201ddfe0485f8557925aeffb5562": {
          "model_module": "@jupyter-widgets/controls",
          "model_name": "HBoxModel",
          "model_module_version": "1.5.0",
          "state": {
            "_dom_classes": [],
            "_model_module": "@jupyter-widgets/controls",
            "_model_module_version": "1.5.0",
            "_model_name": "HBoxModel",
            "_view_count": null,
            "_view_module": "@jupyter-widgets/controls",
            "_view_module_version": "1.5.0",
            "_view_name": "HBoxView",
            "box_style": "",
            "children": [
              "IPY_MODEL_11b17c5f7d604621b2315956b67ad1e1",
              "IPY_MODEL_6b5d81db204447c3843725f06e6bd831",
              "IPY_MODEL_0e098765cbd7403e8299a6afc551180d"
            ],
            "layout": "IPY_MODEL_ba9ccc3e2795410586bb214204dabfdb"
          }
        },
        "11b17c5f7d604621b2315956b67ad1e1": {
          "model_module": "@jupyter-widgets/controls",
          "model_name": "HTMLModel",
          "model_module_version": "1.5.0",
          "state": {
            "_dom_classes": [],
            "_model_module": "@jupyter-widgets/controls",
            "_model_module_version": "1.5.0",
            "_model_name": "HTMLModel",
            "_view_count": null,
            "_view_module": "@jupyter-widgets/controls",
            "_view_module_version": "1.5.0",
            "_view_name": "HTMLView",
            "description": "",
            "description_tooltip": null,
            "layout": "IPY_MODEL_7912d38278c94216ae52128ea3b918af",
            "placeholder": "​",
            "style": "IPY_MODEL_8bd7b0ac312e4c6b98bb1bc515c689b8",
            "value": "Generating train split: "
          }
        },
        "6b5d81db204447c3843725f06e6bd831": {
          "model_module": "@jupyter-widgets/controls",
          "model_name": "FloatProgressModel",
          "model_module_version": "1.5.0",
          "state": {
            "_dom_classes": [],
            "_model_module": "@jupyter-widgets/controls",
            "_model_module_version": "1.5.0",
            "_model_name": "FloatProgressModel",
            "_view_count": null,
            "_view_module": "@jupyter-widgets/controls",
            "_view_module_version": "1.5.0",
            "_view_name": "ProgressView",
            "bar_style": "success",
            "description": "",
            "description_tooltip": null,
            "layout": "IPY_MODEL_bd0eb8df93ba458cb173a871300c2e52",
            "max": 1,
            "min": 0,
            "orientation": "horizontal",
            "style": "IPY_MODEL_5fc725bba40149839c9fecb8d8fe99b5",
            "value": 1
          }
        },
        "0e098765cbd7403e8299a6afc551180d": {
          "model_module": "@jupyter-widgets/controls",
          "model_name": "HTMLModel",
          "model_module_version": "1.5.0",
          "state": {
            "_dom_classes": [],
            "_model_module": "@jupyter-widgets/controls",
            "_model_module_version": "1.5.0",
            "_model_name": "HTMLModel",
            "_view_count": null,
            "_view_module": "@jupyter-widgets/controls",
            "_view_module_version": "1.5.0",
            "_view_name": "HTMLView",
            "description": "",
            "description_tooltip": null,
            "layout": "IPY_MODEL_904fc976782f4682a6697f5b1a6b5878",
            "placeholder": "​",
            "style": "IPY_MODEL_c7b8e8baad3a400892f5710aafef5ba4",
            "value": " 2000/0 [00:00&lt;00:00, 5390.75 examples/s]"
          }
        },
        "ba9ccc3e2795410586bb214204dabfdb": {
          "model_module": "@jupyter-widgets/base",
          "model_name": "LayoutModel",
          "model_module_version": "1.2.0",
          "state": {
            "_model_module": "@jupyter-widgets/base",
            "_model_module_version": "1.2.0",
            "_model_name": "LayoutModel",
            "_view_count": null,
            "_view_module": "@jupyter-widgets/base",
            "_view_module_version": "1.2.0",
            "_view_name": "LayoutView",
            "align_content": null,
            "align_items": null,
            "align_self": null,
            "border": null,
            "bottom": null,
            "display": null,
            "flex": null,
            "flex_flow": null,
            "grid_area": null,
            "grid_auto_columns": null,
            "grid_auto_flow": null,
            "grid_auto_rows": null,
            "grid_column": null,
            "grid_gap": null,
            "grid_row": null,
            "grid_template_areas": null,
            "grid_template_columns": null,
            "grid_template_rows": null,
            "height": null,
            "justify_content": null,
            "justify_items": null,
            "left": null,
            "margin": null,
            "max_height": null,
            "max_width": null,
            "min_height": null,
            "min_width": null,
            "object_fit": null,
            "object_position": null,
            "order": null,
            "overflow": null,
            "overflow_x": null,
            "overflow_y": null,
            "padding": null,
            "right": null,
            "top": null,
            "visibility": null,
            "width": null
          }
        },
        "7912d38278c94216ae52128ea3b918af": {
          "model_module": "@jupyter-widgets/base",
          "model_name": "LayoutModel",
          "model_module_version": "1.2.0",
          "state": {
            "_model_module": "@jupyter-widgets/base",
            "_model_module_version": "1.2.0",
            "_model_name": "LayoutModel",
            "_view_count": null,
            "_view_module": "@jupyter-widgets/base",
            "_view_module_version": "1.2.0",
            "_view_name": "LayoutView",
            "align_content": null,
            "align_items": null,
            "align_self": null,
            "border": null,
            "bottom": null,
            "display": null,
            "flex": null,
            "flex_flow": null,
            "grid_area": null,
            "grid_auto_columns": null,
            "grid_auto_flow": null,
            "grid_auto_rows": null,
            "grid_column": null,
            "grid_gap": null,
            "grid_row": null,
            "grid_template_areas": null,
            "grid_template_columns": null,
            "grid_template_rows": null,
            "height": null,
            "justify_content": null,
            "justify_items": null,
            "left": null,
            "margin": null,
            "max_height": null,
            "max_width": null,
            "min_height": null,
            "min_width": null,
            "object_fit": null,
            "object_position": null,
            "order": null,
            "overflow": null,
            "overflow_x": null,
            "overflow_y": null,
            "padding": null,
            "right": null,
            "top": null,
            "visibility": null,
            "width": null
          }
        },
        "8bd7b0ac312e4c6b98bb1bc515c689b8": {
          "model_module": "@jupyter-widgets/controls",
          "model_name": "DescriptionStyleModel",
          "model_module_version": "1.5.0",
          "state": {
            "_model_module": "@jupyter-widgets/controls",
            "_model_module_version": "1.5.0",
            "_model_name": "DescriptionStyleModel",
            "_view_count": null,
            "_view_module": "@jupyter-widgets/base",
            "_view_module_version": "1.2.0",
            "_view_name": "StyleView",
            "description_width": ""
          }
        },
        "bd0eb8df93ba458cb173a871300c2e52": {
          "model_module": "@jupyter-widgets/base",
          "model_name": "LayoutModel",
          "model_module_version": "1.2.0",
          "state": {
            "_model_module": "@jupyter-widgets/base",
            "_model_module_version": "1.2.0",
            "_model_name": "LayoutModel",
            "_view_count": null,
            "_view_module": "@jupyter-widgets/base",
            "_view_module_version": "1.2.0",
            "_view_name": "LayoutView",
            "align_content": null,
            "align_items": null,
            "align_self": null,
            "border": null,
            "bottom": null,
            "display": null,
            "flex": null,
            "flex_flow": null,
            "grid_area": null,
            "grid_auto_columns": null,
            "grid_auto_flow": null,
            "grid_auto_rows": null,
            "grid_column": null,
            "grid_gap": null,
            "grid_row": null,
            "grid_template_areas": null,
            "grid_template_columns": null,
            "grid_template_rows": null,
            "height": null,
            "justify_content": null,
            "justify_items": null,
            "left": null,
            "margin": null,
            "max_height": null,
            "max_width": null,
            "min_height": null,
            "min_width": null,
            "object_fit": null,
            "object_position": null,
            "order": null,
            "overflow": null,
            "overflow_x": null,
            "overflow_y": null,
            "padding": null,
            "right": null,
            "top": null,
            "visibility": null,
            "width": "20px"
          }
        },
        "5fc725bba40149839c9fecb8d8fe99b5": {
          "model_module": "@jupyter-widgets/controls",
          "model_name": "ProgressStyleModel",
          "model_module_version": "1.5.0",
          "state": {
            "_model_module": "@jupyter-widgets/controls",
            "_model_module_version": "1.5.0",
            "_model_name": "ProgressStyleModel",
            "_view_count": null,
            "_view_module": "@jupyter-widgets/base",
            "_view_module_version": "1.2.0",
            "_view_name": "StyleView",
            "bar_color": null,
            "description_width": ""
          }
        },
        "904fc976782f4682a6697f5b1a6b5878": {
          "model_module": "@jupyter-widgets/base",
          "model_name": "LayoutModel",
          "model_module_version": "1.2.0",
          "state": {
            "_model_module": "@jupyter-widgets/base",
            "_model_module_version": "1.2.0",
            "_model_name": "LayoutModel",
            "_view_count": null,
            "_view_module": "@jupyter-widgets/base",
            "_view_module_version": "1.2.0",
            "_view_name": "LayoutView",
            "align_content": null,
            "align_items": null,
            "align_self": null,
            "border": null,
            "bottom": null,
            "display": null,
            "flex": null,
            "flex_flow": null,
            "grid_area": null,
            "grid_auto_columns": null,
            "grid_auto_flow": null,
            "grid_auto_rows": null,
            "grid_column": null,
            "grid_gap": null,
            "grid_row": null,
            "grid_template_areas": null,
            "grid_template_columns": null,
            "grid_template_rows": null,
            "height": null,
            "justify_content": null,
            "justify_items": null,
            "left": null,
            "margin": null,
            "max_height": null,
            "max_width": null,
            "min_height": null,
            "min_width": null,
            "object_fit": null,
            "object_position": null,
            "order": null,
            "overflow": null,
            "overflow_x": null,
            "overflow_y": null,
            "padding": null,
            "right": null,
            "top": null,
            "visibility": null,
            "width": null
          }
        },
        "c7b8e8baad3a400892f5710aafef5ba4": {
          "model_module": "@jupyter-widgets/controls",
          "model_name": "DescriptionStyleModel",
          "model_module_version": "1.5.0",
          "state": {
            "_model_module": "@jupyter-widgets/controls",
            "_model_module_version": "1.5.0",
            "_model_name": "DescriptionStyleModel",
            "_view_count": null,
            "_view_module": "@jupyter-widgets/base",
            "_view_module_version": "1.2.0",
            "_view_name": "StyleView",
            "description_width": ""
          }
        },
        "1646afdaccc54e61bd86ff78b7439763": {
          "model_module": "@jupyter-widgets/controls",
          "model_name": "HBoxModel",
          "model_module_version": "1.5.0",
          "state": {
            "_dom_classes": [],
            "_model_module": "@jupyter-widgets/controls",
            "_model_module_version": "1.5.0",
            "_model_name": "HBoxModel",
            "_view_count": null,
            "_view_module": "@jupyter-widgets/controls",
            "_view_module_version": "1.5.0",
            "_view_name": "HBoxView",
            "box_style": "",
            "children": [
              "IPY_MODEL_aff1bd38ea02475580c52417494896f3",
              "IPY_MODEL_3852a0994ae3437c8cf82a392c72e190",
              "IPY_MODEL_09dfc8c41fcd498b94354b758342b8f9"
            ],
            "layout": "IPY_MODEL_56a841e8db7f44149da952b4bf64caaf"
          }
        },
        "aff1bd38ea02475580c52417494896f3": {
          "model_module": "@jupyter-widgets/controls",
          "model_name": "HTMLModel",
          "model_module_version": "1.5.0",
          "state": {
            "_dom_classes": [],
            "_model_module": "@jupyter-widgets/controls",
            "_model_module_version": "1.5.0",
            "_model_name": "HTMLModel",
            "_view_count": null,
            "_view_module": "@jupyter-widgets/controls",
            "_view_module_version": "1.5.0",
            "_view_name": "HTMLView",
            "description": "",
            "description_tooltip": null,
            "layout": "IPY_MODEL_d05a3a0ebf3d45c5a5d4443477f4b523",
            "placeholder": "​",
            "style": "IPY_MODEL_a019a09065ac4777a156f9a34d9a63b7",
            "value": "Generating test split: "
          }
        },
        "3852a0994ae3437c8cf82a392c72e190": {
          "model_module": "@jupyter-widgets/controls",
          "model_name": "FloatProgressModel",
          "model_module_version": "1.5.0",
          "state": {
            "_dom_classes": [],
            "_model_module": "@jupyter-widgets/controls",
            "_model_module_version": "1.5.0",
            "_model_name": "FloatProgressModel",
            "_view_count": null,
            "_view_module": "@jupyter-widgets/controls",
            "_view_module_version": "1.5.0",
            "_view_name": "ProgressView",
            "bar_style": "success",
            "description": "",
            "description_tooltip": null,
            "layout": "IPY_MODEL_aee43e3dbe04474283c2acb84bfad2da",
            "max": 1,
            "min": 0,
            "orientation": "horizontal",
            "style": "IPY_MODEL_0e03acf09a864e5dbc19be919c982f58",
            "value": 1
          }
        },
        "09dfc8c41fcd498b94354b758342b8f9": {
          "model_module": "@jupyter-widgets/controls",
          "model_name": "HTMLModel",
          "model_module_version": "1.5.0",
          "state": {
            "_dom_classes": [],
            "_model_module": "@jupyter-widgets/controls",
            "_model_module_version": "1.5.0",
            "_model_name": "HTMLModel",
            "_view_count": null,
            "_view_module": "@jupyter-widgets/controls",
            "_view_module_version": "1.5.0",
            "_view_name": "HTMLView",
            "description": "",
            "description_tooltip": null,
            "layout": "IPY_MODEL_1e87af9b395b461ea20952820713ab6c",
            "placeholder": "​",
            "style": "IPY_MODEL_cd25551d33c04b1686259bd79827da5f",
            "value": " 2008/0 [00:00&lt;00:00, 4639.56 examples/s]"
          }
        },
        "56a841e8db7f44149da952b4bf64caaf": {
          "model_module": "@jupyter-widgets/base",
          "model_name": "LayoutModel",
          "model_module_version": "1.2.0",
          "state": {
            "_model_module": "@jupyter-widgets/base",
            "_model_module_version": "1.2.0",
            "_model_name": "LayoutModel",
            "_view_count": null,
            "_view_module": "@jupyter-widgets/base",
            "_view_module_version": "1.2.0",
            "_view_name": "LayoutView",
            "align_content": null,
            "align_items": null,
            "align_self": null,
            "border": null,
            "bottom": null,
            "display": null,
            "flex": null,
            "flex_flow": null,
            "grid_area": null,
            "grid_auto_columns": null,
            "grid_auto_flow": null,
            "grid_auto_rows": null,
            "grid_column": null,
            "grid_gap": null,
            "grid_row": null,
            "grid_template_areas": null,
            "grid_template_columns": null,
            "grid_template_rows": null,
            "height": null,
            "justify_content": null,
            "justify_items": null,
            "left": null,
            "margin": null,
            "max_height": null,
            "max_width": null,
            "min_height": null,
            "min_width": null,
            "object_fit": null,
            "object_position": null,
            "order": null,
            "overflow": null,
            "overflow_x": null,
            "overflow_y": null,
            "padding": null,
            "right": null,
            "top": null,
            "visibility": null,
            "width": null
          }
        },
        "d05a3a0ebf3d45c5a5d4443477f4b523": {
          "model_module": "@jupyter-widgets/base",
          "model_name": "LayoutModel",
          "model_module_version": "1.2.0",
          "state": {
            "_model_module": "@jupyter-widgets/base",
            "_model_module_version": "1.2.0",
            "_model_name": "LayoutModel",
            "_view_count": null,
            "_view_module": "@jupyter-widgets/base",
            "_view_module_version": "1.2.0",
            "_view_name": "LayoutView",
            "align_content": null,
            "align_items": null,
            "align_self": null,
            "border": null,
            "bottom": null,
            "display": null,
            "flex": null,
            "flex_flow": null,
            "grid_area": null,
            "grid_auto_columns": null,
            "grid_auto_flow": null,
            "grid_auto_rows": null,
            "grid_column": null,
            "grid_gap": null,
            "grid_row": null,
            "grid_template_areas": null,
            "grid_template_columns": null,
            "grid_template_rows": null,
            "height": null,
            "justify_content": null,
            "justify_items": null,
            "left": null,
            "margin": null,
            "max_height": null,
            "max_width": null,
            "min_height": null,
            "min_width": null,
            "object_fit": null,
            "object_position": null,
            "order": null,
            "overflow": null,
            "overflow_x": null,
            "overflow_y": null,
            "padding": null,
            "right": null,
            "top": null,
            "visibility": null,
            "width": null
          }
        },
        "a019a09065ac4777a156f9a34d9a63b7": {
          "model_module": "@jupyter-widgets/controls",
          "model_name": "DescriptionStyleModel",
          "model_module_version": "1.5.0",
          "state": {
            "_model_module": "@jupyter-widgets/controls",
            "_model_module_version": "1.5.0",
            "_model_name": "DescriptionStyleModel",
            "_view_count": null,
            "_view_module": "@jupyter-widgets/base",
            "_view_module_version": "1.2.0",
            "_view_name": "StyleView",
            "description_width": ""
          }
        },
        "aee43e3dbe04474283c2acb84bfad2da": {
          "model_module": "@jupyter-widgets/base",
          "model_name": "LayoutModel",
          "model_module_version": "1.2.0",
          "state": {
            "_model_module": "@jupyter-widgets/base",
            "_model_module_version": "1.2.0",
            "_model_name": "LayoutModel",
            "_view_count": null,
            "_view_module": "@jupyter-widgets/base",
            "_view_module_version": "1.2.0",
            "_view_name": "LayoutView",
            "align_content": null,
            "align_items": null,
            "align_self": null,
            "border": null,
            "bottom": null,
            "display": null,
            "flex": null,
            "flex_flow": null,
            "grid_area": null,
            "grid_auto_columns": null,
            "grid_auto_flow": null,
            "grid_auto_rows": null,
            "grid_column": null,
            "grid_gap": null,
            "grid_row": null,
            "grid_template_areas": null,
            "grid_template_columns": null,
            "grid_template_rows": null,
            "height": null,
            "justify_content": null,
            "justify_items": null,
            "left": null,
            "margin": null,
            "max_height": null,
            "max_width": null,
            "min_height": null,
            "min_width": null,
            "object_fit": null,
            "object_position": null,
            "order": null,
            "overflow": null,
            "overflow_x": null,
            "overflow_y": null,
            "padding": null,
            "right": null,
            "top": null,
            "visibility": null,
            "width": "20px"
          }
        },
        "0e03acf09a864e5dbc19be919c982f58": {
          "model_module": "@jupyter-widgets/controls",
          "model_name": "ProgressStyleModel",
          "model_module_version": "1.5.0",
          "state": {
            "_model_module": "@jupyter-widgets/controls",
            "_model_module_version": "1.5.0",
            "_model_name": "ProgressStyleModel",
            "_view_count": null,
            "_view_module": "@jupyter-widgets/base",
            "_view_module_version": "1.2.0",
            "_view_name": "StyleView",
            "bar_color": null,
            "description_width": ""
          }
        },
        "1e87af9b395b461ea20952820713ab6c": {
          "model_module": "@jupyter-widgets/base",
          "model_name": "LayoutModel",
          "model_module_version": "1.2.0",
          "state": {
            "_model_module": "@jupyter-widgets/base",
            "_model_module_version": "1.2.0",
            "_model_name": "LayoutModel",
            "_view_count": null,
            "_view_module": "@jupyter-widgets/base",
            "_view_module_version": "1.2.0",
            "_view_name": "LayoutView",
            "align_content": null,
            "align_items": null,
            "align_self": null,
            "border": null,
            "bottom": null,
            "display": null,
            "flex": null,
            "flex_flow": null,
            "grid_area": null,
            "grid_auto_columns": null,
            "grid_auto_flow": null,
            "grid_auto_rows": null,
            "grid_column": null,
            "grid_gap": null,
            "grid_row": null,
            "grid_template_areas": null,
            "grid_template_columns": null,
            "grid_template_rows": null,
            "height": null,
            "justify_content": null,
            "justify_items": null,
            "left": null,
            "margin": null,
            "max_height": null,
            "max_width": null,
            "min_height": null,
            "min_width": null,
            "object_fit": null,
            "object_position": null,
            "order": null,
            "overflow": null,
            "overflow_x": null,
            "overflow_y": null,
            "padding": null,
            "right": null,
            "top": null,
            "visibility": null,
            "width": null
          }
        },
        "cd25551d33c04b1686259bd79827da5f": {
          "model_module": "@jupyter-widgets/controls",
          "model_name": "DescriptionStyleModel",
          "model_module_version": "1.5.0",
          "state": {
            "_model_module": "@jupyter-widgets/controls",
            "_model_module_version": "1.5.0",
            "_model_name": "DescriptionStyleModel",
            "_view_count": null,
            "_view_module": "@jupyter-widgets/base",
            "_view_module_version": "1.2.0",
            "_view_name": "StyleView",
            "description_width": ""
          }
        },
        "d6dc5c81dfcc42c49f092c00ddd32136": {
          "model_module": "@jupyter-widgets/controls",
          "model_name": "HBoxModel",
          "model_module_version": "1.5.0",
          "state": {
            "_dom_classes": [],
            "_model_module": "@jupyter-widgets/controls",
            "_model_module_version": "1.5.0",
            "_model_name": "HBoxModel",
            "_view_count": null,
            "_view_module": "@jupyter-widgets/controls",
            "_view_module_version": "1.5.0",
            "_view_name": "HBoxView",
            "box_style": "",
            "children": [
              "IPY_MODEL_e3b5b5a4ddcf4c5b95dd59f42fa9b7a2",
              "IPY_MODEL_168e4c992f02462fbbe0725d89357a29",
              "IPY_MODEL_f7dcff52df0049b1a7e897d4d1afe3bf"
            ],
            "layout": "IPY_MODEL_efd89631ca2b4eaf8734e58eaf53ffb1"
          }
        },
        "e3b5b5a4ddcf4c5b95dd59f42fa9b7a2": {
          "model_module": "@jupyter-widgets/controls",
          "model_name": "HTMLModel",
          "model_module_version": "1.5.0",
          "state": {
            "_dom_classes": [],
            "_model_module": "@jupyter-widgets/controls",
            "_model_module_version": "1.5.0",
            "_model_name": "HTMLModel",
            "_view_count": null,
            "_view_module": "@jupyter-widgets/controls",
            "_view_module_version": "1.5.0",
            "_view_name": "HTMLView",
            "description": "",
            "description_tooltip": null,
            "layout": "IPY_MODEL_e42789405ab5425fbd219997ecec0ee3",
            "placeholder": "​",
            "style": "IPY_MODEL_e2903b0886354dbd9880e1c58b15158f",
            "value": "Calculating words metric: 100%"
          }
        },
        "168e4c992f02462fbbe0725d89357a29": {
          "model_module": "@jupyter-widgets/controls",
          "model_name": "FloatProgressModel",
          "model_module_version": "1.5.0",
          "state": {
            "_dom_classes": [],
            "_model_module": "@jupyter-widgets/controls",
            "_model_module_version": "1.5.0",
            "_model_name": "FloatProgressModel",
            "_view_count": null,
            "_view_module": "@jupyter-widgets/controls",
            "_view_module_version": "1.5.0",
            "_view_name": "ProgressView",
            "bar_style": "success",
            "description": "",
            "description_tooltip": null,
            "layout": "IPY_MODEL_be148d5418da4d31a19b2dd94d874ede",
            "max": 2008,
            "min": 0,
            "orientation": "horizontal",
            "style": "IPY_MODEL_b45afcecc975420aa6861690a65cf962",
            "value": 2008
          }
        },
        "f7dcff52df0049b1a7e897d4d1afe3bf": {
          "model_module": "@jupyter-widgets/controls",
          "model_name": "HTMLModel",
          "model_module_version": "1.5.0",
          "state": {
            "_dom_classes": [],
            "_model_module": "@jupyter-widgets/controls",
            "_model_module_version": "1.5.0",
            "_model_name": "HTMLModel",
            "_view_count": null,
            "_view_module": "@jupyter-widgets/controls",
            "_view_module_version": "1.5.0",
            "_view_name": "HTMLView",
            "description": "",
            "description_tooltip": null,
            "layout": "IPY_MODEL_fb6202fdc3b449548c5a0586960b64cc",
            "placeholder": "​",
            "style": "IPY_MODEL_7d12f41dddc4409aacf6224f93c534cc",
            "value": " 2008/2008 [00:07&lt;00:00, 193.59it/s]"
          }
        },
        "efd89631ca2b4eaf8734e58eaf53ffb1": {
          "model_module": "@jupyter-widgets/base",
          "model_name": "LayoutModel",
          "model_module_version": "1.2.0",
          "state": {
            "_model_module": "@jupyter-widgets/base",
            "_model_module_version": "1.2.0",
            "_model_name": "LayoutModel",
            "_view_count": null,
            "_view_module": "@jupyter-widgets/base",
            "_view_module_version": "1.2.0",
            "_view_name": "LayoutView",
            "align_content": null,
            "align_items": null,
            "align_self": null,
            "border": null,
            "bottom": null,
            "display": null,
            "flex": null,
            "flex_flow": null,
            "grid_area": null,
            "grid_auto_columns": null,
            "grid_auto_flow": null,
            "grid_auto_rows": null,
            "grid_column": null,
            "grid_gap": null,
            "grid_row": null,
            "grid_template_areas": null,
            "grid_template_columns": null,
            "grid_template_rows": null,
            "height": null,
            "justify_content": null,
            "justify_items": null,
            "left": null,
            "margin": null,
            "max_height": null,
            "max_width": null,
            "min_height": null,
            "min_width": null,
            "object_fit": null,
            "object_position": null,
            "order": null,
            "overflow": null,
            "overflow_x": null,
            "overflow_y": null,
            "padding": null,
            "right": null,
            "top": null,
            "visibility": null,
            "width": null
          }
        },
        "e42789405ab5425fbd219997ecec0ee3": {
          "model_module": "@jupyter-widgets/base",
          "model_name": "LayoutModel",
          "model_module_version": "1.2.0",
          "state": {
            "_model_module": "@jupyter-widgets/base",
            "_model_module_version": "1.2.0",
            "_model_name": "LayoutModel",
            "_view_count": null,
            "_view_module": "@jupyter-widgets/base",
            "_view_module_version": "1.2.0",
            "_view_name": "LayoutView",
            "align_content": null,
            "align_items": null,
            "align_self": null,
            "border": null,
            "bottom": null,
            "display": null,
            "flex": null,
            "flex_flow": null,
            "grid_area": null,
            "grid_auto_columns": null,
            "grid_auto_flow": null,
            "grid_auto_rows": null,
            "grid_column": null,
            "grid_gap": null,
            "grid_row": null,
            "grid_template_areas": null,
            "grid_template_columns": null,
            "grid_template_rows": null,
            "height": null,
            "justify_content": null,
            "justify_items": null,
            "left": null,
            "margin": null,
            "max_height": null,
            "max_width": null,
            "min_height": null,
            "min_width": null,
            "object_fit": null,
            "object_position": null,
            "order": null,
            "overflow": null,
            "overflow_x": null,
            "overflow_y": null,
            "padding": null,
            "right": null,
            "top": null,
            "visibility": null,
            "width": null
          }
        },
        "e2903b0886354dbd9880e1c58b15158f": {
          "model_module": "@jupyter-widgets/controls",
          "model_name": "DescriptionStyleModel",
          "model_module_version": "1.5.0",
          "state": {
            "_model_module": "@jupyter-widgets/controls",
            "_model_module_version": "1.5.0",
            "_model_name": "DescriptionStyleModel",
            "_view_count": null,
            "_view_module": "@jupyter-widgets/base",
            "_view_module_version": "1.2.0",
            "_view_name": "StyleView",
            "description_width": ""
          }
        },
        "be148d5418da4d31a19b2dd94d874ede": {
          "model_module": "@jupyter-widgets/base",
          "model_name": "LayoutModel",
          "model_module_version": "1.2.0",
          "state": {
            "_model_module": "@jupyter-widgets/base",
            "_model_module_version": "1.2.0",
            "_model_name": "LayoutModel",
            "_view_count": null,
            "_view_module": "@jupyter-widgets/base",
            "_view_module_version": "1.2.0",
            "_view_name": "LayoutView",
            "align_content": null,
            "align_items": null,
            "align_self": null,
            "border": null,
            "bottom": null,
            "display": null,
            "flex": null,
            "flex_flow": null,
            "grid_area": null,
            "grid_auto_columns": null,
            "grid_auto_flow": null,
            "grid_auto_rows": null,
            "grid_column": null,
            "grid_gap": null,
            "grid_row": null,
            "grid_template_areas": null,
            "grid_template_columns": null,
            "grid_template_rows": null,
            "height": null,
            "justify_content": null,
            "justify_items": null,
            "left": null,
            "margin": null,
            "max_height": null,
            "max_width": null,
            "min_height": null,
            "min_width": null,
            "object_fit": null,
            "object_position": null,
            "order": null,
            "overflow": null,
            "overflow_x": null,
            "overflow_y": null,
            "padding": null,
            "right": null,
            "top": null,
            "visibility": null,
            "width": null
          }
        },
        "b45afcecc975420aa6861690a65cf962": {
          "model_module": "@jupyter-widgets/controls",
          "model_name": "ProgressStyleModel",
          "model_module_version": "1.5.0",
          "state": {
            "_model_module": "@jupyter-widgets/controls",
            "_model_module_version": "1.5.0",
            "_model_name": "ProgressStyleModel",
            "_view_count": null,
            "_view_module": "@jupyter-widgets/base",
            "_view_module_version": "1.2.0",
            "_view_name": "StyleView",
            "bar_color": null,
            "description_width": ""
          }
        },
        "fb6202fdc3b449548c5a0586960b64cc": {
          "model_module": "@jupyter-widgets/base",
          "model_name": "LayoutModel",
          "model_module_version": "1.2.0",
          "state": {
            "_model_module": "@jupyter-widgets/base",
            "_model_module_version": "1.2.0",
            "_model_name": "LayoutModel",
            "_view_count": null,
            "_view_module": "@jupyter-widgets/base",
            "_view_module_version": "1.2.0",
            "_view_name": "LayoutView",
            "align_content": null,
            "align_items": null,
            "align_self": null,
            "border": null,
            "bottom": null,
            "display": null,
            "flex": null,
            "flex_flow": null,
            "grid_area": null,
            "grid_auto_columns": null,
            "grid_auto_flow": null,
            "grid_auto_rows": null,
            "grid_column": null,
            "grid_gap": null,
            "grid_row": null,
            "grid_template_areas": null,
            "grid_template_columns": null,
            "grid_template_rows": null,
            "height": null,
            "justify_content": null,
            "justify_items": null,
            "left": null,
            "margin": null,
            "max_height": null,
            "max_width": null,
            "min_height": null,
            "min_width": null,
            "object_fit": null,
            "object_position": null,
            "order": null,
            "overflow": null,
            "overflow_x": null,
            "overflow_y": null,
            "padding": null,
            "right": null,
            "top": null,
            "visibility": null,
            "width": null
          }
        },
        "7d12f41dddc4409aacf6224f93c534cc": {
          "model_module": "@jupyter-widgets/controls",
          "model_name": "DescriptionStyleModel",
          "model_module_version": "1.5.0",
          "state": {
            "_model_module": "@jupyter-widgets/controls",
            "_model_module_version": "1.5.0",
            "_model_name": "DescriptionStyleModel",
            "_view_count": null,
            "_view_module": "@jupyter-widgets/base",
            "_view_module_version": "1.2.0",
            "_view_name": "StyleView",
            "description_width": ""
          }
        },
        "777e7a21aa2446349cefa3f2b1ae41b3": {
          "model_module": "@jupyter-widgets/controls",
          "model_name": "HBoxModel",
          "model_module_version": "1.5.0",
          "state": {
            "_dom_classes": [],
            "_model_module": "@jupyter-widgets/controls",
            "_model_module_version": "1.5.0",
            "_model_name": "HBoxModel",
            "_view_count": null,
            "_view_module": "@jupyter-widgets/controls",
            "_view_module_version": "1.5.0",
            "_view_name": "HBoxView",
            "box_style": "",
            "children": [
              "IPY_MODEL_2fd4da8de345499ea5b4f5fcd5d3b1af",
              "IPY_MODEL_943aff3ac564486da51b0e962129853f",
              "IPY_MODEL_69297b6967a84cb49f99d12c913e6ed4"
            ],
            "layout": "IPY_MODEL_544525552d1b4d458f33395197b4a47a"
          }
        },
        "2fd4da8de345499ea5b4f5fcd5d3b1af": {
          "model_module": "@jupyter-widgets/controls",
          "model_name": "HTMLModel",
          "model_module_version": "1.5.0",
          "state": {
            "_dom_classes": [],
            "_model_module": "@jupyter-widgets/controls",
            "_model_module_version": "1.5.0",
            "_model_name": "HTMLModel",
            "_view_count": null,
            "_view_module": "@jupyter-widgets/controls",
            "_view_module_version": "1.5.0",
            "_view_name": "HTMLView",
            "description": "",
            "description_tooltip": null,
            "layout": "IPY_MODEL_c01f67fa20a545409b1eaa1b6549fbfa",
            "placeholder": "​",
            "style": "IPY_MODEL_6a413221af8c4a129a079319b0772fc6",
            "value": "Calculating words metric: 100%"
          }
        },
        "943aff3ac564486da51b0e962129853f": {
          "model_module": "@jupyter-widgets/controls",
          "model_name": "FloatProgressModel",
          "model_module_version": "1.5.0",
          "state": {
            "_dom_classes": [],
            "_model_module": "@jupyter-widgets/controls",
            "_model_module_version": "1.5.0",
            "_model_name": "FloatProgressModel",
            "_view_count": null,
            "_view_module": "@jupyter-widgets/controls",
            "_view_module_version": "1.5.0",
            "_view_name": "ProgressView",
            "bar_style": "success",
            "description": "",
            "description_tooltip": null,
            "layout": "IPY_MODEL_b4ea6c82da1142c6ab5865e2149f2e4c",
            "max": 2008,
            "min": 0,
            "orientation": "horizontal",
            "style": "IPY_MODEL_3fcfba02f63d4d6db5ecf7a0817d4957",
            "value": 2008
          }
        },
        "69297b6967a84cb49f99d12c913e6ed4": {
          "model_module": "@jupyter-widgets/controls",
          "model_name": "HTMLModel",
          "model_module_version": "1.5.0",
          "state": {
            "_dom_classes": [],
            "_model_module": "@jupyter-widgets/controls",
            "_model_module_version": "1.5.0",
            "_model_name": "HTMLModel",
            "_view_count": null,
            "_view_module": "@jupyter-widgets/controls",
            "_view_module_version": "1.5.0",
            "_view_name": "HTMLView",
            "description": "",
            "description_tooltip": null,
            "layout": "IPY_MODEL_c877f3fdf7e84c5696826333c184b7f8",
            "placeholder": "​",
            "style": "IPY_MODEL_3f881c472f0648b88056f7d3322dc7b5",
            "value": " 2008/2008 [00:08&lt;00:00, 216.47it/s]"
          }
        },
        "544525552d1b4d458f33395197b4a47a": {
          "model_module": "@jupyter-widgets/base",
          "model_name": "LayoutModel",
          "model_module_version": "1.2.0",
          "state": {
            "_model_module": "@jupyter-widgets/base",
            "_model_module_version": "1.2.0",
            "_model_name": "LayoutModel",
            "_view_count": null,
            "_view_module": "@jupyter-widgets/base",
            "_view_module_version": "1.2.0",
            "_view_name": "LayoutView",
            "align_content": null,
            "align_items": null,
            "align_self": null,
            "border": null,
            "bottom": null,
            "display": null,
            "flex": null,
            "flex_flow": null,
            "grid_area": null,
            "grid_auto_columns": null,
            "grid_auto_flow": null,
            "grid_auto_rows": null,
            "grid_column": null,
            "grid_gap": null,
            "grid_row": null,
            "grid_template_areas": null,
            "grid_template_columns": null,
            "grid_template_rows": null,
            "height": null,
            "justify_content": null,
            "justify_items": null,
            "left": null,
            "margin": null,
            "max_height": null,
            "max_width": null,
            "min_height": null,
            "min_width": null,
            "object_fit": null,
            "object_position": null,
            "order": null,
            "overflow": null,
            "overflow_x": null,
            "overflow_y": null,
            "padding": null,
            "right": null,
            "top": null,
            "visibility": null,
            "width": null
          }
        },
        "c01f67fa20a545409b1eaa1b6549fbfa": {
          "model_module": "@jupyter-widgets/base",
          "model_name": "LayoutModel",
          "model_module_version": "1.2.0",
          "state": {
            "_model_module": "@jupyter-widgets/base",
            "_model_module_version": "1.2.0",
            "_model_name": "LayoutModel",
            "_view_count": null,
            "_view_module": "@jupyter-widgets/base",
            "_view_module_version": "1.2.0",
            "_view_name": "LayoutView",
            "align_content": null,
            "align_items": null,
            "align_self": null,
            "border": null,
            "bottom": null,
            "display": null,
            "flex": null,
            "flex_flow": null,
            "grid_area": null,
            "grid_auto_columns": null,
            "grid_auto_flow": null,
            "grid_auto_rows": null,
            "grid_column": null,
            "grid_gap": null,
            "grid_row": null,
            "grid_template_areas": null,
            "grid_template_columns": null,
            "grid_template_rows": null,
            "height": null,
            "justify_content": null,
            "justify_items": null,
            "left": null,
            "margin": null,
            "max_height": null,
            "max_width": null,
            "min_height": null,
            "min_width": null,
            "object_fit": null,
            "object_position": null,
            "order": null,
            "overflow": null,
            "overflow_x": null,
            "overflow_y": null,
            "padding": null,
            "right": null,
            "top": null,
            "visibility": null,
            "width": null
          }
        },
        "6a413221af8c4a129a079319b0772fc6": {
          "model_module": "@jupyter-widgets/controls",
          "model_name": "DescriptionStyleModel",
          "model_module_version": "1.5.0",
          "state": {
            "_model_module": "@jupyter-widgets/controls",
            "_model_module_version": "1.5.0",
            "_model_name": "DescriptionStyleModel",
            "_view_count": null,
            "_view_module": "@jupyter-widgets/base",
            "_view_module_version": "1.2.0",
            "_view_name": "StyleView",
            "description_width": ""
          }
        },
        "b4ea6c82da1142c6ab5865e2149f2e4c": {
          "model_module": "@jupyter-widgets/base",
          "model_name": "LayoutModel",
          "model_module_version": "1.2.0",
          "state": {
            "_model_module": "@jupyter-widgets/base",
            "_model_module_version": "1.2.0",
            "_model_name": "LayoutModel",
            "_view_count": null,
            "_view_module": "@jupyter-widgets/base",
            "_view_module_version": "1.2.0",
            "_view_name": "LayoutView",
            "align_content": null,
            "align_items": null,
            "align_self": null,
            "border": null,
            "bottom": null,
            "display": null,
            "flex": null,
            "flex_flow": null,
            "grid_area": null,
            "grid_auto_columns": null,
            "grid_auto_flow": null,
            "grid_auto_rows": null,
            "grid_column": null,
            "grid_gap": null,
            "grid_row": null,
            "grid_template_areas": null,
            "grid_template_columns": null,
            "grid_template_rows": null,
            "height": null,
            "justify_content": null,
            "justify_items": null,
            "left": null,
            "margin": null,
            "max_height": null,
            "max_width": null,
            "min_height": null,
            "min_width": null,
            "object_fit": null,
            "object_position": null,
            "order": null,
            "overflow": null,
            "overflow_x": null,
            "overflow_y": null,
            "padding": null,
            "right": null,
            "top": null,
            "visibility": null,
            "width": null
          }
        },
        "3fcfba02f63d4d6db5ecf7a0817d4957": {
          "model_module": "@jupyter-widgets/controls",
          "model_name": "ProgressStyleModel",
          "model_module_version": "1.5.0",
          "state": {
            "_model_module": "@jupyter-widgets/controls",
            "_model_module_version": "1.5.0",
            "_model_name": "ProgressStyleModel",
            "_view_count": null,
            "_view_module": "@jupyter-widgets/base",
            "_view_module_version": "1.2.0",
            "_view_name": "StyleView",
            "bar_color": null,
            "description_width": ""
          }
        },
        "c877f3fdf7e84c5696826333c184b7f8": {
          "model_module": "@jupyter-widgets/base",
          "model_name": "LayoutModel",
          "model_module_version": "1.2.0",
          "state": {
            "_model_module": "@jupyter-widgets/base",
            "_model_module_version": "1.2.0",
            "_model_name": "LayoutModel",
            "_view_count": null,
            "_view_module": "@jupyter-widgets/base",
            "_view_module_version": "1.2.0",
            "_view_name": "LayoutView",
            "align_content": null,
            "align_items": null,
            "align_self": null,
            "border": null,
            "bottom": null,
            "display": null,
            "flex": null,
            "flex_flow": null,
            "grid_area": null,
            "grid_auto_columns": null,
            "grid_auto_flow": null,
            "grid_auto_rows": null,
            "grid_column": null,
            "grid_gap": null,
            "grid_row": null,
            "grid_template_areas": null,
            "grid_template_columns": null,
            "grid_template_rows": null,
            "height": null,
            "justify_content": null,
            "justify_items": null,
            "left": null,
            "margin": null,
            "max_height": null,
            "max_width": null,
            "min_height": null,
            "min_width": null,
            "object_fit": null,
            "object_position": null,
            "order": null,
            "overflow": null,
            "overflow_x": null,
            "overflow_y": null,
            "padding": null,
            "right": null,
            "top": null,
            "visibility": null,
            "width": null
          }
        },
        "3f881c472f0648b88056f7d3322dc7b5": {
          "model_module": "@jupyter-widgets/controls",
          "model_name": "DescriptionStyleModel",
          "model_module_version": "1.5.0",
          "state": {
            "_model_module": "@jupyter-widgets/controls",
            "_model_module_version": "1.5.0",
            "_model_name": "DescriptionStyleModel",
            "_view_count": null,
            "_view_module": "@jupyter-widgets/base",
            "_view_module_version": "1.2.0",
            "_view_name": "StyleView",
            "description_width": ""
          }
        },
        "3602aec550c54d5f81dc1bd049a12257": {
          "model_module": "@jupyter-widgets/controls",
          "model_name": "HBoxModel",
          "model_module_version": "1.5.0",
          "state": {
            "_dom_classes": [],
            "_model_module": "@jupyter-widgets/controls",
            "_model_module_version": "1.5.0",
            "_model_name": "HBoxModel",
            "_view_count": null,
            "_view_module": "@jupyter-widgets/controls",
            "_view_module_version": "1.5.0",
            "_view_name": "HBoxView",
            "box_style": "",
            "children": [
              "IPY_MODEL_11dd00d631394f68b150fab7e986dc32",
              "IPY_MODEL_472be791e3a347f6948a92b469e52dc4",
              "IPY_MODEL_8be93d06b4ea4f3a8705cace052bc09b"
            ],
            "layout": "IPY_MODEL_769a523f98fd4dd0a808802ff8ac8728"
          }
        },
        "11dd00d631394f68b150fab7e986dc32": {
          "model_module": "@jupyter-widgets/controls",
          "model_name": "HTMLModel",
          "model_module_version": "1.5.0",
          "state": {
            "_dom_classes": [],
            "_model_module": "@jupyter-widgets/controls",
            "_model_module_version": "1.5.0",
            "_model_name": "HTMLModel",
            "_view_count": null,
            "_view_module": "@jupyter-widgets/controls",
            "_view_module_version": "1.5.0",
            "_view_name": "HTMLView",
            "description": "",
            "description_tooltip": null,
            "layout": "IPY_MODEL_461cc0ee7b4d4c79aab7a802ae31fe2d",
            "placeholder": "​",
            "style": "IPY_MODEL_c6502ae96bcc4b79951fd49b88b9f15d",
            "value": "Calculating words metric: 100%"
          }
        },
        "472be791e3a347f6948a92b469e52dc4": {
          "model_module": "@jupyter-widgets/controls",
          "model_name": "FloatProgressModel",
          "model_module_version": "1.5.0",
          "state": {
            "_dom_classes": [],
            "_model_module": "@jupyter-widgets/controls",
            "_model_module_version": "1.5.0",
            "_model_name": "FloatProgressModel",
            "_view_count": null,
            "_view_module": "@jupyter-widgets/controls",
            "_view_module_version": "1.5.0",
            "_view_name": "ProgressView",
            "bar_style": "success",
            "description": "",
            "description_tooltip": null,
            "layout": "IPY_MODEL_300d5b8bf378414ea1e1687424d918e5",
            "max": 2008,
            "min": 0,
            "orientation": "horizontal",
            "style": "IPY_MODEL_4a84de36070242d2a6ff407a5074f2ad",
            "value": 2008
          }
        },
        "8be93d06b4ea4f3a8705cace052bc09b": {
          "model_module": "@jupyter-widgets/controls",
          "model_name": "HTMLModel",
          "model_module_version": "1.5.0",
          "state": {
            "_dom_classes": [],
            "_model_module": "@jupyter-widgets/controls",
            "_model_module_version": "1.5.0",
            "_model_name": "HTMLModel",
            "_view_count": null,
            "_view_module": "@jupyter-widgets/controls",
            "_view_module_version": "1.5.0",
            "_view_name": "HTMLView",
            "description": "",
            "description_tooltip": null,
            "layout": "IPY_MODEL_f80531d92f004e479e0aee81594fed89",
            "placeholder": "​",
            "style": "IPY_MODEL_b7656663b6ad4d4889adf8b38ab0f930",
            "value": " 2008/2008 [00:06&lt;00:00, 195.40it/s]"
          }
        },
        "769a523f98fd4dd0a808802ff8ac8728": {
          "model_module": "@jupyter-widgets/base",
          "model_name": "LayoutModel",
          "model_module_version": "1.2.0",
          "state": {
            "_model_module": "@jupyter-widgets/base",
            "_model_module_version": "1.2.0",
            "_model_name": "LayoutModel",
            "_view_count": null,
            "_view_module": "@jupyter-widgets/base",
            "_view_module_version": "1.2.0",
            "_view_name": "LayoutView",
            "align_content": null,
            "align_items": null,
            "align_self": null,
            "border": null,
            "bottom": null,
            "display": null,
            "flex": null,
            "flex_flow": null,
            "grid_area": null,
            "grid_auto_columns": null,
            "grid_auto_flow": null,
            "grid_auto_rows": null,
            "grid_column": null,
            "grid_gap": null,
            "grid_row": null,
            "grid_template_areas": null,
            "grid_template_columns": null,
            "grid_template_rows": null,
            "height": null,
            "justify_content": null,
            "justify_items": null,
            "left": null,
            "margin": null,
            "max_height": null,
            "max_width": null,
            "min_height": null,
            "min_width": null,
            "object_fit": null,
            "object_position": null,
            "order": null,
            "overflow": null,
            "overflow_x": null,
            "overflow_y": null,
            "padding": null,
            "right": null,
            "top": null,
            "visibility": null,
            "width": null
          }
        },
        "461cc0ee7b4d4c79aab7a802ae31fe2d": {
          "model_module": "@jupyter-widgets/base",
          "model_name": "LayoutModel",
          "model_module_version": "1.2.0",
          "state": {
            "_model_module": "@jupyter-widgets/base",
            "_model_module_version": "1.2.0",
            "_model_name": "LayoutModel",
            "_view_count": null,
            "_view_module": "@jupyter-widgets/base",
            "_view_module_version": "1.2.0",
            "_view_name": "LayoutView",
            "align_content": null,
            "align_items": null,
            "align_self": null,
            "border": null,
            "bottom": null,
            "display": null,
            "flex": null,
            "flex_flow": null,
            "grid_area": null,
            "grid_auto_columns": null,
            "grid_auto_flow": null,
            "grid_auto_rows": null,
            "grid_column": null,
            "grid_gap": null,
            "grid_row": null,
            "grid_template_areas": null,
            "grid_template_columns": null,
            "grid_template_rows": null,
            "height": null,
            "justify_content": null,
            "justify_items": null,
            "left": null,
            "margin": null,
            "max_height": null,
            "max_width": null,
            "min_height": null,
            "min_width": null,
            "object_fit": null,
            "object_position": null,
            "order": null,
            "overflow": null,
            "overflow_x": null,
            "overflow_y": null,
            "padding": null,
            "right": null,
            "top": null,
            "visibility": null,
            "width": null
          }
        },
        "c6502ae96bcc4b79951fd49b88b9f15d": {
          "model_module": "@jupyter-widgets/controls",
          "model_name": "DescriptionStyleModel",
          "model_module_version": "1.5.0",
          "state": {
            "_model_module": "@jupyter-widgets/controls",
            "_model_module_version": "1.5.0",
            "_model_name": "DescriptionStyleModel",
            "_view_count": null,
            "_view_module": "@jupyter-widgets/base",
            "_view_module_version": "1.2.0",
            "_view_name": "StyleView",
            "description_width": ""
          }
        },
        "300d5b8bf378414ea1e1687424d918e5": {
          "model_module": "@jupyter-widgets/base",
          "model_name": "LayoutModel",
          "model_module_version": "1.2.0",
          "state": {
            "_model_module": "@jupyter-widgets/base",
            "_model_module_version": "1.2.0",
            "_model_name": "LayoutModel",
            "_view_count": null,
            "_view_module": "@jupyter-widgets/base",
            "_view_module_version": "1.2.0",
            "_view_name": "LayoutView",
            "align_content": null,
            "align_items": null,
            "align_self": null,
            "border": null,
            "bottom": null,
            "display": null,
            "flex": null,
            "flex_flow": null,
            "grid_area": null,
            "grid_auto_columns": null,
            "grid_auto_flow": null,
            "grid_auto_rows": null,
            "grid_column": null,
            "grid_gap": null,
            "grid_row": null,
            "grid_template_areas": null,
            "grid_template_columns": null,
            "grid_template_rows": null,
            "height": null,
            "justify_content": null,
            "justify_items": null,
            "left": null,
            "margin": null,
            "max_height": null,
            "max_width": null,
            "min_height": null,
            "min_width": null,
            "object_fit": null,
            "object_position": null,
            "order": null,
            "overflow": null,
            "overflow_x": null,
            "overflow_y": null,
            "padding": null,
            "right": null,
            "top": null,
            "visibility": null,
            "width": null
          }
        },
        "4a84de36070242d2a6ff407a5074f2ad": {
          "model_module": "@jupyter-widgets/controls",
          "model_name": "ProgressStyleModel",
          "model_module_version": "1.5.0",
          "state": {
            "_model_module": "@jupyter-widgets/controls",
            "_model_module_version": "1.5.0",
            "_model_name": "ProgressStyleModel",
            "_view_count": null,
            "_view_module": "@jupyter-widgets/base",
            "_view_module_version": "1.2.0",
            "_view_name": "StyleView",
            "bar_color": null,
            "description_width": ""
          }
        },
        "f80531d92f004e479e0aee81594fed89": {
          "model_module": "@jupyter-widgets/base",
          "model_name": "LayoutModel",
          "model_module_version": "1.2.0",
          "state": {
            "_model_module": "@jupyter-widgets/base",
            "_model_module_version": "1.2.0",
            "_model_name": "LayoutModel",
            "_view_count": null,
            "_view_module": "@jupyter-widgets/base",
            "_view_module_version": "1.2.0",
            "_view_name": "LayoutView",
            "align_content": null,
            "align_items": null,
            "align_self": null,
            "border": null,
            "bottom": null,
            "display": null,
            "flex": null,
            "flex_flow": null,
            "grid_area": null,
            "grid_auto_columns": null,
            "grid_auto_flow": null,
            "grid_auto_rows": null,
            "grid_column": null,
            "grid_gap": null,
            "grid_row": null,
            "grid_template_areas": null,
            "grid_template_columns": null,
            "grid_template_rows": null,
            "height": null,
            "justify_content": null,
            "justify_items": null,
            "left": null,
            "margin": null,
            "max_height": null,
            "max_width": null,
            "min_height": null,
            "min_width": null,
            "object_fit": null,
            "object_position": null,
            "order": null,
            "overflow": null,
            "overflow_x": null,
            "overflow_y": null,
            "padding": null,
            "right": null,
            "top": null,
            "visibility": null,
            "width": null
          }
        },
        "b7656663b6ad4d4889adf8b38ab0f930": {
          "model_module": "@jupyter-widgets/controls",
          "model_name": "DescriptionStyleModel",
          "model_module_version": "1.5.0",
          "state": {
            "_model_module": "@jupyter-widgets/controls",
            "_model_module_version": "1.5.0",
            "_model_name": "DescriptionStyleModel",
            "_view_count": null,
            "_view_module": "@jupyter-widgets/base",
            "_view_module_version": "1.2.0",
            "_view_name": "StyleView",
            "description_width": ""
          }
        }
      }
    }
  },
  "nbformat": 4,
  "nbformat_minor": 0
}